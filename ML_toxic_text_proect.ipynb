{
 "cells": [
  {
   "cell_type": "markdown",
   "id": "dc45b084",
   "metadata": {},
   "source": [
    "<h1>Содержание<span class=\"tocSkip\"></span></h1>\n",
    "<div class=\"toc\"><ul class=\"toc-item\"><li><span><a href=\"#Подготовка\" data-toc-modified-id=\"Подготовка-1\"><span class=\"toc-item-num\">1&nbsp;&nbsp;</span>Подготовка</a></span></li><li><span><a href=\"#Обучение\" data-toc-modified-id=\"Обучение-2\"><span class=\"toc-item-num\">2&nbsp;&nbsp;</span>Обучение</a></span></li><li><span><a href=\"#Выводы\" data-toc-modified-id=\"Выводы-3\"><span class=\"toc-item-num\">3&nbsp;&nbsp;</span>Выводы</a></span></li><li><span><a href=\"#Чек-лист-проверки\" data-toc-modified-id=\"Чек-лист-проверки-4\"><span class=\"toc-item-num\">4&nbsp;&nbsp;</span>Чек-лист проверки</a></span></li></ul></div>"
   ]
  },
  {
   "cell_type": "markdown",
   "id": "d92e0809",
   "metadata": {},
   "source": [
    "# Проект для «Викишоп»"
   ]
  },
  {
   "cell_type": "markdown",
   "id": "c333dd48",
   "metadata": {},
   "source": [
    "Интернет-магазин «Викишоп» запускает новый сервис. Теперь пользователи могут редактировать и дополнять описания товаров, как в вики-сообществах. То есть клиенты предлагают свои правки и комментируют изменения других. Магазину нужен инструмент, который будет искать токсичные комментарии и отправлять их на модерацию. \n",
    "\n",
    "Обучите модель классифицировать комментарии на позитивные и негативные. В вашем распоряжении набор данных с разметкой о токсичности правок.\n",
    "\n",
    "Постройте модель со значением метрики качества *F1* не меньше 0.75. \n",
    "\n",
    "**Инструкция по выполнению проекта**\n",
    "\n",
    "1. Загрузите и подготовьте данные.\n",
    "2. Обучите разные модели. \n",
    "3. Сделайте выводы.\n",
    "\n",
    "Для выполнения проекта применять *BERT* необязательно, но вы можете попробовать.\n",
    "\n",
    "**Описание данных**\n",
    "\n",
    "Данные находятся в файле `toxic_comments.csv`. Столбец *text* в нём содержит текст комментария, а *toxic* — целевой признак."
   ]
  },
  {
   "cell_type": "markdown",
   "id": "3662a6a5",
   "metadata": {},
   "source": [
    "# 1 Подготовка"
   ]
  },
  {
   "cell_type": "code",
   "execution_count": 1,
   "id": "7658c8f1",
   "metadata": {},
   "outputs": [
    {
     "name": "stderr",
     "output_type": "stream",
     "text": [
      "[nltk_data] Downloading package wordnet to /home/jovyan/nltk_data...\n",
      "[nltk_data]   Package wordnet is already up-to-date!\n"
     ]
    }
   ],
   "source": [
    "import pandas as pd \n",
    "import numpy as np \n",
    "import re\n",
    "import nltk\n",
    "from tqdm import tqdm\n",
    "nltk.download('wordnet')\n",
    "from nltk.corpus import stopwords as nltk_stopwords\n",
    "from sklearn.feature_extraction.text import TfidfVectorizer \n",
    "from nltk.corpus import stopwords\n",
    "from nltk.stem import WordNetLemmatizer \n",
    "from sklearn.model_selection import train_test_split, cross_val_score, GridSearchCV\n",
    "from tqdm import tqdm\n",
    "from sklearn.linear_model import LogisticRegression\n",
    "from sklearn.metrics import f1_score\n",
    "from sklearn.ensemble import RandomForestClassifier\n",
    "import matplotlib.pyplot as plt \n",
    "import seaborn as sns \n",
    "\n",
    "import catboost as cb\n",
    "from catboost import CatBoostClassifier"
   ]
  },
  {
   "cell_type": "code",
   "execution_count": 45,
   "id": "c00c97b2",
   "metadata": {},
   "outputs": [
    {
     "name": "stdout",
     "output_type": "stream",
     "text": [
      "<class 'pandas.core.frame.DataFrame'>\n",
      "RangeIndex: 159292 entries, 0 to 159291\n",
      "Data columns (total 3 columns):\n",
      " #   Column      Non-Null Count   Dtype \n",
      "---  ------      --------------   ----- \n",
      " 0   Unnamed: 0  159292 non-null  int64 \n",
      " 1   text        159292 non-null  object\n",
      " 2   toxic       159292 non-null  int64 \n",
      "dtypes: int64(2), object(1)\n",
      "memory usage: 3.6+ MB\n"
     ]
    }
   ],
   "source": [
    "df = pd.read_csv('/datasets/toxic_comments.csv')\n",
    "df.info()"
   ]
  },
  {
   "cell_type": "code",
   "execution_count": 46,
   "id": "a08ed40f",
   "metadata": {},
   "outputs": [
    {
     "data": {
      "text/html": [
       "<div>\n",
       "<style scoped>\n",
       "    .dataframe tbody tr th:only-of-type {\n",
       "        vertical-align: middle;\n",
       "    }\n",
       "\n",
       "    .dataframe tbody tr th {\n",
       "        vertical-align: top;\n",
       "    }\n",
       "\n",
       "    .dataframe thead th {\n",
       "        text-align: right;\n",
       "    }\n",
       "</style>\n",
       "<table border=\"1\" class=\"dataframe\">\n",
       "  <thead>\n",
       "    <tr style=\"text-align: right;\">\n",
       "      <th></th>\n",
       "      <th>Unnamed: 0</th>\n",
       "      <th>text</th>\n",
       "      <th>toxic</th>\n",
       "    </tr>\n",
       "  </thead>\n",
       "  <tbody>\n",
       "    <tr>\n",
       "      <th>0</th>\n",
       "      <td>0</td>\n",
       "      <td>Explanation\\nWhy the edits made under my usern...</td>\n",
       "      <td>0</td>\n",
       "    </tr>\n",
       "    <tr>\n",
       "      <th>1</th>\n",
       "      <td>1</td>\n",
       "      <td>D'aww! He matches this background colour I'm s...</td>\n",
       "      <td>0</td>\n",
       "    </tr>\n",
       "    <tr>\n",
       "      <th>2</th>\n",
       "      <td>2</td>\n",
       "      <td>Hey man, I'm really not trying to edit war. It...</td>\n",
       "      <td>0</td>\n",
       "    </tr>\n",
       "    <tr>\n",
       "      <th>3</th>\n",
       "      <td>3</td>\n",
       "      <td>\"\\nMore\\nI can't make any real suggestions on ...</td>\n",
       "      <td>0</td>\n",
       "    </tr>\n",
       "    <tr>\n",
       "      <th>4</th>\n",
       "      <td>4</td>\n",
       "      <td>You, sir, are my hero. Any chance you remember...</td>\n",
       "      <td>0</td>\n",
       "    </tr>\n",
       "  </tbody>\n",
       "</table>\n",
       "</div>"
      ],
      "text/plain": [
       "   Unnamed: 0                                               text  toxic\n",
       "0           0  Explanation\\nWhy the edits made under my usern...      0\n",
       "1           1  D'aww! He matches this background colour I'm s...      0\n",
       "2           2  Hey man, I'm really not trying to edit war. It...      0\n",
       "3           3  \"\\nMore\\nI can't make any real suggestions on ...      0\n",
       "4           4  You, sir, are my hero. Any chance you remember...      0"
      ]
     },
     "execution_count": 46,
     "metadata": {},
     "output_type": "execute_result"
    }
   ],
   "source": [
    "df.head()"
   ]
  },
  {
   "cell_type": "code",
   "execution_count": 47,
   "id": "d92a99c5",
   "metadata": {},
   "outputs": [
    {
     "data": {
      "text/html": [
       "<div>\n",
       "<style scoped>\n",
       "    .dataframe tbody tr th:only-of-type {\n",
       "        vertical-align: middle;\n",
       "    }\n",
       "\n",
       "    .dataframe tbody tr th {\n",
       "        vertical-align: top;\n",
       "    }\n",
       "\n",
       "    .dataframe thead th {\n",
       "        text-align: right;\n",
       "    }\n",
       "</style>\n",
       "<table border=\"1\" class=\"dataframe\">\n",
       "  <thead>\n",
       "    <tr style=\"text-align: right;\">\n",
       "      <th></th>\n",
       "      <th>text</th>\n",
       "      <th>toxic</th>\n",
       "    </tr>\n",
       "  </thead>\n",
       "  <tbody>\n",
       "    <tr>\n",
       "      <th>0</th>\n",
       "      <td>Explanation\\nWhy the edits made under my usern...</td>\n",
       "      <td>0</td>\n",
       "    </tr>\n",
       "    <tr>\n",
       "      <th>1</th>\n",
       "      <td>D'aww! He matches this background colour I'm s...</td>\n",
       "      <td>0</td>\n",
       "    </tr>\n",
       "    <tr>\n",
       "      <th>2</th>\n",
       "      <td>Hey man, I'm really not trying to edit war. It...</td>\n",
       "      <td>0</td>\n",
       "    </tr>\n",
       "    <tr>\n",
       "      <th>3</th>\n",
       "      <td>\"\\nMore\\nI can't make any real suggestions on ...</td>\n",
       "      <td>0</td>\n",
       "    </tr>\n",
       "    <tr>\n",
       "      <th>4</th>\n",
       "      <td>You, sir, are my hero. Any chance you remember...</td>\n",
       "      <td>0</td>\n",
       "    </tr>\n",
       "  </tbody>\n",
       "</table>\n",
       "</div>"
      ],
      "text/plain": [
       "                                                text  toxic\n",
       "0  Explanation\\nWhy the edits made under my usern...      0\n",
       "1  D'aww! He matches this background colour I'm s...      0\n",
       "2  Hey man, I'm really not trying to edit war. It...      0\n",
       "3  \"\\nMore\\nI can't make any real suggestions on ...      0\n",
       "4  You, sir, are my hero. Any chance you remember...      0"
      ]
     },
     "execution_count": 47,
     "metadata": {},
     "output_type": "execute_result"
    }
   ],
   "source": [
    "df = df.drop(['Unnamed: 0'], axis =1)\n",
    "df.head()"
   ]
  },
  {
   "cell_type": "code",
   "execution_count": 29,
   "id": "b34abf3c",
   "metadata": {},
   "outputs": [],
   "source": [
    "corpus = df['text'].values\n"
   ]
  },
  {
   "cell_type": "code",
   "execution_count": 5,
   "id": "28fea000",
   "metadata": {},
   "outputs": [
    {
     "name": "stdout",
     "output_type": "stream",
     "text": [
      "Количество дубликатов: 0\n"
     ]
    }
   ],
   "source": [
    "print(f\"Количество дубликатов: {df.duplicated().sum()}\")"
   ]
  },
  {
   "cell_type": "code",
   "execution_count": 30,
   "id": "2ef45f44",
   "metadata": {},
   "outputs": [
    {
     "data": {
      "text/plain": [
       "0    143106\n",
       "1     16186\n",
       "Name: toxic, dtype: int64"
      ]
     },
     "metadata": {},
     "output_type": "display_data"
    },
    {
     "data": {
      "text/plain": [
       "8.841344371679229"
      ]
     },
     "execution_count": 30,
     "metadata": {},
     "output_type": "execute_result"
    }
   ],
   "source": [
    "display(df['toxic'].value_counts())\n",
    "class_ratio = df['toxic'].value_counts()[0] / df['toxic'].value_counts()[1]\n",
    "class_ratio"
   ]
  },
  {
   "cell_type": "code",
   "execution_count": 31,
   "id": "d04a1b12",
   "metadata": {},
   "outputs": [],
   "source": [
    "wnl = WordNetLemmatizer()\n",
    "\n",
    "def clear_and_lemm(text):\n",
    "    pattern = re.sub(r'[^a-zA-Z]', ' ', text)\n",
    "    clear = pattern.split()\n",
    "    lemm = []\n",
    "    for i in range(len(clear)):\n",
    "        lemm.append(wnl.lemmatize(clear[i]))\n",
    "    return \" \".join(lemm)"
   ]
  },
  {
   "cell_type": "markdown",
   "id": "1d0ba4ef",
   "metadata": {},
   "source": [
    "<div class=\"alert alert-block alert-info\">\n",
    "\n",
    "<b>Совет:</b> Для более корректной работы WordNetLemmatizer желательно передавать, еще POS-теги слов\n",
    "</div>\n",
    "\n"
   ]
  },
  {
   "cell_type": "code",
   "execution_count": 33,
   "id": "2156ab94",
   "metadata": {},
   "outputs": [
    {
     "name": "stderr",
     "output_type": "stream",
     "text": [
      "100%|██████████| 159292/159292 [00:35<00:00, 4451.41it/s]\n"
     ]
    }
   ],
   "source": [
    "# с помощью итератора tgdm задаем цикл по исполнению функции лемматизации текста и очистки его от лишних символов \n",
    "for i in tqdm(range(len(corpus))):\n",
    "    corpus[i] = clear_and_lemm(corpus[i])"
   ]
  },
  {
   "cell_type": "code",
   "execution_count": 48,
   "id": "44301370",
   "metadata": {},
   "outputs": [
    {
     "data": {
      "text/html": [
       "<div>\n",
       "<style scoped>\n",
       "    .dataframe tbody tr th:only-of-type {\n",
       "        vertical-align: middle;\n",
       "    }\n",
       "\n",
       "    .dataframe tbody tr th {\n",
       "        vertical-align: top;\n",
       "    }\n",
       "\n",
       "    .dataframe thead th {\n",
       "        text-align: right;\n",
       "    }\n",
       "</style>\n",
       "<table border=\"1\" class=\"dataframe\">\n",
       "  <thead>\n",
       "    <tr style=\"text-align: right;\">\n",
       "      <th></th>\n",
       "      <th>text</th>\n",
       "      <th>toxic</th>\n",
       "      <th>lemm_text</th>\n",
       "    </tr>\n",
       "  </thead>\n",
       "  <tbody>\n",
       "    <tr>\n",
       "      <th>0</th>\n",
       "      <td>Explanation\\nWhy the edits made under my usern...</td>\n",
       "      <td>0</td>\n",
       "      <td>Explanation Why the edits made under my userna...</td>\n",
       "    </tr>\n",
       "    <tr>\n",
       "      <th>1</th>\n",
       "      <td>D'aww! He matches this background colour I'm s...</td>\n",
       "      <td>0</td>\n",
       "      <td>D aww He match this background colour I m seem...</td>\n",
       "    </tr>\n",
       "    <tr>\n",
       "      <th>2</th>\n",
       "      <td>Hey man, I'm really not trying to edit war. It...</td>\n",
       "      <td>0</td>\n",
       "      <td>Hey man I m really not trying to edit war It s...</td>\n",
       "    </tr>\n",
       "    <tr>\n",
       "      <th>3</th>\n",
       "      <td>\"\\nMore\\nI can't make any real suggestions on ...</td>\n",
       "      <td>0</td>\n",
       "      <td>More I can t make any real suggestion on impro...</td>\n",
       "    </tr>\n",
       "    <tr>\n",
       "      <th>4</th>\n",
       "      <td>You, sir, are my hero. Any chance you remember...</td>\n",
       "      <td>0</td>\n",
       "      <td>You sir are my hero Any chance you remember wh...</td>\n",
       "    </tr>\n",
       "  </tbody>\n",
       "</table>\n",
       "</div>"
      ],
      "text/plain": [
       "                                                text  toxic  \\\n",
       "0  Explanation\\nWhy the edits made under my usern...      0   \n",
       "1  D'aww! He matches this background colour I'm s...      0   \n",
       "2  Hey man, I'm really not trying to edit war. It...      0   \n",
       "3  \"\\nMore\\nI can't make any real suggestions on ...      0   \n",
       "4  You, sir, are my hero. Any chance you remember...      0   \n",
       "\n",
       "                                           lemm_text  \n",
       "0  Explanation Why the edits made under my userna...  \n",
       "1  D aww He match this background colour I m seem...  \n",
       "2  Hey man I m really not trying to edit war It s...  \n",
       "3  More I can t make any real suggestion on impro...  \n",
       "4  You sir are my hero Any chance you remember wh...  "
      ]
     },
     "metadata": {},
     "output_type": "display_data"
    },
    {
     "name": "stdout",
     "output_type": "stream",
     "text": [
      "<class 'pandas.core.frame.DataFrame'>\n",
      "RangeIndex: 159292 entries, 0 to 159291\n",
      "Data columns (total 3 columns):\n",
      " #   Column     Non-Null Count   Dtype \n",
      "---  ------     --------------   ----- \n",
      " 0   text       159292 non-null  object\n",
      " 1   toxic      159292 non-null  int64 \n",
      " 2   lemm_text  159292 non-null  object\n",
      "dtypes: int64(1), object(2)\n",
      "memory usage: 3.6+ MB\n"
     ]
    }
   ],
   "source": [
    "df_corpus = pd.DataFrame(corpus)\n",
    "df['lemm_text'] = df_corpus[0]\n",
    "\n",
    "display(df.head())\n",
    "df.info()"
   ]
  },
  {
   "cell_type": "markdown",
   "id": "893390a0",
   "metadata": {},
   "source": [
    "#### Вывод по первому разделу:\n",
    "\n",
    "- Входе подготовки данных к обучению моделей, мы получили корректные данные без пропусков и дубликатов. Была проведена лимматизация текста, так же были удалены \"лишние символы\", которые будут занимать дополнительный объем памяти при векторизации. "
   ]
  },
  {
   "cell_type": "markdown",
   "id": "ef80315b",
   "metadata": {},
   "source": [
    "# 2 Обучение моделей "
   ]
  },
  {
   "cell_type": "code",
   "execution_count": 10,
   "id": "b22bdec5",
   "metadata": {},
   "outputs": [],
   "source": [
    "features = df['lemm_text']\n",
    "target = df['toxic']\n",
    "\n",
    "features_train, features_valid, target_train, target_valid = train_test_split(features, \n",
    "                                                                              target, \n",
    "                                                                              test_size=0.4, \n",
    "                                                                              random_state=12345)\n",
    "features_valid, features_test, target_valid, target_test = train_test_split(features_valid, \n",
    "                                                                            target_valid, \n",
    "                                                                            test_size=0.4,\n",
    "                                                                            random_state=12345)\n"
   ]
  },
  {
   "cell_type": "code",
   "execution_count": 11,
   "id": "52775c07",
   "metadata": {},
   "outputs": [
    {
     "name": "stderr",
     "output_type": "stream",
     "text": [
      "[nltk_data] Downloading package stopwords to /home/jovyan/nltk_data...\n",
      "[nltk_data]   Package stopwords is already up-to-date!\n"
     ]
    }
   ],
   "source": [
    "# избавляемся от лишних слов в дата фрейме \n",
    "try:\n",
    "    nltk.download('stopwords')\n",
    "except:\n",
    "    pass\n",
    "#Объявляю набор стоп-слов \n",
    "try:\n",
    "    stopwords = set(stopwords.words('english'))\n",
    "except:\n",
    "    pass\n",
    "#Создаем TFIDF-векторизатор\n",
    "count_tf_idf = TfidfVectorizer(stop_words=stopwords) \n",
    "#Производим векторизацию текстов\n",
    "features_train = count_tf_idf.fit_transform(features_train)\n",
    "features_valid = count_tf_idf.transform(features_valid)\n",
    "features_test = count_tf_idf.transform(features_test)"
   ]
  },
  {
   "cell_type": "code",
   "execution_count": 12,
   "id": "df57aed1",
   "metadata": {},
   "outputs": [
    {
     "name": "stdout",
     "output_type": "stream",
     "text": [
      "(95575, 121115)\n",
      "(38230, 121115)\n",
      "(25487, 121115)\n",
      "(95575,)\n",
      "(38230,)\n",
      "(25487,)\n"
     ]
    }
   ],
   "source": [
    "print(features_train.shape)\n",
    "print(features_valid.shape)\n",
    "print(features_test.shape)\n",
    "print(target_train.shape)\n",
    "print(target_valid.shape)\n",
    "print(target_test.shape)"
   ]
  },
  {
   "cell_type": "markdown",
   "id": "b8981ac5",
   "metadata": {},
   "source": [
    "#### Для обучения и последующего анализа были выбраны модели Логистическая регрессия, Случайный лес и модель градиентного бустинга CatBoost."
   ]
  },
  {
   "cell_type": "markdown",
   "id": "a1d402af",
   "metadata": {},
   "source": [
    "### Логистическая регрессия "
   ]
  },
  {
   "cell_type": "code",
   "execution_count": 13,
   "id": "c291220e",
   "metadata": {},
   "outputs": [
    {
     "name": "stdout",
     "output_type": "stream",
     "text": [
      "Среднее качество модели Логистической регрессии на кросс-валидации: 0.7442873549454857\n"
     ]
    }
   ],
   "source": [
    "#Обучаем и проверяе Логистическую регрессию на кросс-валидации, указываю параметр class_weight = 'balanced'\n",
    "regression = LogisticRegression(fit_intercept=True, \n",
    "                                class_weight='balanced', \n",
    "                                random_state=42,\n",
    "                                solver='liblinear'\n",
    "                               )\n",
    "#Определяю словарь с набором параметров\n",
    "regression_parametrs = {'C': [0.1, 1, 10]}\n",
    "\n",
    "#Применяю GridSearchCV с кросс-валидацией\n",
    "regression_grid = GridSearchCV(regression, regression_parametrs, scoring='f1', cv=3)\n",
    "regression_grid.fit(features_train, target_train)\n",
    "\n",
    "regression.fit(features_train, target_train)\n",
    "regression_cv_score = cross_val_score(regression,features_train, target_train,scoring='f1',cv=3).mean()\n",
    "print('Среднее качество модели Логистической регрессии на кросс-валидации:', regression_cv_score)\n"
   ]
  },
  {
   "cell_type": "code",
   "execution_count": 14,
   "id": "77ed8397",
   "metadata": {},
   "outputs": [
    {
     "name": "stdout",
     "output_type": "stream",
     "text": [
      "{'C': 10}\n",
      "0.9240530667179389\n"
     ]
    }
   ],
   "source": [
    "regression_params = regression_grid.best_params_\n",
    "regression_score = regression_grid.score(features_train, target_train)\n",
    "print(regression_params)\n",
    "print(regression_score)"
   ]
  },
  {
   "cell_type": "code",
   "execution_count": 15,
   "id": "28a7efd5",
   "metadata": {},
   "outputs": [],
   "source": [
    "regression_model = LogisticRegression(fit_intercept=True,\n",
    "                                class_weight='balanced',\n",
    "                                random_state=42,\n",
    "                                solver='liblinear',\n",
    "                                C=regression_params['C']\n",
    "                               )\n",
    "\n",
    "regression_model.fit(features_train, target_train)\n",
    "regression_model_predictions = regression_model.predict(features_valid)"
   ]
  },
  {
   "cell_type": "code",
   "execution_count": 16,
   "id": "97de3953",
   "metadata": {},
   "outputs": [
    {
     "name": "stdout",
     "output_type": "stream",
     "text": [
      "Метрика качества F1 для Линейной регресии на валидационной выборке равна 0.757\n"
     ]
    }
   ],
   "source": [
    "regression_predictions = regression_model.predict(features_valid)\n",
    "regression_f1 = round(f1_score(target_valid, regression_predictions), 3) \n",
    "print(f'Метрика качества F1 для Линейной регресии на валидационной выборке равна {regression_f1}')"
   ]
  },
  {
   "cell_type": "code",
   "execution_count": 17,
   "id": "610515f4",
   "metadata": {},
   "outputs": [
    {
     "data": {
      "text/plain": [
       "<25487x121115 sparse matrix of type '<class 'numpy.float64'>'\n",
       "\twith 681377 stored elements in Compressed Sparse Row format>"
      ]
     },
     "execution_count": 17,
     "metadata": {},
     "output_type": "execute_result"
    }
   ],
   "source": [
    "features_test"
   ]
  },
  {
   "cell_type": "code",
   "execution_count": 19,
   "id": "08d4fddc",
   "metadata": {},
   "outputs": [
    {
     "name": "stdout",
     "output_type": "stream",
     "text": [
      "Метрика качества F1 для Линейной регресии на тестовой выборке равна 0.755\n"
     ]
    }
   ],
   "source": [
    "# Проводим тестирование лучше модели Линейная регрессия на тестовой выборке\n",
    "\n",
    "regression_predictions_test = regression_model.predict(features_test)\n",
    "regression_f1_test  = round(f1_score(target_test, regression_predictions_test), 3) \n",
    "print(f'Метрика качества F1 для Линейной регресии на тестовой выборке равна {regression_f1_test}')\n"
   ]
  },
  {
   "cell_type": "markdown",
   "id": "f549e1f9",
   "metadata": {},
   "source": [
    "### Случайный лес "
   ]
  },
  {
   "cell_type": "code",
   "execution_count": 20,
   "id": "0197dcc2",
   "metadata": {},
   "outputs": [
    {
     "data": {
      "text/plain": [
       "GridSearchCV(cv=3,\n",
       "             estimator=RandomForestClassifier(class_weight='balanced',\n",
       "                                              n_jobs=-1),\n",
       "             param_grid={'max_depth': range(4, 8, 2),\n",
       "                         'min_samples_leaf': range(3, 5),\n",
       "                         'min_samples_split': range(2, 6, 2),\n",
       "                         'n_estimators': range(20, 40, 5)},\n",
       "             scoring='f1')"
      ]
     },
     "execution_count": 20,
     "metadata": {},
     "output_type": "execute_result"
    }
   ],
   "source": [
    "#Подбираем оптимальные гиперпараметры для Случайного леса на кросс-валидации, параметр class_weight = 'balanced'\n",
    "forest = RandomForestClassifier(class_weight='balanced', n_jobs=-1 )\n",
    "#Определяю словарь с набором параметров\n",
    "forest_parametrs = { 'n_estimators': range(20, 40, 5),\n",
    "                     'max_depth': range(4, 8, 2),\n",
    "                     'min_samples_leaf': range(3,5),\n",
    "                     'min_samples_split': range(2,6,2)}\n",
    "\n",
    "#Применяю GridSearchCV с кросс-валидацией\n",
    "forest_grid = GridSearchCV(forest, forest_parametrs, scoring='f1', cv=3)\n",
    "forest_grid.fit(features_train, target_train)"
   ]
  },
  {
   "cell_type": "code",
   "execution_count": 21,
   "id": "2b29710c",
   "metadata": {},
   "outputs": [
    {
     "name": "stdout",
     "output_type": "stream",
     "text": [
      "{'max_depth': 6, 'min_samples_leaf': 3, 'min_samples_split': 4, 'n_estimators': 25}\n",
      "0.30103085178969885\n"
     ]
    }
   ],
   "source": [
    "forest_params = forest_grid.best_params_\n",
    "forest_score = forest_grid.score(features_train, target_train)\n",
    "print(forest_params)\n",
    "print(forest_score)"
   ]
  },
  {
   "cell_type": "code",
   "execution_count": 22,
   "id": "b39a02f7",
   "metadata": {},
   "outputs": [],
   "source": [
    "forest_model = RandomForestClassifier(random_state=42, n_jobs=-1, class_weight='balanced',\n",
    "                                     max_depth=forest_params['max_depth'],\n",
    "                                     min_samples_leaf = forest_params['min_samples_leaf'],\n",
    "                                     min_samples_split = forest_params['min_samples_split'],\n",
    "                                     n_estimators = forest_params['n_estimators'])\n",
    "\n",
    "forest_model.fit(features_train, target_train)\n",
    "forest_model_predictions = forest_model.predict(features_valid)"
   ]
  },
  {
   "cell_type": "code",
   "execution_count": 23,
   "id": "7fced41b",
   "metadata": {},
   "outputs": [
    {
     "name": "stdout",
     "output_type": "stream",
     "text": [
      "Метрика качества F1 для Случайного леса на валидационной выборке равна 0.297\n"
     ]
    }
   ],
   "source": [
    "forest_predictions = forest_model.predict(features_valid)\n",
    "forest_f1 =  round(f1_score(target_valid, forest_predictions), 3)\n",
    "print(f'Метрика качества F1 для Случайного леса на валидационной выборке равна {forest_f1}')"
   ]
  },
  {
   "cell_type": "markdown",
   "id": "1df3f396",
   "metadata": {},
   "source": [
    "### Модель Градиентного бустинга - CatBoost"
   ]
  },
  {
   "cell_type": "code",
   "execution_count": 24,
   "id": "11b18711",
   "metadata": {},
   "outputs": [],
   "source": [
    "features_train_cb = features_train[:10000]\n",
    "features_valid_cb = features_valid[:3000]\n",
    "target_train_cb = target_train[:10000]\n",
    "target_valid_cb = target_valid[:3000]\n",
    "features_test_cb = features_test[:1500]\n",
    "target_test_cb = target_test[:1500]"
   ]
  },
  {
   "cell_type": "code",
   "execution_count": 25,
   "id": "57c15e0d",
   "metadata": {},
   "outputs": [
    {
     "name": "stdout",
     "output_type": "stream",
     "text": [
      "Learning rate set to 0.5\n",
      "0:\tlearn: 0.0192028\ttotal: 153ms\tremaining: 4.43s\n",
      "10:\tlearn: 0.0003448\ttotal: 1s\tremaining: 1.74s\n",
      "20:\tlearn: 0.0003442\ttotal: 1.83s\tremaining: 786ms\n",
      "29:\tlearn: 0.0003436\ttotal: 2.65s\tremaining: 0us\n",
      "Learning rate set to 0.5\n",
      "0:\tlearn: 0.0140209\ttotal: 129ms\tremaining: 3.74s\n",
      "10:\tlearn: 0.0003514\ttotal: 1000ms\tremaining: 1.73s\n",
      "20:\tlearn: 0.0003514\ttotal: 1.83s\tremaining: 785ms\n",
      "29:\tlearn: 0.0003514\ttotal: 2.59s\tremaining: 0us\n",
      "Learning rate set to 0.5\n",
      "0:\tlearn: 0.0128264\ttotal: 105ms\tremaining: 3.06s\n",
      "10:\tlearn: 0.0002281\ttotal: 941ms\tremaining: 1.63s\n",
      "20:\tlearn: 0.0002280\ttotal: 1.76s\tremaining: 757ms\n",
      "29:\tlearn: 0.0002288\ttotal: 2.53s\tremaining: 0us\n",
      "Learning rate set to 0.5\n",
      "0:\tlearn: 0.0221050\ttotal: 946ms\tremaining: 27.4s\n",
      "10:\tlearn: 0.0003674\ttotal: 7.29s\tremaining: 12.6s\n",
      "20:\tlearn: 0.0003252\ttotal: 13.7s\tremaining: 5.87s\n",
      "29:\tlearn: 0.0003250\ttotal: 19.9s\tremaining: 0us\n",
      "Learning rate set to 0.5\n",
      "0:\tlearn: 0.0180815\ttotal: 976ms\tremaining: 28.3s\n",
      "10:\tlearn: 0.0003109\ttotal: 7.42s\tremaining: 12.8s\n",
      "20:\tlearn: 0.0002909\ttotal: 14.1s\tremaining: 6.04s\n",
      "29:\tlearn: 0.0002904\ttotal: 20.3s\tremaining: 0us\n",
      "Learning rate set to 0.5\n",
      "0:\tlearn: 0.0133476\ttotal: 966ms\tremaining: 28s\n",
      "10:\tlearn: 0.0003762\ttotal: 7.43s\tremaining: 12.8s\n",
      "20:\tlearn: 0.0003761\ttotal: 14s\tremaining: 5.99s\n",
      "29:\tlearn: 0.0003757\ttotal: 19.8s\tremaining: 0us\n",
      "Learning rate set to 0.5\n",
      "0:\tlearn: 0.0122177\ttotal: 1.35s\tremaining: 39.2s\n",
      "10:\tlearn: 0.0002574\ttotal: 10.2s\tremaining: 17.6s\n",
      "20:\tlearn: 0.0002364\ttotal: 19.2s\tremaining: 8.21s\n",
      "29:\tlearn: 0.0002359\ttotal: 27.5s\tremaining: 0us\n"
     ]
    },
    {
     "data": {
      "text/plain": [
       "GridSearchCV(cv=3,\n",
       "             estimator=<catboost.core.CatBoostClassifier object at 0x7f110ad359a0>,\n",
       "             param_grid={'depth': [4, 8]}, scoring='f1')"
      ]
     },
     "execution_count": 25,
     "metadata": {},
     "output_type": "execute_result"
    }
   ],
   "source": [
    "#Объявляем модель с учетом дисбаланса классов\n",
    "cb = cb.CatBoostClassifier(class_weights=[0, 1], iterations=30)\n",
    "#Определяю словарь с набором параметров\n",
    "cb_parametrs = {'depth': [4, 8]}\n",
    "\n",
    "cb_grid = GridSearchCV(cb, cb_parametrs, scoring='f1', cv=3)\n",
    "cb_grid.fit(features_train_cb, target_train_cb, verbose=10)"
   ]
  },
  {
   "cell_type": "code",
   "execution_count": 26,
   "id": "46eca94b",
   "metadata": {},
   "outputs": [
    {
     "name": "stdout",
     "output_type": "stream",
     "text": [
      "{'depth': 8}\n",
      "0.17618092285245304\n"
     ]
    }
   ],
   "source": [
    "cb_params = cb_grid.best_params_\n",
    "cb_score = cb_grid.score(features_train_cb, target_train_cb)\n",
    "print(cb_params)\n",
    "print(cb_score)"
   ]
  },
  {
   "cell_type": "code",
   "execution_count": 27,
   "id": "3092e712",
   "metadata": {},
   "outputs": [
    {
     "name": "stdout",
     "output_type": "stream",
     "text": [
      "Learning rate set to 0.429515\n",
      "0:\tlearn: 0.0220754\ttotal: 1.27s\tremaining: 1m 2s\n",
      "10:\tlearn: 0.0002449\ttotal: 10.1s\tremaining: 35.7s\n",
      "20:\tlearn: 0.0002441\ttotal: 19s\tremaining: 26.3s\n",
      "30:\tlearn: 0.0002437\ttotal: 28.2s\tremaining: 17.3s\n",
      "40:\tlearn: 0.0002437\ttotal: 37.1s\tremaining: 8.15s\n",
      "49:\tlearn: 0.0002437\ttotal: 45.2s\tremaining: 0us\n",
      "0.185\n"
     ]
    }
   ],
   "source": [
    "import catboost as cb\n",
    "from catboost import CatBoostClassifier\n",
    "cb_model = cb.CatBoostClassifier(class_weights=[0, 1], depth=cb_params['depth'], iterations=50)\n",
    "cb_model.fit(features_train_cb, target_train_cb, verbose=10)\n",
    "cb_model_predictions = cb_model.predict(features_valid_cb)\n",
    "\n",
    "cb_f1 = round(f1_score(target_valid_cb, cb_model_predictions), 3)\n",
    "print(cb_f1)"
   ]
  },
  {
   "cell_type": "code",
   "execution_count": 28,
   "id": "60c1ba88",
   "metadata": {},
   "outputs": [
    {
     "data": {
      "text/html": [
       "<div>\n",
       "<style scoped>\n",
       "    .dataframe tbody tr th:only-of-type {\n",
       "        vertical-align: middle;\n",
       "    }\n",
       "\n",
       "    .dataframe tbody tr th {\n",
       "        vertical-align: top;\n",
       "    }\n",
       "\n",
       "    .dataframe thead th {\n",
       "        text-align: right;\n",
       "    }\n",
       "</style>\n",
       "<table border=\"1\" class=\"dataframe\">\n",
       "  <thead>\n",
       "    <tr style=\"text-align: right;\">\n",
       "      <th></th>\n",
       "      <th>Модель</th>\n",
       "      <th>F1-метрика</th>\n",
       "      <th>F1- метрика на тесте</th>\n",
       "    </tr>\n",
       "  </thead>\n",
       "  <tbody>\n",
       "    <tr>\n",
       "      <th>0</th>\n",
       "      <td>Логистическая регрессия</td>\n",
       "      <td>0.757</td>\n",
       "      <td>0.755</td>\n",
       "    </tr>\n",
       "    <tr>\n",
       "      <th>1</th>\n",
       "      <td>Случайный лес</td>\n",
       "      <td>0.297</td>\n",
       "      <td>не проводилось</td>\n",
       "    </tr>\n",
       "    <tr>\n",
       "      <th>2</th>\n",
       "      <td>CatBoostRegressor</td>\n",
       "      <td>0.185</td>\n",
       "      <td>не проводилось</td>\n",
       "    </tr>\n",
       "  </tbody>\n",
       "</table>\n",
       "</div>"
      ],
      "text/plain": [
       "                    Модель  F1-метрика F1- метрика на тесте\n",
       "0  Логистическая регрессия       0.757                0.755\n",
       "1            Случайный лес       0.297       не проводилось\n",
       "2        CatBoostRegressor       0.185       не проводилось"
      ]
     },
     "metadata": {},
     "output_type": "display_data"
    }
   ],
   "source": [
    "columns = ['Модель', 'F1-метрика', 'F1- метрика на тесте']\n",
    "\n",
    "regression_model = ['Логистическая регрессия',  regression_f1, regression_f1_test]\n",
    "forest_model = ['Случайный лес',  forest_f1, 'не проводилось']\n",
    "cd_model = ['CatBoostRegressor',  cb_f1, 'не проводилось']\n",
    "\n",
    "table = pd.DataFrame([regression_model, forest_model, cd_model], columns = columns)\n",
    "\n",
    "\n",
    "display(table)"
   ]
  },
  {
   "cell_type": "code",
   "execution_count": null,
   "id": "b16c0ef5",
   "metadata": {},
   "outputs": [],
   "source": []
  },
  {
   "cell_type": "markdown",
   "id": "6a67add1",
   "metadata": {},
   "source": [
    "# 3 Выводы: "
   ]
  },
  {
   "cell_type": "markdown",
   "id": "6de2c214",
   "metadata": {},
   "source": [
    "- На этапе подготовки данных была проведена лемматизация комментариев пользователей и удаление лишних символов из текстов. \n",
    "\n",
    "\n",
    "- Для анализа данных и построения модели предоставлен датасет с размеченными данными, содержащий комментарии пользователей к товарам, доступным для приобретения в интернет-магазине «Викишоп». Датасет состоит из 2 столбцов с данными и 159292 строк. \n",
    "\n",
    "\n",
    "- В качестве моделей использованы Логистическая регрессия, Случайный лес и CatBoost классификатор. \n",
    "По результатам подбора гиперпараметров и обучения моделей наилучший результат метрики F1 показала Логистическа регерссия, CatBoost и Случайный лес, выглядят значительно хуже, что выглядит немного странно. \n",
    "\n",
    "\n",
    "- Возможно стоит подключить к сравнительному анализу модель BERT - тогда картина о качестве предсказаний будет более ясной, поэтому на данном этапе и в данных условиях можно заключить, что Линейная лучше остальных справляется с бинарной классификацией, но вопрос является ли она лучшим алгоритмом для решения подобных задач с текстами остается открытым   "
   ]
  },
  {
   "cell_type": "markdown",
   "id": "ef38361b",
   "metadata": {},
   "source": [
    "- [x]  Jupyter Notebook открыт\n",
    "- [x]  Весь код выполняется без ошибок\n",
    "- [x]  Ячейки с кодом расположены в порядке исполнения\n",
    "- [x]  Данные загружены и подготовлены\n",
    "- [x]  Модели обучены\n",
    "- [x]  Значение метрики *F1* не меньше 0.75\n",
    "- [x]  Выводы написаны"
   ]
  },
  {
   "cell_type": "code",
   "execution_count": null,
   "id": "f012834b",
   "metadata": {},
   "outputs": [],
   "source": []
  }
 ],
 "metadata": {
  "ExecuteTimeLog": [
   {
    "duration": 3652,
    "start_time": "2022-10-04T09:57:52.119Z"
   },
   {
    "duration": 150,
    "start_time": "2022-10-04T09:57:55.774Z"
   },
   {
    "duration": 0,
    "start_time": "2022-10-04T09:57:55.926Z"
   },
   {
    "duration": 0,
    "start_time": "2022-10-04T09:57:55.928Z"
   },
   {
    "duration": 0,
    "start_time": "2022-10-04T09:57:55.929Z"
   },
   {
    "duration": 0,
    "start_time": "2022-10-04T09:57:55.931Z"
   },
   {
    "duration": 3484,
    "start_time": "2022-10-04T09:58:09.201Z"
   },
   {
    "duration": 2122,
    "start_time": "2022-10-04T09:58:12.687Z"
   },
   {
    "duration": 257,
    "start_time": "2022-10-04T09:58:14.812Z"
   },
   {
    "duration": 24,
    "start_time": "2022-10-04T09:58:15.071Z"
   },
   {
    "duration": 4,
    "start_time": "2022-10-04T09:58:15.097Z"
   },
   {
    "duration": 11,
    "start_time": "2022-10-04T09:58:51.767Z"
   },
   {
    "duration": 3,
    "start_time": "2022-10-04T10:00:08.660Z"
   },
   {
    "duration": 3734,
    "start_time": "2022-10-04T10:00:18.539Z"
   },
   {
    "duration": 3548,
    "start_time": "2022-10-04T10:00:22.276Z"
   },
   {
    "duration": 2041,
    "start_time": "2022-10-04T10:00:25.826Z"
   },
   {
    "duration": 253,
    "start_time": "2022-10-04T10:00:27.869Z"
   },
   {
    "duration": 14,
    "start_time": "2022-10-04T10:00:28.124Z"
   },
   {
    "duration": 4,
    "start_time": "2022-10-04T10:00:53.630Z"
   },
   {
    "duration": 4,
    "start_time": "2022-10-04T10:00:55.470Z"
   },
   {
    "duration": 52,
    "start_time": "2022-10-04T10:01:00.051Z"
   },
   {
    "duration": 7,
    "start_time": "2022-10-04T10:01:01.664Z"
   },
   {
    "duration": 3554,
    "start_time": "2022-10-04T10:01:04.680Z"
   },
   {
    "duration": 3453,
    "start_time": "2022-10-04T10:01:08.236Z"
   },
   {
    "duration": 5,
    "start_time": "2022-10-04T10:01:14.201Z"
   },
   {
    "duration": 3,
    "start_time": "2022-10-04T10:01:16.120Z"
   },
   {
    "duration": 1273,
    "start_time": "2022-10-04T10:01:16.550Z"
   },
   {
    "duration": 16,
    "start_time": "2022-10-04T10:01:18.010Z"
   },
   {
    "duration": 14,
    "start_time": "2022-10-04T16:53:13.150Z"
   },
   {
    "duration": 45,
    "start_time": "2022-10-04T16:53:41.410Z"
   },
   {
    "duration": 2213,
    "start_time": "2022-10-04T16:53:48.079Z"
   },
   {
    "duration": 2270,
    "start_time": "2022-10-04T16:53:50.295Z"
   },
   {
    "duration": 1865,
    "start_time": "2022-10-04T16:53:52.567Z"
   },
   {
    "duration": 244,
    "start_time": "2022-10-04T16:53:54.434Z"
   },
   {
    "duration": 13,
    "start_time": "2022-10-04T16:53:54.680Z"
   },
   {
    "duration": 4,
    "start_time": "2022-10-04T16:53:54.694Z"
   },
   {
    "duration": 41656,
    "start_time": "2022-10-04T16:53:54.700Z"
   },
   {
    "duration": 37184,
    "start_time": "2022-10-04T16:54:36.358Z"
   },
   {
    "duration": 48,
    "start_time": "2022-10-04T16:55:13.543Z"
   },
   {
    "duration": 10,
    "start_time": "2022-10-04T16:55:13.593Z"
   },
   {
    "duration": 144,
    "start_time": "2022-10-04T16:55:13.620Z"
   },
   {
    "duration": 0,
    "start_time": "2022-10-04T16:55:13.766Z"
   },
   {
    "duration": 0,
    "start_time": "2022-10-04T16:55:13.767Z"
   },
   {
    "duration": 0,
    "start_time": "2022-10-04T16:55:13.768Z"
   },
   {
    "duration": 0,
    "start_time": "2022-10-04T16:55:13.769Z"
   },
   {
    "duration": 0,
    "start_time": "2022-10-04T16:55:13.770Z"
   },
   {
    "duration": 0,
    "start_time": "2022-10-04T16:55:13.772Z"
   },
   {
    "duration": 0,
    "start_time": "2022-10-04T16:55:13.772Z"
   },
   {
    "duration": 0,
    "start_time": "2022-10-04T16:55:13.774Z"
   },
   {
    "duration": 0,
    "start_time": "2022-10-04T16:55:13.775Z"
   },
   {
    "duration": 0,
    "start_time": "2022-10-04T16:55:13.776Z"
   },
   {
    "duration": 0,
    "start_time": "2022-10-04T16:55:13.777Z"
   },
   {
    "duration": 0,
    "start_time": "2022-10-04T16:55:13.778Z"
   },
   {
    "duration": 0,
    "start_time": "2022-10-04T16:55:13.779Z"
   },
   {
    "duration": 0,
    "start_time": "2022-10-04T16:55:13.780Z"
   },
   {
    "duration": 0,
    "start_time": "2022-10-04T16:55:13.781Z"
   },
   {
    "duration": 0,
    "start_time": "2022-10-04T16:55:13.782Z"
   },
   {
    "duration": 0,
    "start_time": "2022-10-04T16:55:13.783Z"
   },
   {
    "duration": 0,
    "start_time": "2022-10-04T16:55:13.784Z"
   },
   {
    "duration": 0,
    "start_time": "2022-10-04T16:55:13.785Z"
   },
   {
    "duration": 0,
    "start_time": "2022-10-04T16:55:13.821Z"
   },
   {
    "duration": 31,
    "start_time": "2022-10-04T16:55:49.524Z"
   },
   {
    "duration": 10,
    "start_time": "2022-10-04T16:56:25.072Z"
   },
   {
    "duration": 16,
    "start_time": "2022-10-04T16:56:36.221Z"
   },
   {
    "duration": 26,
    "start_time": "2022-10-04T16:56:55.272Z"
   },
   {
    "duration": 24,
    "start_time": "2022-10-04T16:57:09.152Z"
   },
   {
    "duration": 15,
    "start_time": "2022-10-04T16:57:27.866Z"
   },
   {
    "duration": 13,
    "start_time": "2022-10-04T16:57:39.944Z"
   },
   {
    "duration": 13,
    "start_time": "2022-10-04T16:57:48.544Z"
   },
   {
    "duration": 35,
    "start_time": "2022-10-04T16:58:58.912Z"
   },
   {
    "duration": 6,
    "start_time": "2022-10-04T16:59:15.402Z"
   },
   {
    "duration": 855,
    "start_time": "2022-10-04T17:04:55.491Z"
   },
   {
    "duration": 12,
    "start_time": "2022-10-04T17:05:27.707Z"
   },
   {
    "duration": 754,
    "start_time": "2022-10-04T17:06:03.408Z"
   },
   {
    "duration": 136,
    "start_time": "2022-10-04T17:06:29.312Z"
   },
   {
    "duration": 4,
    "start_time": "2022-10-04T17:06:38.786Z"
   },
   {
    "duration": 3,
    "start_time": "2022-10-04T17:06:56.086Z"
   },
   {
    "duration": 8,
    "start_time": "2022-10-04T17:08:00.294Z"
   },
   {
    "duration": 15,
    "start_time": "2022-10-04T17:08:04.416Z"
   },
   {
    "duration": 10,
    "start_time": "2022-10-04T17:09:13.320Z"
   },
   {
    "duration": 36720,
    "start_time": "2022-10-04T17:10:20.032Z"
   },
   {
    "duration": 9,
    "start_time": "2022-10-04T17:12:53.101Z"
   },
   {
    "duration": 4,
    "start_time": "2022-10-04T17:13:00.232Z"
   },
   {
    "duration": 37169,
    "start_time": "2022-10-04T17:20:51.147Z"
   },
   {
    "duration": 36,
    "start_time": "2022-10-04T17:21:32.605Z"
   },
   {
    "duration": 7,
    "start_time": "2022-10-04T17:21:36.511Z"
   },
   {
    "duration": 15,
    "start_time": "2022-10-04T17:21:46.013Z"
   },
   {
    "duration": 795,
    "start_time": "2022-10-04T17:23:02.604Z"
   },
   {
    "duration": 769,
    "start_time": "2022-10-04T17:23:23.471Z"
   },
   {
    "duration": 3,
    "start_time": "2022-10-04T17:23:32.180Z"
   },
   {
    "duration": 12,
    "start_time": "2022-10-04T17:23:35.756Z"
   },
   {
    "duration": 3,
    "start_time": "2022-10-04T17:23:39.887Z"
   },
   {
    "duration": 5,
    "start_time": "2022-10-04T17:23:43.796Z"
   },
   {
    "duration": 68,
    "start_time": "2022-10-04T17:31:26.629Z"
   },
   {
    "duration": 62,
    "start_time": "2022-10-04T17:31:36.245Z"
   },
   {
    "duration": 3,
    "start_time": "2022-10-04T17:33:14.589Z"
   },
   {
    "duration": 37957,
    "start_time": "2022-10-04T17:33:18.432Z"
   },
   {
    "duration": 88,
    "start_time": "2022-10-04T17:34:01.708Z"
   },
   {
    "duration": 49,
    "start_time": "2022-10-04T17:42:57.728Z"
   },
   {
    "duration": 25,
    "start_time": "2022-10-04T17:43:17.588Z"
   },
   {
    "duration": 92,
    "start_time": "2022-10-04T17:44:24.802Z"
   },
   {
    "duration": 838,
    "start_time": "2022-10-04T17:44:48.288Z"
   },
   {
    "duration": 3,
    "start_time": "2022-10-04T17:44:52.745Z"
   },
   {
    "duration": 7,
    "start_time": "2022-10-04T17:45:05.356Z"
   },
   {
    "duration": 224,
    "start_time": "2022-10-04T17:45:14.348Z"
   },
   {
    "duration": 11,
    "start_time": "2022-10-04T17:45:17.127Z"
   },
   {
    "duration": 3,
    "start_time": "2022-10-04T17:45:20.874Z"
   },
   {
    "duration": 37999,
    "start_time": "2022-10-04T17:45:24.564Z"
   },
   {
    "duration": 107,
    "start_time": "2022-10-04T17:46:08.956Z"
   },
   {
    "duration": 7,
    "start_time": "2022-10-04T17:47:36.002Z"
   },
   {
    "duration": 6,
    "start_time": "2022-10-04T17:48:11.744Z"
   },
   {
    "duration": 815,
    "start_time": "2022-10-04T17:48:20.289Z"
   },
   {
    "duration": 9,
    "start_time": "2022-10-04T17:48:24.957Z"
   },
   {
    "duration": 6,
    "start_time": "2022-10-04T17:48:29.774Z"
   },
   {
    "duration": 6,
    "start_time": "2022-10-04T17:48:34.409Z"
   },
   {
    "duration": 4,
    "start_time": "2022-10-04T17:48:46.461Z"
   },
   {
    "duration": 37020,
    "start_time": "2022-10-04T17:48:53.195Z"
   },
   {
    "duration": 6,
    "start_time": "2022-10-04T17:49:43.945Z"
   },
   {
    "duration": 108,
    "start_time": "2022-10-04T17:49:59.707Z"
   },
   {
    "duration": 49,
    "start_time": "2022-10-04T19:38:45.087Z"
   },
   {
    "duration": 5726,
    "start_time": "2022-10-04T19:39:41.758Z"
   },
   {
    "duration": 4,
    "start_time": "2022-10-04T19:40:04.559Z"
   },
   {
    "duration": 151985,
    "start_time": "2022-10-04T19:40:34.649Z"
   },
   {
    "duration": 39,
    "start_time": "2022-10-04T19:43:19.183Z"
   },
   {
    "duration": 25636,
    "start_time": "2022-10-04T19:43:36.495Z"
   },
   {
    "duration": 17,
    "start_time": "2022-10-04T19:44:47.173Z"
   },
   {
    "duration": 10,
    "start_time": "2022-10-04T19:45:32.591Z"
   },
   {
    "duration": 10,
    "start_time": "2022-10-04T19:45:35.393Z"
   },
   {
    "duration": 17,
    "start_time": "2022-10-04T19:50:50.642Z"
   },
   {
    "duration": 156541,
    "start_time": "2022-10-04T19:50:58.808Z"
   },
   {
    "duration": 608,
    "start_time": "2022-10-04T19:53:43.487Z"
   },
   {
    "duration": 877,
    "start_time": "2022-10-04T19:53:50.368Z"
   },
   {
    "duration": 181,
    "start_time": "2022-10-04T19:53:58.952Z"
   },
   {
    "duration": 179,
    "start_time": "2022-10-04T19:54:11.882Z"
   },
   {
    "duration": 4,
    "start_time": "2022-10-04T19:55:13.369Z"
   },
   {
    "duration": 27,
    "start_time": "2022-10-04T19:55:36.512Z"
   },
   {
    "duration": 18,
    "start_time": "2022-10-04T19:56:47.584Z"
   },
   {
    "duration": 50,
    "start_time": "2022-10-04T20:07:34.626Z"
   },
   {
    "duration": 1887,
    "start_time": "2022-10-04T20:07:49.668Z"
   },
   {
    "duration": 93,
    "start_time": "2022-10-04T20:08:05.482Z"
   },
   {
    "duration": 10,
    "start_time": "2022-10-04T20:08:10.117Z"
   },
   {
    "duration": 6,
    "start_time": "2022-10-04T20:08:35.317Z"
   },
   {
    "duration": 1869,
    "start_time": "2022-10-04T20:08:44.965Z"
   },
   {
    "duration": 2352,
    "start_time": "2022-10-04T20:08:46.836Z"
   },
   {
    "duration": 11,
    "start_time": "2022-10-04T20:08:49.190Z"
   },
   {
    "duration": 5,
    "start_time": "2022-10-04T20:08:49.203Z"
   },
   {
    "duration": 246,
    "start_time": "2022-10-04T20:08:49.210Z"
   },
   {
    "duration": 12,
    "start_time": "2022-10-04T20:08:49.458Z"
   },
   {
    "duration": 3,
    "start_time": "2022-10-04T20:08:49.472Z"
   },
   {
    "duration": 38681,
    "start_time": "2022-10-04T20:08:49.477Z"
   },
   {
    "duration": 106,
    "start_time": "2022-10-04T20:09:28.159Z"
   },
   {
    "duration": 75,
    "start_time": "2022-10-04T20:09:28.267Z"
   },
   {
    "duration": 49,
    "start_time": "2022-10-04T20:09:28.344Z"
   },
   {
    "duration": 5783,
    "start_time": "2022-10-04T20:09:28.395Z"
   },
   {
    "duration": 4,
    "start_time": "2022-10-04T20:09:34.180Z"
   },
   {
    "duration": 148337,
    "start_time": "2022-10-04T20:09:34.187Z"
   },
   {
    "duration": 40,
    "start_time": "2022-10-04T20:12:02.526Z"
   },
   {
    "duration": 25563,
    "start_time": "2022-10-04T20:12:02.568Z"
   },
   {
    "duration": 15,
    "start_time": "2022-10-04T20:12:28.132Z"
   },
   {
    "duration": 153466,
    "start_time": "2022-10-04T20:12:28.149Z"
   },
   {
    "duration": 404,
    "start_time": "2022-10-04T20:15:01.617Z"
   },
   {
    "duration": 589,
    "start_time": "2022-10-04T20:15:02.022Z"
   },
   {
    "duration": 136,
    "start_time": "2022-10-04T20:15:02.613Z"
   },
   {
    "duration": 2495,
    "start_time": "2022-10-04T20:15:02.751Z"
   },
   {
    "duration": 4,
    "start_time": "2022-10-04T20:15:05.248Z"
   },
   {
    "duration": 49,
    "start_time": "2022-10-04T20:17:46.972Z"
   },
   {
    "duration": 803,
    "start_time": "2022-10-04T20:18:22.456Z"
   },
   {
    "duration": 1209,
    "start_time": "2022-10-04T20:18:40.471Z"
   },
   {
    "duration": 80,
    "start_time": "2022-10-04T20:19:04.823Z"
   },
   {
    "duration": 14,
    "start_time": "2022-10-04T20:19:08.941Z"
   },
   {
    "duration": 13,
    "start_time": "2022-10-04T20:19:20.549Z"
   },
   {
    "duration": 2421,
    "start_time": "2022-10-04T20:19:31.860Z"
   },
   {
    "duration": 11,
    "start_time": "2022-10-04T20:19:38.185Z"
   },
   {
    "duration": 2,
    "start_time": "2022-10-04T20:19:41.926Z"
   },
   {
    "duration": 237,
    "start_time": "2022-10-04T20:19:44.559Z"
   },
   {
    "duration": 11,
    "start_time": "2022-10-04T20:19:46.891Z"
   },
   {
    "duration": 4,
    "start_time": "2022-10-04T20:19:50.986Z"
   },
   {
    "duration": 39816,
    "start_time": "2022-10-04T20:19:54.428Z"
   },
   {
    "duration": 91,
    "start_time": "2022-10-04T20:20:42.451Z"
   },
   {
    "duration": 18,
    "start_time": "2022-10-04T20:20:51.626Z"
   },
   {
    "duration": 6,
    "start_time": "2022-10-04T20:21:12.347Z"
   },
   {
    "duration": 55,
    "start_time": "2022-10-04T20:21:22.653Z"
   },
   {
    "duration": 4,
    "start_time": "2022-10-04T20:21:33.138Z"
   },
   {
    "duration": 12681,
    "start_time": "2022-10-04T20:21:39.302Z"
   },
   {
    "duration": 13,
    "start_time": "2022-10-04T20:23:55.563Z"
   },
   {
    "duration": 53,
    "start_time": "2022-10-04T20:27:28.632Z"
   },
   {
    "duration": 7,
    "start_time": "2022-10-04T20:27:32.742Z"
   },
   {
    "duration": 1904,
    "start_time": "2022-10-04T20:27:44.593Z"
   },
   {
    "duration": 2372,
    "start_time": "2022-10-04T20:27:46.499Z"
   },
   {
    "duration": 16,
    "start_time": "2022-10-04T20:27:48.873Z"
   },
   {
    "duration": 6,
    "start_time": "2022-10-04T20:27:48.891Z"
   },
   {
    "duration": 263,
    "start_time": "2022-10-04T20:27:48.900Z"
   },
   {
    "duration": 12,
    "start_time": "2022-10-04T20:27:49.165Z"
   },
   {
    "duration": 5,
    "start_time": "2022-10-04T20:27:49.178Z"
   },
   {
    "duration": 40168,
    "start_time": "2022-10-04T20:27:49.184Z"
   },
   {
    "duration": 93,
    "start_time": "2022-10-04T20:28:29.354Z"
   },
   {
    "duration": 76,
    "start_time": "2022-10-04T20:28:29.449Z"
   },
   {
    "duration": 53,
    "start_time": "2022-10-04T20:28:29.527Z"
   },
   {
    "duration": 5573,
    "start_time": "2022-10-04T20:28:29.581Z"
   },
   {
    "duration": 4,
    "start_time": "2022-10-04T20:28:35.155Z"
   },
   {
    "duration": 142469,
    "start_time": "2022-10-04T20:28:35.162Z"
   },
   {
    "duration": 39,
    "start_time": "2022-10-04T20:30:57.633Z"
   },
   {
    "duration": 23957,
    "start_time": "2022-10-04T20:30:57.673Z"
   },
   {
    "duration": 22,
    "start_time": "2022-10-04T20:31:21.632Z"
   },
   {
    "duration": 151798,
    "start_time": "2022-10-04T20:31:21.656Z"
   },
   {
    "duration": 613,
    "start_time": "2022-10-04T20:33:53.456Z"
   },
   {
    "duration": 928,
    "start_time": "2022-10-04T20:33:54.071Z"
   },
   {
    "duration": 186,
    "start_time": "2022-10-04T20:33:55.001Z"
   },
   {
    "duration": 3,
    "start_time": "2022-10-04T20:33:55.189Z"
   },
   {
    "duration": 31,
    "start_time": "2022-10-04T20:33:55.193Z"
   },
   {
    "duration": 2128,
    "start_time": "2022-10-05T05:20:51.282Z"
   },
   {
    "duration": 2695,
    "start_time": "2022-10-05T05:20:53.412Z"
   },
   {
    "duration": 12,
    "start_time": "2022-10-05T05:20:56.109Z"
   },
   {
    "duration": 7,
    "start_time": "2022-10-05T05:20:56.123Z"
   },
   {
    "duration": 249,
    "start_time": "2022-10-05T05:20:56.133Z"
   },
   {
    "duration": 12,
    "start_time": "2022-10-05T05:20:56.383Z"
   },
   {
    "duration": 3,
    "start_time": "2022-10-05T05:20:56.397Z"
   },
   {
    "duration": 38790,
    "start_time": "2022-10-05T05:20:56.402Z"
   },
   {
    "duration": 109,
    "start_time": "2022-10-05T05:21:35.194Z"
   },
   {
    "duration": 84,
    "start_time": "2022-10-05T05:21:35.306Z"
   },
   {
    "duration": 56,
    "start_time": "2022-10-05T05:21:35.392Z"
   },
   {
    "duration": 5289,
    "start_time": "2022-10-05T05:21:35.450Z"
   },
   {
    "duration": 4,
    "start_time": "2022-10-05T05:21:40.740Z"
   },
   {
    "duration": 150244,
    "start_time": "2022-10-05T05:21:40.747Z"
   },
   {
    "duration": 38,
    "start_time": "2022-10-05T05:24:10.993Z"
   },
   {
    "duration": 24475,
    "start_time": "2022-10-05T05:24:11.033Z"
   },
   {
    "duration": 15,
    "start_time": "2022-10-05T05:24:35.509Z"
   },
   {
    "duration": 146810,
    "start_time": "2022-10-05T05:24:35.525Z"
   },
   {
    "duration": 594,
    "start_time": "2022-10-05T05:27:02.337Z"
   },
   {
    "duration": 853,
    "start_time": "2022-10-05T05:27:02.933Z"
   },
   {
    "duration": 173,
    "start_time": "2022-10-05T05:27:03.788Z"
   },
   {
    "duration": 3,
    "start_time": "2022-10-05T05:27:03.963Z"
   },
   {
    "duration": 1942,
    "start_time": "2022-10-05T05:29:13.465Z"
   },
   {
    "duration": 2281,
    "start_time": "2022-10-05T05:29:19.662Z"
   },
   {
    "duration": 10,
    "start_time": "2022-10-05T05:29:24.946Z"
   },
   {
    "duration": 3,
    "start_time": "2022-10-05T05:29:29.168Z"
   },
   {
    "duration": 229,
    "start_time": "2022-10-05T05:29:32.752Z"
   },
   {
    "duration": 10,
    "start_time": "2022-10-05T05:29:36.033Z"
   },
   {
    "duration": 4,
    "start_time": "2022-10-05T05:29:40.116Z"
   },
   {
    "duration": 38755,
    "start_time": "2022-10-05T05:29:43.356Z"
   },
   {
    "duration": 94,
    "start_time": "2022-10-05T05:32:00.589Z"
   },
   {
    "duration": 149,
    "start_time": "2022-10-05T05:32:07.861Z"
   },
   {
    "duration": 6,
    "start_time": "2022-10-05T05:32:27.209Z"
   },
   {
    "duration": 789,
    "start_time": "2022-10-05T05:32:29.366Z"
   },
   {
    "duration": 109,
    "start_time": "2022-10-05T05:32:37.157Z"
   },
   {
    "duration": 60,
    "start_time": "2022-10-05T05:32:44.942Z"
   },
   {
    "duration": 44,
    "start_time": "2022-10-05T05:32:47.665Z"
   },
   {
    "duration": 5539,
    "start_time": "2022-10-05T05:32:51.791Z"
   },
   {
    "duration": 3,
    "start_time": "2022-10-05T05:33:19.289Z"
   },
   {
    "duration": 59,
    "start_time": "2022-10-05T05:35:53.653Z"
   },
   {
    "duration": 8,
    "start_time": "2022-10-05T05:37:54.474Z"
   },
   {
    "duration": 8,
    "start_time": "2022-10-05T05:38:12.530Z"
   },
   {
    "duration": 1880,
    "start_time": "2022-10-05T05:38:18.961Z"
   },
   {
    "duration": 2323,
    "start_time": "2022-10-05T05:38:24.601Z"
   },
   {
    "duration": 3,
    "start_time": "2022-10-05T05:38:43.403Z"
   },
   {
    "duration": 5,
    "start_time": "2022-10-05T05:38:49.611Z"
   },
   {
    "duration": 38487,
    "start_time": "2022-10-05T05:38:53.851Z"
   },
   {
    "duration": 107,
    "start_time": "2022-10-05T05:39:45.503Z"
   },
   {
    "duration": 40,
    "start_time": "2022-10-05T05:39:52.274Z"
   },
   {
    "duration": 5516,
    "start_time": "2022-10-05T05:40:02.801Z"
   },
   {
    "duration": 4,
    "start_time": "2022-10-05T05:40:55.296Z"
   },
   {
    "duration": 50,
    "start_time": "2022-10-05T05:47:04.131Z"
   },
   {
    "duration": 1842,
    "start_time": "2022-10-05T05:47:20.580Z"
   },
   {
    "duration": 2281,
    "start_time": "2022-10-05T05:47:30.431Z"
   },
   {
    "duration": 12,
    "start_time": "2022-10-05T05:47:36.077Z"
   },
   {
    "duration": 3,
    "start_time": "2022-10-05T05:47:41.186Z"
   },
   {
    "duration": 274,
    "start_time": "2022-10-05T05:47:45.370Z"
   },
   {
    "duration": 5,
    "start_time": "2022-10-05T05:47:53.708Z"
   },
   {
    "duration": 38430,
    "start_time": "2022-10-05T05:48:02.392Z"
   },
   {
    "duration": 104,
    "start_time": "2022-10-05T05:48:55.200Z"
   },
   {
    "duration": 41,
    "start_time": "2022-10-05T05:49:29.872Z"
   },
   {
    "duration": 5302,
    "start_time": "2022-10-05T05:49:38.129Z"
   },
   {
    "duration": 4,
    "start_time": "2022-10-05T05:49:46.409Z"
   },
   {
    "duration": 7,
    "start_time": "2022-10-05T05:53:34.484Z"
   },
   {
    "duration": 104536,
    "start_time": "2022-10-05T05:53:38.309Z"
   },
   {
    "duration": 165,
    "start_time": "2022-10-05T05:55:32.583Z"
   },
   {
    "duration": 93,
    "start_time": "2022-10-05T05:55:43.832Z"
   },
   {
    "duration": 12,
    "start_time": "2022-10-05T05:56:10.545Z"
   },
   {
    "duration": 47406,
    "start_time": "2022-10-05T06:00:07.849Z"
   },
   {
    "duration": 11,
    "start_time": "2022-10-05T06:01:02.274Z"
   },
   {
    "duration": 11,
    "start_time": "2022-10-05T06:01:32.594Z"
   },
   {
    "duration": 1998,
    "start_time": "2022-10-05T06:01:44.128Z"
   },
   {
    "duration": 782,
    "start_time": "2022-10-05T06:01:46.128Z"
   },
   {
    "duration": 13,
    "start_time": "2022-10-05T06:01:46.913Z"
   },
   {
    "duration": 8,
    "start_time": "2022-10-05T06:01:46.928Z"
   },
   {
    "duration": 301,
    "start_time": "2022-10-05T06:01:46.939Z"
   },
   {
    "duration": 11,
    "start_time": "2022-10-05T06:01:47.241Z"
   },
   {
    "duration": 5,
    "start_time": "2022-10-05T06:01:47.254Z"
   },
   {
    "duration": 38386,
    "start_time": "2022-10-05T06:01:47.260Z"
   },
   {
    "duration": 104,
    "start_time": "2022-10-05T06:02:25.647Z"
   },
   {
    "duration": 55,
    "start_time": "2022-10-05T06:02:25.753Z"
   },
   {
    "duration": 5465,
    "start_time": "2022-10-05T06:02:25.810Z"
   },
   {
    "duration": 4,
    "start_time": "2022-10-05T06:02:31.277Z"
   },
   {
    "duration": 150906,
    "start_time": "2022-10-05T06:02:31.283Z"
   },
   {
    "duration": 36,
    "start_time": "2022-10-05T06:05:02.192Z"
   },
   {
    "duration": 24266,
    "start_time": "2022-10-05T06:05:02.230Z"
   },
   {
    "duration": 18,
    "start_time": "2022-10-05T06:05:26.498Z"
   },
   {
    "duration": 149051,
    "start_time": "2022-10-05T06:05:26.518Z"
   },
   {
    "duration": 567,
    "start_time": "2022-10-05T06:07:55.570Z"
   },
   {
    "duration": 723,
    "start_time": "2022-10-05T06:07:56.139Z"
   },
   {
    "duration": 188,
    "start_time": "2022-10-05T06:07:56.863Z"
   },
   {
    "duration": 8,
    "start_time": "2022-10-05T06:07:57.054Z"
   },
   {
    "duration": 106307,
    "start_time": "2022-10-05T06:07:57.064Z"
   },
   {
    "duration": 160,
    "start_time": "2022-10-05T06:09:43.373Z"
   },
   {
    "duration": 46990,
    "start_time": "2022-10-05T06:09:43.535Z"
   },
   {
    "duration": 10,
    "start_time": "2022-10-05T06:10:30.527Z"
   },
   {
    "duration": 199,
    "start_time": "2022-10-05T06:12:56.577Z"
   },
   {
    "duration": 14,
    "start_time": "2022-10-05T06:13:53.282Z"
   },
   {
    "duration": 14,
    "start_time": "2022-10-05T06:14:25.221Z"
   },
   {
    "duration": 11,
    "start_time": "2022-10-05T06:14:40.802Z"
   },
   {
    "duration": 9,
    "start_time": "2022-10-05T06:15:01.839Z"
   },
   {
    "duration": 31,
    "start_time": "2022-10-05T06:15:09.232Z"
   },
   {
    "duration": 40,
    "start_time": "2022-10-05T06:15:17.860Z"
   },
   {
    "duration": 19,
    "start_time": "2022-10-05T06:15:29.121Z"
   },
   {
    "duration": 20,
    "start_time": "2022-10-05T06:15:33.187Z"
   },
   {
    "duration": 2032,
    "start_time": "2022-10-05T06:15:41.580Z"
   },
   {
    "duration": 783,
    "start_time": "2022-10-05T06:15:43.615Z"
   },
   {
    "duration": 11,
    "start_time": "2022-10-05T06:15:44.401Z"
   },
   {
    "duration": 3,
    "start_time": "2022-10-05T06:15:44.414Z"
   },
   {
    "duration": 267,
    "start_time": "2022-10-05T06:15:44.419Z"
   },
   {
    "duration": 12,
    "start_time": "2022-10-05T06:15:44.688Z"
   },
   {
    "duration": 4,
    "start_time": "2022-10-05T06:15:44.701Z"
   },
   {
    "duration": 39525,
    "start_time": "2022-10-05T06:15:44.707Z"
   },
   {
    "duration": 94,
    "start_time": "2022-10-05T06:16:24.233Z"
   },
   {
    "duration": 53,
    "start_time": "2022-10-05T06:16:24.331Z"
   },
   {
    "duration": 5823,
    "start_time": "2022-10-05T06:16:24.386Z"
   },
   {
    "duration": 4,
    "start_time": "2022-10-05T06:16:30.210Z"
   },
   {
    "duration": 149664,
    "start_time": "2022-10-05T06:16:30.217Z"
   },
   {
    "duration": 39,
    "start_time": "2022-10-05T06:18:59.883Z"
   },
   {
    "duration": 22572,
    "start_time": "2022-10-05T06:18:59.924Z"
   },
   {
    "duration": 18,
    "start_time": "2022-10-05T06:19:22.498Z"
   },
   {
    "duration": 151055,
    "start_time": "2022-10-05T06:19:22.518Z"
   },
   {
    "duration": 449,
    "start_time": "2022-10-05T06:21:53.574Z"
   },
   {
    "duration": 577,
    "start_time": "2022-10-05T06:21:54.024Z"
   },
   {
    "duration": 126,
    "start_time": "2022-10-05T06:21:54.603Z"
   },
   {
    "duration": 6,
    "start_time": "2022-10-05T06:21:54.731Z"
   },
   {
    "duration": 103940,
    "start_time": "2022-10-05T06:21:54.738Z"
   },
   {
    "duration": 160,
    "start_time": "2022-10-05T06:23:38.680Z"
   },
   {
    "duration": 45200,
    "start_time": "2022-10-05T06:23:38.841Z"
   },
   {
    "duration": 9,
    "start_time": "2022-10-05T06:24:24.043Z"
   },
   {
    "duration": 134,
    "start_time": "2022-10-05T06:24:24.053Z"
   },
   {
    "duration": 8,
    "start_time": "2022-10-05T06:25:20.488Z"
   },
   {
    "duration": 11,
    "start_time": "2022-10-05T06:26:09.702Z"
   },
   {
    "duration": 41,
    "start_time": "2022-10-05T06:26:47.761Z"
   },
   {
    "duration": 29,
    "start_time": "2022-10-05T06:27:26.177Z"
   },
   {
    "duration": 1720,
    "start_time": "2022-10-05T06:27:34.722Z"
   },
   {
    "duration": 795,
    "start_time": "2022-10-05T06:27:36.444Z"
   },
   {
    "duration": 11,
    "start_time": "2022-10-05T06:27:37.241Z"
   },
   {
    "duration": 4,
    "start_time": "2022-10-05T06:27:37.253Z"
   },
   {
    "duration": 245,
    "start_time": "2022-10-05T06:27:37.259Z"
   },
   {
    "duration": 11,
    "start_time": "2022-10-05T06:27:37.506Z"
   },
   {
    "duration": 4,
    "start_time": "2022-10-05T06:27:37.518Z"
   },
   {
    "duration": 38187,
    "start_time": "2022-10-05T06:27:37.523Z"
   },
   {
    "duration": 87,
    "start_time": "2022-10-05T06:28:15.712Z"
   },
   {
    "duration": 43,
    "start_time": "2022-10-05T06:28:15.801Z"
   },
   {
    "duration": 5311,
    "start_time": "2022-10-05T06:28:15.845Z"
   },
   {
    "duration": 4,
    "start_time": "2022-10-05T06:28:21.157Z"
   },
   {
    "duration": 154527,
    "start_time": "2022-10-05T06:28:21.163Z"
   },
   {
    "duration": 36,
    "start_time": "2022-10-05T06:30:55.694Z"
   },
   {
    "duration": 23948,
    "start_time": "2022-10-05T06:30:55.732Z"
   },
   {
    "duration": 15,
    "start_time": "2022-10-05T06:31:19.682Z"
   },
   {
    "duration": 153,
    "start_time": "2022-10-05T06:31:19.699Z"
   },
   {
    "duration": 0,
    "start_time": "2022-10-05T06:31:19.854Z"
   },
   {
    "duration": 0,
    "start_time": "2022-10-05T06:31:19.856Z"
   },
   {
    "duration": 0,
    "start_time": "2022-10-05T06:31:19.858Z"
   },
   {
    "duration": 0,
    "start_time": "2022-10-05T06:31:19.860Z"
   },
   {
    "duration": 0,
    "start_time": "2022-10-05T06:31:19.877Z"
   },
   {
    "duration": 0,
    "start_time": "2022-10-05T06:31:19.878Z"
   },
   {
    "duration": 0,
    "start_time": "2022-10-05T06:31:19.880Z"
   },
   {
    "duration": 1,
    "start_time": "2022-10-05T06:31:19.881Z"
   },
   {
    "duration": 0,
    "start_time": "2022-10-05T06:31:19.883Z"
   },
   {
    "duration": 6,
    "start_time": "2022-10-05T06:32:10.227Z"
   },
   {
    "duration": 28,
    "start_time": "2022-10-05T06:33:04.427Z"
   },
   {
    "duration": 1834,
    "start_time": "2022-10-05T06:33:45.688Z"
   },
   {
    "duration": 776,
    "start_time": "2022-10-05T06:33:47.524Z"
   },
   {
    "duration": 11,
    "start_time": "2022-10-05T06:33:48.302Z"
   },
   {
    "duration": 2,
    "start_time": "2022-10-05T06:33:48.315Z"
   },
   {
    "duration": 248,
    "start_time": "2022-10-05T06:33:48.320Z"
   },
   {
    "duration": 17,
    "start_time": "2022-10-05T06:33:48.569Z"
   },
   {
    "duration": 9,
    "start_time": "2022-10-05T06:33:48.588Z"
   },
   {
    "duration": 38601,
    "start_time": "2022-10-05T06:33:48.599Z"
   },
   {
    "duration": 89,
    "start_time": "2022-10-05T06:34:27.202Z"
   },
   {
    "duration": 42,
    "start_time": "2022-10-05T06:34:27.292Z"
   },
   {
    "duration": 6522,
    "start_time": "2022-10-05T06:34:27.335Z"
   },
   {
    "duration": 5,
    "start_time": "2022-10-05T06:34:33.858Z"
   },
   {
    "duration": 144831,
    "start_time": "2022-10-05T06:34:33.864Z"
   },
   {
    "duration": 36,
    "start_time": "2022-10-05T06:36:58.698Z"
   },
   {
    "duration": 24745,
    "start_time": "2022-10-05T06:36:58.736Z"
   },
   {
    "duration": 16,
    "start_time": "2022-10-05T06:37:23.483Z"
   },
   {
    "duration": 4,
    "start_time": "2022-10-05T06:37:23.502Z"
   },
   {
    "duration": 169,
    "start_time": "2022-10-05T06:37:23.507Z"
   },
   {
    "duration": 0,
    "start_time": "2022-10-05T06:37:23.678Z"
   },
   {
    "duration": 0,
    "start_time": "2022-10-05T06:37:23.679Z"
   },
   {
    "duration": 0,
    "start_time": "2022-10-05T06:37:23.681Z"
   },
   {
    "duration": 0,
    "start_time": "2022-10-05T06:37:23.682Z"
   },
   {
    "duration": 0,
    "start_time": "2022-10-05T06:37:23.682Z"
   },
   {
    "duration": 0,
    "start_time": "2022-10-05T06:37:23.683Z"
   },
   {
    "duration": 0,
    "start_time": "2022-10-05T06:37:23.684Z"
   },
   {
    "duration": 0,
    "start_time": "2022-10-05T06:37:23.685Z"
   },
   {
    "duration": 0,
    "start_time": "2022-10-05T06:37:23.686Z"
   },
   {
    "duration": 56,
    "start_time": "2022-10-05T06:41:24.118Z"
   },
   {
    "duration": 4,
    "start_time": "2022-10-05T06:41:28.125Z"
   },
   {
    "duration": 21,
    "start_time": "2022-10-05T06:41:43.888Z"
   },
   {
    "duration": 1816,
    "start_time": "2022-10-05T06:41:55.676Z"
   },
   {
    "duration": 786,
    "start_time": "2022-10-05T06:41:57.494Z"
   },
   {
    "duration": 13,
    "start_time": "2022-10-05T06:41:58.283Z"
   },
   {
    "duration": 3,
    "start_time": "2022-10-05T06:41:58.297Z"
   },
   {
    "duration": 259,
    "start_time": "2022-10-05T06:41:58.303Z"
   },
   {
    "duration": 19,
    "start_time": "2022-10-05T06:41:58.564Z"
   },
   {
    "duration": 13,
    "start_time": "2022-10-05T06:41:58.585Z"
   },
   {
    "duration": 38313,
    "start_time": "2022-10-05T06:41:58.601Z"
   },
   {
    "duration": 106,
    "start_time": "2022-10-05T06:42:36.916Z"
   },
   {
    "duration": 63,
    "start_time": "2022-10-05T06:42:37.025Z"
   },
   {
    "duration": 6665,
    "start_time": "2022-10-05T06:42:37.090Z"
   },
   {
    "duration": 5,
    "start_time": "2022-10-05T06:42:43.757Z"
   },
   {
    "duration": 149735,
    "start_time": "2022-10-05T06:42:43.763Z"
   },
   {
    "duration": 38,
    "start_time": "2022-10-05T06:45:13.501Z"
   },
   {
    "duration": 24946,
    "start_time": "2022-10-05T06:45:13.540Z"
   },
   {
    "duration": 22,
    "start_time": "2022-10-05T06:45:38.488Z"
   },
   {
    "duration": 4,
    "start_time": "2022-10-05T06:45:38.511Z"
   },
   {
    "duration": 161,
    "start_time": "2022-10-05T06:45:38.517Z"
   },
   {
    "duration": 0,
    "start_time": "2022-10-05T06:45:38.681Z"
   },
   {
    "duration": 0,
    "start_time": "2022-10-05T06:45:38.682Z"
   },
   {
    "duration": 0,
    "start_time": "2022-10-05T06:45:38.683Z"
   },
   {
    "duration": 0,
    "start_time": "2022-10-05T06:45:38.684Z"
   },
   {
    "duration": 0,
    "start_time": "2022-10-05T06:45:38.685Z"
   },
   {
    "duration": 0,
    "start_time": "2022-10-05T06:45:38.686Z"
   },
   {
    "duration": 0,
    "start_time": "2022-10-05T06:45:38.687Z"
   },
   {
    "duration": 0,
    "start_time": "2022-10-05T06:45:38.688Z"
   },
   {
    "duration": 0,
    "start_time": "2022-10-05T06:45:38.689Z"
   },
   {
    "duration": 14,
    "start_time": "2022-10-05T06:46:08.815Z"
   },
   {
    "duration": 149894,
    "start_time": "2022-10-05T06:48:40.026Z"
   },
   {
    "duration": 475,
    "start_time": "2022-10-05T06:51:54.968Z"
   },
   {
    "duration": 659,
    "start_time": "2022-10-05T06:52:02.277Z"
   },
   {
    "duration": 150,
    "start_time": "2022-10-05T06:52:11.471Z"
   },
   {
    "duration": 8,
    "start_time": "2022-10-05T06:52:16.803Z"
   },
   {
    "duration": 111472,
    "start_time": "2022-10-05T06:52:20.639Z"
   },
   {
    "duration": 165,
    "start_time": "2022-10-05T06:54:25.603Z"
   },
   {
    "duration": 48374,
    "start_time": "2022-10-05T06:54:29.739Z"
   },
   {
    "duration": 11,
    "start_time": "2022-10-05T06:55:48.886Z"
   },
   {
    "duration": 3,
    "start_time": "2022-10-05T07:23:49.923Z"
   },
   {
    "duration": 11,
    "start_time": "2022-10-05T07:23:53.233Z"
   },
   {
    "duration": 4,
    "start_time": "2022-10-05T07:23:56.598Z"
   },
   {
    "duration": 29,
    "start_time": "2022-10-05T07:24:06.140Z"
   },
   {
    "duration": 35790,
    "start_time": "2022-10-05T07:24:28.482Z"
   },
   {
    "duration": 26,
    "start_time": "2022-10-05T07:25:28.320Z"
   },
   {
    "duration": 69,
    "start_time": "2022-10-05T07:25:49.571Z"
   },
   {
    "duration": 13,
    "start_time": "2022-10-05T07:26:41.334Z"
   },
   {
    "duration": 769,
    "start_time": "2022-10-05T07:26:45.315Z"
   },
   {
    "duration": 12,
    "start_time": "2022-10-05T07:26:49.612Z"
   },
   {
    "duration": 14,
    "start_time": "2022-10-05T07:26:59.400Z"
   },
   {
    "duration": 7,
    "start_time": "2022-10-05T07:27:15.667Z"
   },
   {
    "duration": 763,
    "start_time": "2022-10-05T07:27:23.153Z"
   },
   {
    "duration": 7,
    "start_time": "2022-10-05T07:27:29.281Z"
   },
   {
    "duration": 21,
    "start_time": "2022-10-05T07:27:33.545Z"
   },
   {
    "duration": 15,
    "start_time": "2022-10-05T07:27:45.615Z"
   },
   {
    "duration": 748,
    "start_time": "2022-10-05T07:27:50.611Z"
   },
   {
    "duration": 8,
    "start_time": "2022-10-05T07:27:54.120Z"
   },
   {
    "duration": 15,
    "start_time": "2022-10-05T07:27:57.134Z"
   },
   {
    "duration": 64,
    "start_time": "2022-10-05T07:28:08.352Z"
   }
  ],
  "kernelspec": {
   "display_name": "Python 3 (ipykernel)",
   "language": "python",
   "name": "python3"
  },
  "language_info": {
   "codemirror_mode": {
    "name": "ipython",
    "version": 3
   },
   "file_extension": ".py",
   "mimetype": "text/x-python",
   "name": "python",
   "nbconvert_exporter": "python",
   "pygments_lexer": "ipython3",
   "version": "3.9.5"
  },
  "toc": {
   "base_numbering": 1,
   "nav_menu": {},
   "number_sections": true,
   "sideBar": true,
   "skip_h1_title": true,
   "title_cell": "Table of Contents",
   "title_sidebar": "Contents",
   "toc_cell": false,
   "toc_position": {},
   "toc_section_display": true,
   "toc_window_display": false
  }
 },
 "nbformat": 4,
 "nbformat_minor": 5
}
