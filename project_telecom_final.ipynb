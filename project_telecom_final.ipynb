{
 "cells": [
  {
   "cell_type": "markdown",
   "id": "72219e10",
   "metadata": {},
   "source": [
    "# Телеком — задача проекта\n",
    "\n",
    "Оператор связи «Ниединогоразрыва.ком» хочет научиться прогнозировать отток клиентов. Если выяснится, что пользователь планирует уйти, ему будут предложены промокоды и специальные условия. Команда оператора собрала персональные данные о некоторых клиентах, информацию об их тарифах и договорах.\n",
    "\n",
    "### Описание услуг\n",
    "\n",
    "Оператор предоставляет два основных типа услуг: \n",
    "\n",
    "1. Стационарную телефонную связь. Возможно подключение телефонного аппарата к нескольким линиям одновременно.\n",
    "2. Интернет. Подключение может быть двух типов: через телефонную линию (DSL*,* от англ. *digital subscriber line*, «цифровая абонентская линия») или оптоволоконный кабель (*Fiber optic*).  \n",
    "\n",
    "Также доступны такие услуги:\n",
    "\n",
    "- Интернет-безопасность: антивирус (*DeviceProtection*) и блокировка небезопасных сайтов (*OnlineSecurity*);\n",
    "- Выделенная линия технической поддержки (*TechSupport*);\n",
    "- Облачное хранилище файлов для резервного копирования данных (*OnlineBackup*);\n",
    "- Стриминговое телевидение (*StreamingTV*) и каталог фильмов (*StreamingMovies*).\n",
    "\n",
    "За услуги клиенты могут платить каждый месяц или заключить договор на 1–2 года. Доступны различные способы расчёта и возможность получения электронного чека.\n",
    "\n",
    "### Описание данных\n",
    "\n",
    "Данные состоят из файлов, полученных из разных источников:\n",
    "\n",
    "- `contract.csv` — информация о договоре;\n",
    "- `personal.csv` — персональные данные клиента;\n",
    "- `internet.csv` — информация об интернет-услугах;\n",
    "- `phone.csv` — информация об услугах телефонии.\n",
    "\n",
    "Во всех файлах столбец `customerID` содержит код клиента.\n",
    "\n",
    "Информация о договорах актуальна на 1 февраля 2020."
   ]
  },
  {
   "cell_type": "markdown",
   "id": "7b3d628c",
   "metadata": {},
   "source": [
    "#### Импортируем необходимые для работы библиотеки "
   ]
  },
  {
   "cell_type": "code",
   "execution_count": 1,
   "id": "0763103d",
   "metadata": {},
   "outputs": [],
   "source": [
    "import pandas as pd\n",
    "import numpy as np\n",
    "import matplotlib.pyplot as plt\n",
    "import seaborn as sns\n",
    "from sklearn.model_selection import train_test_split\n",
    "from sklearn.preprocessing import StandardScaler\n",
    "from sklearn.utils import shuffle\n",
    "from sklearn.linear_model import LogisticRegression\n",
    "from sklearn.model_selection import GridSearchCV\n",
    "from sklearn.metrics import roc_auc_score, roc_curve, accuracy_score\n",
    "from sklearn.tree import DecisionTreeClassifier\n",
    "from sklearn.linear_model import LogisticRegression\n",
    "from sklearn.ensemble import RandomForestClassifier\n",
    "from catboost import CatBoostClassifier\n",
    "from collections import namedtuple\n",
    "import warnings\n",
    "\n",
    "warnings.filterwarnings('ignore')"
   ]
  },
  {
   "cell_type": "code",
   "execution_count": 2,
   "id": "7e885c6b",
   "metadata": {},
   "outputs": [
    {
     "name": "stdout",
     "output_type": "stream",
     "text": [
      "Collecting phik\n",
      "  Downloading phik-0.12.3-cp39-cp39-manylinux_2_17_x86_64.manylinux2014_x86_64.whl (679 kB)\n",
      "\u001b[K     |████████████████████████████████| 679 kB 1.4 MB/s eta 0:00:01\n",
      "\u001b[?25hRequirement already satisfied: scipy>=1.5.2 in /opt/conda/lib/python3.9/site-packages (from phik) (1.9.1)\n",
      "Requirement already satisfied: matplotlib>=2.2.3 in /opt/conda/lib/python3.9/site-packages (from phik) (3.3.4)\n",
      "Requirement already satisfied: numpy>=1.18.0 in /opt/conda/lib/python3.9/site-packages (from phik) (1.21.1)\n",
      "Requirement already satisfied: pandas>=0.25.1 in /opt/conda/lib/python3.9/site-packages (from phik) (1.2.4)\n",
      "Requirement already satisfied: joblib>=0.14.1 in /opt/conda/lib/python3.9/site-packages (from phik) (1.1.0)\n",
      "Requirement already satisfied: kiwisolver>=1.0.1 in /opt/conda/lib/python3.9/site-packages (from matplotlib>=2.2.3->phik) (1.4.4)\n",
      "Requirement already satisfied: pillow>=6.2.0 in /opt/conda/lib/python3.9/site-packages (from matplotlib>=2.2.3->phik) (8.4.0)\n",
      "Requirement already satisfied: cycler>=0.10 in /opt/conda/lib/python3.9/site-packages (from matplotlib>=2.2.3->phik) (0.11.0)\n",
      "Requirement already satisfied: python-dateutil>=2.1 in /opt/conda/lib/python3.9/site-packages (from matplotlib>=2.2.3->phik) (2.8.1)\n",
      "Requirement already satisfied: pyparsing!=2.0.4,!=2.1.2,!=2.1.6,>=2.0.3 in /opt/conda/lib/python3.9/site-packages (from matplotlib>=2.2.3->phik) (2.4.7)\n",
      "Requirement already satisfied: pytz>=2017.3 in /opt/conda/lib/python3.9/site-packages (from pandas>=0.25.1->phik) (2021.1)\n",
      "Requirement already satisfied: six>=1.5 in /opt/conda/lib/python3.9/site-packages (from python-dateutil>=2.1->matplotlib>=2.2.3->phik) (1.16.0)\n",
      "Installing collected packages: phik\n",
      "Successfully installed phik-0.12.3\n"
     ]
    }
   ],
   "source": [
    "! pip install phik "
   ]
  },
  {
   "cell_type": "code",
   "execution_count": 3,
   "id": "b77d69d1",
   "metadata": {},
   "outputs": [],
   "source": [
    "import phik\n",
    "from phik.report import plot_correlation_matrix\n",
    "from phik import report"
   ]
  },
  {
   "cell_type": "markdown",
   "id": "047d9bb1",
   "metadata": {},
   "source": [
    "# 1. Изучение данных "
   ]
  },
  {
   "cell_type": "code",
   "execution_count": 4,
   "id": "b9bb50f4",
   "metadata": {},
   "outputs": [],
   "source": [
    "df_contract= pd.read_csv('/Users/roman/Desktop/final_provider/contract.csv')\n",
    "df_personal = pd.read_csv('/Users/roman/Desktop/final_provider/personal.csv')\n",
    "df_internet = pd.read_csv('/Users/roman/Desktop/final_provider/internet.csv')\n",
    "df_phone = pd.read_csv('/Users/roman/Desktop/final_provider/phone.csv')"
   ]
  },
  {
   "cell_type": "code",
   "execution_count": 5,
   "id": "89d4a456",
   "metadata": {},
   "outputs": [],
   "source": [
    "def data_info(df):\n",
    "    display(df.head())\n",
    "    display(df.info())\n",
    "    display('Количество дубликатов строк', df.duplicated().sum())\n",
    "    display('Количество пропусков в данных по столбцам', df.isna().sum())\n",
    "    display('Оценка непрерывных данных', df.describe())\n",
    "    display('Название столбцов', df.columns)\n",
    "    display('Количесвто столбцов', df.shape[1])\n",
    "    display('Количество строк', df.shape[0])"
   ]
  },
  {
   "cell_type": "markdown",
   "id": "a819aec7",
   "metadata": {},
   "source": [
    "### Файл df_contract - информация о договорах c Клиентами"
   ]
  },
  {
   "cell_type": "code",
   "execution_count": 6,
   "id": "ebba06e1",
   "metadata": {},
   "outputs": [
    {
     "data": {
      "text/html": [
       "<div>\n",
       "<style scoped>\n",
       "    .dataframe tbody tr th:only-of-type {\n",
       "        vertical-align: middle;\n",
       "    }\n",
       "\n",
       "    .dataframe tbody tr th {\n",
       "        vertical-align: top;\n",
       "    }\n",
       "\n",
       "    .dataframe thead th {\n",
       "        text-align: right;\n",
       "    }\n",
       "</style>\n",
       "<table border=\"1\" class=\"dataframe\">\n",
       "  <thead>\n",
       "    <tr style=\"text-align: right;\">\n",
       "      <th></th>\n",
       "      <th>customerID</th>\n",
       "      <th>BeginDate</th>\n",
       "      <th>EndDate</th>\n",
       "      <th>Type</th>\n",
       "      <th>PaperlessBilling</th>\n",
       "      <th>PaymentMethod</th>\n",
       "      <th>MonthlyCharges</th>\n",
       "      <th>TotalCharges</th>\n",
       "    </tr>\n",
       "  </thead>\n",
       "  <tbody>\n",
       "    <tr>\n",
       "      <th>0</th>\n",
       "      <td>7590-VHVEG</td>\n",
       "      <td>2020-01-01</td>\n",
       "      <td>No</td>\n",
       "      <td>Month-to-month</td>\n",
       "      <td>Yes</td>\n",
       "      <td>Electronic check</td>\n",
       "      <td>29.85</td>\n",
       "      <td>29.85</td>\n",
       "    </tr>\n",
       "    <tr>\n",
       "      <th>1</th>\n",
       "      <td>5575-GNVDE</td>\n",
       "      <td>2017-04-01</td>\n",
       "      <td>No</td>\n",
       "      <td>One year</td>\n",
       "      <td>No</td>\n",
       "      <td>Mailed check</td>\n",
       "      <td>56.95</td>\n",
       "      <td>1889.5</td>\n",
       "    </tr>\n",
       "    <tr>\n",
       "      <th>2</th>\n",
       "      <td>3668-QPYBK</td>\n",
       "      <td>2019-10-01</td>\n",
       "      <td>2019-12-01 00:00:00</td>\n",
       "      <td>Month-to-month</td>\n",
       "      <td>Yes</td>\n",
       "      <td>Mailed check</td>\n",
       "      <td>53.85</td>\n",
       "      <td>108.15</td>\n",
       "    </tr>\n",
       "    <tr>\n",
       "      <th>3</th>\n",
       "      <td>7795-CFOCW</td>\n",
       "      <td>2016-05-01</td>\n",
       "      <td>No</td>\n",
       "      <td>One year</td>\n",
       "      <td>No</td>\n",
       "      <td>Bank transfer (automatic)</td>\n",
       "      <td>42.30</td>\n",
       "      <td>1840.75</td>\n",
       "    </tr>\n",
       "    <tr>\n",
       "      <th>4</th>\n",
       "      <td>9237-HQITU</td>\n",
       "      <td>2019-09-01</td>\n",
       "      <td>2019-11-01 00:00:00</td>\n",
       "      <td>Month-to-month</td>\n",
       "      <td>Yes</td>\n",
       "      <td>Electronic check</td>\n",
       "      <td>70.70</td>\n",
       "      <td>151.65</td>\n",
       "    </tr>\n",
       "  </tbody>\n",
       "</table>\n",
       "</div>"
      ],
      "text/plain": [
       "   customerID   BeginDate              EndDate            Type  \\\n",
       "0  7590-VHVEG  2020-01-01                   No  Month-to-month   \n",
       "1  5575-GNVDE  2017-04-01                   No        One year   \n",
       "2  3668-QPYBK  2019-10-01  2019-12-01 00:00:00  Month-to-month   \n",
       "3  7795-CFOCW  2016-05-01                   No        One year   \n",
       "4  9237-HQITU  2019-09-01  2019-11-01 00:00:00  Month-to-month   \n",
       "\n",
       "  PaperlessBilling              PaymentMethod  MonthlyCharges TotalCharges  \n",
       "0              Yes           Electronic check           29.85        29.85  \n",
       "1               No               Mailed check           56.95       1889.5  \n",
       "2              Yes               Mailed check           53.85       108.15  \n",
       "3               No  Bank transfer (automatic)           42.30      1840.75  \n",
       "4              Yes           Electronic check           70.70       151.65  "
      ]
     },
     "metadata": {},
     "output_type": "display_data"
    },
    {
     "name": "stdout",
     "output_type": "stream",
     "text": [
      "<class 'pandas.core.frame.DataFrame'>\n",
      "RangeIndex: 7043 entries, 0 to 7042\n",
      "Data columns (total 8 columns):\n",
      " #   Column            Non-Null Count  Dtype  \n",
      "---  ------            --------------  -----  \n",
      " 0   customerID        7043 non-null   object \n",
      " 1   BeginDate         7043 non-null   object \n",
      " 2   EndDate           7043 non-null   object \n",
      " 3   Type              7043 non-null   object \n",
      " 4   PaperlessBilling  7043 non-null   object \n",
      " 5   PaymentMethod     7043 non-null   object \n",
      " 6   MonthlyCharges    7043 non-null   float64\n",
      " 7   TotalCharges      7043 non-null   object \n",
      "dtypes: float64(1), object(7)\n",
      "memory usage: 440.3+ KB\n"
     ]
    },
    {
     "data": {
      "text/plain": [
       "None"
      ]
     },
     "metadata": {},
     "output_type": "display_data"
    },
    {
     "data": {
      "text/plain": [
       "'Количество дубликатов строк'"
      ]
     },
     "metadata": {},
     "output_type": "display_data"
    },
    {
     "data": {
      "text/plain": [
       "0"
      ]
     },
     "metadata": {},
     "output_type": "display_data"
    },
    {
     "data": {
      "text/plain": [
       "'Количество пропусков в данных по столбцам'"
      ]
     },
     "metadata": {},
     "output_type": "display_data"
    },
    {
     "data": {
      "text/plain": [
       "customerID          0\n",
       "BeginDate           0\n",
       "EndDate             0\n",
       "Type                0\n",
       "PaperlessBilling    0\n",
       "PaymentMethod       0\n",
       "MonthlyCharges      0\n",
       "TotalCharges        0\n",
       "dtype: int64"
      ]
     },
     "metadata": {},
     "output_type": "display_data"
    },
    {
     "data": {
      "text/plain": [
       "'Оценка непрерывных данных'"
      ]
     },
     "metadata": {},
     "output_type": "display_data"
    },
    {
     "data": {
      "text/html": [
       "<div>\n",
       "<style scoped>\n",
       "    .dataframe tbody tr th:only-of-type {\n",
       "        vertical-align: middle;\n",
       "    }\n",
       "\n",
       "    .dataframe tbody tr th {\n",
       "        vertical-align: top;\n",
       "    }\n",
       "\n",
       "    .dataframe thead th {\n",
       "        text-align: right;\n",
       "    }\n",
       "</style>\n",
       "<table border=\"1\" class=\"dataframe\">\n",
       "  <thead>\n",
       "    <tr style=\"text-align: right;\">\n",
       "      <th></th>\n",
       "      <th>MonthlyCharges</th>\n",
       "    </tr>\n",
       "  </thead>\n",
       "  <tbody>\n",
       "    <tr>\n",
       "      <th>count</th>\n",
       "      <td>7043.000000</td>\n",
       "    </tr>\n",
       "    <tr>\n",
       "      <th>mean</th>\n",
       "      <td>64.761692</td>\n",
       "    </tr>\n",
       "    <tr>\n",
       "      <th>std</th>\n",
       "      <td>30.090047</td>\n",
       "    </tr>\n",
       "    <tr>\n",
       "      <th>min</th>\n",
       "      <td>18.250000</td>\n",
       "    </tr>\n",
       "    <tr>\n",
       "      <th>25%</th>\n",
       "      <td>35.500000</td>\n",
       "    </tr>\n",
       "    <tr>\n",
       "      <th>50%</th>\n",
       "      <td>70.350000</td>\n",
       "    </tr>\n",
       "    <tr>\n",
       "      <th>75%</th>\n",
       "      <td>89.850000</td>\n",
       "    </tr>\n",
       "    <tr>\n",
       "      <th>max</th>\n",
       "      <td>118.750000</td>\n",
       "    </tr>\n",
       "  </tbody>\n",
       "</table>\n",
       "</div>"
      ],
      "text/plain": [
       "       MonthlyCharges\n",
       "count     7043.000000\n",
       "mean        64.761692\n",
       "std         30.090047\n",
       "min         18.250000\n",
       "25%         35.500000\n",
       "50%         70.350000\n",
       "75%         89.850000\n",
       "max        118.750000"
      ]
     },
     "metadata": {},
     "output_type": "display_data"
    },
    {
     "data": {
      "text/plain": [
       "'Название столбцов'"
      ]
     },
     "metadata": {},
     "output_type": "display_data"
    },
    {
     "data": {
      "text/plain": [
       "Index(['customerID', 'BeginDate', 'EndDate', 'Type', 'PaperlessBilling',\n",
       "       'PaymentMethod', 'MonthlyCharges', 'TotalCharges'],\n",
       "      dtype='object')"
      ]
     },
     "metadata": {},
     "output_type": "display_data"
    },
    {
     "data": {
      "text/plain": [
       "'Количесвто столбцов'"
      ]
     },
     "metadata": {},
     "output_type": "display_data"
    },
    {
     "data": {
      "text/plain": [
       "8"
      ]
     },
     "metadata": {},
     "output_type": "display_data"
    },
    {
     "data": {
      "text/plain": [
       "'Количество строк'"
      ]
     },
     "metadata": {},
     "output_type": "display_data"
    },
    {
     "data": {
      "text/plain": [
       "7043"
      ]
     },
     "metadata": {},
     "output_type": "display_data"
    }
   ],
   "source": [
    "data_info(df_contract) "
   ]
  },
  {
   "cell_type": "code",
   "execution_count": 7,
   "id": "263ed0db",
   "metadata": {},
   "outputs": [
    {
     "data": {
      "text/plain": [
       "Month-to-month    3875\n",
       "Two year          1695\n",
       "One year          1473\n",
       "Name: Type, dtype: int64"
      ]
     },
     "execution_count": 7,
     "metadata": {},
     "output_type": "execute_result"
    }
   ],
   "source": [
    "df_contract['Type'].value_counts()"
   ]
  },
  {
   "cell_type": "code",
   "execution_count": 8,
   "id": "4a43e67f",
   "metadata": {},
   "outputs": [
    {
     "data": {
      "text/plain": [
       "Electronic check             2365\n",
       "Mailed check                 1612\n",
       "Bank transfer (automatic)    1544\n",
       "Credit card (automatic)      1522\n",
       "Name: PaymentMethod, dtype: int64"
      ]
     },
     "execution_count": 8,
     "metadata": {},
     "output_type": "execute_result"
    }
   ],
   "source": [
    "df_contract['PaymentMethod'].value_counts()"
   ]
  },
  {
   "cell_type": "code",
   "execution_count": 9,
   "id": "7227bb95",
   "metadata": {},
   "outputs": [
    {
     "data": {
      "text/plain": [
       "Yes    4171\n",
       "No     2872\n",
       "Name: PaperlessBilling, dtype: int64"
      ]
     },
     "execution_count": 9,
     "metadata": {},
     "output_type": "execute_result"
    }
   ],
   "source": [
    "df_contract['PaperlessBilling'].value_counts()"
   ]
  },
  {
   "cell_type": "markdown",
   "id": "205b5c47",
   "metadata": {},
   "source": [
    "### Что необходимо сделать для дальнейшей работы:\n",
    "   - необходимо переименовать название столбцов используя змениный стиль и заглавные буквы в названии\n",
    "   - необходимо поменять тип данных в дате начала / конца контракта \n",
    "   - необходимо перевести тип данных TotalCharges в float64 \n",
    "   - также перевести данные о дате начале и конца договора в формат date time \n",
    "   - для определения дюрации необходимо вычесть из даты начала договора, дату его окончания"
   ]
  },
  {
   "cell_type": "markdown",
   "id": "f61eecaf",
   "metadata": {},
   "source": [
    "### Файл df_personal - информация о клиентах"
   ]
  },
  {
   "cell_type": "code",
   "execution_count": 10,
   "id": "c984d864",
   "metadata": {},
   "outputs": [
    {
     "data": {
      "text/html": [
       "<div>\n",
       "<style scoped>\n",
       "    .dataframe tbody tr th:only-of-type {\n",
       "        vertical-align: middle;\n",
       "    }\n",
       "\n",
       "    .dataframe tbody tr th {\n",
       "        vertical-align: top;\n",
       "    }\n",
       "\n",
       "    .dataframe thead th {\n",
       "        text-align: right;\n",
       "    }\n",
       "</style>\n",
       "<table border=\"1\" class=\"dataframe\">\n",
       "  <thead>\n",
       "    <tr style=\"text-align: right;\">\n",
       "      <th></th>\n",
       "      <th>customerID</th>\n",
       "      <th>gender</th>\n",
       "      <th>SeniorCitizen</th>\n",
       "      <th>Partner</th>\n",
       "      <th>Dependents</th>\n",
       "    </tr>\n",
       "  </thead>\n",
       "  <tbody>\n",
       "    <tr>\n",
       "      <th>0</th>\n",
       "      <td>7590-VHVEG</td>\n",
       "      <td>Female</td>\n",
       "      <td>0</td>\n",
       "      <td>Yes</td>\n",
       "      <td>No</td>\n",
       "    </tr>\n",
       "    <tr>\n",
       "      <th>1</th>\n",
       "      <td>5575-GNVDE</td>\n",
       "      <td>Male</td>\n",
       "      <td>0</td>\n",
       "      <td>No</td>\n",
       "      <td>No</td>\n",
       "    </tr>\n",
       "    <tr>\n",
       "      <th>2</th>\n",
       "      <td>3668-QPYBK</td>\n",
       "      <td>Male</td>\n",
       "      <td>0</td>\n",
       "      <td>No</td>\n",
       "      <td>No</td>\n",
       "    </tr>\n",
       "    <tr>\n",
       "      <th>3</th>\n",
       "      <td>7795-CFOCW</td>\n",
       "      <td>Male</td>\n",
       "      <td>0</td>\n",
       "      <td>No</td>\n",
       "      <td>No</td>\n",
       "    </tr>\n",
       "    <tr>\n",
       "      <th>4</th>\n",
       "      <td>9237-HQITU</td>\n",
       "      <td>Female</td>\n",
       "      <td>0</td>\n",
       "      <td>No</td>\n",
       "      <td>No</td>\n",
       "    </tr>\n",
       "  </tbody>\n",
       "</table>\n",
       "</div>"
      ],
      "text/plain": [
       "   customerID  gender  SeniorCitizen Partner Dependents\n",
       "0  7590-VHVEG  Female              0     Yes         No\n",
       "1  5575-GNVDE    Male              0      No         No\n",
       "2  3668-QPYBK    Male              0      No         No\n",
       "3  7795-CFOCW    Male              0      No         No\n",
       "4  9237-HQITU  Female              0      No         No"
      ]
     },
     "metadata": {},
     "output_type": "display_data"
    },
    {
     "name": "stdout",
     "output_type": "stream",
     "text": [
      "<class 'pandas.core.frame.DataFrame'>\n",
      "RangeIndex: 7043 entries, 0 to 7042\n",
      "Data columns (total 5 columns):\n",
      " #   Column         Non-Null Count  Dtype \n",
      "---  ------         --------------  ----- \n",
      " 0   customerID     7043 non-null   object\n",
      " 1   gender         7043 non-null   object\n",
      " 2   SeniorCitizen  7043 non-null   int64 \n",
      " 3   Partner        7043 non-null   object\n",
      " 4   Dependents     7043 non-null   object\n",
      "dtypes: int64(1), object(4)\n",
      "memory usage: 275.2+ KB\n"
     ]
    },
    {
     "data": {
      "text/plain": [
       "None"
      ]
     },
     "metadata": {},
     "output_type": "display_data"
    },
    {
     "data": {
      "text/plain": [
       "'Количество дубликатов строк'"
      ]
     },
     "metadata": {},
     "output_type": "display_data"
    },
    {
     "data": {
      "text/plain": [
       "0"
      ]
     },
     "metadata": {},
     "output_type": "display_data"
    },
    {
     "data": {
      "text/plain": [
       "'Количество пропусков в данных по столбцам'"
      ]
     },
     "metadata": {},
     "output_type": "display_data"
    },
    {
     "data": {
      "text/plain": [
       "customerID       0\n",
       "gender           0\n",
       "SeniorCitizen    0\n",
       "Partner          0\n",
       "Dependents       0\n",
       "dtype: int64"
      ]
     },
     "metadata": {},
     "output_type": "display_data"
    },
    {
     "data": {
      "text/plain": [
       "'Оценка непрерывных данных'"
      ]
     },
     "metadata": {},
     "output_type": "display_data"
    },
    {
     "data": {
      "text/html": [
       "<div>\n",
       "<style scoped>\n",
       "    .dataframe tbody tr th:only-of-type {\n",
       "        vertical-align: middle;\n",
       "    }\n",
       "\n",
       "    .dataframe tbody tr th {\n",
       "        vertical-align: top;\n",
       "    }\n",
       "\n",
       "    .dataframe thead th {\n",
       "        text-align: right;\n",
       "    }\n",
       "</style>\n",
       "<table border=\"1\" class=\"dataframe\">\n",
       "  <thead>\n",
       "    <tr style=\"text-align: right;\">\n",
       "      <th></th>\n",
       "      <th>SeniorCitizen</th>\n",
       "    </tr>\n",
       "  </thead>\n",
       "  <tbody>\n",
       "    <tr>\n",
       "      <th>count</th>\n",
       "      <td>7043.000000</td>\n",
       "    </tr>\n",
       "    <tr>\n",
       "      <th>mean</th>\n",
       "      <td>0.162147</td>\n",
       "    </tr>\n",
       "    <tr>\n",
       "      <th>std</th>\n",
       "      <td>0.368612</td>\n",
       "    </tr>\n",
       "    <tr>\n",
       "      <th>min</th>\n",
       "      <td>0.000000</td>\n",
       "    </tr>\n",
       "    <tr>\n",
       "      <th>25%</th>\n",
       "      <td>0.000000</td>\n",
       "    </tr>\n",
       "    <tr>\n",
       "      <th>50%</th>\n",
       "      <td>0.000000</td>\n",
       "    </tr>\n",
       "    <tr>\n",
       "      <th>75%</th>\n",
       "      <td>0.000000</td>\n",
       "    </tr>\n",
       "    <tr>\n",
       "      <th>max</th>\n",
       "      <td>1.000000</td>\n",
       "    </tr>\n",
       "  </tbody>\n",
       "</table>\n",
       "</div>"
      ],
      "text/plain": [
       "       SeniorCitizen\n",
       "count    7043.000000\n",
       "mean        0.162147\n",
       "std         0.368612\n",
       "min         0.000000\n",
       "25%         0.000000\n",
       "50%         0.000000\n",
       "75%         0.000000\n",
       "max         1.000000"
      ]
     },
     "metadata": {},
     "output_type": "display_data"
    },
    {
     "data": {
      "text/plain": [
       "'Название столбцов'"
      ]
     },
     "metadata": {},
     "output_type": "display_data"
    },
    {
     "data": {
      "text/plain": [
       "Index(['customerID', 'gender', 'SeniorCitizen', 'Partner', 'Dependents'], dtype='object')"
      ]
     },
     "metadata": {},
     "output_type": "display_data"
    },
    {
     "data": {
      "text/plain": [
       "'Количесвто столбцов'"
      ]
     },
     "metadata": {},
     "output_type": "display_data"
    },
    {
     "data": {
      "text/plain": [
       "5"
      ]
     },
     "metadata": {},
     "output_type": "display_data"
    },
    {
     "data": {
      "text/plain": [
       "'Количество строк'"
      ]
     },
     "metadata": {},
     "output_type": "display_data"
    },
    {
     "data": {
      "text/plain": [
       "7043"
      ]
     },
     "metadata": {},
     "output_type": "display_data"
    }
   ],
   "source": [
    "data_info(df_personal) "
   ]
  },
  {
   "cell_type": "code",
   "execution_count": 11,
   "id": "dc7f786d",
   "metadata": {},
   "outputs": [
    {
     "data": {
      "text/plain": [
       "Male      3555\n",
       "Female    3488\n",
       "Name: gender, dtype: int64"
      ]
     },
     "execution_count": 11,
     "metadata": {},
     "output_type": "execute_result"
    }
   ],
   "source": [
    "df_personal['gender'].value_counts()"
   ]
  },
  {
   "cell_type": "code",
   "execution_count": 12,
   "id": "abf1e288",
   "metadata": {},
   "outputs": [
    {
     "data": {
      "text/plain": [
       "No     3641\n",
       "Yes    3402\n",
       "Name: Partner, dtype: int64"
      ]
     },
     "execution_count": 12,
     "metadata": {},
     "output_type": "execute_result"
    }
   ],
   "source": [
    "df_personal['Partner'].value_counts()"
   ]
  },
  {
   "cell_type": "code",
   "execution_count": 13,
   "id": "4e100707",
   "metadata": {},
   "outputs": [
    {
     "data": {
      "text/plain": [
       "No     4933\n",
       "Yes    2110\n",
       "Name: Dependents, dtype: int64"
      ]
     },
     "execution_count": 13,
     "metadata": {},
     "output_type": "execute_result"
    }
   ],
   "source": [
    "df_personal['Dependents'].value_counts()"
   ]
  },
  {
   "cell_type": "markdown",
   "id": "b14a042d",
   "metadata": {},
   "source": [
    "#### Вывод: \n",
    "   - данные корректны \n",
    "   - необходимо поменять название столбцов\n",
    "   \n",
    "   - в дальнейшем необходимо провести кодировку категориальных признаков Partner, Dependents, Gender"
   ]
  },
  {
   "cell_type": "markdown",
   "id": "cf0fb9e9",
   "metadata": {},
   "source": [
    "### Файл df_internet - информация об интернет услугах"
   ]
  },
  {
   "cell_type": "code",
   "execution_count": 14,
   "id": "c44ff250",
   "metadata": {},
   "outputs": [
    {
     "data": {
      "text/html": [
       "<div>\n",
       "<style scoped>\n",
       "    .dataframe tbody tr th:only-of-type {\n",
       "        vertical-align: middle;\n",
       "    }\n",
       "\n",
       "    .dataframe tbody tr th {\n",
       "        vertical-align: top;\n",
       "    }\n",
       "\n",
       "    .dataframe thead th {\n",
       "        text-align: right;\n",
       "    }\n",
       "</style>\n",
       "<table border=\"1\" class=\"dataframe\">\n",
       "  <thead>\n",
       "    <tr style=\"text-align: right;\">\n",
       "      <th></th>\n",
       "      <th>customerID</th>\n",
       "      <th>InternetService</th>\n",
       "      <th>OnlineSecurity</th>\n",
       "      <th>OnlineBackup</th>\n",
       "      <th>DeviceProtection</th>\n",
       "      <th>TechSupport</th>\n",
       "      <th>StreamingTV</th>\n",
       "      <th>StreamingMovies</th>\n",
       "    </tr>\n",
       "  </thead>\n",
       "  <tbody>\n",
       "    <tr>\n",
       "      <th>0</th>\n",
       "      <td>7590-VHVEG</td>\n",
       "      <td>DSL</td>\n",
       "      <td>No</td>\n",
       "      <td>Yes</td>\n",
       "      <td>No</td>\n",
       "      <td>No</td>\n",
       "      <td>No</td>\n",
       "      <td>No</td>\n",
       "    </tr>\n",
       "    <tr>\n",
       "      <th>1</th>\n",
       "      <td>5575-GNVDE</td>\n",
       "      <td>DSL</td>\n",
       "      <td>Yes</td>\n",
       "      <td>No</td>\n",
       "      <td>Yes</td>\n",
       "      <td>No</td>\n",
       "      <td>No</td>\n",
       "      <td>No</td>\n",
       "    </tr>\n",
       "    <tr>\n",
       "      <th>2</th>\n",
       "      <td>3668-QPYBK</td>\n",
       "      <td>DSL</td>\n",
       "      <td>Yes</td>\n",
       "      <td>Yes</td>\n",
       "      <td>No</td>\n",
       "      <td>No</td>\n",
       "      <td>No</td>\n",
       "      <td>No</td>\n",
       "    </tr>\n",
       "    <tr>\n",
       "      <th>3</th>\n",
       "      <td>7795-CFOCW</td>\n",
       "      <td>DSL</td>\n",
       "      <td>Yes</td>\n",
       "      <td>No</td>\n",
       "      <td>Yes</td>\n",
       "      <td>Yes</td>\n",
       "      <td>No</td>\n",
       "      <td>No</td>\n",
       "    </tr>\n",
       "    <tr>\n",
       "      <th>4</th>\n",
       "      <td>9237-HQITU</td>\n",
       "      <td>Fiber optic</td>\n",
       "      <td>No</td>\n",
       "      <td>No</td>\n",
       "      <td>No</td>\n",
       "      <td>No</td>\n",
       "      <td>No</td>\n",
       "      <td>No</td>\n",
       "    </tr>\n",
       "  </tbody>\n",
       "</table>\n",
       "</div>"
      ],
      "text/plain": [
       "   customerID InternetService OnlineSecurity OnlineBackup DeviceProtection  \\\n",
       "0  7590-VHVEG             DSL             No          Yes               No   \n",
       "1  5575-GNVDE             DSL            Yes           No              Yes   \n",
       "2  3668-QPYBK             DSL            Yes          Yes               No   \n",
       "3  7795-CFOCW             DSL            Yes           No              Yes   \n",
       "4  9237-HQITU     Fiber optic             No           No               No   \n",
       "\n",
       "  TechSupport StreamingTV StreamingMovies  \n",
       "0          No          No              No  \n",
       "1          No          No              No  \n",
       "2          No          No              No  \n",
       "3         Yes          No              No  \n",
       "4          No          No              No  "
      ]
     },
     "metadata": {},
     "output_type": "display_data"
    },
    {
     "name": "stdout",
     "output_type": "stream",
     "text": [
      "<class 'pandas.core.frame.DataFrame'>\n",
      "RangeIndex: 5517 entries, 0 to 5516\n",
      "Data columns (total 8 columns):\n",
      " #   Column            Non-Null Count  Dtype \n",
      "---  ------            --------------  ----- \n",
      " 0   customerID        5517 non-null   object\n",
      " 1   InternetService   5517 non-null   object\n",
      " 2   OnlineSecurity    5517 non-null   object\n",
      " 3   OnlineBackup      5517 non-null   object\n",
      " 4   DeviceProtection  5517 non-null   object\n",
      " 5   TechSupport       5517 non-null   object\n",
      " 6   StreamingTV       5517 non-null   object\n",
      " 7   StreamingMovies   5517 non-null   object\n",
      "dtypes: object(8)\n",
      "memory usage: 344.9+ KB\n"
     ]
    },
    {
     "data": {
      "text/plain": [
       "None"
      ]
     },
     "metadata": {},
     "output_type": "display_data"
    },
    {
     "data": {
      "text/plain": [
       "'Количество дубликатов строк'"
      ]
     },
     "metadata": {},
     "output_type": "display_data"
    },
    {
     "data": {
      "text/plain": [
       "0"
      ]
     },
     "metadata": {},
     "output_type": "display_data"
    },
    {
     "data": {
      "text/plain": [
       "'Количество пропусков в данных по столбцам'"
      ]
     },
     "metadata": {},
     "output_type": "display_data"
    },
    {
     "data": {
      "text/plain": [
       "customerID          0\n",
       "InternetService     0\n",
       "OnlineSecurity      0\n",
       "OnlineBackup        0\n",
       "DeviceProtection    0\n",
       "TechSupport         0\n",
       "StreamingTV         0\n",
       "StreamingMovies     0\n",
       "dtype: int64"
      ]
     },
     "metadata": {},
     "output_type": "display_data"
    },
    {
     "data": {
      "text/plain": [
       "'Оценка непрерывных данных'"
      ]
     },
     "metadata": {},
     "output_type": "display_data"
    },
    {
     "data": {
      "text/html": [
       "<div>\n",
       "<style scoped>\n",
       "    .dataframe tbody tr th:only-of-type {\n",
       "        vertical-align: middle;\n",
       "    }\n",
       "\n",
       "    .dataframe tbody tr th {\n",
       "        vertical-align: top;\n",
       "    }\n",
       "\n",
       "    .dataframe thead th {\n",
       "        text-align: right;\n",
       "    }\n",
       "</style>\n",
       "<table border=\"1\" class=\"dataframe\">\n",
       "  <thead>\n",
       "    <tr style=\"text-align: right;\">\n",
       "      <th></th>\n",
       "      <th>customerID</th>\n",
       "      <th>InternetService</th>\n",
       "      <th>OnlineSecurity</th>\n",
       "      <th>OnlineBackup</th>\n",
       "      <th>DeviceProtection</th>\n",
       "      <th>TechSupport</th>\n",
       "      <th>StreamingTV</th>\n",
       "      <th>StreamingMovies</th>\n",
       "    </tr>\n",
       "  </thead>\n",
       "  <tbody>\n",
       "    <tr>\n",
       "      <th>count</th>\n",
       "      <td>5517</td>\n",
       "      <td>5517</td>\n",
       "      <td>5517</td>\n",
       "      <td>5517</td>\n",
       "      <td>5517</td>\n",
       "      <td>5517</td>\n",
       "      <td>5517</td>\n",
       "      <td>5517</td>\n",
       "    </tr>\n",
       "    <tr>\n",
       "      <th>unique</th>\n",
       "      <td>5517</td>\n",
       "      <td>2</td>\n",
       "      <td>2</td>\n",
       "      <td>2</td>\n",
       "      <td>2</td>\n",
       "      <td>2</td>\n",
       "      <td>2</td>\n",
       "      <td>2</td>\n",
       "    </tr>\n",
       "    <tr>\n",
       "      <th>top</th>\n",
       "      <td>4800-CZMPC</td>\n",
       "      <td>Fiber optic</td>\n",
       "      <td>No</td>\n",
       "      <td>No</td>\n",
       "      <td>No</td>\n",
       "      <td>No</td>\n",
       "      <td>No</td>\n",
       "      <td>No</td>\n",
       "    </tr>\n",
       "    <tr>\n",
       "      <th>freq</th>\n",
       "      <td>1</td>\n",
       "      <td>3096</td>\n",
       "      <td>3498</td>\n",
       "      <td>3088</td>\n",
       "      <td>3095</td>\n",
       "      <td>3473</td>\n",
       "      <td>2810</td>\n",
       "      <td>2785</td>\n",
       "    </tr>\n",
       "  </tbody>\n",
       "</table>\n",
       "</div>"
      ],
      "text/plain": [
       "        customerID InternetService OnlineSecurity OnlineBackup  \\\n",
       "count         5517            5517           5517         5517   \n",
       "unique        5517               2              2            2   \n",
       "top     4800-CZMPC     Fiber optic             No           No   \n",
       "freq             1            3096           3498         3088   \n",
       "\n",
       "       DeviceProtection TechSupport StreamingTV StreamingMovies  \n",
       "count              5517        5517        5517            5517  \n",
       "unique                2           2           2               2  \n",
       "top                  No          No          No              No  \n",
       "freq               3095        3473        2810            2785  "
      ]
     },
     "metadata": {},
     "output_type": "display_data"
    },
    {
     "data": {
      "text/plain": [
       "'Название столбцов'"
      ]
     },
     "metadata": {},
     "output_type": "display_data"
    },
    {
     "data": {
      "text/plain": [
       "Index(['customerID', 'InternetService', 'OnlineSecurity', 'OnlineBackup',\n",
       "       'DeviceProtection', 'TechSupport', 'StreamingTV', 'StreamingMovies'],\n",
       "      dtype='object')"
      ]
     },
     "metadata": {},
     "output_type": "display_data"
    },
    {
     "data": {
      "text/plain": [
       "'Количесвто столбцов'"
      ]
     },
     "metadata": {},
     "output_type": "display_data"
    },
    {
     "data": {
      "text/plain": [
       "8"
      ]
     },
     "metadata": {},
     "output_type": "display_data"
    },
    {
     "data": {
      "text/plain": [
       "'Количество строк'"
      ]
     },
     "metadata": {},
     "output_type": "display_data"
    },
    {
     "data": {
      "text/plain": [
       "5517"
      ]
     },
     "metadata": {},
     "output_type": "display_data"
    }
   ],
   "source": [
    "data_info(df_internet) "
   ]
  },
  {
   "cell_type": "code",
   "execution_count": 15,
   "id": "e7d665b5",
   "metadata": {},
   "outputs": [
    {
     "data": {
      "text/plain": [
       "Fiber optic    3096\n",
       "DSL            2421\n",
       "Name: InternetService, dtype: int64"
      ]
     },
     "execution_count": 15,
     "metadata": {},
     "output_type": "execute_result"
    }
   ],
   "source": [
    "df_internet['InternetService'].value_counts()"
   ]
  },
  {
   "cell_type": "code",
   "execution_count": 16,
   "id": "2263f092",
   "metadata": {},
   "outputs": [
    {
     "data": {
      "text/plain": [
       "No     3498\n",
       "Yes    2019\n",
       "Name: OnlineSecurity, dtype: int64"
      ]
     },
     "execution_count": 16,
     "metadata": {},
     "output_type": "execute_result"
    }
   ],
   "source": [
    "df_internet['OnlineSecurity'].value_counts()"
   ]
  },
  {
   "cell_type": "markdown",
   "id": "8bf25e70",
   "metadata": {},
   "source": [
    "### Вывод:\n",
    "   - необходимо поменять тип данных\n",
    "   - необходимо провести кодировку признаков "
   ]
  },
  {
   "cell_type": "markdown",
   "id": "94beea4b",
   "metadata": {},
   "source": [
    "### Файл df_phone - информация об услугах телефонии "
   ]
  },
  {
   "cell_type": "code",
   "execution_count": 17,
   "id": "65f52bbb",
   "metadata": {},
   "outputs": [
    {
     "data": {
      "text/html": [
       "<div>\n",
       "<style scoped>\n",
       "    .dataframe tbody tr th:only-of-type {\n",
       "        vertical-align: middle;\n",
       "    }\n",
       "\n",
       "    .dataframe tbody tr th {\n",
       "        vertical-align: top;\n",
       "    }\n",
       "\n",
       "    .dataframe thead th {\n",
       "        text-align: right;\n",
       "    }\n",
       "</style>\n",
       "<table border=\"1\" class=\"dataframe\">\n",
       "  <thead>\n",
       "    <tr style=\"text-align: right;\">\n",
       "      <th></th>\n",
       "      <th>customerID</th>\n",
       "      <th>MultipleLines</th>\n",
       "    </tr>\n",
       "  </thead>\n",
       "  <tbody>\n",
       "    <tr>\n",
       "      <th>0</th>\n",
       "      <td>5575-GNVDE</td>\n",
       "      <td>No</td>\n",
       "    </tr>\n",
       "    <tr>\n",
       "      <th>1</th>\n",
       "      <td>3668-QPYBK</td>\n",
       "      <td>No</td>\n",
       "    </tr>\n",
       "    <tr>\n",
       "      <th>2</th>\n",
       "      <td>9237-HQITU</td>\n",
       "      <td>No</td>\n",
       "    </tr>\n",
       "    <tr>\n",
       "      <th>3</th>\n",
       "      <td>9305-CDSKC</td>\n",
       "      <td>Yes</td>\n",
       "    </tr>\n",
       "    <tr>\n",
       "      <th>4</th>\n",
       "      <td>1452-KIOVK</td>\n",
       "      <td>Yes</td>\n",
       "    </tr>\n",
       "  </tbody>\n",
       "</table>\n",
       "</div>"
      ],
      "text/plain": [
       "   customerID MultipleLines\n",
       "0  5575-GNVDE            No\n",
       "1  3668-QPYBK            No\n",
       "2  9237-HQITU            No\n",
       "3  9305-CDSKC           Yes\n",
       "4  1452-KIOVK           Yes"
      ]
     },
     "metadata": {},
     "output_type": "display_data"
    },
    {
     "name": "stdout",
     "output_type": "stream",
     "text": [
      "<class 'pandas.core.frame.DataFrame'>\n",
      "RangeIndex: 6361 entries, 0 to 6360\n",
      "Data columns (total 2 columns):\n",
      " #   Column         Non-Null Count  Dtype \n",
      "---  ------         --------------  ----- \n",
      " 0   customerID     6361 non-null   object\n",
      " 1   MultipleLines  6361 non-null   object\n",
      "dtypes: object(2)\n",
      "memory usage: 99.5+ KB\n"
     ]
    },
    {
     "data": {
      "text/plain": [
       "None"
      ]
     },
     "metadata": {},
     "output_type": "display_data"
    },
    {
     "data": {
      "text/plain": [
       "'Количество дубликатов строк'"
      ]
     },
     "metadata": {},
     "output_type": "display_data"
    },
    {
     "data": {
      "text/plain": [
       "0"
      ]
     },
     "metadata": {},
     "output_type": "display_data"
    },
    {
     "data": {
      "text/plain": [
       "'Количество пропусков в данных по столбцам'"
      ]
     },
     "metadata": {},
     "output_type": "display_data"
    },
    {
     "data": {
      "text/plain": [
       "customerID       0\n",
       "MultipleLines    0\n",
       "dtype: int64"
      ]
     },
     "metadata": {},
     "output_type": "display_data"
    },
    {
     "data": {
      "text/plain": [
       "'Оценка непрерывных данных'"
      ]
     },
     "metadata": {},
     "output_type": "display_data"
    },
    {
     "data": {
      "text/html": [
       "<div>\n",
       "<style scoped>\n",
       "    .dataframe tbody tr th:only-of-type {\n",
       "        vertical-align: middle;\n",
       "    }\n",
       "\n",
       "    .dataframe tbody tr th {\n",
       "        vertical-align: top;\n",
       "    }\n",
       "\n",
       "    .dataframe thead th {\n",
       "        text-align: right;\n",
       "    }\n",
       "</style>\n",
       "<table border=\"1\" class=\"dataframe\">\n",
       "  <thead>\n",
       "    <tr style=\"text-align: right;\">\n",
       "      <th></th>\n",
       "      <th>customerID</th>\n",
       "      <th>MultipleLines</th>\n",
       "    </tr>\n",
       "  </thead>\n",
       "  <tbody>\n",
       "    <tr>\n",
       "      <th>count</th>\n",
       "      <td>6361</td>\n",
       "      <td>6361</td>\n",
       "    </tr>\n",
       "    <tr>\n",
       "      <th>unique</th>\n",
       "      <td>6361</td>\n",
       "      <td>2</td>\n",
       "    </tr>\n",
       "    <tr>\n",
       "      <th>top</th>\n",
       "      <td>9397-TZSHA</td>\n",
       "      <td>No</td>\n",
       "    </tr>\n",
       "    <tr>\n",
       "      <th>freq</th>\n",
       "      <td>1</td>\n",
       "      <td>3390</td>\n",
       "    </tr>\n",
       "  </tbody>\n",
       "</table>\n",
       "</div>"
      ],
      "text/plain": [
       "        customerID MultipleLines\n",
       "count         6361          6361\n",
       "unique        6361             2\n",
       "top     9397-TZSHA            No\n",
       "freq             1          3390"
      ]
     },
     "metadata": {},
     "output_type": "display_data"
    },
    {
     "data": {
      "text/plain": [
       "'Название столбцов'"
      ]
     },
     "metadata": {},
     "output_type": "display_data"
    },
    {
     "data": {
      "text/plain": [
       "Index(['customerID', 'MultipleLines'], dtype='object')"
      ]
     },
     "metadata": {},
     "output_type": "display_data"
    },
    {
     "data": {
      "text/plain": [
       "'Количесвто столбцов'"
      ]
     },
     "metadata": {},
     "output_type": "display_data"
    },
    {
     "data": {
      "text/plain": [
       "2"
      ]
     },
     "metadata": {},
     "output_type": "display_data"
    },
    {
     "data": {
      "text/plain": [
       "'Количество строк'"
      ]
     },
     "metadata": {},
     "output_type": "display_data"
    },
    {
     "data": {
      "text/plain": [
       "6361"
      ]
     },
     "metadata": {},
     "output_type": "display_data"
    }
   ],
   "source": [
    "data_info(df_phone)"
   ]
  },
  {
   "cell_type": "code",
   "execution_count": 18,
   "id": "8ddf4e96",
   "metadata": {},
   "outputs": [
    {
     "data": {
      "text/plain": [
       "No     3390\n",
       "Yes    2971\n",
       "Name: MultipleLines, dtype: int64"
      ]
     },
     "execution_count": 18,
     "metadata": {},
     "output_type": "execute_result"
    }
   ],
   "source": [
    "df_phone['MultipleLines'].value_counts()"
   ]
  },
  {
   "cell_type": "markdown",
   "id": "f2ddda83",
   "metadata": {},
   "source": [
    "### Вывод:\n",
    "   - необходимо поменять тип данных и провести кодировку булевых значений "
   ]
  },
  {
   "cell_type": "markdown",
   "id": "70327270",
   "metadata": {},
   "source": [
    "# 2. Предобработка данных "
   ]
  },
  {
   "cell_type": "markdown",
   "id": "e4a76ed2",
   "metadata": {},
   "source": [
    "### df_contract "
   ]
  },
  {
   "cell_type": "code",
   "execution_count": 19,
   "id": "3347edf4",
   "metadata": {},
   "outputs": [
    {
     "data": {
      "text/html": [
       "<div>\n",
       "<style scoped>\n",
       "    .dataframe tbody tr th:only-of-type {\n",
       "        vertical-align: middle;\n",
       "    }\n",
       "\n",
       "    .dataframe tbody tr th {\n",
       "        vertical-align: top;\n",
       "    }\n",
       "\n",
       "    .dataframe thead th {\n",
       "        text-align: right;\n",
       "    }\n",
       "</style>\n",
       "<table border=\"1\" class=\"dataframe\">\n",
       "  <thead>\n",
       "    <tr style=\"text-align: right;\">\n",
       "      <th></th>\n",
       "      <th>customer_id</th>\n",
       "      <th>begin_date</th>\n",
       "      <th>end_date</th>\n",
       "      <th>type</th>\n",
       "      <th>paperless_billing</th>\n",
       "      <th>payment_method</th>\n",
       "      <th>monthly_charges</th>\n",
       "      <th>total_charges</th>\n",
       "    </tr>\n",
       "  </thead>\n",
       "  <tbody>\n",
       "    <tr>\n",
       "      <th>0</th>\n",
       "      <td>7590-VHVEG</td>\n",
       "      <td>2020-01-01</td>\n",
       "      <td>No</td>\n",
       "      <td>Month-to-month</td>\n",
       "      <td>Yes</td>\n",
       "      <td>Electronic check</td>\n",
       "      <td>29.85</td>\n",
       "      <td>29.85</td>\n",
       "    </tr>\n",
       "    <tr>\n",
       "      <th>1</th>\n",
       "      <td>5575-GNVDE</td>\n",
       "      <td>2017-04-01</td>\n",
       "      <td>No</td>\n",
       "      <td>One year</td>\n",
       "      <td>No</td>\n",
       "      <td>Mailed check</td>\n",
       "      <td>56.95</td>\n",
       "      <td>1889.5</td>\n",
       "    </tr>\n",
       "    <tr>\n",
       "      <th>2</th>\n",
       "      <td>3668-QPYBK</td>\n",
       "      <td>2019-10-01</td>\n",
       "      <td>2019-12-01 00:00:00</td>\n",
       "      <td>Month-to-month</td>\n",
       "      <td>Yes</td>\n",
       "      <td>Mailed check</td>\n",
       "      <td>53.85</td>\n",
       "      <td>108.15</td>\n",
       "    </tr>\n",
       "    <tr>\n",
       "      <th>3</th>\n",
       "      <td>7795-CFOCW</td>\n",
       "      <td>2016-05-01</td>\n",
       "      <td>No</td>\n",
       "      <td>One year</td>\n",
       "      <td>No</td>\n",
       "      <td>Bank transfer (automatic)</td>\n",
       "      <td>42.30</td>\n",
       "      <td>1840.75</td>\n",
       "    </tr>\n",
       "    <tr>\n",
       "      <th>4</th>\n",
       "      <td>9237-HQITU</td>\n",
       "      <td>2019-09-01</td>\n",
       "      <td>2019-11-01 00:00:00</td>\n",
       "      <td>Month-to-month</td>\n",
       "      <td>Yes</td>\n",
       "      <td>Electronic check</td>\n",
       "      <td>70.70</td>\n",
       "      <td>151.65</td>\n",
       "    </tr>\n",
       "  </tbody>\n",
       "</table>\n",
       "</div>"
      ],
      "text/plain": [
       "  customer_id  begin_date             end_date            type  \\\n",
       "0  7590-VHVEG  2020-01-01                   No  Month-to-month   \n",
       "1  5575-GNVDE  2017-04-01                   No        One year   \n",
       "2  3668-QPYBK  2019-10-01  2019-12-01 00:00:00  Month-to-month   \n",
       "3  7795-CFOCW  2016-05-01                   No        One year   \n",
       "4  9237-HQITU  2019-09-01  2019-11-01 00:00:00  Month-to-month   \n",
       "\n",
       "  paperless_billing             payment_method  monthly_charges total_charges  \n",
       "0               Yes           Electronic check            29.85         29.85  \n",
       "1                No               Mailed check            56.95        1889.5  \n",
       "2               Yes               Mailed check            53.85        108.15  \n",
       "3                No  Bank transfer (automatic)            42.30       1840.75  \n",
       "4               Yes           Electronic check            70.70        151.65  "
      ]
     },
     "execution_count": 19,
     "metadata": {},
     "output_type": "execute_result"
    }
   ],
   "source": [
    "df_contract = df_contract.rename(columns = {'customerID': 'customer_id', 'BeginDate':'begin_date', \n",
    "                                            'EndDate':'end_date', 'PaperlessBilling':'paperless_billing',\n",
    "                                           'PaymentMethod':'payment_method', 'MonthlyCharges':'monthly_charges',\n",
    "                                            'TotalCharges':'total_charges', 'Type':'type' })\n",
    "df_contract.head()"
   ]
  },
  {
   "cell_type": "code",
   "execution_count": 20,
   "id": "2860d747",
   "metadata": {},
   "outputs": [],
   "source": [
    "df_contract['total_charges'] = pd.to_numeric(df_contract['total_charges'], errors ='coerce') \n"
   ]
  },
  {
   "cell_type": "code",
   "execution_count": 21,
   "id": "a6332474",
   "metadata": {},
   "outputs": [
    {
     "data": {
      "text/plain": [
       "customer_id          0.000000\n",
       "begin_date           0.000000\n",
       "end_date             0.000000\n",
       "type                 0.000000\n",
       "paperless_billing    0.000000\n",
       "payment_method       0.000000\n",
       "monthly_charges      0.000000\n",
       "total_charges        0.001562\n",
       "dtype: float64"
      ]
     },
     "execution_count": 21,
     "metadata": {},
     "output_type": "execute_result"
    }
   ],
   "source": [
    "df_contract.isna().mean()"
   ]
  },
  {
   "cell_type": "code",
   "execution_count": 22,
   "id": "af296580",
   "metadata": {},
   "outputs": [
    {
     "data": {
      "text/plain": [
       "0"
      ]
     },
     "metadata": {},
     "output_type": "display_data"
    }
   ],
   "source": [
    "df_contract['total_charges'] = df_contract['total_charges'].fillna(18.25)\n",
    "display(df_contract[df_contract['total_charges'] == 'NaN'].shape[0])"
   ]
  },
  {
   "cell_type": "markdown",
   "id": "9b25c77d",
   "metadata": {},
   "source": [
    "#### В результате преобразования Total charges, в данных появились пропуски (Nan), которые мы заменили на нулевые значения, что в данном случае будет корректным решением"
   ]
  },
  {
   "cell_type": "code",
   "execution_count": 23,
   "id": "5dffcf42",
   "metadata": {},
   "outputs": [
    {
     "data": {
      "text/plain": [
       "customer_id          0.0\n",
       "begin_date           0.0\n",
       "end_date             0.0\n",
       "type                 0.0\n",
       "paperless_billing    0.0\n",
       "payment_method       0.0\n",
       "monthly_charges      0.0\n",
       "total_charges        0.0\n",
       "dtype: float64"
      ]
     },
     "execution_count": 23,
     "metadata": {},
     "output_type": "execute_result"
    }
   ],
   "source": [
    "df_contract.isna().mean()"
   ]
  },
  {
   "cell_type": "code",
   "execution_count": 24,
   "id": "c08980e6",
   "metadata": {},
   "outputs": [],
   "source": [
    "df_contract['begin_date'] = pd.to_datetime(df_contract['begin_date'], format='%Y-%m-%d')\n"
   ]
  },
  {
   "cell_type": "markdown",
   "id": "aa5957d7",
   "metadata": {},
   "source": [
    "#### Поскольку в данных End date есть NO, что означает договор был актуален на дату выгрузки данных, поэтому эти поля можно заменить датой выгрузки  1 февраля 2020, предварительно проверив если кто то из клиентов расторг договор в эту дату"
   ]
  },
  {
   "cell_type": "code",
   "execution_count": 25,
   "id": "91a4711f",
   "metadata": {},
   "outputs": [
    {
     "data": {
      "text/plain": [
       "False    7043\n",
       "Name: end_date, dtype: int64"
      ]
     },
     "execution_count": 25,
     "metadata": {},
     "output_type": "execute_result"
    }
   ],
   "source": [
    "df_contract['end_date'].isin(['2020-02-01']).value_counts()"
   ]
  },
  {
   "cell_type": "code",
   "execution_count": 26,
   "id": "fd34f970",
   "metadata": {},
   "outputs": [
    {
     "data": {
      "text/plain": [
       "True     5174\n",
       "False    1869\n",
       "Name: end_date, dtype: int64"
      ]
     },
     "execution_count": 26,
     "metadata": {},
     "output_type": "execute_result"
    }
   ],
   "source": [
    "df_contract['end_date'].isin(['No']).value_counts()"
   ]
  },
  {
   "cell_type": "code",
   "execution_count": 27,
   "id": "55b1f34e",
   "metadata": {},
   "outputs": [
    {
     "name": "stdout",
     "output_type": "stream",
     "text": [
      "0\n"
     ]
    }
   ],
   "source": [
    "df_contract['end_date'] = df_contract['end_date'].replace(['No'], ['2020-02-01'])\n",
    "print(df_contract[df_contract['end_date'] == 'No'].shape[0]) "
   ]
  },
  {
   "cell_type": "code",
   "execution_count": 28,
   "id": "e3b94a79",
   "metadata": {},
   "outputs": [
    {
     "data": {
      "text/plain": [
       "True     5174\n",
       "False    1869\n",
       "Name: end_date, dtype: int64"
      ]
     },
     "execution_count": 28,
     "metadata": {},
     "output_type": "execute_result"
    }
   ],
   "source": [
    "df_contract['end_date'].isin(['2020-02-01']).value_counts()"
   ]
  },
  {
   "cell_type": "code",
   "execution_count": 29,
   "id": "aa11fbac",
   "metadata": {},
   "outputs": [],
   "source": [
    "df_contract['end_date'] = pd.to_datetime(df_contract['end_date'], format='%Y-%m-%d')"
   ]
  },
  {
   "cell_type": "code",
   "execution_count": 30,
   "id": "7004c824",
   "metadata": {},
   "outputs": [
    {
     "data": {
      "text/html": [
       "<div>\n",
       "<style scoped>\n",
       "    .dataframe tbody tr th:only-of-type {\n",
       "        vertical-align: middle;\n",
       "    }\n",
       "\n",
       "    .dataframe tbody tr th {\n",
       "        vertical-align: top;\n",
       "    }\n",
       "\n",
       "    .dataframe thead th {\n",
       "        text-align: right;\n",
       "    }\n",
       "</style>\n",
       "<table border=\"1\" class=\"dataframe\">\n",
       "  <thead>\n",
       "    <tr style=\"text-align: right;\">\n",
       "      <th></th>\n",
       "      <th>customer_id</th>\n",
       "      <th>begin_date</th>\n",
       "      <th>end_date</th>\n",
       "      <th>type</th>\n",
       "      <th>paperless_billing</th>\n",
       "      <th>payment_method</th>\n",
       "      <th>monthly_charges</th>\n",
       "      <th>total_charges</th>\n",
       "    </tr>\n",
       "  </thead>\n",
       "  <tbody>\n",
       "    <tr>\n",
       "      <th>0</th>\n",
       "      <td>7590-VHVEG</td>\n",
       "      <td>2020-01-01</td>\n",
       "      <td>2020-02-01</td>\n",
       "      <td>Month-to-month</td>\n",
       "      <td>Yes</td>\n",
       "      <td>Electronic check</td>\n",
       "      <td>29.85</td>\n",
       "      <td>29.85</td>\n",
       "    </tr>\n",
       "    <tr>\n",
       "      <th>1</th>\n",
       "      <td>5575-GNVDE</td>\n",
       "      <td>2017-04-01</td>\n",
       "      <td>2020-02-01</td>\n",
       "      <td>One year</td>\n",
       "      <td>No</td>\n",
       "      <td>Mailed check</td>\n",
       "      <td>56.95</td>\n",
       "      <td>1889.50</td>\n",
       "    </tr>\n",
       "    <tr>\n",
       "      <th>2</th>\n",
       "      <td>3668-QPYBK</td>\n",
       "      <td>2019-10-01</td>\n",
       "      <td>2019-12-01</td>\n",
       "      <td>Month-to-month</td>\n",
       "      <td>Yes</td>\n",
       "      <td>Mailed check</td>\n",
       "      <td>53.85</td>\n",
       "      <td>108.15</td>\n",
       "    </tr>\n",
       "    <tr>\n",
       "      <th>3</th>\n",
       "      <td>7795-CFOCW</td>\n",
       "      <td>2016-05-01</td>\n",
       "      <td>2020-02-01</td>\n",
       "      <td>One year</td>\n",
       "      <td>No</td>\n",
       "      <td>Bank transfer (automatic)</td>\n",
       "      <td>42.30</td>\n",
       "      <td>1840.75</td>\n",
       "    </tr>\n",
       "    <tr>\n",
       "      <th>4</th>\n",
       "      <td>9237-HQITU</td>\n",
       "      <td>2019-09-01</td>\n",
       "      <td>2019-11-01</td>\n",
       "      <td>Month-to-month</td>\n",
       "      <td>Yes</td>\n",
       "      <td>Electronic check</td>\n",
       "      <td>70.70</td>\n",
       "      <td>151.65</td>\n",
       "    </tr>\n",
       "  </tbody>\n",
       "</table>\n",
       "</div>"
      ],
      "text/plain": [
       "  customer_id begin_date   end_date            type paperless_billing  \\\n",
       "0  7590-VHVEG 2020-01-01 2020-02-01  Month-to-month               Yes   \n",
       "1  5575-GNVDE 2017-04-01 2020-02-01        One year                No   \n",
       "2  3668-QPYBK 2019-10-01 2019-12-01  Month-to-month               Yes   \n",
       "3  7795-CFOCW 2016-05-01 2020-02-01        One year                No   \n",
       "4  9237-HQITU 2019-09-01 2019-11-01  Month-to-month               Yes   \n",
       "\n",
       "              payment_method  monthly_charges  total_charges  \n",
       "0           Electronic check            29.85          29.85  \n",
       "1               Mailed check            56.95        1889.50  \n",
       "2               Mailed check            53.85         108.15  \n",
       "3  Bank transfer (automatic)            42.30        1840.75  \n",
       "4           Electronic check            70.70         151.65  "
      ]
     },
     "execution_count": 30,
     "metadata": {},
     "output_type": "execute_result"
    }
   ],
   "source": [
    "df_contract.head()"
   ]
  },
  {
   "cell_type": "code",
   "execution_count": 31,
   "id": "a4b5ed1d",
   "metadata": {},
   "outputs": [],
   "source": [
    "df_contract['duration'] = (df_contract['end_date'] - df_contract['begin_date']).dt.days"
   ]
  },
  {
   "cell_type": "code",
   "execution_count": 32,
   "id": "4c4ba0e2",
   "metadata": {},
   "outputs": [
    {
     "data": {
      "text/html": [
       "<div>\n",
       "<style scoped>\n",
       "    .dataframe tbody tr th:only-of-type {\n",
       "        vertical-align: middle;\n",
       "    }\n",
       "\n",
       "    .dataframe tbody tr th {\n",
       "        vertical-align: top;\n",
       "    }\n",
       "\n",
       "    .dataframe thead th {\n",
       "        text-align: right;\n",
       "    }\n",
       "</style>\n",
       "<table border=\"1\" class=\"dataframe\">\n",
       "  <thead>\n",
       "    <tr style=\"text-align: right;\">\n",
       "      <th></th>\n",
       "      <th>customer_id</th>\n",
       "      <th>begin_date</th>\n",
       "      <th>end_date</th>\n",
       "      <th>type</th>\n",
       "      <th>paperless_billing</th>\n",
       "      <th>payment_method</th>\n",
       "      <th>monthly_charges</th>\n",
       "      <th>total_charges</th>\n",
       "      <th>duration</th>\n",
       "    </tr>\n",
       "  </thead>\n",
       "  <tbody>\n",
       "    <tr>\n",
       "      <th>0</th>\n",
       "      <td>7590-VHVEG</td>\n",
       "      <td>2020-01-01</td>\n",
       "      <td>2020-02-01</td>\n",
       "      <td>Month-to-month</td>\n",
       "      <td>Yes</td>\n",
       "      <td>Electronic check</td>\n",
       "      <td>29.85</td>\n",
       "      <td>29.85</td>\n",
       "      <td>31</td>\n",
       "    </tr>\n",
       "    <tr>\n",
       "      <th>1</th>\n",
       "      <td>5575-GNVDE</td>\n",
       "      <td>2017-04-01</td>\n",
       "      <td>2020-02-01</td>\n",
       "      <td>One year</td>\n",
       "      <td>No</td>\n",
       "      <td>Mailed check</td>\n",
       "      <td>56.95</td>\n",
       "      <td>1889.50</td>\n",
       "      <td>1036</td>\n",
       "    </tr>\n",
       "    <tr>\n",
       "      <th>2</th>\n",
       "      <td>3668-QPYBK</td>\n",
       "      <td>2019-10-01</td>\n",
       "      <td>2019-12-01</td>\n",
       "      <td>Month-to-month</td>\n",
       "      <td>Yes</td>\n",
       "      <td>Mailed check</td>\n",
       "      <td>53.85</td>\n",
       "      <td>108.15</td>\n",
       "      <td>61</td>\n",
       "    </tr>\n",
       "    <tr>\n",
       "      <th>3</th>\n",
       "      <td>7795-CFOCW</td>\n",
       "      <td>2016-05-01</td>\n",
       "      <td>2020-02-01</td>\n",
       "      <td>One year</td>\n",
       "      <td>No</td>\n",
       "      <td>Bank transfer (automatic)</td>\n",
       "      <td>42.30</td>\n",
       "      <td>1840.75</td>\n",
       "      <td>1371</td>\n",
       "    </tr>\n",
       "    <tr>\n",
       "      <th>4</th>\n",
       "      <td>9237-HQITU</td>\n",
       "      <td>2019-09-01</td>\n",
       "      <td>2019-11-01</td>\n",
       "      <td>Month-to-month</td>\n",
       "      <td>Yes</td>\n",
       "      <td>Electronic check</td>\n",
       "      <td>70.70</td>\n",
       "      <td>151.65</td>\n",
       "      <td>61</td>\n",
       "    </tr>\n",
       "  </tbody>\n",
       "</table>\n",
       "</div>"
      ],
      "text/plain": [
       "  customer_id begin_date   end_date            type paperless_billing  \\\n",
       "0  7590-VHVEG 2020-01-01 2020-02-01  Month-to-month               Yes   \n",
       "1  5575-GNVDE 2017-04-01 2020-02-01        One year                No   \n",
       "2  3668-QPYBK 2019-10-01 2019-12-01  Month-to-month               Yes   \n",
       "3  7795-CFOCW 2016-05-01 2020-02-01        One year                No   \n",
       "4  9237-HQITU 2019-09-01 2019-11-01  Month-to-month               Yes   \n",
       "\n",
       "              payment_method  monthly_charges  total_charges  duration  \n",
       "0           Electronic check            29.85          29.85        31  \n",
       "1               Mailed check            56.95        1889.50      1036  \n",
       "2               Mailed check            53.85         108.15        61  \n",
       "3  Bank transfer (automatic)            42.30        1840.75      1371  \n",
       "4           Electronic check            70.70         151.65        61  "
      ]
     },
     "execution_count": 32,
     "metadata": {},
     "output_type": "execute_result"
    }
   ],
   "source": [
    "df_contract.head()"
   ]
  },
  {
   "cell_type": "markdown",
   "id": "afe6b5d2",
   "metadata": {},
   "source": [
    "### df_personal"
   ]
  },
  {
   "cell_type": "code",
   "execution_count": 33,
   "id": "3accb9c7",
   "metadata": {},
   "outputs": [
    {
     "data": {
      "text/html": [
       "<div>\n",
       "<style scoped>\n",
       "    .dataframe tbody tr th:only-of-type {\n",
       "        vertical-align: middle;\n",
       "    }\n",
       "\n",
       "    .dataframe tbody tr th {\n",
       "        vertical-align: top;\n",
       "    }\n",
       "\n",
       "    .dataframe thead th {\n",
       "        text-align: right;\n",
       "    }\n",
       "</style>\n",
       "<table border=\"1\" class=\"dataframe\">\n",
       "  <thead>\n",
       "    <tr style=\"text-align: right;\">\n",
       "      <th></th>\n",
       "      <th>customer_id</th>\n",
       "      <th>gender</th>\n",
       "      <th>senior_citizen</th>\n",
       "      <th>partner</th>\n",
       "      <th>dependents</th>\n",
       "    </tr>\n",
       "  </thead>\n",
       "  <tbody>\n",
       "    <tr>\n",
       "      <th>0</th>\n",
       "      <td>7590-VHVEG</td>\n",
       "      <td>Female</td>\n",
       "      <td>0</td>\n",
       "      <td>Yes</td>\n",
       "      <td>No</td>\n",
       "    </tr>\n",
       "    <tr>\n",
       "      <th>1</th>\n",
       "      <td>5575-GNVDE</td>\n",
       "      <td>Male</td>\n",
       "      <td>0</td>\n",
       "      <td>No</td>\n",
       "      <td>No</td>\n",
       "    </tr>\n",
       "    <tr>\n",
       "      <th>2</th>\n",
       "      <td>3668-QPYBK</td>\n",
       "      <td>Male</td>\n",
       "      <td>0</td>\n",
       "      <td>No</td>\n",
       "      <td>No</td>\n",
       "    </tr>\n",
       "    <tr>\n",
       "      <th>3</th>\n",
       "      <td>7795-CFOCW</td>\n",
       "      <td>Male</td>\n",
       "      <td>0</td>\n",
       "      <td>No</td>\n",
       "      <td>No</td>\n",
       "    </tr>\n",
       "    <tr>\n",
       "      <th>4</th>\n",
       "      <td>9237-HQITU</td>\n",
       "      <td>Female</td>\n",
       "      <td>0</td>\n",
       "      <td>No</td>\n",
       "      <td>No</td>\n",
       "    </tr>\n",
       "  </tbody>\n",
       "</table>\n",
       "</div>"
      ],
      "text/plain": [
       "  customer_id  gender  senior_citizen partner dependents\n",
       "0  7590-VHVEG  Female               0     Yes         No\n",
       "1  5575-GNVDE    Male               0      No         No\n",
       "2  3668-QPYBK    Male               0      No         No\n",
       "3  7795-CFOCW    Male               0      No         No\n",
       "4  9237-HQITU  Female               0      No         No"
      ]
     },
     "execution_count": 33,
     "metadata": {},
     "output_type": "execute_result"
    }
   ],
   "source": [
    "df_personal = df_personal.rename(columns={'customerID':'customer_id', 'gender':'gender', \n",
    "                                 'SeniorCitizen':'senior_citizen', 'Partner':'partner', 'Dependents':'dependents'})\n",
    "df_personal.head()"
   ]
  },
  {
   "cell_type": "code",
   "execution_count": 34,
   "id": "17a22cb6",
   "metadata": {},
   "outputs": [
    {
     "name": "stdout",
     "output_type": "stream",
     "text": [
      "<class 'pandas.core.frame.DataFrame'>\n",
      "RangeIndex: 7043 entries, 0 to 7042\n",
      "Data columns (total 5 columns):\n",
      " #   Column          Non-Null Count  Dtype \n",
      "---  ------          --------------  ----- \n",
      " 0   customer_id     7043 non-null   object\n",
      " 1   gender          7043 non-null   object\n",
      " 2   senior_citizen  7043 non-null   int64 \n",
      " 3   partner         7043 non-null   object\n",
      " 4   dependents      7043 non-null   object\n",
      "dtypes: int64(1), object(4)\n",
      "memory usage: 275.2+ KB\n"
     ]
    }
   ],
   "source": [
    "df_personal.info()"
   ]
  },
  {
   "cell_type": "code",
   "execution_count": 35,
   "id": "3871a9ab",
   "metadata": {},
   "outputs": [
    {
     "data": {
      "text/html": [
       "<div>\n",
       "<style scoped>\n",
       "    .dataframe tbody tr th:only-of-type {\n",
       "        vertical-align: middle;\n",
       "    }\n",
       "\n",
       "    .dataframe tbody tr th {\n",
       "        vertical-align: top;\n",
       "    }\n",
       "\n",
       "    .dataframe thead th {\n",
       "        text-align: right;\n",
       "    }\n",
       "</style>\n",
       "<table border=\"1\" class=\"dataframe\">\n",
       "  <thead>\n",
       "    <tr style=\"text-align: right;\">\n",
       "      <th></th>\n",
       "      <th>customer_id</th>\n",
       "      <th>gender</th>\n",
       "      <th>senior_citizen</th>\n",
       "      <th>partner</th>\n",
       "      <th>dependents</th>\n",
       "    </tr>\n",
       "  </thead>\n",
       "  <tbody>\n",
       "    <tr>\n",
       "      <th>0</th>\n",
       "      <td>7590-VHVEG</td>\n",
       "      <td>Female</td>\n",
       "      <td>0</td>\n",
       "      <td>Yes</td>\n",
       "      <td>No</td>\n",
       "    </tr>\n",
       "    <tr>\n",
       "      <th>1</th>\n",
       "      <td>5575-GNVDE</td>\n",
       "      <td>Male</td>\n",
       "      <td>0</td>\n",
       "      <td>No</td>\n",
       "      <td>No</td>\n",
       "    </tr>\n",
       "    <tr>\n",
       "      <th>2</th>\n",
       "      <td>3668-QPYBK</td>\n",
       "      <td>Male</td>\n",
       "      <td>0</td>\n",
       "      <td>No</td>\n",
       "      <td>No</td>\n",
       "    </tr>\n",
       "    <tr>\n",
       "      <th>3</th>\n",
       "      <td>7795-CFOCW</td>\n",
       "      <td>Male</td>\n",
       "      <td>0</td>\n",
       "      <td>No</td>\n",
       "      <td>No</td>\n",
       "    </tr>\n",
       "    <tr>\n",
       "      <th>4</th>\n",
       "      <td>9237-HQITU</td>\n",
       "      <td>Female</td>\n",
       "      <td>0</td>\n",
       "      <td>No</td>\n",
       "      <td>No</td>\n",
       "    </tr>\n",
       "  </tbody>\n",
       "</table>\n",
       "</div>"
      ],
      "text/plain": [
       "  customer_id  gender  senior_citizen partner dependents\n",
       "0  7590-VHVEG  Female               0     Yes         No\n",
       "1  5575-GNVDE    Male               0      No         No\n",
       "2  3668-QPYBK    Male               0      No         No\n",
       "3  7795-CFOCW    Male               0      No         No\n",
       "4  9237-HQITU  Female               0      No         No"
      ]
     },
     "execution_count": 35,
     "metadata": {},
     "output_type": "execute_result"
    }
   ],
   "source": [
    "df_personal.head()"
   ]
  },
  {
   "cell_type": "markdown",
   "id": "30626ed1",
   "metadata": {},
   "source": [
    "### df_internet "
   ]
  },
  {
   "cell_type": "code",
   "execution_count": 36,
   "id": "a0cd671e",
   "metadata": {},
   "outputs": [],
   "source": [
    "df_internet = df_internet.rename(columns={'customerID':'customer_id', 'InternetService':'internet_service' ,\n",
    "                                          'OnlineSecurity': 'online_security', 'OnlineBackup':'online_backup',\n",
    "       'DeviceProtection':'device_protection', 'TechSupport':'tech_support', 'StreamingTV':'streaming_tv',\n",
    "                                          'StreamingMovies':'streaming_movies'})"
   ]
  },
  {
   "cell_type": "code",
   "execution_count": 37,
   "id": "a3109793",
   "metadata": {},
   "outputs": [
    {
     "data": {
      "text/html": [
       "<div>\n",
       "<style scoped>\n",
       "    .dataframe tbody tr th:only-of-type {\n",
       "        vertical-align: middle;\n",
       "    }\n",
       "\n",
       "    .dataframe tbody tr th {\n",
       "        vertical-align: top;\n",
       "    }\n",
       "\n",
       "    .dataframe thead th {\n",
       "        text-align: right;\n",
       "    }\n",
       "</style>\n",
       "<table border=\"1\" class=\"dataframe\">\n",
       "  <thead>\n",
       "    <tr style=\"text-align: right;\">\n",
       "      <th></th>\n",
       "      <th>customer_id</th>\n",
       "      <th>internet_service</th>\n",
       "      <th>online_security</th>\n",
       "      <th>online_backup</th>\n",
       "      <th>device_protection</th>\n",
       "      <th>tech_support</th>\n",
       "      <th>streaming_tv</th>\n",
       "      <th>streaming_movies</th>\n",
       "    </tr>\n",
       "  </thead>\n",
       "  <tbody>\n",
       "    <tr>\n",
       "      <th>0</th>\n",
       "      <td>7590-VHVEG</td>\n",
       "      <td>DSL</td>\n",
       "      <td>No</td>\n",
       "      <td>Yes</td>\n",
       "      <td>No</td>\n",
       "      <td>No</td>\n",
       "      <td>No</td>\n",
       "      <td>No</td>\n",
       "    </tr>\n",
       "    <tr>\n",
       "      <th>1</th>\n",
       "      <td>5575-GNVDE</td>\n",
       "      <td>DSL</td>\n",
       "      <td>Yes</td>\n",
       "      <td>No</td>\n",
       "      <td>Yes</td>\n",
       "      <td>No</td>\n",
       "      <td>No</td>\n",
       "      <td>No</td>\n",
       "    </tr>\n",
       "    <tr>\n",
       "      <th>2</th>\n",
       "      <td>3668-QPYBK</td>\n",
       "      <td>DSL</td>\n",
       "      <td>Yes</td>\n",
       "      <td>Yes</td>\n",
       "      <td>No</td>\n",
       "      <td>No</td>\n",
       "      <td>No</td>\n",
       "      <td>No</td>\n",
       "    </tr>\n",
       "    <tr>\n",
       "      <th>3</th>\n",
       "      <td>7795-CFOCW</td>\n",
       "      <td>DSL</td>\n",
       "      <td>Yes</td>\n",
       "      <td>No</td>\n",
       "      <td>Yes</td>\n",
       "      <td>Yes</td>\n",
       "      <td>No</td>\n",
       "      <td>No</td>\n",
       "    </tr>\n",
       "    <tr>\n",
       "      <th>4</th>\n",
       "      <td>9237-HQITU</td>\n",
       "      <td>Fiber optic</td>\n",
       "      <td>No</td>\n",
       "      <td>No</td>\n",
       "      <td>No</td>\n",
       "      <td>No</td>\n",
       "      <td>No</td>\n",
       "      <td>No</td>\n",
       "    </tr>\n",
       "  </tbody>\n",
       "</table>\n",
       "</div>"
      ],
      "text/plain": [
       "  customer_id internet_service online_security online_backup  \\\n",
       "0  7590-VHVEG              DSL              No           Yes   \n",
       "1  5575-GNVDE              DSL             Yes            No   \n",
       "2  3668-QPYBK              DSL             Yes           Yes   \n",
       "3  7795-CFOCW              DSL             Yes            No   \n",
       "4  9237-HQITU      Fiber optic              No            No   \n",
       "\n",
       "  device_protection tech_support streaming_tv streaming_movies  \n",
       "0                No           No           No               No  \n",
       "1               Yes           No           No               No  \n",
       "2                No           No           No               No  \n",
       "3               Yes          Yes           No               No  \n",
       "4                No           No           No               No  "
      ]
     },
     "execution_count": 37,
     "metadata": {},
     "output_type": "execute_result"
    }
   ],
   "source": [
    "df_internet.head()"
   ]
  },
  {
   "cell_type": "markdown",
   "id": "10b5a89e",
   "metadata": {},
   "source": [
    "### df_phone "
   ]
  },
  {
   "cell_type": "code",
   "execution_count": 38,
   "id": "c36ac99f",
   "metadata": {},
   "outputs": [],
   "source": [
    "df_phone = df_phone.rename(columns={'customerID':'customer_id', 'MultipleLines':'multiple_lines'})"
   ]
  },
  {
   "cell_type": "code",
   "execution_count": 39,
   "id": "2e26d7bb",
   "metadata": {},
   "outputs": [
    {
     "name": "stdout",
     "output_type": "stream",
     "text": [
      "<class 'pandas.core.frame.DataFrame'>\n",
      "RangeIndex: 6361 entries, 0 to 6360\n",
      "Data columns (total 2 columns):\n",
      " #   Column          Non-Null Count  Dtype \n",
      "---  ------          --------------  ----- \n",
      " 0   customer_id     6361 non-null   object\n",
      " 1   multiple_lines  6361 non-null   object\n",
      "dtypes: object(2)\n",
      "memory usage: 99.5+ KB\n"
     ]
    }
   ],
   "source": [
    "df_phone.info()"
   ]
  },
  {
   "cell_type": "code",
   "execution_count": 40,
   "id": "b21bd0d5",
   "metadata": {},
   "outputs": [
    {
     "data": {
      "text/html": [
       "<div>\n",
       "<style scoped>\n",
       "    .dataframe tbody tr th:only-of-type {\n",
       "        vertical-align: middle;\n",
       "    }\n",
       "\n",
       "    .dataframe tbody tr th {\n",
       "        vertical-align: top;\n",
       "    }\n",
       "\n",
       "    .dataframe thead th {\n",
       "        text-align: right;\n",
       "    }\n",
       "</style>\n",
       "<table border=\"1\" class=\"dataframe\">\n",
       "  <thead>\n",
       "    <tr style=\"text-align: right;\">\n",
       "      <th></th>\n",
       "      <th>customer_id</th>\n",
       "      <th>multiple_lines</th>\n",
       "    </tr>\n",
       "  </thead>\n",
       "  <tbody>\n",
       "    <tr>\n",
       "      <th>0</th>\n",
       "      <td>5575-GNVDE</td>\n",
       "      <td>No</td>\n",
       "    </tr>\n",
       "    <tr>\n",
       "      <th>1</th>\n",
       "      <td>3668-QPYBK</td>\n",
       "      <td>No</td>\n",
       "    </tr>\n",
       "    <tr>\n",
       "      <th>2</th>\n",
       "      <td>9237-HQITU</td>\n",
       "      <td>No</td>\n",
       "    </tr>\n",
       "    <tr>\n",
       "      <th>3</th>\n",
       "      <td>9305-CDSKC</td>\n",
       "      <td>Yes</td>\n",
       "    </tr>\n",
       "    <tr>\n",
       "      <th>4</th>\n",
       "      <td>1452-KIOVK</td>\n",
       "      <td>Yes</td>\n",
       "    </tr>\n",
       "  </tbody>\n",
       "</table>\n",
       "</div>"
      ],
      "text/plain": [
       "  customer_id multiple_lines\n",
       "0  5575-GNVDE             No\n",
       "1  3668-QPYBK             No\n",
       "2  9237-HQITU             No\n",
       "3  9305-CDSKC            Yes\n",
       "4  1452-KIOVK            Yes"
      ]
     },
     "execution_count": 40,
     "metadata": {},
     "output_type": "execute_result"
    }
   ],
   "source": [
    "df_phone.head()"
   ]
  },
  {
   "cell_type": "markdown",
   "id": "71150942",
   "metadata": {},
   "source": [
    "#### Общий вывод по предобработке данных:\n",
    "   - были изменены названия столбцов \n",
    "   - был изменен тип данных в Total charges на float32, проявившиеся NaN значения были заменены на ноль, видимо это информация о клиентах которые только недавно пришли в Компанию\n",
    "   - были изменен тип данных на date time в столбцах, где указаны даты начала и окончание договора с клиентом \n",
    "   - также отстувтсвие информации по окончанию договора был заменен на даты выгрузки данный 1 февраля 2020\n",
    "   - по всей видимости это действующие нерасторгнутые договоры с клиентами и данная информация в дальнейшем будет ялвяться целевым признаком для нашей работы \n",
    "   - добавлена колонка информации по дюрации денежных потоков от клиентов"
   ]
  },
  {
   "cell_type": "markdown",
   "id": "a5363ce3",
   "metadata": {},
   "source": [
    "### План по выполнению проекта:\n",
    "\n",
    "    1. Изучение данных: Импортирование данных, просмотр файлов, изучение полученной информации. Проверка данных на    \n",
    "        корректность типа и значений согласно описанию\n",
    "    2. Предобработка данных: поиск аномалий, пропусков, дубликатов, проведение мероприятий по их устранению.              \n",
    "    3. Определяем целевой признак - дата окончания договора с Компанией  \n",
    "    4. Обрабатываем данные в сводной таблице. \n",
    "       Определяем целевой признак - дата окончания договора с Компанией \n",
    "    5. Объединение данных в одну сводную таблицу по индексу Customer_ID. Проверям данные на наличие пропусков.\n",
    "    6. Проводим исследовательский анализ данных. Находим зависимость между полученными данными и фактом ухода           \n",
    "       Клиентов из Компании\n",
    "    7. Проверка мультиколлинеарности признаков с таргетом\n",
    "    8. Feature Selection - отбор признаков для обучения моделей \n",
    "    9. Подбор гиперпараметров\n",
    "    10. Выбор лучшей модели (по метрики на кроссвалидации)\n",
    "    11. Определение итоговой метрики на тесте\n",
    "    12. Финальный отчет о выполнении задания  \n",
    "    "
   ]
  },
  {
   "cell_type": "markdown",
   "id": "f651f99f",
   "metadata": {},
   "source": [
    "### Объединение таблиц в одну сводную по индексу Customer_ID, изучение данных, заполнение пропусков.  Добавляем целевой признак "
   ]
  },
  {
   "cell_type": "code",
   "execution_count": 41,
   "id": "1c228692",
   "metadata": {},
   "outputs": [],
   "source": [
    "df_total = df_contract.merge(df_personal, how='left', on='customer_id')\\\n",
    "  .merge(df_internet, how='left', on='customer_id') \\\n",
    "    .merge(df_phone, how='left', on='customer_id') "
   ]
  },
  {
   "cell_type": "code",
   "execution_count": 42,
   "id": "9eb16e4e",
   "metadata": {
    "scrolled": false
   },
   "outputs": [
    {
     "data": {
      "text/html": [
       "<div>\n",
       "<style scoped>\n",
       "    .dataframe tbody tr th:only-of-type {\n",
       "        vertical-align: middle;\n",
       "    }\n",
       "\n",
       "    .dataframe tbody tr th {\n",
       "        vertical-align: top;\n",
       "    }\n",
       "\n",
       "    .dataframe thead th {\n",
       "        text-align: right;\n",
       "    }\n",
       "</style>\n",
       "<table border=\"1\" class=\"dataframe\">\n",
       "  <thead>\n",
       "    <tr style=\"text-align: right;\">\n",
       "      <th></th>\n",
       "      <th>customer_id</th>\n",
       "      <th>begin_date</th>\n",
       "      <th>end_date</th>\n",
       "      <th>type</th>\n",
       "      <th>paperless_billing</th>\n",
       "      <th>payment_method</th>\n",
       "      <th>monthly_charges</th>\n",
       "      <th>total_charges</th>\n",
       "      <th>duration</th>\n",
       "      <th>gender</th>\n",
       "      <th>...</th>\n",
       "      <th>partner</th>\n",
       "      <th>dependents</th>\n",
       "      <th>internet_service</th>\n",
       "      <th>online_security</th>\n",
       "      <th>online_backup</th>\n",
       "      <th>device_protection</th>\n",
       "      <th>tech_support</th>\n",
       "      <th>streaming_tv</th>\n",
       "      <th>streaming_movies</th>\n",
       "      <th>multiple_lines</th>\n",
       "    </tr>\n",
       "  </thead>\n",
       "  <tbody>\n",
       "    <tr>\n",
       "      <th>0</th>\n",
       "      <td>7590-VHVEG</td>\n",
       "      <td>2020-01-01</td>\n",
       "      <td>2020-02-01</td>\n",
       "      <td>Month-to-month</td>\n",
       "      <td>Yes</td>\n",
       "      <td>Electronic check</td>\n",
       "      <td>29.85</td>\n",
       "      <td>29.85</td>\n",
       "      <td>31</td>\n",
       "      <td>Female</td>\n",
       "      <td>...</td>\n",
       "      <td>Yes</td>\n",
       "      <td>No</td>\n",
       "      <td>DSL</td>\n",
       "      <td>No</td>\n",
       "      <td>Yes</td>\n",
       "      <td>No</td>\n",
       "      <td>No</td>\n",
       "      <td>No</td>\n",
       "      <td>No</td>\n",
       "      <td>NaN</td>\n",
       "    </tr>\n",
       "    <tr>\n",
       "      <th>1</th>\n",
       "      <td>5575-GNVDE</td>\n",
       "      <td>2017-04-01</td>\n",
       "      <td>2020-02-01</td>\n",
       "      <td>One year</td>\n",
       "      <td>No</td>\n",
       "      <td>Mailed check</td>\n",
       "      <td>56.95</td>\n",
       "      <td>1889.50</td>\n",
       "      <td>1036</td>\n",
       "      <td>Male</td>\n",
       "      <td>...</td>\n",
       "      <td>No</td>\n",
       "      <td>No</td>\n",
       "      <td>DSL</td>\n",
       "      <td>Yes</td>\n",
       "      <td>No</td>\n",
       "      <td>Yes</td>\n",
       "      <td>No</td>\n",
       "      <td>No</td>\n",
       "      <td>No</td>\n",
       "      <td>No</td>\n",
       "    </tr>\n",
       "    <tr>\n",
       "      <th>2</th>\n",
       "      <td>3668-QPYBK</td>\n",
       "      <td>2019-10-01</td>\n",
       "      <td>2019-12-01</td>\n",
       "      <td>Month-to-month</td>\n",
       "      <td>Yes</td>\n",
       "      <td>Mailed check</td>\n",
       "      <td>53.85</td>\n",
       "      <td>108.15</td>\n",
       "      <td>61</td>\n",
       "      <td>Male</td>\n",
       "      <td>...</td>\n",
       "      <td>No</td>\n",
       "      <td>No</td>\n",
       "      <td>DSL</td>\n",
       "      <td>Yes</td>\n",
       "      <td>Yes</td>\n",
       "      <td>No</td>\n",
       "      <td>No</td>\n",
       "      <td>No</td>\n",
       "      <td>No</td>\n",
       "      <td>No</td>\n",
       "    </tr>\n",
       "    <tr>\n",
       "      <th>3</th>\n",
       "      <td>7795-CFOCW</td>\n",
       "      <td>2016-05-01</td>\n",
       "      <td>2020-02-01</td>\n",
       "      <td>One year</td>\n",
       "      <td>No</td>\n",
       "      <td>Bank transfer (automatic)</td>\n",
       "      <td>42.30</td>\n",
       "      <td>1840.75</td>\n",
       "      <td>1371</td>\n",
       "      <td>Male</td>\n",
       "      <td>...</td>\n",
       "      <td>No</td>\n",
       "      <td>No</td>\n",
       "      <td>DSL</td>\n",
       "      <td>Yes</td>\n",
       "      <td>No</td>\n",
       "      <td>Yes</td>\n",
       "      <td>Yes</td>\n",
       "      <td>No</td>\n",
       "      <td>No</td>\n",
       "      <td>NaN</td>\n",
       "    </tr>\n",
       "    <tr>\n",
       "      <th>4</th>\n",
       "      <td>9237-HQITU</td>\n",
       "      <td>2019-09-01</td>\n",
       "      <td>2019-11-01</td>\n",
       "      <td>Month-to-month</td>\n",
       "      <td>Yes</td>\n",
       "      <td>Electronic check</td>\n",
       "      <td>70.70</td>\n",
       "      <td>151.65</td>\n",
       "      <td>61</td>\n",
       "      <td>Female</td>\n",
       "      <td>...</td>\n",
       "      <td>No</td>\n",
       "      <td>No</td>\n",
       "      <td>Fiber optic</td>\n",
       "      <td>No</td>\n",
       "      <td>No</td>\n",
       "      <td>No</td>\n",
       "      <td>No</td>\n",
       "      <td>No</td>\n",
       "      <td>No</td>\n",
       "      <td>No</td>\n",
       "    </tr>\n",
       "  </tbody>\n",
       "</table>\n",
       "<p>5 rows × 21 columns</p>\n",
       "</div>"
      ],
      "text/plain": [
       "  customer_id begin_date   end_date            type paperless_billing  \\\n",
       "0  7590-VHVEG 2020-01-01 2020-02-01  Month-to-month               Yes   \n",
       "1  5575-GNVDE 2017-04-01 2020-02-01        One year                No   \n",
       "2  3668-QPYBK 2019-10-01 2019-12-01  Month-to-month               Yes   \n",
       "3  7795-CFOCW 2016-05-01 2020-02-01        One year                No   \n",
       "4  9237-HQITU 2019-09-01 2019-11-01  Month-to-month               Yes   \n",
       "\n",
       "              payment_method  monthly_charges  total_charges  duration  \\\n",
       "0           Electronic check            29.85          29.85        31   \n",
       "1               Mailed check            56.95        1889.50      1036   \n",
       "2               Mailed check            53.85         108.15        61   \n",
       "3  Bank transfer (automatic)            42.30        1840.75      1371   \n",
       "4           Electronic check            70.70         151.65        61   \n",
       "\n",
       "   gender  ...  partner dependents internet_service online_security  \\\n",
       "0  Female  ...      Yes         No              DSL              No   \n",
       "1    Male  ...       No         No              DSL             Yes   \n",
       "2    Male  ...       No         No              DSL             Yes   \n",
       "3    Male  ...       No         No              DSL             Yes   \n",
       "4  Female  ...       No         No      Fiber optic              No   \n",
       "\n",
       "  online_backup device_protection tech_support streaming_tv streaming_movies  \\\n",
       "0           Yes                No           No           No               No   \n",
       "1            No               Yes           No           No               No   \n",
       "2           Yes                No           No           No               No   \n",
       "3            No               Yes          Yes           No               No   \n",
       "4            No                No           No           No               No   \n",
       "\n",
       "  multiple_lines  \n",
       "0            NaN  \n",
       "1             No  \n",
       "2             No  \n",
       "3            NaN  \n",
       "4             No  \n",
       "\n",
       "[5 rows x 21 columns]"
      ]
     },
     "metadata": {},
     "output_type": "display_data"
    },
    {
     "name": "stdout",
     "output_type": "stream",
     "text": [
      "<class 'pandas.core.frame.DataFrame'>\n",
      "Int64Index: 7043 entries, 0 to 7042\n",
      "Data columns (total 21 columns):\n",
      " #   Column             Non-Null Count  Dtype         \n",
      "---  ------             --------------  -----         \n",
      " 0   customer_id        7043 non-null   object        \n",
      " 1   begin_date         7043 non-null   datetime64[ns]\n",
      " 2   end_date           7043 non-null   datetime64[ns]\n",
      " 3   type               7043 non-null   object        \n",
      " 4   paperless_billing  7043 non-null   object        \n",
      " 5   payment_method     7043 non-null   object        \n",
      " 6   monthly_charges    7043 non-null   float64       \n",
      " 7   total_charges      7043 non-null   float64       \n",
      " 8   duration           7043 non-null   int64         \n",
      " 9   gender             7043 non-null   object        \n",
      " 10  senior_citizen     7043 non-null   int64         \n",
      " 11  partner            7043 non-null   object        \n",
      " 12  dependents         7043 non-null   object        \n",
      " 13  internet_service   5517 non-null   object        \n",
      " 14  online_security    5517 non-null   object        \n",
      " 15  online_backup      5517 non-null   object        \n",
      " 16  device_protection  5517 non-null   object        \n",
      " 17  tech_support       5517 non-null   object        \n",
      " 18  streaming_tv       5517 non-null   object        \n",
      " 19  streaming_movies   5517 non-null   object        \n",
      " 20  multiple_lines     6361 non-null   object        \n",
      "dtypes: datetime64[ns](2), float64(2), int64(2), object(15)\n",
      "memory usage: 1.2+ MB\n"
     ]
    },
    {
     "data": {
      "text/plain": [
       "None"
      ]
     },
     "metadata": {},
     "output_type": "display_data"
    },
    {
     "data": {
      "text/plain": [
       "'Количество дубликатов строк'"
      ]
     },
     "metadata": {},
     "output_type": "display_data"
    },
    {
     "data": {
      "text/plain": [
       "0"
      ]
     },
     "metadata": {},
     "output_type": "display_data"
    },
    {
     "data": {
      "text/plain": [
       "'Количество пропусков в данных по столбцам'"
      ]
     },
     "metadata": {},
     "output_type": "display_data"
    },
    {
     "data": {
      "text/plain": [
       "customer_id             0\n",
       "begin_date              0\n",
       "end_date                0\n",
       "type                    0\n",
       "paperless_billing       0\n",
       "payment_method          0\n",
       "monthly_charges         0\n",
       "total_charges           0\n",
       "duration                0\n",
       "gender                  0\n",
       "senior_citizen          0\n",
       "partner                 0\n",
       "dependents              0\n",
       "internet_service     1526\n",
       "online_security      1526\n",
       "online_backup        1526\n",
       "device_protection    1526\n",
       "tech_support         1526\n",
       "streaming_tv         1526\n",
       "streaming_movies     1526\n",
       "multiple_lines        682\n",
       "dtype: int64"
      ]
     },
     "metadata": {},
     "output_type": "display_data"
    },
    {
     "data": {
      "text/plain": [
       "'Оценка непрерывных данных'"
      ]
     },
     "metadata": {},
     "output_type": "display_data"
    },
    {
     "data": {
      "text/html": [
       "<div>\n",
       "<style scoped>\n",
       "    .dataframe tbody tr th:only-of-type {\n",
       "        vertical-align: middle;\n",
       "    }\n",
       "\n",
       "    .dataframe tbody tr th {\n",
       "        vertical-align: top;\n",
       "    }\n",
       "\n",
       "    .dataframe thead th {\n",
       "        text-align: right;\n",
       "    }\n",
       "</style>\n",
       "<table border=\"1\" class=\"dataframe\">\n",
       "  <thead>\n",
       "    <tr style=\"text-align: right;\">\n",
       "      <th></th>\n",
       "      <th>monthly_charges</th>\n",
       "      <th>total_charges</th>\n",
       "      <th>duration</th>\n",
       "      <th>senior_citizen</th>\n",
       "    </tr>\n",
       "  </thead>\n",
       "  <tbody>\n",
       "    <tr>\n",
       "      <th>count</th>\n",
       "      <td>7043.000000</td>\n",
       "      <td>7043.000000</td>\n",
       "      <td>7043.000000</td>\n",
       "      <td>7043.000000</td>\n",
       "    </tr>\n",
       "    <tr>\n",
       "      <th>mean</th>\n",
       "      <td>64.761692</td>\n",
       "      <td>2279.762807</td>\n",
       "      <td>985.996166</td>\n",
       "      <td>0.162147</td>\n",
       "    </tr>\n",
       "    <tr>\n",
       "      <th>std</th>\n",
       "      <td>30.090047</td>\n",
       "      <td>2266.765914</td>\n",
       "      <td>747.587844</td>\n",
       "      <td>0.368612</td>\n",
       "    </tr>\n",
       "    <tr>\n",
       "      <th>min</th>\n",
       "      <td>18.250000</td>\n",
       "      <td>18.250000</td>\n",
       "      <td>0.000000</td>\n",
       "      <td>0.000000</td>\n",
       "    </tr>\n",
       "    <tr>\n",
       "      <th>25%</th>\n",
       "      <td>35.500000</td>\n",
       "      <td>398.550000</td>\n",
       "      <td>273.000000</td>\n",
       "      <td>0.000000</td>\n",
       "    </tr>\n",
       "    <tr>\n",
       "      <th>50%</th>\n",
       "      <td>70.350000</td>\n",
       "      <td>1394.550000</td>\n",
       "      <td>883.000000</td>\n",
       "      <td>0.000000</td>\n",
       "    </tr>\n",
       "    <tr>\n",
       "      <th>75%</th>\n",
       "      <td>89.850000</td>\n",
       "      <td>3786.600000</td>\n",
       "      <td>1676.000000</td>\n",
       "      <td>0.000000</td>\n",
       "    </tr>\n",
       "    <tr>\n",
       "      <th>max</th>\n",
       "      <td>118.750000</td>\n",
       "      <td>8684.800000</td>\n",
       "      <td>2191.000000</td>\n",
       "      <td>1.000000</td>\n",
       "    </tr>\n",
       "  </tbody>\n",
       "</table>\n",
       "</div>"
      ],
      "text/plain": [
       "       monthly_charges  total_charges     duration  senior_citizen\n",
       "count      7043.000000    7043.000000  7043.000000     7043.000000\n",
       "mean         64.761692    2279.762807   985.996166        0.162147\n",
       "std          30.090047    2266.765914   747.587844        0.368612\n",
       "min          18.250000      18.250000     0.000000        0.000000\n",
       "25%          35.500000     398.550000   273.000000        0.000000\n",
       "50%          70.350000    1394.550000   883.000000        0.000000\n",
       "75%          89.850000    3786.600000  1676.000000        0.000000\n",
       "max         118.750000    8684.800000  2191.000000        1.000000"
      ]
     },
     "metadata": {},
     "output_type": "display_data"
    },
    {
     "data": {
      "text/plain": [
       "'Название столбцов'"
      ]
     },
     "metadata": {},
     "output_type": "display_data"
    },
    {
     "data": {
      "text/plain": [
       "Index(['customer_id', 'begin_date', 'end_date', 'type', 'paperless_billing',\n",
       "       'payment_method', 'monthly_charges', 'total_charges', 'duration',\n",
       "       'gender', 'senior_citizen', 'partner', 'dependents', 'internet_service',\n",
       "       'online_security', 'online_backup', 'device_protection', 'tech_support',\n",
       "       'streaming_tv', 'streaming_movies', 'multiple_lines'],\n",
       "      dtype='object')"
      ]
     },
     "metadata": {},
     "output_type": "display_data"
    },
    {
     "data": {
      "text/plain": [
       "'Количесвто столбцов'"
      ]
     },
     "metadata": {},
     "output_type": "display_data"
    },
    {
     "data": {
      "text/plain": [
       "21"
      ]
     },
     "metadata": {},
     "output_type": "display_data"
    },
    {
     "data": {
      "text/plain": [
       "'Количество строк'"
      ]
     },
     "metadata": {},
     "output_type": "display_data"
    },
    {
     "data": {
      "text/plain": [
       "7043"
      ]
     },
     "metadata": {},
     "output_type": "display_data"
    }
   ],
   "source": [
    "data_info(df_total)"
   ]
  },
  {
   "cell_type": "markdown",
   "id": "0f48056b",
   "metadata": {},
   "source": [
    "#### Появившиеся в сводной таблице пропуски в данных о подключенных интернет улсугах заменяем на 'No'"
   ]
  },
  {
   "cell_type": "code",
   "execution_count": 43,
   "id": "bbcc1a95",
   "metadata": {},
   "outputs": [],
   "source": [
    "for columns in ('internet_service', 'online_security', 'online_backup', 'device_protection', 'tech_support',\n",
    "               'streaming_tv', 'streaming_movies', 'multiple_lines'):\n",
    "    df_total[columns] = df_total[columns].fillna('No')\n"
   ]
  },
  {
   "cell_type": "markdown",
   "id": "497ff1d0",
   "metadata": {},
   "source": [
    "#### Добавялем новый столбец - целевой признак - Status с информацией о текущем статусе клиента - 1 - клиент ушел, 0 - клиент активен"
   ]
  },
  {
   "cell_type": "code",
   "execution_count": 44,
   "id": "c3626c37",
   "metadata": {},
   "outputs": [],
   "source": [
    "df_total['status'] = (df_total['end_date'] != '2020-02-01').astype(int)"
   ]
  },
  {
   "cell_type": "code",
   "execution_count": 45,
   "id": "c9a5b92b",
   "metadata": {},
   "outputs": [
    {
     "data": {
      "text/plain": [
       "0    5174\n",
       "1    1869\n",
       "Name: status, dtype: int64"
      ]
     },
     "execution_count": 45,
     "metadata": {},
     "output_type": "execute_result"
    }
   ],
   "source": [
    "df_total['status'].value_counts()"
   ]
  },
  {
   "cell_type": "code",
   "execution_count": 46,
   "id": "4ffd2aaa",
   "metadata": {},
   "outputs": [
    {
     "name": "stdout",
     "output_type": "stream",
     "text": [
      "<class 'pandas.core.frame.DataFrame'>\n",
      "Int64Index: 7043 entries, 0 to 7042\n",
      "Data columns (total 22 columns):\n",
      " #   Column             Non-Null Count  Dtype         \n",
      "---  ------             --------------  -----         \n",
      " 0   customer_id        7043 non-null   object        \n",
      " 1   begin_date         7043 non-null   datetime64[ns]\n",
      " 2   end_date           7043 non-null   datetime64[ns]\n",
      " 3   type               7043 non-null   object        \n",
      " 4   paperless_billing  7043 non-null   object        \n",
      " 5   payment_method     7043 non-null   object        \n",
      " 6   monthly_charges    7043 non-null   float64       \n",
      " 7   total_charges      7043 non-null   float64       \n",
      " 8   duration           7043 non-null   int64         \n",
      " 9   gender             7043 non-null   object        \n",
      " 10  senior_citizen     7043 non-null   int64         \n",
      " 11  partner            7043 non-null   object        \n",
      " 12  dependents         7043 non-null   object        \n",
      " 13  internet_service   7043 non-null   object        \n",
      " 14  online_security    7043 non-null   object        \n",
      " 15  online_backup      7043 non-null   object        \n",
      " 16  device_protection  7043 non-null   object        \n",
      " 17  tech_support       7043 non-null   object        \n",
      " 18  streaming_tv       7043 non-null   object        \n",
      " 19  streaming_movies   7043 non-null   object        \n",
      " 20  multiple_lines     7043 non-null   object        \n",
      " 21  status             7043 non-null   int64         \n",
      "dtypes: datetime64[ns](2), float64(2), int64(3), object(15)\n",
      "memory usage: 1.2+ MB\n"
     ]
    }
   ],
   "source": [
    "df_total.info()"
   ]
  },
  {
   "cell_type": "markdown",
   "id": "e06f695e",
   "metadata": {},
   "source": [
    "#### Вывод:\n",
    "    В реузултьтате преобразований мы получили одну сводную таблицу по Customer_ID, в которой собраны все данные по     услугам, которые Компания предоставляет клиентам, также все денежные потоки, которые компания получает от клиентов в рамках действующих договоров. В таблицу добавлен целевой признак - текущий статус Клиента (1 - Клиент ушел из компании, 0     - клиент активен). Можно двигаться дальше - исследовать зависимомости между данными и фактом ухода Клиентов из     Компании.   "
   ]
  },
  {
   "cell_type": "markdown",
   "id": "f4de2f93",
   "metadata": {},
   "source": [
    "# 3. Исследовательский анализ данных"
   ]
  },
  {
   "cell_type": "code",
   "execution_count": 47,
   "id": "71cb6df6",
   "metadata": {},
   "outputs": [
    {
     "data": {
      "text/html": [
       "<div>\n",
       "<style scoped>\n",
       "    .dataframe tbody tr th:only-of-type {\n",
       "        vertical-align: middle;\n",
       "    }\n",
       "\n",
       "    .dataframe tbody tr th {\n",
       "        vertical-align: top;\n",
       "    }\n",
       "\n",
       "    .dataframe thead th {\n",
       "        text-align: right;\n",
       "    }\n",
       "</style>\n",
       "<table border=\"1\" class=\"dataframe\">\n",
       "  <thead>\n",
       "    <tr style=\"text-align: right;\">\n",
       "      <th></th>\n",
       "      <th>customer_id</th>\n",
       "      <th>begin_date</th>\n",
       "      <th>end_date</th>\n",
       "      <th>type</th>\n",
       "      <th>paperless_billing</th>\n",
       "      <th>payment_method</th>\n",
       "      <th>monthly_charges</th>\n",
       "      <th>total_charges</th>\n",
       "      <th>duration</th>\n",
       "      <th>gender</th>\n",
       "      <th>...</th>\n",
       "      <th>dependents</th>\n",
       "      <th>internet_service</th>\n",
       "      <th>online_security</th>\n",
       "      <th>online_backup</th>\n",
       "      <th>device_protection</th>\n",
       "      <th>tech_support</th>\n",
       "      <th>streaming_tv</th>\n",
       "      <th>streaming_movies</th>\n",
       "      <th>multiple_lines</th>\n",
       "      <th>status</th>\n",
       "    </tr>\n",
       "  </thead>\n",
       "  <tbody>\n",
       "    <tr>\n",
       "      <th>0</th>\n",
       "      <td>7590-VHVEG</td>\n",
       "      <td>2020-01-01</td>\n",
       "      <td>2020-02-01</td>\n",
       "      <td>Month-to-month</td>\n",
       "      <td>Yes</td>\n",
       "      <td>Electronic check</td>\n",
       "      <td>29.85</td>\n",
       "      <td>29.85</td>\n",
       "      <td>31</td>\n",
       "      <td>Female</td>\n",
       "      <td>...</td>\n",
       "      <td>No</td>\n",
       "      <td>DSL</td>\n",
       "      <td>No</td>\n",
       "      <td>Yes</td>\n",
       "      <td>No</td>\n",
       "      <td>No</td>\n",
       "      <td>No</td>\n",
       "      <td>No</td>\n",
       "      <td>No</td>\n",
       "      <td>0</td>\n",
       "    </tr>\n",
       "    <tr>\n",
       "      <th>1</th>\n",
       "      <td>5575-GNVDE</td>\n",
       "      <td>2017-04-01</td>\n",
       "      <td>2020-02-01</td>\n",
       "      <td>One year</td>\n",
       "      <td>No</td>\n",
       "      <td>Mailed check</td>\n",
       "      <td>56.95</td>\n",
       "      <td>1889.50</td>\n",
       "      <td>1036</td>\n",
       "      <td>Male</td>\n",
       "      <td>...</td>\n",
       "      <td>No</td>\n",
       "      <td>DSL</td>\n",
       "      <td>Yes</td>\n",
       "      <td>No</td>\n",
       "      <td>Yes</td>\n",
       "      <td>No</td>\n",
       "      <td>No</td>\n",
       "      <td>No</td>\n",
       "      <td>No</td>\n",
       "      <td>0</td>\n",
       "    </tr>\n",
       "    <tr>\n",
       "      <th>2</th>\n",
       "      <td>3668-QPYBK</td>\n",
       "      <td>2019-10-01</td>\n",
       "      <td>2019-12-01</td>\n",
       "      <td>Month-to-month</td>\n",
       "      <td>Yes</td>\n",
       "      <td>Mailed check</td>\n",
       "      <td>53.85</td>\n",
       "      <td>108.15</td>\n",
       "      <td>61</td>\n",
       "      <td>Male</td>\n",
       "      <td>...</td>\n",
       "      <td>No</td>\n",
       "      <td>DSL</td>\n",
       "      <td>Yes</td>\n",
       "      <td>Yes</td>\n",
       "      <td>No</td>\n",
       "      <td>No</td>\n",
       "      <td>No</td>\n",
       "      <td>No</td>\n",
       "      <td>No</td>\n",
       "      <td>1</td>\n",
       "    </tr>\n",
       "    <tr>\n",
       "      <th>3</th>\n",
       "      <td>7795-CFOCW</td>\n",
       "      <td>2016-05-01</td>\n",
       "      <td>2020-02-01</td>\n",
       "      <td>One year</td>\n",
       "      <td>No</td>\n",
       "      <td>Bank transfer (automatic)</td>\n",
       "      <td>42.30</td>\n",
       "      <td>1840.75</td>\n",
       "      <td>1371</td>\n",
       "      <td>Male</td>\n",
       "      <td>...</td>\n",
       "      <td>No</td>\n",
       "      <td>DSL</td>\n",
       "      <td>Yes</td>\n",
       "      <td>No</td>\n",
       "      <td>Yes</td>\n",
       "      <td>Yes</td>\n",
       "      <td>No</td>\n",
       "      <td>No</td>\n",
       "      <td>No</td>\n",
       "      <td>0</td>\n",
       "    </tr>\n",
       "    <tr>\n",
       "      <th>4</th>\n",
       "      <td>9237-HQITU</td>\n",
       "      <td>2019-09-01</td>\n",
       "      <td>2019-11-01</td>\n",
       "      <td>Month-to-month</td>\n",
       "      <td>Yes</td>\n",
       "      <td>Electronic check</td>\n",
       "      <td>70.70</td>\n",
       "      <td>151.65</td>\n",
       "      <td>61</td>\n",
       "      <td>Female</td>\n",
       "      <td>...</td>\n",
       "      <td>No</td>\n",
       "      <td>Fiber optic</td>\n",
       "      <td>No</td>\n",
       "      <td>No</td>\n",
       "      <td>No</td>\n",
       "      <td>No</td>\n",
       "      <td>No</td>\n",
       "      <td>No</td>\n",
       "      <td>No</td>\n",
       "      <td>1</td>\n",
       "    </tr>\n",
       "  </tbody>\n",
       "</table>\n",
       "<p>5 rows × 22 columns</p>\n",
       "</div>"
      ],
      "text/plain": [
       "  customer_id begin_date   end_date            type paperless_billing  \\\n",
       "0  7590-VHVEG 2020-01-01 2020-02-01  Month-to-month               Yes   \n",
       "1  5575-GNVDE 2017-04-01 2020-02-01        One year                No   \n",
       "2  3668-QPYBK 2019-10-01 2019-12-01  Month-to-month               Yes   \n",
       "3  7795-CFOCW 2016-05-01 2020-02-01        One year                No   \n",
       "4  9237-HQITU 2019-09-01 2019-11-01  Month-to-month               Yes   \n",
       "\n",
       "              payment_method  monthly_charges  total_charges  duration  \\\n",
       "0           Electronic check            29.85          29.85        31   \n",
       "1               Mailed check            56.95        1889.50      1036   \n",
       "2               Mailed check            53.85         108.15        61   \n",
       "3  Bank transfer (automatic)            42.30        1840.75      1371   \n",
       "4           Electronic check            70.70         151.65        61   \n",
       "\n",
       "   gender  ...  dependents internet_service online_security online_backup  \\\n",
       "0  Female  ...          No              DSL              No           Yes   \n",
       "1    Male  ...          No              DSL             Yes            No   \n",
       "2    Male  ...          No              DSL             Yes           Yes   \n",
       "3    Male  ...          No              DSL             Yes            No   \n",
       "4  Female  ...          No      Fiber optic              No            No   \n",
       "\n",
       "  device_protection tech_support streaming_tv streaming_movies multiple_lines  \\\n",
       "0                No           No           No               No             No   \n",
       "1               Yes           No           No               No             No   \n",
       "2                No           No           No               No             No   \n",
       "3               Yes          Yes           No               No             No   \n",
       "4                No           No           No               No             No   \n",
       "\n",
       "  status  \n",
       "0      0  \n",
       "1      0  \n",
       "2      1  \n",
       "3      0  \n",
       "4      1  \n",
       "\n",
       "[5 rows x 22 columns]"
      ]
     },
     "execution_count": 47,
     "metadata": {},
     "output_type": "execute_result"
    }
   ],
   "source": [
    "df_total.head()"
   ]
  },
  {
   "cell_type": "code",
   "execution_count": 48,
   "id": "ec8d3f22",
   "metadata": {},
   "outputs": [],
   "source": [
    "numeric_data = ['monthly_charges', 'total_charges', 'duration']\n",
    "categorial_data = [\n",
    "    'customer_id', 'begin_date', 'end_date', 'type', 'paperless_billing',\n",
    "       'payment_method', \n",
    "       'gender', 'senior_citizen', 'partner', 'dependents', 'internet_service',\n",
    "       'online_security', 'online_backup', 'device_protection', 'tech_support',\n",
    "       'streaming_tv', 'streaming_movies', 'multiple_lines'\n",
    "]\n"
   ]
  },
  {
   "cell_type": "markdown",
   "id": "9685a445",
   "metadata": {},
   "source": [
    "Исследуем распределение категориальных данных, предварительно удаляя лишние колонки с информацией Id клиента, дата и начало действия договора - эти данные для нас не существенны "
   ]
  },
  {
   "cell_type": "code",
   "execution_count": 49,
   "id": "9d68a7b6",
   "metadata": {},
   "outputs": [
    {
     "data": {
      "text/plain": [
       "['type',\n",
       " 'paperless_billing',\n",
       " 'payment_method',\n",
       " 'gender',\n",
       " 'senior_citizen',\n",
       " 'partner',\n",
       " 'dependents',\n",
       " 'internet_service',\n",
       " 'online_security',\n",
       " 'online_backup',\n",
       " 'device_protection',\n",
       " 'tech_support',\n",
       " 'streaming_tv',\n",
       " 'streaming_movies',\n",
       " 'multiple_lines']"
      ]
     },
     "execution_count": 49,
     "metadata": {},
     "output_type": "execute_result"
    }
   ],
   "source": [
    "del categorial_data[0:3]\n",
    "categorial_data"
   ]
  },
  {
   "cell_type": "code",
   "execution_count": 50,
   "id": "562077ad",
   "metadata": {},
   "outputs": [
    {
     "data": {
      "image/png": "[encoded data removed]",
      "text/plain": [
       "<Figure size 1080x1080 with 15 Axes>"
      ]
     },
     "metadata": {
      "needs_background": "light"
     },
     "output_type": "display_data"
    }
   ],
   "source": [
    "cols = 3\n",
    "rows = 5\n",
    "\n",
    "plt.figure(figsize=(15, 15))\n",
    "\n",
    "for idx, column in enumerate(categorial_data):\n",
    "    ax = plt.subplot(rows, cols, idx + 1)\n",
    "    \n",
    "    df_total[column].value_counts().plot(\n",
    "        kind='bar', \n",
    "        title=column, \n",
    "        ax=ax,\n",
    "        rot=0)\n",
    "        \n",
    "plt.show()"
   ]
  },
  {
   "cell_type": "markdown",
   "id": "eef9010f",
   "metadata": {},
   "source": [
    "Распределение непрерывных переменных и диаграмма размаха "
   ]
  },
  {
   "cell_type": "code",
   "execution_count": 51,
   "id": "c7d2bcab",
   "metadata": {},
   "outputs": [],
   "source": [
    "def plot_num_data(df):\n",
    "    cols = 3\n",
    "    rows = 2\n",
    "\n",
    "    plt.figure(figsize=(15, 10))\n",
    "\n",
    "    chrt = 0\n",
    "    for column in numeric_data:\n",
    "        chrt += 1 \n",
    "    \n",
    "        plt.subplot(rows, cols, chrt)\n",
    "        plt.hist(df[column])\n",
    "        plt.title(column)\n",
    "    \n",
    "    for column in numeric_data:\n",
    "        chrt += 1 \n",
    "    \n",
    "        plt.subplot(rows, cols, chrt)\n",
    "        plt.boxplot(df[column])\n",
    "        plt.title(column)\n",
    "        \n",
    "    plt.show()\n"
   ]
  },
  {
   "cell_type": "code",
   "execution_count": 52,
   "id": "1fa75aec",
   "metadata": {},
   "outputs": [
    {
     "data": {
      "image/png": "[encoded data removed]",
      "text/plain": [
       "<Figure size 1080x720 with 6 Axes>"
      ]
     },
     "metadata": {
      "needs_background": "light"
     },
     "output_type": "display_data"
    }
   ],
   "source": [
    "plot_num_data(df_total[numeric_data])"
   ]
  },
  {
   "cell_type": "code",
   "execution_count": 53,
   "id": "3e213a17",
   "metadata": {},
   "outputs": [
    {
     "data": {
      "text/html": [
       "<div>\n",
       "<style scoped>\n",
       "    .dataframe tbody tr th:only-of-type {\n",
       "        vertical-align: middle;\n",
       "    }\n",
       "\n",
       "    .dataframe tbody tr th {\n",
       "        vertical-align: top;\n",
       "    }\n",
       "\n",
       "    .dataframe thead th {\n",
       "        text-align: right;\n",
       "    }\n",
       "</style>\n",
       "<table border=\"1\" class=\"dataframe\">\n",
       "  <thead>\n",
       "    <tr style=\"text-align: right;\">\n",
       "      <th></th>\n",
       "      <th>monthly_charges</th>\n",
       "      <th>total_charges</th>\n",
       "      <th>duration</th>\n",
       "    </tr>\n",
       "  </thead>\n",
       "  <tbody>\n",
       "    <tr>\n",
       "      <th>count</th>\n",
       "      <td>7043.000000</td>\n",
       "      <td>7043.000000</td>\n",
       "      <td>7043.000000</td>\n",
       "    </tr>\n",
       "    <tr>\n",
       "      <th>mean</th>\n",
       "      <td>64.761692</td>\n",
       "      <td>2279.762807</td>\n",
       "      <td>985.996166</td>\n",
       "    </tr>\n",
       "    <tr>\n",
       "      <th>std</th>\n",
       "      <td>30.090047</td>\n",
       "      <td>2266.765914</td>\n",
       "      <td>747.587844</td>\n",
       "    </tr>\n",
       "    <tr>\n",
       "      <th>min</th>\n",
       "      <td>18.250000</td>\n",
       "      <td>18.250000</td>\n",
       "      <td>0.000000</td>\n",
       "    </tr>\n",
       "    <tr>\n",
       "      <th>25%</th>\n",
       "      <td>35.500000</td>\n",
       "      <td>398.550000</td>\n",
       "      <td>273.000000</td>\n",
       "    </tr>\n",
       "    <tr>\n",
       "      <th>50%</th>\n",
       "      <td>70.350000</td>\n",
       "      <td>1394.550000</td>\n",
       "      <td>883.000000</td>\n",
       "    </tr>\n",
       "    <tr>\n",
       "      <th>75%</th>\n",
       "      <td>89.850000</td>\n",
       "      <td>3786.600000</td>\n",
       "      <td>1676.000000</td>\n",
       "    </tr>\n",
       "    <tr>\n",
       "      <th>max</th>\n",
       "      <td>118.750000</td>\n",
       "      <td>8684.800000</td>\n",
       "      <td>2191.000000</td>\n",
       "    </tr>\n",
       "  </tbody>\n",
       "</table>\n",
       "</div>"
      ],
      "text/plain": [
       "       monthly_charges  total_charges     duration\n",
       "count      7043.000000    7043.000000  7043.000000\n",
       "mean         64.761692    2279.762807   985.996166\n",
       "std          30.090047    2266.765914   747.587844\n",
       "min          18.250000      18.250000     0.000000\n",
       "25%          35.500000     398.550000   273.000000\n",
       "50%          70.350000    1394.550000   883.000000\n",
       "75%          89.850000    3786.600000  1676.000000\n",
       "max         118.750000    8684.800000  2191.000000"
      ]
     },
     "metadata": {},
     "output_type": "display_data"
    }
   ],
   "source": [
    "display(df_total[numeric_data].describe())"
   ]
  },
  {
   "cell_type": "markdown",
   "id": "14eb84a9",
   "metadata": {},
   "source": [
    "Вывод: \n",
    "- Данные распределены в примерно одинаковой пропорции по гендерному признаку, самая популярная форма оплаты является электронный платеж, наиболее часто используемая регулярность оплаты - раз в месяц. Количественные данные monthly_charges, total_charges имеют выбросы в районе нуля, что говорит о том, что наибольшие днежные потоки приходят от клиентов в первые дни месяцы их обслуживания в компании. Также интересны пиковые значения в начале и конце распределения данных duration - это говорит что многие клиенты уходят после нескольких месяцев осблуживания, но также существенное количество остаются на конец исследуемого нами периода. Значительное большинство клиентов не являются пенисионерами. Большинство услуг интернет телефонии у клиентов не подключены"
   ]
  },
  {
   "cell_type": "markdown",
   "id": "50c276d3",
   "metadata": {},
   "source": [
    "Исследование зависимости категориальных значений и целевого признака  "
   ]
  },
  {
   "cell_type": "code",
   "execution_count": 54,
   "id": "7e6ff1b3",
   "metadata": {},
   "outputs": [
    {
     "data": {
      "text/plain": [
       "0.2653698707936959"
      ]
     },
     "execution_count": 54,
     "metadata": {},
     "output_type": "execute_result"
    }
   ],
   "source": [
    "df_total['status'].mean()"
   ]
  },
  {
   "cell_type": "code",
   "execution_count": 55,
   "id": "f0b4bd70",
   "metadata": {},
   "outputs": [
    {
     "data": {
      "image/png": "[encoded data removed]",
      "text/plain": [
       "<Figure size 432x288 with 1 Axes>"
      ]
     },
     "metadata": {
      "needs_background": "light"
     },
     "output_type": "display_data"
    }
   ],
   "source": [
    "df_total['status'].value_counts().plot(kind='bar')\n",
    "plt.title('Status of the client, 1- left, 0 -stayed')\n",
    "plt.show()"
   ]
  },
  {
   "cell_type": "code",
   "execution_count": 56,
   "id": "43ebd45a",
   "metadata": {},
   "outputs": [
    {
     "data": {
      "text/plain": [
       "Male      3555\n",
       "Female    3488\n",
       "Name: gender, dtype: int64"
      ]
     },
     "execution_count": 56,
     "metadata": {},
     "output_type": "execute_result"
    }
   ],
   "source": [
    "df_total['gender'].value_counts()"
   ]
  },
  {
   "cell_type": "code",
   "execution_count": 57,
   "id": "e63dd9d7",
   "metadata": {},
   "outputs": [
    {
     "data": {
      "text/html": [
       "<div>\n",
       "<style scoped>\n",
       "    .dataframe tbody tr th:only-of-type {\n",
       "        vertical-align: middle;\n",
       "    }\n",
       "\n",
       "    .dataframe tbody tr th {\n",
       "        vertical-align: top;\n",
       "    }\n",
       "\n",
       "    .dataframe thead th {\n",
       "        text-align: right;\n",
       "    }\n",
       "</style>\n",
       "<table border=\"1\" class=\"dataframe\">\n",
       "  <thead>\n",
       "    <tr style=\"text-align: right;\">\n",
       "      <th></th>\n",
       "      <th>mean</th>\n",
       "      <th>count</th>\n",
       "    </tr>\n",
       "    <tr>\n",
       "      <th>gender</th>\n",
       "      <th></th>\n",
       "      <th></th>\n",
       "    </tr>\n",
       "  </thead>\n",
       "  <tbody>\n",
       "    <tr>\n",
       "      <th>Female</th>\n",
       "      <td>0.269209</td>\n",
       "      <td>3488</td>\n",
       "    </tr>\n",
       "    <tr>\n",
       "      <th>Male</th>\n",
       "      <td>0.261603</td>\n",
       "      <td>3555</td>\n",
       "    </tr>\n",
       "  </tbody>\n",
       "</table>\n",
       "</div>"
      ],
      "text/plain": [
       "            mean  count\n",
       "gender                 \n",
       "Female  0.269209   3488\n",
       "Male    0.261603   3555"
      ]
     },
     "execution_count": 57,
     "metadata": {},
     "output_type": "execute_result"
    }
   ],
   "source": [
    "df_total.groupby('gender')['status'].agg(['mean','count'])"
   ]
  },
  {
   "cell_type": "code",
   "execution_count": 58,
   "id": "7b8023b7",
   "metadata": {},
   "outputs": [
    {
     "data": {
      "image/png": "[encoded data removed]",
      "text/plain": [
       "<Figure size 432x288 with 1 Axes>"
      ]
     },
     "metadata": {
      "needs_background": "light"
     },
     "output_type": "display_data"
    }
   ],
   "source": [
    "df_total.groupby('gender')['status'].agg(['mean']).plot(kind='bar')\n",
    "plt.title('Correlation between gender feature and status 1 of the client')\n",
    "plt.show()"
   ]
  },
  {
   "cell_type": "code",
   "execution_count": 59,
   "id": "fb5725fd",
   "metadata": {},
   "outputs": [
    {
     "data": {
      "text/html": [
       "<div>\n",
       "<style scoped>\n",
       "    .dataframe tbody tr th:only-of-type {\n",
       "        vertical-align: middle;\n",
       "    }\n",
       "\n",
       "    .dataframe tbody tr th {\n",
       "        vertical-align: top;\n",
       "    }\n",
       "\n",
       "    .dataframe thead th {\n",
       "        text-align: right;\n",
       "    }\n",
       "</style>\n",
       "<table border=\"1\" class=\"dataframe\">\n",
       "  <thead>\n",
       "    <tr style=\"text-align: right;\">\n",
       "      <th></th>\n",
       "      <th>mean</th>\n",
       "      <th>count</th>\n",
       "    </tr>\n",
       "    <tr>\n",
       "      <th>type</th>\n",
       "      <th></th>\n",
       "      <th></th>\n",
       "    </tr>\n",
       "  </thead>\n",
       "  <tbody>\n",
       "    <tr>\n",
       "      <th>Month-to-month</th>\n",
       "      <td>0.427097</td>\n",
       "      <td>3875</td>\n",
       "    </tr>\n",
       "    <tr>\n",
       "      <th>One year</th>\n",
       "      <td>0.112695</td>\n",
       "      <td>1473</td>\n",
       "    </tr>\n",
       "    <tr>\n",
       "      <th>Two year</th>\n",
       "      <td>0.028319</td>\n",
       "      <td>1695</td>\n",
       "    </tr>\n",
       "  </tbody>\n",
       "</table>\n",
       "</div>"
      ],
      "text/plain": [
       "                    mean  count\n",
       "type                           \n",
       "Month-to-month  0.427097   3875\n",
       "One year        0.112695   1473\n",
       "Two year        0.028319   1695"
      ]
     },
     "execution_count": 59,
     "metadata": {},
     "output_type": "execute_result"
    }
   ],
   "source": [
    "df_total.groupby('type')['status'].agg(['mean','count'])"
   ]
  },
  {
   "cell_type": "code",
   "execution_count": 60,
   "id": "d26aa2e5",
   "metadata": {},
   "outputs": [
    {
     "data": {
      "image/png": "[encoded data removed]",
      "text/plain": [
       "<Figure size 432x288 with 1 Axes>"
      ]
     },
     "metadata": {
      "needs_background": "light"
     },
     "output_type": "display_data"
    }
   ],
   "source": [
    "df_total.groupby('type')['status'].agg(['mean']).plot(kind='bar')\n",
    "plt.title('Correlation between type of payment and status 1 of the client')\n",
    "plt.show()"
   ]
  },
  {
   "cell_type": "code",
   "execution_count": 61,
   "id": "61290a87",
   "metadata": {},
   "outputs": [
    {
     "data": {
      "text/html": [
       "<div>\n",
       "<style scoped>\n",
       "    .dataframe tbody tr th:only-of-type {\n",
       "        vertical-align: middle;\n",
       "    }\n",
       "\n",
       "    .dataframe tbody tr th {\n",
       "        vertical-align: top;\n",
       "    }\n",
       "\n",
       "    .dataframe thead th {\n",
       "        text-align: right;\n",
       "    }\n",
       "</style>\n",
       "<table border=\"1\" class=\"dataframe\">\n",
       "  <thead>\n",
       "    <tr style=\"text-align: right;\">\n",
       "      <th></th>\n",
       "      <th>mean</th>\n",
       "      <th>count</th>\n",
       "    </tr>\n",
       "    <tr>\n",
       "      <th>paperless_billing</th>\n",
       "      <th></th>\n",
       "      <th></th>\n",
       "    </tr>\n",
       "  </thead>\n",
       "  <tbody>\n",
       "    <tr>\n",
       "      <th>No</th>\n",
       "      <td>0.163301</td>\n",
       "      <td>2872</td>\n",
       "    </tr>\n",
       "    <tr>\n",
       "      <th>Yes</th>\n",
       "      <td>0.335651</td>\n",
       "      <td>4171</td>\n",
       "    </tr>\n",
       "  </tbody>\n",
       "</table>\n",
       "</div>"
      ],
      "text/plain": [
       "                       mean  count\n",
       "paperless_billing                 \n",
       "No                 0.163301   2872\n",
       "Yes                0.335651   4171"
      ]
     },
     "execution_count": 61,
     "metadata": {},
     "output_type": "execute_result"
    }
   ],
   "source": [
    "df_total.groupby('paperless_billing')['status'].agg(['mean','count'])"
   ]
  },
  {
   "cell_type": "code",
   "execution_count": 62,
   "id": "303c8818",
   "metadata": {},
   "outputs": [
    {
     "data": {
      "image/png": "[encoded data removed]",
      "text/plain": [
       "<Figure size 432x288 with 1 Axes>"
      ]
     },
     "metadata": {
      "needs_background": "light"
     },
     "output_type": "display_data"
    }
   ],
   "source": [
    "df_total.groupby('paperless_billing')['status'].agg(['mean']).plot(kind='bar')\n",
    "plt.title('Correlation between paperless billing method and status 1 of the client')\n",
    "plt.show()"
   ]
  },
  {
   "cell_type": "code",
   "execution_count": 63,
   "id": "831acccb",
   "metadata": {},
   "outputs": [
    {
     "data": {
      "text/html": [
       "<div>\n",
       "<style scoped>\n",
       "    .dataframe tbody tr th:only-of-type {\n",
       "        vertical-align: middle;\n",
       "    }\n",
       "\n",
       "    .dataframe tbody tr th {\n",
       "        vertical-align: top;\n",
       "    }\n",
       "\n",
       "    .dataframe thead th {\n",
       "        text-align: right;\n",
       "    }\n",
       "</style>\n",
       "<table border=\"1\" class=\"dataframe\">\n",
       "  <thead>\n",
       "    <tr style=\"text-align: right;\">\n",
       "      <th></th>\n",
       "      <th>mean</th>\n",
       "      <th>count</th>\n",
       "    </tr>\n",
       "    <tr>\n",
       "      <th>payment_method</th>\n",
       "      <th></th>\n",
       "      <th></th>\n",
       "    </tr>\n",
       "  </thead>\n",
       "  <tbody>\n",
       "    <tr>\n",
       "      <th>Bank transfer (automatic)</th>\n",
       "      <td>0.167098</td>\n",
       "      <td>1544</td>\n",
       "    </tr>\n",
       "    <tr>\n",
       "      <th>Credit card (automatic)</th>\n",
       "      <td>0.152431</td>\n",
       "      <td>1522</td>\n",
       "    </tr>\n",
       "    <tr>\n",
       "      <th>Electronic check</th>\n",
       "      <td>0.452854</td>\n",
       "      <td>2365</td>\n",
       "    </tr>\n",
       "    <tr>\n",
       "      <th>Mailed check</th>\n",
       "      <td>0.191067</td>\n",
       "      <td>1612</td>\n",
       "    </tr>\n",
       "  </tbody>\n",
       "</table>\n",
       "</div>"
      ],
      "text/plain": [
       "                               mean  count\n",
       "payment_method                            \n",
       "Bank transfer (automatic)  0.167098   1544\n",
       "Credit card (automatic)    0.152431   1522\n",
       "Electronic check           0.452854   2365\n",
       "Mailed check               0.191067   1612"
      ]
     },
     "execution_count": 63,
     "metadata": {},
     "output_type": "execute_result"
    }
   ],
   "source": [
    "df_total.groupby('payment_method')['status'].agg(['mean','count'])"
   ]
  },
  {
   "cell_type": "code",
   "execution_count": 64,
   "id": "a2d7ce3c",
   "metadata": {},
   "outputs": [
    {
     "data": {
      "image/png": "[encoded data removed]",
      "text/plain": [
       "<Figure size 432x288 with 1 Axes>"
      ]
     },
     "metadata": {
      "needs_background": "light"
     },
     "output_type": "display_data"
    }
   ],
   "source": [
    "df_total.groupby('payment_method')['status'].agg(['mean']).plot(kind='bar')\n",
    "plt.title('Correlation between payment method and status 1')\n",
    "plt.show()"
   ]
  },
  {
   "cell_type": "code",
   "execution_count": 65,
   "id": "9891417f",
   "metadata": {},
   "outputs": [
    {
     "data": {
      "text/html": [
       "<div>\n",
       "<style scoped>\n",
       "    .dataframe tbody tr th:only-of-type {\n",
       "        vertical-align: middle;\n",
       "    }\n",
       "\n",
       "    .dataframe tbody tr th {\n",
       "        vertical-align: top;\n",
       "    }\n",
       "\n",
       "    .dataframe thead th {\n",
       "        text-align: right;\n",
       "    }\n",
       "</style>\n",
       "<table border=\"1\" class=\"dataframe\">\n",
       "  <thead>\n",
       "    <tr style=\"text-align: right;\">\n",
       "      <th></th>\n",
       "      <th>mean</th>\n",
       "      <th>count</th>\n",
       "    </tr>\n",
       "    <tr>\n",
       "      <th>dependents</th>\n",
       "      <th></th>\n",
       "      <th></th>\n",
       "    </tr>\n",
       "  </thead>\n",
       "  <tbody>\n",
       "    <tr>\n",
       "      <th>No</th>\n",
       "      <td>0.312791</td>\n",
       "      <td>4933</td>\n",
       "    </tr>\n",
       "    <tr>\n",
       "      <th>Yes</th>\n",
       "      <td>0.154502</td>\n",
       "      <td>2110</td>\n",
       "    </tr>\n",
       "  </tbody>\n",
       "</table>\n",
       "</div>"
      ],
      "text/plain": [
       "                mean  count\n",
       "dependents                 \n",
       "No          0.312791   4933\n",
       "Yes         0.154502   2110"
      ]
     },
     "execution_count": 65,
     "metadata": {},
     "output_type": "execute_result"
    }
   ],
   "source": [
    "df_total.groupby('dependents')['status'].agg(['mean','count'])"
   ]
  },
  {
   "cell_type": "code",
   "execution_count": 66,
   "id": "ba9c8a4d",
   "metadata": {},
   "outputs": [
    {
     "data": {
      "image/png": "[encoded data removed]",
      "text/plain": [
       "<Figure size 432x288 with 1 Axes>"
      ]
     },
     "metadata": {
      "needs_background": "light"
     },
     "output_type": "display_data"
    }
   ],
   "source": [
    "df_total.groupby('dependents')['status'].agg(['mean']).plot(kind='bar')\n",
    "plt.title('Correlation between having dependents and status 1 of the client')\n",
    "plt.show()"
   ]
  },
  {
   "cell_type": "markdown",
   "id": "d9a793d4",
   "metadata": {},
   "source": [
    "Исследуем зависимости непрерывных значений и целевого признака - для этого проведем сегментацию количественных данных на 5 групп по возрастанию сумм значений и создадим вспомогательные столбцы для проведения сводного анализа"
   ]
  },
  {
   "cell_type": "code",
   "execution_count": 67,
   "id": "055dfe2c",
   "metadata": {},
   "outputs": [],
   "source": [
    "df_total['duration_group'] = pd.qcut(df_total['duration'],5)"
   ]
  },
  {
   "cell_type": "code",
   "execution_count": 68,
   "id": "b274865f",
   "metadata": {},
   "outputs": [
    {
     "data": {
      "text/html": [
       "<div>\n",
       "<style scoped>\n",
       "    .dataframe tbody tr th:only-of-type {\n",
       "        vertical-align: middle;\n",
       "    }\n",
       "\n",
       "    .dataframe tbody tr th {\n",
       "        vertical-align: top;\n",
       "    }\n",
       "\n",
       "    .dataframe thead th {\n",
       "        text-align: right;\n",
       "    }\n",
       "</style>\n",
       "<table border=\"1\" class=\"dataframe\">\n",
       "  <thead>\n",
       "    <tr style=\"text-align: right;\">\n",
       "      <th></th>\n",
       "      <th>mean</th>\n",
       "      <th>count</th>\n",
       "    </tr>\n",
       "    <tr>\n",
       "      <th>duration_group</th>\n",
       "      <th></th>\n",
       "      <th></th>\n",
       "    </tr>\n",
       "  </thead>\n",
       "  <tbody>\n",
       "    <tr>\n",
       "      <th>(-0.001, 184.0]</th>\n",
       "      <td>0.529372</td>\n",
       "      <td>1481</td>\n",
       "    </tr>\n",
       "    <tr>\n",
       "      <th>(184.0, 609.0]</th>\n",
       "      <td>0.344054</td>\n",
       "      <td>1337</td>\n",
       "    </tr>\n",
       "    <tr>\n",
       "      <th>(609.0, 1217.0]</th>\n",
       "      <td>0.226695</td>\n",
       "      <td>1416</td>\n",
       "    </tr>\n",
       "    <tr>\n",
       "      <th>(1217.0, 1826.0]</th>\n",
       "      <td>0.150499</td>\n",
       "      <td>1402</td>\n",
       "    </tr>\n",
       "    <tr>\n",
       "      <th>(1826.0, 2191.0]</th>\n",
       "      <td>0.066098</td>\n",
       "      <td>1407</td>\n",
       "    </tr>\n",
       "  </tbody>\n",
       "</table>\n",
       "</div>"
      ],
      "text/plain": [
       "                      mean  count\n",
       "duration_group                   \n",
       "(-0.001, 184.0]   0.529372   1481\n",
       "(184.0, 609.0]    0.344054   1337\n",
       "(609.0, 1217.0]   0.226695   1416\n",
       "(1217.0, 1826.0]  0.150499   1402\n",
       "(1826.0, 2191.0]  0.066098   1407"
      ]
     },
     "execution_count": 68,
     "metadata": {},
     "output_type": "execute_result"
    }
   ],
   "source": [
    "df_total.groupby('duration_group')['status'].agg(['mean','count'])"
   ]
  },
  {
   "cell_type": "code",
   "execution_count": 69,
   "id": "09842914",
   "metadata": {},
   "outputs": [
    {
     "data": {
      "image/png": "[encoded data removed]",
      "text/plain": [
       "<Figure size 432x288 with 1 Axes>"
      ]
     },
     "metadata": {
      "needs_background": "light"
     },
     "output_type": "display_data"
    }
   ],
   "source": [
    "df_total.groupby('duration_group')['status'].agg(['mean']).plot(kind='bar')\n",
    "plt.title('Correlation between duration of the agreement with the company and status 1 ')\n",
    "plt.show()"
   ]
  },
  {
   "cell_type": "code",
   "execution_count": 70,
   "id": "2763670c",
   "metadata": {},
   "outputs": [],
   "source": [
    "df_total['monthly_charges_group'] = pd.qcut(df_total['monthly_charges'],5)"
   ]
  },
  {
   "cell_type": "code",
   "execution_count": 71,
   "id": "e4881aae",
   "metadata": {},
   "outputs": [
    {
     "data": {
      "text/html": [
       "<div>\n",
       "<style scoped>\n",
       "    .dataframe tbody tr th:only-of-type {\n",
       "        vertical-align: middle;\n",
       "    }\n",
       "\n",
       "    .dataframe tbody tr th {\n",
       "        vertical-align: top;\n",
       "    }\n",
       "\n",
       "    .dataframe thead th {\n",
       "        text-align: right;\n",
       "    }\n",
       "</style>\n",
       "<table border=\"1\" class=\"dataframe\">\n",
       "  <thead>\n",
       "    <tr style=\"text-align: right;\">\n",
       "      <th></th>\n",
       "      <th>mean</th>\n",
       "      <th>count</th>\n",
       "    </tr>\n",
       "    <tr>\n",
       "      <th>monthly_charges_group</th>\n",
       "      <th></th>\n",
       "      <th></th>\n",
       "    </tr>\n",
       "  </thead>\n",
       "  <tbody>\n",
       "    <tr>\n",
       "      <th>(18.249, 25.05]</th>\n",
       "      <td>0.091549</td>\n",
       "      <td>1420</td>\n",
       "    </tr>\n",
       "    <tr>\n",
       "      <th>(25.05, 58.83]</th>\n",
       "      <td>0.249821</td>\n",
       "      <td>1397</td>\n",
       "    </tr>\n",
       "    <tr>\n",
       "      <th>(58.83, 79.1]</th>\n",
       "      <td>0.297661</td>\n",
       "      <td>1411</td>\n",
       "    </tr>\n",
       "    <tr>\n",
       "      <th>(79.1, 94.25]</th>\n",
       "      <td>0.361052</td>\n",
       "      <td>1407</td>\n",
       "    </tr>\n",
       "    <tr>\n",
       "      <th>(94.25, 118.75]</th>\n",
       "      <td>0.328125</td>\n",
       "      <td>1408</td>\n",
       "    </tr>\n",
       "  </tbody>\n",
       "</table>\n",
       "</div>"
      ],
      "text/plain": [
       "                           mean  count\n",
       "monthly_charges_group                 \n",
       "(18.249, 25.05]        0.091549   1420\n",
       "(25.05, 58.83]         0.249821   1397\n",
       "(58.83, 79.1]          0.297661   1411\n",
       "(79.1, 94.25]          0.361052   1407\n",
       "(94.25, 118.75]        0.328125   1408"
      ]
     },
     "execution_count": 71,
     "metadata": {},
     "output_type": "execute_result"
    }
   ],
   "source": [
    "df_total.groupby('monthly_charges_group')['status'].agg(['mean','count'])"
   ]
  },
  {
   "cell_type": "code",
   "execution_count": 72,
   "id": "cdcb1752",
   "metadata": {},
   "outputs": [
    {
     "data": {
      "image/png": "[encoded data removed]",
      "text/plain": [
       "<Figure size 432x288 with 1 Axes>"
      ]
     },
     "metadata": {
      "needs_background": "light"
     },
     "output_type": "display_data"
    }
   ],
   "source": [
    "df_total.groupby('monthly_charges_group')['status'].agg(['mean']).plot(kind='bar')\n",
    "plt.title('Correlation between monthly amount of charges and status 1')\n",
    "plt.show()"
   ]
  },
  {
   "cell_type": "code",
   "execution_count": 73,
   "id": "965762ae",
   "metadata": {},
   "outputs": [],
   "source": [
    "df_total['total_charges_group'] = pd.qcut(df_total['total_charges'],5)"
   ]
  },
  {
   "cell_type": "code",
   "execution_count": 74,
   "id": "b7be8a99",
   "metadata": {},
   "outputs": [
    {
     "data": {
      "text/html": [
       "<div>\n",
       "<style scoped>\n",
       "    .dataframe tbody tr th:only-of-type {\n",
       "        vertical-align: middle;\n",
       "    }\n",
       "\n",
       "    .dataframe tbody tr th {\n",
       "        vertical-align: top;\n",
       "    }\n",
       "\n",
       "    .dataframe thead th {\n",
       "        text-align: right;\n",
       "    }\n",
       "</style>\n",
       "<table border=\"1\" class=\"dataframe\">\n",
       "  <thead>\n",
       "    <tr style=\"text-align: right;\">\n",
       "      <th></th>\n",
       "      <th>mean</th>\n",
       "      <th>count</th>\n",
       "    </tr>\n",
       "    <tr>\n",
       "      <th>total_charges_group</th>\n",
       "      <th></th>\n",
       "      <th></th>\n",
       "    </tr>\n",
       "  </thead>\n",
       "  <tbody>\n",
       "    <tr>\n",
       "      <th>(18.249, 265.32]</th>\n",
       "      <td>0.457771</td>\n",
       "      <td>1409</td>\n",
       "    </tr>\n",
       "    <tr>\n",
       "      <th>(265.32, 939.78]</th>\n",
       "      <td>0.289062</td>\n",
       "      <td>1408</td>\n",
       "    </tr>\n",
       "    <tr>\n",
       "      <th>(939.78, 2043.71]</th>\n",
       "      <td>0.208659</td>\n",
       "      <td>1409</td>\n",
       "    </tr>\n",
       "    <tr>\n",
       "      <th>(2043.71, 4471.44]</th>\n",
       "      <td>0.230114</td>\n",
       "      <td>1408</td>\n",
       "    </tr>\n",
       "    <tr>\n",
       "      <th>(4471.44, 8684.8]</th>\n",
       "      <td>0.141235</td>\n",
       "      <td>1409</td>\n",
       "    </tr>\n",
       "  </tbody>\n",
       "</table>\n",
       "</div>"
      ],
      "text/plain": [
       "                         mean  count\n",
       "total_charges_group                 \n",
       "(18.249, 265.32]     0.457771   1409\n",
       "(265.32, 939.78]     0.289062   1408\n",
       "(939.78, 2043.71]    0.208659   1409\n",
       "(2043.71, 4471.44]   0.230114   1408\n",
       "(4471.44, 8684.8]    0.141235   1409"
      ]
     },
     "execution_count": 74,
     "metadata": {},
     "output_type": "execute_result"
    }
   ],
   "source": [
    "df_total.groupby('total_charges_group')['status'].agg(['mean','count'])"
   ]
  },
  {
   "cell_type": "code",
   "execution_count": 75,
   "id": "1a9cce36",
   "metadata": {},
   "outputs": [
    {
     "data": {
      "image/png": "[encoded data removed]",
      "text/plain": [
       "<Figure size 432x288 with 1 Axes>"
      ]
     },
     "metadata": {
      "needs_background": "light"
     },
     "output_type": "display_data"
    }
   ],
   "source": [
    "df_total.groupby('total_charges_group')['status'].agg(['mean']).plot(kind='bar')\n",
    "plt.title('Correlation between total charges amount of the client and status 1 ')\n",
    "plt.show()"
   ]
  },
  {
   "cell_type": "markdown",
   "id": "7ef4b4b5",
   "metadata": {},
   "source": [
    "Изучим корреляцию между данными:"
   ]
  },
  {
   "cell_type": "code",
   "execution_count": 76,
   "id": "e07b47cb",
   "metadata": {},
   "outputs": [
    {
     "data": {
      "text/plain": [
       "status             1.000000\n",
       "monthly_charges    0.193356\n",
       "senior_citizen     0.150889\n",
       "total_charges     -0.198334\n",
       "duration          -0.352673\n",
       "Name: status, dtype: float64"
      ]
     },
     "execution_count": 76,
     "metadata": {},
     "output_type": "execute_result"
    }
   ],
   "source": [
    "df_total.corr()['status'].sort_values(ascending=False)"
   ]
  },
  {
   "cell_type": "markdown",
   "id": "ab02d241",
   "metadata": {},
   "source": [
    "Предположения по итогам исследования:"
   ]
  },
  {
   "cell_type": "markdown",
   "id": "1962f2e8",
   "metadata": {},
   "source": [
    "- Чем выше оплата в месяц, тем выше вероятность, что клиент уйдет \n",
    "- Достижение порогового значения месячной оплаты возможно как в первые месяцы так и в последующие, но более чувствительными  к росту месячной оплаты       являются клиенты в первый год обслуживания  \n",
    "- Наблюдается резкий отток клиентов после попадания месячного платежа в диапазон 60 - 80 единиц\n",
    "- Чем дольше клиент в компании, тем вероятность ухода ниже при условии сохранения размера месячного платежа"
   ]
  },
  {
   "cell_type": "markdown",
   "id": "832999e6",
   "metadata": {},
   "source": [
    "Общий вывод по исследованию признаков:\n",
    "- Компанию покинуло 26% клиентов. Из низ примерно в равной пропорции мужчины и женщины, клиенты использовали в большинстве своем по месячную оплату услуг, а также электронную форму оплаты. То есть в основном уходили те кто использует помесячную форму оплаты.\n",
    "- Главный вывод - это факт ухода из компании большого количества клиентов в первый год обслуживания в случае роста размера месячного платежа. Также интересна обратная тенденция на рост общей суммы платежей и увеличение срока действия договора с компанией. Видимо уходят те, кого не устраивает размер месячного платежа по итогам года, а те кого размер платежа утстраивает либо он ниже предельного значения остаются с ней надолго.\n",
    "- Возможно имеет смысл обратить внимание на пороговое значение месячного тарифа уровня значения третьего квантиля. Достижение данного уровня является сигналом для лояльных действий со стороны Компании по отношению к Клиенту особенно после первого года обслуживания\n",
    "  "
   ]
  },
  {
   "cell_type": "markdown",
   "id": "82643b8b",
   "metadata": {},
   "source": [
    "Проверяем данные на мультиколлинеарность"
   ]
  },
  {
   "cell_type": "code",
   "execution_count": 77,
   "id": "b1681208",
   "metadata": {},
   "outputs": [
    {
     "data": {
      "text/html": [
       "<div>\n",
       "<style scoped>\n",
       "    .dataframe tbody tr th:only-of-type {\n",
       "        vertical-align: middle;\n",
       "    }\n",
       "\n",
       "    .dataframe tbody tr th {\n",
       "        vertical-align: top;\n",
       "    }\n",
       "\n",
       "    .dataframe thead th {\n",
       "        text-align: right;\n",
       "    }\n",
       "</style>\n",
       "<table border=\"1\" class=\"dataframe\">\n",
       "  <thead>\n",
       "    <tr style=\"text-align: right;\">\n",
       "      <th></th>\n",
       "      <th>monthly_charges</th>\n",
       "      <th>total_charges</th>\n",
       "      <th>duration</th>\n",
       "    </tr>\n",
       "  </thead>\n",
       "  <tbody>\n",
       "    <tr>\n",
       "      <th>monthly_charges</th>\n",
       "      <td>1.000000</td>\n",
       "      <td>0.651172</td>\n",
       "      <td>0.247754</td>\n",
       "    </tr>\n",
       "    <tr>\n",
       "      <th>total_charges</th>\n",
       "      <td>0.651172</td>\n",
       "      <td>1.000000</td>\n",
       "      <td>0.826103</td>\n",
       "    </tr>\n",
       "    <tr>\n",
       "      <th>duration</th>\n",
       "      <td>0.247754</td>\n",
       "      <td>0.826103</td>\n",
       "      <td>1.000000</td>\n",
       "    </tr>\n",
       "  </tbody>\n",
       "</table>\n",
       "</div>"
      ],
      "text/plain": [
       "                 monthly_charges  total_charges  duration\n",
       "monthly_charges         1.000000       0.651172  0.247754\n",
       "total_charges           0.651172       1.000000  0.826103\n",
       "duration                0.247754       0.826103  1.000000"
      ]
     },
     "execution_count": 77,
     "metadata": {},
     "output_type": "execute_result"
    }
   ],
   "source": [
    " df_total[numeric_data].corr() "
   ]
  },
  {
   "cell_type": "markdown",
   "id": "0f7c34fc",
   "metadata": {},
   "source": [
    "Наблюдаем линейную зависимость 0.82 между total_charges и duration - что выглядит логичным, чем дольше клиент в компании тем больше он платит. Данная зависимость нам будет мешать, поэтому удалим столбец total charges, также удалим вспомогательные группы количественных данных"
   ]
  },
  {
   "cell_type": "code",
   "execution_count": 78,
   "id": "66246103",
   "metadata": {},
   "outputs": [],
   "source": [
    "df_total = df_total.drop(columns= ['total_charges','total_charges_group',\n",
    "                                   'monthly_charges_group', 'duration_group'], axis=1) \n"
   ]
  },
  {
   "cell_type": "code",
   "execution_count": 79,
   "id": "e5900f97",
   "metadata": {},
   "outputs": [
    {
     "name": "stdout",
     "output_type": "stream",
     "text": [
      "interval columns not set, guessing: ['monthly_charges', 'duration', 'senior_citizen', 'status']\n"
     ]
    }
   ],
   "source": [
    "phik_overview = df_total.phik_matrix()"
   ]
  },
  {
   "cell_type": "code",
   "execution_count": 80,
   "id": "d2957ebe",
   "metadata": {},
   "outputs": [
    {
     "data": {
      "text/html": [
       "<div>\n",
       "<style scoped>\n",
       "    .dataframe tbody tr th:only-of-type {\n",
       "        vertical-align: middle;\n",
       "    }\n",
       "\n",
       "    .dataframe tbody tr th {\n",
       "        vertical-align: top;\n",
       "    }\n",
       "\n",
       "    .dataframe thead th {\n",
       "        text-align: right;\n",
       "    }\n",
       "</style>\n",
       "<table border=\"1\" class=\"dataframe\">\n",
       "  <thead>\n",
       "    <tr style=\"text-align: right;\">\n",
       "      <th></th>\n",
       "      <th>customer_id</th>\n",
       "      <th>begin_date</th>\n",
       "      <th>end_date</th>\n",
       "      <th>type</th>\n",
       "      <th>paperless_billing</th>\n",
       "      <th>payment_method</th>\n",
       "      <th>monthly_charges</th>\n",
       "      <th>duration</th>\n",
       "      <th>gender</th>\n",
       "      <th>senior_citizen</th>\n",
       "      <th>...</th>\n",
       "      <th>dependents</th>\n",
       "      <th>internet_service</th>\n",
       "      <th>online_security</th>\n",
       "      <th>online_backup</th>\n",
       "      <th>device_protection</th>\n",
       "      <th>tech_support</th>\n",
       "      <th>streaming_tv</th>\n",
       "      <th>streaming_movies</th>\n",
       "      <th>multiple_lines</th>\n",
       "      <th>status</th>\n",
       "    </tr>\n",
       "  </thead>\n",
       "  <tbody>\n",
       "    <tr>\n",
       "      <th>customer_id</th>\n",
       "      <td>1.0</td>\n",
       "      <td>1.000000</td>\n",
       "      <td>1.000000</td>\n",
       "      <td>1.000000</td>\n",
       "      <td>1.000000</td>\n",
       "      <td>1.000000</td>\n",
       "      <td>1.000000</td>\n",
       "      <td>1.000000</td>\n",
       "      <td>1.000000</td>\n",
       "      <td>1.000000</td>\n",
       "      <td>...</td>\n",
       "      <td>1.000000</td>\n",
       "      <td>1.000000</td>\n",
       "      <td>1.000000</td>\n",
       "      <td>1.000000</td>\n",
       "      <td>1.000000</td>\n",
       "      <td>1.000000</td>\n",
       "      <td>1.000000</td>\n",
       "      <td>1.000000</td>\n",
       "      <td>1.000000</td>\n",
       "      <td>1.000000</td>\n",
       "    </tr>\n",
       "    <tr>\n",
       "      <th>begin_date</th>\n",
       "      <td>1.0</td>\n",
       "      <td>1.000000</td>\n",
       "      <td>0.584146</td>\n",
       "      <td>0.766249</td>\n",
       "      <td>0.081447</td>\n",
       "      <td>0.456389</td>\n",
       "      <td>0.421886</td>\n",
       "      <td>0.995271</td>\n",
       "      <td>0.011268</td>\n",
       "      <td>0.050862</td>\n",
       "      <td>...</td>\n",
       "      <td>0.208564</td>\n",
       "      <td>0.192197</td>\n",
       "      <td>0.403560</td>\n",
       "      <td>0.445583</td>\n",
       "      <td>0.456002</td>\n",
       "      <td>0.399506</td>\n",
       "      <td>0.359784</td>\n",
       "      <td>0.371863</td>\n",
       "      <td>0.428109</td>\n",
       "      <td>0.495211</td>\n",
       "    </tr>\n",
       "    <tr>\n",
       "      <th>end_date</th>\n",
       "      <td>1.0</td>\n",
       "      <td>0.584146</td>\n",
       "      <td>1.000000</td>\n",
       "      <td>0.357462</td>\n",
       "      <td>0.156832</td>\n",
       "      <td>0.212169</td>\n",
       "      <td>0.319733</td>\n",
       "      <td>0.408477</td>\n",
       "      <td>0.000000</td>\n",
       "      <td>0.123124</td>\n",
       "      <td>...</td>\n",
       "      <td>0.133425</td>\n",
       "      <td>0.288479</td>\n",
       "      <td>0.139392</td>\n",
       "      <td>0.068364</td>\n",
       "      <td>0.051336</td>\n",
       "      <td>0.134227</td>\n",
       "      <td>0.050373</td>\n",
       "      <td>0.047014</td>\n",
       "      <td>0.034949</td>\n",
       "      <td>1.000000</td>\n",
       "    </tr>\n",
       "    <tr>\n",
       "      <th>type</th>\n",
       "      <td>1.0</td>\n",
       "      <td>0.766249</td>\n",
       "      <td>0.357462</td>\n",
       "      <td>1.000000</td>\n",
       "      <td>0.106860</td>\n",
       "      <td>0.277462</td>\n",
       "      <td>0.388444</td>\n",
       "      <td>0.664660</td>\n",
       "      <td>0.000000</td>\n",
       "      <td>0.086231</td>\n",
       "      <td>...</td>\n",
       "      <td>0.147680</td>\n",
       "      <td>0.505187</td>\n",
       "      <td>0.152145</td>\n",
       "      <td>0.098884</td>\n",
       "      <td>0.137610</td>\n",
       "      <td>0.179999</td>\n",
       "      <td>0.066961</td>\n",
       "      <td>0.069608</td>\n",
       "      <td>0.065498</td>\n",
       "      <td>0.251639</td>\n",
       "    </tr>\n",
       "    <tr>\n",
       "      <th>paperless_billing</th>\n",
       "      <td>1.0</td>\n",
       "      <td>0.081447</td>\n",
       "      <td>0.156832</td>\n",
       "      <td>0.106860</td>\n",
       "      <td>1.000000</td>\n",
       "      <td>0.370495</td>\n",
       "      <td>0.467812</td>\n",
       "      <td>0.000000</td>\n",
       "      <td>0.000000</td>\n",
       "      <td>0.242133</td>\n",
       "      <td>...</td>\n",
       "      <td>0.172593</td>\n",
       "      <td>0.231438</td>\n",
       "      <td>0.000000</td>\n",
       "      <td>0.196443</td>\n",
       "      <td>0.160796</td>\n",
       "      <td>0.055929</td>\n",
       "      <td>0.343524</td>\n",
       "      <td>0.325551</td>\n",
       "      <td>0.252972</td>\n",
       "      <td>0.295754</td>\n",
       "    </tr>\n",
       "    <tr>\n",
       "      <th>payment_method</th>\n",
       "      <td>1.0</td>\n",
       "      <td>0.456389</td>\n",
       "      <td>0.212169</td>\n",
       "      <td>0.277462</td>\n",
       "      <td>0.370495</td>\n",
       "      <td>1.000000</td>\n",
       "      <td>0.399526</td>\n",
       "      <td>0.375115</td>\n",
       "      <td>0.000000</td>\n",
       "      <td>0.292725</td>\n",
       "      <td>...</td>\n",
       "      <td>0.224903</td>\n",
       "      <td>0.323886</td>\n",
       "      <td>0.262911</td>\n",
       "      <td>0.282475</td>\n",
       "      <td>0.306866</td>\n",
       "      <td>0.272101</td>\n",
       "      <td>0.377209</td>\n",
       "      <td>0.378907</td>\n",
       "      <td>0.339313</td>\n",
       "      <td>0.449125</td>\n",
       "    </tr>\n",
       "    <tr>\n",
       "      <th>monthly_charges</th>\n",
       "      <td>1.0</td>\n",
       "      <td>0.421886</td>\n",
       "      <td>0.319733</td>\n",
       "      <td>0.388444</td>\n",
       "      <td>0.467812</td>\n",
       "      <td>0.399526</td>\n",
       "      <td>1.000000</td>\n",
       "      <td>0.411191</td>\n",
       "      <td>0.008175</td>\n",
       "      <td>0.304985</td>\n",
       "      <td>...</td>\n",
       "      <td>0.184366</td>\n",
       "      <td>0.919002</td>\n",
       "      <td>0.551621</td>\n",
       "      <td>0.629541</td>\n",
       "      <td>0.667481</td>\n",
       "      <td>0.576525</td>\n",
       "      <td>0.835340</td>\n",
       "      <td>0.833307</td>\n",
       "      <td>0.675883</td>\n",
       "      <td>0.360050</td>\n",
       "    </tr>\n",
       "    <tr>\n",
       "      <th>duration</th>\n",
       "      <td>1.0</td>\n",
       "      <td>0.995271</td>\n",
       "      <td>0.408477</td>\n",
       "      <td>0.664660</td>\n",
       "      <td>0.000000</td>\n",
       "      <td>0.375115</td>\n",
       "      <td>0.411191</td>\n",
       "      <td>1.000000</td>\n",
       "      <td>0.000000</td>\n",
       "      <td>0.028663</td>\n",
       "      <td>...</td>\n",
       "      <td>0.212209</td>\n",
       "      <td>0.019357</td>\n",
       "      <td>0.424786</td>\n",
       "      <td>0.465284</td>\n",
       "      <td>0.465931</td>\n",
       "      <td>0.422111</td>\n",
       "      <td>0.359254</td>\n",
       "      <td>0.371121</td>\n",
       "      <td>0.433522</td>\n",
       "      <td>0.474001</td>\n",
       "    </tr>\n",
       "    <tr>\n",
       "      <th>gender</th>\n",
       "      <td>1.0</td>\n",
       "      <td>0.011268</td>\n",
       "      <td>0.000000</td>\n",
       "      <td>0.000000</td>\n",
       "      <td>0.000000</td>\n",
       "      <td>0.000000</td>\n",
       "      <td>0.008175</td>\n",
       "      <td>0.000000</td>\n",
       "      <td>1.000000</td>\n",
       "      <td>0.000000</td>\n",
       "      <td>...</td>\n",
       "      <td>0.000000</td>\n",
       "      <td>0.000000</td>\n",
       "      <td>0.018397</td>\n",
       "      <td>0.009882</td>\n",
       "      <td>0.000000</td>\n",
       "      <td>0.000000</td>\n",
       "      <td>0.000000</td>\n",
       "      <td>0.000000</td>\n",
       "      <td>0.000000</td>\n",
       "      <td>0.000000</td>\n",
       "    </tr>\n",
       "    <tr>\n",
       "      <th>senior_citizen</th>\n",
       "      <td>1.0</td>\n",
       "      <td>0.050862</td>\n",
       "      <td>0.123124</td>\n",
       "      <td>0.086231</td>\n",
       "      <td>0.242133</td>\n",
       "      <td>0.292725</td>\n",
       "      <td>0.304985</td>\n",
       "      <td>0.028663</td>\n",
       "      <td>0.000000</td>\n",
       "      <td>1.000000</td>\n",
       "      <td>...</td>\n",
       "      <td>0.324576</td>\n",
       "      <td>0.160702</td>\n",
       "      <td>0.057028</td>\n",
       "      <td>0.102065</td>\n",
       "      <td>0.090686</td>\n",
       "      <td>0.092565</td>\n",
       "      <td>0.163120</td>\n",
       "      <td>0.186141</td>\n",
       "      <td>0.221313</td>\n",
       "      <td>0.233432</td>\n",
       "    </tr>\n",
       "    <tr>\n",
       "      <th>partner</th>\n",
       "      <td>1.0</td>\n",
       "      <td>0.473514</td>\n",
       "      <td>0.121753</td>\n",
       "      <td>0.179736</td>\n",
       "      <td>0.013218</td>\n",
       "      <td>0.243008</td>\n",
       "      <td>0.203545</td>\n",
       "      <td>0.491658</td>\n",
       "      <td>0.000000</td>\n",
       "      <td>0.016992</td>\n",
       "      <td>...</td>\n",
       "      <td>0.652122</td>\n",
       "      <td>0.000000</td>\n",
       "      <td>0.221673</td>\n",
       "      <td>0.219223</td>\n",
       "      <td>0.238079</td>\n",
       "      <td>0.185993</td>\n",
       "      <td>0.193258</td>\n",
       "      <td>0.182011</td>\n",
       "      <td>0.220101</td>\n",
       "      <td>0.232930</td>\n",
       "    </tr>\n",
       "    <tr>\n",
       "      <th>dependents</th>\n",
       "      <td>1.0</td>\n",
       "      <td>0.208564</td>\n",
       "      <td>0.133425</td>\n",
       "      <td>0.147680</td>\n",
       "      <td>0.172593</td>\n",
       "      <td>0.224903</td>\n",
       "      <td>0.184366</td>\n",
       "      <td>0.212209</td>\n",
       "      <td>0.000000</td>\n",
       "      <td>0.324576</td>\n",
       "      <td>...</td>\n",
       "      <td>1.000000</td>\n",
       "      <td>0.108463</td>\n",
       "      <td>0.124945</td>\n",
       "      <td>0.031533</td>\n",
       "      <td>0.010416</td>\n",
       "      <td>0.096912</td>\n",
       "      <td>0.017331</td>\n",
       "      <td>0.058999</td>\n",
       "      <td>0.033103</td>\n",
       "      <td>0.253936</td>\n",
       "    </tr>\n",
       "    <tr>\n",
       "      <th>internet_service</th>\n",
       "      <td>1.0</td>\n",
       "      <td>0.192197</td>\n",
       "      <td>0.288479</td>\n",
       "      <td>0.505187</td>\n",
       "      <td>0.231438</td>\n",
       "      <td>0.323886</td>\n",
       "      <td>0.919002</td>\n",
       "      <td>0.019357</td>\n",
       "      <td>0.000000</td>\n",
       "      <td>0.160702</td>\n",
       "      <td>...</td>\n",
       "      <td>0.108463</td>\n",
       "      <td>1.000000</td>\n",
       "      <td>0.241421</td>\n",
       "      <td>0.233602</td>\n",
       "      <td>0.232916</td>\n",
       "      <td>0.239663</td>\n",
       "      <td>0.272818</td>\n",
       "      <td>0.272782</td>\n",
       "      <td>0.225383</td>\n",
       "      <td>0.196202</td>\n",
       "    </tr>\n",
       "    <tr>\n",
       "      <th>online_security</th>\n",
       "      <td>1.0</td>\n",
       "      <td>0.403560</td>\n",
       "      <td>0.139392</td>\n",
       "      <td>0.152145</td>\n",
       "      <td>0.000000</td>\n",
       "      <td>0.262911</td>\n",
       "      <td>0.551621</td>\n",
       "      <td>0.424786</td>\n",
       "      <td>0.018397</td>\n",
       "      <td>0.057028</td>\n",
       "      <td>...</td>\n",
       "      <td>0.124945</td>\n",
       "      <td>0.241421</td>\n",
       "      <td>1.000000</td>\n",
       "      <td>0.430425</td>\n",
       "      <td>0.418474</td>\n",
       "      <td>0.528391</td>\n",
       "      <td>0.272186</td>\n",
       "      <td>0.289097</td>\n",
       "      <td>0.151886</td>\n",
       "      <td>0.264580</td>\n",
       "    </tr>\n",
       "    <tr>\n",
       "      <th>online_backup</th>\n",
       "      <td>1.0</td>\n",
       "      <td>0.445583</td>\n",
       "      <td>0.068364</td>\n",
       "      <td>0.098884</td>\n",
       "      <td>0.196443</td>\n",
       "      <td>0.282475</td>\n",
       "      <td>0.629541</td>\n",
       "      <td>0.465284</td>\n",
       "      <td>0.009882</td>\n",
       "      <td>0.102065</td>\n",
       "      <td>...</td>\n",
       "      <td>0.031533</td>\n",
       "      <td>0.233602</td>\n",
       "      <td>0.430425</td>\n",
       "      <td>1.000000</td>\n",
       "      <td>0.458211</td>\n",
       "      <td>0.445130</td>\n",
       "      <td>0.428007</td>\n",
       "      <td>0.417170</td>\n",
       "      <td>0.311403</td>\n",
       "      <td>0.126973</td>\n",
       "    </tr>\n",
       "    <tr>\n",
       "      <th>device_protection</th>\n",
       "      <td>1.0</td>\n",
       "      <td>0.456002</td>\n",
       "      <td>0.051336</td>\n",
       "      <td>0.137610</td>\n",
       "      <td>0.160796</td>\n",
       "      <td>0.306866</td>\n",
       "      <td>0.667481</td>\n",
       "      <td>0.465931</td>\n",
       "      <td>0.000000</td>\n",
       "      <td>0.090686</td>\n",
       "      <td>...</td>\n",
       "      <td>0.010416</td>\n",
       "      <td>0.232916</td>\n",
       "      <td>0.418474</td>\n",
       "      <td>0.458211</td>\n",
       "      <td>1.000000</td>\n",
       "      <td>0.499267</td>\n",
       "      <td>0.575536</td>\n",
       "      <td>0.589888</td>\n",
       "      <td>0.309757</td>\n",
       "      <td>0.101516</td>\n",
       "    </tr>\n",
       "    <tr>\n",
       "      <th>tech_support</th>\n",
       "      <td>1.0</td>\n",
       "      <td>0.399506</td>\n",
       "      <td>0.134227</td>\n",
       "      <td>0.179999</td>\n",
       "      <td>0.055929</td>\n",
       "      <td>0.272101</td>\n",
       "      <td>0.576525</td>\n",
       "      <td>0.422111</td>\n",
       "      <td>0.000000</td>\n",
       "      <td>0.092565</td>\n",
       "      <td>...</td>\n",
       "      <td>0.096912</td>\n",
       "      <td>0.239663</td>\n",
       "      <td>0.528391</td>\n",
       "      <td>0.445130</td>\n",
       "      <td>0.499267</td>\n",
       "      <td>1.000000</td>\n",
       "      <td>0.422242</td>\n",
       "      <td>0.424078</td>\n",
       "      <td>0.155739</td>\n",
       "      <td>0.254615</td>\n",
       "    </tr>\n",
       "    <tr>\n",
       "      <th>streaming_tv</th>\n",
       "      <td>1.0</td>\n",
       "      <td>0.359784</td>\n",
       "      <td>0.050373</td>\n",
       "      <td>0.066961</td>\n",
       "      <td>0.343524</td>\n",
       "      <td>0.377209</td>\n",
       "      <td>0.835340</td>\n",
       "      <td>0.359254</td>\n",
       "      <td>0.000000</td>\n",
       "      <td>0.163120</td>\n",
       "      <td>...</td>\n",
       "      <td>0.017331</td>\n",
       "      <td>0.272818</td>\n",
       "      <td>0.272186</td>\n",
       "      <td>0.428007</td>\n",
       "      <td>0.575536</td>\n",
       "      <td>0.422242</td>\n",
       "      <td>1.000000</td>\n",
       "      <td>0.742479</td>\n",
       "      <td>0.392239</td>\n",
       "      <td>0.096865</td>\n",
       "    </tr>\n",
       "    <tr>\n",
       "      <th>streaming_movies</th>\n",
       "      <td>1.0</td>\n",
       "      <td>0.371863</td>\n",
       "      <td>0.047014</td>\n",
       "      <td>0.069608</td>\n",
       "      <td>0.325551</td>\n",
       "      <td>0.378907</td>\n",
       "      <td>0.833307</td>\n",
       "      <td>0.371121</td>\n",
       "      <td>0.000000</td>\n",
       "      <td>0.186141</td>\n",
       "      <td>...</td>\n",
       "      <td>0.058999</td>\n",
       "      <td>0.272782</td>\n",
       "      <td>0.289097</td>\n",
       "      <td>0.417170</td>\n",
       "      <td>0.589888</td>\n",
       "      <td>0.424078</td>\n",
       "      <td>0.742479</td>\n",
       "      <td>1.000000</td>\n",
       "      <td>0.394553</td>\n",
       "      <td>0.093923</td>\n",
       "    </tr>\n",
       "    <tr>\n",
       "      <th>multiple_lines</th>\n",
       "      <td>1.0</td>\n",
       "      <td>0.428109</td>\n",
       "      <td>0.034949</td>\n",
       "      <td>0.065498</td>\n",
       "      <td>0.252972</td>\n",
       "      <td>0.339313</td>\n",
       "      <td>0.675883</td>\n",
       "      <td>0.433522</td>\n",
       "      <td>0.000000</td>\n",
       "      <td>0.221313</td>\n",
       "      <td>...</td>\n",
       "      <td>0.033103</td>\n",
       "      <td>0.225383</td>\n",
       "      <td>0.151886</td>\n",
       "      <td>0.311403</td>\n",
       "      <td>0.309757</td>\n",
       "      <td>0.155739</td>\n",
       "      <td>0.392239</td>\n",
       "      <td>0.394553</td>\n",
       "      <td>1.000000</td>\n",
       "      <td>0.059581</td>\n",
       "    </tr>\n",
       "    <tr>\n",
       "      <th>status</th>\n",
       "      <td>1.0</td>\n",
       "      <td>0.495211</td>\n",
       "      <td>1.000000</td>\n",
       "      <td>0.251639</td>\n",
       "      <td>0.295754</td>\n",
       "      <td>0.449125</td>\n",
       "      <td>0.360050</td>\n",
       "      <td>0.474001</td>\n",
       "      <td>0.000000</td>\n",
       "      <td>0.233432</td>\n",
       "      <td>...</td>\n",
       "      <td>0.253936</td>\n",
       "      <td>0.196202</td>\n",
       "      <td>0.264580</td>\n",
       "      <td>0.126973</td>\n",
       "      <td>0.101516</td>\n",
       "      <td>0.254615</td>\n",
       "      <td>0.096865</td>\n",
       "      <td>0.093923</td>\n",
       "      <td>0.059581</td>\n",
       "      <td>1.000000</td>\n",
       "    </tr>\n",
       "  </tbody>\n",
       "</table>\n",
       "<p>21 rows × 21 columns</p>\n",
       "</div>"
      ],
      "text/plain": [
       "                   customer_id  begin_date  end_date      type  \\\n",
       "customer_id                1.0    1.000000  1.000000  1.000000   \n",
       "begin_date                 1.0    1.000000  0.584146  0.766249   \n",
       "end_date                   1.0    0.584146  1.000000  0.357462   \n",
       "type                       1.0    0.766249  0.357462  1.000000   \n",
       "paperless_billing          1.0    0.081447  0.156832  0.106860   \n",
       "payment_method             1.0    0.456389  0.212169  0.277462   \n",
       "monthly_charges            1.0    0.421886  0.319733  0.388444   \n",
       "duration                   1.0    0.995271  0.408477  0.664660   \n",
       "gender                     1.0    0.011268  0.000000  0.000000   \n",
       "senior_citizen             1.0    0.050862  0.123124  0.086231   \n",
       "partner                    1.0    0.473514  0.121753  0.179736   \n",
       "dependents                 1.0    0.208564  0.133425  0.147680   \n",
       "internet_service           1.0    0.192197  0.288479  0.505187   \n",
       "online_security            1.0    0.403560  0.139392  0.152145   \n",
       "online_backup              1.0    0.445583  0.068364  0.098884   \n",
       "device_protection          1.0    0.456002  0.051336  0.137610   \n",
       "tech_support               1.0    0.399506  0.134227  0.179999   \n",
       "streaming_tv               1.0    0.359784  0.050373  0.066961   \n",
       "streaming_movies           1.0    0.371863  0.047014  0.069608   \n",
       "multiple_lines             1.0    0.428109  0.034949  0.065498   \n",
       "status                     1.0    0.495211  1.000000  0.251639   \n",
       "\n",
       "                   paperless_billing  payment_method  monthly_charges  \\\n",
       "customer_id                 1.000000        1.000000         1.000000   \n",
       "begin_date                  0.081447        0.456389         0.421886   \n",
       "end_date                    0.156832        0.212169         0.319733   \n",
       "type                        0.106860        0.277462         0.388444   \n",
       "paperless_billing           1.000000        0.370495         0.467812   \n",
       "payment_method              0.370495        1.000000         0.399526   \n",
       "monthly_charges             0.467812        0.399526         1.000000   \n",
       "duration                    0.000000        0.375115         0.411191   \n",
       "gender                      0.000000        0.000000         0.008175   \n",
       "senior_citizen              0.242133        0.292725         0.304985   \n",
       "partner                     0.013218        0.243008         0.203545   \n",
       "dependents                  0.172593        0.224903         0.184366   \n",
       "internet_service            0.231438        0.323886         0.919002   \n",
       "online_security             0.000000        0.262911         0.551621   \n",
       "online_backup               0.196443        0.282475         0.629541   \n",
       "device_protection           0.160796        0.306866         0.667481   \n",
       "tech_support                0.055929        0.272101         0.576525   \n",
       "streaming_tv                0.343524        0.377209         0.835340   \n",
       "streaming_movies            0.325551        0.378907         0.833307   \n",
       "multiple_lines              0.252972        0.339313         0.675883   \n",
       "status                      0.295754        0.449125         0.360050   \n",
       "\n",
       "                   duration    gender  senior_citizen  ...  dependents  \\\n",
       "customer_id        1.000000  1.000000        1.000000  ...    1.000000   \n",
       "begin_date         0.995271  0.011268        0.050862  ...    0.208564   \n",
       "end_date           0.408477  0.000000        0.123124  ...    0.133425   \n",
       "type               0.664660  0.000000        0.086231  ...    0.147680   \n",
       "paperless_billing  0.000000  0.000000        0.242133  ...    0.172593   \n",
       "payment_method     0.375115  0.000000        0.292725  ...    0.224903   \n",
       "monthly_charges    0.411191  0.008175        0.304985  ...    0.184366   \n",
       "duration           1.000000  0.000000        0.028663  ...    0.212209   \n",
       "gender             0.000000  1.000000        0.000000  ...    0.000000   \n",
       "senior_citizen     0.028663  0.000000        1.000000  ...    0.324576   \n",
       "partner            0.491658  0.000000        0.016992  ...    0.652122   \n",
       "dependents         0.212209  0.000000        0.324576  ...    1.000000   \n",
       "internet_service   0.019357  0.000000        0.160702  ...    0.108463   \n",
       "online_security    0.424786  0.018397        0.057028  ...    0.124945   \n",
       "online_backup      0.465284  0.009882        0.102065  ...    0.031533   \n",
       "device_protection  0.465931  0.000000        0.090686  ...    0.010416   \n",
       "tech_support       0.422111  0.000000        0.092565  ...    0.096912   \n",
       "streaming_tv       0.359254  0.000000        0.163120  ...    0.017331   \n",
       "streaming_movies   0.371121  0.000000        0.186141  ...    0.058999   \n",
       "multiple_lines     0.433522  0.000000        0.221313  ...    0.033103   \n",
       "status             0.474001  0.000000        0.233432  ...    0.253936   \n",
       "\n",
       "                   internet_service  online_security  online_backup  \\\n",
       "customer_id                1.000000         1.000000       1.000000   \n",
       "begin_date                 0.192197         0.403560       0.445583   \n",
       "end_date                   0.288479         0.139392       0.068364   \n",
       "type                       0.505187         0.152145       0.098884   \n",
       "paperless_billing          0.231438         0.000000       0.196443   \n",
       "payment_method             0.323886         0.262911       0.282475   \n",
       "monthly_charges            0.919002         0.551621       0.629541   \n",
       "duration                   0.019357         0.424786       0.465284   \n",
       "gender                     0.000000         0.018397       0.009882   \n",
       "senior_citizen             0.160702         0.057028       0.102065   \n",
       "partner                    0.000000         0.221673       0.219223   \n",
       "dependents                 0.108463         0.124945       0.031533   \n",
       "internet_service           1.000000         0.241421       0.233602   \n",
       "online_security            0.241421         1.000000       0.430425   \n",
       "online_backup              0.233602         0.430425       1.000000   \n",
       "device_protection          0.232916         0.418474       0.458211   \n",
       "tech_support               0.239663         0.528391       0.445130   \n",
       "streaming_tv               0.272818         0.272186       0.428007   \n",
       "streaming_movies           0.272782         0.289097       0.417170   \n",
       "multiple_lines             0.225383         0.151886       0.311403   \n",
       "status                     0.196202         0.264580       0.126973   \n",
       "\n",
       "                   device_protection  tech_support  streaming_tv  \\\n",
       "customer_id                 1.000000      1.000000      1.000000   \n",
       "begin_date                  0.456002      0.399506      0.359784   \n",
       "end_date                    0.051336      0.134227      0.050373   \n",
       "type                        0.137610      0.179999      0.066961   \n",
       "paperless_billing           0.160796      0.055929      0.343524   \n",
       "payment_method              0.306866      0.272101      0.377209   \n",
       "monthly_charges             0.667481      0.576525      0.835340   \n",
       "duration                    0.465931      0.422111      0.359254   \n",
       "gender                      0.000000      0.000000      0.000000   \n",
       "senior_citizen              0.090686      0.092565      0.163120   \n",
       "partner                     0.238079      0.185993      0.193258   \n",
       "dependents                  0.010416      0.096912      0.017331   \n",
       "internet_service            0.232916      0.239663      0.272818   \n",
       "online_security             0.418474      0.528391      0.272186   \n",
       "online_backup               0.458211      0.445130      0.428007   \n",
       "device_protection           1.000000      0.499267      0.575536   \n",
       "tech_support                0.499267      1.000000      0.422242   \n",
       "streaming_tv                0.575536      0.422242      1.000000   \n",
       "streaming_movies            0.589888      0.424078      0.742479   \n",
       "multiple_lines              0.309757      0.155739      0.392239   \n",
       "status                      0.101516      0.254615      0.096865   \n",
       "\n",
       "                   streaming_movies  multiple_lines    status  \n",
       "customer_id                1.000000        1.000000  1.000000  \n",
       "begin_date                 0.371863        0.428109  0.495211  \n",
       "end_date                   0.047014        0.034949  1.000000  \n",
       "type                       0.069608        0.065498  0.251639  \n",
       "paperless_billing          0.325551        0.252972  0.295754  \n",
       "payment_method             0.378907        0.339313  0.449125  \n",
       "monthly_charges            0.833307        0.675883  0.360050  \n",
       "duration                   0.371121        0.433522  0.474001  \n",
       "gender                     0.000000        0.000000  0.000000  \n",
       "senior_citizen             0.186141        0.221313  0.233432  \n",
       "partner                    0.182011        0.220101  0.232930  \n",
       "dependents                 0.058999        0.033103  0.253936  \n",
       "internet_service           0.272782        0.225383  0.196202  \n",
       "online_security            0.289097        0.151886  0.264580  \n",
       "online_backup              0.417170        0.311403  0.126973  \n",
       "device_protection          0.589888        0.309757  0.101516  \n",
       "tech_support               0.424078        0.155739  0.254615  \n",
       "streaming_tv               0.742479        0.392239  0.096865  \n",
       "streaming_movies           1.000000        0.394553  0.093923  \n",
       "multiple_lines             0.394553        1.000000  0.059581  \n",
       "status                     0.093923        0.059581  1.000000  \n",
       "\n",
       "[21 rows x 21 columns]"
      ]
     },
     "execution_count": 80,
     "metadata": {},
     "output_type": "execute_result"
    }
   ],
   "source": [
    "phik_overview"
   ]
  },
  {
   "cell_type": "code",
   "execution_count": 81,
   "id": "72454a91",
   "metadata": {},
   "outputs": [
    {
     "data": {
      "image/png": "[encoded data removed]",
      "text/plain": [
       "<Figure size 432x288 with 2 Axes>"
      ]
     },
     "metadata": {
      "needs_background": "light"
     },
     "output_type": "display_data"
    }
   ],
   "source": [
    "sns.heatmap(phik_overview)\n",
    "plt.show()"
   ]
  },
  {
   "cell_type": "code",
   "execution_count": 82,
   "id": "93a2878c",
   "metadata": {},
   "outputs": [],
   "source": [
    "numeric_data = ['monthly_charges', 'duration']"
   ]
  },
  {
   "cell_type": "markdown",
   "id": "922cecf1",
   "metadata": {},
   "source": [
    "# 4. Feature Selection - отбор признаков для обучения моделей"
   ]
  },
  {
   "cell_type": "code",
   "execution_count": 83,
   "id": "7a5006e1",
   "metadata": {},
   "outputs": [
    {
     "data": {
      "text/html": [
       "<div>\n",
       "<style scoped>\n",
       "    .dataframe tbody tr th:only-of-type {\n",
       "        vertical-align: middle;\n",
       "    }\n",
       "\n",
       "    .dataframe tbody tr th {\n",
       "        vertical-align: top;\n",
       "    }\n",
       "\n",
       "    .dataframe thead th {\n",
       "        text-align: right;\n",
       "    }\n",
       "</style>\n",
       "<table border=\"1\" class=\"dataframe\">\n",
       "  <thead>\n",
       "    <tr style=\"text-align: right;\">\n",
       "      <th></th>\n",
       "      <th>customer_id</th>\n",
       "      <th>begin_date</th>\n",
       "      <th>end_date</th>\n",
       "      <th>type</th>\n",
       "      <th>paperless_billing</th>\n",
       "      <th>payment_method</th>\n",
       "      <th>monthly_charges</th>\n",
       "      <th>duration</th>\n",
       "      <th>gender</th>\n",
       "      <th>senior_citizen</th>\n",
       "      <th>...</th>\n",
       "      <th>dependents</th>\n",
       "      <th>internet_service</th>\n",
       "      <th>online_security</th>\n",
       "      <th>online_backup</th>\n",
       "      <th>device_protection</th>\n",
       "      <th>tech_support</th>\n",
       "      <th>streaming_tv</th>\n",
       "      <th>streaming_movies</th>\n",
       "      <th>multiple_lines</th>\n",
       "      <th>status</th>\n",
       "    </tr>\n",
       "  </thead>\n",
       "  <tbody>\n",
       "    <tr>\n",
       "      <th>0</th>\n",
       "      <td>7590-VHVEG</td>\n",
       "      <td>2020-01-01</td>\n",
       "      <td>2020-02-01</td>\n",
       "      <td>Month-to-month</td>\n",
       "      <td>Yes</td>\n",
       "      <td>Electronic check</td>\n",
       "      <td>29.85</td>\n",
       "      <td>31</td>\n",
       "      <td>Female</td>\n",
       "      <td>0</td>\n",
       "      <td>...</td>\n",
       "      <td>No</td>\n",
       "      <td>DSL</td>\n",
       "      <td>No</td>\n",
       "      <td>Yes</td>\n",
       "      <td>No</td>\n",
       "      <td>No</td>\n",
       "      <td>No</td>\n",
       "      <td>No</td>\n",
       "      <td>No</td>\n",
       "      <td>0</td>\n",
       "    </tr>\n",
       "    <tr>\n",
       "      <th>1</th>\n",
       "      <td>5575-GNVDE</td>\n",
       "      <td>2017-04-01</td>\n",
       "      <td>2020-02-01</td>\n",
       "      <td>One year</td>\n",
       "      <td>No</td>\n",
       "      <td>Mailed check</td>\n",
       "      <td>56.95</td>\n",
       "      <td>1036</td>\n",
       "      <td>Male</td>\n",
       "      <td>0</td>\n",
       "      <td>...</td>\n",
       "      <td>No</td>\n",
       "      <td>DSL</td>\n",
       "      <td>Yes</td>\n",
       "      <td>No</td>\n",
       "      <td>Yes</td>\n",
       "      <td>No</td>\n",
       "      <td>No</td>\n",
       "      <td>No</td>\n",
       "      <td>No</td>\n",
       "      <td>0</td>\n",
       "    </tr>\n",
       "    <tr>\n",
       "      <th>2</th>\n",
       "      <td>3668-QPYBK</td>\n",
       "      <td>2019-10-01</td>\n",
       "      <td>2019-12-01</td>\n",
       "      <td>Month-to-month</td>\n",
       "      <td>Yes</td>\n",
       "      <td>Mailed check</td>\n",
       "      <td>53.85</td>\n",
       "      <td>61</td>\n",
       "      <td>Male</td>\n",
       "      <td>0</td>\n",
       "      <td>...</td>\n",
       "      <td>No</td>\n",
       "      <td>DSL</td>\n",
       "      <td>Yes</td>\n",
       "      <td>Yes</td>\n",
       "      <td>No</td>\n",
       "      <td>No</td>\n",
       "      <td>No</td>\n",
       "      <td>No</td>\n",
       "      <td>No</td>\n",
       "      <td>1</td>\n",
       "    </tr>\n",
       "  </tbody>\n",
       "</table>\n",
       "<p>3 rows × 21 columns</p>\n",
       "</div>"
      ],
      "text/plain": [
       "  customer_id begin_date   end_date            type paperless_billing  \\\n",
       "0  7590-VHVEG 2020-01-01 2020-02-01  Month-to-month               Yes   \n",
       "1  5575-GNVDE 2017-04-01 2020-02-01        One year                No   \n",
       "2  3668-QPYBK 2019-10-01 2019-12-01  Month-to-month               Yes   \n",
       "\n",
       "     payment_method  monthly_charges  duration  gender  senior_citizen  ...  \\\n",
       "0  Electronic check            29.85        31  Female               0  ...   \n",
       "1      Mailed check            56.95      1036    Male               0  ...   \n",
       "2      Mailed check            53.85        61    Male               0  ...   \n",
       "\n",
       "  dependents internet_service online_security online_backup device_protection  \\\n",
       "0         No              DSL              No           Yes                No   \n",
       "1         No              DSL             Yes            No               Yes   \n",
       "2         No              DSL             Yes           Yes                No   \n",
       "\n",
       "  tech_support streaming_tv streaming_movies multiple_lines status  \n",
       "0           No           No               No             No      0  \n",
       "1           No           No               No             No      0  \n",
       "2           No           No               No             No      1  \n",
       "\n",
       "[3 rows x 21 columns]"
      ]
     },
     "execution_count": 83,
     "metadata": {},
     "output_type": "execute_result"
    }
   ],
   "source": [
    "df_total.head(3)"
   ]
  },
  {
   "cell_type": "code",
   "execution_count": 84,
   "id": "6e26b610",
   "metadata": {},
   "outputs": [
    {
     "data": {
      "text/plain": [
       "Index(['customer_id', 'begin_date', 'end_date', 'type', 'paperless_billing',\n",
       "       'payment_method', 'monthly_charges', 'duration', 'gender',\n",
       "       'senior_citizen', 'partner', 'dependents', 'internet_service',\n",
       "       'online_security', 'online_backup', 'device_protection', 'tech_support',\n",
       "       'streaming_tv', 'streaming_movies', 'multiple_lines', 'status'],\n",
       "      dtype='object')"
      ]
     },
     "execution_count": 84,
     "metadata": {},
     "output_type": "execute_result"
    }
   ],
   "source": [
    "df_total.columns"
   ]
  },
  {
   "cell_type": "markdown",
   "id": "5bc01b7a",
   "metadata": {},
   "source": [
    "Удаляем признаки с датами и customer_id - они явно лишние "
   ]
  },
  {
   "cell_type": "code",
   "execution_count": 85,
   "id": "0450b1d4",
   "metadata": {},
   "outputs": [],
   "source": [
    "df_total = df_total.drop(columns= ['customer_id','begin_date','end_date'], axis=1) "
   ]
  },
  {
   "cell_type": "markdown",
   "id": "f75338c8",
   "metadata": {},
   "source": [
    "\n",
    "\n",
    "Приводим категориальные даннные в количественные с помощью метода one hot encoding (OHE)"
   ]
  },
  {
   "cell_type": "code",
   "execution_count": 86,
   "id": "d73c78a4",
   "metadata": {},
   "outputs": [
    {
     "data": {
      "text/html": [
       "<div>\n",
       "<style scoped>\n",
       "    .dataframe tbody tr th:only-of-type {\n",
       "        vertical-align: middle;\n",
       "    }\n",
       "\n",
       "    .dataframe tbody tr th {\n",
       "        vertical-align: top;\n",
       "    }\n",
       "\n",
       "    .dataframe thead th {\n",
       "        text-align: right;\n",
       "    }\n",
       "</style>\n",
       "<table border=\"1\" class=\"dataframe\">\n",
       "  <thead>\n",
       "    <tr style=\"text-align: right;\">\n",
       "      <th></th>\n",
       "      <th>type</th>\n",
       "      <th>paperless_billing</th>\n",
       "      <th>payment_method</th>\n",
       "      <th>monthly_charges</th>\n",
       "      <th>duration</th>\n",
       "      <th>gender</th>\n",
       "      <th>senior_citizen</th>\n",
       "      <th>partner</th>\n",
       "      <th>dependents</th>\n",
       "      <th>internet_service</th>\n",
       "      <th>online_security</th>\n",
       "      <th>online_backup</th>\n",
       "      <th>device_protection</th>\n",
       "      <th>tech_support</th>\n",
       "      <th>streaming_tv</th>\n",
       "      <th>streaming_movies</th>\n",
       "      <th>multiple_lines</th>\n",
       "      <th>status</th>\n",
       "    </tr>\n",
       "  </thead>\n",
       "  <tbody>\n",
       "    <tr>\n",
       "      <th>0</th>\n",
       "      <td>Month-to-month</td>\n",
       "      <td>Yes</td>\n",
       "      <td>Electronic check</td>\n",
       "      <td>29.85</td>\n",
       "      <td>31</td>\n",
       "      <td>Female</td>\n",
       "      <td>0</td>\n",
       "      <td>Yes</td>\n",
       "      <td>No</td>\n",
       "      <td>DSL</td>\n",
       "      <td>No</td>\n",
       "      <td>Yes</td>\n",
       "      <td>No</td>\n",
       "      <td>No</td>\n",
       "      <td>No</td>\n",
       "      <td>No</td>\n",
       "      <td>No</td>\n",
       "      <td>0</td>\n",
       "    </tr>\n",
       "    <tr>\n",
       "      <th>1</th>\n",
       "      <td>One year</td>\n",
       "      <td>No</td>\n",
       "      <td>Mailed check</td>\n",
       "      <td>56.95</td>\n",
       "      <td>1036</td>\n",
       "      <td>Male</td>\n",
       "      <td>0</td>\n",
       "      <td>No</td>\n",
       "      <td>No</td>\n",
       "      <td>DSL</td>\n",
       "      <td>Yes</td>\n",
       "      <td>No</td>\n",
       "      <td>Yes</td>\n",
       "      <td>No</td>\n",
       "      <td>No</td>\n",
       "      <td>No</td>\n",
       "      <td>No</td>\n",
       "      <td>0</td>\n",
       "    </tr>\n",
       "    <tr>\n",
       "      <th>2</th>\n",
       "      <td>Month-to-month</td>\n",
       "      <td>Yes</td>\n",
       "      <td>Mailed check</td>\n",
       "      <td>53.85</td>\n",
       "      <td>61</td>\n",
       "      <td>Male</td>\n",
       "      <td>0</td>\n",
       "      <td>No</td>\n",
       "      <td>No</td>\n",
       "      <td>DSL</td>\n",
       "      <td>Yes</td>\n",
       "      <td>Yes</td>\n",
       "      <td>No</td>\n",
       "      <td>No</td>\n",
       "      <td>No</td>\n",
       "      <td>No</td>\n",
       "      <td>No</td>\n",
       "      <td>1</td>\n",
       "    </tr>\n",
       "    <tr>\n",
       "      <th>3</th>\n",
       "      <td>One year</td>\n",
       "      <td>No</td>\n",
       "      <td>Bank transfer (automatic)</td>\n",
       "      <td>42.30</td>\n",
       "      <td>1371</td>\n",
       "      <td>Male</td>\n",
       "      <td>0</td>\n",
       "      <td>No</td>\n",
       "      <td>No</td>\n",
       "      <td>DSL</td>\n",
       "      <td>Yes</td>\n",
       "      <td>No</td>\n",
       "      <td>Yes</td>\n",
       "      <td>Yes</td>\n",
       "      <td>No</td>\n",
       "      <td>No</td>\n",
       "      <td>No</td>\n",
       "      <td>0</td>\n",
       "    </tr>\n",
       "    <tr>\n",
       "      <th>4</th>\n",
       "      <td>Month-to-month</td>\n",
       "      <td>Yes</td>\n",
       "      <td>Electronic check</td>\n",
       "      <td>70.70</td>\n",
       "      <td>61</td>\n",
       "      <td>Female</td>\n",
       "      <td>0</td>\n",
       "      <td>No</td>\n",
       "      <td>No</td>\n",
       "      <td>Fiber optic</td>\n",
       "      <td>No</td>\n",
       "      <td>No</td>\n",
       "      <td>No</td>\n",
       "      <td>No</td>\n",
       "      <td>No</td>\n",
       "      <td>No</td>\n",
       "      <td>No</td>\n",
       "      <td>1</td>\n",
       "    </tr>\n",
       "  </tbody>\n",
       "</table>\n",
       "</div>"
      ],
      "text/plain": [
       "             type paperless_billing             payment_method  \\\n",
       "0  Month-to-month               Yes           Electronic check   \n",
       "1        One year                No               Mailed check   \n",
       "2  Month-to-month               Yes               Mailed check   \n",
       "3        One year                No  Bank transfer (automatic)   \n",
       "4  Month-to-month               Yes           Electronic check   \n",
       "\n",
       "   monthly_charges  duration  gender  senior_citizen partner dependents  \\\n",
       "0            29.85        31  Female               0     Yes         No   \n",
       "1            56.95      1036    Male               0      No         No   \n",
       "2            53.85        61    Male               0      No         No   \n",
       "3            42.30      1371    Male               0      No         No   \n",
       "4            70.70        61  Female               0      No         No   \n",
       "\n",
       "  internet_service online_security online_backup device_protection  \\\n",
       "0              DSL              No           Yes                No   \n",
       "1              DSL             Yes            No               Yes   \n",
       "2              DSL             Yes           Yes                No   \n",
       "3              DSL             Yes            No               Yes   \n",
       "4      Fiber optic              No            No                No   \n",
       "\n",
       "  tech_support streaming_tv streaming_movies multiple_lines  status  \n",
       "0           No           No               No             No       0  \n",
       "1           No           No               No             No       0  \n",
       "2           No           No               No             No       1  \n",
       "3          Yes           No               No             No       0  \n",
       "4           No           No               No             No       1  "
      ]
     },
     "execution_count": 86,
     "metadata": {},
     "output_type": "execute_result"
    }
   ],
   "source": [
    "df_total.head()"
   ]
  },
  {
   "cell_type": "markdown",
   "id": "8b177361",
   "metadata": {},
   "source": [
    "Определяем целевой признак и признаки для обучения модели "
   ]
  },
  {
   "cell_type": "code",
   "execution_count": 87,
   "id": "f823786b",
   "metadata": {},
   "outputs": [],
   "source": [
    "features = df_total.drop(['status'], axis=1)\n",
    "target = df_total['status']"
   ]
  },
  {
   "cell_type": "markdown",
   "id": "1b92ab28",
   "metadata": {},
   "source": [
    "Разбиваем данные на обучающую и тестовую выборки "
   ]
  },
  {
   "cell_type": "code",
   "execution_count": 88,
   "id": "54cc35b6",
   "metadata": {},
   "outputs": [],
   "source": [
    "RANDOM_STATE = 281122 "
   ]
  },
  {
   "cell_type": "code",
   "execution_count": 89,
   "id": "dccfb17b",
   "metadata": {},
   "outputs": [],
   "source": [
    "features_train, features_test, target_train, target_test = train_test_split(features, target, test_size=0.25, \n",
    "                                                                              random_state = RANDOM_STATE, stratify=target)"
   ]
  },
  {
   "cell_type": "markdown",
   "id": "e10335a5",
   "metadata": {},
   "source": [
    "Приводим категориальные даннные в количественные с помощью метода one hot encoding (OHE) для обучающей и тестовой выборок "
   ]
  },
  {
   "cell_type": "code",
   "execution_count": 90,
   "id": "8d6b0cb2",
   "metadata": {},
   "outputs": [],
   "source": [
    "features_train = pd.get_dummies(features_train, drop_first=True)\n",
    "features_test = pd.get_dummies(features_test, drop_first=True)"
   ]
  },
  {
   "cell_type": "code",
   "execution_count": 91,
   "id": "dce26c55",
   "metadata": {},
   "outputs": [
    {
     "data": {
      "text/html": [
       "<div>\n",
       "<style scoped>\n",
       "    .dataframe tbody tr th:only-of-type {\n",
       "        vertical-align: middle;\n",
       "    }\n",
       "\n",
       "    .dataframe tbody tr th {\n",
       "        vertical-align: top;\n",
       "    }\n",
       "\n",
       "    .dataframe thead th {\n",
       "        text-align: right;\n",
       "    }\n",
       "</style>\n",
       "<table border=\"1\" class=\"dataframe\">\n",
       "  <thead>\n",
       "    <tr style=\"text-align: right;\">\n",
       "      <th></th>\n",
       "      <th>monthly_charges</th>\n",
       "      <th>duration</th>\n",
       "      <th>senior_citizen</th>\n",
       "      <th>type_One year</th>\n",
       "      <th>type_Two year</th>\n",
       "      <th>paperless_billing_Yes</th>\n",
       "      <th>payment_method_Credit card (automatic)</th>\n",
       "      <th>payment_method_Electronic check</th>\n",
       "      <th>payment_method_Mailed check</th>\n",
       "      <th>gender_Male</th>\n",
       "      <th>...</th>\n",
       "      <th>dependents_Yes</th>\n",
       "      <th>internet_service_Fiber optic</th>\n",
       "      <th>internet_service_No</th>\n",
       "      <th>online_security_Yes</th>\n",
       "      <th>online_backup_Yes</th>\n",
       "      <th>device_protection_Yes</th>\n",
       "      <th>tech_support_Yes</th>\n",
       "      <th>streaming_tv_Yes</th>\n",
       "      <th>streaming_movies_Yes</th>\n",
       "      <th>multiple_lines_Yes</th>\n",
       "    </tr>\n",
       "  </thead>\n",
       "  <tbody>\n",
       "    <tr>\n",
       "      <th>4215</th>\n",
       "      <td>108.2</td>\n",
       "      <td>2191</td>\n",
       "      <td>0</td>\n",
       "      <td>0</td>\n",
       "      <td>1</td>\n",
       "      <td>1</td>\n",
       "      <td>0</td>\n",
       "      <td>1</td>\n",
       "      <td>0</td>\n",
       "      <td>1</td>\n",
       "      <td>...</td>\n",
       "      <td>0</td>\n",
       "      <td>1</td>\n",
       "      <td>0</td>\n",
       "      <td>0</td>\n",
       "      <td>1</td>\n",
       "      <td>1</td>\n",
       "      <td>1</td>\n",
       "      <td>1</td>\n",
       "      <td>1</td>\n",
       "      <td>1</td>\n",
       "    </tr>\n",
       "  </tbody>\n",
       "</table>\n",
       "<p>1 rows × 21 columns</p>\n",
       "</div>"
      ],
      "text/plain": [
       "      monthly_charges  duration  senior_citizen  type_One year  type_Two year  \\\n",
       "4215            108.2      2191               0              0              1   \n",
       "\n",
       "      paperless_billing_Yes  payment_method_Credit card (automatic)  \\\n",
       "4215                      1                                       0   \n",
       "\n",
       "      payment_method_Electronic check  payment_method_Mailed check  \\\n",
       "4215                                1                            0   \n",
       "\n",
       "      gender_Male  ...  dependents_Yes  internet_service_Fiber optic  \\\n",
       "4215            1  ...               0                             1   \n",
       "\n",
       "      internet_service_No  online_security_Yes  online_backup_Yes  \\\n",
       "4215                    0                    0                  1   \n",
       "\n",
       "      device_protection_Yes  tech_support_Yes  streaming_tv_Yes  \\\n",
       "4215                      1                 1                 1   \n",
       "\n",
       "      streaming_movies_Yes  multiple_lines_Yes  \n",
       "4215                     1                   1  \n",
       "\n",
       "[1 rows x 21 columns]"
      ]
     },
     "execution_count": 91,
     "metadata": {},
     "output_type": "execute_result"
    }
   ],
   "source": [
    "features_train.head(1)"
   ]
  },
  {
   "cell_type": "code",
   "execution_count": 92,
   "id": "02b9ec20",
   "metadata": {},
   "outputs": [
    {
     "data": {
      "text/html": [
       "<div>\n",
       "<style scoped>\n",
       "    .dataframe tbody tr th:only-of-type {\n",
       "        vertical-align: middle;\n",
       "    }\n",
       "\n",
       "    .dataframe tbody tr th {\n",
       "        vertical-align: top;\n",
       "    }\n",
       "\n",
       "    .dataframe thead th {\n",
       "        text-align: right;\n",
       "    }\n",
       "</style>\n",
       "<table border=\"1\" class=\"dataframe\">\n",
       "  <thead>\n",
       "    <tr style=\"text-align: right;\">\n",
       "      <th></th>\n",
       "      <th>monthly_charges</th>\n",
       "      <th>duration</th>\n",
       "      <th>senior_citizen</th>\n",
       "      <th>type_One year</th>\n",
       "      <th>type_Two year</th>\n",
       "      <th>paperless_billing_Yes</th>\n",
       "      <th>payment_method_Credit card (automatic)</th>\n",
       "      <th>payment_method_Electronic check</th>\n",
       "      <th>payment_method_Mailed check</th>\n",
       "      <th>gender_Male</th>\n",
       "      <th>...</th>\n",
       "      <th>dependents_Yes</th>\n",
       "      <th>internet_service_Fiber optic</th>\n",
       "      <th>internet_service_No</th>\n",
       "      <th>online_security_Yes</th>\n",
       "      <th>online_backup_Yes</th>\n",
       "      <th>device_protection_Yes</th>\n",
       "      <th>tech_support_Yes</th>\n",
       "      <th>streaming_tv_Yes</th>\n",
       "      <th>streaming_movies_Yes</th>\n",
       "      <th>multiple_lines_Yes</th>\n",
       "    </tr>\n",
       "  </thead>\n",
       "  <tbody>\n",
       "    <tr>\n",
       "      <th>1558</th>\n",
       "      <td>95.6</td>\n",
       "      <td>487</td>\n",
       "      <td>0</td>\n",
       "      <td>0</td>\n",
       "      <td>0</td>\n",
       "      <td>1</td>\n",
       "      <td>1</td>\n",
       "      <td>0</td>\n",
       "      <td>0</td>\n",
       "      <td>0</td>\n",
       "      <td>...</td>\n",
       "      <td>0</td>\n",
       "      <td>1</td>\n",
       "      <td>0</td>\n",
       "      <td>0</td>\n",
       "      <td>1</td>\n",
       "      <td>1</td>\n",
       "      <td>0</td>\n",
       "      <td>0</td>\n",
       "      <td>1</td>\n",
       "      <td>1</td>\n",
       "    </tr>\n",
       "  </tbody>\n",
       "</table>\n",
       "<p>1 rows × 21 columns</p>\n",
       "</div>"
      ],
      "text/plain": [
       "      monthly_charges  duration  senior_citizen  type_One year  type_Two year  \\\n",
       "1558             95.6       487               0              0              0   \n",
       "\n",
       "      paperless_billing_Yes  payment_method_Credit card (automatic)  \\\n",
       "1558                      1                                       1   \n",
       "\n",
       "      payment_method_Electronic check  payment_method_Mailed check  \\\n",
       "1558                                0                            0   \n",
       "\n",
       "      gender_Male  ...  dependents_Yes  internet_service_Fiber optic  \\\n",
       "1558            0  ...               0                             1   \n",
       "\n",
       "      internet_service_No  online_security_Yes  online_backup_Yes  \\\n",
       "1558                    0                    0                  1   \n",
       "\n",
       "      device_protection_Yes  tech_support_Yes  streaming_tv_Yes  \\\n",
       "1558                      1                 0                 0   \n",
       "\n",
       "      streaming_movies_Yes  multiple_lines_Yes  \n",
       "1558                     1                   1  \n",
       "\n",
       "[1 rows x 21 columns]"
      ]
     },
     "execution_count": 92,
     "metadata": {},
     "output_type": "execute_result"
    }
   ],
   "source": [
    "features_test.head(1)"
   ]
  },
  {
   "cell_type": "markdown",
   "id": "1991ae9f",
   "metadata": {},
   "source": [
    "Порядок столбцов на трейне и тесте совпадет "
   ]
  },
  {
   "cell_type": "markdown",
   "id": "d8f46a55",
   "metadata": {},
   "source": [
    "Масштабируем количественные признаки на обучающей и тестовой выборках"
   ]
  },
  {
   "cell_type": "code",
   "execution_count": 93,
   "id": "65927317",
   "metadata": {},
   "outputs": [
    {
     "data": {
      "text/plain": [
       "StandardScaler()"
      ]
     },
     "execution_count": 93,
     "metadata": {},
     "output_type": "execute_result"
    }
   ],
   "source": [
    "scaler = StandardScaler()\n",
    "scaler.fit(features_train[numeric_data])"
   ]
  },
  {
   "cell_type": "code",
   "execution_count": 94,
   "id": "65618256",
   "metadata": {},
   "outputs": [],
   "source": [
    "features_train.copy()\n",
    "features_train[numeric_data] = scaler.transform(features_train[numeric_data])\n",
    "\n"
   ]
  },
  {
   "cell_type": "code",
   "execution_count": 95,
   "id": "dd2fcd8f",
   "metadata": {},
   "outputs": [],
   "source": [
    "features_test = features_test.copy()\n",
    "features_test[numeric_data] = scaler.transform(features_test[numeric_data])"
   ]
  },
  {
   "cell_type": "markdown",
   "id": "5eb8a4b3",
   "metadata": {},
   "source": [
    "Смотрим дисбаланс классов "
   ]
  },
  {
   "cell_type": "code",
   "execution_count": 96,
   "id": "1a163bbd",
   "metadata": {},
   "outputs": [
    {
     "data": {
      "image/png": "[encoded data removed]",
      "text/plain": [
       "<Figure size 432x288 with 1 Axes>"
      ]
     },
     "metadata": {
      "needs_background": "light"
     },
     "output_type": "display_data"
    }
   ],
   "source": [
    "target_train.value_counts().plot(kind='bar')\n",
    "plt.show()"
   ]
  },
  {
   "cell_type": "markdown",
   "id": "1909e019",
   "metadata": {},
   "source": [
    "Logistic Regression - обучение модели и получение результата на трейне с использованием метрики AUC-ROC "
   ]
  },
  {
   "cell_type": "code",
   "execution_count": 97,
   "id": "28b02f4a",
   "metadata": {},
   "outputs": [
    {
     "data": {
      "text/plain": [
       "0.8332038509766824"
      ]
     },
     "execution_count": 97,
     "metadata": {},
     "output_type": "execute_result"
    }
   ],
   "source": [
    "param_grid = {'C': [0.001, 0.01, 0.1, 1, 10, 100, 1000]}\n",
    "\n",
    "model = LogisticRegression(solver='lbfgs', n_jobs=-1)\n",
    "\n",
    "search = GridSearchCV(model, param_grid, cv=5, scoring='roc_auc')\n",
    "search.fit(features_train, target_train)\n",
    "\n",
    "\n",
    "\n",
    "best_params = str(search.best_params_)\n",
    "best_score = search.best_score_\n",
    "best_model = search.best_estimator_\n",
    "\n",
    "best_score"
   ]
  },
  {
   "cell_type": "code",
   "execution_count": 98,
   "id": "46c91bbe",
   "metadata": {},
   "outputs": [],
   "source": [
    "lr = search.best_estimator_.predict_proba(features_train)[:, 1]"
   ]
  },
  {
   "cell_type": "code",
   "execution_count": 99,
   "id": "fdc63311",
   "metadata": {},
   "outputs": [
    {
     "name": "stdout",
     "output_type": "stream",
     "text": [
      "AUC-ROC 0.8369451961115931\n"
     ]
    }
   ],
   "source": [
    "print(\"AUC-ROC\", roc_auc_score(target_train, lr))"
   ]
  },
  {
   "cell_type": "code",
   "execution_count": 100,
   "id": "d380739e",
   "metadata": {},
   "outputs": [],
   "source": [
    "def plot_roc_curve(target_train, predictions):\n",
    "    print('ROC-AUC score', roc_auc_score(target_train, predictions))\n",
    "    \n",
    "    fpr, tpr, thresholds = roc_curve(target_train, predictions)\n",
    "\n",
    "    plt.figure(figsize=(11, 5))\n",
    "    \n",
    "    plt.plot(fpr, tpr)\n",
    "    \n",
    "    plt.plot([0, 1], [0, 1], linestyle='--')\n",
    "    \n",
    "    plt.xlim([0.0, 1.0])\n",
    "    plt.ylim([0.0, 1.0])\n",
    "    \n",
    "    plt.xlabel('False Positive Rate')\n",
    "    plt.ylabel('True Positive Rate')\n",
    "    \n",
    "    plt.title('ROC-кривая')\n",
    "    \n",
    "    plt.show()"
   ]
  },
  {
   "cell_type": "code",
   "execution_count": 101,
   "id": "9df396b6",
   "metadata": {},
   "outputs": [
    {
     "name": "stdout",
     "output_type": "stream",
     "text": [
      "ROC-AUC score 0.8369451961115931\n"
     ]
    },
    {
     "data": {
      "image/png": "[encoded data removed]",
      "text/plain": [
       "<Figure size 792x360 with 1 Axes>"
      ]
     },
     "metadata": {
      "needs_background": "light"
     },
     "output_type": "display_data"
    }
   ],
   "source": [
    "plot_roc_curve(target_train, lr)"
   ]
  },
  {
   "cell_type": "markdown",
   "id": "dcc9c828",
   "metadata": {},
   "source": [
    "<div class=\"alert alert-success\">\n",
    "<h2> Комментарий тимлида <a class=\"tocSkip\"> </h2>\n",
    "\n",
    "<b>Все отлично!👍</b> "
   ]
  },
  {
   "cell_type": "code",
   "execution_count": 102,
   "id": "a78bbb99",
   "metadata": {},
   "outputs": [
    {
     "data": {
      "text/plain": [
       "0.8491321020419396"
      ]
     },
     "execution_count": 102,
     "metadata": {},
     "output_type": "execute_result"
    }
   ],
   "source": [
    "param_grid = {\n",
    "    'max_depth': [5, 10, 20],\n",
    "    'min_samples_split': [2, 10],\n",
    "    'min_samples_leaf': [2, 10],\n",
    "    'n_estimators': [10, 50, 100], \n",
    "}\n",
    "\n",
    "model = RandomForestClassifier(random_state=12345)\n",
    "\n",
    "search = GridSearchCV(model, param_grid, cv=5, scoring='roc_auc')\n",
    "search.fit(features_train, target_train)\n",
    "\n",
    "best_params = str(search.best_params_)\n",
    "best_score = search.best_score_\n",
    "best_model = search.best_estimator_\n",
    "\n",
    "best_score \n"
   ]
  },
  {
   "cell_type": "code",
   "execution_count": 103,
   "id": "5356c746",
   "metadata": {},
   "outputs": [],
   "source": [
    "RF = search.best_estimator_.predict_proba(features_train)[:, 1]"
   ]
  },
  {
   "cell_type": "code",
   "execution_count": 104,
   "id": "59d3b1b8",
   "metadata": {},
   "outputs": [
    {
     "name": "stdout",
     "output_type": "stream",
     "text": [
      "ROC-AUC score 0.8968905797314589\n"
     ]
    },
    {
     "data": {
      "image/png": "[encoded data removed]",
      "text/plain": [
       "<Figure size 792x360 with 1 Axes>"
      ]
     },
     "metadata": {
      "needs_background": "light"
     },
     "output_type": "display_data"
    }
   ],
   "source": [
    "plot_roc_curve(target_train, RF)"
   ]
  },
  {
   "cell_type": "markdown",
   "id": "8adddd69",
   "metadata": {},
   "source": [
    "CatBoostClassifier "
   ]
  },
  {
   "cell_type": "code",
   "execution_count": 105,
   "id": "17c7240b",
   "metadata": {},
   "outputs": [
    {
     "data": {
      "text/plain": [
       "0.9026328426773725"
      ]
     },
     "execution_count": 105,
     "metadata": {},
     "output_type": "execute_result"
    }
   ],
   "source": [
    "param_grid = {\n",
    "    'learning_rate': [0.1, 0.3],\n",
    "    'iterations': [50, 100],\n",
    "    'l2_leaf_reg': [3, 9]\n",
    "}\n",
    "\n",
    "model = CatBoostClassifier(random_state=RANDOM_STATE, verbose=0)\n",
    "\n",
    "search = GridSearchCV(model, param_grid, cv=5, scoring='roc_auc')\n",
    "search.fit(features_train, target_train)\n",
    "\n",
    "best_params = str(search.best_params_)\n",
    "best_score = search.best_score_\n",
    "best_model = search.best_estimator_\n",
    "\n",
    "best_score"
   ]
  },
  {
   "cell_type": "code",
   "execution_count": 106,
   "id": "9d251aa5",
   "metadata": {},
   "outputs": [],
   "source": [
    "CB = search.best_estimator_.predict_proba(features_train)[:, 1]"
   ]
  },
  {
   "cell_type": "code",
   "execution_count": 107,
   "id": "d69dab41",
   "metadata": {},
   "outputs": [
    {
     "name": "stdout",
     "output_type": "stream",
     "text": [
      "ROC-AUC score 0.9756970895774814\n"
     ]
    },
    {
     "data": {
      "image/png": "[encoded data removed]",
      "text/plain": [
       "<Figure size 792x360 with 1 Axes>"
      ]
     },
     "metadata": {
      "needs_background": "light"
     },
     "output_type": "display_data"
    }
   ],
   "source": [
    "plot_roc_curve(target_train, CB)"
   ]
  },
  {
   "cell_type": "markdown",
   "id": "4b91bdea",
   "metadata": {},
   "source": [
    "Проверяем лучшую модель на тестовых данных"
   ]
  },
  {
   "cell_type": "code",
   "execution_count": 108,
   "id": "61538088",
   "metadata": {},
   "outputs": [],
   "source": [
    "CB = search.best_estimator_.predict_proba(features_test)[:, 1]"
   ]
  },
  {
   "cell_type": "code",
   "execution_count": 109,
   "id": "c39c66ed",
   "metadata": {},
   "outputs": [
    {
     "name": "stdout",
     "output_type": "stream",
     "text": [
      "ROC-AUC score 0.9332390641703265\n"
     ]
    },
    {
     "data": {
      "image/png": "[encoded data removed]",
      "text/plain": [
       "<Figure size 792x360 with 1 Axes>"
      ]
     },
     "metadata": {
      "needs_background": "light"
     },
     "output_type": "display_data"
    }
   ],
   "source": [
    "plot_roc_curve(target_test, CB)"
   ]
  },
  {
   "cell_type": "markdown",
   "id": "59c3ac01",
   "metadata": {},
   "source": [
    "Сводный анализ моделей и итоговый вывод: "
   ]
  },
  {
   "cell_type": "code",
   "execution_count": 110,
   "id": "a1723c90",
   "metadata": {},
   "outputs": [
    {
     "data": {
      "text/html": [
       "<div>\n",
       "<style scoped>\n",
       "    .dataframe tbody tr th:only-of-type {\n",
       "        vertical-align: middle;\n",
       "    }\n",
       "\n",
       "    .dataframe tbody tr th {\n",
       "        vertical-align: top;\n",
       "    }\n",
       "\n",
       "    .dataframe thead th {\n",
       "        text-align: right;\n",
       "    }\n",
       "</style>\n",
       "<table border=\"1\" class=\"dataframe\">\n",
       "  <thead>\n",
       "    <tr style=\"text-align: right;\">\n",
       "      <th></th>\n",
       "      <th>ROC-AUC score_train</th>\n",
       "      <th>ROC-AUC score_test</th>\n",
       "    </tr>\n",
       "  </thead>\n",
       "  <tbody>\n",
       "    <tr>\n",
       "      <th>Logistic Regression</th>\n",
       "      <td>0.84</td>\n",
       "      <td>no_test</td>\n",
       "    </tr>\n",
       "    <tr>\n",
       "      <th>Random Forest</th>\n",
       "      <td>0.89</td>\n",
       "      <td>no_test</td>\n",
       "    </tr>\n",
       "    <tr>\n",
       "      <th>CatBoost Classifier</th>\n",
       "      <td>0.97</td>\n",
       "      <td>0.93</td>\n",
       "    </tr>\n",
       "  </tbody>\n",
       "</table>\n",
       "</div>"
      ],
      "text/plain": [
       "                     ROC-AUC score_train ROC-AUC score_test\n",
       "Logistic Regression                 0.84            no_test\n",
       "Random Forest                       0.89            no_test\n",
       "CatBoost Classifier                 0.97               0.93"
      ]
     },
     "metadata": {},
     "output_type": "display_data"
    }
   ],
   "source": [
    "index=['Logistic Regression', 'Random Forest', 'CatBoost Classifier'] \n",
    "data ={'ROC-AUC score_train': [0.84, 0.89, 0.97], 'ROC-AUC score_test':['no_test','no_test', 0.93 ]  }\n",
    "\n",
    "scores_data = pd.DataFrame(data=data, index=index)\n",
    "display(scores_data)"
   ]
  },
  {
   "cell_type": "markdown",
   "id": "3519881a",
   "metadata": {},
   "source": [
    "Анализ важности факторов:"
   ]
  },
  {
   "cell_type": "code",
   "execution_count": 111,
   "id": "b0426470",
   "metadata": {},
   "outputs": [
    {
     "data": {
      "text/html": [
       "<div>\n",
       "<style scoped>\n",
       "    .dataframe tbody tr th:only-of-type {\n",
       "        vertical-align: middle;\n",
       "    }\n",
       "\n",
       "    .dataframe tbody tr th {\n",
       "        vertical-align: top;\n",
       "    }\n",
       "\n",
       "    .dataframe thead th {\n",
       "        text-align: right;\n",
       "    }\n",
       "</style>\n",
       "<table border=\"1\" class=\"dataframe\">\n",
       "  <thead>\n",
       "    <tr style=\"text-align: right;\">\n",
       "      <th></th>\n",
       "      <th>importances</th>\n",
       "    </tr>\n",
       "  </thead>\n",
       "  <tbody>\n",
       "    <tr>\n",
       "      <th>duration</th>\n",
       "      <td>53.892576</td>\n",
       "    </tr>\n",
       "    <tr>\n",
       "      <th>monthly_charges</th>\n",
       "      <td>12.304292</td>\n",
       "    </tr>\n",
       "    <tr>\n",
       "      <th>type_Two year</th>\n",
       "      <td>4.312251</td>\n",
       "    </tr>\n",
       "    <tr>\n",
       "      <th>internet_service_Fiber optic</th>\n",
       "      <td>4.051460</td>\n",
       "    </tr>\n",
       "    <tr>\n",
       "      <th>type_One year</th>\n",
       "      <td>3.580440</td>\n",
       "    </tr>\n",
       "    <tr>\n",
       "      <th>payment_method_Electronic check</th>\n",
       "      <td>2.561199</td>\n",
       "    </tr>\n",
       "    <tr>\n",
       "      <th>streaming_movies_Yes</th>\n",
       "      <td>1.943471</td>\n",
       "    </tr>\n",
       "    <tr>\n",
       "      <th>paperless_billing_Yes</th>\n",
       "      <td>1.915361</td>\n",
       "    </tr>\n",
       "    <tr>\n",
       "      <th>senior_citizen</th>\n",
       "      <td>1.889483</td>\n",
       "    </tr>\n",
       "    <tr>\n",
       "      <th>tech_support_Yes</th>\n",
       "      <td>1.813926</td>\n",
       "    </tr>\n",
       "    <tr>\n",
       "      <th>multiple_lines_Yes</th>\n",
       "      <td>1.663958</td>\n",
       "    </tr>\n",
       "    <tr>\n",
       "      <th>online_security_Yes</th>\n",
       "      <td>1.528834</td>\n",
       "    </tr>\n",
       "    <tr>\n",
       "      <th>gender_Male</th>\n",
       "      <td>1.480260</td>\n",
       "    </tr>\n",
       "    <tr>\n",
       "      <th>payment_method_Credit card (automatic)</th>\n",
       "      <td>1.371595</td>\n",
       "    </tr>\n",
       "    <tr>\n",
       "      <th>online_backup_Yes</th>\n",
       "      <td>1.171699</td>\n",
       "    </tr>\n",
       "    <tr>\n",
       "      <th>device_protection_Yes</th>\n",
       "      <td>1.133973</td>\n",
       "    </tr>\n",
       "    <tr>\n",
       "      <th>dependents_Yes</th>\n",
       "      <td>0.935849</td>\n",
       "    </tr>\n",
       "    <tr>\n",
       "      <th>payment_method_Mailed check</th>\n",
       "      <td>0.918845</td>\n",
       "    </tr>\n",
       "    <tr>\n",
       "      <th>partner_Yes</th>\n",
       "      <td>0.912651</td>\n",
       "    </tr>\n",
       "    <tr>\n",
       "      <th>streaming_tv_Yes</th>\n",
       "      <td>0.551200</td>\n",
       "    </tr>\n",
       "    <tr>\n",
       "      <th>internet_service_No</th>\n",
       "      <td>0.066673</td>\n",
       "    </tr>\n",
       "  </tbody>\n",
       "</table>\n",
       "</div>"
      ],
      "text/plain": [
       "                                        importances\n",
       "duration                                  53.892576\n",
       "monthly_charges                           12.304292\n",
       "type_Two year                              4.312251\n",
       "internet_service_Fiber optic               4.051460\n",
       "type_One year                              3.580440\n",
       "payment_method_Electronic check            2.561199\n",
       "streaming_movies_Yes                       1.943471\n",
       "paperless_billing_Yes                      1.915361\n",
       "senior_citizen                             1.889483\n",
       "tech_support_Yes                           1.813926\n",
       "multiple_lines_Yes                         1.663958\n",
       "online_security_Yes                        1.528834\n",
       "gender_Male                                1.480260\n",
       "payment_method_Credit card (automatic)     1.371595\n",
       "online_backup_Yes                          1.171699\n",
       "device_protection_Yes                      1.133973\n",
       "dependents_Yes                             0.935849\n",
       "payment_method_Mailed check                0.918845\n",
       "partner_Yes                                0.912651\n",
       "streaming_tv_Yes                           0.551200\n",
       "internet_service_No                        0.066673"
      ]
     },
     "execution_count": 111,
     "metadata": {},
     "output_type": "execute_result"
    }
   ],
   "source": [
    "importances_df = pd.DataFrame(search.best_estimator_.feature_importances_, \n",
    "                              index = features_test.columns, columns=['importances'])\n",
    "importances_df = importances_df.sort_values(by='importances', ascending=False)\n",
    "importances_df"
   ]
  },
  {
   "cell_type": "code",
   "execution_count": 112,
   "id": "ca11d62a",
   "metadata": {},
   "outputs": [
    {
     "data": {
      "image/png": "[encoded data removed]",
      "text/plain": [
       "<Figure size 720x360 with 1 Axes>"
      ]
     },
     "metadata": {
      "needs_background": "light"
     },
     "output_type": "display_data"
    }
   ],
   "source": [
    "importances_df.plot(kind='bar', figsize=(10, 5), title='Важность факторов')\n",
    "plt.show()"
   ]
  },
  {
   "cell_type": "markdown",
   "id": "69653b25",
   "metadata": {},
   "source": [
    "Важные факторы для модели: duration- количество дней в компании, а также monthly_charges размер месячного платежа."
   ]
  },
  {
   "cell_type": "markdown",
   "id": "2653a91f",
   "metadata": {},
   "source": [
    "Итоговый вывод:\n",
    "\n",
    "   - Основными задачами проекта было изучение данных по оттоку клиентов телеком компании, понимание причин, поиск зависимости между данными и поведением клиентов, а также создание модели машинного обучения для предсказания потенциально возможных клиентов, которые могут уйти из компании\n",
    "   - Данные прошли предобработку на этапе которой были переименованы столбцы, изменен тип данных, устранены отсутствующие значения, обработаны аномалии и сделаны первые выводы\n",
    "   - Далее был введен целевой признак - status, который отражает текущий статус клиента: 1-клиент ушел, 0- активный клиент\n",
    "   - Был введен дополнительный признак - duration, период получения денежный потоков компанией от клиента: сколько дней клиент с компанией\n",
    "   - Был проведен анализ распределения данных, выявлены зависимости, которые представлены в виде сводных таблиц по наиболее значимым признакам. Сделано заключение по закономерностям и причинам ухода клиентов из компании: от услуг отказываются в первый год договора при росте месячного платежа выше порогового значения, со временем вероятность ухода клиента из компании снижается  \n",
    "   - Далее была проведена подготовка данных для последующего машинного обучения. Лишние не информативные столбцы были удалены, а остальные прошли процесс масштабирования и кодирования. Также была произведена балансировка классов.\n",
    "   - Были обучены три модели машинного обучения: Logistic Regression, Randon Forest и модель градиентного бустинга CatBoost Regressor. \n",
    "   - Все модели показали достойную метрику оценки AUC-ROC - основная метрика оценки предсказания бинарной классификации\n",
    "   - Лучший результат показала модель градиентного бустинга CatBoost Rgressor -0.91.\n",
    "   - В итоге мы получили модель которая с вероятностью выше 90% сможет предсказать уход клиента из компании \n",
    "   \n",
    "   \n",
    "   "
   ]
  },
  {
   "cell_type": "markdown",
   "id": "f83f93b9",
   "metadata": {},
   "source": [
    "# Отчет по проекту: "
   ]
  },
  {
   "cell_type": "markdown",
   "id": "57a0c817",
   "metadata": {},
   "source": [
    "##  Вступление:"
   ]
  },
  {
   "cell_type": "markdown",
   "id": "8375d7a2",
   "metadata": {},
   "source": [
    "\n",
    "\n",
    "   Задание проекта - создание для оператор связи «Ниединогоразрыва.ком» модели машинного обучения для прогнозирования оттока клиентов по      информации внутренней базы данных, которая была представлена командой оператора. Если выяснится, что пользователь планирует уйти, ему будут    предложены промокоды и специальные условия. Работа выполнена на языке Python, c использваонием основных библиотек Pandas, Numpy,   \n",
    "    Seaborn, Matplotlib  и основной библиотеки машинного обучения Sklearn   "
   ]
  },
  {
   "cell_type": "markdown",
   "id": "0c89aa9f",
   "metadata": {},
   "source": [
    "## Обработка данных:"
   ]
  },
  {
   "cell_type": "markdown",
   "id": "7fa75166",
   "metadata": {},
   "source": [
    "\n",
    "   \n",
    "   Были получены четыре файла с информацией по условиям предоставляемых услуг для каждого клиента: даты открытия и расторжения   \n",
    "   договора, тарифа, форма оплаты, а также пакет подключенных дополнительных интернет услугах и телефонии для каждого клиента. \n",
    "   Персональные данные также представлены в отдельном файле.\n",
    "   \n",
    "   Данные прошли предобработку: были заменены название столбцов, изменен тип данных некоторых признаков, отсутсвующие значения были       корректно заполнены. На выходе была получена одна сводная таблица с полной информацией по каждому клиенту нобходимой для дальнейшего      исследования. "
   ]
  },
  {
   "cell_type": "markdown",
   "id": "74003c5f",
   "metadata": {},
   "source": [
    "## Исследовательский анализ EDA:"
   ]
  },
  {
   "cell_type": "markdown",
   "id": "fcbb63c4",
   "metadata": {},
   "source": [
    "\n",
    "   \n",
    "   Для проведения EDA (Exploratory Data Analysis) данные были классифицированы в количественные и качественный признаки.    \n",
    "   Дополнительно был создан важный признак по дюрации денежных потоков от каждого клиента. Выявлены зависимости между данными и \n",
    "   целевым признаком - уходом клиента из компании. Наиболее сильная зависимость найдена между признаками длительность договора, размер \n",
    "   месячного платежа клиента и целевым признаком - фактом уходом клиента из компании. \n",
    "   \n",
    "   Общий вывод: Компанию покинуло 26% клиентов. Из низ примерно в равной пропорции мужчины и женщины, клиенты использовали в   \n",
    "   большинстве своем по месячную оплату услуг, а также электронную форму оплаты. То есть в основном уходили те кто использует \n",
    "   помесячную форму оплаты.\n",
    "\n",
    "   Главный вывод - это факт ухода из компании большого количества клиентов в первый год обслуживания в случае роста размера месячного \n",
    "   платежа. Также интересна обратная зависимость, чем дольше клиент в компании тем ниже вероятность, что он расторгнет договор и уйдет из \n",
    "   компании. Возможно имеет смысл обратить внимание на пороговое значение месячного тарифа уровня значения третьего квантиля распределения \n",
    "   (60-80 единиц). Достижение данного уровня является сигналом для лояльных действий со стороны Компании по отношению к Клиенту особенно \n",
    "   после первого года обслуживани, в противном случае вероятность ухода клиента будет возрастать.\n",
    "  "
   ]
  },
  {
   "cell_type": "markdown",
   "id": "fd77d9ef",
   "metadata": {},
   "source": [
    "## Подготовка данных к машинному обучению:"
   ]
  },
  {
   "cell_type": "markdown",
   "id": "7de4d499",
   "metadata": {},
   "source": [
    "Для обучения моделей машинного обучения были использованы следующие признаки:\n",
    "       'type', 'paperless_billing',\n",
    "       'payment_method', 'monthly_charges', 'duration', 'gender',\n",
    "       'senior_citizen', 'partner', 'dependents', 'internet_service',\n",
    "       'online_security', 'online_backup', 'device_protection', 'tech_support',\n",
    "       'streaming_tv', 'streaming_movies', 'multiple_lines'.\n",
    "       \n",
    "Цель обучения - научить модель предсказывать целевой признак 'status', данные которого имеют бинарную классификацию (1- клиент ушел из компании, 0 -клиент активен).\n",
    "    Данные были разбиты на обучающую выборку для обучения моделей и тестовую для проверки точности предсказания лучшей модели. \n",
    "    Далее было произведено масштабирование непрерывных признаков и кодирование количественных.  \n"
   ]
  },
  {
   "cell_type": "markdown",
   "id": "fee42ce0",
   "metadata": {},
   "source": [
    "Для сравнительного анализа были выбраны модели машиннного обучения: Логистическая регрессия (LogisticRegression), Случайный лес (RandomForest) и модель градиентного бустинга CatBoost Clasifier. Для определения точности работы каждой модели была выбрана метрика ROC-AUC, которая отображает соотношение между долей объектов от общего количества носителей признака, верно классифицированных и долей объектов от общего количества объектов, которые были ошибочно классифицированны. Модели были обучены с кроссвалидацией и подбором гиперпараметров на трейн выборке. \n",
    "\n",
    "По итогам проверки модели показали следующее значение метрики ROC-AUC:\n"
   ]
  },
  {
   "cell_type": "code",
   "execution_count": 113,
   "id": "5f3c7d71",
   "metadata": {},
   "outputs": [
    {
     "data": {
      "text/html": [
       "<div>\n",
       "<style scoped>\n",
       "    .dataframe tbody tr th:only-of-type {\n",
       "        vertical-align: middle;\n",
       "    }\n",
       "\n",
       "    .dataframe tbody tr th {\n",
       "        vertical-align: top;\n",
       "    }\n",
       "\n",
       "    .dataframe thead th {\n",
       "        text-align: right;\n",
       "    }\n",
       "</style>\n",
       "<table border=\"1\" class=\"dataframe\">\n",
       "  <thead>\n",
       "    <tr style=\"text-align: right;\">\n",
       "      <th></th>\n",
       "      <th>ROC-AUC score_train</th>\n",
       "      <th>ROC-AUC score_test</th>\n",
       "    </tr>\n",
       "  </thead>\n",
       "  <tbody>\n",
       "    <tr>\n",
       "      <th>Logistic Regression</th>\n",
       "      <td>0.84</td>\n",
       "      <td>no_test</td>\n",
       "    </tr>\n",
       "    <tr>\n",
       "      <th>Random Forest</th>\n",
       "      <td>0.89</td>\n",
       "      <td>no_test</td>\n",
       "    </tr>\n",
       "    <tr>\n",
       "      <th>CatBoost Classifier</th>\n",
       "      <td>0.97</td>\n",
       "      <td>0.93</td>\n",
       "    </tr>\n",
       "  </tbody>\n",
       "</table>\n",
       "</div>"
      ],
      "text/plain": [
       "                     ROC-AUC score_train ROC-AUC score_test\n",
       "Logistic Regression                 0.84            no_test\n",
       "Random Forest                       0.89            no_test\n",
       "CatBoost Classifier                 0.97               0.93"
      ]
     },
     "metadata": {},
     "output_type": "display_data"
    }
   ],
   "source": [
    "index=['Logistic Regression', 'Random Forest', 'CatBoost Classifier'] \n",
    "data ={'ROC-AUC score_train': [0.84, 0.89, 0.97], 'ROC-AUC score_test':['no_test','no_test', 0.93 ]  }\n",
    "\n",
    "scores_data = pd.DataFrame(data=data, index=index)\n",
    "display(scores_data)"
   ]
  },
  {
   "cell_type": "markdown",
   "id": "c18bedcd",
   "metadata": {},
   "source": [
    "Модель CatBoost Classifier показала лушую метрику на обучающей выборке - 0.97. Полученный результат на тестовой выборке - 0.93 (на новых можно сказать абсолютно \"незнакомых данных\")  подтверждает высокое качество работы данной модели."
   ]
  },
  {
   "cell_type": "markdown",
   "id": "b44de7dd",
   "metadata": {},
   "source": [
    "## Анализ важности факторов \n"
   ]
  },
  {
   "cell_type": "markdown",
   "id": "0acea3ff",
   "metadata": {},
   "source": [
    "Ниже представлена сводная информация по важности признаков по данным нашего исследования:"
   ]
  },
  {
   "cell_type": "code",
   "execution_count": 114,
   "id": "d95f07d2",
   "metadata": {},
   "outputs": [
    {
     "data": {
      "text/html": [
       "<div>\n",
       "<style scoped>\n",
       "    .dataframe tbody tr th:only-of-type {\n",
       "        vertical-align: middle;\n",
       "    }\n",
       "\n",
       "    .dataframe tbody tr th {\n",
       "        vertical-align: top;\n",
       "    }\n",
       "\n",
       "    .dataframe thead th {\n",
       "        text-align: right;\n",
       "    }\n",
       "</style>\n",
       "<table border=\"1\" class=\"dataframe\">\n",
       "  <thead>\n",
       "    <tr style=\"text-align: right;\">\n",
       "      <th></th>\n",
       "      <th>importances</th>\n",
       "    </tr>\n",
       "  </thead>\n",
       "  <tbody>\n",
       "    <tr>\n",
       "      <th>duration</th>\n",
       "      <td>53.892576</td>\n",
       "    </tr>\n",
       "    <tr>\n",
       "      <th>monthly_charges</th>\n",
       "      <td>12.304292</td>\n",
       "    </tr>\n",
       "    <tr>\n",
       "      <th>type_Two year</th>\n",
       "      <td>4.312251</td>\n",
       "    </tr>\n",
       "    <tr>\n",
       "      <th>internet_service_Fiber optic</th>\n",
       "      <td>4.051460</td>\n",
       "    </tr>\n",
       "    <tr>\n",
       "      <th>type_One year</th>\n",
       "      <td>3.580440</td>\n",
       "    </tr>\n",
       "    <tr>\n",
       "      <th>payment_method_Electronic check</th>\n",
       "      <td>2.561199</td>\n",
       "    </tr>\n",
       "    <tr>\n",
       "      <th>streaming_movies_Yes</th>\n",
       "      <td>1.943471</td>\n",
       "    </tr>\n",
       "    <tr>\n",
       "      <th>paperless_billing_Yes</th>\n",
       "      <td>1.915361</td>\n",
       "    </tr>\n",
       "    <tr>\n",
       "      <th>senior_citizen</th>\n",
       "      <td>1.889483</td>\n",
       "    </tr>\n",
       "    <tr>\n",
       "      <th>tech_support_Yes</th>\n",
       "      <td>1.813926</td>\n",
       "    </tr>\n",
       "    <tr>\n",
       "      <th>multiple_lines_Yes</th>\n",
       "      <td>1.663958</td>\n",
       "    </tr>\n",
       "    <tr>\n",
       "      <th>online_security_Yes</th>\n",
       "      <td>1.528834</td>\n",
       "    </tr>\n",
       "    <tr>\n",
       "      <th>gender_Male</th>\n",
       "      <td>1.480260</td>\n",
       "    </tr>\n",
       "    <tr>\n",
       "      <th>payment_method_Credit card (automatic)</th>\n",
       "      <td>1.371595</td>\n",
       "    </tr>\n",
       "    <tr>\n",
       "      <th>online_backup_Yes</th>\n",
       "      <td>1.171699</td>\n",
       "    </tr>\n",
       "    <tr>\n",
       "      <th>device_protection_Yes</th>\n",
       "      <td>1.133973</td>\n",
       "    </tr>\n",
       "    <tr>\n",
       "      <th>dependents_Yes</th>\n",
       "      <td>0.935849</td>\n",
       "    </tr>\n",
       "    <tr>\n",
       "      <th>payment_method_Mailed check</th>\n",
       "      <td>0.918845</td>\n",
       "    </tr>\n",
       "    <tr>\n",
       "      <th>partner_Yes</th>\n",
       "      <td>0.912651</td>\n",
       "    </tr>\n",
       "    <tr>\n",
       "      <th>streaming_tv_Yes</th>\n",
       "      <td>0.551200</td>\n",
       "    </tr>\n",
       "    <tr>\n",
       "      <th>internet_service_No</th>\n",
       "      <td>0.066673</td>\n",
       "    </tr>\n",
       "  </tbody>\n",
       "</table>\n",
       "</div>"
      ],
      "text/plain": [
       "                                        importances\n",
       "duration                                  53.892576\n",
       "monthly_charges                           12.304292\n",
       "type_Two year                              4.312251\n",
       "internet_service_Fiber optic               4.051460\n",
       "type_One year                              3.580440\n",
       "payment_method_Electronic check            2.561199\n",
       "streaming_movies_Yes                       1.943471\n",
       "paperless_billing_Yes                      1.915361\n",
       "senior_citizen                             1.889483\n",
       "tech_support_Yes                           1.813926\n",
       "multiple_lines_Yes                         1.663958\n",
       "online_security_Yes                        1.528834\n",
       "gender_Male                                1.480260\n",
       "payment_method_Credit card (automatic)     1.371595\n",
       "online_backup_Yes                          1.171699\n",
       "device_protection_Yes                      1.133973\n",
       "dependents_Yes                             0.935849\n",
       "payment_method_Mailed check                0.918845\n",
       "partner_Yes                                0.912651\n",
       "streaming_tv_Yes                           0.551200\n",
       "internet_service_No                        0.066673"
      ]
     },
     "execution_count": 114,
     "metadata": {},
     "output_type": "execute_result"
    }
   ],
   "source": [
    "importances_df = pd.DataFrame(search.best_estimator_.feature_importances_, \n",
    "                              index = features_test.columns, columns=['importances'])\n",
    "importances_df = importances_df.sort_values(by='importances', ascending=False)\n",
    "importances_df"
   ]
  },
  {
   "cell_type": "code",
   "execution_count": 115,
   "id": "fb3c2758",
   "metadata": {},
   "outputs": [
    {
     "data": {
      "image/png": "[encoded data removed]",
      "text/plain": [
       "<Figure size 720x360 with 1 Axes>"
      ]
     },
     "metadata": {
      "needs_background": "light"
     },
     "output_type": "display_data"
    }
   ],
   "source": [
    "importances_df.plot(kind='bar', figsize=(10, 5), title='Важность факторов')\n",
    "plt.show()"
   ]
  },
  {
   "cell_type": "markdown",
   "id": "d3524347",
   "metadata": {},
   "source": [
    "Самые важные факторы влияющию на уход клиента: \n",
    "  - duration - общий срок обслуживания клиента в компании\n",
    "  - monthly_charges размер месячного платежа \n",
    "  - тип договора (на какой срок заключен договор )"
   ]
  },
  {
   "cell_type": "markdown",
   "id": "0f5e51ff",
   "metadata": {},
   "source": [
    "## Выполнение Плана "
   ]
  },
  {
   "cell_type": "markdown",
   "id": "57a49a13",
   "metadata": {},
   "source": [
    "В первом блоке был составлен План по выполнению задания, который был сделан по итогам первого раздела - \"Изучение данных\" и которого мы придерживались в ходе выполнения всего проекта. Необходимо отметить, что на этапе подготовки данных к машинному обучению мы столкнулись с трудностями в части подготовки данных для правильного обучения моделей. Точнее это были не трудности, а скорей варианты решения, понимание о правильности которых пришло в ходе анализа данных и подборе правильного метода для решения. В нашем случае в ходе подготовки данных к обучению моделей была допушена неточность в порядке выполнения кодирования для качественых признаков, что могло бы привести к утечке данных, ухудшению метрики и усложнению процесса в будущем при возможной обработки новых данных в дальнейших исследований. В итоге кодирование было проведено с помощью метода get dummies после разбиение на тренировочную и тестовую выборки. Также было возможно использование метода OneHotEncoder через pipeline, который был бы интегрирован в GridSearch и таким образом кодирование данных и подбор оптимальных гиперпараметров было бы замнкнуто в единый контур, что в принципе упрощает работу всей модели и делает ее более универсальной для работы в будущем. Но в нашем случае вариант, который мы применили оказался достаточным - полученная метрика по всем моделям оказалась сравнительно высокой."
   ]
  },
  {
   "cell_type": "markdown",
   "id": "5fb05d89",
   "metadata": {},
   "source": [
    "## Заключение "
   ]
  },
  {
   "cell_type": "markdown",
   "id": "cb56104a",
   "metadata": {},
   "source": [
    "Создана модель машинного обучения, которая по аналогичному формату данных сможет предсказывать уход клиентов из Телеком компании «Ниединогоразрыва.ком». Найдены зависимости в данных. Выводы в работе дают полное понимания того, что неободимо делать, чтобы клиенты не уходили из компании, а также дают сигналы для возможных лояльных действий по отношению к определенной группе клиентов в случае роста вероятности их ухода из Компании. Полученный результат, проведенные исследования и выводы полностью отвечают на вопросы которые мы получили в задании. \n"
   ]
  },
  {
   "cell_type": "code",
   "execution_count": null,
   "id": "4f310a57",
   "metadata": {},
   "outputs": [],
   "source": []
  },
  {
   "cell_type": "code",
   "execution_count": null,
   "id": "7a1200bc",
   "metadata": {},
   "outputs": [],
   "source": []
  },
  {
   "cell_type": "code",
   "execution_count": null,
   "id": "6712d632",
   "metadata": {},
   "outputs": [],
   "source": []
  }
 ],
 "metadata": {
  "ExecuteTimeLog": [
   {
    "duration": 384,
    "start_time": "2022-11-30T07:17:44.569Z"
   },
   {
    "duration": 68,
    "start_time": "2022-11-30T07:17:47.218Z"
   },
   {
    "duration": 326,
    "start_time": "2022-11-30T07:19:22.131Z"
   },
   {
    "duration": 4,
    "start_time": "2022-11-30T07:19:34.377Z"
   },
   {
    "duration": 59,
    "start_time": "2022-11-30T07:19:37.526Z"
   },
   {
    "duration": 5,
    "start_time": "2022-11-30T07:19:42.787Z"
   },
   {
    "duration": 6,
    "start_time": "2022-11-30T07:19:43.718Z"
   },
   {
    "duration": 8,
    "start_time": "2022-11-30T07:19:45.017Z"
   },
   {
    "duration": 13,
    "start_time": "2022-11-30T07:26:35.146Z"
   },
   {
    "duration": 5,
    "start_time": "2022-11-30T07:26:36.165Z"
   },
   {
    "duration": 9,
    "start_time": "2022-11-30T07:26:36.622Z"
   },
   {
    "duration": 6,
    "start_time": "2022-11-30T07:26:37.191Z"
   },
   {
    "duration": 8,
    "start_time": "2022-11-30T07:26:38.867Z"
   },
   {
    "duration": 8,
    "start_time": "2022-11-30T07:26:39.339Z"
   },
   {
    "duration": 7,
    "start_time": "2022-11-30T07:26:40.835Z"
   },
   {
    "duration": 6,
    "start_time": "2022-11-30T07:26:42.692Z"
   },
   {
    "duration": 11,
    "start_time": "2022-11-30T07:27:01.626Z"
   },
   {
    "duration": 4,
    "start_time": "2022-11-30T07:27:04.025Z"
   },
   {
    "duration": 6,
    "start_time": "2022-11-30T07:27:11.572Z"
   },
   {
    "duration": 78,
    "start_time": "2022-11-30T07:37:26.734Z"
   },
   {
    "duration": 358,
    "start_time": "2022-11-30T15:53:27.645Z"
   },
   {
    "duration": 71,
    "start_time": "2022-11-30T15:53:30.496Z"
   },
   {
    "duration": 248,
    "start_time": "2022-11-30T15:55:25.732Z"
   },
   {
    "duration": 4,
    "start_time": "2022-11-30T15:55:29.525Z"
   },
   {
    "duration": 20,
    "start_time": "2022-11-30T15:56:56.540Z"
   },
   {
    "duration": 13,
    "start_time": "2022-11-30T15:57:12.361Z"
   },
   {
    "duration": 9,
    "start_time": "2022-11-30T15:57:23.950Z"
   },
   {
    "duration": 4,
    "start_time": "2022-11-30T15:57:27.954Z"
   },
   {
    "duration": 12,
    "start_time": "2022-11-30T15:57:30.113Z"
   },
   {
    "duration": 7,
    "start_time": "2022-11-30T15:57:47.872Z"
   },
   {
    "duration": 9,
    "start_time": "2022-11-30T15:57:52.063Z"
   },
   {
    "duration": 6,
    "start_time": "2022-11-30T15:58:02.671Z"
   },
   {
    "duration": 7,
    "start_time": "2022-11-30T15:58:22.389Z"
   },
   {
    "duration": 98,
    "start_time": "2022-11-30T16:01:04.698Z"
   },
   {
    "duration": 49,
    "start_time": "2022-11-30T16:03:06.761Z"
   },
   {
    "duration": 718,
    "start_time": "2022-11-30T16:03:33.664Z"
   },
   {
    "duration": 887,
    "start_time": "2022-11-30T16:04:09.309Z"
   },
   {
    "duration": 13,
    "start_time": "2022-11-30T16:04:33.430Z"
   },
   {
    "duration": 8,
    "start_time": "2022-11-30T16:04:38.537Z"
   },
   {
    "duration": 7,
    "start_time": "2022-11-30T16:04:51.701Z"
   },
   {
    "duration": 7,
    "start_time": "2022-11-30T16:07:39.725Z"
   },
   {
    "duration": 6,
    "start_time": "2022-11-30T16:08:30.534Z"
   },
   {
    "duration": 6,
    "start_time": "2022-11-30T16:08:34.507Z"
   },
   {
    "duration": 7,
    "start_time": "2022-11-30T16:08:37.095Z"
   },
   {
    "duration": 6,
    "start_time": "2022-11-30T16:18:30.142Z"
   },
   {
    "duration": 419,
    "start_time": "2022-11-30T16:18:43.600Z"
   },
   {
    "duration": 100,
    "start_time": "2022-11-30T16:18:44.021Z"
   },
   {
    "duration": 4,
    "start_time": "2022-11-30T16:18:44.123Z"
   },
   {
    "duration": 81,
    "start_time": "2022-11-30T16:18:44.129Z"
   },
   {
    "duration": 6,
    "start_time": "2022-11-30T16:18:44.212Z"
   },
   {
    "duration": 8,
    "start_time": "2022-11-30T16:18:44.220Z"
   },
   {
    "duration": 9,
    "start_time": "2022-11-30T16:18:44.229Z"
   },
   {
    "duration": 80,
    "start_time": "2022-11-30T16:18:44.239Z"
   },
   {
    "duration": 6,
    "start_time": "2022-11-30T16:18:44.321Z"
   },
   {
    "duration": 8,
    "start_time": "2022-11-30T16:18:44.329Z"
   },
   {
    "duration": 10,
    "start_time": "2022-11-30T16:18:44.338Z"
   },
   {
    "duration": 85,
    "start_time": "2022-11-30T16:18:44.350Z"
   },
   {
    "duration": 1070,
    "start_time": "2022-11-30T16:18:44.437Z"
   },
   {
    "duration": 0,
    "start_time": "2022-11-30T16:18:45.510Z"
   },
   {
    "duration": 0,
    "start_time": "2022-11-30T16:18:45.511Z"
   },
   {
    "duration": 0,
    "start_time": "2022-11-30T16:18:45.512Z"
   },
   {
    "duration": 0,
    "start_time": "2022-11-30T16:18:45.513Z"
   },
   {
    "duration": 0,
    "start_time": "2022-11-30T16:18:45.515Z"
   },
   {
    "duration": 0,
    "start_time": "2022-11-30T16:18:45.516Z"
   },
   {
    "duration": 0,
    "start_time": "2022-11-30T16:18:45.517Z"
   },
   {
    "duration": 0,
    "start_time": "2022-11-30T16:18:45.519Z"
   },
   {
    "duration": 0,
    "start_time": "2022-11-30T16:18:45.519Z"
   },
   {
    "duration": 0,
    "start_time": "2022-11-30T16:18:45.521Z"
   },
   {
    "duration": 0,
    "start_time": "2022-11-30T16:18:45.522Z"
   },
   {
    "duration": 0,
    "start_time": "2022-11-30T16:18:45.523Z"
   },
   {
    "duration": 0,
    "start_time": "2022-11-30T16:18:45.524Z"
   },
   {
    "duration": 0,
    "start_time": "2022-11-30T16:18:45.526Z"
   },
   {
    "duration": 0,
    "start_time": "2022-11-30T16:18:45.527Z"
   },
   {
    "duration": 0,
    "start_time": "2022-11-30T16:18:45.528Z"
   },
   {
    "duration": 0,
    "start_time": "2022-11-30T16:18:45.529Z"
   },
   {
    "duration": 0,
    "start_time": "2022-11-30T16:18:45.530Z"
   },
   {
    "duration": 0,
    "start_time": "2022-11-30T16:18:45.532Z"
   },
   {
    "duration": 0,
    "start_time": "2022-11-30T16:18:45.533Z"
   },
   {
    "duration": 0,
    "start_time": "2022-11-30T16:18:45.534Z"
   },
   {
    "duration": 0,
    "start_time": "2022-11-30T16:18:45.535Z"
   },
   {
    "duration": 0,
    "start_time": "2022-11-30T16:18:45.536Z"
   },
   {
    "duration": 0,
    "start_time": "2022-11-30T16:18:45.537Z"
   },
   {
    "duration": 0,
    "start_time": "2022-11-30T16:18:45.538Z"
   },
   {
    "duration": 0,
    "start_time": "2022-11-30T16:18:45.539Z"
   },
   {
    "duration": 0,
    "start_time": "2022-11-30T16:18:45.540Z"
   },
   {
    "duration": 0,
    "start_time": "2022-11-30T16:18:45.541Z"
   },
   {
    "duration": 0,
    "start_time": "2022-11-30T16:18:45.542Z"
   },
   {
    "duration": 0,
    "start_time": "2022-11-30T16:18:45.543Z"
   },
   {
    "duration": 0,
    "start_time": "2022-11-30T16:18:45.544Z"
   },
   {
    "duration": 3,
    "start_time": "2022-11-30T16:20:02.917Z"
   },
   {
    "duration": 211,
    "start_time": "2022-11-30T16:23:55.484Z"
   },
   {
    "duration": 382,
    "start_time": "2022-11-30T16:24:02.124Z"
   },
   {
    "duration": 104,
    "start_time": "2022-11-30T16:24:02.508Z"
   },
   {
    "duration": 4,
    "start_time": "2022-11-30T16:24:02.614Z"
   },
   {
    "duration": 76,
    "start_time": "2022-11-30T16:24:02.620Z"
   },
   {
    "duration": 6,
    "start_time": "2022-11-30T16:24:02.698Z"
   },
   {
    "duration": 22,
    "start_time": "2022-11-30T16:24:02.705Z"
   },
   {
    "duration": 12,
    "start_time": "2022-11-30T16:24:02.729Z"
   },
   {
    "duration": 63,
    "start_time": "2022-11-30T16:24:02.743Z"
   },
   {
    "duration": 5,
    "start_time": "2022-11-30T16:24:02.807Z"
   },
   {
    "duration": 10,
    "start_time": "2022-11-30T16:24:02.814Z"
   },
   {
    "duration": 8,
    "start_time": "2022-11-30T16:24:02.825Z"
   },
   {
    "duration": 92,
    "start_time": "2022-11-30T16:24:02.834Z"
   },
   {
    "duration": 6,
    "start_time": "2022-11-30T16:24:02.927Z"
   },
   {
    "duration": 14,
    "start_time": "2022-11-30T16:24:02.934Z"
   },
   {
    "duration": 76,
    "start_time": "2022-11-30T16:24:02.949Z"
   },
   {
    "duration": 7,
    "start_time": "2022-11-30T16:24:03.026Z"
   },
   {
    "duration": 21,
    "start_time": "2022-11-30T16:24:03.034Z"
   },
   {
    "duration": 40,
    "start_time": "2022-11-30T16:24:03.057Z"
   },
   {
    "duration": 9,
    "start_time": "2022-11-30T16:24:03.098Z"
   },
   {
    "duration": 12,
    "start_time": "2022-11-30T16:24:03.108Z"
   },
   {
    "duration": 18,
    "start_time": "2022-11-30T16:24:03.122Z"
   },
   {
    "duration": 6,
    "start_time": "2022-11-30T16:24:03.142Z"
   },
   {
    "duration": 7,
    "start_time": "2022-11-30T16:24:03.150Z"
   },
   {
    "duration": 10,
    "start_time": "2022-11-30T16:24:03.159Z"
   },
   {
    "duration": 24,
    "start_time": "2022-11-30T16:24:03.171Z"
   },
   {
    "duration": 7,
    "start_time": "2022-11-30T16:24:03.197Z"
   },
   {
    "duration": 855,
    "start_time": "2022-11-30T16:24:03.205Z"
   },
   {
    "duration": 0,
    "start_time": "2022-11-30T16:24:04.062Z"
   },
   {
    "duration": 0,
    "start_time": "2022-11-30T16:24:04.064Z"
   },
   {
    "duration": 0,
    "start_time": "2022-11-30T16:24:04.065Z"
   },
   {
    "duration": 0,
    "start_time": "2022-11-30T16:24:04.066Z"
   },
   {
    "duration": 0,
    "start_time": "2022-11-30T16:24:04.067Z"
   },
   {
    "duration": 0,
    "start_time": "2022-11-30T16:24:04.067Z"
   },
   {
    "duration": 0,
    "start_time": "2022-11-30T16:24:04.069Z"
   },
   {
    "duration": 0,
    "start_time": "2022-11-30T16:24:04.069Z"
   },
   {
    "duration": 0,
    "start_time": "2022-11-30T16:24:04.070Z"
   },
   {
    "duration": 0,
    "start_time": "2022-11-30T16:24:04.071Z"
   },
   {
    "duration": 0,
    "start_time": "2022-11-30T16:24:04.072Z"
   },
   {
    "duration": 0,
    "start_time": "2022-11-30T16:24:04.073Z"
   },
   {
    "duration": 0,
    "start_time": "2022-11-30T16:24:04.074Z"
   },
   {
    "duration": 0,
    "start_time": "2022-11-30T16:24:04.075Z"
   },
   {
    "duration": 0,
    "start_time": "2022-11-30T16:24:04.075Z"
   },
   {
    "duration": 0,
    "start_time": "2022-11-30T16:24:04.076Z"
   },
   {
    "duration": 0,
    "start_time": "2022-11-30T16:24:04.077Z"
   },
   {
    "duration": 7,
    "start_time": "2022-11-30T16:25:55.822Z"
   },
   {
    "duration": 13,
    "start_time": "2022-11-30T16:26:15.071Z"
   },
   {
    "duration": 12,
    "start_time": "2022-11-30T16:26:21.911Z"
   },
   {
    "duration": 12,
    "start_time": "2022-11-30T16:26:41.386Z"
   },
   {
    "duration": 11,
    "start_time": "2022-11-30T16:26:44.637Z"
   },
   {
    "duration": 11,
    "start_time": "2022-11-30T16:26:59.776Z"
   },
   {
    "duration": 11,
    "start_time": "2022-11-30T16:27:24.181Z"
   },
   {
    "duration": 12,
    "start_time": "2022-11-30T16:27:29.266Z"
   },
   {
    "duration": 10,
    "start_time": "2022-11-30T16:27:32.697Z"
   },
   {
    "duration": 6,
    "start_time": "2022-11-30T16:27:36.331Z"
   },
   {
    "duration": 4,
    "start_time": "2022-11-30T16:28:16.696Z"
   },
   {
    "duration": 11,
    "start_time": "2022-11-30T16:28:19.388Z"
   },
   {
    "duration": 4,
    "start_time": "2022-11-30T16:28:28.848Z"
   },
   {
    "duration": 11,
    "start_time": "2022-11-30T16:28:31.701Z"
   },
   {
    "duration": 5,
    "start_time": "2022-11-30T16:28:52.528Z"
   },
   {
    "duration": 10,
    "start_time": "2022-11-30T16:29:08.166Z"
   },
   {
    "duration": 427,
    "start_time": "2022-11-30T16:29:55.385Z"
   },
   {
    "duration": 109,
    "start_time": "2022-11-30T16:29:55.815Z"
   },
   {
    "duration": 8,
    "start_time": "2022-11-30T16:29:55.926Z"
   },
   {
    "duration": 97,
    "start_time": "2022-11-30T16:29:55.937Z"
   },
   {
    "duration": 8,
    "start_time": "2022-11-30T16:29:56.036Z"
   },
   {
    "duration": 15,
    "start_time": "2022-11-30T16:29:56.046Z"
   },
   {
    "duration": 40,
    "start_time": "2022-11-30T16:29:56.063Z"
   },
   {
    "duration": 93,
    "start_time": "2022-11-30T16:29:56.104Z"
   },
   {
    "duration": 9,
    "start_time": "2022-11-30T16:29:56.199Z"
   },
   {
    "duration": 20,
    "start_time": "2022-11-30T16:29:56.211Z"
   },
   {
    "duration": 13,
    "start_time": "2022-11-30T16:29:56.233Z"
   },
   {
    "duration": 85,
    "start_time": "2022-11-30T16:29:56.247Z"
   },
   {
    "duration": 6,
    "start_time": "2022-11-30T16:29:56.333Z"
   },
   {
    "duration": 7,
    "start_time": "2022-11-30T16:29:56.340Z"
   },
   {
    "duration": 75,
    "start_time": "2022-11-30T16:29:56.349Z"
   },
   {
    "duration": 7,
    "start_time": "2022-11-30T16:29:56.426Z"
   },
   {
    "duration": 18,
    "start_time": "2022-11-30T16:29:56.434Z"
   },
   {
    "duration": 44,
    "start_time": "2022-11-30T16:29:56.454Z"
   },
   {
    "duration": 11,
    "start_time": "2022-11-30T16:29:56.500Z"
   },
   {
    "duration": 11,
    "start_time": "2022-11-30T16:29:56.513Z"
   },
   {
    "duration": 10,
    "start_time": "2022-11-30T16:29:56.526Z"
   },
   {
    "duration": 8,
    "start_time": "2022-11-30T16:29:56.537Z"
   },
   {
    "duration": 7,
    "start_time": "2022-11-30T16:29:56.547Z"
   },
   {
    "duration": 8,
    "start_time": "2022-11-30T16:29:56.556Z"
   },
   {
    "duration": 8,
    "start_time": "2022-11-30T16:29:56.597Z"
   },
   {
    "duration": 9,
    "start_time": "2022-11-30T16:29:56.607Z"
   },
   {
    "duration": 9,
    "start_time": "2022-11-30T16:29:56.617Z"
   },
   {
    "duration": 12,
    "start_time": "2022-11-30T16:29:56.629Z"
   },
   {
    "duration": 6,
    "start_time": "2022-11-30T16:29:56.643Z"
   },
   {
    "duration": 14,
    "start_time": "2022-11-30T16:29:56.651Z"
   },
   {
    "duration": 40,
    "start_time": "2022-11-30T16:29:56.667Z"
   },
   {
    "duration": 13,
    "start_time": "2022-11-30T16:29:56.709Z"
   },
   {
    "duration": 15,
    "start_time": "2022-11-30T16:29:56.723Z"
   },
   {
    "duration": 5,
    "start_time": "2022-11-30T16:29:56.739Z"
   },
   {
    "duration": 14,
    "start_time": "2022-11-30T16:29:56.746Z"
   },
   {
    "duration": 8,
    "start_time": "2022-11-30T16:29:56.762Z"
   },
   {
    "duration": 33,
    "start_time": "2022-11-30T16:29:56.772Z"
   },
   {
    "duration": 14,
    "start_time": "2022-11-30T16:29:56.807Z"
   },
   {
    "duration": 87,
    "start_time": "2022-11-30T16:29:56.823Z"
   },
   {
    "duration": 0,
    "start_time": "2022-11-30T16:29:56.912Z"
   },
   {
    "duration": 0,
    "start_time": "2022-11-30T16:29:56.913Z"
   },
   {
    "duration": 0,
    "start_time": "2022-11-30T16:29:56.914Z"
   },
   {
    "duration": 0,
    "start_time": "2022-11-30T16:29:56.915Z"
   },
   {
    "duration": 0,
    "start_time": "2022-11-30T16:29:56.916Z"
   },
   {
    "duration": 4,
    "start_time": "2022-11-30T16:31:12.188Z"
   },
   {
    "duration": 11,
    "start_time": "2022-11-30T16:31:13.952Z"
   },
   {
    "duration": 7,
    "start_time": "2022-11-30T16:31:16.957Z"
   },
   {
    "duration": 13,
    "start_time": "2022-11-30T16:35:08.751Z"
   },
   {
    "duration": 28,
    "start_time": "2022-11-30T16:35:22.331Z"
   },
   {
    "duration": 4,
    "start_time": "2022-11-30T16:35:38.744Z"
   },
   {
    "duration": 10,
    "start_time": "2022-11-30T16:35:41.646Z"
   },
   {
    "duration": 107,
    "start_time": "2022-11-30T16:35:54.811Z"
   },
   {
    "duration": 41,
    "start_time": "2022-11-30T16:36:12.698Z"
   },
   {
    "duration": 3,
    "start_time": "2022-11-30T16:36:47.327Z"
   },
   {
    "duration": 11,
    "start_time": "2022-11-30T16:36:52.581Z"
   },
   {
    "duration": 7,
    "start_time": "2022-11-30T16:36:57.394Z"
   },
   {
    "duration": 12,
    "start_time": "2022-11-30T16:37:03.863Z"
   },
   {
    "duration": 13,
    "start_time": "2022-11-30T16:43:14.924Z"
   },
   {
    "duration": 12,
    "start_time": "2022-11-30T16:43:36.974Z"
   },
   {
    "duration": 12,
    "start_time": "2022-11-30T16:43:51.999Z"
   },
   {
    "duration": 371,
    "start_time": "2022-11-30T16:44:08.255Z"
   },
   {
    "duration": 107,
    "start_time": "2022-11-30T16:44:08.629Z"
   },
   {
    "duration": 4,
    "start_time": "2022-11-30T16:44:08.738Z"
   },
   {
    "duration": 90,
    "start_time": "2022-11-30T16:44:08.744Z"
   },
   {
    "duration": 6,
    "start_time": "2022-11-30T16:44:08.835Z"
   },
   {
    "duration": 21,
    "start_time": "2022-11-30T16:44:08.843Z"
   },
   {
    "duration": 40,
    "start_time": "2022-11-30T16:44:08.866Z"
   },
   {
    "duration": 78,
    "start_time": "2022-11-30T16:44:08.908Z"
   },
   {
    "duration": 6,
    "start_time": "2022-11-30T16:44:08.988Z"
   },
   {
    "duration": 44,
    "start_time": "2022-11-30T16:44:08.997Z"
   },
   {
    "duration": 30,
    "start_time": "2022-11-30T16:44:09.043Z"
   },
   {
    "duration": 83,
    "start_time": "2022-11-30T16:44:09.075Z"
   },
   {
    "duration": 5,
    "start_time": "2022-11-30T16:44:09.160Z"
   },
   {
    "duration": 41,
    "start_time": "2022-11-30T16:44:09.166Z"
   },
   {
    "duration": 89,
    "start_time": "2022-11-30T16:44:09.208Z"
   },
   {
    "duration": 5,
    "start_time": "2022-11-30T16:44:09.299Z"
   },
   {
    "duration": 36,
    "start_time": "2022-11-30T16:44:09.306Z"
   },
   {
    "duration": 37,
    "start_time": "2022-11-30T16:44:09.343Z"
   },
   {
    "duration": 35,
    "start_time": "2022-11-30T16:44:09.382Z"
   },
   {
    "duration": 44,
    "start_time": "2022-11-30T16:44:09.418Z"
   },
   {
    "duration": 25,
    "start_time": "2022-11-30T16:44:09.464Z"
   },
   {
    "duration": 36,
    "start_time": "2022-11-30T16:44:09.490Z"
   },
   {
    "duration": 18,
    "start_time": "2022-11-30T16:44:09.527Z"
   },
   {
    "duration": 38,
    "start_time": "2022-11-30T16:44:09.547Z"
   },
   {
    "duration": 45,
    "start_time": "2022-11-30T16:44:09.587Z"
   },
   {
    "duration": 52,
    "start_time": "2022-11-30T16:44:09.634Z"
   },
   {
    "duration": 30,
    "start_time": "2022-11-30T16:44:09.688Z"
   },
   {
    "duration": 35,
    "start_time": "2022-11-30T16:44:09.722Z"
   },
   {
    "duration": 43,
    "start_time": "2022-11-30T16:44:09.759Z"
   },
   {
    "duration": 49,
    "start_time": "2022-11-30T16:44:09.803Z"
   },
   {
    "duration": 23,
    "start_time": "2022-11-30T16:44:09.854Z"
   },
   {
    "duration": 26,
    "start_time": "2022-11-30T16:44:09.878Z"
   },
   {
    "duration": 41,
    "start_time": "2022-11-30T16:44:09.906Z"
   },
   {
    "duration": 34,
    "start_time": "2022-11-30T16:44:09.949Z"
   },
   {
    "duration": 66,
    "start_time": "2022-11-30T16:44:09.984Z"
   },
   {
    "duration": 42,
    "start_time": "2022-11-30T16:44:10.052Z"
   },
   {
    "duration": 44,
    "start_time": "2022-11-30T16:44:10.096Z"
   },
   {
    "duration": 40,
    "start_time": "2022-11-30T16:44:10.142Z"
   },
   {
    "duration": 69,
    "start_time": "2022-11-30T16:44:10.184Z"
   },
   {
    "duration": 116,
    "start_time": "2022-11-30T16:44:10.254Z"
   },
   {
    "duration": 871,
    "start_time": "2022-11-30T16:44:10.372Z"
   },
   {
    "duration": 0,
    "start_time": "2022-11-30T16:44:11.245Z"
   },
   {
    "duration": 0,
    "start_time": "2022-11-30T16:44:11.246Z"
   },
   {
    "duration": 0,
    "start_time": "2022-11-30T16:44:11.248Z"
   },
   {
    "duration": 10,
    "start_time": "2022-11-30T16:45:39.162Z"
   },
   {
    "duration": 856,
    "start_time": "2022-11-30T16:45:44.414Z"
   },
   {
    "duration": 5,
    "start_time": "2022-11-30T16:45:52.909Z"
   },
   {
    "duration": 6,
    "start_time": "2022-11-30T16:45:59.284Z"
   },
   {
    "duration": 26,
    "start_time": "2022-11-30T16:46:01.698Z"
   },
   {
    "duration": 64,
    "start_time": "2022-11-30T16:47:56.211Z"
   },
   {
    "duration": 363,
    "start_time": "2022-11-30T16:54:25.543Z"
   },
   {
    "duration": 105,
    "start_time": "2022-11-30T16:54:25.909Z"
   },
   {
    "duration": 5,
    "start_time": "2022-11-30T16:54:26.016Z"
   },
   {
    "duration": 76,
    "start_time": "2022-11-30T16:54:26.023Z"
   },
   {
    "duration": 6,
    "start_time": "2022-11-30T16:54:26.101Z"
   },
   {
    "duration": 8,
    "start_time": "2022-11-30T16:54:26.109Z"
   },
   {
    "duration": 7,
    "start_time": "2022-11-30T16:54:26.119Z"
   },
   {
    "duration": 74,
    "start_time": "2022-11-30T16:54:26.127Z"
   },
   {
    "duration": 6,
    "start_time": "2022-11-30T16:54:26.202Z"
   },
   {
    "duration": 7,
    "start_time": "2022-11-30T16:54:26.212Z"
   },
   {
    "duration": 8,
    "start_time": "2022-11-30T16:54:26.220Z"
   },
   {
    "duration": 120,
    "start_time": "2022-11-30T16:54:26.229Z"
   },
   {
    "duration": 10,
    "start_time": "2022-11-30T16:54:26.351Z"
   },
   {
    "duration": 38,
    "start_time": "2022-11-30T16:54:26.363Z"
   },
   {
    "duration": 61,
    "start_time": "2022-11-30T16:54:26.403Z"
   },
   {
    "duration": 36,
    "start_time": "2022-11-30T16:54:26.466Z"
   },
   {
    "duration": 20,
    "start_time": "2022-11-30T16:54:26.503Z"
   },
   {
    "duration": 7,
    "start_time": "2022-11-30T16:54:26.526Z"
   },
   {
    "duration": 18,
    "start_time": "2022-11-30T16:54:26.534Z"
   },
   {
    "duration": 9,
    "start_time": "2022-11-30T16:54:26.554Z"
   },
   {
    "duration": 36,
    "start_time": "2022-11-30T16:54:26.565Z"
   },
   {
    "duration": 7,
    "start_time": "2022-11-30T16:54:26.603Z"
   },
   {
    "duration": 16,
    "start_time": "2022-11-30T16:54:26.611Z"
   },
   {
    "duration": 11,
    "start_time": "2022-11-30T16:54:26.629Z"
   },
   {
    "duration": 9,
    "start_time": "2022-11-30T16:54:26.641Z"
   },
   {
    "duration": 10,
    "start_time": "2022-11-30T16:54:26.651Z"
   },
   {
    "duration": 6,
    "start_time": "2022-11-30T16:54:26.663Z"
   },
   {
    "duration": 33,
    "start_time": "2022-11-30T16:54:26.672Z"
   },
   {
    "duration": 7,
    "start_time": "2022-11-30T16:54:26.707Z"
   },
   {
    "duration": 14,
    "start_time": "2022-11-30T16:54:26.715Z"
   },
   {
    "duration": 11,
    "start_time": "2022-11-30T16:54:26.731Z"
   },
   {
    "duration": 13,
    "start_time": "2022-11-30T16:54:26.743Z"
   },
   {
    "duration": 8,
    "start_time": "2022-11-30T16:54:26.758Z"
   },
   {
    "duration": 5,
    "start_time": "2022-11-30T16:54:26.796Z"
   },
   {
    "duration": 28,
    "start_time": "2022-11-30T16:54:26.802Z"
   },
   {
    "duration": 11,
    "start_time": "2022-11-30T16:54:26.832Z"
   },
   {
    "duration": 29,
    "start_time": "2022-11-30T16:54:26.844Z"
   },
   {
    "duration": 18,
    "start_time": "2022-11-30T16:54:26.875Z"
   },
   {
    "duration": 29,
    "start_time": "2022-11-30T16:54:26.895Z"
   },
   {
    "duration": 101,
    "start_time": "2022-11-30T16:54:26.926Z"
   },
   {
    "duration": 9,
    "start_time": "2022-11-30T16:54:27.029Z"
   },
   {
    "duration": 17,
    "start_time": "2022-11-30T16:54:27.040Z"
   },
   {
    "duration": 9,
    "start_time": "2022-11-30T16:54:27.058Z"
   },
   {
    "duration": 42,
    "start_time": "2022-11-30T16:54:27.068Z"
   },
   {
    "duration": 438,
    "start_time": "2022-12-01T07:46:20.333Z"
   },
   {
    "duration": 346,
    "start_time": "2022-12-01T07:46:20.773Z"
   },
   {
    "duration": 5,
    "start_time": "2022-12-01T07:46:21.121Z"
   },
   {
    "duration": 69,
    "start_time": "2022-12-01T07:46:21.127Z"
   },
   {
    "duration": 7,
    "start_time": "2022-12-01T07:46:21.198Z"
   },
   {
    "duration": 8,
    "start_time": "2022-12-01T07:46:21.207Z"
   },
   {
    "duration": 39,
    "start_time": "2022-12-01T07:46:21.216Z"
   },
   {
    "duration": 47,
    "start_time": "2022-12-01T07:46:21.257Z"
   },
   {
    "duration": 6,
    "start_time": "2022-12-01T07:46:21.305Z"
   },
   {
    "duration": 47,
    "start_time": "2022-12-01T07:46:21.312Z"
   },
   {
    "duration": 8,
    "start_time": "2022-12-01T07:46:21.361Z"
   },
   {
    "duration": 98,
    "start_time": "2022-12-01T07:46:21.371Z"
   },
   {
    "duration": 6,
    "start_time": "2022-12-01T07:46:21.471Z"
   },
   {
    "duration": 7,
    "start_time": "2022-12-01T07:46:21.481Z"
   },
   {
    "duration": 78,
    "start_time": "2022-12-01T07:46:21.489Z"
   },
   {
    "duration": 6,
    "start_time": "2022-12-01T07:46:21.568Z"
   },
   {
    "duration": 15,
    "start_time": "2022-12-01T07:46:21.575Z"
   },
   {
    "duration": 8,
    "start_time": "2022-12-01T07:46:21.593Z"
   },
   {
    "duration": 48,
    "start_time": "2022-12-01T07:46:21.603Z"
   },
   {
    "duration": 7,
    "start_time": "2022-12-01T07:46:21.653Z"
   },
   {
    "duration": 11,
    "start_time": "2022-12-01T07:46:21.661Z"
   },
   {
    "duration": 7,
    "start_time": "2022-12-01T07:46:21.673Z"
   },
   {
    "duration": 10,
    "start_time": "2022-12-01T07:46:21.682Z"
   },
   {
    "duration": 7,
    "start_time": "2022-12-01T07:46:21.694Z"
   },
   {
    "duration": 6,
    "start_time": "2022-12-01T07:46:21.703Z"
   },
   {
    "duration": 43,
    "start_time": "2022-12-01T07:46:21.711Z"
   },
   {
    "duration": 7,
    "start_time": "2022-12-01T07:46:21.756Z"
   },
   {
    "duration": 18,
    "start_time": "2022-12-01T07:46:21.765Z"
   },
   {
    "duration": 7,
    "start_time": "2022-12-01T07:46:21.785Z"
   },
   {
    "duration": 15,
    "start_time": "2022-12-01T07:46:21.794Z"
   },
   {
    "duration": 13,
    "start_time": "2022-12-01T07:46:21.810Z"
   },
   {
    "duration": 32,
    "start_time": "2022-12-01T07:46:21.824Z"
   },
   {
    "duration": 10,
    "start_time": "2022-12-01T07:46:21.857Z"
   },
   {
    "duration": 7,
    "start_time": "2022-12-01T07:46:21.869Z"
   },
   {
    "duration": 16,
    "start_time": "2022-12-01T07:46:21.877Z"
   },
   {
    "duration": 9,
    "start_time": "2022-12-01T07:46:21.895Z"
   },
   {
    "duration": 14,
    "start_time": "2022-12-01T07:46:21.905Z"
   },
   {
    "duration": 6,
    "start_time": "2022-12-01T07:46:21.921Z"
   },
   {
    "duration": 45,
    "start_time": "2022-12-01T07:46:21.929Z"
   },
   {
    "duration": 106,
    "start_time": "2022-12-01T07:46:21.975Z"
   },
   {
    "duration": 10,
    "start_time": "2022-12-01T07:46:22.084Z"
   },
   {
    "duration": 9,
    "start_time": "2022-12-01T07:46:22.096Z"
   },
   {
    "duration": 10,
    "start_time": "2022-12-01T07:46:22.107Z"
   },
   {
    "duration": 46,
    "start_time": "2022-12-01T07:46:22.119Z"
   },
   {
    "duration": 87,
    "start_time": "2022-12-01T07:46:22.167Z"
   },
   {
    "duration": 3,
    "start_time": "2022-12-01T07:47:03.029Z"
   },
   {
    "duration": 5,
    "start_time": "2022-12-01T07:47:44.242Z"
   },
   {
    "duration": 4,
    "start_time": "2022-12-01T07:49:45.820Z"
   },
   {
    "duration": 7,
    "start_time": "2022-12-01T07:54:30.613Z"
   },
   {
    "duration": 5,
    "start_time": "2022-12-01T07:55:45.819Z"
   },
   {
    "duration": 15,
    "start_time": "2022-12-01T07:55:49.274Z"
   },
   {
    "duration": 404,
    "start_time": "2022-12-01T07:55:57.448Z"
   },
   {
    "duration": 104,
    "start_time": "2022-12-01T07:55:57.855Z"
   },
   {
    "duration": 4,
    "start_time": "2022-12-01T07:55:57.961Z"
   },
   {
    "duration": 88,
    "start_time": "2022-12-01T07:55:57.967Z"
   },
   {
    "duration": 7,
    "start_time": "2022-12-01T07:55:58.057Z"
   },
   {
    "duration": 9,
    "start_time": "2022-12-01T07:55:58.066Z"
   },
   {
    "duration": 11,
    "start_time": "2022-12-01T07:55:58.077Z"
   },
   {
    "duration": 95,
    "start_time": "2022-12-01T07:55:58.090Z"
   },
   {
    "duration": 6,
    "start_time": "2022-12-01T07:55:58.187Z"
   },
   {
    "duration": 7,
    "start_time": "2022-12-01T07:55:58.196Z"
   },
   {
    "duration": 8,
    "start_time": "2022-12-01T07:55:58.204Z"
   },
   {
    "duration": 100,
    "start_time": "2022-12-01T07:55:58.214Z"
   },
   {
    "duration": 39,
    "start_time": "2022-12-01T07:55:58.315Z"
   },
   {
    "duration": 9,
    "start_time": "2022-12-01T07:55:58.355Z"
   },
   {
    "duration": 49,
    "start_time": "2022-12-01T07:55:58.365Z"
   },
   {
    "duration": 42,
    "start_time": "2022-12-01T07:55:58.416Z"
   },
   {
    "duration": 18,
    "start_time": "2022-12-01T07:55:58.459Z"
   },
   {
    "duration": 10,
    "start_time": "2022-12-01T07:55:58.479Z"
   },
   {
    "duration": 10,
    "start_time": "2022-12-01T07:55:58.491Z"
   },
   {
    "duration": 7,
    "start_time": "2022-12-01T07:55:58.502Z"
   },
   {
    "duration": 10,
    "start_time": "2022-12-01T07:55:58.511Z"
   },
   {
    "duration": 11,
    "start_time": "2022-12-01T07:55:58.551Z"
   },
   {
    "duration": 25,
    "start_time": "2022-12-01T07:55:58.564Z"
   },
   {
    "duration": 9,
    "start_time": "2022-12-01T07:55:58.590Z"
   },
   {
    "duration": 12,
    "start_time": "2022-12-01T07:55:58.601Z"
   },
   {
    "duration": 9,
    "start_time": "2022-12-01T07:55:58.615Z"
   },
   {
    "duration": 6,
    "start_time": "2022-12-01T07:55:58.626Z"
   },
   {
    "duration": 23,
    "start_time": "2022-12-01T07:55:58.635Z"
   },
   {
    "duration": 10,
    "start_time": "2022-12-01T07:55:58.660Z"
   },
   {
    "duration": 16,
    "start_time": "2022-12-01T07:55:58.672Z"
   },
   {
    "duration": 14,
    "start_time": "2022-12-01T07:55:58.691Z"
   },
   {
    "duration": 17,
    "start_time": "2022-12-01T07:55:58.707Z"
   },
   {
    "duration": 29,
    "start_time": "2022-12-01T07:55:58.726Z"
   },
   {
    "duration": 8,
    "start_time": "2022-12-01T07:55:58.757Z"
   },
   {
    "duration": 15,
    "start_time": "2022-12-01T07:55:58.767Z"
   },
   {
    "duration": 4,
    "start_time": "2022-12-01T07:55:58.784Z"
   },
   {
    "duration": 14,
    "start_time": "2022-12-01T07:55:58.790Z"
   },
   {
    "duration": 8,
    "start_time": "2022-12-01T07:55:58.805Z"
   },
   {
    "duration": 49,
    "start_time": "2022-12-01T07:55:58.815Z"
   },
   {
    "duration": 106,
    "start_time": "2022-12-01T07:55:58.866Z"
   },
   {
    "duration": 9,
    "start_time": "2022-12-01T07:55:58.973Z"
   },
   {
    "duration": 10,
    "start_time": "2022-12-01T07:55:58.983Z"
   },
   {
    "duration": 11,
    "start_time": "2022-12-01T07:55:58.994Z"
   },
   {
    "duration": 22,
    "start_time": "2022-12-01T07:55:59.007Z"
   },
   {
    "duration": 48,
    "start_time": "2022-12-01T07:55:59.031Z"
   },
   {
    "duration": 4,
    "start_time": "2022-12-01T07:55:59.080Z"
   },
   {
    "duration": 9,
    "start_time": "2022-12-01T07:55:59.085Z"
   },
   {
    "duration": 33,
    "start_time": "2022-12-01T07:55:59.096Z"
   },
   {
    "duration": 12,
    "start_time": "2022-12-01T07:58:50.946Z"
   },
   {
    "duration": 6,
    "start_time": "2022-12-01T07:59:36.827Z"
   },
   {
    "duration": 22,
    "start_time": "2022-12-01T08:00:39.773Z"
   },
   {
    "duration": 30,
    "start_time": "2022-12-01T08:03:32.570Z"
   },
   {
    "duration": 9,
    "start_time": "2022-12-01T08:04:44.444Z"
   },
   {
    "duration": 61,
    "start_time": "2022-12-01T08:07:23.198Z"
   },
   {
    "duration": 10,
    "start_time": "2022-12-01T08:07:32.908Z"
   },
   {
    "duration": 573,
    "start_time": "2022-12-01T08:07:39.218Z"
   },
   {
    "duration": 136,
    "start_time": "2022-12-01T08:07:54.451Z"
   },
   {
    "duration": 119,
    "start_time": "2022-12-01T08:08:03.348Z"
   },
   {
    "duration": 164,
    "start_time": "2022-12-01T08:08:42.160Z"
   },
   {
    "duration": 186,
    "start_time": "2022-12-01T08:08:51.401Z"
   },
   {
    "duration": 145,
    "start_time": "2022-12-01T08:09:05.857Z"
   },
   {
    "duration": 4,
    "start_time": "2022-12-01T08:09:25.836Z"
   },
   {
    "duration": 133,
    "start_time": "2022-12-01T08:09:47.678Z"
   },
   {
    "duration": 134,
    "start_time": "2022-12-01T08:12:01.452Z"
   },
   {
    "duration": 8,
    "start_time": "2022-12-01T08:15:58.207Z"
   },
   {
    "duration": 117,
    "start_time": "2022-12-01T08:16:09.027Z"
   },
   {
    "duration": 406,
    "start_time": "2022-12-01T08:17:27.103Z"
   },
   {
    "duration": 11,
    "start_time": "2022-12-01T08:18:40.032Z"
   },
   {
    "duration": 3,
    "start_time": "2022-12-01T08:27:54.956Z"
   },
   {
    "duration": 117,
    "start_time": "2022-12-01T08:28:14.421Z"
   },
   {
    "duration": 10,
    "start_time": "2022-12-01T08:28:20.133Z"
   },
   {
    "duration": 166,
    "start_time": "2022-12-01T08:28:42.403Z"
   },
   {
    "duration": 154,
    "start_time": "2022-12-01T08:28:54.545Z"
   },
   {
    "duration": 193,
    "start_time": "2022-12-01T08:29:23.881Z"
   },
   {
    "duration": 130,
    "start_time": "2022-12-01T08:29:50.786Z"
   },
   {
    "duration": 376,
    "start_time": "2022-12-01T08:35:28.681Z"
   },
   {
    "duration": 276,
    "start_time": "2022-12-01T08:35:43.265Z"
   },
   {
    "duration": 262,
    "start_time": "2022-12-01T08:36:21.298Z"
   },
   {
    "duration": 324,
    "start_time": "2022-12-01T08:41:22.313Z"
   },
   {
    "duration": 347,
    "start_time": "2022-12-01T08:41:37.705Z"
   },
   {
    "duration": 281,
    "start_time": "2022-12-01T08:41:49.663Z"
   },
   {
    "duration": 140,
    "start_time": "2022-12-01T08:44:40.893Z"
   },
   {
    "duration": 10,
    "start_time": "2022-12-01T08:47:09.283Z"
   },
   {
    "duration": 26,
    "start_time": "2022-12-01T08:47:19.699Z"
   },
   {
    "duration": 8,
    "start_time": "2022-12-01T08:52:09.314Z"
   },
   {
    "duration": 242,
    "start_time": "2022-12-01T08:52:26.990Z"
   },
   {
    "duration": 34,
    "start_time": "2022-12-01T08:53:02.520Z"
   },
   {
    "duration": 28,
    "start_time": "2022-12-01T08:53:16.345Z"
   },
   {
    "duration": 30,
    "start_time": "2022-12-01T08:57:02.487Z"
   },
   {
    "duration": 1423,
    "start_time": "2022-12-01T08:57:30.769Z"
   },
   {
    "duration": 1216,
    "start_time": "2022-12-01T08:58:38.999Z"
   },
   {
    "duration": 17,
    "start_time": "2022-12-01T09:11:53.788Z"
   },
   {
    "duration": 11,
    "start_time": "2022-12-01T09:12:13.432Z"
   },
   {
    "duration": 135,
    "start_time": "2022-12-01T09:12:25.268Z"
   },
   {
    "duration": 15,
    "start_time": "2022-12-01T09:16:04.071Z"
   },
   {
    "duration": 77537,
    "start_time": "2022-12-01T09:16:16.736Z"
   },
   {
    "duration": 137,
    "start_time": "2022-12-01T09:18:09.396Z"
   },
   {
    "duration": 129,
    "start_time": "2022-12-01T09:18:28.705Z"
   },
   {
    "duration": 397,
    "start_time": "2022-12-01T09:31:25.929Z"
   },
   {
    "duration": 430,
    "start_time": "2022-12-01T09:32:04.330Z"
   },
   {
    "duration": 142,
    "start_time": "2022-12-01T09:32:26.581Z"
   },
   {
    "duration": 34054,
    "start_time": "2022-12-01T09:36:30.338Z"
   },
   {
    "duration": 11,
    "start_time": "2022-12-01T09:37:04.395Z"
   },
   {
    "duration": 453,
    "start_time": "2022-12-01T09:39:36.572Z"
   },
   {
    "duration": 38,
    "start_time": "2022-12-01T09:39:57.246Z"
   },
   {
    "duration": 9,
    "start_time": "2022-12-01T09:44:16.407Z"
   },
   {
    "duration": 100,
    "start_time": "2022-12-01T09:44:28.913Z"
   },
   {
    "duration": 111,
    "start_time": "2022-12-01T09:44:55.025Z"
   },
   {
    "duration": 105,
    "start_time": "2022-12-01T09:45:28.662Z"
   },
   {
    "duration": 75,
    "start_time": "2022-12-01T09:46:11.953Z"
   },
   {
    "duration": 92,
    "start_time": "2022-12-01T09:46:29.851Z"
   },
   {
    "duration": 180,
    "start_time": "2022-12-01T09:46:40.508Z"
   },
   {
    "duration": 196,
    "start_time": "2022-12-01T09:47:09.529Z"
   },
   {
    "duration": 187,
    "start_time": "2022-12-01T09:47:24.020Z"
   },
   {
    "duration": 108,
    "start_time": "2022-12-01T09:47:34.044Z"
   },
   {
    "duration": 89,
    "start_time": "2022-12-01T09:48:08.234Z"
   },
   {
    "duration": 4,
    "start_time": "2022-12-01T09:53:29.367Z"
   },
   {
    "duration": 12,
    "start_time": "2022-12-01T09:55:02.076Z"
   },
   {
    "duration": 14,
    "start_time": "2022-12-01T09:55:27.402Z"
   },
   {
    "duration": 5,
    "start_time": "2022-12-01T09:55:45.744Z"
   },
   {
    "duration": 589,
    "start_time": "2022-12-01T09:55:48.681Z"
   },
   {
    "duration": 6,
    "start_time": "2022-12-01T09:56:59.753Z"
   },
   {
    "duration": 3,
    "start_time": "2022-12-01T09:57:12.671Z"
   },
   {
    "duration": 522,
    "start_time": "2022-12-01T09:57:15.712Z"
   },
   {
    "duration": 20,
    "start_time": "2022-12-01T09:57:33.654Z"
   },
   {
    "duration": 4,
    "start_time": "2022-12-01T09:58:10.947Z"
   },
   {
    "duration": 528,
    "start_time": "2022-12-01T09:58:16.907Z"
   },
   {
    "duration": 4,
    "start_time": "2022-12-01T09:59:28.399Z"
   },
   {
    "duration": 14,
    "start_time": "2022-12-01T09:59:31.298Z"
   },
   {
    "duration": 4,
    "start_time": "2022-12-01T09:59:51.496Z"
   },
   {
    "duration": 502,
    "start_time": "2022-12-01T09:59:53.629Z"
   },
   {
    "duration": 4,
    "start_time": "2022-12-01T10:03:48.950Z"
   },
   {
    "duration": 90618,
    "start_time": "2022-12-01T10:04:46.114Z"
   },
   {
    "duration": 10,
    "start_time": "2022-12-01T10:07:33.121Z"
   },
   {
    "duration": 100884,
    "start_time": "2022-12-01T10:07:49.775Z"
   },
   {
    "duration": 4,
    "start_time": "2022-12-01T10:27:54.745Z"
   },
   {
    "duration": 10,
    "start_time": "2022-12-01T10:27:59.766Z"
   },
   {
    "duration": 8,
    "start_time": "2022-12-01T10:28:28.361Z"
   },
   {
    "duration": 11,
    "start_time": "2022-12-01T10:28:43.332Z"
   },
   {
    "duration": 9,
    "start_time": "2022-12-01T10:29:40.077Z"
   },
   {
    "duration": 71,
    "start_time": "2022-12-01T10:30:51.487Z"
   },
   {
    "duration": 3,
    "start_time": "2022-12-01T10:32:48.365Z"
   },
   {
    "duration": 4,
    "start_time": "2022-12-01T10:33:03.343Z"
   },
   {
    "duration": 942,
    "start_time": "2022-12-01T10:33:30.793Z"
   },
   {
    "duration": 879,
    "start_time": "2022-12-01T10:33:59.969Z"
   },
   {
    "duration": 895,
    "start_time": "2022-12-01T10:34:30.133Z"
   },
   {
    "duration": 876,
    "start_time": "2022-12-01T10:37:56.879Z"
   },
   {
    "duration": 806,
    "start_time": "2022-12-01T10:38:20.279Z"
   },
   {
    "duration": 807,
    "start_time": "2022-12-01T10:38:32.565Z"
   },
   {
    "duration": 889,
    "start_time": "2022-12-01T10:38:46.155Z"
   },
   {
    "duration": 2963,
    "start_time": "2022-12-01T10:39:05.634Z"
   },
   {
    "duration": 751,
    "start_time": "2022-12-01T10:39:21.580Z"
   },
   {
    "duration": 712,
    "start_time": "2022-12-01T10:39:38.297Z"
   },
   {
    "duration": 811,
    "start_time": "2022-12-01T10:39:52.141Z"
   },
   {
    "duration": 728,
    "start_time": "2022-12-01T10:41:43.378Z"
   },
   {
    "duration": 727,
    "start_time": "2022-12-01T10:42:18.061Z"
   },
   {
    "duration": 354,
    "start_time": "2022-12-01T10:45:21.460Z"
   },
   {
    "duration": 348,
    "start_time": "2022-12-01T10:45:29.096Z"
   },
   {
    "duration": 1312,
    "start_time": "2022-12-01T15:21:01.902Z"
   },
   {
    "duration": 337,
    "start_time": "2022-12-01T15:21:03.216Z"
   },
   {
    "duration": 4,
    "start_time": "2022-12-01T15:21:03.554Z"
   },
   {
    "duration": 62,
    "start_time": "2022-12-01T15:21:03.561Z"
   },
   {
    "duration": 5,
    "start_time": "2022-12-01T15:21:03.624Z"
   },
   {
    "duration": 20,
    "start_time": "2022-12-01T15:21:03.631Z"
   },
   {
    "duration": 29,
    "start_time": "2022-12-01T15:21:03.652Z"
   },
   {
    "duration": 69,
    "start_time": "2022-12-01T15:21:03.683Z"
   },
   {
    "duration": 4,
    "start_time": "2022-12-01T15:21:03.754Z"
   },
   {
    "duration": 24,
    "start_time": "2022-12-01T15:21:03.760Z"
   },
   {
    "duration": 17,
    "start_time": "2022-12-01T15:21:03.785Z"
   },
   {
    "duration": 90,
    "start_time": "2022-12-01T15:21:03.803Z"
   },
   {
    "duration": 5,
    "start_time": "2022-12-01T15:21:03.894Z"
   },
   {
    "duration": 19,
    "start_time": "2022-12-01T15:21:03.901Z"
   },
   {
    "duration": 60,
    "start_time": "2022-12-01T15:21:03.922Z"
   },
   {
    "duration": 5,
    "start_time": "2022-12-01T15:21:03.984Z"
   },
   {
    "duration": 45,
    "start_time": "2022-12-01T15:21:03.990Z"
   },
   {
    "duration": 55,
    "start_time": "2022-12-01T15:21:04.037Z"
   },
   {
    "duration": 26,
    "start_time": "2022-12-01T15:21:04.094Z"
   },
   {
    "duration": 31,
    "start_time": "2022-12-01T15:21:04.122Z"
   },
   {
    "duration": 42,
    "start_time": "2022-12-01T15:21:04.154Z"
   },
   {
    "duration": 17,
    "start_time": "2022-12-01T15:21:04.198Z"
   },
   {
    "duration": 20,
    "start_time": "2022-12-01T15:21:04.217Z"
   },
   {
    "duration": 20,
    "start_time": "2022-12-01T15:21:04.238Z"
   },
   {
    "duration": 62,
    "start_time": "2022-12-01T15:21:04.260Z"
   },
   {
    "duration": 39,
    "start_time": "2022-12-01T15:21:04.324Z"
   },
   {
    "duration": 43,
    "start_time": "2022-12-01T15:21:04.365Z"
   },
   {
    "duration": 42,
    "start_time": "2022-12-01T15:21:04.411Z"
   },
   {
    "duration": 34,
    "start_time": "2022-12-01T15:21:04.454Z"
   },
   {
    "duration": 47,
    "start_time": "2022-12-01T15:21:04.489Z"
   },
   {
    "duration": 37,
    "start_time": "2022-12-01T15:21:04.537Z"
   },
   {
    "duration": 25,
    "start_time": "2022-12-01T15:21:04.576Z"
   },
   {
    "duration": 52,
    "start_time": "2022-12-01T15:21:04.603Z"
   },
   {
    "duration": 34,
    "start_time": "2022-12-01T15:21:04.656Z"
   },
   {
    "duration": 34,
    "start_time": "2022-12-01T15:21:04.692Z"
   },
   {
    "duration": 36,
    "start_time": "2022-12-01T15:21:04.728Z"
   },
   {
    "duration": 47,
    "start_time": "2022-12-01T15:21:04.766Z"
   },
   {
    "duration": 53,
    "start_time": "2022-12-01T15:21:04.815Z"
   },
   {
    "duration": 73,
    "start_time": "2022-12-01T15:21:04.869Z"
   },
   {
    "duration": 97,
    "start_time": "2022-12-01T15:21:04.944Z"
   },
   {
    "duration": 9,
    "start_time": "2022-12-01T15:21:05.042Z"
   },
   {
    "duration": 52,
    "start_time": "2022-12-01T15:21:05.052Z"
   },
   {
    "duration": 38,
    "start_time": "2022-12-01T15:21:05.105Z"
   },
   {
    "duration": 60,
    "start_time": "2022-12-01T15:21:05.144Z"
   },
   {
    "duration": 32,
    "start_time": "2022-12-01T15:21:05.206Z"
   },
   {
    "duration": 25,
    "start_time": "2022-12-01T15:21:05.239Z"
   },
   {
    "duration": 36,
    "start_time": "2022-12-01T15:21:05.266Z"
   },
   {
    "duration": 944,
    "start_time": "2022-12-01T15:21:05.304Z"
   },
   {
    "duration": 0,
    "start_time": "2022-12-01T15:21:06.250Z"
   },
   {
    "duration": 0,
    "start_time": "2022-12-01T15:21:06.251Z"
   },
   {
    "duration": 0,
    "start_time": "2022-12-01T15:21:06.253Z"
   },
   {
    "duration": 0,
    "start_time": "2022-12-01T15:21:06.254Z"
   },
   {
    "duration": 0,
    "start_time": "2022-12-01T15:21:06.255Z"
   },
   {
    "duration": 0,
    "start_time": "2022-12-01T15:21:06.257Z"
   },
   {
    "duration": 0,
    "start_time": "2022-12-01T15:21:06.258Z"
   },
   {
    "duration": 0,
    "start_time": "2022-12-01T15:21:06.259Z"
   },
   {
    "duration": 0,
    "start_time": "2022-12-01T15:21:06.260Z"
   },
   {
    "duration": 0,
    "start_time": "2022-12-01T15:21:06.261Z"
   },
   {
    "duration": 813,
    "start_time": "2022-12-01T15:21:41.198Z"
   },
   {
    "duration": 835,
    "start_time": "2022-12-01T15:22:04.483Z"
   },
   {
    "duration": 887,
    "start_time": "2022-12-01T15:22:12.178Z"
   },
   {
    "duration": 900,
    "start_time": "2022-12-01T15:22:25.124Z"
   },
   {
    "duration": 816,
    "start_time": "2022-12-01T15:22:41.991Z"
   },
   {
    "duration": 45,
    "start_time": "2022-12-01T15:37:21.241Z"
   },
   {
    "duration": 1299,
    "start_time": "2022-12-01T15:37:27.309Z"
   },
   {
    "duration": 313,
    "start_time": "2022-12-01T15:37:28.610Z"
   },
   {
    "duration": 4,
    "start_time": "2022-12-01T15:37:28.924Z"
   },
   {
    "duration": 87,
    "start_time": "2022-12-01T15:37:28.931Z"
   },
   {
    "duration": 7,
    "start_time": "2022-12-01T15:37:29.020Z"
   },
   {
    "duration": 16,
    "start_time": "2022-12-01T15:37:29.029Z"
   },
   {
    "duration": 15,
    "start_time": "2022-12-01T15:37:29.046Z"
   },
   {
    "duration": 54,
    "start_time": "2022-12-01T15:37:29.063Z"
   },
   {
    "duration": 5,
    "start_time": "2022-12-01T15:37:29.118Z"
   },
   {
    "duration": 910,
    "start_time": "2022-12-01T15:37:29.125Z"
   },
   {
    "duration": 41,
    "start_time": "2022-12-01T15:37:30.036Z"
   },
   {
    "duration": 85,
    "start_time": "2022-12-01T15:37:30.079Z"
   },
   {
    "duration": 6,
    "start_time": "2022-12-01T15:37:30.166Z"
   },
   {
    "duration": 15,
    "start_time": "2022-12-01T15:37:30.173Z"
   },
   {
    "duration": 45,
    "start_time": "2022-12-01T15:37:30.215Z"
   },
   {
    "duration": 16,
    "start_time": "2022-12-01T15:37:30.262Z"
   },
   {
    "duration": 31,
    "start_time": "2022-12-01T15:37:30.279Z"
   },
   {
    "duration": 34,
    "start_time": "2022-12-01T15:37:30.312Z"
   },
   {
    "duration": 29,
    "start_time": "2022-12-01T15:37:30.347Z"
   },
   {
    "duration": 36,
    "start_time": "2022-12-01T15:37:30.377Z"
   },
   {
    "duration": 47,
    "start_time": "2022-12-01T15:37:30.415Z"
   },
   {
    "duration": 49,
    "start_time": "2022-12-01T15:37:30.464Z"
   },
   {
    "duration": 41,
    "start_time": "2022-12-01T15:37:30.515Z"
   },
   {
    "duration": 55,
    "start_time": "2022-12-01T15:37:30.558Z"
   },
   {
    "duration": 45,
    "start_time": "2022-12-01T15:37:30.615Z"
   },
   {
    "duration": 50,
    "start_time": "2022-12-01T15:37:30.662Z"
   },
   {
    "duration": 32,
    "start_time": "2022-12-01T15:37:30.713Z"
   },
   {
    "duration": 223,
    "start_time": "2022-12-01T15:37:30.748Z"
   },
   {
    "duration": 45,
    "start_time": "2022-12-01T15:37:30.973Z"
   },
   {
    "duration": 33,
    "start_time": "2022-12-01T15:37:31.020Z"
   },
   {
    "duration": 26,
    "start_time": "2022-12-01T15:37:31.055Z"
   },
   {
    "duration": 23,
    "start_time": "2022-12-01T15:37:31.082Z"
   },
   {
    "duration": 21,
    "start_time": "2022-12-01T15:37:31.107Z"
   },
   {
    "duration": 21,
    "start_time": "2022-12-01T15:37:31.130Z"
   },
   {
    "duration": 23,
    "start_time": "2022-12-01T15:37:31.153Z"
   },
   {
    "duration": 12,
    "start_time": "2022-12-01T15:37:31.177Z"
   },
   {
    "duration": 13,
    "start_time": "2022-12-01T15:37:31.190Z"
   },
   {
    "duration": 7,
    "start_time": "2022-12-01T15:37:31.204Z"
   },
   {
    "duration": 35,
    "start_time": "2022-12-01T15:37:31.213Z"
   },
   {
    "duration": 98,
    "start_time": "2022-12-01T15:37:31.250Z"
   },
   {
    "duration": 10,
    "start_time": "2022-12-01T15:37:31.349Z"
   },
   {
    "duration": 13,
    "start_time": "2022-12-01T15:37:31.361Z"
   },
   {
    "duration": 33,
    "start_time": "2022-12-01T15:37:31.376Z"
   },
   {
    "duration": 31,
    "start_time": "2022-12-01T15:37:31.410Z"
   },
   {
    "duration": 19,
    "start_time": "2022-12-01T15:37:31.442Z"
   },
   {
    "duration": 4,
    "start_time": "2022-12-01T15:37:31.462Z"
   },
   {
    "duration": 17,
    "start_time": "2022-12-01T15:37:31.467Z"
   },
   {
    "duration": 968,
    "start_time": "2022-12-01T15:37:31.486Z"
   },
   {
    "duration": 0,
    "start_time": "2022-12-01T15:37:32.455Z"
   },
   {
    "duration": 0,
    "start_time": "2022-12-01T15:37:32.457Z"
   },
   {
    "duration": 0,
    "start_time": "2022-12-01T15:37:32.458Z"
   },
   {
    "duration": 0,
    "start_time": "2022-12-01T15:37:32.458Z"
   },
   {
    "duration": 0,
    "start_time": "2022-12-01T15:37:32.459Z"
   },
   {
    "duration": 0,
    "start_time": "2022-12-01T15:37:32.460Z"
   },
   {
    "duration": 0,
    "start_time": "2022-12-01T15:37:32.462Z"
   },
   {
    "duration": 0,
    "start_time": "2022-12-01T15:37:32.462Z"
   },
   {
    "duration": 0,
    "start_time": "2022-12-01T15:37:32.464Z"
   },
   {
    "duration": 0,
    "start_time": "2022-12-01T15:37:32.465Z"
   },
   {
    "duration": 10,
    "start_time": "2022-12-01T15:39:02.901Z"
   },
   {
    "duration": 1371,
    "start_time": "2022-12-01T15:39:13.068Z"
   },
   {
    "duration": 1363,
    "start_time": "2022-12-01T15:39:31.986Z"
   },
   {
    "duration": 4,
    "start_time": "2022-12-01T15:40:06.141Z"
   },
   {
    "duration": 516,
    "start_time": "2022-12-01T15:40:16.633Z"
   },
   {
    "duration": 1124,
    "start_time": "2022-12-01T15:43:22.408Z"
   },
   {
    "duration": 19,
    "start_time": "2022-12-01T15:44:35.372Z"
   },
   {
    "duration": 4,
    "start_time": "2022-12-01T15:44:38.874Z"
   },
   {
    "duration": 6,
    "start_time": "2022-12-01T15:44:41.155Z"
   },
   {
    "duration": 11,
    "start_time": "2022-12-01T15:44:44.634Z"
   },
   {
    "duration": 112,
    "start_time": "2022-12-01T15:44:47.673Z"
   },
   {
    "duration": 10,
    "start_time": "2022-12-01T15:45:39.198Z"
   },
   {
    "duration": 129,
    "start_time": "2022-12-01T15:45:44.620Z"
   },
   {
    "duration": 5,
    "start_time": "2022-12-01T15:45:48.931Z"
   },
   {
    "duration": 20,
    "start_time": "2022-12-01T15:57:54.533Z"
   },
   {
    "duration": 578,
    "start_time": "2022-12-01T15:58:09.075Z"
   },
   {
    "duration": 12,
    "start_time": "2022-12-01T16:00:21.820Z"
   },
   {
    "duration": 58,
    "start_time": "2022-12-01T16:00:58.817Z"
   },
   {
    "duration": 2870,
    "start_time": "2022-12-01T16:01:07.338Z"
   },
   {
    "duration": 41,
    "start_time": "2022-12-01T16:01:20.821Z"
   },
   {
    "duration": 17079,
    "start_time": "2022-12-01T16:02:35.290Z"
   },
   {
    "duration": 55,
    "start_time": "2022-12-01T16:04:28.749Z"
   },
   {
    "duration": 16,
    "start_time": "2022-12-01T16:04:44.172Z"
   },
   {
    "duration": 0,
    "start_time": "2022-12-01T16:05:48.035Z"
   },
   {
    "duration": 17688,
    "start_time": "2022-12-01T16:05:52.339Z"
   },
   {
    "duration": 29,
    "start_time": "2022-12-01T16:08:47.810Z"
   },
   {
    "duration": 17,
    "start_time": "2022-12-01T16:15:19.540Z"
   },
   {
    "duration": 130,
    "start_time": "2022-12-01T16:15:58.779Z"
   },
   {
    "duration": 11,
    "start_time": "2022-12-01T16:16:22.372Z"
   },
   {
    "duration": 9,
    "start_time": "2022-12-01T16:23:28.344Z"
   },
   {
    "duration": 16,
    "start_time": "2022-12-01T16:23:35.226Z"
   },
   {
    "duration": 5,
    "start_time": "2022-12-01T16:25:53.519Z"
   },
   {
    "duration": 789,
    "start_time": "2022-12-01T16:25:59.213Z"
   },
   {
    "duration": 4,
    "start_time": "2022-12-01T16:26:14.728Z"
   },
   {
    "duration": 5,
    "start_time": "2022-12-01T16:27:19.934Z"
   },
   {
    "duration": 4,
    "start_time": "2022-12-01T16:27:23.655Z"
   },
   {
    "duration": 1192,
    "start_time": "2022-12-01T16:28:00.447Z"
   },
   {
    "duration": 109,
    "start_time": "2022-12-01T16:28:01.640Z"
   },
   {
    "duration": 4,
    "start_time": "2022-12-01T16:28:01.751Z"
   },
   {
    "duration": 69,
    "start_time": "2022-12-01T16:28:01.757Z"
   },
   {
    "duration": 8,
    "start_time": "2022-12-01T16:28:01.828Z"
   },
   {
    "duration": 54,
    "start_time": "2022-12-01T16:28:01.838Z"
   },
   {
    "duration": 13,
    "start_time": "2022-12-01T16:28:01.894Z"
   },
   {
    "duration": 72,
    "start_time": "2022-12-01T16:28:01.909Z"
   },
   {
    "duration": 7,
    "start_time": "2022-12-01T16:28:01.982Z"
   },
   {
    "duration": 13,
    "start_time": "2022-12-01T16:28:01.992Z"
   },
   {
    "duration": 10,
    "start_time": "2022-12-01T16:28:02.016Z"
   },
   {
    "duration": 103,
    "start_time": "2022-12-01T16:28:02.027Z"
   },
   {
    "duration": 14,
    "start_time": "2022-12-01T16:28:02.131Z"
   },
   {
    "duration": 25,
    "start_time": "2022-12-01T16:28:02.147Z"
   },
   {
    "duration": 62,
    "start_time": "2022-12-01T16:28:02.173Z"
   },
   {
    "duration": 6,
    "start_time": "2022-12-01T16:28:02.237Z"
   },
   {
    "duration": 23,
    "start_time": "2022-12-01T16:28:02.244Z"
   },
   {
    "duration": 11,
    "start_time": "2022-12-01T16:28:02.268Z"
   },
   {
    "duration": 39,
    "start_time": "2022-12-01T16:28:02.282Z"
   },
   {
    "duration": 6,
    "start_time": "2022-12-01T16:28:02.325Z"
   },
   {
    "duration": 16,
    "start_time": "2022-12-01T16:28:02.333Z"
   },
   {
    "duration": 22,
    "start_time": "2022-12-01T16:28:02.351Z"
   },
   {
    "duration": 33,
    "start_time": "2022-12-01T16:28:02.376Z"
   },
   {
    "duration": 34,
    "start_time": "2022-12-01T16:28:02.413Z"
   },
   {
    "duration": 15,
    "start_time": "2022-12-01T16:28:02.449Z"
   },
   {
    "duration": 10,
    "start_time": "2022-12-01T16:28:02.466Z"
   },
   {
    "duration": 14,
    "start_time": "2022-12-01T16:28:02.478Z"
   },
   {
    "duration": 20,
    "start_time": "2022-12-01T16:28:02.497Z"
   },
   {
    "duration": 17,
    "start_time": "2022-12-01T16:28:02.519Z"
   },
   {
    "duration": 15,
    "start_time": "2022-12-01T16:28:02.538Z"
   },
   {
    "duration": 13,
    "start_time": "2022-12-01T16:28:02.554Z"
   },
   {
    "duration": 17,
    "start_time": "2022-12-01T16:28:02.569Z"
   },
   {
    "duration": 17,
    "start_time": "2022-12-01T16:28:02.588Z"
   },
   {
    "duration": 13,
    "start_time": "2022-12-01T16:28:02.607Z"
   },
   {
    "duration": 20,
    "start_time": "2022-12-01T16:28:02.622Z"
   },
   {
    "duration": 6,
    "start_time": "2022-12-01T16:28:02.644Z"
   },
   {
    "duration": 13,
    "start_time": "2022-12-01T16:28:02.652Z"
   },
   {
    "duration": 10,
    "start_time": "2022-12-01T16:28:02.666Z"
   },
   {
    "duration": 42,
    "start_time": "2022-12-01T16:28:02.678Z"
   },
   {
    "duration": 114,
    "start_time": "2022-12-01T16:28:02.721Z"
   },
   {
    "duration": 10,
    "start_time": "2022-12-01T16:28:02.837Z"
   },
   {
    "duration": 9,
    "start_time": "2022-12-01T16:28:02.848Z"
   },
   {
    "duration": 10,
    "start_time": "2022-12-01T16:28:02.858Z"
   },
   {
    "duration": 19,
    "start_time": "2022-12-01T16:28:02.869Z"
   },
   {
    "duration": 46,
    "start_time": "2022-12-01T16:28:02.890Z"
   },
   {
    "duration": 6,
    "start_time": "2022-12-01T16:28:02.938Z"
   },
   {
    "duration": 10,
    "start_time": "2022-12-01T16:28:02.946Z"
   },
   {
    "duration": 1095,
    "start_time": "2022-12-01T16:28:02.958Z"
   },
   {
    "duration": 5,
    "start_time": "2022-12-01T16:28:04.055Z"
   },
   {
    "duration": 678,
    "start_time": "2022-12-01T16:28:04.061Z"
   },
   {
    "duration": 20,
    "start_time": "2022-12-01T16:28:04.741Z"
   },
   {
    "duration": 5,
    "start_time": "2022-12-01T16:28:04.763Z"
   },
   {
    "duration": 18,
    "start_time": "2022-12-01T16:28:04.769Z"
   },
   {
    "duration": 40,
    "start_time": "2022-12-01T16:28:04.789Z"
   },
   {
    "duration": 144,
    "start_time": "2022-12-01T16:28:04.830Z"
   },
   {
    "duration": 24,
    "start_time": "2022-12-01T16:28:04.976Z"
   },
   {
    "duration": 214,
    "start_time": "2022-12-01T16:28:05.003Z"
   },
   {
    "duration": 16,
    "start_time": "2022-12-01T16:28:05.220Z"
   },
   {
    "duration": 50,
    "start_time": "2022-12-01T16:28:05.238Z"
   },
   {
    "duration": 0,
    "start_time": "2022-12-01T16:28:05.291Z"
   },
   {
    "duration": 0,
    "start_time": "2022-12-01T16:28:05.292Z"
   },
   {
    "duration": 0,
    "start_time": "2022-12-01T16:28:05.294Z"
   },
   {
    "duration": 0,
    "start_time": "2022-12-01T16:28:05.296Z"
   },
   {
    "duration": 826,
    "start_time": "2022-12-01T16:29:18.113Z"
   },
   {
    "duration": 29,
    "start_time": "2022-12-01T16:29:52.906Z"
   },
   {
    "duration": 1215,
    "start_time": "2022-12-01T16:30:35.379Z"
   },
   {
    "duration": 105,
    "start_time": "2022-12-01T16:30:36.596Z"
   },
   {
    "duration": 5,
    "start_time": "2022-12-01T16:30:36.703Z"
   },
   {
    "duration": 60,
    "start_time": "2022-12-01T16:30:36.710Z"
   },
   {
    "duration": 6,
    "start_time": "2022-12-01T16:30:36.772Z"
   },
   {
    "duration": 38,
    "start_time": "2022-12-01T16:30:36.779Z"
   },
   {
    "duration": 12,
    "start_time": "2022-12-01T16:30:36.819Z"
   },
   {
    "duration": 85,
    "start_time": "2022-12-01T16:30:36.832Z"
   },
   {
    "duration": 6,
    "start_time": "2022-12-01T16:30:36.918Z"
   },
   {
    "duration": 10,
    "start_time": "2022-12-01T16:30:36.926Z"
   },
   {
    "duration": 14,
    "start_time": "2022-12-01T16:30:36.937Z"
   },
   {
    "duration": 88,
    "start_time": "2022-12-01T16:30:36.953Z"
   },
   {
    "duration": 6,
    "start_time": "2022-12-01T16:30:37.043Z"
   },
   {
    "duration": 13,
    "start_time": "2022-12-01T16:30:37.050Z"
   },
   {
    "duration": 71,
    "start_time": "2022-12-01T16:30:37.064Z"
   },
   {
    "duration": 5,
    "start_time": "2022-12-01T16:30:37.136Z"
   },
   {
    "duration": 14,
    "start_time": "2022-12-01T16:30:37.143Z"
   },
   {
    "duration": 8,
    "start_time": "2022-12-01T16:30:37.159Z"
   },
   {
    "duration": 13,
    "start_time": "2022-12-01T16:30:37.168Z"
   },
   {
    "duration": 34,
    "start_time": "2022-12-01T16:30:37.182Z"
   },
   {
    "duration": 8,
    "start_time": "2022-12-01T16:30:37.217Z"
   },
   {
    "duration": 11,
    "start_time": "2022-12-01T16:30:37.226Z"
   },
   {
    "duration": 8,
    "start_time": "2022-12-01T16:30:37.238Z"
   },
   {
    "duration": 7,
    "start_time": "2022-12-01T16:30:37.247Z"
   },
   {
    "duration": 7,
    "start_time": "2022-12-01T16:30:37.256Z"
   },
   {
    "duration": 10,
    "start_time": "2022-12-01T16:30:37.264Z"
   },
   {
    "duration": 9,
    "start_time": "2022-12-01T16:30:37.276Z"
   },
   {
    "duration": 33,
    "start_time": "2022-12-01T16:30:37.289Z"
   },
   {
    "duration": 16,
    "start_time": "2022-12-01T16:30:37.323Z"
   },
   {
    "duration": 13,
    "start_time": "2022-12-01T16:30:37.340Z"
   },
   {
    "duration": 13,
    "start_time": "2022-12-01T16:30:37.355Z"
   },
   {
    "duration": 13,
    "start_time": "2022-12-01T16:30:37.370Z"
   },
   {
    "duration": 10,
    "start_time": "2022-12-01T16:30:37.385Z"
   },
   {
    "duration": 19,
    "start_time": "2022-12-01T16:30:37.396Z"
   },
   {
    "duration": 10,
    "start_time": "2022-12-01T16:30:37.417Z"
   },
   {
    "duration": 6,
    "start_time": "2022-12-01T16:30:37.429Z"
   },
   {
    "duration": 12,
    "start_time": "2022-12-01T16:30:37.436Z"
   },
   {
    "duration": 12,
    "start_time": "2022-12-01T16:30:37.451Z"
   },
   {
    "duration": 26,
    "start_time": "2022-12-01T16:30:37.465Z"
   },
   {
    "duration": 124,
    "start_time": "2022-12-01T16:30:37.493Z"
   },
   {
    "duration": 10,
    "start_time": "2022-12-01T16:30:37.619Z"
   },
   {
    "duration": 12,
    "start_time": "2022-12-01T16:30:37.630Z"
   },
   {
    "duration": 7,
    "start_time": "2022-12-01T16:30:37.643Z"
   },
   {
    "duration": 18,
    "start_time": "2022-12-01T16:30:37.652Z"
   },
   {
    "duration": 20,
    "start_time": "2022-12-01T16:30:37.672Z"
   },
   {
    "duration": 3,
    "start_time": "2022-12-01T16:30:37.716Z"
   },
   {
    "duration": 9,
    "start_time": "2022-12-01T16:30:37.720Z"
   },
   {
    "duration": 1103,
    "start_time": "2022-12-01T16:30:37.730Z"
   },
   {
    "duration": 3,
    "start_time": "2022-12-01T16:30:38.835Z"
   },
   {
    "duration": 612,
    "start_time": "2022-12-01T16:30:38.840Z"
   },
   {
    "duration": 21,
    "start_time": "2022-12-01T16:30:39.453Z"
   },
   {
    "duration": 6,
    "start_time": "2022-12-01T16:30:39.475Z"
   },
   {
    "duration": 17,
    "start_time": "2022-12-01T16:30:39.483Z"
   },
   {
    "duration": 36,
    "start_time": "2022-12-01T16:30:39.501Z"
   },
   {
    "duration": 114,
    "start_time": "2022-12-01T16:30:39.538Z"
   },
   {
    "duration": 11,
    "start_time": "2022-12-01T16:30:39.654Z"
   },
   {
    "duration": 160,
    "start_time": "2022-12-01T16:30:39.667Z"
   },
   {
    "duration": 23,
    "start_time": "2022-12-01T16:30:39.829Z"
   },
   {
    "duration": 863,
    "start_time": "2022-12-01T16:30:39.853Z"
   },
   {
    "duration": 0,
    "start_time": "2022-12-01T16:30:40.718Z"
   },
   {
    "duration": 0,
    "start_time": "2022-12-01T16:30:40.719Z"
   },
   {
    "duration": 0,
    "start_time": "2022-12-01T16:30:40.720Z"
   },
   {
    "duration": 0,
    "start_time": "2022-12-01T16:30:40.721Z"
   },
   {
    "duration": 0,
    "start_time": "2022-12-01T16:30:40.722Z"
   },
   {
    "duration": 0,
    "start_time": "2022-12-01T16:30:40.723Z"
   },
   {
    "duration": 8,
    "start_time": "2022-12-01T16:30:53.445Z"
   },
   {
    "duration": 12,
    "start_time": "2022-12-01T16:31:10.620Z"
   },
   {
    "duration": 5,
    "start_time": "2022-12-01T16:32:17.355Z"
   },
   {
    "duration": 6,
    "start_time": "2022-12-01T16:32:36.808Z"
   },
   {
    "duration": 15,
    "start_time": "2022-12-01T16:33:46.330Z"
   },
   {
    "duration": 153,
    "start_time": "2022-12-01T16:36:44.793Z"
   },
   {
    "duration": 12,
    "start_time": "2022-12-01T16:37:01.201Z"
   },
   {
    "duration": 220,
    "start_time": "2022-12-01T16:38:09.616Z"
   },
   {
    "duration": 9,
    "start_time": "2022-12-01T16:38:45.336Z"
   },
   {
    "duration": 13,
    "start_time": "2022-12-01T16:41:21.469Z"
   },
   {
    "duration": 7,
    "start_time": "2022-12-01T16:42:35.258Z"
   },
   {
    "duration": 13,
    "start_time": "2022-12-01T16:42:42.590Z"
   },
   {
    "duration": 156,
    "start_time": "2022-12-01T16:43:19.854Z"
   },
   {
    "duration": 148,
    "start_time": "2022-12-01T16:43:27.548Z"
   },
   {
    "duration": 142,
    "start_time": "2022-12-01T16:43:44.272Z"
   },
   {
    "duration": 126,
    "start_time": "2022-12-01T16:48:30.058Z"
   },
   {
    "duration": 14,
    "start_time": "2022-12-01T16:49:40.405Z"
   },
   {
    "duration": 7,
    "start_time": "2022-12-01T16:49:52.690Z"
   },
   {
    "duration": 12,
    "start_time": "2022-12-01T16:50:01.148Z"
   },
   {
    "duration": 155,
    "start_time": "2022-12-01T16:50:27.699Z"
   },
   {
    "duration": 146,
    "start_time": "2022-12-01T16:50:35.474Z"
   },
   {
    "duration": 157,
    "start_time": "2022-12-01T16:50:42.945Z"
   },
   {
    "duration": 8,
    "start_time": "2022-12-01T16:51:56.917Z"
   },
   {
    "duration": 11,
    "start_time": "2022-12-01T16:51:59.088Z"
   },
   {
    "duration": 158,
    "start_time": "2022-12-01T16:52:02.322Z"
   },
   {
    "duration": 164,
    "start_time": "2022-12-01T16:52:34.556Z"
   },
   {
    "duration": 245,
    "start_time": "2022-12-01T16:53:30.127Z"
   },
   {
    "duration": 169,
    "start_time": "2022-12-01T16:54:02.038Z"
   },
   {
    "duration": 147,
    "start_time": "2022-12-01T16:54:09.835Z"
   },
   {
    "duration": 11,
    "start_time": "2022-12-01T16:55:15.720Z"
   },
   {
    "duration": 12,
    "start_time": "2022-12-01T16:55:30.299Z"
   },
   {
    "duration": 8,
    "start_time": "2022-12-01T17:16:31.385Z"
   },
   {
    "duration": 10,
    "start_time": "2022-12-01T17:16:33.543Z"
   },
   {
    "duration": 121,
    "start_time": "2022-12-01T17:16:43.007Z"
   },
   {
    "duration": 13,
    "start_time": "2022-12-01T17:17:12.993Z"
   },
   {
    "duration": 12,
    "start_time": "2022-12-01T17:17:55.038Z"
   },
   {
    "duration": 8,
    "start_time": "2022-12-01T17:18:03.736Z"
   },
   {
    "duration": 11,
    "start_time": "2022-12-01T17:18:07.219Z"
   },
   {
    "duration": 176,
    "start_time": "2022-12-01T17:18:11.921Z"
   },
   {
    "duration": 7,
    "start_time": "2022-12-01T17:18:39.514Z"
   },
   {
    "duration": 9,
    "start_time": "2022-12-01T17:18:41.554Z"
   },
   {
    "duration": 13,
    "start_time": "2022-12-01T17:18:44.060Z"
   },
   {
    "duration": 143,
    "start_time": "2022-12-01T17:23:14.257Z"
   },
   {
    "duration": 8,
    "start_time": "2022-12-01T17:24:20.197Z"
   },
   {
    "duration": 16,
    "start_time": "2022-12-01T17:24:22.884Z"
   },
   {
    "duration": 188,
    "start_time": "2022-12-01T17:24:30.863Z"
   },
   {
    "duration": 7,
    "start_time": "2022-12-01T17:24:44.850Z"
   },
   {
    "duration": 11,
    "start_time": "2022-12-01T17:24:54.488Z"
   },
   {
    "duration": 13,
    "start_time": "2022-12-01T17:25:04.696Z"
   },
   {
    "duration": 147,
    "start_time": "2022-12-01T17:26:44.097Z"
   },
   {
    "duration": 1148,
    "start_time": "2022-12-01T17:27:33.334Z"
   },
   {
    "duration": 107,
    "start_time": "2022-12-01T17:27:34.484Z"
   },
   {
    "duration": 4,
    "start_time": "2022-12-01T17:27:34.593Z"
   },
   {
    "duration": 56,
    "start_time": "2022-12-01T17:27:34.599Z"
   },
   {
    "duration": 7,
    "start_time": "2022-12-01T17:27:34.657Z"
   },
   {
    "duration": 10,
    "start_time": "2022-12-01T17:27:34.665Z"
   },
   {
    "duration": 9,
    "start_time": "2022-12-01T17:27:34.677Z"
   },
   {
    "duration": 52,
    "start_time": "2022-12-01T17:27:34.715Z"
   },
   {
    "duration": 6,
    "start_time": "2022-12-01T17:27:34.769Z"
   },
   {
    "duration": 40,
    "start_time": "2022-12-01T17:27:34.777Z"
   },
   {
    "duration": 9,
    "start_time": "2022-12-01T17:27:34.819Z"
   },
   {
    "duration": 93,
    "start_time": "2022-12-01T17:27:34.830Z"
   },
   {
    "duration": 5,
    "start_time": "2022-12-01T17:27:34.925Z"
   },
   {
    "duration": 9,
    "start_time": "2022-12-01T17:27:34.932Z"
   },
   {
    "duration": 74,
    "start_time": "2022-12-01T17:27:34.942Z"
   },
   {
    "duration": 6,
    "start_time": "2022-12-01T17:27:35.018Z"
   },
   {
    "duration": 25,
    "start_time": "2022-12-01T17:27:35.025Z"
   },
   {
    "duration": 11,
    "start_time": "2022-12-01T17:27:35.055Z"
   },
   {
    "duration": 13,
    "start_time": "2022-12-01T17:27:35.067Z"
   },
   {
    "duration": 8,
    "start_time": "2022-12-01T17:27:35.082Z"
   },
   {
    "duration": 13,
    "start_time": "2022-12-01T17:27:35.092Z"
   },
   {
    "duration": 6,
    "start_time": "2022-12-01T17:27:35.115Z"
   },
   {
    "duration": 10,
    "start_time": "2022-12-01T17:27:35.123Z"
   },
   {
    "duration": 8,
    "start_time": "2022-12-01T17:27:35.134Z"
   },
   {
    "duration": 7,
    "start_time": "2022-12-01T17:27:35.144Z"
   },
   {
    "duration": 9,
    "start_time": "2022-12-01T17:27:35.152Z"
   },
   {
    "duration": 7,
    "start_time": "2022-12-01T17:27:35.162Z"
   },
   {
    "duration": 16,
    "start_time": "2022-12-01T17:27:35.171Z"
   },
   {
    "duration": 27,
    "start_time": "2022-12-01T17:27:35.188Z"
   },
   {
    "duration": 11,
    "start_time": "2022-12-01T17:27:35.217Z"
   },
   {
    "duration": 12,
    "start_time": "2022-12-01T17:27:35.230Z"
   },
   {
    "duration": 18,
    "start_time": "2022-12-01T17:27:35.243Z"
   },
   {
    "duration": 11,
    "start_time": "2022-12-01T17:27:35.263Z"
   },
   {
    "duration": 10,
    "start_time": "2022-12-01T17:27:35.276Z"
   },
   {
    "duration": 24,
    "start_time": "2022-12-01T17:27:35.287Z"
   },
   {
    "duration": 9,
    "start_time": "2022-12-01T17:27:35.316Z"
   },
   {
    "duration": 15,
    "start_time": "2022-12-01T17:27:35.327Z"
   },
   {
    "duration": 22,
    "start_time": "2022-12-01T17:27:35.344Z"
   },
   {
    "duration": 32,
    "start_time": "2022-12-01T17:27:35.368Z"
   },
   {
    "duration": 79,
    "start_time": "2022-12-01T17:27:35.402Z"
   },
   {
    "duration": 35,
    "start_time": "2022-12-01T17:27:35.485Z"
   },
   {
    "duration": 5,
    "start_time": "2022-12-01T17:27:35.522Z"
   },
   {
    "duration": 18,
    "start_time": "2022-12-01T17:27:35.528Z"
   },
   {
    "duration": 19,
    "start_time": "2022-12-01T17:27:35.548Z"
   },
   {
    "duration": 22,
    "start_time": "2022-12-01T17:27:35.569Z"
   },
   {
    "duration": 3,
    "start_time": "2022-12-01T17:27:35.592Z"
   },
   {
    "duration": 19,
    "start_time": "2022-12-01T17:27:35.597Z"
   },
   {
    "duration": 1130,
    "start_time": "2022-12-01T17:27:35.618Z"
   },
   {
    "duration": 5,
    "start_time": "2022-12-01T17:27:36.749Z"
   },
   {
    "duration": 607,
    "start_time": "2022-12-01T17:27:36.755Z"
   },
   {
    "duration": 19,
    "start_time": "2022-12-01T17:27:37.363Z"
   },
   {
    "duration": 4,
    "start_time": "2022-12-01T17:27:37.384Z"
   },
   {
    "duration": 26,
    "start_time": "2022-12-01T17:27:37.390Z"
   },
   {
    "duration": 11,
    "start_time": "2022-12-01T17:27:37.418Z"
   },
   {
    "duration": 134,
    "start_time": "2022-12-01T17:27:37.430Z"
   },
   {
    "duration": 11,
    "start_time": "2022-12-01T17:27:37.566Z"
   },
   {
    "duration": 153,
    "start_time": "2022-12-01T17:27:37.579Z"
   },
   {
    "duration": 8,
    "start_time": "2022-12-01T17:27:37.733Z"
   },
   {
    "duration": 12,
    "start_time": "2022-12-01T17:27:37.742Z"
   },
   {
    "duration": 13,
    "start_time": "2022-12-01T17:27:37.756Z"
   },
   {
    "duration": 138,
    "start_time": "2022-12-01T17:27:37.770Z"
   },
   {
    "duration": 10,
    "start_time": "2022-12-01T17:27:37.909Z"
   },
   {
    "duration": 11,
    "start_time": "2022-12-01T17:27:37.920Z"
   },
   {
    "duration": 157,
    "start_time": "2022-12-01T17:27:37.933Z"
   },
   {
    "duration": 7,
    "start_time": "2022-12-01T17:27:38.091Z"
   },
   {
    "duration": 24,
    "start_time": "2022-12-01T17:27:38.099Z"
   },
   {
    "duration": 12,
    "start_time": "2022-12-01T17:27:38.124Z"
   },
   {
    "duration": 146,
    "start_time": "2022-12-01T17:27:38.138Z"
   },
   {
    "duration": 7,
    "start_time": "2022-12-01T17:28:29.856Z"
   },
   {
    "duration": 13,
    "start_time": "2022-12-01T17:28:33.553Z"
   },
   {
    "duration": 144,
    "start_time": "2022-12-01T17:28:59.577Z"
   },
   {
    "duration": 6,
    "start_time": "2022-12-01T17:29:17.729Z"
   },
   {
    "duration": 11,
    "start_time": "2022-12-01T17:29:20.747Z"
   },
   {
    "duration": 155,
    "start_time": "2022-12-01T17:29:37.650Z"
   },
   {
    "duration": 7,
    "start_time": "2022-12-01T17:29:45.778Z"
   },
   {
    "duration": 8,
    "start_time": "2022-12-01T17:29:51.900Z"
   },
   {
    "duration": 9,
    "start_time": "2022-12-01T17:29:54.298Z"
   },
   {
    "duration": 13,
    "start_time": "2022-12-01T17:30:00.061Z"
   },
   {
    "duration": 149,
    "start_time": "2022-12-01T17:30:45.512Z"
   },
   {
    "duration": 132,
    "start_time": "2022-12-01T17:31:01.185Z"
   },
   {
    "duration": 8,
    "start_time": "2022-12-01T17:32:42.069Z"
   },
   {
    "duration": 9,
    "start_time": "2022-12-01T17:32:44.765Z"
   },
   {
    "duration": 101,
    "start_time": "2022-12-01T17:32:52.265Z"
   },
   {
    "duration": 10,
    "start_time": "2022-12-01T17:32:59.765Z"
   },
   {
    "duration": 8,
    "start_time": "2022-12-01T17:33:37.476Z"
   },
   {
    "duration": 8,
    "start_time": "2022-12-01T17:33:42.844Z"
   },
   {
    "duration": 9,
    "start_time": "2022-12-01T17:34:07.533Z"
   },
   {
    "duration": 9,
    "start_time": "2022-12-01T17:36:57.707Z"
   },
   {
    "duration": 1214,
    "start_time": "2022-12-01T17:38:10.240Z"
   },
   {
    "duration": 117,
    "start_time": "2022-12-01T17:38:11.456Z"
   },
   {
    "duration": 4,
    "start_time": "2022-12-01T17:38:11.574Z"
   },
   {
    "duration": 74,
    "start_time": "2022-12-01T17:38:11.580Z"
   },
   {
    "duration": 12,
    "start_time": "2022-12-01T17:38:11.656Z"
   },
   {
    "duration": 6,
    "start_time": "2022-12-01T17:38:11.670Z"
   },
   {
    "duration": 12,
    "start_time": "2022-12-01T17:38:11.678Z"
   },
   {
    "duration": 82,
    "start_time": "2022-12-01T17:38:11.691Z"
   },
   {
    "duration": 6,
    "start_time": "2022-12-01T17:38:11.775Z"
   },
   {
    "duration": 7,
    "start_time": "2022-12-01T17:38:11.784Z"
   },
   {
    "duration": 24,
    "start_time": "2022-12-01T17:38:11.793Z"
   },
   {
    "duration": 99,
    "start_time": "2022-12-01T17:38:11.821Z"
   },
   {
    "duration": 7,
    "start_time": "2022-12-01T17:38:11.922Z"
   },
   {
    "duration": 14,
    "start_time": "2022-12-01T17:38:11.931Z"
   },
   {
    "duration": 80,
    "start_time": "2022-12-01T17:38:11.947Z"
   },
   {
    "duration": 7,
    "start_time": "2022-12-01T17:38:12.029Z"
   },
   {
    "duration": 18,
    "start_time": "2022-12-01T17:38:12.038Z"
   },
   {
    "duration": 8,
    "start_time": "2022-12-01T17:38:12.058Z"
   },
   {
    "duration": 17,
    "start_time": "2022-12-01T17:38:12.068Z"
   },
   {
    "duration": 30,
    "start_time": "2022-12-01T17:38:12.087Z"
   },
   {
    "duration": 35,
    "start_time": "2022-12-01T17:38:12.120Z"
   },
   {
    "duration": 8,
    "start_time": "2022-12-01T17:38:12.157Z"
   },
   {
    "duration": 11,
    "start_time": "2022-12-01T17:38:12.166Z"
   },
   {
    "duration": 8,
    "start_time": "2022-12-01T17:38:12.179Z"
   },
   {
    "duration": 13,
    "start_time": "2022-12-01T17:38:12.188Z"
   },
   {
    "duration": 20,
    "start_time": "2022-12-01T17:38:12.203Z"
   },
   {
    "duration": 21,
    "start_time": "2022-12-01T17:38:12.225Z"
   },
   {
    "duration": 14,
    "start_time": "2022-12-01T17:38:12.250Z"
   },
   {
    "duration": 7,
    "start_time": "2022-12-01T17:38:12.265Z"
   },
   {
    "duration": 14,
    "start_time": "2022-12-01T17:38:12.273Z"
   },
   {
    "duration": 11,
    "start_time": "2022-12-01T17:38:12.289Z"
   },
   {
    "duration": 20,
    "start_time": "2022-12-01T17:38:12.302Z"
   },
   {
    "duration": 13,
    "start_time": "2022-12-01T17:38:12.325Z"
   },
   {
    "duration": 7,
    "start_time": "2022-12-01T17:38:12.340Z"
   },
   {
    "duration": 12,
    "start_time": "2022-12-01T17:38:12.348Z"
   },
   {
    "duration": 7,
    "start_time": "2022-12-01T17:38:12.362Z"
   },
   {
    "duration": 13,
    "start_time": "2022-12-01T17:38:12.370Z"
   },
   {
    "duration": 33,
    "start_time": "2022-12-01T17:38:12.384Z"
   },
   {
    "duration": 36,
    "start_time": "2022-12-01T17:38:12.418Z"
   },
   {
    "duration": 112,
    "start_time": "2022-12-01T17:38:12.455Z"
   },
   {
    "duration": 10,
    "start_time": "2022-12-01T17:38:12.568Z"
   },
   {
    "duration": 37,
    "start_time": "2022-12-01T17:38:12.580Z"
   },
   {
    "duration": 18,
    "start_time": "2022-12-01T17:38:12.623Z"
   },
   {
    "duration": 19,
    "start_time": "2022-12-01T17:38:12.642Z"
   },
   {
    "duration": 24,
    "start_time": "2022-12-01T17:38:12.663Z"
   },
   {
    "duration": 8,
    "start_time": "2022-12-01T17:38:12.689Z"
   },
   {
    "duration": 19,
    "start_time": "2022-12-01T17:38:12.699Z"
   },
   {
    "duration": 1162,
    "start_time": "2022-12-01T17:38:12.721Z"
   },
   {
    "duration": 5,
    "start_time": "2022-12-01T17:38:13.885Z"
   },
   {
    "duration": 681,
    "start_time": "2022-12-01T17:38:13.892Z"
   },
   {
    "duration": 20,
    "start_time": "2022-12-01T17:38:14.575Z"
   },
   {
    "duration": 20,
    "start_time": "2022-12-01T17:38:14.597Z"
   },
   {
    "duration": 10,
    "start_time": "2022-12-01T17:38:14.619Z"
   },
   {
    "duration": 16,
    "start_time": "2022-12-01T17:38:14.630Z"
   },
   {
    "duration": 167,
    "start_time": "2022-12-01T17:38:14.648Z"
   },
   {
    "duration": 11,
    "start_time": "2022-12-01T17:38:14.817Z"
   },
   {
    "duration": 152,
    "start_time": "2022-12-01T17:38:14.830Z"
   },
   {
    "duration": 9,
    "start_time": "2022-12-01T17:38:14.983Z"
   },
   {
    "duration": 25,
    "start_time": "2022-12-01T17:38:14.995Z"
   },
   {
    "duration": 15,
    "start_time": "2022-12-01T17:38:15.022Z"
   },
   {
    "duration": 144,
    "start_time": "2022-12-01T17:38:15.039Z"
   },
   {
    "duration": 8,
    "start_time": "2022-12-01T17:38:15.184Z"
   },
   {
    "duration": 28,
    "start_time": "2022-12-01T17:38:15.193Z"
   },
   {
    "duration": 176,
    "start_time": "2022-12-01T17:38:15.224Z"
   },
   {
    "duration": 23,
    "start_time": "2022-12-01T17:38:15.401Z"
   },
   {
    "duration": 9,
    "start_time": "2022-12-01T17:38:15.427Z"
   },
   {
    "duration": 12,
    "start_time": "2022-12-01T17:38:15.437Z"
   },
   {
    "duration": 15,
    "start_time": "2022-12-01T17:38:15.450Z"
   },
   {
    "duration": 179,
    "start_time": "2022-12-01T17:38:15.466Z"
   },
   {
    "duration": 10,
    "start_time": "2022-12-01T17:39:33.490Z"
   },
   {
    "duration": 9,
    "start_time": "2022-12-01T17:40:23.358Z"
   },
   {
    "duration": 8,
    "start_time": "2022-12-01T17:51:47.859Z"
   },
   {
    "duration": 1188,
    "start_time": "2022-12-01T17:51:57.883Z"
   },
   {
    "duration": 104,
    "start_time": "2022-12-01T17:51:59.073Z"
   },
   {
    "duration": 3,
    "start_time": "2022-12-01T17:51:59.179Z"
   },
   {
    "duration": 90,
    "start_time": "2022-12-01T17:51:59.184Z"
   },
   {
    "duration": 7,
    "start_time": "2022-12-01T17:51:59.275Z"
   },
   {
    "duration": 32,
    "start_time": "2022-12-01T17:51:59.284Z"
   },
   {
    "duration": 38,
    "start_time": "2022-12-01T17:51:59.318Z"
   },
   {
    "duration": 101,
    "start_time": "2022-12-01T17:51:59.357Z"
   },
   {
    "duration": 6,
    "start_time": "2022-12-01T17:51:59.460Z"
   },
   {
    "duration": 64,
    "start_time": "2022-12-01T17:51:59.469Z"
   },
   {
    "duration": 47,
    "start_time": "2022-12-01T17:51:59.535Z"
   },
   {
    "duration": 98,
    "start_time": "2022-12-01T17:51:59.584Z"
   },
   {
    "duration": 36,
    "start_time": "2022-12-01T17:51:59.684Z"
   },
   {
    "duration": 18,
    "start_time": "2022-12-01T17:51:59.721Z"
   },
   {
    "duration": 76,
    "start_time": "2022-12-01T17:51:59.741Z"
   },
   {
    "duration": 7,
    "start_time": "2022-12-01T17:51:59.818Z"
   },
   {
    "duration": 45,
    "start_time": "2022-12-01T17:51:59.827Z"
   },
   {
    "duration": 21,
    "start_time": "2022-12-01T17:51:59.873Z"
   },
   {
    "duration": 22,
    "start_time": "2022-12-01T17:51:59.896Z"
   },
   {
    "duration": 27,
    "start_time": "2022-12-01T17:51:59.919Z"
   },
   {
    "duration": 18,
    "start_time": "2022-12-01T17:51:59.947Z"
   },
   {
    "duration": 15,
    "start_time": "2022-12-01T17:51:59.967Z"
   },
   {
    "duration": 39,
    "start_time": "2022-12-01T17:51:59.985Z"
   },
   {
    "duration": 28,
    "start_time": "2022-12-01T17:52:00.027Z"
   },
   {
    "duration": 58,
    "start_time": "2022-12-01T17:52:00.057Z"
   },
   {
    "duration": 21,
    "start_time": "2022-12-01T17:52:00.117Z"
   },
   {
    "duration": 51,
    "start_time": "2022-12-01T17:52:00.141Z"
   },
   {
    "duration": 26,
    "start_time": "2022-12-01T17:52:00.196Z"
   },
   {
    "duration": 29,
    "start_time": "2022-12-01T17:52:00.224Z"
   },
   {
    "duration": 47,
    "start_time": "2022-12-01T17:52:00.255Z"
   },
   {
    "duration": 44,
    "start_time": "2022-12-01T17:52:00.304Z"
   },
   {
    "duration": 47,
    "start_time": "2022-12-01T17:52:00.350Z"
   },
   {
    "duration": 45,
    "start_time": "2022-12-01T17:52:00.399Z"
   },
   {
    "duration": 38,
    "start_time": "2022-12-01T17:52:00.446Z"
   },
   {
    "duration": 44,
    "start_time": "2022-12-01T17:52:00.486Z"
   },
   {
    "duration": 27,
    "start_time": "2022-12-01T17:52:00.532Z"
   },
   {
    "duration": 44,
    "start_time": "2022-12-01T17:52:00.561Z"
   },
   {
    "duration": 33,
    "start_time": "2022-12-01T17:52:00.607Z"
   },
   {
    "duration": 62,
    "start_time": "2022-12-01T17:52:00.642Z"
   },
   {
    "duration": 128,
    "start_time": "2022-12-01T17:52:00.706Z"
   },
   {
    "duration": 10,
    "start_time": "2022-12-01T17:52:00.836Z"
   },
   {
    "duration": 70,
    "start_time": "2022-12-01T17:52:00.848Z"
   },
   {
    "duration": 28,
    "start_time": "2022-12-01T17:52:00.920Z"
   },
   {
    "duration": 37,
    "start_time": "2022-12-01T17:52:00.950Z"
   },
   {
    "duration": 40,
    "start_time": "2022-12-01T17:52:00.989Z"
   },
   {
    "duration": 16,
    "start_time": "2022-12-01T17:52:01.032Z"
   },
   {
    "duration": 22,
    "start_time": "2022-12-01T17:52:01.050Z"
   },
   {
    "duration": 1148,
    "start_time": "2022-12-01T17:52:01.074Z"
   },
   {
    "duration": 4,
    "start_time": "2022-12-01T17:52:02.224Z"
   },
   {
    "duration": 675,
    "start_time": "2022-12-01T17:52:02.230Z"
   },
   {
    "duration": 33,
    "start_time": "2022-12-01T17:52:02.907Z"
   },
   {
    "duration": 4,
    "start_time": "2022-12-01T17:52:02.942Z"
   },
   {
    "duration": 11,
    "start_time": "2022-12-01T17:52:02.948Z"
   },
   {
    "duration": 29,
    "start_time": "2022-12-01T17:52:02.960Z"
   },
   {
    "duration": 141,
    "start_time": "2022-12-01T17:52:02.991Z"
   },
   {
    "duration": 11,
    "start_time": "2022-12-01T17:52:03.134Z"
   },
   {
    "duration": 169,
    "start_time": "2022-12-01T17:52:03.146Z"
   },
   {
    "duration": 8,
    "start_time": "2022-12-01T17:52:03.316Z"
   },
   {
    "duration": 28,
    "start_time": "2022-12-01T17:52:03.326Z"
   },
   {
    "duration": 31,
    "start_time": "2022-12-01T17:52:03.356Z"
   },
   {
    "duration": 136,
    "start_time": "2022-12-01T17:52:03.389Z"
   },
   {
    "duration": 9,
    "start_time": "2022-12-01T17:52:03.526Z"
   },
   {
    "duration": 33,
    "start_time": "2022-12-01T17:52:03.537Z"
   },
   {
    "duration": 153,
    "start_time": "2022-12-01T17:52:03.572Z"
   },
   {
    "duration": 9,
    "start_time": "2022-12-01T17:52:03.726Z"
   },
   {
    "duration": 21,
    "start_time": "2022-12-01T17:52:03.736Z"
   },
   {
    "duration": 33,
    "start_time": "2022-12-01T17:52:03.758Z"
   },
   {
    "duration": 28,
    "start_time": "2022-12-01T17:52:03.793Z"
   },
   {
    "duration": 154,
    "start_time": "2022-12-01T17:52:03.823Z"
   },
   {
    "duration": 9,
    "start_time": "2022-12-01T17:54:49.836Z"
   },
   {
    "duration": 7,
    "start_time": "2022-12-01T18:00:45.003Z"
   },
   {
    "duration": 13,
    "start_time": "2022-12-01T18:00:47.087Z"
   },
   {
    "duration": 8,
    "start_time": "2022-12-01T18:01:16.022Z"
   },
   {
    "duration": 47,
    "start_time": "2022-12-01T18:01:46.771Z"
   },
   {
    "duration": 108,
    "start_time": "2022-12-01T18:01:54.769Z"
   },
   {
    "duration": 6,
    "start_time": "2022-12-01T18:02:16.707Z"
   },
   {
    "duration": 4,
    "start_time": "2022-12-01T18:04:59.000Z"
   },
   {
    "duration": 8,
    "start_time": "2022-12-01T18:05:01.565Z"
   },
   {
    "duration": 7,
    "start_time": "2022-12-01T18:05:05.330Z"
   },
   {
    "duration": 8,
    "start_time": "2022-12-01T18:05:10.040Z"
   },
   {
    "duration": 16,
    "start_time": "2022-12-01T18:05:12.756Z"
   },
   {
    "duration": 1146,
    "start_time": "2022-12-01T18:07:09.772Z"
   },
   {
    "duration": 107,
    "start_time": "2022-12-01T18:07:10.920Z"
   },
   {
    "duration": 4,
    "start_time": "2022-12-01T18:07:11.029Z"
   },
   {
    "duration": 53,
    "start_time": "2022-12-01T18:07:11.036Z"
   },
   {
    "duration": 28,
    "start_time": "2022-12-01T18:07:11.091Z"
   },
   {
    "duration": 14,
    "start_time": "2022-12-01T18:07:11.121Z"
   },
   {
    "duration": 20,
    "start_time": "2022-12-01T18:07:11.136Z"
   },
   {
    "duration": 62,
    "start_time": "2022-12-01T18:07:11.157Z"
   },
   {
    "duration": 7,
    "start_time": "2022-12-01T18:07:11.221Z"
   },
   {
    "duration": 16,
    "start_time": "2022-12-01T18:07:11.231Z"
   },
   {
    "duration": 22,
    "start_time": "2022-12-01T18:07:11.249Z"
   },
   {
    "duration": 80,
    "start_time": "2022-12-01T18:07:11.273Z"
   },
   {
    "duration": 6,
    "start_time": "2022-12-01T18:07:11.354Z"
   },
   {
    "duration": 9,
    "start_time": "2022-12-01T18:07:11.362Z"
   },
   {
    "duration": 74,
    "start_time": "2022-12-01T18:07:11.373Z"
   },
   {
    "duration": 6,
    "start_time": "2022-12-01T18:07:11.448Z"
   },
   {
    "duration": 25,
    "start_time": "2022-12-01T18:07:11.456Z"
   },
   {
    "duration": 6,
    "start_time": "2022-12-01T18:07:11.483Z"
   },
   {
    "duration": 10,
    "start_time": "2022-12-01T18:07:11.515Z"
   },
   {
    "duration": 8,
    "start_time": "2022-12-01T18:07:11.526Z"
   },
   {
    "duration": 14,
    "start_time": "2022-12-01T18:07:11.536Z"
   },
   {
    "duration": 25,
    "start_time": "2022-12-01T18:07:11.551Z"
   },
   {
    "duration": 9,
    "start_time": "2022-12-01T18:07:11.578Z"
   },
   {
    "duration": 13,
    "start_time": "2022-12-01T18:07:11.588Z"
   },
   {
    "duration": 19,
    "start_time": "2022-12-01T18:07:11.602Z"
   },
   {
    "duration": 10,
    "start_time": "2022-12-01T18:07:11.623Z"
   },
   {
    "duration": 10,
    "start_time": "2022-12-01T18:07:11.636Z"
   },
   {
    "duration": 17,
    "start_time": "2022-12-01T18:07:11.653Z"
   },
   {
    "duration": 11,
    "start_time": "2022-12-01T18:07:11.672Z"
   },
   {
    "duration": 32,
    "start_time": "2022-12-01T18:07:11.685Z"
   },
   {
    "duration": 24,
    "start_time": "2022-12-01T18:07:11.719Z"
   },
   {
    "duration": 13,
    "start_time": "2022-12-01T18:07:11.745Z"
   },
   {
    "duration": 16,
    "start_time": "2022-12-01T18:07:11.760Z"
   },
   {
    "duration": 17,
    "start_time": "2022-12-01T18:07:11.778Z"
   },
   {
    "duration": 30,
    "start_time": "2022-12-01T18:07:11.796Z"
   },
   {
    "duration": 12,
    "start_time": "2022-12-01T18:07:11.828Z"
   },
   {
    "duration": 23,
    "start_time": "2022-12-01T18:07:11.842Z"
   },
   {
    "duration": 19,
    "start_time": "2022-12-01T18:07:11.867Z"
   },
   {
    "duration": 53,
    "start_time": "2022-12-01T18:07:11.888Z"
   },
   {
    "duration": 128,
    "start_time": "2022-12-01T18:07:11.943Z"
   },
   {
    "duration": 13,
    "start_time": "2022-12-01T18:07:12.073Z"
   },
   {
    "duration": 27,
    "start_time": "2022-12-01T18:07:12.088Z"
   },
   {
    "duration": 20,
    "start_time": "2022-12-01T18:07:12.117Z"
   },
   {
    "duration": 42,
    "start_time": "2022-12-01T18:07:12.139Z"
   },
   {
    "duration": 24,
    "start_time": "2022-12-01T18:07:12.183Z"
   },
   {
    "duration": 4,
    "start_time": "2022-12-01T18:07:12.208Z"
   },
   {
    "duration": 15,
    "start_time": "2022-12-01T18:07:12.213Z"
   },
   {
    "duration": 1212,
    "start_time": "2022-12-01T18:07:12.230Z"
   },
   {
    "duration": 4,
    "start_time": "2022-12-01T18:07:13.444Z"
   },
   {
    "duration": 655,
    "start_time": "2022-12-01T18:07:13.450Z"
   },
   {
    "duration": 26,
    "start_time": "2022-12-01T18:07:14.107Z"
   },
   {
    "duration": 5,
    "start_time": "2022-12-01T18:07:14.136Z"
   },
   {
    "duration": 12,
    "start_time": "2022-12-01T18:07:14.143Z"
   },
   {
    "duration": 14,
    "start_time": "2022-12-01T18:07:14.156Z"
   },
   {
    "duration": 145,
    "start_time": "2022-12-01T18:07:14.172Z"
   },
   {
    "duration": 12,
    "start_time": "2022-12-01T18:07:14.319Z"
   },
   {
    "duration": 142,
    "start_time": "2022-12-01T18:07:14.332Z"
   },
   {
    "duration": 5,
    "start_time": "2022-12-01T18:07:14.476Z"
   },
   {
    "duration": 11,
    "start_time": "2022-12-01T18:07:14.484Z"
   },
   {
    "duration": 4,
    "start_time": "2022-12-01T18:07:14.516Z"
   },
   {
    "duration": 19,
    "start_time": "2022-12-01T18:07:14.522Z"
   },
   {
    "duration": 9,
    "start_time": "2022-12-01T18:07:14.543Z"
   },
   {
    "duration": 16,
    "start_time": "2022-12-01T18:07:14.553Z"
   },
   {
    "duration": 138,
    "start_time": "2022-12-01T18:07:14.571Z"
   },
   {
    "duration": 8,
    "start_time": "2022-12-01T18:07:14.711Z"
   },
   {
    "duration": 18,
    "start_time": "2022-12-01T18:07:14.721Z"
   },
   {
    "duration": 158,
    "start_time": "2022-12-01T18:07:14.741Z"
   },
   {
    "duration": 17,
    "start_time": "2022-12-01T18:07:14.901Z"
   },
   {
    "duration": 7,
    "start_time": "2022-12-01T18:07:14.920Z"
   },
   {
    "duration": 20,
    "start_time": "2022-12-01T18:07:14.930Z"
   },
   {
    "duration": 18,
    "start_time": "2022-12-01T18:07:14.952Z"
   },
   {
    "duration": 166,
    "start_time": "2022-12-01T18:07:14.972Z"
   },
   {
    "duration": 5,
    "start_time": "2022-12-01T18:10:21.533Z"
   },
   {
    "duration": 10,
    "start_time": "2022-12-01T18:10:23.813Z"
   },
   {
    "duration": 9,
    "start_time": "2022-12-01T18:10:30.381Z"
   },
   {
    "duration": 6,
    "start_time": "2022-12-01T18:10:36.336Z"
   },
   {
    "duration": 8,
    "start_time": "2022-12-01T18:10:38.227Z"
   },
   {
    "duration": 7,
    "start_time": "2022-12-01T18:10:40.177Z"
   },
   {
    "duration": 13,
    "start_time": "2022-12-01T18:10:42.263Z"
   },
   {
    "duration": 1210,
    "start_time": "2022-12-01T18:10:57.729Z"
   },
   {
    "duration": 106,
    "start_time": "2022-12-01T18:10:58.941Z"
   },
   {
    "duration": 21,
    "start_time": "2022-12-01T18:10:59.049Z"
   },
   {
    "duration": 67,
    "start_time": "2022-12-01T18:10:59.073Z"
   },
   {
    "duration": 8,
    "start_time": "2022-12-01T18:10:59.142Z"
   },
   {
    "duration": 15,
    "start_time": "2022-12-01T18:10:59.152Z"
   },
   {
    "duration": 10,
    "start_time": "2022-12-01T18:10:59.168Z"
   },
   {
    "duration": 98,
    "start_time": "2022-12-01T18:10:59.180Z"
   },
   {
    "duration": 38,
    "start_time": "2022-12-01T18:10:59.280Z"
   },
   {
    "duration": 10,
    "start_time": "2022-12-01T18:10:59.322Z"
   },
   {
    "duration": 9,
    "start_time": "2022-12-01T18:10:59.333Z"
   },
   {
    "duration": 117,
    "start_time": "2022-12-01T18:10:59.344Z"
   },
   {
    "duration": 7,
    "start_time": "2022-12-01T18:10:59.462Z"
   },
   {
    "duration": 11,
    "start_time": "2022-12-01T18:10:59.472Z"
   },
   {
    "duration": 95,
    "start_time": "2022-12-01T18:10:59.484Z"
   },
   {
    "duration": 37,
    "start_time": "2022-12-01T18:10:59.581Z"
   },
   {
    "duration": 36,
    "start_time": "2022-12-01T18:10:59.621Z"
   },
   {
    "duration": 22,
    "start_time": "2022-12-01T18:10:59.660Z"
   },
   {
    "duration": 16,
    "start_time": "2022-12-01T18:10:59.685Z"
   },
   {
    "duration": 7,
    "start_time": "2022-12-01T18:10:59.703Z"
   },
   {
    "duration": 12,
    "start_time": "2022-12-01T18:10:59.711Z"
   },
   {
    "duration": 14,
    "start_time": "2022-12-01T18:10:59.725Z"
   },
   {
    "duration": 22,
    "start_time": "2022-12-01T18:10:59.741Z"
   },
   {
    "duration": 28,
    "start_time": "2022-12-01T18:10:59.764Z"
   },
   {
    "duration": 10,
    "start_time": "2022-12-01T18:10:59.794Z"
   },
   {
    "duration": 9,
    "start_time": "2022-12-01T18:10:59.805Z"
   },
   {
    "duration": 34,
    "start_time": "2022-12-01T18:10:59.816Z"
   },
   {
    "duration": 14,
    "start_time": "2022-12-01T18:10:59.855Z"
   },
   {
    "duration": 12,
    "start_time": "2022-12-01T18:10:59.871Z"
   },
   {
    "duration": 17,
    "start_time": "2022-12-01T18:10:59.884Z"
   },
   {
    "duration": 14,
    "start_time": "2022-12-01T18:10:59.903Z"
   },
   {
    "duration": 28,
    "start_time": "2022-12-01T18:10:59.918Z"
   },
   {
    "duration": 21,
    "start_time": "2022-12-01T18:10:59.948Z"
   },
   {
    "duration": 8,
    "start_time": "2022-12-01T18:10:59.971Z"
   },
   {
    "duration": 20,
    "start_time": "2022-12-01T18:10:59.981Z"
   },
   {
    "duration": 34,
    "start_time": "2022-12-01T18:11:00.003Z"
   },
   {
    "duration": 35,
    "start_time": "2022-12-01T18:11:00.039Z"
   },
   {
    "duration": 80,
    "start_time": "2022-12-01T18:11:00.076Z"
   },
   {
    "duration": 71,
    "start_time": "2022-12-01T18:11:00.159Z"
   },
   {
    "duration": 131,
    "start_time": "2022-12-01T18:11:00.233Z"
   },
   {
    "duration": 11,
    "start_time": "2022-12-01T18:11:00.366Z"
   },
   {
    "duration": 214,
    "start_time": "2022-12-01T18:11:00.379Z"
   },
   {
    "duration": 34,
    "start_time": "2022-12-01T18:11:00.596Z"
   },
   {
    "duration": 43,
    "start_time": "2022-12-01T18:11:00.632Z"
   },
   {
    "duration": 45,
    "start_time": "2022-12-01T18:11:00.676Z"
   },
   {
    "duration": 36,
    "start_time": "2022-12-01T18:11:00.723Z"
   },
   {
    "duration": 37,
    "start_time": "2022-12-01T18:11:00.762Z"
   },
   {
    "duration": 1250,
    "start_time": "2022-12-01T18:11:00.801Z"
   },
   {
    "duration": 5,
    "start_time": "2022-12-01T18:11:02.054Z"
   },
   {
    "duration": 704,
    "start_time": "2022-12-01T18:11:02.061Z"
   },
   {
    "duration": 22,
    "start_time": "2022-12-01T18:11:02.767Z"
   },
   {
    "duration": 4,
    "start_time": "2022-12-01T18:11:02.791Z"
   },
   {
    "duration": 25,
    "start_time": "2022-12-01T18:11:02.797Z"
   },
   {
    "duration": 16,
    "start_time": "2022-12-01T18:11:02.824Z"
   },
   {
    "duration": 139,
    "start_time": "2022-12-01T18:11:02.842Z"
   },
   {
    "duration": 13,
    "start_time": "2022-12-01T18:11:02.983Z"
   },
   {
    "duration": 146,
    "start_time": "2022-12-01T18:11:03.015Z"
   },
   {
    "duration": 5,
    "start_time": "2022-12-01T18:11:03.163Z"
   },
   {
    "duration": 14,
    "start_time": "2022-12-01T18:11:03.169Z"
   },
   {
    "duration": 30,
    "start_time": "2022-12-01T18:11:03.185Z"
   },
   {
    "duration": 7,
    "start_time": "2022-12-01T18:11:03.217Z"
   },
   {
    "duration": 16,
    "start_time": "2022-12-01T18:11:03.225Z"
   },
   {
    "duration": 160,
    "start_time": "2022-12-01T18:11:03.243Z"
   },
   {
    "duration": 15,
    "start_time": "2022-12-01T18:11:03.405Z"
   },
   {
    "duration": 15,
    "start_time": "2022-12-01T18:11:03.422Z"
   },
   {
    "duration": 151,
    "start_time": "2022-12-01T18:11:03.439Z"
   },
   {
    "duration": 8,
    "start_time": "2022-12-01T18:11:03.593Z"
   },
   {
    "duration": 20,
    "start_time": "2022-12-01T18:11:03.602Z"
   },
   {
    "duration": 10,
    "start_time": "2022-12-01T18:11:03.624Z"
   },
   {
    "duration": 16,
    "start_time": "2022-12-01T18:11:03.636Z"
   },
   {
    "duration": 169,
    "start_time": "2022-12-01T18:11:03.653Z"
   },
   {
    "duration": 12,
    "start_time": "2022-12-01T18:13:17.693Z"
   },
   {
    "duration": 132,
    "start_time": "2022-12-01T18:13:21.611Z"
   },
   {
    "duration": 10,
    "start_time": "2022-12-01T18:13:36.220Z"
   },
   {
    "duration": 158,
    "start_time": "2022-12-01T18:13:43.449Z"
   },
   {
    "duration": 10,
    "start_time": "2022-12-01T18:17:54.858Z"
   },
   {
    "duration": 129,
    "start_time": "2022-12-01T18:33:37.820Z"
   },
   {
    "duration": 125,
    "start_time": "2022-12-01T18:33:55.284Z"
   },
   {
    "duration": 14,
    "start_time": "2022-12-01T18:51:25.889Z"
   },
   {
    "duration": 12,
    "start_time": "2022-12-01T18:53:27.148Z"
   },
   {
    "duration": 173,
    "start_time": "2022-12-01T18:53:46.611Z"
   },
   {
    "duration": 132,
    "start_time": "2022-12-01T18:54:07.044Z"
   },
   {
    "duration": 125,
    "start_time": "2022-12-01T18:54:57.422Z"
   },
   {
    "duration": 143,
    "start_time": "2022-12-01T18:55:10.949Z"
   },
   {
    "duration": 94,
    "start_time": "2022-12-01T19:45:06.687Z"
   },
   {
    "duration": 25228,
    "start_time": "2022-12-01T19:45:37.046Z"
   },
   {
    "duration": 6,
    "start_time": "2022-12-01T19:46:18.679Z"
   },
   {
    "duration": 114,
    "start_time": "2022-12-01T19:46:27.484Z"
   },
   {
    "duration": 91,
    "start_time": "2022-12-01T19:46:37.078Z"
   },
   {
    "duration": 89,
    "start_time": "2022-12-01T19:46:49.197Z"
   },
   {
    "duration": 5,
    "start_time": "2022-12-01T19:47:15.874Z"
   },
   {
    "duration": 110,
    "start_time": "2022-12-01T19:49:03.875Z"
   },
   {
    "duration": 139,
    "start_time": "2022-12-01T19:50:35.962Z"
   },
   {
    "duration": 136,
    "start_time": "2022-12-01T19:50:55.382Z"
   },
   {
    "duration": 121,
    "start_time": "2022-12-01T19:51:15.196Z"
   },
   {
    "duration": 139,
    "start_time": "2022-12-01T19:51:34.035Z"
   },
   {
    "duration": 130,
    "start_time": "2022-12-01T19:52:33.677Z"
   },
   {
    "duration": 135,
    "start_time": "2022-12-01T19:53:29.296Z"
   },
   {
    "duration": 121,
    "start_time": "2022-12-01T19:53:39.397Z"
   },
   {
    "duration": 158,
    "start_time": "2022-12-01T19:54:20.852Z"
   },
   {
    "duration": 125,
    "start_time": "2022-12-01T19:54:41.469Z"
   },
   {
    "duration": 1053,
    "start_time": "2022-12-01T19:56:38.148Z"
   },
   {
    "duration": 10,
    "start_time": "2022-12-01T20:01:08.692Z"
   },
   {
    "duration": 110,
    "start_time": "2022-12-01T20:01:56.563Z"
   },
   {
    "duration": 45,
    "start_time": "2022-12-01T20:02:47.796Z"
   },
   {
    "duration": 118,
    "start_time": "2022-12-01T20:02:57.733Z"
   },
   {
    "duration": 69,
    "start_time": "2022-12-01T20:03:53.663Z"
   },
   {
    "duration": 127,
    "start_time": "2022-12-01T20:03:59.588Z"
   },
   {
    "duration": 118,
    "start_time": "2022-12-01T20:04:41.379Z"
   },
   {
    "duration": 127,
    "start_time": "2022-12-01T20:05:11.448Z"
   },
   {
    "duration": 164,
    "start_time": "2022-12-01T20:05:55.290Z"
   },
   {
    "duration": 1085,
    "start_time": "2022-12-01T20:40:19.964Z"
   },
   {
    "duration": 1138,
    "start_time": "2022-12-01T20:40:31.480Z"
   },
   {
    "duration": 103,
    "start_time": "2022-12-01T20:40:32.620Z"
   },
   {
    "duration": 4,
    "start_time": "2022-12-01T20:40:32.725Z"
   },
   {
    "duration": 54,
    "start_time": "2022-12-01T20:40:32.731Z"
   },
   {
    "duration": 31,
    "start_time": "2022-12-01T20:40:32.786Z"
   },
   {
    "duration": 10,
    "start_time": "2022-12-01T20:40:32.819Z"
   },
   {
    "duration": 10,
    "start_time": "2022-12-01T20:40:32.830Z"
   },
   {
    "duration": 42,
    "start_time": "2022-12-01T20:40:32.841Z"
   },
   {
    "duration": 35,
    "start_time": "2022-12-01T20:40:32.884Z"
   },
   {
    "duration": 8,
    "start_time": "2022-12-01T20:40:32.922Z"
   },
   {
    "duration": 8,
    "start_time": "2022-12-01T20:40:32.932Z"
   },
   {
    "duration": 91,
    "start_time": "2022-12-01T20:40:32.941Z"
   },
   {
    "duration": 6,
    "start_time": "2022-12-01T20:40:33.034Z"
   },
   {
    "duration": 14,
    "start_time": "2022-12-01T20:40:33.041Z"
   },
   {
    "duration": 70,
    "start_time": "2022-12-01T20:40:33.056Z"
   },
   {
    "duration": 5,
    "start_time": "2022-12-01T20:40:33.127Z"
   },
   {
    "duration": 15,
    "start_time": "2022-12-01T20:40:33.134Z"
   },
   {
    "duration": 8,
    "start_time": "2022-12-01T20:40:33.151Z"
   },
   {
    "duration": 10,
    "start_time": "2022-12-01T20:40:33.160Z"
   },
   {
    "duration": 6,
    "start_time": "2022-12-01T20:40:33.171Z"
   },
   {
    "duration": 8,
    "start_time": "2022-12-01T20:40:33.178Z"
   },
   {
    "duration": 6,
    "start_time": "2022-12-01T20:40:33.216Z"
   },
   {
    "duration": 7,
    "start_time": "2022-12-01T20:40:33.223Z"
   },
   {
    "duration": 7,
    "start_time": "2022-12-01T20:40:33.232Z"
   },
   {
    "duration": 7,
    "start_time": "2022-12-01T20:40:33.240Z"
   },
   {
    "duration": 6,
    "start_time": "2022-12-01T20:40:33.248Z"
   },
   {
    "duration": 8,
    "start_time": "2022-12-01T20:40:33.256Z"
   },
   {
    "duration": 11,
    "start_time": "2022-12-01T20:40:33.267Z"
   },
   {
    "duration": 37,
    "start_time": "2022-12-01T20:40:33.279Z"
   },
   {
    "duration": 12,
    "start_time": "2022-12-01T20:40:33.317Z"
   },
   {
    "duration": 11,
    "start_time": "2022-12-01T20:40:33.331Z"
   },
   {
    "duration": 14,
    "start_time": "2022-12-01T20:40:33.344Z"
   },
   {
    "duration": 10,
    "start_time": "2022-12-01T20:40:33.359Z"
   },
   {
    "duration": 18,
    "start_time": "2022-12-01T20:40:33.370Z"
   },
   {
    "duration": 18,
    "start_time": "2022-12-01T20:40:33.390Z"
   },
   {
    "duration": 8,
    "start_time": "2022-12-01T20:40:33.409Z"
   },
   {
    "duration": 11,
    "start_time": "2022-12-01T20:40:33.418Z"
   },
   {
    "duration": 7,
    "start_time": "2022-12-01T20:40:33.431Z"
   },
   {
    "duration": 27,
    "start_time": "2022-12-01T20:40:33.439Z"
   },
   {
    "duration": 93,
    "start_time": "2022-12-01T20:40:33.468Z"
   },
   {
    "duration": 8,
    "start_time": "2022-12-01T20:40:33.563Z"
   },
   {
    "duration": 7,
    "start_time": "2022-12-01T20:40:33.573Z"
   },
   {
    "duration": 40,
    "start_time": "2022-12-01T20:40:33.581Z"
   },
   {
    "duration": 16,
    "start_time": "2022-12-01T20:40:33.623Z"
   },
   {
    "duration": 20,
    "start_time": "2022-12-01T20:40:33.641Z"
   },
   {
    "duration": 3,
    "start_time": "2022-12-01T20:40:33.663Z"
   },
   {
    "duration": 5,
    "start_time": "2022-12-01T20:40:33.668Z"
   },
   {
    "duration": 1094,
    "start_time": "2022-12-01T20:40:33.675Z"
   },
   {
    "duration": 5,
    "start_time": "2022-12-01T20:40:34.771Z"
   },
   {
    "duration": 621,
    "start_time": "2022-12-01T20:40:34.778Z"
   },
   {
    "duration": 17,
    "start_time": "2022-12-01T20:40:35.401Z"
   },
   {
    "duration": 4,
    "start_time": "2022-12-01T20:40:35.419Z"
   },
   {
    "duration": 109,
    "start_time": "2022-12-01T20:40:35.424Z"
   },
   {
    "duration": 6,
    "start_time": "2022-12-01T20:40:35.535Z"
   },
   {
    "duration": 11,
    "start_time": "2022-12-01T20:40:35.543Z"
   },
   {
    "duration": 125,
    "start_time": "2022-12-01T20:40:35.555Z"
   },
   {
    "duration": 9,
    "start_time": "2022-12-01T20:40:35.682Z"
   },
   {
    "duration": 142,
    "start_time": "2022-12-01T20:40:35.693Z"
   },
   {
    "duration": 10,
    "start_time": "2022-12-01T20:40:35.836Z"
   },
   {
    "duration": 138,
    "start_time": "2022-12-01T20:40:35.848Z"
   },
   {
    "duration": 9,
    "start_time": "2022-12-01T20:40:35.987Z"
   },
   {
    "duration": 133,
    "start_time": "2022-12-01T20:40:35.998Z"
   },
   {
    "duration": 9,
    "start_time": "2022-12-01T20:40:36.132Z"
   },
   {
    "duration": 137,
    "start_time": "2022-12-01T20:40:36.143Z"
   },
   {
    "duration": 8,
    "start_time": "2022-12-01T20:40:36.282Z"
   },
   {
    "duration": 28,
    "start_time": "2022-12-01T20:40:36.292Z"
   },
   {
    "duration": 168,
    "start_time": "2022-12-01T20:40:36.322Z"
   },
   {
    "duration": 7,
    "start_time": "2022-12-01T20:40:36.491Z"
   },
   {
    "duration": 27,
    "start_time": "2022-12-01T20:40:36.499Z"
   },
   {
    "duration": 140,
    "start_time": "2022-12-01T20:40:36.528Z"
   },
   {
    "duration": 8,
    "start_time": "2022-12-01T20:40:36.670Z"
   },
   {
    "duration": 8,
    "start_time": "2022-12-01T20:40:36.679Z"
   },
   {
    "duration": 11,
    "start_time": "2022-12-01T20:40:36.689Z"
   },
   {
    "duration": 138,
    "start_time": "2022-12-01T20:40:36.715Z"
   },
   {
    "duration": 10,
    "start_time": "2022-12-01T20:40:36.855Z"
   },
   {
    "duration": 91,
    "start_time": "2022-12-01T20:43:06.753Z"
   },
   {
    "duration": 138,
    "start_time": "2022-12-01T20:43:41.611Z"
   },
   {
    "duration": 214,
    "start_time": "2022-12-01T20:44:24.684Z"
   },
   {
    "duration": 130,
    "start_time": "2022-12-01T20:45:34.637Z"
   },
   {
    "duration": 6,
    "start_time": "2022-12-01T20:55:08.504Z"
   },
   {
    "duration": 129,
    "start_time": "2022-12-01T21:03:54.014Z"
   },
   {
    "duration": 54,
    "start_time": "2022-12-01T21:18:16.927Z"
   },
   {
    "duration": 9,
    "start_time": "2022-12-01T21:23:23.359Z"
   },
   {
    "duration": 149,
    "start_time": "2022-12-01T21:29:22.283Z"
   },
   {
    "duration": 152,
    "start_time": "2022-12-01T21:29:45.294Z"
   },
   {
    "duration": 143,
    "start_time": "2022-12-01T21:29:58.301Z"
   },
   {
    "duration": 1290,
    "start_time": "2022-12-02T08:08:44.662Z"
   },
   {
    "duration": 341,
    "start_time": "2022-12-02T08:08:45.954Z"
   },
   {
    "duration": 3,
    "start_time": "2022-12-02T08:08:46.297Z"
   },
   {
    "duration": 64,
    "start_time": "2022-12-02T08:08:46.304Z"
   },
   {
    "duration": 5,
    "start_time": "2022-12-02T08:08:46.370Z"
   },
   {
    "duration": 9,
    "start_time": "2022-12-02T08:08:46.377Z"
   },
   {
    "duration": 35,
    "start_time": "2022-12-02T08:08:46.387Z"
   },
   {
    "duration": 43,
    "start_time": "2022-12-02T08:08:46.424Z"
   },
   {
    "duration": 6,
    "start_time": "2022-12-02T08:08:46.468Z"
   },
   {
    "duration": 8,
    "start_time": "2022-12-02T08:08:46.476Z"
   },
   {
    "duration": 37,
    "start_time": "2022-12-02T08:08:46.485Z"
   },
   {
    "duration": 64,
    "start_time": "2022-12-02T08:08:46.524Z"
   },
   {
    "duration": 31,
    "start_time": "2022-12-02T08:08:46.590Z"
   },
   {
    "duration": 5,
    "start_time": "2022-12-02T08:08:46.623Z"
   },
   {
    "duration": 41,
    "start_time": "2022-12-02T08:08:46.630Z"
   },
   {
    "duration": 5,
    "start_time": "2022-12-02T08:08:46.672Z"
   },
   {
    "duration": 47,
    "start_time": "2022-12-02T08:08:46.678Z"
   },
   {
    "duration": 22,
    "start_time": "2022-12-02T08:08:46.726Z"
   },
   {
    "duration": 27,
    "start_time": "2022-12-02T08:08:46.750Z"
   },
   {
    "duration": 18,
    "start_time": "2022-12-02T08:08:46.778Z"
   },
   {
    "duration": 10,
    "start_time": "2022-12-02T08:08:46.798Z"
   },
   {
    "duration": 16,
    "start_time": "2022-12-02T08:08:46.810Z"
   },
   {
    "duration": 10,
    "start_time": "2022-12-02T08:08:46.828Z"
   },
   {
    "duration": 30,
    "start_time": "2022-12-02T08:08:46.840Z"
   },
   {
    "duration": 16,
    "start_time": "2022-12-02T08:08:46.871Z"
   },
   {
    "duration": 15,
    "start_time": "2022-12-02T08:08:46.888Z"
   },
   {
    "duration": 17,
    "start_time": "2022-12-02T08:08:46.905Z"
   },
   {
    "duration": 32,
    "start_time": "2022-12-02T08:08:46.927Z"
   },
   {
    "duration": 9,
    "start_time": "2022-12-02T08:08:46.961Z"
   },
   {
    "duration": 13,
    "start_time": "2022-12-02T08:08:46.972Z"
   },
   {
    "duration": 11,
    "start_time": "2022-12-02T08:08:46.987Z"
   },
   {
    "duration": 18,
    "start_time": "2022-12-02T08:08:47.000Z"
   },
   {
    "duration": 10,
    "start_time": "2022-12-02T08:08:47.020Z"
   },
   {
    "duration": 17,
    "start_time": "2022-12-02T08:08:47.031Z"
   },
   {
    "duration": 12,
    "start_time": "2022-12-02T08:08:47.050Z"
   },
   {
    "duration": 22,
    "start_time": "2022-12-02T08:08:47.064Z"
   },
   {
    "duration": 18,
    "start_time": "2022-12-02T08:08:47.088Z"
   },
   {
    "duration": 8,
    "start_time": "2022-12-02T08:08:47.107Z"
   },
   {
    "duration": 37,
    "start_time": "2022-12-02T08:08:47.117Z"
   },
   {
    "duration": 90,
    "start_time": "2022-12-02T08:08:47.156Z"
   },
   {
    "duration": 8,
    "start_time": "2022-12-02T08:08:47.248Z"
   },
   {
    "duration": 10,
    "start_time": "2022-12-02T08:08:47.257Z"
   },
   {
    "duration": 10,
    "start_time": "2022-12-02T08:08:47.268Z"
   },
   {
    "duration": 42,
    "start_time": "2022-12-02T08:08:47.279Z"
   },
   {
    "duration": 21,
    "start_time": "2022-12-02T08:08:47.323Z"
   },
   {
    "duration": 8,
    "start_time": "2022-12-02T08:08:47.345Z"
   },
   {
    "duration": 8,
    "start_time": "2022-12-02T08:08:47.354Z"
   },
   {
    "duration": 1112,
    "start_time": "2022-12-02T08:08:47.363Z"
   },
   {
    "duration": 4,
    "start_time": "2022-12-02T08:08:48.477Z"
   },
   {
    "duration": 598,
    "start_time": "2022-12-02T08:08:48.482Z"
   },
   {
    "duration": 20,
    "start_time": "2022-12-02T08:08:49.082Z"
   },
   {
    "duration": 17,
    "start_time": "2022-12-02T08:08:49.104Z"
   },
   {
    "duration": 111,
    "start_time": "2022-12-02T08:08:49.122Z"
   },
   {
    "duration": 6,
    "start_time": "2022-12-02T08:08:49.235Z"
   },
   {
    "duration": 16,
    "start_time": "2022-12-02T08:08:49.243Z"
   },
   {
    "duration": 126,
    "start_time": "2022-12-02T08:08:49.261Z"
   },
   {
    "duration": 9,
    "start_time": "2022-12-02T08:08:49.388Z"
   },
   {
    "duration": 150,
    "start_time": "2022-12-02T08:08:49.398Z"
   },
   {
    "duration": 9,
    "start_time": "2022-12-02T08:08:49.550Z"
   },
   {
    "duration": 133,
    "start_time": "2022-12-02T08:08:49.561Z"
   },
   {
    "duration": 11,
    "start_time": "2022-12-02T08:08:49.695Z"
   },
   {
    "duration": 151,
    "start_time": "2022-12-02T08:08:49.707Z"
   },
   {
    "duration": 9,
    "start_time": "2022-12-02T08:08:49.860Z"
   },
   {
    "duration": 124,
    "start_time": "2022-12-02T08:08:49.871Z"
   },
   {
    "duration": 7,
    "start_time": "2022-12-02T08:08:49.996Z"
   },
   {
    "duration": 24,
    "start_time": "2022-12-02T08:08:50.004Z"
   },
   {
    "duration": 144,
    "start_time": "2022-12-02T08:08:50.030Z"
   },
   {
    "duration": 6,
    "start_time": "2022-12-02T08:08:50.177Z"
   },
   {
    "duration": 22,
    "start_time": "2022-12-02T08:08:50.185Z"
   },
   {
    "duration": 156,
    "start_time": "2022-12-02T08:08:50.209Z"
   },
   {
    "duration": 6,
    "start_time": "2022-12-02T08:08:50.367Z"
   },
   {
    "duration": 15,
    "start_time": "2022-12-02T08:08:50.375Z"
   },
   {
    "duration": 155,
    "start_time": "2022-12-02T08:08:50.391Z"
   },
   {
    "duration": 7,
    "start_time": "2022-12-02T08:08:50.548Z"
   },
   {
    "duration": 23,
    "start_time": "2022-12-02T08:08:50.557Z"
   },
   {
    "duration": 6,
    "start_time": "2022-12-02T08:09:23.907Z"
   },
   {
    "duration": 11,
    "start_time": "2022-12-02T08:09:28.187Z"
   },
   {
    "duration": 6,
    "start_time": "2022-12-02T08:10:04.405Z"
   },
   {
    "duration": 12,
    "start_time": "2022-12-02T08:10:07.516Z"
   },
   {
    "duration": 139,
    "start_time": "2022-12-02T08:10:20.369Z"
   },
   {
    "duration": 135,
    "start_time": "2022-12-02T08:10:43.254Z"
   },
   {
    "duration": 8,
    "start_time": "2022-12-02T08:11:44.537Z"
   },
   {
    "duration": 11,
    "start_time": "2022-12-02T08:11:49.656Z"
   },
   {
    "duration": 242,
    "start_time": "2022-12-02T08:12:02.446Z"
   },
   {
    "duration": 98,
    "start_time": "2022-12-02T08:12:46.666Z"
   },
   {
    "duration": 6,
    "start_time": "2022-12-02T08:12:53.917Z"
   },
   {
    "duration": 11,
    "start_time": "2022-12-02T08:12:56.676Z"
   },
   {
    "duration": 137,
    "start_time": "2022-12-02T08:12:59.080Z"
   },
   {
    "duration": 10,
    "start_time": "2022-12-02T08:26:36.689Z"
   },
   {
    "duration": 8,
    "start_time": "2022-12-02T08:43:48.413Z"
   },
   {
    "duration": 4,
    "start_time": "2022-12-02T08:43:52.485Z"
   },
   {
    "duration": 25,
    "start_time": "2022-12-02T08:44:29.875Z"
   },
   {
    "duration": 17,
    "start_time": "2022-12-02T09:16:43.978Z"
   },
   {
    "duration": 40,
    "start_time": "2022-12-02T09:46:38.491Z"
   },
   {
    "duration": 12,
    "start_time": "2022-12-02T09:47:23.020Z"
   },
   {
    "duration": 1077,
    "start_time": "2022-12-02T09:47:43.442Z"
   },
   {
    "duration": 108,
    "start_time": "2022-12-02T09:47:44.521Z"
   },
   {
    "duration": 4,
    "start_time": "2022-12-02T09:47:44.631Z"
   },
   {
    "duration": 71,
    "start_time": "2022-12-02T09:47:44.637Z"
   },
   {
    "duration": 6,
    "start_time": "2022-12-02T09:47:44.720Z"
   },
   {
    "duration": 14,
    "start_time": "2022-12-02T09:47:44.727Z"
   },
   {
    "duration": 23,
    "start_time": "2022-12-02T09:47:44.743Z"
   },
   {
    "duration": 65,
    "start_time": "2022-12-02T09:47:44.768Z"
   },
   {
    "duration": 5,
    "start_time": "2022-12-02T09:47:44.834Z"
   },
   {
    "duration": 13,
    "start_time": "2022-12-02T09:47:44.841Z"
   },
   {
    "duration": 26,
    "start_time": "2022-12-02T09:47:44.855Z"
   },
   {
    "duration": 74,
    "start_time": "2022-12-02T09:47:44.882Z"
   },
   {
    "duration": 5,
    "start_time": "2022-12-02T09:47:44.957Z"
   },
   {
    "duration": 17,
    "start_time": "2022-12-02T09:47:44.963Z"
   },
   {
    "duration": 63,
    "start_time": "2022-12-02T09:47:44.981Z"
   },
   {
    "duration": 5,
    "start_time": "2022-12-02T09:47:45.045Z"
   },
   {
    "duration": 17,
    "start_time": "2022-12-02T09:47:45.051Z"
   },
   {
    "duration": 13,
    "start_time": "2022-12-02T09:47:45.069Z"
   },
   {
    "duration": 19,
    "start_time": "2022-12-02T09:47:45.083Z"
   },
   {
    "duration": 20,
    "start_time": "2022-12-02T09:47:45.103Z"
   },
   {
    "duration": 21,
    "start_time": "2022-12-02T09:47:45.125Z"
   },
   {
    "duration": 9,
    "start_time": "2022-12-02T09:47:45.147Z"
   },
   {
    "duration": 37,
    "start_time": "2022-12-02T09:47:45.157Z"
   },
   {
    "duration": 13,
    "start_time": "2022-12-02T09:47:45.196Z"
   },
   {
    "duration": 7,
    "start_time": "2022-12-02T09:47:45.210Z"
   },
   {
    "duration": 10,
    "start_time": "2022-12-02T09:47:45.219Z"
   },
   {
    "duration": 17,
    "start_time": "2022-12-02T09:47:45.230Z"
   },
   {
    "duration": 26,
    "start_time": "2022-12-02T09:47:45.250Z"
   },
   {
    "duration": 40,
    "start_time": "2022-12-02T09:47:45.277Z"
   },
   {
    "duration": 20,
    "start_time": "2022-12-02T09:47:45.319Z"
   },
   {
    "duration": 42,
    "start_time": "2022-12-02T09:47:45.341Z"
   },
   {
    "duration": 19,
    "start_time": "2022-12-02T09:47:45.385Z"
   },
   {
    "duration": 24,
    "start_time": "2022-12-02T09:47:45.406Z"
   },
   {
    "duration": 34,
    "start_time": "2022-12-02T09:47:45.432Z"
   },
   {
    "duration": 41,
    "start_time": "2022-12-02T09:47:45.468Z"
   },
   {
    "duration": 25,
    "start_time": "2022-12-02T09:47:45.511Z"
   },
   {
    "duration": 25,
    "start_time": "2022-12-02T09:47:45.538Z"
   },
   {
    "duration": 25,
    "start_time": "2022-12-02T09:47:45.564Z"
   },
   {
    "duration": 28,
    "start_time": "2022-12-02T09:47:45.590Z"
   },
   {
    "duration": 104,
    "start_time": "2022-12-02T09:47:45.620Z"
   },
   {
    "duration": 9,
    "start_time": "2022-12-02T09:47:45.726Z"
   },
   {
    "duration": 14,
    "start_time": "2022-12-02T09:47:45.737Z"
   },
   {
    "duration": 12,
    "start_time": "2022-12-02T09:47:45.753Z"
   },
   {
    "duration": 21,
    "start_time": "2022-12-02T09:47:45.766Z"
   },
   {
    "duration": 32,
    "start_time": "2022-12-02T09:47:45.789Z"
   },
   {
    "duration": 4,
    "start_time": "2022-12-02T09:47:45.822Z"
   },
   {
    "duration": 11,
    "start_time": "2022-12-02T09:47:45.828Z"
   },
   {
    "duration": 1098,
    "start_time": "2022-12-02T09:47:45.840Z"
   },
   {
    "duration": 4,
    "start_time": "2022-12-02T09:47:46.940Z"
   },
   {
    "duration": 590,
    "start_time": "2022-12-02T09:47:46.946Z"
   },
   {
    "duration": 17,
    "start_time": "2022-12-02T09:47:47.537Z"
   },
   {
    "duration": 11,
    "start_time": "2022-12-02T09:47:47.555Z"
   },
   {
    "duration": 98,
    "start_time": "2022-12-02T09:47:47.567Z"
   },
   {
    "duration": 6,
    "start_time": "2022-12-02T09:47:47.667Z"
   },
   {
    "duration": 22,
    "start_time": "2022-12-02T09:47:47.674Z"
   },
   {
    "duration": 119,
    "start_time": "2022-12-02T09:47:47.698Z"
   },
   {
    "duration": 10,
    "start_time": "2022-12-02T09:47:47.821Z"
   },
   {
    "duration": 141,
    "start_time": "2022-12-02T09:47:47.833Z"
   },
   {
    "duration": 13,
    "start_time": "2022-12-02T09:47:47.975Z"
   },
   {
    "duration": 134,
    "start_time": "2022-12-02T09:47:47.990Z"
   },
   {
    "duration": 9,
    "start_time": "2022-12-02T09:47:48.126Z"
   },
   {
    "duration": 138,
    "start_time": "2022-12-02T09:47:48.137Z"
   },
   {
    "duration": 11,
    "start_time": "2022-12-02T09:47:48.277Z"
   },
   {
    "duration": 132,
    "start_time": "2022-12-02T09:47:48.289Z"
   },
   {
    "duration": 7,
    "start_time": "2022-12-02T09:47:48.423Z"
   },
   {
    "duration": 17,
    "start_time": "2022-12-02T09:47:48.431Z"
   },
   {
    "duration": 152,
    "start_time": "2022-12-02T09:47:48.450Z"
   },
   {
    "duration": 17,
    "start_time": "2022-12-02T09:47:48.604Z"
   },
   {
    "duration": 9,
    "start_time": "2022-12-02T09:47:48.623Z"
   },
   {
    "duration": 151,
    "start_time": "2022-12-02T09:47:48.634Z"
   },
   {
    "duration": 6,
    "start_time": "2022-12-02T09:47:48.787Z"
   },
   {
    "duration": 10,
    "start_time": "2022-12-02T09:47:48.794Z"
   },
   {
    "duration": 141,
    "start_time": "2022-12-02T09:47:48.820Z"
   },
   {
    "duration": 7,
    "start_time": "2022-12-02T09:47:48.963Z"
   },
   {
    "duration": 22,
    "start_time": "2022-12-02T09:47:48.971Z"
   },
   {
    "duration": 107,
    "start_time": "2022-12-02T09:47:48.994Z"
   },
   {
    "duration": 0,
    "start_time": "2022-12-02T09:47:49.103Z"
   },
   {
    "duration": 0,
    "start_time": "2022-12-02T09:47:49.104Z"
   },
   {
    "duration": 22,
    "start_time": "2022-12-02T09:48:07.622Z"
   },
   {
    "duration": 39,
    "start_time": "2022-12-02T09:50:40.877Z"
   },
   {
    "duration": 26,
    "start_time": "2022-12-02T09:51:20.674Z"
   },
   {
    "duration": 24,
    "start_time": "2022-12-02T09:51:43.056Z"
   },
   {
    "duration": 12,
    "start_time": "2022-12-02T09:52:48.209Z"
   },
   {
    "duration": 1065,
    "start_time": "2022-12-02T09:52:53.939Z"
   },
   {
    "duration": 98,
    "start_time": "2022-12-02T09:52:55.005Z"
   },
   {
    "duration": 3,
    "start_time": "2022-12-02T09:52:55.105Z"
   },
   {
    "duration": 65,
    "start_time": "2022-12-02T09:52:55.111Z"
   },
   {
    "duration": 6,
    "start_time": "2022-12-02T09:52:55.177Z"
   },
   {
    "duration": 15,
    "start_time": "2022-12-02T09:52:55.184Z"
   },
   {
    "duration": 26,
    "start_time": "2022-12-02T09:52:55.200Z"
   },
   {
    "duration": 63,
    "start_time": "2022-12-02T09:52:55.228Z"
   },
   {
    "duration": 6,
    "start_time": "2022-12-02T09:52:55.292Z"
   },
   {
    "duration": 15,
    "start_time": "2022-12-02T09:52:55.322Z"
   },
   {
    "duration": 25,
    "start_time": "2022-12-02T09:52:55.338Z"
   },
   {
    "duration": 82,
    "start_time": "2022-12-02T09:52:55.365Z"
   },
   {
    "duration": 6,
    "start_time": "2022-12-02T09:52:55.449Z"
   },
   {
    "duration": 22,
    "start_time": "2022-12-02T09:52:55.458Z"
   },
   {
    "duration": 64,
    "start_time": "2022-12-02T09:52:55.481Z"
   },
   {
    "duration": 6,
    "start_time": "2022-12-02T09:52:55.546Z"
   },
   {
    "duration": 20,
    "start_time": "2022-12-02T09:52:55.553Z"
   },
   {
    "duration": 27,
    "start_time": "2022-12-02T09:52:55.574Z"
   },
   {
    "duration": 21,
    "start_time": "2022-12-02T09:52:55.602Z"
   },
   {
    "duration": 23,
    "start_time": "2022-12-02T09:52:55.625Z"
   },
   {
    "duration": 15,
    "start_time": "2022-12-02T09:52:55.649Z"
   },
   {
    "duration": 17,
    "start_time": "2022-12-02T09:52:55.666Z"
   },
   {
    "duration": 19,
    "start_time": "2022-12-02T09:52:55.685Z"
   },
   {
    "duration": 26,
    "start_time": "2022-12-02T09:52:55.705Z"
   },
   {
    "duration": 32,
    "start_time": "2022-12-02T09:52:55.733Z"
   },
   {
    "duration": 19,
    "start_time": "2022-12-02T09:52:55.767Z"
   },
   {
    "duration": 10,
    "start_time": "2022-12-02T09:52:55.787Z"
   },
   {
    "duration": 22,
    "start_time": "2022-12-02T09:52:55.801Z"
   },
   {
    "duration": 20,
    "start_time": "2022-12-02T09:52:55.824Z"
   },
   {
    "duration": 26,
    "start_time": "2022-12-02T09:52:55.845Z"
   },
   {
    "duration": 10,
    "start_time": "2022-12-02T09:52:55.873Z"
   },
   {
    "duration": 14,
    "start_time": "2022-12-02T09:52:55.884Z"
   },
   {
    "duration": 7,
    "start_time": "2022-12-02T09:52:55.899Z"
   },
   {
    "duration": 5,
    "start_time": "2022-12-02T09:52:55.908Z"
   },
   {
    "duration": 15,
    "start_time": "2022-12-02T09:52:55.914Z"
   },
   {
    "duration": 4,
    "start_time": "2022-12-02T09:52:55.930Z"
   },
   {
    "duration": 11,
    "start_time": "2022-12-02T09:52:55.936Z"
   },
   {
    "duration": 12,
    "start_time": "2022-12-02T09:52:55.949Z"
   },
   {
    "duration": 23,
    "start_time": "2022-12-02T09:52:55.963Z"
   },
   {
    "duration": 96,
    "start_time": "2022-12-02T09:52:55.988Z"
   },
   {
    "duration": 40,
    "start_time": "2022-12-02T09:52:56.086Z"
   },
   {
    "duration": 8,
    "start_time": "2022-12-02T09:52:56.127Z"
   },
   {
    "duration": 9,
    "start_time": "2022-12-02T09:52:56.136Z"
   },
   {
    "duration": 16,
    "start_time": "2022-12-02T09:52:56.146Z"
   },
   {
    "duration": 19,
    "start_time": "2022-12-02T09:52:56.164Z"
   },
   {
    "duration": 3,
    "start_time": "2022-12-02T09:52:56.184Z"
   },
   {
    "duration": 8,
    "start_time": "2022-12-02T09:52:56.188Z"
   },
   {
    "duration": 1061,
    "start_time": "2022-12-02T09:52:56.197Z"
   },
   {
    "duration": 5,
    "start_time": "2022-12-02T09:52:57.260Z"
   },
   {
    "duration": 582,
    "start_time": "2022-12-02T09:52:57.266Z"
   },
   {
    "duration": 18,
    "start_time": "2022-12-02T09:52:57.849Z"
   },
   {
    "duration": 4,
    "start_time": "2022-12-02T09:52:57.868Z"
   },
   {
    "duration": 100,
    "start_time": "2022-12-02T09:52:57.874Z"
   },
   {
    "duration": 6,
    "start_time": "2022-12-02T09:52:57.976Z"
   },
   {
    "duration": 18,
    "start_time": "2022-12-02T09:52:57.983Z"
   },
   {
    "duration": 131,
    "start_time": "2022-12-02T09:52:58.002Z"
   },
   {
    "duration": 10,
    "start_time": "2022-12-02T09:52:58.135Z"
   },
   {
    "duration": 143,
    "start_time": "2022-12-02T09:52:58.146Z"
   },
   {
    "duration": 10,
    "start_time": "2022-12-02T09:52:58.291Z"
   },
   {
    "duration": 141,
    "start_time": "2022-12-02T09:52:58.303Z"
   },
   {
    "duration": 11,
    "start_time": "2022-12-02T09:52:58.446Z"
   },
   {
    "duration": 155,
    "start_time": "2022-12-02T09:52:58.458Z"
   },
   {
    "duration": 13,
    "start_time": "2022-12-02T09:52:58.615Z"
   },
   {
    "duration": 117,
    "start_time": "2022-12-02T09:52:58.629Z"
   },
   {
    "duration": 6,
    "start_time": "2022-12-02T09:52:58.748Z"
   },
   {
    "duration": 14,
    "start_time": "2022-12-02T09:52:58.755Z"
   },
   {
    "duration": 150,
    "start_time": "2022-12-02T09:52:58.771Z"
   },
   {
    "duration": 6,
    "start_time": "2022-12-02T09:52:58.922Z"
   },
   {
    "duration": 10,
    "start_time": "2022-12-02T09:52:58.930Z"
   },
   {
    "duration": 150,
    "start_time": "2022-12-02T09:52:58.941Z"
   },
   {
    "duration": 7,
    "start_time": "2022-12-02T09:52:59.092Z"
   },
   {
    "duration": 22,
    "start_time": "2022-12-02T09:52:59.100Z"
   },
   {
    "duration": 137,
    "start_time": "2022-12-02T09:52:59.123Z"
   },
   {
    "duration": 7,
    "start_time": "2022-12-02T09:52:59.261Z"
   },
   {
    "duration": 17,
    "start_time": "2022-12-02T09:52:59.270Z"
   },
   {
    "duration": 35,
    "start_time": "2022-12-02T09:52:59.288Z"
   },
   {
    "duration": 19,
    "start_time": "2022-12-02T09:52:59.324Z"
   },
   {
    "duration": 13,
    "start_time": "2022-12-02T09:52:59.344Z"
   },
   {
    "duration": 21,
    "start_time": "2022-12-02T09:56:22.550Z"
   },
   {
    "duration": 4,
    "start_time": "2022-12-02T09:56:26.900Z"
   },
   {
    "duration": 3,
    "start_time": "2022-12-02T09:57:34.113Z"
   },
   {
    "duration": 20,
    "start_time": "2022-12-02T09:57:49.561Z"
   },
   {
    "duration": 3,
    "start_time": "2022-12-02T09:57:54.287Z"
   },
   {
    "duration": 20,
    "start_time": "2022-12-02T09:57:59.791Z"
   },
   {
    "duration": 19,
    "start_time": "2022-12-02T09:58:14.124Z"
   },
   {
    "duration": 99,
    "start_time": "2022-12-02T09:59:33.854Z"
   },
   {
    "duration": 1111,
    "start_time": "2022-12-02T09:59:49.886Z"
   },
   {
    "duration": 101,
    "start_time": "2022-12-02T09:59:50.999Z"
   },
   {
    "duration": 4,
    "start_time": "2022-12-02T09:59:51.101Z"
   },
   {
    "duration": 59,
    "start_time": "2022-12-02T09:59:51.107Z"
   },
   {
    "duration": 6,
    "start_time": "2022-12-02T09:59:51.167Z"
   },
   {
    "duration": 8,
    "start_time": "2022-12-02T09:59:51.174Z"
   },
   {
    "duration": 36,
    "start_time": "2022-12-02T09:59:51.183Z"
   },
   {
    "duration": 50,
    "start_time": "2022-12-02T09:59:51.221Z"
   },
   {
    "duration": 8,
    "start_time": "2022-12-02T09:59:51.273Z"
   },
   {
    "duration": 19,
    "start_time": "2022-12-02T09:59:51.284Z"
   },
   {
    "duration": 5,
    "start_time": "2022-12-02T09:59:51.321Z"
   },
   {
    "duration": 62,
    "start_time": "2022-12-02T09:59:51.327Z"
   },
   {
    "duration": 32,
    "start_time": "2022-12-02T09:59:51.390Z"
   },
   {
    "duration": 22,
    "start_time": "2022-12-02T09:59:51.424Z"
   },
   {
    "duration": 52,
    "start_time": "2022-12-02T09:59:51.447Z"
   },
   {
    "duration": 5,
    "start_time": "2022-12-02T09:59:51.501Z"
   },
   {
    "duration": 30,
    "start_time": "2022-12-02T09:59:51.508Z"
   },
   {
    "duration": 7,
    "start_time": "2022-12-02T09:59:51.540Z"
   },
   {
    "duration": 13,
    "start_time": "2022-12-02T09:59:51.548Z"
   },
   {
    "duration": 8,
    "start_time": "2022-12-02T09:59:51.562Z"
   },
   {
    "duration": 11,
    "start_time": "2022-12-02T09:59:51.571Z"
   },
   {
    "duration": 29,
    "start_time": "2022-12-02T09:59:51.583Z"
   },
   {
    "duration": 22,
    "start_time": "2022-12-02T09:59:51.613Z"
   },
   {
    "duration": 27,
    "start_time": "2022-12-02T09:59:51.637Z"
   },
   {
    "duration": 18,
    "start_time": "2022-12-02T09:59:51.665Z"
   },
   {
    "duration": 17,
    "start_time": "2022-12-02T09:59:51.684Z"
   },
   {
    "duration": 7,
    "start_time": "2022-12-02T09:59:51.703Z"
   },
   {
    "duration": 20,
    "start_time": "2022-12-02T09:59:51.714Z"
   },
   {
    "duration": 23,
    "start_time": "2022-12-02T09:59:51.735Z"
   },
   {
    "duration": 15,
    "start_time": "2022-12-02T09:59:51.760Z"
   },
   {
    "duration": 10,
    "start_time": "2022-12-02T09:59:51.776Z"
   },
   {
    "duration": 17,
    "start_time": "2022-12-02T09:59:51.788Z"
   },
   {
    "duration": 12,
    "start_time": "2022-12-02T09:59:51.806Z"
   },
   {
    "duration": 22,
    "start_time": "2022-12-02T09:59:51.819Z"
   },
   {
    "duration": 35,
    "start_time": "2022-12-02T09:59:51.843Z"
   },
   {
    "duration": 11,
    "start_time": "2022-12-02T09:59:51.880Z"
   },
   {
    "duration": 25,
    "start_time": "2022-12-02T09:59:51.892Z"
   },
   {
    "duration": 21,
    "start_time": "2022-12-02T09:59:51.918Z"
   },
   {
    "duration": 34,
    "start_time": "2022-12-02T09:59:51.941Z"
   },
   {
    "duration": 80,
    "start_time": "2022-12-02T09:59:51.977Z"
   },
   {
    "duration": 8,
    "start_time": "2022-12-02T09:59:52.058Z"
   },
   {
    "duration": 7,
    "start_time": "2022-12-02T09:59:52.068Z"
   },
   {
    "duration": 10,
    "start_time": "2022-12-02T09:59:52.076Z"
   },
   {
    "duration": 36,
    "start_time": "2022-12-02T09:59:52.087Z"
   },
   {
    "duration": 34,
    "start_time": "2022-12-02T09:59:52.125Z"
   },
   {
    "duration": 17,
    "start_time": "2022-12-02T09:59:52.160Z"
   },
   {
    "duration": 61,
    "start_time": "2022-12-02T09:59:52.178Z"
   },
   {
    "duration": 1085,
    "start_time": "2022-12-02T09:59:52.241Z"
   },
   {
    "duration": 3,
    "start_time": "2022-12-02T09:59:53.328Z"
   },
   {
    "duration": 580,
    "start_time": "2022-12-02T09:59:53.333Z"
   },
   {
    "duration": 16,
    "start_time": "2022-12-02T09:59:53.921Z"
   },
   {
    "duration": 17,
    "start_time": "2022-12-02T09:59:53.939Z"
   },
   {
    "duration": 100,
    "start_time": "2022-12-02T09:59:53.957Z"
   },
   {
    "duration": 5,
    "start_time": "2022-12-02T09:59:54.059Z"
   },
   {
    "duration": 26,
    "start_time": "2022-12-02T09:59:54.066Z"
   },
   {
    "duration": 117,
    "start_time": "2022-12-02T09:59:54.093Z"
   },
   {
    "duration": 16,
    "start_time": "2022-12-02T09:59:54.211Z"
   },
   {
    "duration": 138,
    "start_time": "2022-12-02T09:59:54.228Z"
   },
   {
    "duration": 10,
    "start_time": "2022-12-02T09:59:54.367Z"
   },
   {
    "duration": 131,
    "start_time": "2022-12-02T09:59:54.379Z"
   },
   {
    "duration": 15,
    "start_time": "2022-12-02T09:59:54.512Z"
   },
   {
    "duration": 131,
    "start_time": "2022-12-02T09:59:54.528Z"
   },
   {
    "duration": 9,
    "start_time": "2022-12-02T09:59:54.660Z"
   },
   {
    "duration": 140,
    "start_time": "2022-12-02T09:59:54.670Z"
   },
   {
    "duration": 9,
    "start_time": "2022-12-02T09:59:54.812Z"
   },
   {
    "duration": 10,
    "start_time": "2022-12-02T09:59:54.822Z"
   },
   {
    "duration": 149,
    "start_time": "2022-12-02T09:59:54.833Z"
   },
   {
    "duration": 6,
    "start_time": "2022-12-02T09:59:54.984Z"
   },
   {
    "duration": 11,
    "start_time": "2022-12-02T09:59:54.992Z"
   },
   {
    "duration": 151,
    "start_time": "2022-12-02T09:59:55.004Z"
   },
   {
    "duration": 6,
    "start_time": "2022-12-02T09:59:55.157Z"
   },
   {
    "duration": 9,
    "start_time": "2022-12-02T09:59:55.164Z"
   },
   {
    "duration": 150,
    "start_time": "2022-12-02T09:59:55.175Z"
   },
   {
    "duration": 7,
    "start_time": "2022-12-02T09:59:55.327Z"
   },
   {
    "duration": 10,
    "start_time": "2022-12-02T09:59:55.336Z"
   },
   {
    "duration": 21,
    "start_time": "2022-12-02T09:59:55.348Z"
   },
   {
    "duration": 9,
    "start_time": "2022-12-02T09:59:55.371Z"
   },
   {
    "duration": 40,
    "start_time": "2022-12-02T09:59:55.381Z"
   },
   {
    "duration": 4,
    "start_time": "2022-12-02T09:59:55.423Z"
   },
   {
    "duration": 5,
    "start_time": "2022-12-02T10:04:59.606Z"
   },
   {
    "duration": 313,
    "start_time": "2022-12-02T10:07:56.484Z"
   },
   {
    "duration": 472,
    "start_time": "2022-12-02T10:12:05.229Z"
   },
   {
    "duration": 17,
    "start_time": "2022-12-02T10:12:16.524Z"
   },
   {
    "duration": 101,
    "start_time": "2022-12-02T10:16:55.092Z"
   },
   {
    "duration": 1229,
    "start_time": "2022-12-02T10:24:38.778Z"
   },
   {
    "duration": 99,
    "start_time": "2022-12-02T10:24:40.008Z"
   },
   {
    "duration": 3,
    "start_time": "2022-12-02T10:24:40.108Z"
   },
   {
    "duration": 59,
    "start_time": "2022-12-02T10:24:40.113Z"
   },
   {
    "duration": 5,
    "start_time": "2022-12-02T10:24:40.174Z"
   },
   {
    "duration": 11,
    "start_time": "2022-12-02T10:24:40.180Z"
   },
   {
    "duration": 11,
    "start_time": "2022-12-02T10:24:40.192Z"
   },
   {
    "duration": 37,
    "start_time": "2022-12-02T10:24:40.220Z"
   },
   {
    "duration": 5,
    "start_time": "2022-12-02T10:24:40.259Z"
   },
   {
    "duration": 15,
    "start_time": "2022-12-02T10:24:40.266Z"
   },
   {
    "duration": 8,
    "start_time": "2022-12-02T10:24:40.282Z"
   },
   {
    "duration": 59,
    "start_time": "2022-12-02T10:24:40.321Z"
   },
   {
    "duration": 5,
    "start_time": "2022-12-02T10:24:40.381Z"
   },
   {
    "duration": 19,
    "start_time": "2022-12-02T10:24:40.388Z"
   },
   {
    "duration": 38,
    "start_time": "2022-12-02T10:24:40.421Z"
   },
   {
    "duration": 5,
    "start_time": "2022-12-02T10:24:40.460Z"
   },
   {
    "duration": 21,
    "start_time": "2022-12-02T10:24:40.467Z"
   },
   {
    "duration": 9,
    "start_time": "2022-12-02T10:24:40.521Z"
   },
   {
    "duration": 10,
    "start_time": "2022-12-02T10:24:40.531Z"
   },
   {
    "duration": 6,
    "start_time": "2022-12-02T10:24:40.542Z"
   },
   {
    "duration": 9,
    "start_time": "2022-12-02T10:24:40.549Z"
   },
   {
    "duration": 9,
    "start_time": "2022-12-02T10:24:40.559Z"
   },
   {
    "duration": 23,
    "start_time": "2022-12-02T10:24:40.570Z"
   },
   {
    "duration": 9,
    "start_time": "2022-12-02T10:24:40.594Z"
   },
   {
    "duration": 17,
    "start_time": "2022-12-02T10:24:40.605Z"
   },
   {
    "duration": 5,
    "start_time": "2022-12-02T10:24:40.623Z"
   },
   {
    "duration": 9,
    "start_time": "2022-12-02T10:24:40.629Z"
   },
   {
    "duration": 13,
    "start_time": "2022-12-02T10:24:40.641Z"
   },
   {
    "duration": 5,
    "start_time": "2022-12-02T10:24:40.656Z"
   },
   {
    "duration": 16,
    "start_time": "2022-12-02T10:24:40.662Z"
   },
   {
    "duration": 11,
    "start_time": "2022-12-02T10:24:40.679Z"
   },
   {
    "duration": 30,
    "start_time": "2022-12-02T10:24:40.692Z"
   },
   {
    "duration": 8,
    "start_time": "2022-12-02T10:24:40.723Z"
   },
   {
    "duration": 18,
    "start_time": "2022-12-02T10:24:40.732Z"
   },
   {
    "duration": 15,
    "start_time": "2022-12-02T10:24:40.751Z"
   },
   {
    "duration": 6,
    "start_time": "2022-12-02T10:24:40.768Z"
   },
   {
    "duration": 14,
    "start_time": "2022-12-02T10:24:40.776Z"
   },
   {
    "duration": 11,
    "start_time": "2022-12-02T10:24:40.792Z"
   },
   {
    "duration": 29,
    "start_time": "2022-12-02T10:24:40.804Z"
   },
   {
    "duration": 93,
    "start_time": "2022-12-02T10:24:40.834Z"
   },
   {
    "duration": 8,
    "start_time": "2022-12-02T10:24:40.929Z"
   },
   {
    "duration": 14,
    "start_time": "2022-12-02T10:24:40.939Z"
   },
   {
    "duration": 9,
    "start_time": "2022-12-02T10:24:40.955Z"
   },
   {
    "duration": 15,
    "start_time": "2022-12-02T10:24:40.966Z"
   },
   {
    "duration": 20,
    "start_time": "2022-12-02T10:24:40.982Z"
   },
   {
    "duration": 3,
    "start_time": "2022-12-02T10:24:41.022Z"
   },
   {
    "duration": 17,
    "start_time": "2022-12-02T10:24:41.026Z"
   },
   {
    "duration": 1161,
    "start_time": "2022-12-02T10:24:41.044Z"
   },
   {
    "duration": 4,
    "start_time": "2022-12-02T10:24:42.206Z"
   },
   {
    "duration": 531,
    "start_time": "2022-12-02T10:24:42.211Z"
   },
   {
    "duration": 16,
    "start_time": "2022-12-02T10:24:42.744Z"
   },
   {
    "duration": 4,
    "start_time": "2022-12-02T10:24:42.762Z"
   },
   {
    "duration": 121,
    "start_time": "2022-12-02T10:24:42.767Z"
   },
   {
    "duration": 6,
    "start_time": "2022-12-02T10:24:42.889Z"
   },
   {
    "duration": 12,
    "start_time": "2022-12-02T10:24:42.896Z"
   },
   {
    "duration": 127,
    "start_time": "2022-12-02T10:24:42.909Z"
   },
   {
    "duration": 11,
    "start_time": "2022-12-02T10:24:43.037Z"
   },
   {
    "duration": 151,
    "start_time": "2022-12-02T10:24:43.050Z"
   },
   {
    "duration": 21,
    "start_time": "2022-12-02T10:24:43.203Z"
   },
   {
    "duration": 127,
    "start_time": "2022-12-02T10:24:43.225Z"
   },
   {
    "duration": 10,
    "start_time": "2022-12-02T10:24:43.354Z"
   },
   {
    "duration": 140,
    "start_time": "2022-12-02T10:24:43.365Z"
   },
   {
    "duration": 15,
    "start_time": "2022-12-02T10:24:43.506Z"
   },
   {
    "duration": 119,
    "start_time": "2022-12-02T10:24:43.523Z"
   },
   {
    "duration": 7,
    "start_time": "2022-12-02T10:24:43.644Z"
   },
   {
    "duration": 26,
    "start_time": "2022-12-02T10:24:43.653Z"
   },
   {
    "duration": 232,
    "start_time": "2022-12-02T10:24:43.681Z"
   },
   {
    "duration": 10,
    "start_time": "2022-12-02T10:24:43.915Z"
   },
   {
    "duration": 14,
    "start_time": "2022-12-02T10:24:43.927Z"
   },
   {
    "duration": 161,
    "start_time": "2022-12-02T10:24:43.943Z"
   },
   {
    "duration": 18,
    "start_time": "2022-12-02T10:24:44.106Z"
   },
   {
    "duration": 12,
    "start_time": "2022-12-02T10:24:44.125Z"
   },
   {
    "duration": 142,
    "start_time": "2022-12-02T10:24:44.139Z"
   },
   {
    "duration": 6,
    "start_time": "2022-12-02T10:24:44.283Z"
   },
   {
    "duration": 18,
    "start_time": "2022-12-02T10:24:44.291Z"
   },
   {
    "duration": 20,
    "start_time": "2022-12-02T10:24:44.310Z"
   },
   {
    "duration": 18,
    "start_time": "2022-12-02T10:24:44.331Z"
   },
   {
    "duration": 29,
    "start_time": "2022-12-02T10:24:44.351Z"
   },
   {
    "duration": 16,
    "start_time": "2022-12-02T10:24:44.382Z"
   },
   {
    "duration": 11,
    "start_time": "2022-12-02T10:24:44.399Z"
   },
   {
    "duration": 40,
    "start_time": "2022-12-02T10:24:44.411Z"
   },
   {
    "duration": 15,
    "start_time": "2022-12-02T10:24:44.456Z"
   },
   {
    "duration": 4,
    "start_time": "2022-12-02T10:24:44.473Z"
   },
   {
    "duration": 7,
    "start_time": "2022-12-02T10:29:16.454Z"
   },
   {
    "duration": 7,
    "start_time": "2022-12-02T10:45:16.153Z"
   },
   {
    "duration": 1566,
    "start_time": "2022-12-02T16:03:47.803Z"
   },
   {
    "duration": 351,
    "start_time": "2022-12-02T16:03:49.372Z"
   },
   {
    "duration": 4,
    "start_time": "2022-12-02T16:03:49.725Z"
   },
   {
    "duration": 57,
    "start_time": "2022-12-02T16:03:49.731Z"
   },
   {
    "duration": 6,
    "start_time": "2022-12-02T16:03:49.790Z"
   },
   {
    "duration": 9,
    "start_time": "2022-12-02T16:03:49.798Z"
   },
   {
    "duration": 8,
    "start_time": "2022-12-02T16:03:49.808Z"
   },
   {
    "duration": 75,
    "start_time": "2022-12-02T16:03:49.818Z"
   },
   {
    "duration": 7,
    "start_time": "2022-12-02T16:03:49.895Z"
   },
   {
    "duration": 7,
    "start_time": "2022-12-02T16:03:49.906Z"
   },
   {
    "duration": 7,
    "start_time": "2022-12-02T16:03:49.914Z"
   },
   {
    "duration": 101,
    "start_time": "2022-12-02T16:03:49.922Z"
   },
   {
    "duration": 6,
    "start_time": "2022-12-02T16:03:50.025Z"
   },
   {
    "duration": 13,
    "start_time": "2022-12-02T16:03:50.033Z"
   },
   {
    "duration": 76,
    "start_time": "2022-12-02T16:03:50.048Z"
   },
   {
    "duration": 5,
    "start_time": "2022-12-02T16:03:50.126Z"
   },
   {
    "duration": 51,
    "start_time": "2022-12-02T16:03:50.133Z"
   },
   {
    "duration": 9,
    "start_time": "2022-12-02T16:03:50.186Z"
   },
   {
    "duration": 15,
    "start_time": "2022-12-02T16:03:50.197Z"
   },
   {
    "duration": 11,
    "start_time": "2022-12-02T16:03:50.214Z"
   },
   {
    "duration": 16,
    "start_time": "2022-12-02T16:03:50.227Z"
   },
   {
    "duration": 7,
    "start_time": "2022-12-02T16:03:50.245Z"
   },
   {
    "duration": 29,
    "start_time": "2022-12-02T16:03:50.254Z"
   },
   {
    "duration": 12,
    "start_time": "2022-12-02T16:03:50.285Z"
   },
   {
    "duration": 12,
    "start_time": "2022-12-02T16:03:50.299Z"
   },
   {
    "duration": 22,
    "start_time": "2022-12-02T16:03:50.314Z"
   },
   {
    "duration": 10,
    "start_time": "2022-12-02T16:03:50.338Z"
   },
   {
    "duration": 13,
    "start_time": "2022-12-02T16:03:50.352Z"
   },
   {
    "duration": 57,
    "start_time": "2022-12-02T16:03:50.366Z"
   },
   {
    "duration": 13,
    "start_time": "2022-12-02T16:03:50.425Z"
   },
   {
    "duration": 13,
    "start_time": "2022-12-02T16:03:50.440Z"
   },
   {
    "duration": 13,
    "start_time": "2022-12-02T16:03:50.454Z"
   },
   {
    "duration": 14,
    "start_time": "2022-12-02T16:03:50.469Z"
   },
   {
    "duration": 8,
    "start_time": "2022-12-02T16:03:50.485Z"
   },
   {
    "duration": 11,
    "start_time": "2022-12-02T16:03:50.494Z"
   },
   {
    "duration": 4,
    "start_time": "2022-12-02T16:03:50.507Z"
   },
   {
    "duration": 11,
    "start_time": "2022-12-02T16:03:50.512Z"
   },
   {
    "duration": 8,
    "start_time": "2022-12-02T16:03:50.525Z"
   },
   {
    "duration": 52,
    "start_time": "2022-12-02T16:03:50.534Z"
   },
   {
    "duration": 100,
    "start_time": "2022-12-02T16:03:50.588Z"
   },
   {
    "duration": 9,
    "start_time": "2022-12-02T16:03:50.690Z"
   },
   {
    "duration": 8,
    "start_time": "2022-12-02T16:03:50.700Z"
   },
   {
    "duration": 7,
    "start_time": "2022-12-02T16:03:50.710Z"
   },
   {
    "duration": 15,
    "start_time": "2022-12-02T16:03:50.718Z"
   },
   {
    "duration": 54,
    "start_time": "2022-12-02T16:03:50.735Z"
   },
   {
    "duration": 5,
    "start_time": "2022-12-02T16:03:50.791Z"
   },
   {
    "duration": 7,
    "start_time": "2022-12-02T16:03:50.797Z"
   },
   {
    "duration": 1140,
    "start_time": "2022-12-02T16:03:50.807Z"
   },
   {
    "duration": 4,
    "start_time": "2022-12-02T16:03:51.948Z"
   },
   {
    "duration": 498,
    "start_time": "2022-12-02T16:03:51.953Z"
   },
   {
    "duration": 25,
    "start_time": "2022-12-02T16:03:52.453Z"
   },
   {
    "duration": 4,
    "start_time": "2022-12-02T16:03:52.479Z"
   },
   {
    "duration": 101,
    "start_time": "2022-12-02T16:03:52.484Z"
   },
   {
    "duration": 6,
    "start_time": "2022-12-02T16:03:52.587Z"
   },
   {
    "duration": 12,
    "start_time": "2022-12-02T16:03:52.594Z"
   },
   {
    "duration": 146,
    "start_time": "2022-12-02T16:03:52.608Z"
   },
   {
    "duration": 10,
    "start_time": "2022-12-02T16:03:52.755Z"
   },
   {
    "duration": 153,
    "start_time": "2022-12-02T16:03:52.778Z"
   },
   {
    "duration": 9,
    "start_time": "2022-12-02T16:03:52.932Z"
   },
   {
    "duration": 136,
    "start_time": "2022-12-02T16:03:52.943Z"
   },
   {
    "duration": 11,
    "start_time": "2022-12-02T16:03:53.081Z"
   },
   {
    "duration": 136,
    "start_time": "2022-12-02T16:03:53.093Z"
   },
   {
    "duration": 9,
    "start_time": "2022-12-02T16:03:53.231Z"
   },
   {
    "duration": 133,
    "start_time": "2022-12-02T16:03:53.241Z"
   },
   {
    "duration": 6,
    "start_time": "2022-12-02T16:03:53.377Z"
   },
   {
    "duration": 13,
    "start_time": "2022-12-02T16:03:53.385Z"
   },
   {
    "duration": 239,
    "start_time": "2022-12-02T16:03:53.400Z"
   },
   {
    "duration": 7,
    "start_time": "2022-12-02T16:03:53.640Z"
   },
   {
    "duration": 11,
    "start_time": "2022-12-02T16:03:53.648Z"
   },
   {
    "duration": 161,
    "start_time": "2022-12-02T16:03:53.661Z"
   },
   {
    "duration": 6,
    "start_time": "2022-12-02T16:03:53.824Z"
   },
   {
    "duration": 11,
    "start_time": "2022-12-02T16:03:53.832Z"
   },
   {
    "duration": 155,
    "start_time": "2022-12-02T16:03:53.844Z"
   },
   {
    "duration": 10,
    "start_time": "2022-12-02T16:03:54.001Z"
   },
   {
    "duration": 21,
    "start_time": "2022-12-02T16:03:54.013Z"
   },
   {
    "duration": 18,
    "start_time": "2022-12-02T16:03:54.035Z"
   },
   {
    "duration": 8,
    "start_time": "2022-12-02T16:03:54.055Z"
   },
   {
    "duration": 31,
    "start_time": "2022-12-02T16:03:54.065Z"
   },
   {
    "duration": 13,
    "start_time": "2022-12-02T16:03:54.098Z"
   },
   {
    "duration": 13,
    "start_time": "2022-12-02T16:03:54.113Z"
   },
   {
    "duration": 38,
    "start_time": "2022-12-02T16:03:54.128Z"
   },
   {
    "duration": 21,
    "start_time": "2022-12-02T16:03:54.172Z"
   },
   {
    "duration": 5,
    "start_time": "2022-12-02T16:03:54.195Z"
   },
   {
    "duration": 16,
    "start_time": "2022-12-02T16:03:54.202Z"
   },
   {
    "duration": 8,
    "start_time": "2022-12-02T16:05:35.096Z"
   },
   {
    "duration": 22,
    "start_time": "2022-12-02T16:09:34.099Z"
   },
   {
    "duration": 18,
    "start_time": "2022-12-02T16:09:51.030Z"
   },
   {
    "duration": 26,
    "start_time": "2022-12-02T16:11:06.442Z"
   },
   {
    "duration": 7,
    "start_time": "2022-12-02T16:15:49.106Z"
   },
   {
    "duration": 7,
    "start_time": "2022-12-02T16:16:14.377Z"
   },
   {
    "duration": 28,
    "start_time": "2022-12-02T16:16:24.099Z"
   },
   {
    "duration": 29,
    "start_time": "2022-12-02T16:17:44.129Z"
   },
   {
    "duration": 1282,
    "start_time": "2022-12-02T16:17:59.007Z"
   },
   {
    "duration": 110,
    "start_time": "2022-12-02T16:18:00.291Z"
   },
   {
    "duration": 4,
    "start_time": "2022-12-02T16:18:00.402Z"
   },
   {
    "duration": 86,
    "start_time": "2022-12-02T16:18:00.408Z"
   },
   {
    "duration": 7,
    "start_time": "2022-12-02T16:18:00.496Z"
   },
   {
    "duration": 35,
    "start_time": "2022-12-02T16:18:00.505Z"
   },
   {
    "duration": 37,
    "start_time": "2022-12-02T16:18:00.542Z"
   },
   {
    "duration": 92,
    "start_time": "2022-12-02T16:18:00.581Z"
   },
   {
    "duration": 6,
    "start_time": "2022-12-02T16:18:00.674Z"
   },
   {
    "duration": 39,
    "start_time": "2022-12-02T16:18:00.682Z"
   },
   {
    "duration": 44,
    "start_time": "2022-12-02T16:18:00.722Z"
   },
   {
    "duration": 119,
    "start_time": "2022-12-02T16:18:00.768Z"
   },
   {
    "duration": 6,
    "start_time": "2022-12-02T16:18:00.888Z"
   },
   {
    "duration": 24,
    "start_time": "2022-12-02T16:18:00.896Z"
   },
   {
    "duration": 82,
    "start_time": "2022-12-02T16:18:00.921Z"
   },
   {
    "duration": 6,
    "start_time": "2022-12-02T16:18:01.004Z"
   },
   {
    "duration": 45,
    "start_time": "2022-12-02T16:18:01.012Z"
   },
   {
    "duration": 12,
    "start_time": "2022-12-02T16:18:01.059Z"
   },
   {
    "duration": 30,
    "start_time": "2022-12-02T16:18:01.073Z"
   },
   {
    "duration": 27,
    "start_time": "2022-12-02T16:18:01.105Z"
   },
   {
    "duration": 35,
    "start_time": "2022-12-02T16:18:01.133Z"
   },
   {
    "duration": 29,
    "start_time": "2022-12-02T16:18:01.170Z"
   },
   {
    "duration": 36,
    "start_time": "2022-12-02T16:18:01.200Z"
   },
   {
    "duration": 30,
    "start_time": "2022-12-02T16:18:01.238Z"
   },
   {
    "duration": 27,
    "start_time": "2022-12-02T16:18:01.270Z"
   },
   {
    "duration": 19,
    "start_time": "2022-12-02T16:18:01.298Z"
   },
   {
    "duration": 29,
    "start_time": "2022-12-02T16:18:01.318Z"
   },
   {
    "duration": 37,
    "start_time": "2022-12-02T16:18:01.351Z"
   },
   {
    "duration": 30,
    "start_time": "2022-12-02T16:18:01.389Z"
   },
   {
    "duration": 31,
    "start_time": "2022-12-02T16:18:01.420Z"
   },
   {
    "duration": 28,
    "start_time": "2022-12-02T16:18:01.453Z"
   },
   {
    "duration": 24,
    "start_time": "2022-12-02T16:18:01.483Z"
   },
   {
    "duration": 41,
    "start_time": "2022-12-02T16:18:01.508Z"
   },
   {
    "duration": 32,
    "start_time": "2022-12-02T16:18:01.551Z"
   },
   {
    "duration": 27,
    "start_time": "2022-12-02T16:18:01.585Z"
   },
   {
    "duration": 22,
    "start_time": "2022-12-02T16:18:01.613Z"
   },
   {
    "duration": 37,
    "start_time": "2022-12-02T16:18:01.637Z"
   },
   {
    "duration": 30,
    "start_time": "2022-12-02T16:18:01.676Z"
   },
   {
    "duration": 41,
    "start_time": "2022-12-02T16:18:01.707Z"
   },
   {
    "duration": 74,
    "start_time": "2022-12-02T16:18:01.750Z"
   },
   {
    "duration": 8,
    "start_time": "2022-12-02T16:18:01.825Z"
   },
   {
    "duration": 136,
    "start_time": "2022-12-02T16:18:01.835Z"
   },
   {
    "duration": 37,
    "start_time": "2022-12-02T16:18:01.973Z"
   },
   {
    "duration": 24,
    "start_time": "2022-12-02T16:18:02.012Z"
   },
   {
    "duration": 32,
    "start_time": "2022-12-02T16:18:02.037Z"
   },
   {
    "duration": 10,
    "start_time": "2022-12-02T16:18:02.070Z"
   },
   {
    "duration": 32,
    "start_time": "2022-12-02T16:18:02.082Z"
   },
   {
    "duration": 1146,
    "start_time": "2022-12-02T16:18:02.116Z"
   },
   {
    "duration": 4,
    "start_time": "2022-12-02T16:18:03.263Z"
   },
   {
    "duration": 515,
    "start_time": "2022-12-02T16:18:03.269Z"
   },
   {
    "duration": 18,
    "start_time": "2022-12-02T16:18:03.786Z"
   },
   {
    "duration": 36,
    "start_time": "2022-12-02T16:18:03.805Z"
   },
   {
    "duration": 101,
    "start_time": "2022-12-02T16:18:03.842Z"
   },
   {
    "duration": 9,
    "start_time": "2022-12-02T16:18:03.945Z"
   },
   {
    "duration": 24,
    "start_time": "2022-12-02T16:18:03.955Z"
   },
   {
    "duration": 154,
    "start_time": "2022-12-02T16:18:03.981Z"
   },
   {
    "duration": 12,
    "start_time": "2022-12-02T16:18:04.137Z"
   },
   {
    "duration": 143,
    "start_time": "2022-12-02T16:18:04.150Z"
   },
   {
    "duration": 9,
    "start_time": "2022-12-02T16:18:04.295Z"
   },
   {
    "duration": 133,
    "start_time": "2022-12-02T16:18:04.305Z"
   },
   {
    "duration": 9,
    "start_time": "2022-12-02T16:18:04.440Z"
   },
   {
    "duration": 133,
    "start_time": "2022-12-02T16:18:04.451Z"
   },
   {
    "duration": 11,
    "start_time": "2022-12-02T16:18:04.586Z"
   },
   {
    "duration": 130,
    "start_time": "2022-12-02T16:18:04.598Z"
   },
   {
    "duration": 7,
    "start_time": "2022-12-02T16:18:04.729Z"
   },
   {
    "duration": 18,
    "start_time": "2022-12-02T16:18:04.737Z"
   },
   {
    "duration": 242,
    "start_time": "2022-12-02T16:18:04.756Z"
   },
   {
    "duration": 7,
    "start_time": "2022-12-02T16:18:05.000Z"
   },
   {
    "duration": 16,
    "start_time": "2022-12-02T16:18:05.009Z"
   },
   {
    "duration": 168,
    "start_time": "2022-12-02T16:18:05.027Z"
   },
   {
    "duration": 6,
    "start_time": "2022-12-02T16:18:05.197Z"
   },
   {
    "duration": 22,
    "start_time": "2022-12-02T16:18:05.204Z"
   },
   {
    "duration": 138,
    "start_time": "2022-12-02T16:18:05.227Z"
   },
   {
    "duration": 6,
    "start_time": "2022-12-02T16:18:05.367Z"
   },
   {
    "duration": 38,
    "start_time": "2022-12-02T16:18:05.377Z"
   },
   {
    "duration": 25,
    "start_time": "2022-12-02T16:18:05.416Z"
   },
   {
    "duration": 34,
    "start_time": "2022-12-02T16:18:05.443Z"
   },
   {
    "duration": 49,
    "start_time": "2022-12-02T16:18:05.479Z"
   },
   {
    "duration": 7,
    "start_time": "2022-12-02T16:18:05.530Z"
   },
   {
    "duration": 15,
    "start_time": "2022-12-02T16:18:05.538Z"
   },
   {
    "duration": 30,
    "start_time": "2022-12-02T16:18:05.554Z"
   },
   {
    "duration": 14,
    "start_time": "2022-12-02T16:18:05.589Z"
   },
   {
    "duration": 7,
    "start_time": "2022-12-02T16:18:05.604Z"
   },
   {
    "duration": 20,
    "start_time": "2022-12-02T16:18:05.613Z"
   },
   {
    "duration": 20,
    "start_time": "2022-12-02T16:18:05.635Z"
   },
   {
    "duration": 36,
    "start_time": "2022-12-02T16:18:05.657Z"
   },
   {
    "duration": 44,
    "start_time": "2022-12-02T16:21:11.932Z"
   },
   {
    "duration": 16,
    "start_time": "2022-12-02T16:21:28.444Z"
   },
   {
    "duration": 114,
    "start_time": "2022-12-02T16:21:28.462Z"
   },
   {
    "duration": 4,
    "start_time": "2022-12-02T16:21:28.577Z"
   },
   {
    "duration": 75,
    "start_time": "2022-12-02T16:21:28.582Z"
   },
   {
    "duration": 6,
    "start_time": "2022-12-02T16:21:28.658Z"
   },
   {
    "duration": 35,
    "start_time": "2022-12-02T16:21:28.665Z"
   },
   {
    "duration": 49,
    "start_time": "2022-12-02T16:21:28.701Z"
   },
   {
    "duration": 49,
    "start_time": "2022-12-02T16:21:28.752Z"
   },
   {
    "duration": 6,
    "start_time": "2022-12-02T16:21:28.802Z"
   },
   {
    "duration": 35,
    "start_time": "2022-12-02T16:21:28.809Z"
   },
   {
    "duration": 16,
    "start_time": "2022-12-02T16:21:28.845Z"
   },
   {
    "duration": 72,
    "start_time": "2022-12-02T16:21:28.862Z"
   },
   {
    "duration": 4,
    "start_time": "2022-12-02T16:21:28.936Z"
   },
   {
    "duration": 13,
    "start_time": "2022-12-02T16:21:28.942Z"
   },
   {
    "duration": 60,
    "start_time": "2022-12-02T16:21:28.957Z"
   },
   {
    "duration": 6,
    "start_time": "2022-12-02T16:21:29.018Z"
   },
   {
    "duration": 52,
    "start_time": "2022-12-02T16:21:29.026Z"
   },
   {
    "duration": 30,
    "start_time": "2022-12-02T16:21:29.079Z"
   },
   {
    "duration": 29,
    "start_time": "2022-12-02T16:21:29.110Z"
   },
   {
    "duration": 21,
    "start_time": "2022-12-02T16:21:29.140Z"
   },
   {
    "duration": 47,
    "start_time": "2022-12-02T16:21:29.163Z"
   },
   {
    "duration": 21,
    "start_time": "2022-12-02T16:21:29.212Z"
   },
   {
    "duration": 19,
    "start_time": "2022-12-02T16:21:29.234Z"
   },
   {
    "duration": 19,
    "start_time": "2022-12-02T16:21:29.255Z"
   },
   {
    "duration": 23,
    "start_time": "2022-12-02T16:21:29.276Z"
   },
   {
    "duration": 17,
    "start_time": "2022-12-02T16:21:29.301Z"
   },
   {
    "duration": 25,
    "start_time": "2022-12-02T16:21:29.319Z"
   },
   {
    "duration": 29,
    "start_time": "2022-12-02T16:21:29.345Z"
   },
   {
    "duration": 32,
    "start_time": "2022-12-02T16:21:29.375Z"
   },
   {
    "duration": 30,
    "start_time": "2022-12-02T16:21:29.408Z"
   },
   {
    "duration": 40,
    "start_time": "2022-12-02T16:21:29.440Z"
   },
   {
    "duration": 27,
    "start_time": "2022-12-02T16:21:29.482Z"
   },
   {
    "duration": 29,
    "start_time": "2022-12-02T16:21:29.510Z"
   },
   {
    "duration": 28,
    "start_time": "2022-12-02T16:21:29.540Z"
   },
   {
    "duration": 29,
    "start_time": "2022-12-02T16:21:29.570Z"
   },
   {
    "duration": 21,
    "start_time": "2022-12-02T16:21:29.601Z"
   },
   {
    "duration": 44,
    "start_time": "2022-12-02T16:21:29.623Z"
   },
   {
    "duration": 40,
    "start_time": "2022-12-02T16:21:29.669Z"
   },
   {
    "duration": 44,
    "start_time": "2022-12-02T16:21:29.711Z"
   },
   {
    "duration": 81,
    "start_time": "2022-12-02T16:21:29.757Z"
   },
   {
    "duration": 8,
    "start_time": "2022-12-02T16:21:29.839Z"
   },
   {
    "duration": 29,
    "start_time": "2022-12-02T16:21:29.848Z"
   },
   {
    "duration": 23,
    "start_time": "2022-12-02T16:21:29.879Z"
   },
   {
    "duration": 35,
    "start_time": "2022-12-02T16:21:29.903Z"
   },
   {
    "duration": 32,
    "start_time": "2022-12-02T16:21:29.939Z"
   },
   {
    "duration": 16,
    "start_time": "2022-12-02T16:21:29.973Z"
   },
   {
    "duration": 48,
    "start_time": "2022-12-02T16:21:29.990Z"
   },
   {
    "duration": 1387,
    "start_time": "2022-12-02T16:21:30.039Z"
   },
   {
    "duration": 4,
    "start_time": "2022-12-02T16:21:31.427Z"
   },
   {
    "duration": 537,
    "start_time": "2022-12-02T16:21:31.433Z"
   },
   {
    "duration": 21,
    "start_time": "2022-12-02T16:21:31.972Z"
   },
   {
    "duration": 10,
    "start_time": "2022-12-02T16:21:31.995Z"
   },
   {
    "duration": 111,
    "start_time": "2022-12-02T16:21:32.007Z"
   },
   {
    "duration": 6,
    "start_time": "2022-12-02T16:21:32.119Z"
   },
   {
    "duration": 18,
    "start_time": "2022-12-02T16:21:32.126Z"
   },
   {
    "duration": 114,
    "start_time": "2022-12-02T16:21:32.145Z"
   },
   {
    "duration": 20,
    "start_time": "2022-12-02T16:21:32.261Z"
   },
   {
    "duration": 131,
    "start_time": "2022-12-02T16:21:32.282Z"
   },
   {
    "duration": 10,
    "start_time": "2022-12-02T16:21:32.415Z"
   },
   {
    "duration": 129,
    "start_time": "2022-12-02T16:21:32.426Z"
   },
   {
    "duration": 10,
    "start_time": "2022-12-02T16:21:32.557Z"
   },
   {
    "duration": 130,
    "start_time": "2022-12-02T16:21:32.578Z"
   },
   {
    "duration": 9,
    "start_time": "2022-12-02T16:21:32.710Z"
   },
   {
    "duration": 142,
    "start_time": "2022-12-02T16:21:32.721Z"
   },
   {
    "duration": 14,
    "start_time": "2022-12-02T16:21:32.865Z"
   },
   {
    "duration": 26,
    "start_time": "2022-12-02T16:21:32.881Z"
   },
   {
    "duration": 136,
    "start_time": "2022-12-02T16:21:32.909Z"
   },
   {
    "duration": 7,
    "start_time": "2022-12-02T16:21:33.047Z"
   },
   {
    "duration": 81,
    "start_time": "2022-12-02T16:21:33.056Z"
   },
   {
    "duration": 150,
    "start_time": "2022-12-02T16:21:33.138Z"
   },
   {
    "duration": 7,
    "start_time": "2022-12-02T16:21:33.289Z"
   },
   {
    "duration": 20,
    "start_time": "2022-12-02T16:21:33.297Z"
   },
   {
    "duration": 243,
    "start_time": "2022-12-02T16:21:33.318Z"
   },
   {
    "duration": 6,
    "start_time": "2022-12-02T16:21:33.563Z"
   },
   {
    "duration": 17,
    "start_time": "2022-12-02T16:21:33.571Z"
   },
   {
    "duration": 10,
    "start_time": "2022-12-02T16:21:33.590Z"
   },
   {
    "duration": 18,
    "start_time": "2022-12-02T16:21:33.601Z"
   },
   {
    "duration": 33,
    "start_time": "2022-12-02T16:21:33.621Z"
   },
   {
    "duration": 22,
    "start_time": "2022-12-02T16:21:33.656Z"
   },
   {
    "duration": 19,
    "start_time": "2022-12-02T16:21:33.679Z"
   },
   {
    "duration": 41,
    "start_time": "2022-12-02T16:21:33.700Z"
   },
   {
    "duration": 16,
    "start_time": "2022-12-02T16:21:33.743Z"
   },
   {
    "duration": 10,
    "start_time": "2022-12-02T16:21:33.762Z"
   },
   {
    "duration": 25,
    "start_time": "2022-12-02T16:21:33.774Z"
   },
   {
    "duration": 22,
    "start_time": "2022-12-02T16:21:33.801Z"
   },
   {
    "duration": 25,
    "start_time": "2022-12-02T16:21:33.824Z"
   },
   {
    "duration": 40,
    "start_time": "2022-12-02T16:21:33.851Z"
   },
   {
    "duration": 65,
    "start_time": "2022-12-02T16:41:35.153Z"
   },
   {
    "duration": 5,
    "start_time": "2022-12-02T16:43:06.884Z"
   },
   {
    "duration": 95,
    "start_time": "2022-12-02T16:43:26.066Z"
   },
   {
    "duration": 108,
    "start_time": "2022-12-02T16:43:35.541Z"
   },
   {
    "duration": 6,
    "start_time": "2022-12-02T16:50:07.993Z"
   },
   {
    "duration": 8,
    "start_time": "2022-12-02T16:51:17.208Z"
   },
   {
    "duration": 16,
    "start_time": "2022-12-02T16:54:07.736Z"
   },
   {
    "duration": 4,
    "start_time": "2022-12-02T16:54:48.023Z"
   },
   {
    "duration": 11,
    "start_time": "2022-12-02T16:54:54.324Z"
   },
   {
    "duration": 10,
    "start_time": "2022-12-02T17:00:15.715Z"
   },
   {
    "duration": 23,
    "start_time": "2022-12-02T17:00:46.756Z"
   },
   {
    "duration": 12,
    "start_time": "2022-12-02T17:01:02.719Z"
   },
   {
    "duration": 3,
    "start_time": "2022-12-02T17:01:29.123Z"
   },
   {
    "duration": 12657,
    "start_time": "2022-12-02T17:01:35.626Z"
   },
   {
    "duration": 116,
    "start_time": "2022-12-02T17:05:33.102Z"
   },
   {
    "duration": 86,
    "start_time": "2022-12-02T17:05:42.149Z"
   },
   {
    "duration": 87,
    "start_time": "2022-12-02T17:05:52.701Z"
   },
   {
    "duration": 18021,
    "start_time": "2022-12-02T17:08:58.258Z"
   },
   {
    "duration": 16637,
    "start_time": "2022-12-02T17:29:49.450Z"
   },
   {
    "duration": 9,
    "start_time": "2022-12-02T17:30:56.497Z"
   },
   {
    "duration": 3,
    "start_time": "2022-12-02T17:31:31.952Z"
   },
   {
    "duration": 6,
    "start_time": "2022-12-02T17:31:37.716Z"
   },
   {
    "duration": 123,
    "start_time": "2022-12-02T17:33:11.928Z"
   },
   {
    "duration": 5,
    "start_time": "2022-12-02T17:41:40.085Z"
   },
   {
    "duration": 17,
    "start_time": "2022-12-02T17:42:19.058Z"
   },
   {
    "duration": 4,
    "start_time": "2022-12-02T17:44:38.997Z"
   },
   {
    "duration": 120,
    "start_time": "2022-12-02T17:44:47.245Z"
   },
   {
    "duration": 59,
    "start_time": "2022-12-02T17:46:37.827Z"
   },
   {
    "duration": 14,
    "start_time": "2022-12-02T17:49:41.568Z"
   },
   {
    "duration": 34726,
    "start_time": "2022-12-02T17:49:52.663Z"
   },
   {
    "duration": 50,
    "start_time": "2022-12-02T19:26:59.201Z"
   },
   {
    "duration": 1576,
    "start_time": "2022-12-02T19:27:13.158Z"
   },
   {
    "duration": 325,
    "start_time": "2022-12-02T19:27:14.736Z"
   },
   {
    "duration": 4,
    "start_time": "2022-12-02T19:27:15.063Z"
   },
   {
    "duration": 61,
    "start_time": "2022-12-02T19:27:15.069Z"
   },
   {
    "duration": 6,
    "start_time": "2022-12-02T19:27:15.132Z"
   },
   {
    "duration": 12,
    "start_time": "2022-12-02T19:27:15.140Z"
   },
   {
    "duration": 7,
    "start_time": "2022-12-02T19:27:15.154Z"
   },
   {
    "duration": 85,
    "start_time": "2022-12-02T19:27:15.163Z"
   },
   {
    "duration": 6,
    "start_time": "2022-12-02T19:27:15.250Z"
   },
   {
    "duration": 6,
    "start_time": "2022-12-02T19:27:15.259Z"
   },
   {
    "duration": 47,
    "start_time": "2022-12-02T19:27:15.267Z"
   },
   {
    "duration": 65,
    "start_time": "2022-12-02T19:27:15.315Z"
   },
   {
    "duration": 32,
    "start_time": "2022-12-02T19:27:15.382Z"
   },
   {
    "duration": 8,
    "start_time": "2022-12-02T19:27:15.416Z"
   },
   {
    "duration": 43,
    "start_time": "2022-12-02T19:27:15.426Z"
   },
   {
    "duration": 45,
    "start_time": "2022-12-02T19:27:15.470Z"
   },
   {
    "duration": 14,
    "start_time": "2022-12-02T19:27:15.517Z"
   },
   {
    "duration": 6,
    "start_time": "2022-12-02T19:27:15.532Z"
   },
   {
    "duration": 11,
    "start_time": "2022-12-02T19:27:15.539Z"
   },
   {
    "duration": 6,
    "start_time": "2022-12-02T19:27:15.552Z"
   },
   {
    "duration": 9,
    "start_time": "2022-12-02T19:27:15.560Z"
   },
   {
    "duration": 5,
    "start_time": "2022-12-02T19:27:15.571Z"
   },
   {
    "duration": 38,
    "start_time": "2022-12-02T19:27:15.578Z"
   },
   {
    "duration": 10,
    "start_time": "2022-12-02T19:27:15.618Z"
   },
   {
    "duration": 10,
    "start_time": "2022-12-02T19:27:15.630Z"
   },
   {
    "duration": 9,
    "start_time": "2022-12-02T19:27:15.641Z"
   },
   {
    "duration": 6,
    "start_time": "2022-12-02T19:27:15.651Z"
   },
   {
    "duration": 11,
    "start_time": "2022-12-02T19:27:15.661Z"
   },
   {
    "duration": 6,
    "start_time": "2022-12-02T19:27:15.674Z"
   },
   {
    "duration": 34,
    "start_time": "2022-12-02T19:27:15.682Z"
   },
   {
    "duration": 10,
    "start_time": "2022-12-02T19:27:15.718Z"
   },
   {
    "duration": 12,
    "start_time": "2022-12-02T19:27:15.729Z"
   },
   {
    "duration": 8,
    "start_time": "2022-12-02T19:27:15.742Z"
   },
   {
    "duration": 5,
    "start_time": "2022-12-02T19:27:15.751Z"
   },
   {
    "duration": 13,
    "start_time": "2022-12-02T19:27:15.758Z"
   },
   {
    "duration": 5,
    "start_time": "2022-12-02T19:27:15.773Z"
   },
   {
    "duration": 39,
    "start_time": "2022-12-02T19:27:15.779Z"
   },
   {
    "duration": 7,
    "start_time": "2022-12-02T19:27:15.819Z"
   },
   {
    "duration": 26,
    "start_time": "2022-12-02T19:27:15.827Z"
   },
   {
    "duration": 109,
    "start_time": "2022-12-02T19:27:15.855Z"
   },
   {
    "duration": 9,
    "start_time": "2022-12-02T19:27:15.966Z"
   },
   {
    "duration": 36,
    "start_time": "2022-12-02T19:27:15.977Z"
   },
   {
    "duration": 6,
    "start_time": "2022-12-02T19:27:16.015Z"
   },
   {
    "duration": 16,
    "start_time": "2022-12-02T19:27:16.023Z"
   },
   {
    "duration": 22,
    "start_time": "2022-12-02T19:27:16.041Z"
   },
   {
    "duration": 3,
    "start_time": "2022-12-02T19:27:16.065Z"
   },
   {
    "duration": 7,
    "start_time": "2022-12-02T19:27:16.070Z"
   },
   {
    "duration": 1380,
    "start_time": "2022-12-02T19:27:16.078Z"
   },
   {
    "duration": 5,
    "start_time": "2022-12-02T19:27:17.460Z"
   },
   {
    "duration": 585,
    "start_time": "2022-12-02T19:27:17.467Z"
   },
   {
    "duration": 19,
    "start_time": "2022-12-02T19:27:18.054Z"
   },
   {
    "duration": 4,
    "start_time": "2022-12-02T19:27:18.075Z"
   },
   {
    "duration": 133,
    "start_time": "2022-12-02T19:27:18.081Z"
   },
   {
    "duration": 7,
    "start_time": "2022-12-02T19:27:18.216Z"
   },
   {
    "duration": 15,
    "start_time": "2022-12-02T19:27:18.225Z"
   },
   {
    "duration": 155,
    "start_time": "2022-12-02T19:27:18.242Z"
   },
   {
    "duration": 17,
    "start_time": "2022-12-02T19:27:18.399Z"
   },
   {
    "duration": 161,
    "start_time": "2022-12-02T19:27:18.418Z"
   },
   {
    "duration": 11,
    "start_time": "2022-12-02T19:27:18.582Z"
   },
   {
    "duration": 160,
    "start_time": "2022-12-02T19:27:18.595Z"
   },
   {
    "duration": 12,
    "start_time": "2022-12-02T19:27:18.757Z"
   },
   {
    "duration": 257,
    "start_time": "2022-12-02T19:27:18.771Z"
   },
   {
    "duration": 12,
    "start_time": "2022-12-02T19:27:19.030Z"
   },
   {
    "duration": 163,
    "start_time": "2022-12-02T19:27:19.044Z"
   },
   {
    "duration": 9,
    "start_time": "2022-12-02T19:27:19.208Z"
   },
   {
    "duration": 21,
    "start_time": "2022-12-02T19:27:19.219Z"
   },
   {
    "duration": 193,
    "start_time": "2022-12-02T19:27:19.242Z"
   },
   {
    "duration": 7,
    "start_time": "2022-12-02T19:27:19.437Z"
   },
   {
    "duration": 20,
    "start_time": "2022-12-02T19:27:19.446Z"
   },
   {
    "duration": 167,
    "start_time": "2022-12-02T19:27:19.468Z"
   },
   {
    "duration": 7,
    "start_time": "2022-12-02T19:27:19.637Z"
   },
   {
    "duration": 24,
    "start_time": "2022-12-02T19:27:19.646Z"
   },
   {
    "duration": 158,
    "start_time": "2022-12-02T19:27:19.672Z"
   },
   {
    "duration": 7,
    "start_time": "2022-12-02T19:27:19.832Z"
   },
   {
    "duration": 18,
    "start_time": "2022-12-02T19:27:19.840Z"
   },
   {
    "duration": 20,
    "start_time": "2022-12-02T19:27:19.859Z"
   },
   {
    "duration": 16,
    "start_time": "2022-12-02T19:27:19.881Z"
   },
   {
    "duration": 45,
    "start_time": "2022-12-02T19:27:19.898Z"
   },
   {
    "duration": 17,
    "start_time": "2022-12-02T19:27:19.945Z"
   },
   {
    "duration": 24,
    "start_time": "2022-12-02T19:27:19.964Z"
   },
   {
    "duration": 42,
    "start_time": "2022-12-02T19:27:19.989Z"
   },
   {
    "duration": 16,
    "start_time": "2022-12-02T19:27:20.037Z"
   },
   {
    "duration": 4,
    "start_time": "2022-12-02T19:27:20.055Z"
   },
   {
    "duration": 11,
    "start_time": "2022-12-02T19:27:20.061Z"
   },
   {
    "duration": 26,
    "start_time": "2022-12-02T19:27:20.074Z"
   },
   {
    "duration": 31,
    "start_time": "2022-12-02T19:27:20.101Z"
   },
   {
    "duration": 14,
    "start_time": "2022-12-02T19:27:20.133Z"
   },
   {
    "duration": 119,
    "start_time": "2022-12-02T19:27:20.149Z"
   },
   {
    "duration": 6,
    "start_time": "2022-12-02T19:27:20.269Z"
   },
   {
    "duration": 31,
    "start_time": "2022-12-02T19:27:20.277Z"
   },
   {
    "duration": 110,
    "start_time": "2022-12-02T19:27:20.310Z"
   },
   {
    "duration": 16694,
    "start_time": "2022-12-02T19:27:20.422Z"
   },
   {
    "duration": 99,
    "start_time": "2022-12-02T19:27:37.118Z"
   },
   {
    "duration": 94,
    "start_time": "2022-12-02T19:27:37.220Z"
   },
   {
    "duration": 149,
    "start_time": "2022-12-02T19:27:37.315Z"
   },
   {
    "duration": 37670,
    "start_time": "2022-12-02T19:27:37.466Z"
   },
   {
    "duration": 142,
    "start_time": "2022-12-02T19:28:15.137Z"
   },
   {
    "duration": 25418,
    "start_time": "2022-12-02T19:30:25.066Z"
   },
   {
    "duration": 23349,
    "start_time": "2022-12-02T19:32:05.517Z"
   },
   {
    "duration": 140,
    "start_time": "2022-12-02T19:33:04.765Z"
   },
   {
    "duration": 8,
    "start_time": "2022-12-02T19:42:41.565Z"
   },
   {
    "duration": 5,
    "start_time": "2022-12-02T19:44:08.557Z"
   },
   {
    "duration": 12,
    "start_time": "2022-12-02T19:45:52.295Z"
   },
   {
    "duration": 281,
    "start_time": "2022-12-02T19:50:30.527Z"
   },
   {
    "duration": 9,
    "start_time": "2022-12-02T19:50:49.811Z"
   },
   {
    "duration": 13,
    "start_time": "2022-12-02T19:51:36.269Z"
   },
   {
    "duration": 1396,
    "start_time": "2022-12-02T20:26:32.182Z"
   },
   {
    "duration": 104,
    "start_time": "2022-12-02T20:26:33.581Z"
   },
   {
    "duration": 4,
    "start_time": "2022-12-02T20:26:33.687Z"
   },
   {
    "duration": 79,
    "start_time": "2022-12-02T20:26:33.692Z"
   },
   {
    "duration": 6,
    "start_time": "2022-12-02T20:26:33.772Z"
   },
   {
    "duration": 36,
    "start_time": "2022-12-02T20:26:33.780Z"
   },
   {
    "duration": 26,
    "start_time": "2022-12-02T20:26:33.818Z"
   },
   {
    "duration": 50,
    "start_time": "2022-12-02T20:26:33.846Z"
   },
   {
    "duration": 15,
    "start_time": "2022-12-02T20:26:33.898Z"
   },
   {
    "duration": 15,
    "start_time": "2022-12-02T20:26:33.916Z"
   },
   {
    "duration": 18,
    "start_time": "2022-12-02T20:26:33.932Z"
   },
   {
    "duration": 77,
    "start_time": "2022-12-02T20:26:33.952Z"
   },
   {
    "duration": 5,
    "start_time": "2022-12-02T20:26:34.031Z"
   },
   {
    "duration": 14,
    "start_time": "2022-12-02T20:26:34.038Z"
   },
   {
    "duration": 66,
    "start_time": "2022-12-02T20:26:34.054Z"
   },
   {
    "duration": 5,
    "start_time": "2022-12-02T20:26:34.121Z"
   },
   {
    "duration": 28,
    "start_time": "2022-12-02T20:26:34.128Z"
   },
   {
    "duration": 6,
    "start_time": "2022-12-02T20:26:34.158Z"
   },
   {
    "duration": 25,
    "start_time": "2022-12-02T20:26:34.166Z"
   },
   {
    "duration": 32,
    "start_time": "2022-12-02T20:26:34.194Z"
   },
   {
    "duration": 21,
    "start_time": "2022-12-02T20:26:34.228Z"
   },
   {
    "duration": 12,
    "start_time": "2022-12-02T20:26:34.251Z"
   },
   {
    "duration": 23,
    "start_time": "2022-12-02T20:26:34.264Z"
   },
   {
    "duration": 9,
    "start_time": "2022-12-02T20:26:34.289Z"
   },
   {
    "duration": 15,
    "start_time": "2022-12-02T20:26:34.299Z"
   },
   {
    "duration": 14,
    "start_time": "2022-12-02T20:26:34.316Z"
   },
   {
    "duration": 8,
    "start_time": "2022-12-02T20:26:34.331Z"
   },
   {
    "duration": 10,
    "start_time": "2022-12-02T20:26:34.343Z"
   },
   {
    "duration": 6,
    "start_time": "2022-12-02T20:26:34.354Z"
   },
   {
    "duration": 15,
    "start_time": "2022-12-02T20:26:34.361Z"
   },
   {
    "duration": 10,
    "start_time": "2022-12-02T20:26:34.378Z"
   },
   {
    "duration": 28,
    "start_time": "2022-12-02T20:26:34.390Z"
   },
   {
    "duration": 8,
    "start_time": "2022-12-02T20:26:34.420Z"
   },
   {
    "duration": 6,
    "start_time": "2022-12-02T20:26:34.429Z"
   },
   {
    "duration": 14,
    "start_time": "2022-12-02T20:26:34.437Z"
   },
   {
    "duration": 7,
    "start_time": "2022-12-02T20:26:34.453Z"
   },
   {
    "duration": 13,
    "start_time": "2022-12-02T20:26:34.462Z"
   },
   {
    "duration": 11,
    "start_time": "2022-12-02T20:26:34.477Z"
   },
   {
    "duration": 45,
    "start_time": "2022-12-02T20:26:34.489Z"
   },
   {
    "duration": 101,
    "start_time": "2022-12-02T20:26:34.536Z"
   },
   {
    "duration": 8,
    "start_time": "2022-12-02T20:26:34.639Z"
   },
   {
    "duration": 9,
    "start_time": "2022-12-02T20:26:34.649Z"
   },
   {
    "duration": 7,
    "start_time": "2022-12-02T20:26:34.659Z"
   },
   {
    "duration": 16,
    "start_time": "2022-12-02T20:26:34.667Z"
   },
   {
    "duration": 46,
    "start_time": "2022-12-02T20:26:34.685Z"
   },
   {
    "duration": 5,
    "start_time": "2022-12-02T20:26:34.733Z"
   },
   {
    "duration": 18,
    "start_time": "2022-12-02T20:26:34.740Z"
   },
   {
    "duration": 1279,
    "start_time": "2022-12-02T20:26:34.760Z"
   },
   {
    "duration": 4,
    "start_time": "2022-12-02T20:26:36.041Z"
   },
   {
    "duration": 636,
    "start_time": "2022-12-02T20:26:36.048Z"
   },
   {
    "duration": 29,
    "start_time": "2022-12-02T20:26:36.686Z"
   },
   {
    "duration": 4,
    "start_time": "2022-12-02T20:26:36.717Z"
   },
   {
    "duration": 110,
    "start_time": "2022-12-02T20:26:36.723Z"
   },
   {
    "duration": 5,
    "start_time": "2022-12-02T20:26:36.835Z"
   },
   {
    "duration": 11,
    "start_time": "2022-12-02T20:26:36.842Z"
   },
   {
    "duration": 133,
    "start_time": "2022-12-02T20:26:36.854Z"
   },
   {
    "duration": 9,
    "start_time": "2022-12-02T20:26:36.989Z"
   },
   {
    "duration": 152,
    "start_time": "2022-12-02T20:26:36.999Z"
   },
   {
    "duration": 10,
    "start_time": "2022-12-02T20:26:37.153Z"
   },
   {
    "duration": 140,
    "start_time": "2022-12-02T20:26:37.164Z"
   },
   {
    "duration": 14,
    "start_time": "2022-12-02T20:26:37.305Z"
   },
   {
    "duration": 255,
    "start_time": "2022-12-02T20:26:37.321Z"
   },
   {
    "duration": 10,
    "start_time": "2022-12-02T20:26:37.577Z"
   },
   {
    "duration": 145,
    "start_time": "2022-12-02T20:26:37.589Z"
   },
   {
    "duration": 7,
    "start_time": "2022-12-02T20:26:37.737Z"
   },
   {
    "duration": 16,
    "start_time": "2022-12-02T20:26:37.746Z"
   },
   {
    "duration": 157,
    "start_time": "2022-12-02T20:26:37.763Z"
   },
   {
    "duration": 9,
    "start_time": "2022-12-02T20:26:37.922Z"
   },
   {
    "duration": 12,
    "start_time": "2022-12-02T20:26:37.932Z"
   },
   {
    "duration": 204,
    "start_time": "2022-12-02T20:26:37.946Z"
   },
   {
    "duration": 7,
    "start_time": "2022-12-02T20:26:38.152Z"
   },
   {
    "duration": 14,
    "start_time": "2022-12-02T20:26:38.161Z"
   },
   {
    "duration": 161,
    "start_time": "2022-12-02T20:26:38.176Z"
   },
   {
    "duration": 6,
    "start_time": "2022-12-02T20:26:38.339Z"
   },
   {
    "duration": 9,
    "start_time": "2022-12-02T20:26:38.347Z"
   },
   {
    "duration": 4,
    "start_time": "2022-12-02T20:26:38.357Z"
   },
   {
    "duration": 4,
    "start_time": "2022-12-02T20:26:38.363Z"
   },
   {
    "duration": 44,
    "start_time": "2022-12-02T20:26:38.368Z"
   },
   {
    "duration": 3,
    "start_time": "2022-12-02T20:26:38.414Z"
   },
   {
    "duration": 8,
    "start_time": "2022-12-02T20:26:38.419Z"
   },
   {
    "duration": 28,
    "start_time": "2022-12-02T20:26:38.428Z"
   },
   {
    "duration": 16,
    "start_time": "2022-12-02T20:26:38.461Z"
   },
   {
    "duration": 5,
    "start_time": "2022-12-02T20:26:38.478Z"
   },
   {
    "duration": 32,
    "start_time": "2022-12-02T20:26:38.484Z"
   },
   {
    "duration": 7,
    "start_time": "2022-12-02T20:26:38.518Z"
   },
   {
    "duration": 7,
    "start_time": "2022-12-02T20:26:38.526Z"
   },
   {
    "duration": 6,
    "start_time": "2022-12-02T20:26:38.535Z"
   },
   {
    "duration": 119,
    "start_time": "2022-12-02T20:26:38.543Z"
   },
   {
    "duration": 5,
    "start_time": "2022-12-02T20:26:38.663Z"
   },
   {
    "duration": 21,
    "start_time": "2022-12-02T20:26:38.670Z"
   },
   {
    "duration": 116,
    "start_time": "2022-12-02T20:26:38.692Z"
   },
   {
    "duration": 14101,
    "start_time": "2022-12-02T20:26:38.812Z"
   },
   {
    "duration": 6,
    "start_time": "2022-12-02T20:26:52.915Z"
   },
   {
    "duration": 8,
    "start_time": "2022-12-02T20:26:53.013Z"
   },
   {
    "duration": 140,
    "start_time": "2022-12-02T20:26:53.022Z"
   },
   {
    "duration": 37810,
    "start_time": "2022-12-02T20:26:53.164Z"
   },
   {
    "duration": 157,
    "start_time": "2022-12-02T20:27:30.975Z"
   },
   {
    "duration": 22914,
    "start_time": "2022-12-02T20:27:31.134Z"
   },
   {
    "duration": 133,
    "start_time": "2022-12-02T20:27:54.050Z"
   },
   {
    "duration": 9,
    "start_time": "2022-12-02T20:27:54.185Z"
   },
   {
    "duration": 20,
    "start_time": "2022-12-02T20:27:54.196Z"
   },
   {
    "duration": 284,
    "start_time": "2022-12-02T20:27:54.218Z"
   },
   {
    "duration": 1576,
    "start_time": "2022-12-03T04:40:25.895Z"
   },
   {
    "duration": 325,
    "start_time": "2022-12-03T04:40:27.473Z"
   },
   {
    "duration": 5,
    "start_time": "2022-12-03T04:40:27.800Z"
   },
   {
    "duration": 56,
    "start_time": "2022-12-03T04:40:27.807Z"
   },
   {
    "duration": 5,
    "start_time": "2022-12-03T04:40:27.864Z"
   },
   {
    "duration": 8,
    "start_time": "2022-12-03T04:40:27.870Z"
   },
   {
    "duration": 7,
    "start_time": "2022-12-03T04:40:27.880Z"
   },
   {
    "duration": 62,
    "start_time": "2022-12-03T04:40:27.889Z"
   },
   {
    "duration": 4,
    "start_time": "2022-12-03T04:40:27.953Z"
   },
   {
    "duration": 6,
    "start_time": "2022-12-03T04:40:27.959Z"
   },
   {
    "duration": 8,
    "start_time": "2022-12-03T04:40:27.967Z"
   },
   {
    "duration": 96,
    "start_time": "2022-12-03T04:40:27.976Z"
   },
   {
    "duration": 5,
    "start_time": "2022-12-03T04:40:28.074Z"
   },
   {
    "duration": 40,
    "start_time": "2022-12-03T04:40:28.080Z"
   },
   {
    "duration": 45,
    "start_time": "2022-12-03T04:40:28.121Z"
   },
   {
    "duration": 7,
    "start_time": "2022-12-03T04:40:28.167Z"
   },
   {
    "duration": 44,
    "start_time": "2022-12-03T04:40:28.176Z"
   },
   {
    "duration": 6,
    "start_time": "2022-12-03T04:40:28.221Z"
   },
   {
    "duration": 11,
    "start_time": "2022-12-03T04:40:28.228Z"
   },
   {
    "duration": 9,
    "start_time": "2022-12-03T04:40:28.240Z"
   },
   {
    "duration": 9,
    "start_time": "2022-12-03T04:40:28.250Z"
   },
   {
    "duration": 7,
    "start_time": "2022-12-03T04:40:28.260Z"
   },
   {
    "duration": 8,
    "start_time": "2022-12-03T04:40:28.269Z"
   },
   {
    "duration": 7,
    "start_time": "2022-12-03T04:40:28.278Z"
   },
   {
    "duration": 28,
    "start_time": "2022-12-03T04:40:28.287Z"
   },
   {
    "duration": 5,
    "start_time": "2022-12-03T04:40:28.317Z"
   },
   {
    "duration": 6,
    "start_time": "2022-12-03T04:40:28.323Z"
   },
   {
    "duration": 10,
    "start_time": "2022-12-03T04:40:28.333Z"
   },
   {
    "duration": 5,
    "start_time": "2022-12-03T04:40:28.345Z"
   },
   {
    "duration": 13,
    "start_time": "2022-12-03T04:40:28.351Z"
   },
   {
    "duration": 13,
    "start_time": "2022-12-03T04:40:28.366Z"
   },
   {
    "duration": 39,
    "start_time": "2022-12-03T04:40:28.380Z"
   },
   {
    "duration": 7,
    "start_time": "2022-12-03T04:40:28.421Z"
   },
   {
    "duration": 24,
    "start_time": "2022-12-03T04:40:28.430Z"
   },
   {
    "duration": 14,
    "start_time": "2022-12-03T04:40:28.456Z"
   },
   {
    "duration": 5,
    "start_time": "2022-12-03T04:40:28.472Z"
   },
   {
    "duration": 12,
    "start_time": "2022-12-03T04:40:28.479Z"
   },
   {
    "duration": 6,
    "start_time": "2022-12-03T04:40:28.492Z"
   },
   {
    "duration": 29,
    "start_time": "2022-12-03T04:40:28.500Z"
   },
   {
    "duration": 97,
    "start_time": "2022-12-03T04:40:28.531Z"
   },
   {
    "duration": 9,
    "start_time": "2022-12-03T04:40:28.629Z"
   },
   {
    "duration": 12,
    "start_time": "2022-12-03T04:40:28.639Z"
   },
   {
    "duration": 11,
    "start_time": "2022-12-03T04:40:28.652Z"
   },
   {
    "duration": 15,
    "start_time": "2022-12-03T04:40:28.664Z"
   },
   {
    "duration": 36,
    "start_time": "2022-12-03T04:40:28.680Z"
   },
   {
    "duration": 3,
    "start_time": "2022-12-03T04:40:28.717Z"
   },
   {
    "duration": 8,
    "start_time": "2022-12-03T04:40:28.721Z"
   },
   {
    "duration": 1115,
    "start_time": "2022-12-03T04:40:28.730Z"
   },
   {
    "duration": 4,
    "start_time": "2022-12-03T04:40:29.847Z"
   },
   {
    "duration": 518,
    "start_time": "2022-12-03T04:40:29.852Z"
   },
   {
    "duration": 19,
    "start_time": "2022-12-03T04:40:30.371Z"
   },
   {
    "duration": 18,
    "start_time": "2022-12-03T04:40:30.392Z"
   },
   {
    "duration": 134,
    "start_time": "2022-12-03T04:40:30.416Z"
   },
   {
    "duration": 5,
    "start_time": "2022-12-03T04:40:30.552Z"
   },
   {
    "duration": 29,
    "start_time": "2022-12-03T04:40:30.559Z"
   },
   {
    "duration": 144,
    "start_time": "2022-12-03T04:40:30.590Z"
   },
   {
    "duration": 10,
    "start_time": "2022-12-03T04:40:30.735Z"
   },
   {
    "duration": 157,
    "start_time": "2022-12-03T04:40:30.747Z"
   },
   {
    "duration": 11,
    "start_time": "2022-12-03T04:40:30.905Z"
   },
   {
    "duration": 160,
    "start_time": "2022-12-03T04:40:30.917Z"
   },
   {
    "duration": 9,
    "start_time": "2022-12-03T04:40:31.079Z"
   },
   {
    "duration": 250,
    "start_time": "2022-12-03T04:40:31.090Z"
   },
   {
    "duration": 10,
    "start_time": "2022-12-03T04:40:31.341Z"
   },
   {
    "duration": 136,
    "start_time": "2022-12-03T04:40:31.352Z"
   },
   {
    "duration": 18,
    "start_time": "2022-12-03T04:40:31.490Z"
   },
   {
    "duration": 11,
    "start_time": "2022-12-03T04:40:31.510Z"
   },
   {
    "duration": 145,
    "start_time": "2022-12-03T04:40:31.522Z"
   },
   {
    "duration": 6,
    "start_time": "2022-12-03T04:40:31.669Z"
   },
   {
    "duration": 12,
    "start_time": "2022-12-03T04:40:31.676Z"
   },
   {
    "duration": 145,
    "start_time": "2022-12-03T04:40:31.689Z"
   },
   {
    "duration": 6,
    "start_time": "2022-12-03T04:40:31.835Z"
   },
   {
    "duration": 10,
    "start_time": "2022-12-03T04:40:31.843Z"
   },
   {
    "duration": 151,
    "start_time": "2022-12-03T04:40:31.854Z"
   },
   {
    "duration": 9,
    "start_time": "2022-12-03T04:40:32.007Z"
   },
   {
    "duration": 9,
    "start_time": "2022-12-03T04:40:32.017Z"
   },
   {
    "duration": 4,
    "start_time": "2022-12-03T04:40:32.027Z"
   },
   {
    "duration": 6,
    "start_time": "2022-12-03T04:40:32.032Z"
   },
   {
    "duration": 23,
    "start_time": "2022-12-03T04:40:32.040Z"
   },
   {
    "duration": 4,
    "start_time": "2022-12-03T04:40:32.064Z"
   },
   {
    "duration": 7,
    "start_time": "2022-12-03T04:40:32.070Z"
   },
   {
    "duration": 52,
    "start_time": "2022-12-03T04:40:32.079Z"
   },
   {
    "duration": 16,
    "start_time": "2022-12-03T04:40:32.137Z"
   },
   {
    "duration": 6,
    "start_time": "2022-12-03T04:40:32.154Z"
   },
   {
    "duration": 14,
    "start_time": "2022-12-03T04:40:32.168Z"
   },
   {
    "duration": 8,
    "start_time": "2022-12-03T04:40:32.183Z"
   },
   {
    "duration": 24,
    "start_time": "2022-12-03T04:40:32.193Z"
   },
   {
    "duration": 10,
    "start_time": "2022-12-03T04:40:32.219Z"
   },
   {
    "duration": 104,
    "start_time": "2022-12-03T04:40:32.230Z"
   },
   {
    "duration": 5,
    "start_time": "2022-12-03T04:40:32.336Z"
   },
   {
    "duration": 15,
    "start_time": "2022-12-03T04:40:32.342Z"
   },
   {
    "duration": 111,
    "start_time": "2022-12-03T04:40:32.359Z"
   },
   {
    "duration": 15646,
    "start_time": "2022-12-03T04:40:32.472Z"
   },
   {
    "duration": 97,
    "start_time": "2022-12-03T04:40:48.120Z"
   },
   {
    "duration": 102,
    "start_time": "2022-12-03T04:40:48.221Z"
   },
   {
    "duration": 134,
    "start_time": "2022-12-03T04:40:48.324Z"
   },
   {
    "duration": 33876,
    "start_time": "2022-12-03T04:40:48.460Z"
   },
   {
    "duration": 133,
    "start_time": "2022-12-03T04:41:22.338Z"
   },
   {
    "duration": 21770,
    "start_time": "2022-12-03T04:41:22.473Z"
   },
   {
    "duration": 128,
    "start_time": "2022-12-03T04:41:44.244Z"
   },
   {
    "duration": 7,
    "start_time": "2022-12-03T04:41:44.374Z"
   },
   {
    "duration": 15,
    "start_time": "2022-12-03T04:41:44.382Z"
   },
   {
    "duration": 255,
    "start_time": "2022-12-03T04:41:44.398Z"
   },
   {
    "duration": 22784,
    "start_time": "2022-12-03T04:42:44.364Z"
   },
   {
    "duration": 8,
    "start_time": "2022-12-03T17:26:37.849Z"
   },
   {
    "duration": 63,
    "start_time": "2022-12-03T17:27:20.628Z"
   },
   {
    "duration": 1738,
    "start_time": "2022-12-03T17:27:27.243Z"
   },
   {
    "duration": 337,
    "start_time": "2022-12-03T17:27:28.984Z"
   },
   {
    "duration": 7,
    "start_time": "2022-12-03T17:27:29.323Z"
   },
   {
    "duration": 106,
    "start_time": "2022-12-03T17:27:29.334Z"
   },
   {
    "duration": 8,
    "start_time": "2022-12-03T17:27:29.443Z"
   },
   {
    "duration": 10,
    "start_time": "2022-12-03T17:27:29.453Z"
   },
   {
    "duration": 14,
    "start_time": "2022-12-03T17:27:29.465Z"
   },
   {
    "duration": 101,
    "start_time": "2022-12-03T17:27:29.481Z"
   },
   {
    "duration": 44,
    "start_time": "2022-12-03T17:27:29.584Z"
   },
   {
    "duration": 11,
    "start_time": "2022-12-03T17:27:29.631Z"
   },
   {
    "duration": 10,
    "start_time": "2022-12-03T17:27:29.644Z"
   },
   {
    "duration": 100,
    "start_time": "2022-12-03T17:27:29.656Z"
   },
   {
    "duration": 8,
    "start_time": "2022-12-03T17:27:29.758Z"
   },
   {
    "duration": 11,
    "start_time": "2022-12-03T17:27:29.768Z"
   },
   {
    "duration": 102,
    "start_time": "2022-12-03T17:27:29.780Z"
   },
   {
    "duration": 6,
    "start_time": "2022-12-03T17:27:29.883Z"
   },
   {
    "duration": 14,
    "start_time": "2022-12-03T17:27:29.924Z"
   },
   {
    "duration": 13,
    "start_time": "2022-12-03T17:27:29.940Z"
   },
   {
    "duration": 17,
    "start_time": "2022-12-03T17:27:29.955Z"
   },
   {
    "duration": 9,
    "start_time": "2022-12-03T17:27:29.974Z"
   },
   {
    "duration": 38,
    "start_time": "2022-12-03T17:27:29.985Z"
   },
   {
    "duration": 9,
    "start_time": "2022-12-03T17:27:30.025Z"
   },
   {
    "duration": 10,
    "start_time": "2022-12-03T17:27:30.036Z"
   },
   {
    "duration": 16,
    "start_time": "2022-12-03T17:27:30.048Z"
   },
   {
    "duration": 18,
    "start_time": "2022-12-03T17:27:30.066Z"
   },
   {
    "duration": 14,
    "start_time": "2022-12-03T17:27:30.086Z"
   },
   {
    "duration": 24,
    "start_time": "2022-12-03T17:27:30.102Z"
   },
   {
    "duration": 26,
    "start_time": "2022-12-03T17:27:30.133Z"
   },
   {
    "duration": 28,
    "start_time": "2022-12-03T17:27:30.162Z"
   },
   {
    "duration": 33,
    "start_time": "2022-12-03T17:27:30.192Z"
   },
   {
    "duration": 28,
    "start_time": "2022-12-03T17:27:30.227Z"
   },
   {
    "duration": 24,
    "start_time": "2022-12-03T17:27:30.257Z"
   },
   {
    "duration": 24,
    "start_time": "2022-12-03T17:27:30.283Z"
   },
   {
    "duration": 17,
    "start_time": "2022-12-03T17:27:30.310Z"
   },
   {
    "duration": 32,
    "start_time": "2022-12-03T17:27:30.329Z"
   },
   {
    "duration": 36,
    "start_time": "2022-12-03T17:27:30.363Z"
   },
   {
    "duration": 25,
    "start_time": "2022-12-03T17:27:30.402Z"
   },
   {
    "duration": 33,
    "start_time": "2022-12-03T17:27:30.429Z"
   },
   {
    "duration": 47,
    "start_time": "2022-12-03T17:27:30.464Z"
   },
   {
    "duration": 137,
    "start_time": "2022-12-03T17:27:30.513Z"
   },
   {
    "duration": 11,
    "start_time": "2022-12-03T17:27:30.652Z"
   },
   {
    "duration": 34,
    "start_time": "2022-12-03T17:27:30.665Z"
   },
   {
    "duration": 21,
    "start_time": "2022-12-03T17:27:30.701Z"
   },
   {
    "duration": 30,
    "start_time": "2022-12-03T17:27:30.724Z"
   },
   {
    "duration": 34,
    "start_time": "2022-12-03T17:27:30.756Z"
   },
   {
    "duration": 10,
    "start_time": "2022-12-03T17:27:30.792Z"
   },
   {
    "duration": 18,
    "start_time": "2022-12-03T17:27:30.805Z"
   },
   {
    "duration": 1340,
    "start_time": "2022-12-03T17:27:30.826Z"
   },
   {
    "duration": 6,
    "start_time": "2022-12-03T17:27:32.168Z"
   },
   {
    "duration": 649,
    "start_time": "2022-12-03T17:27:32.176Z"
   },
   {
    "duration": 20,
    "start_time": "2022-12-03T17:27:32.827Z"
   },
   {
    "duration": 13,
    "start_time": "2022-12-03T17:27:32.849Z"
   },
   {
    "duration": 175,
    "start_time": "2022-12-03T17:27:32.865Z"
   },
   {
    "duration": 8,
    "start_time": "2022-12-03T17:27:33.043Z"
   },
   {
    "duration": 27,
    "start_time": "2022-12-03T17:27:33.053Z"
   },
   {
    "duration": 135,
    "start_time": "2022-12-03T17:27:33.081Z"
   },
   {
    "duration": 10,
    "start_time": "2022-12-03T17:27:33.222Z"
   },
   {
    "duration": 162,
    "start_time": "2022-12-03T17:27:33.234Z"
   },
   {
    "duration": 13,
    "start_time": "2022-12-03T17:27:33.398Z"
   },
   {
    "duration": 264,
    "start_time": "2022-12-03T17:27:33.423Z"
   },
   {
    "duration": 15,
    "start_time": "2022-12-03T17:27:33.689Z"
   },
   {
    "duration": 156,
    "start_time": "2022-12-03T17:27:33.706Z"
   },
   {
    "duration": 11,
    "start_time": "2022-12-03T17:27:33.863Z"
   },
   {
    "duration": 142,
    "start_time": "2022-12-03T17:27:33.875Z"
   },
   {
    "duration": 7,
    "start_time": "2022-12-03T17:27:34.022Z"
   },
   {
    "duration": 15,
    "start_time": "2022-12-03T17:27:34.032Z"
   },
   {
    "duration": 202,
    "start_time": "2022-12-03T17:27:34.049Z"
   },
   {
    "duration": 10,
    "start_time": "2022-12-03T17:27:34.253Z"
   },
   {
    "duration": 15,
    "start_time": "2022-12-03T17:27:34.266Z"
   },
   {
    "duration": 173,
    "start_time": "2022-12-03T17:27:34.283Z"
   },
   {
    "duration": 6,
    "start_time": "2022-12-03T17:27:34.458Z"
   },
   {
    "duration": 10,
    "start_time": "2022-12-03T17:27:34.466Z"
   },
   {
    "duration": 170,
    "start_time": "2022-12-03T17:27:34.478Z"
   },
   {
    "duration": 11,
    "start_time": "2022-12-03T17:27:34.649Z"
   },
   {
    "duration": 26,
    "start_time": "2022-12-03T17:27:34.662Z"
   },
   {
    "duration": 6,
    "start_time": "2022-12-03T17:27:34.690Z"
   },
   {
    "duration": 7,
    "start_time": "2022-12-03T17:27:34.697Z"
   },
   {
    "duration": 45,
    "start_time": "2022-12-03T17:27:34.706Z"
   },
   {
    "duration": 5,
    "start_time": "2022-12-03T17:27:34.754Z"
   },
   {
    "duration": 7,
    "start_time": "2022-12-03T17:27:34.761Z"
   },
   {
    "duration": 27,
    "start_time": "2022-12-03T17:27:34.770Z"
   },
   {
    "duration": 73,
    "start_time": "2022-12-03T17:27:34.821Z"
   },
   {
    "duration": 1,
    "start_time": "2022-12-03T17:27:34.896Z"
   },
   {
    "duration": 0,
    "start_time": "2022-12-03T17:27:34.898Z"
   },
   {
    "duration": 0,
    "start_time": "2022-12-03T17:27:34.900Z"
   },
   {
    "duration": 0,
    "start_time": "2022-12-03T17:27:34.902Z"
   },
   {
    "duration": 0,
    "start_time": "2022-12-03T17:27:34.903Z"
   },
   {
    "duration": 0,
    "start_time": "2022-12-03T17:27:34.905Z"
   },
   {
    "duration": 0,
    "start_time": "2022-12-03T17:27:34.907Z"
   },
   {
    "duration": 0,
    "start_time": "2022-12-03T17:27:34.909Z"
   },
   {
    "duration": 0,
    "start_time": "2022-12-03T17:27:34.910Z"
   },
   {
    "duration": 0,
    "start_time": "2022-12-03T17:27:34.912Z"
   },
   {
    "duration": 0,
    "start_time": "2022-12-03T17:27:34.913Z"
   },
   {
    "duration": 0,
    "start_time": "2022-12-03T17:27:34.914Z"
   },
   {
    "duration": 0,
    "start_time": "2022-12-03T17:27:34.916Z"
   },
   {
    "duration": 0,
    "start_time": "2022-12-03T17:27:34.917Z"
   },
   {
    "duration": 0,
    "start_time": "2022-12-03T17:27:34.918Z"
   },
   {
    "duration": 0,
    "start_time": "2022-12-03T17:27:34.920Z"
   },
   {
    "duration": 0,
    "start_time": "2022-12-03T17:27:34.921Z"
   },
   {
    "duration": 0,
    "start_time": "2022-12-03T17:27:34.923Z"
   },
   {
    "duration": 0,
    "start_time": "2022-12-03T17:27:34.924Z"
   },
   {
    "duration": 0,
    "start_time": "2022-12-03T17:27:34.925Z"
   },
   {
    "duration": 0,
    "start_time": "2022-12-03T17:27:34.927Z"
   },
   {
    "duration": 0,
    "start_time": "2022-12-03T17:27:34.928Z"
   },
   {
    "duration": 0,
    "start_time": "2022-12-03T17:27:34.930Z"
   },
   {
    "duration": 74,
    "start_time": "2022-12-03T17:28:46.387Z"
   },
   {
    "duration": 1924,
    "start_time": "2022-12-03T17:29:03.610Z"
   },
   {
    "duration": 124,
    "start_time": "2022-12-03T17:29:05.536Z"
   },
   {
    "duration": 6,
    "start_time": "2022-12-03T17:29:05.663Z"
   },
   {
    "duration": 84,
    "start_time": "2022-12-03T17:29:05.672Z"
   },
   {
    "duration": 9,
    "start_time": "2022-12-03T17:29:05.758Z"
   },
   {
    "duration": 16,
    "start_time": "2022-12-03T17:29:05.769Z"
   },
   {
    "duration": 42,
    "start_time": "2022-12-03T17:29:05.787Z"
   },
   {
    "duration": 193,
    "start_time": "2022-12-03T17:29:05.831Z"
   },
   {
    "duration": 25,
    "start_time": "2022-12-03T17:29:06.031Z"
   },
   {
    "duration": 42,
    "start_time": "2022-12-03T17:29:06.060Z"
   },
   {
    "duration": 11,
    "start_time": "2022-12-03T17:29:06.104Z"
   },
   {
    "duration": 117,
    "start_time": "2022-12-03T17:29:06.117Z"
   },
   {
    "duration": 8,
    "start_time": "2022-12-03T17:29:06.236Z"
   },
   {
    "duration": 16,
    "start_time": "2022-12-03T17:29:06.246Z"
   },
   {
    "duration": 98,
    "start_time": "2022-12-03T17:29:06.264Z"
   },
   {
    "duration": 9,
    "start_time": "2022-12-03T17:29:06.364Z"
   },
   {
    "duration": 57,
    "start_time": "2022-12-03T17:29:06.375Z"
   },
   {
    "duration": 13,
    "start_time": "2022-12-03T17:29:06.434Z"
   },
   {
    "duration": 18,
    "start_time": "2022-12-03T17:29:06.450Z"
   },
   {
    "duration": 12,
    "start_time": "2022-12-03T17:29:06.471Z"
   },
   {
    "duration": 16,
    "start_time": "2022-12-03T17:29:06.485Z"
   },
   {
    "duration": 30,
    "start_time": "2022-12-03T17:29:06.503Z"
   },
   {
    "duration": 13,
    "start_time": "2022-12-03T17:29:06.536Z"
   },
   {
    "duration": 25,
    "start_time": "2022-12-03T17:29:06.551Z"
   },
   {
    "duration": 8,
    "start_time": "2022-12-03T17:29:06.579Z"
   },
   {
    "duration": 13,
    "start_time": "2022-12-03T17:29:06.592Z"
   },
   {
    "duration": 19,
    "start_time": "2022-12-03T17:29:06.608Z"
   },
   {
    "duration": 16,
    "start_time": "2022-12-03T17:29:06.634Z"
   },
   {
    "duration": 17,
    "start_time": "2022-12-03T17:29:06.653Z"
   },
   {
    "duration": 24,
    "start_time": "2022-12-03T17:29:06.673Z"
   },
   {
    "duration": 27,
    "start_time": "2022-12-03T17:29:06.699Z"
   },
   {
    "duration": 25,
    "start_time": "2022-12-03T17:29:06.728Z"
   },
   {
    "duration": 16,
    "start_time": "2022-12-03T17:29:06.756Z"
   },
   {
    "duration": 12,
    "start_time": "2022-12-03T17:29:06.775Z"
   },
   {
    "duration": 32,
    "start_time": "2022-12-03T17:29:06.789Z"
   },
   {
    "duration": 15,
    "start_time": "2022-12-03T17:29:06.824Z"
   },
   {
    "duration": 26,
    "start_time": "2022-12-03T17:29:06.842Z"
   },
   {
    "duration": 19,
    "start_time": "2022-12-03T17:29:06.870Z"
   },
   {
    "duration": 48,
    "start_time": "2022-12-03T17:29:06.896Z"
   },
   {
    "duration": 143,
    "start_time": "2022-12-03T17:29:06.951Z"
   },
   {
    "duration": 33,
    "start_time": "2022-12-03T17:29:07.096Z"
   },
   {
    "duration": 7,
    "start_time": "2022-12-03T17:29:07.132Z"
   },
   {
    "duration": 15,
    "start_time": "2022-12-03T17:29:07.142Z"
   },
   {
    "duration": 28,
    "start_time": "2022-12-03T17:29:07.160Z"
   },
   {
    "duration": 51,
    "start_time": "2022-12-03T17:29:07.190Z"
   },
   {
    "duration": 4,
    "start_time": "2022-12-03T17:29:07.244Z"
   },
   {
    "duration": 10,
    "start_time": "2022-12-03T17:29:07.250Z"
   },
   {
    "duration": 1835,
    "start_time": "2022-12-03T17:29:07.261Z"
   },
   {
    "duration": 6,
    "start_time": "2022-12-03T17:29:09.099Z"
   },
   {
    "duration": 854,
    "start_time": "2022-12-03T17:29:09.122Z"
   },
   {
    "duration": 29,
    "start_time": "2022-12-03T17:29:09.978Z"
   },
   {
    "duration": 17,
    "start_time": "2022-12-03T17:29:10.009Z"
   },
   {
    "duration": 171,
    "start_time": "2022-12-03T17:29:10.029Z"
   },
   {
    "duration": 21,
    "start_time": "2022-12-03T17:29:10.202Z"
   },
   {
    "duration": 16,
    "start_time": "2022-12-03T17:29:10.225Z"
   },
   {
    "duration": 200,
    "start_time": "2022-12-03T17:29:10.243Z"
   },
   {
    "duration": 17,
    "start_time": "2022-12-03T17:29:10.446Z"
   },
   {
    "duration": 239,
    "start_time": "2022-12-03T17:29:10.465Z"
   },
   {
    "duration": 24,
    "start_time": "2022-12-03T17:29:10.705Z"
   },
   {
    "duration": 216,
    "start_time": "2022-12-03T17:29:10.732Z"
   },
   {
    "duration": 14,
    "start_time": "2022-12-03T17:29:10.951Z"
   },
   {
    "duration": 375,
    "start_time": "2022-12-03T17:29:10.968Z"
   },
   {
    "duration": 14,
    "start_time": "2022-12-03T17:29:11.345Z"
   },
   {
    "duration": 220,
    "start_time": "2022-12-03T17:29:11.361Z"
   },
   {
    "duration": 13,
    "start_time": "2022-12-03T17:29:11.584Z"
   },
   {
    "duration": 25,
    "start_time": "2022-12-03T17:29:11.600Z"
   },
   {
    "duration": 240,
    "start_time": "2022-12-03T17:29:11.627Z"
   },
   {
    "duration": 8,
    "start_time": "2022-12-03T17:29:11.869Z"
   },
   {
    "duration": 11,
    "start_time": "2022-12-03T17:29:11.879Z"
   },
   {
    "duration": 253,
    "start_time": "2022-12-03T17:29:11.892Z"
   },
   {
    "duration": 10,
    "start_time": "2022-12-03T17:29:12.148Z"
   },
   {
    "duration": 36,
    "start_time": "2022-12-03T17:29:12.160Z"
   },
   {
    "duration": 226,
    "start_time": "2022-12-03T17:29:12.199Z"
   },
   {
    "duration": 9,
    "start_time": "2022-12-03T17:29:12.427Z"
   },
   {
    "duration": 13,
    "start_time": "2022-12-03T17:29:12.439Z"
   },
   {
    "duration": 6,
    "start_time": "2022-12-03T17:29:12.455Z"
   },
   {
    "duration": 7,
    "start_time": "2022-12-03T17:29:12.463Z"
   },
   {
    "duration": 61,
    "start_time": "2022-12-03T17:29:12.473Z"
   },
   {
    "duration": 5,
    "start_time": "2022-12-03T17:29:12.537Z"
   },
   {
    "duration": 9,
    "start_time": "2022-12-03T17:29:12.544Z"
   },
   {
    "duration": 31,
    "start_time": "2022-12-03T17:29:12.556Z"
   },
   {
    "duration": 49,
    "start_time": "2022-12-03T17:29:12.595Z"
   },
   {
    "duration": 7,
    "start_time": "2022-12-03T17:29:12.647Z"
   },
   {
    "duration": 6,
    "start_time": "2022-12-03T17:29:12.656Z"
   },
   {
    "duration": 17,
    "start_time": "2022-12-03T17:29:12.664Z"
   },
   {
    "duration": 17,
    "start_time": "2022-12-03T17:29:12.684Z"
   },
   {
    "duration": 11,
    "start_time": "2022-12-03T17:29:12.722Z"
   },
   {
    "duration": 12,
    "start_time": "2022-12-03T17:29:12.738Z"
   },
   {
    "duration": 175,
    "start_time": "2022-12-03T17:29:12.752Z"
   },
   {
    "duration": 10,
    "start_time": "2022-12-03T17:29:12.929Z"
   },
   {
    "duration": 15,
    "start_time": "2022-12-03T17:29:12.941Z"
   },
   {
    "duration": 182,
    "start_time": "2022-12-03T17:29:12.959Z"
   },
   {
    "duration": 32682,
    "start_time": "2022-12-03T17:29:13.143Z"
   },
   {
    "duration": 9,
    "start_time": "2022-12-03T17:29:45.837Z"
   },
   {
    "duration": 92,
    "start_time": "2022-12-03T17:29:45.855Z"
   },
   {
    "duration": 239,
    "start_time": "2022-12-03T17:29:45.950Z"
   },
   {
    "duration": 53146,
    "start_time": "2022-12-03T17:29:46.192Z"
   },
   {
    "duration": 141,
    "start_time": "2022-12-03T17:30:39.339Z"
   },
   {
    "duration": 32960,
    "start_time": "2022-12-03T17:30:39.482Z"
   },
   {
    "duration": 151,
    "start_time": "2022-12-03T17:31:12.445Z"
   },
   {
    "duration": 8,
    "start_time": "2022-12-03T17:31:12.597Z"
   },
   {
    "duration": 13,
    "start_time": "2022-12-03T17:31:12.622Z"
   },
   {
    "duration": 289,
    "start_time": "2022-12-03T17:31:12.637Z"
   },
   {
    "duration": 36293,
    "start_time": "2022-12-03T19:06:18.581Z"
   },
   {
    "duration": 179,
    "start_time": "2022-12-03T19:07:01.081Z"
   },
   {
    "duration": 1524,
    "start_time": "2022-12-03T19:36:19.115Z"
   },
   {
    "duration": 105,
    "start_time": "2022-12-03T19:36:20.641Z"
   },
   {
    "duration": 4,
    "start_time": "2022-12-03T19:36:20.748Z"
   },
   {
    "duration": 86,
    "start_time": "2022-12-03T19:36:20.753Z"
   },
   {
    "duration": 6,
    "start_time": "2022-12-03T19:36:20.841Z"
   },
   {
    "duration": 12,
    "start_time": "2022-12-03T19:36:20.849Z"
   },
   {
    "duration": 14,
    "start_time": "2022-12-03T19:36:20.862Z"
   },
   {
    "duration": 67,
    "start_time": "2022-12-03T19:36:20.877Z"
   },
   {
    "duration": 7,
    "start_time": "2022-12-03T19:36:20.946Z"
   },
   {
    "duration": 12,
    "start_time": "2022-12-03T19:36:20.955Z"
   },
   {
    "duration": 7,
    "start_time": "2022-12-03T19:36:20.969Z"
   },
   {
    "duration": 117,
    "start_time": "2022-12-03T19:36:20.978Z"
   },
   {
    "duration": 32,
    "start_time": "2022-12-03T19:36:21.097Z"
   },
   {
    "duration": 8,
    "start_time": "2022-12-03T19:36:21.132Z"
   },
   {
    "duration": 49,
    "start_time": "2022-12-03T19:36:21.143Z"
   },
   {
    "duration": 11,
    "start_time": "2022-12-03T19:36:21.222Z"
   },
   {
    "duration": 21,
    "start_time": "2022-12-03T19:36:21.235Z"
   },
   {
    "duration": 7,
    "start_time": "2022-12-03T19:36:21.257Z"
   },
   {
    "duration": 13,
    "start_time": "2022-12-03T19:36:21.266Z"
   },
   {
    "duration": 13,
    "start_time": "2022-12-03T19:36:21.280Z"
   },
   {
    "duration": 7,
    "start_time": "2022-12-03T19:36:21.295Z"
   },
   {
    "duration": 21,
    "start_time": "2022-12-03T19:36:21.304Z"
   },
   {
    "duration": 12,
    "start_time": "2022-12-03T19:36:21.331Z"
   },
   {
    "duration": 9,
    "start_time": "2022-12-03T19:36:21.345Z"
   },
   {
    "duration": 8,
    "start_time": "2022-12-03T19:36:21.356Z"
   },
   {
    "duration": 10,
    "start_time": "2022-12-03T19:36:21.367Z"
   },
   {
    "duration": 7,
    "start_time": "2022-12-03T19:36:21.378Z"
   },
   {
    "duration": 13,
    "start_time": "2022-12-03T19:36:21.387Z"
   },
   {
    "duration": 11,
    "start_time": "2022-12-03T19:36:21.422Z"
   },
   {
    "duration": 18,
    "start_time": "2022-12-03T19:36:21.435Z"
   },
   {
    "duration": 11,
    "start_time": "2022-12-03T19:36:21.455Z"
   },
   {
    "duration": 14,
    "start_time": "2022-12-03T19:36:21.468Z"
   },
   {
    "duration": 12,
    "start_time": "2022-12-03T19:36:21.483Z"
   },
   {
    "duration": 6,
    "start_time": "2022-12-03T19:36:21.496Z"
   },
   {
    "duration": 30,
    "start_time": "2022-12-03T19:36:21.503Z"
   },
   {
    "duration": 9,
    "start_time": "2022-12-03T19:36:21.537Z"
   },
   {
    "duration": 13,
    "start_time": "2022-12-03T19:36:21.548Z"
   },
   {
    "duration": 9,
    "start_time": "2022-12-03T19:36:21.563Z"
   },
   {
    "duration": 56,
    "start_time": "2022-12-03T19:36:21.574Z"
   },
   {
    "duration": 114,
    "start_time": "2022-12-03T19:36:21.639Z"
   },
   {
    "duration": 10,
    "start_time": "2022-12-03T19:36:21.758Z"
   },
   {
    "duration": 7,
    "start_time": "2022-12-03T19:36:21.769Z"
   },
   {
    "duration": 11,
    "start_time": "2022-12-03T19:36:21.778Z"
   },
   {
    "duration": 45,
    "start_time": "2022-12-03T19:36:21.790Z"
   },
   {
    "duration": 28,
    "start_time": "2022-12-03T19:36:21.839Z"
   },
   {
    "duration": 7,
    "start_time": "2022-12-03T19:36:21.869Z"
   },
   {
    "duration": 9,
    "start_time": "2022-12-03T19:36:21.879Z"
   },
   {
    "duration": 1275,
    "start_time": "2022-12-03T19:36:21.891Z"
   },
   {
    "duration": 4,
    "start_time": "2022-12-03T19:36:23.167Z"
   },
   {
    "duration": 552,
    "start_time": "2022-12-03T19:36:23.173Z"
   },
   {
    "duration": 25,
    "start_time": "2022-12-03T19:36:23.731Z"
   },
   {
    "duration": 3,
    "start_time": "2022-12-03T19:36:23.758Z"
   },
   {
    "duration": 107,
    "start_time": "2022-12-03T19:36:23.763Z"
   },
   {
    "duration": 7,
    "start_time": "2022-12-03T19:36:23.872Z"
   },
   {
    "duration": 15,
    "start_time": "2022-12-03T19:36:23.881Z"
   },
   {
    "duration": 159,
    "start_time": "2022-12-03T19:36:23.900Z"
   },
   {
    "duration": 13,
    "start_time": "2022-12-03T19:36:24.061Z"
   },
   {
    "duration": 238,
    "start_time": "2022-12-03T19:36:24.075Z"
   },
   {
    "duration": 20,
    "start_time": "2022-12-03T19:36:24.315Z"
   },
   {
    "duration": 195,
    "start_time": "2022-12-03T19:36:24.337Z"
   },
   {
    "duration": 15,
    "start_time": "2022-12-03T19:36:24.534Z"
   },
   {
    "duration": 286,
    "start_time": "2022-12-03T19:36:24.552Z"
   },
   {
    "duration": 10,
    "start_time": "2022-12-03T19:36:24.840Z"
   },
   {
    "duration": 177,
    "start_time": "2022-12-03T19:36:24.852Z"
   },
   {
    "duration": 7,
    "start_time": "2022-12-03T19:36:25.031Z"
   },
   {
    "duration": 26,
    "start_time": "2022-12-03T19:36:25.041Z"
   },
   {
    "duration": 154,
    "start_time": "2022-12-03T19:36:25.069Z"
   },
   {
    "duration": 7,
    "start_time": "2022-12-03T19:36:25.225Z"
   },
   {
    "duration": 27,
    "start_time": "2022-12-03T19:36:25.238Z"
   },
   {
    "duration": 172,
    "start_time": "2022-12-03T19:36:25.267Z"
   },
   {
    "duration": 7,
    "start_time": "2022-12-03T19:36:25.440Z"
   },
   {
    "duration": 12,
    "start_time": "2022-12-03T19:36:25.448Z"
   },
   {
    "duration": 147,
    "start_time": "2022-12-03T19:36:25.461Z"
   },
   {
    "duration": 25,
    "start_time": "2022-12-03T19:36:25.610Z"
   },
   {
    "duration": 10,
    "start_time": "2022-12-03T19:36:25.636Z"
   },
   {
    "duration": 14,
    "start_time": "2022-12-03T19:36:25.647Z"
   },
   {
    "duration": 17,
    "start_time": "2022-12-03T19:36:25.663Z"
   },
   {
    "duration": 38,
    "start_time": "2022-12-03T19:36:25.682Z"
   },
   {
    "duration": 18,
    "start_time": "2022-12-03T19:36:25.731Z"
   },
   {
    "duration": 19,
    "start_time": "2022-12-03T19:36:25.750Z"
   },
   {
    "duration": 22,
    "start_time": "2022-12-03T19:36:25.771Z"
   },
   {
    "duration": 35,
    "start_time": "2022-12-03T19:36:25.795Z"
   },
   {
    "duration": 34,
    "start_time": "2022-12-03T19:36:25.831Z"
   },
   {
    "duration": 38,
    "start_time": "2022-12-03T19:36:25.867Z"
   },
   {
    "duration": 23,
    "start_time": "2022-12-03T19:36:25.907Z"
   },
   {
    "duration": 43,
    "start_time": "2022-12-03T19:36:25.932Z"
   },
   {
    "duration": 12,
    "start_time": "2022-12-03T19:36:25.977Z"
   },
   {
    "duration": 10,
    "start_time": "2022-12-03T19:36:25.990Z"
   },
   {
    "duration": 29,
    "start_time": "2022-12-03T19:36:26.001Z"
   },
   {
    "duration": 147,
    "start_time": "2022-12-03T19:36:26.032Z"
   },
   {
    "duration": 4,
    "start_time": "2022-12-03T19:36:26.181Z"
   },
   {
    "duration": 13,
    "start_time": "2022-12-03T19:36:26.187Z"
   },
   {
    "duration": 126,
    "start_time": "2022-12-03T19:36:26.201Z"
   },
   {
    "duration": 32594,
    "start_time": "2022-12-03T19:36:26.333Z"
   },
   {
    "duration": 7,
    "start_time": "2022-12-03T19:36:58.933Z"
   },
   {
    "duration": 101,
    "start_time": "2022-12-03T19:36:58.943Z"
   },
   {
    "duration": 151,
    "start_time": "2022-12-03T19:36:59.048Z"
   },
   {
    "duration": 38710,
    "start_time": "2022-12-03T19:36:59.200Z"
   },
   {
    "duration": 145,
    "start_time": "2022-12-03T19:37:37.912Z"
   },
   {
    "duration": 32378,
    "start_time": "2022-12-03T19:37:38.058Z"
   },
   {
    "duration": 131,
    "start_time": "2022-12-03T19:38:10.437Z"
   },
   {
    "duration": 8,
    "start_time": "2022-12-03T19:38:10.569Z"
   },
   {
    "duration": 11,
    "start_time": "2022-12-03T19:38:10.579Z"
   },
   {
    "duration": 279,
    "start_time": "2022-12-03T19:38:10.592Z"
   },
   {
    "duration": 18,
    "start_time": "2022-12-03T20:14:05.049Z"
   },
   {
    "duration": 9,
    "start_time": "2022-12-03T20:14:54.959Z"
   },
   {
    "duration": 19,
    "start_time": "2022-12-03T20:14:58.014Z"
   },
   {
    "duration": 23,
    "start_time": "2022-12-03T20:20:18.567Z"
   },
   {
    "duration": 16,
    "start_time": "2022-12-03T20:20:31.657Z"
   },
   {
    "duration": 15,
    "start_time": "2022-12-03T20:20:52.352Z"
   },
   {
    "duration": 8,
    "start_time": "2022-12-03T20:24:14.475Z"
   },
   {
    "duration": 7,
    "start_time": "2022-12-03T20:24:26.971Z"
   },
   {
    "duration": 1748,
    "start_time": "2022-12-04T08:19:28.493Z"
   },
   {
    "duration": 355,
    "start_time": "2022-12-04T08:19:30.243Z"
   },
   {
    "duration": 4,
    "start_time": "2022-12-04T08:19:30.600Z"
   },
   {
    "duration": 88,
    "start_time": "2022-12-04T08:19:30.606Z"
   },
   {
    "duration": 6,
    "start_time": "2022-12-04T08:19:30.696Z"
   },
   {
    "duration": 39,
    "start_time": "2022-12-04T08:19:30.704Z"
   },
   {
    "duration": 20,
    "start_time": "2022-12-04T08:19:30.745Z"
   },
   {
    "duration": 74,
    "start_time": "2022-12-04T08:19:30.767Z"
   },
   {
    "duration": 7,
    "start_time": "2022-12-04T08:19:30.843Z"
   },
   {
    "duration": 15,
    "start_time": "2022-12-04T08:19:30.852Z"
   },
   {
    "duration": 30,
    "start_time": "2022-12-04T08:19:30.869Z"
   },
   {
    "duration": 89,
    "start_time": "2022-12-04T08:19:30.901Z"
   },
   {
    "duration": 6,
    "start_time": "2022-12-04T08:19:30.993Z"
   },
   {
    "duration": 40,
    "start_time": "2022-12-04T08:19:31.002Z"
   },
   {
    "duration": 112,
    "start_time": "2022-12-04T08:19:31.044Z"
   },
   {
    "duration": 7,
    "start_time": "2022-12-04T08:19:31.158Z"
   },
   {
    "duration": 31,
    "start_time": "2022-12-04T08:19:31.167Z"
   },
   {
    "duration": 20,
    "start_time": "2022-12-04T08:19:31.200Z"
   },
   {
    "duration": 20,
    "start_time": "2022-12-04T08:19:31.222Z"
   },
   {
    "duration": 7,
    "start_time": "2022-12-04T08:19:31.244Z"
   },
   {
    "duration": 20,
    "start_time": "2022-12-04T08:19:31.253Z"
   },
   {
    "duration": 9,
    "start_time": "2022-12-04T08:19:31.275Z"
   },
   {
    "duration": 8,
    "start_time": "2022-12-04T08:19:31.286Z"
   },
   {
    "duration": 11,
    "start_time": "2022-12-04T08:19:31.296Z"
   },
   {
    "duration": 32,
    "start_time": "2022-12-04T08:19:31.309Z"
   },
   {
    "duration": 27,
    "start_time": "2022-12-04T08:19:31.343Z"
   },
   {
    "duration": 21,
    "start_time": "2022-12-04T08:19:31.372Z"
   },
   {
    "duration": 22,
    "start_time": "2022-12-04T08:19:31.395Z"
   },
   {
    "duration": 6,
    "start_time": "2022-12-04T08:19:31.419Z"
   },
   {
    "duration": 17,
    "start_time": "2022-12-04T08:19:31.427Z"
   },
   {
    "duration": 16,
    "start_time": "2022-12-04T08:19:31.446Z"
   },
   {
    "duration": 18,
    "start_time": "2022-12-04T08:19:31.464Z"
   },
   {
    "duration": 10,
    "start_time": "2022-12-04T08:19:31.484Z"
   },
   {
    "duration": 7,
    "start_time": "2022-12-04T08:19:31.496Z"
   },
   {
    "duration": 18,
    "start_time": "2022-12-04T08:19:31.504Z"
   },
   {
    "duration": 4,
    "start_time": "2022-12-04T08:19:31.537Z"
   },
   {
    "duration": 17,
    "start_time": "2022-12-04T08:19:31.542Z"
   },
   {
    "duration": 10,
    "start_time": "2022-12-04T08:19:31.561Z"
   },
   {
    "duration": 27,
    "start_time": "2022-12-04T08:19:31.573Z"
   },
   {
    "duration": 141,
    "start_time": "2022-12-04T08:19:31.602Z"
   },
   {
    "duration": 10,
    "start_time": "2022-12-04T08:19:31.748Z"
   },
   {
    "duration": 7,
    "start_time": "2022-12-04T08:19:31.760Z"
   },
   {
    "duration": 17,
    "start_time": "2022-12-04T08:19:31.769Z"
   },
   {
    "duration": 28,
    "start_time": "2022-12-04T08:19:31.789Z"
   },
   {
    "duration": 38,
    "start_time": "2022-12-04T08:19:31.818Z"
   },
   {
    "duration": 5,
    "start_time": "2022-12-04T08:19:31.858Z"
   },
   {
    "duration": 7,
    "start_time": "2022-12-04T08:19:31.865Z"
   },
   {
    "duration": 1328,
    "start_time": "2022-12-04T08:19:31.873Z"
   },
   {
    "duration": 5,
    "start_time": "2022-12-04T08:19:33.203Z"
   },
   {
    "duration": 599,
    "start_time": "2022-12-04T08:19:33.210Z"
   },
   {
    "duration": 35,
    "start_time": "2022-12-04T08:19:33.812Z"
   },
   {
    "duration": 5,
    "start_time": "2022-12-04T08:19:33.849Z"
   },
   {
    "duration": 122,
    "start_time": "2022-12-04T08:19:33.857Z"
   },
   {
    "duration": 7,
    "start_time": "2022-12-04T08:19:33.981Z"
   },
   {
    "duration": 16,
    "start_time": "2022-12-04T08:19:33.989Z"
   },
   {
    "duration": 150,
    "start_time": "2022-12-04T08:19:34.007Z"
   },
   {
    "duration": 12,
    "start_time": "2022-12-04T08:19:34.158Z"
   },
   {
    "duration": 165,
    "start_time": "2022-12-04T08:19:34.172Z"
   },
   {
    "duration": 11,
    "start_time": "2022-12-04T08:19:34.339Z"
   },
   {
    "duration": 155,
    "start_time": "2022-12-04T08:19:34.351Z"
   },
   {
    "duration": 11,
    "start_time": "2022-12-04T08:19:34.508Z"
   },
   {
    "duration": 267,
    "start_time": "2022-12-04T08:19:34.521Z"
   },
   {
    "duration": 12,
    "start_time": "2022-12-04T08:19:34.790Z"
   },
   {
    "duration": 144,
    "start_time": "2022-12-04T08:19:34.804Z"
   },
   {
    "duration": 8,
    "start_time": "2022-12-04T08:19:34.950Z"
   },
   {
    "duration": 14,
    "start_time": "2022-12-04T08:19:34.960Z"
   },
   {
    "duration": 186,
    "start_time": "2022-12-04T08:19:34.976Z"
   },
   {
    "duration": 8,
    "start_time": "2022-12-04T08:19:35.164Z"
   },
   {
    "duration": 13,
    "start_time": "2022-12-04T08:19:35.173Z"
   },
   {
    "duration": 184,
    "start_time": "2022-12-04T08:19:35.188Z"
   },
   {
    "duration": 8,
    "start_time": "2022-12-04T08:19:35.374Z"
   },
   {
    "duration": 13,
    "start_time": "2022-12-04T08:19:35.384Z"
   },
   {
    "duration": 172,
    "start_time": "2022-12-04T08:19:35.399Z"
   },
   {
    "duration": 8,
    "start_time": "2022-12-04T08:19:35.573Z"
   },
   {
    "duration": 11,
    "start_time": "2022-12-04T08:19:35.583Z"
   },
   {
    "duration": 5,
    "start_time": "2022-12-04T08:19:35.596Z"
   },
   {
    "duration": 35,
    "start_time": "2022-12-04T08:19:35.603Z"
   },
   {
    "duration": 23,
    "start_time": "2022-12-04T08:19:35.641Z"
   },
   {
    "duration": 5,
    "start_time": "2022-12-04T08:19:35.666Z"
   },
   {
    "duration": 8,
    "start_time": "2022-12-04T08:19:35.672Z"
   },
   {
    "duration": 18,
    "start_time": "2022-12-04T08:19:35.681Z"
   },
   {
    "duration": 8,
    "start_time": "2022-12-04T08:19:35.701Z"
   },
   {
    "duration": 28,
    "start_time": "2022-12-04T08:19:35.710Z"
   },
   {
    "duration": 12,
    "start_time": "2022-12-04T08:19:35.739Z"
   },
   {
    "duration": 52,
    "start_time": "2022-12-04T08:19:35.753Z"
   },
   {
    "duration": 43,
    "start_time": "2022-12-04T08:19:35.806Z"
   },
   {
    "duration": 17,
    "start_time": "2022-12-04T08:19:35.852Z"
   },
   {
    "duration": 8,
    "start_time": "2022-12-04T08:19:35.871Z"
   },
   {
    "duration": 7,
    "start_time": "2022-12-04T08:19:35.881Z"
   },
   {
    "duration": 7,
    "start_time": "2022-12-04T08:19:35.890Z"
   },
   {
    "duration": 142,
    "start_time": "2022-12-04T08:19:35.899Z"
   },
   {
    "duration": 6,
    "start_time": "2022-12-04T08:19:36.043Z"
   },
   {
    "duration": 17,
    "start_time": "2022-12-04T08:19:36.051Z"
   },
   {
    "duration": 133,
    "start_time": "2022-12-04T08:19:36.070Z"
   },
   {
    "duration": 17238,
    "start_time": "2022-12-04T08:19:36.205Z"
   },
   {
    "duration": 101,
    "start_time": "2022-12-04T08:19:53.445Z"
   },
   {
    "duration": 90,
    "start_time": "2022-12-04T08:19:53.549Z"
   },
   {
    "duration": 153,
    "start_time": "2022-12-04T08:19:53.641Z"
   },
   {
    "duration": 40555,
    "start_time": "2022-12-04T08:19:53.795Z"
   },
   {
    "duration": 153,
    "start_time": "2022-12-04T08:20:34.352Z"
   },
   {
    "duration": 33167,
    "start_time": "2022-12-04T08:20:34.508Z"
   },
   {
    "duration": 163,
    "start_time": "2022-12-04T08:21:07.677Z"
   },
   {
    "duration": 8,
    "start_time": "2022-12-04T08:21:07.842Z"
   },
   {
    "duration": 14,
    "start_time": "2022-12-04T08:21:07.853Z"
   },
   {
    "duration": 320,
    "start_time": "2022-12-04T08:21:07.869Z"
   },
   {
    "duration": 1600,
    "start_time": "2022-12-04T18:25:16.014Z"
   },
   {
    "duration": 338,
    "start_time": "2022-12-04T18:25:17.616Z"
   },
   {
    "duration": 4,
    "start_time": "2022-12-04T18:25:17.956Z"
   },
   {
    "duration": 66,
    "start_time": "2022-12-04T18:25:17.962Z"
   },
   {
    "duration": 6,
    "start_time": "2022-12-04T18:25:18.030Z"
   },
   {
    "duration": 14,
    "start_time": "2022-12-04T18:25:18.037Z"
   },
   {
    "duration": 46,
    "start_time": "2022-12-04T18:25:18.053Z"
   },
   {
    "duration": 51,
    "start_time": "2022-12-04T18:25:18.100Z"
   },
   {
    "duration": 7,
    "start_time": "2022-12-04T18:25:18.152Z"
   },
   {
    "duration": 9,
    "start_time": "2022-12-04T18:25:18.196Z"
   },
   {
    "duration": 11,
    "start_time": "2022-12-04T18:25:18.207Z"
   },
   {
    "duration": 94,
    "start_time": "2022-12-04T18:25:18.219Z"
   },
   {
    "duration": 6,
    "start_time": "2022-12-04T18:25:18.315Z"
   },
   {
    "duration": 9,
    "start_time": "2022-12-04T18:25:18.323Z"
   },
   {
    "duration": 81,
    "start_time": "2022-12-04T18:25:18.334Z"
   },
   {
    "duration": 6,
    "start_time": "2022-12-04T18:25:18.416Z"
   },
   {
    "duration": 16,
    "start_time": "2022-12-04T18:25:18.424Z"
   },
   {
    "duration": 6,
    "start_time": "2022-12-04T18:25:18.441Z"
   },
   {
    "duration": 13,
    "start_time": "2022-12-04T18:25:18.449Z"
   },
   {
    "duration": 10,
    "start_time": "2022-12-04T18:25:18.495Z"
   },
   {
    "duration": 24,
    "start_time": "2022-12-04T18:25:18.507Z"
   },
   {
    "duration": 8,
    "start_time": "2022-12-04T18:25:18.534Z"
   },
   {
    "duration": 11,
    "start_time": "2022-12-04T18:25:18.544Z"
   },
   {
    "duration": 12,
    "start_time": "2022-12-04T18:25:18.557Z"
   },
   {
    "duration": 24,
    "start_time": "2022-12-04T18:25:18.571Z"
   },
   {
    "duration": 8,
    "start_time": "2022-12-04T18:25:18.598Z"
   },
   {
    "duration": 11,
    "start_time": "2022-12-04T18:25:18.607Z"
   },
   {
    "duration": 15,
    "start_time": "2022-12-04T18:25:18.622Z"
   },
   {
    "duration": 8,
    "start_time": "2022-12-04T18:25:18.639Z"
   },
   {
    "duration": 24,
    "start_time": "2022-12-04T18:25:18.649Z"
   },
   {
    "duration": 22,
    "start_time": "2022-12-04T18:25:18.675Z"
   },
   {
    "duration": 11,
    "start_time": "2022-12-04T18:25:18.699Z"
   },
   {
    "duration": 9,
    "start_time": "2022-12-04T18:25:18.712Z"
   },
   {
    "duration": 8,
    "start_time": "2022-12-04T18:25:18.722Z"
   },
   {
    "duration": 18,
    "start_time": "2022-12-04T18:25:18.731Z"
   },
   {
    "duration": 7,
    "start_time": "2022-12-04T18:25:18.751Z"
   },
   {
    "duration": 14,
    "start_time": "2022-12-04T18:25:18.760Z"
   },
   {
    "duration": 7,
    "start_time": "2022-12-04T18:25:18.797Z"
   },
   {
    "duration": 30,
    "start_time": "2022-12-04T18:25:18.805Z"
   },
   {
    "duration": 110,
    "start_time": "2022-12-04T18:25:18.837Z"
   },
   {
    "duration": 14,
    "start_time": "2022-12-04T18:25:18.949Z"
   },
   {
    "duration": 35,
    "start_time": "2022-12-04T18:25:18.965Z"
   },
   {
    "duration": 15,
    "start_time": "2022-12-04T18:25:19.002Z"
   },
   {
    "duration": 27,
    "start_time": "2022-12-04T18:25:19.018Z"
   },
   {
    "duration": 27,
    "start_time": "2022-12-04T18:25:19.047Z"
   },
   {
    "duration": 20,
    "start_time": "2022-12-04T18:25:19.076Z"
   },
   {
    "duration": 5,
    "start_time": "2022-12-04T18:25:19.098Z"
   },
   {
    "duration": 1305,
    "start_time": "2022-12-04T18:25:19.105Z"
   },
   {
    "duration": 5,
    "start_time": "2022-12-04T18:25:20.412Z"
   },
   {
    "duration": 546,
    "start_time": "2022-12-04T18:25:20.419Z"
   },
   {
    "duration": 32,
    "start_time": "2022-12-04T18:25:20.968Z"
   },
   {
    "duration": 5,
    "start_time": "2022-12-04T18:25:21.002Z"
   },
   {
    "duration": 120,
    "start_time": "2022-12-04T18:25:21.009Z"
   },
   {
    "duration": 6,
    "start_time": "2022-12-04T18:25:21.131Z"
   },
   {
    "duration": 21,
    "start_time": "2022-12-04T18:25:21.139Z"
   },
   {
    "duration": 153,
    "start_time": "2022-12-04T18:25:21.162Z"
   },
   {
    "duration": 13,
    "start_time": "2022-12-04T18:25:21.316Z"
   },
   {
    "duration": 150,
    "start_time": "2022-12-04T18:25:21.331Z"
   },
   {
    "duration": 21,
    "start_time": "2022-12-04T18:25:21.483Z"
   },
   {
    "duration": 147,
    "start_time": "2022-12-04T18:25:21.506Z"
   },
   {
    "duration": 10,
    "start_time": "2022-12-04T18:25:21.654Z"
   },
   {
    "duration": 263,
    "start_time": "2022-12-04T18:25:21.666Z"
   },
   {
    "duration": 13,
    "start_time": "2022-12-04T18:25:21.930Z"
   },
   {
    "duration": 151,
    "start_time": "2022-12-04T18:25:21.945Z"
   },
   {
    "duration": 14,
    "start_time": "2022-12-04T18:25:22.098Z"
   },
   {
    "duration": 12,
    "start_time": "2022-12-04T18:25:22.114Z"
   },
   {
    "duration": 163,
    "start_time": "2022-12-04T18:25:22.127Z"
   },
   {
    "duration": 7,
    "start_time": "2022-12-04T18:25:22.293Z"
   },
   {
    "duration": 15,
    "start_time": "2022-12-04T18:25:22.301Z"
   },
   {
    "duration": 163,
    "start_time": "2022-12-04T18:25:22.318Z"
   },
   {
    "duration": 15,
    "start_time": "2022-12-04T18:25:22.483Z"
   },
   {
    "duration": 12,
    "start_time": "2022-12-04T18:25:22.499Z"
   },
   {
    "duration": 156,
    "start_time": "2022-12-04T18:25:22.512Z"
   },
   {
    "duration": 7,
    "start_time": "2022-12-04T18:25:22.669Z"
   },
   {
    "duration": 21,
    "start_time": "2022-12-04T18:25:22.677Z"
   },
   {
    "duration": 4,
    "start_time": "2022-12-04T18:25:22.700Z"
   },
   {
    "duration": 5,
    "start_time": "2022-12-04T18:25:22.706Z"
   },
   {
    "duration": 22,
    "start_time": "2022-12-04T18:25:22.712Z"
   },
   {
    "duration": 7,
    "start_time": "2022-12-04T18:25:22.736Z"
   },
   {
    "duration": 8,
    "start_time": "2022-12-04T18:25:22.745Z"
   },
   {
    "duration": 20,
    "start_time": "2022-12-04T18:25:22.755Z"
   },
   {
    "duration": 6,
    "start_time": "2022-12-04T18:25:22.800Z"
   },
   {
    "duration": 11,
    "start_time": "2022-12-04T18:25:22.807Z"
   },
   {
    "duration": 12,
    "start_time": "2022-12-04T18:25:22.819Z"
   },
   {
    "duration": 33,
    "start_time": "2022-12-04T18:25:22.832Z"
   },
   {
    "duration": 31,
    "start_time": "2022-12-04T18:25:22.866Z"
   },
   {
    "duration": 16,
    "start_time": "2022-12-04T18:25:22.899Z"
   },
   {
    "duration": 8,
    "start_time": "2022-12-04T18:25:22.916Z"
   },
   {
    "duration": 10,
    "start_time": "2022-12-04T18:25:22.925Z"
   },
   {
    "duration": 7,
    "start_time": "2022-12-04T18:25:22.936Z"
   },
   {
    "duration": 142,
    "start_time": "2022-12-04T18:25:22.945Z"
   },
   {
    "duration": 5,
    "start_time": "2022-12-04T18:25:23.097Z"
   },
   {
    "duration": 18,
    "start_time": "2022-12-04T18:25:23.104Z"
   },
   {
    "duration": 121,
    "start_time": "2022-12-04T18:25:23.124Z"
   },
   {
    "duration": 17260,
    "start_time": "2022-12-04T18:25:23.247Z"
   },
   {
    "duration": 90,
    "start_time": "2022-12-04T18:25:40.510Z"
   },
   {
    "duration": 96,
    "start_time": "2022-12-04T18:25:40.602Z"
   },
   {
    "duration": 146,
    "start_time": "2022-12-04T18:25:40.700Z"
   },
   {
    "duration": 38791,
    "start_time": "2022-12-04T18:25:40.848Z"
   },
   {
    "duration": 130,
    "start_time": "2022-12-04T18:26:19.641Z"
   },
   {
    "duration": 25017,
    "start_time": "2022-12-04T18:26:19.773Z"
   },
   {
    "duration": 132,
    "start_time": "2022-12-04T18:26:44.792Z"
   },
   {
    "duration": 8,
    "start_time": "2022-12-04T18:26:44.927Z"
   },
   {
    "duration": 10,
    "start_time": "2022-12-04T18:26:44.936Z"
   },
   {
    "duration": 322,
    "start_time": "2022-12-04T18:26:44.947Z"
   },
   {
    "duration": 14803,
    "start_time": "2022-12-04T18:29:22.600Z"
   },
   {
    "duration": 25173,
    "start_time": "2022-12-04T18:29:47.030Z"
   },
   {
    "duration": 126,
    "start_time": "2022-12-04T18:30:28.535Z"
   },
   {
    "duration": 8,
    "start_time": "2022-12-04T18:31:00.582Z"
   },
   {
    "duration": 137,
    "start_time": "2022-12-04T18:32:25.594Z"
   },
   {
    "duration": 39003,
    "start_time": "2022-12-04T18:33:16.087Z"
   },
   {
    "duration": 39329,
    "start_time": "2022-12-04T18:35:33.158Z"
   },
   {
    "duration": 142,
    "start_time": "2022-12-04T18:36:41.138Z"
   },
   {
    "duration": 20,
    "start_time": "2022-12-04T18:57:46.029Z"
   },
   {
    "duration": 7924,
    "start_time": "2022-12-04T18:58:48.535Z"
   },
   {
    "duration": 155,
    "start_time": "2022-12-04T18:58:59.783Z"
   },
   {
    "duration": 19,
    "start_time": "2022-12-04T19:05:56.573Z"
   },
   {
    "duration": 12,
    "start_time": "2022-12-04T19:08:21.998Z"
   },
   {
    "duration": 12,
    "start_time": "2022-12-04T19:10:21.506Z"
   },
   {
    "duration": 12,
    "start_time": "2022-12-04T19:13:30.223Z"
   },
   {
    "duration": 2,
    "start_time": "2022-12-04T19:13:57.949Z"
   },
   {
    "duration": 16,
    "start_time": "2022-12-04T19:14:02.021Z"
   },
   {
    "duration": 11,
    "start_time": "2022-12-04T19:14:32.196Z"
   },
   {
    "duration": 11,
    "start_time": "2022-12-04T19:18:51.136Z"
   },
   {
    "duration": 38625,
    "start_time": "2022-12-04T19:23:54.177Z"
   },
   {
    "duration": 40193,
    "start_time": "2022-12-04T19:25:23.487Z"
   },
   {
    "duration": 9,
    "start_time": "2022-12-04T19:26:12.402Z"
   },
   {
    "duration": 31,
    "start_time": "2022-12-04T19:26:27.434Z"
   },
   {
    "duration": 38979,
    "start_time": "2022-12-04T19:27:06.810Z"
   },
   {
    "duration": 149,
    "start_time": "2022-12-04T19:27:54.480Z"
   },
   {
    "duration": 15,
    "start_time": "2022-12-04T19:28:40.253Z"
   },
   {
    "duration": 11,
    "start_time": "2022-12-04T19:29:25.757Z"
   },
   {
    "duration": 1300,
    "start_time": "2022-12-04T19:29:56.810Z"
   },
   {
    "duration": 104,
    "start_time": "2022-12-04T19:29:58.112Z"
   },
   {
    "duration": 4,
    "start_time": "2022-12-04T19:29:58.217Z"
   },
   {
    "duration": 56,
    "start_time": "2022-12-04T19:29:58.223Z"
   },
   {
    "duration": 6,
    "start_time": "2022-12-04T19:29:58.280Z"
   },
   {
    "duration": 9,
    "start_time": "2022-12-04T19:29:58.288Z"
   },
   {
    "duration": 7,
    "start_time": "2022-12-04T19:29:58.298Z"
   },
   {
    "duration": 49,
    "start_time": "2022-12-04T19:29:58.307Z"
   },
   {
    "duration": 43,
    "start_time": "2022-12-04T19:29:58.357Z"
   },
   {
    "duration": 9,
    "start_time": "2022-12-04T19:29:58.402Z"
   },
   {
    "duration": 16,
    "start_time": "2022-12-04T19:29:58.413Z"
   },
   {
    "duration": 114,
    "start_time": "2022-12-04T19:29:58.431Z"
   },
   {
    "duration": 5,
    "start_time": "2022-12-04T19:29:58.548Z"
   },
   {
    "duration": 9,
    "start_time": "2022-12-04T19:29:58.597Z"
   },
   {
    "duration": 96,
    "start_time": "2022-12-04T19:29:58.607Z"
   },
   {
    "duration": 5,
    "start_time": "2022-12-04T19:29:58.705Z"
   },
   {
    "duration": 16,
    "start_time": "2022-12-04T19:29:58.712Z"
   },
   {
    "duration": 11,
    "start_time": "2022-12-04T19:29:58.729Z"
   },
   {
    "duration": 58,
    "start_time": "2022-12-04T19:29:58.742Z"
   },
   {
    "duration": 6,
    "start_time": "2022-12-04T19:29:58.802Z"
   },
   {
    "duration": 9,
    "start_time": "2022-12-04T19:29:58.809Z"
   },
   {
    "duration": 7,
    "start_time": "2022-12-04T19:29:58.820Z"
   },
   {
    "duration": 8,
    "start_time": "2022-12-04T19:29:58.829Z"
   },
   {
    "duration": 63,
    "start_time": "2022-12-04T19:29:58.839Z"
   },
   {
    "duration": 10,
    "start_time": "2022-12-04T19:29:58.904Z"
   },
   {
    "duration": 8,
    "start_time": "2022-12-04T19:29:58.916Z"
   },
   {
    "duration": 9,
    "start_time": "2022-12-04T19:29:58.926Z"
   },
   {
    "duration": 69,
    "start_time": "2022-12-04T19:29:58.942Z"
   },
   {
    "duration": 6,
    "start_time": "2022-12-04T19:29:59.013Z"
   },
   {
    "duration": 14,
    "start_time": "2022-12-04T19:29:59.021Z"
   },
   {
    "duration": 11,
    "start_time": "2022-12-04T19:29:59.036Z"
   },
   {
    "duration": 53,
    "start_time": "2022-12-04T19:29:59.048Z"
   },
   {
    "duration": 9,
    "start_time": "2022-12-04T19:29:59.103Z"
   },
   {
    "duration": 8,
    "start_time": "2022-12-04T19:29:59.114Z"
   },
   {
    "duration": 19,
    "start_time": "2022-12-04T19:29:59.123Z"
   },
   {
    "duration": 7,
    "start_time": "2022-12-04T19:29:59.143Z"
   },
   {
    "duration": 13,
    "start_time": "2022-12-04T19:29:59.151Z"
   },
   {
    "duration": 10,
    "start_time": "2022-12-04T19:29:59.165Z"
   },
   {
    "duration": 25,
    "start_time": "2022-12-04T19:29:59.197Z"
   },
   {
    "duration": 110,
    "start_time": "2022-12-04T19:29:59.223Z"
   },
   {
    "duration": 9,
    "start_time": "2022-12-04T19:29:59.335Z"
   },
   {
    "duration": 9,
    "start_time": "2022-12-04T19:29:59.346Z"
   },
   {
    "duration": 12,
    "start_time": "2022-12-04T19:29:59.356Z"
   },
   {
    "duration": 15,
    "start_time": "2022-12-04T19:29:59.395Z"
   },
   {
    "duration": 22,
    "start_time": "2022-12-04T19:29:59.411Z"
   },
   {
    "duration": 5,
    "start_time": "2022-12-04T19:29:59.434Z"
   },
   {
    "duration": 12,
    "start_time": "2022-12-04T19:29:59.441Z"
   },
   {
    "duration": 1282,
    "start_time": "2022-12-04T19:29:59.454Z"
   },
   {
    "duration": 4,
    "start_time": "2022-12-04T19:30:00.738Z"
   },
   {
    "duration": 571,
    "start_time": "2022-12-04T19:30:00.744Z"
   },
   {
    "duration": 20,
    "start_time": "2022-12-04T19:30:01.316Z"
   },
   {
    "duration": 5,
    "start_time": "2022-12-04T19:30:01.337Z"
   },
   {
    "duration": 129,
    "start_time": "2022-12-04T19:30:01.344Z"
   },
   {
    "duration": 5,
    "start_time": "2022-12-04T19:30:01.475Z"
   },
   {
    "duration": 26,
    "start_time": "2022-12-04T19:30:01.482Z"
   },
   {
    "duration": 166,
    "start_time": "2022-12-04T19:30:01.510Z"
   },
   {
    "duration": 22,
    "start_time": "2022-12-04T19:30:01.678Z"
   },
   {
    "duration": 167,
    "start_time": "2022-12-04T19:30:01.701Z"
   },
   {
    "duration": 11,
    "start_time": "2022-12-04T19:30:01.870Z"
   },
   {
    "duration": 162,
    "start_time": "2022-12-04T19:30:01.882Z"
   },
   {
    "duration": 12,
    "start_time": "2022-12-04T19:30:02.045Z"
   },
   {
    "duration": 155,
    "start_time": "2022-12-04T19:30:02.059Z"
   },
   {
    "duration": 12,
    "start_time": "2022-12-04T19:30:02.216Z"
   },
   {
    "duration": 180,
    "start_time": "2022-12-04T19:30:02.230Z"
   },
   {
    "duration": 7,
    "start_time": "2022-12-04T19:30:02.412Z"
   },
   {
    "duration": 17,
    "start_time": "2022-12-04T19:30:02.421Z"
   },
   {
    "duration": 282,
    "start_time": "2022-12-04T19:30:02.440Z"
   },
   {
    "duration": 7,
    "start_time": "2022-12-04T19:30:02.724Z"
   },
   {
    "duration": 15,
    "start_time": "2022-12-04T19:30:02.732Z"
   },
   {
    "duration": 174,
    "start_time": "2022-12-04T19:30:02.749Z"
   },
   {
    "duration": 6,
    "start_time": "2022-12-04T19:30:02.925Z"
   },
   {
    "duration": 12,
    "start_time": "2022-12-04T19:30:02.933Z"
   },
   {
    "duration": 170,
    "start_time": "2022-12-04T19:30:02.946Z"
   },
   {
    "duration": 8,
    "start_time": "2022-12-04T19:30:03.119Z"
   },
   {
    "duration": 12,
    "start_time": "2022-12-04T19:30:03.130Z"
   },
   {
    "duration": 5,
    "start_time": "2022-12-04T19:30:03.144Z"
   },
   {
    "duration": 8,
    "start_time": "2022-12-04T19:30:03.151Z"
   },
   {
    "duration": 55,
    "start_time": "2022-12-04T19:30:03.161Z"
   },
   {
    "duration": 6,
    "start_time": "2022-12-04T19:30:03.218Z"
   },
   {
    "duration": 6,
    "start_time": "2022-12-04T19:30:03.226Z"
   },
   {
    "duration": 30,
    "start_time": "2022-12-04T19:30:03.234Z"
   },
   {
    "duration": 30,
    "start_time": "2022-12-04T19:30:03.269Z"
   },
   {
    "duration": 6,
    "start_time": "2022-12-04T19:30:03.300Z"
   },
   {
    "duration": 11,
    "start_time": "2022-12-04T19:30:03.307Z"
   },
   {
    "duration": 34,
    "start_time": "2022-12-04T19:30:03.320Z"
   },
   {
    "duration": 16,
    "start_time": "2022-12-04T19:30:03.356Z"
   },
   {
    "duration": 21,
    "start_time": "2022-12-04T19:30:03.397Z"
   },
   {
    "duration": 11,
    "start_time": "2022-12-04T19:30:03.420Z"
   },
   {
    "duration": 10,
    "start_time": "2022-12-04T19:30:03.433Z"
   },
   {
    "duration": 13,
    "start_time": "2022-12-04T19:30:03.445Z"
   },
   {
    "duration": 137,
    "start_time": "2022-12-04T19:30:03.459Z"
   },
   {
    "duration": 6,
    "start_time": "2022-12-04T19:30:03.599Z"
   },
   {
    "duration": 14,
    "start_time": "2022-12-04T19:30:03.607Z"
   },
   {
    "duration": 126,
    "start_time": "2022-12-04T19:30:03.622Z"
   },
   {
    "duration": 15347,
    "start_time": "2022-12-04T19:30:03.750Z"
   },
   {
    "duration": 8,
    "start_time": "2022-12-04T19:30:19.099Z"
   },
   {
    "duration": 94,
    "start_time": "2022-12-04T19:30:19.110Z"
   },
   {
    "duration": 156,
    "start_time": "2022-12-04T19:30:19.206Z"
   },
   {
    "duration": 38651,
    "start_time": "2022-12-04T19:30:19.364Z"
   },
   {
    "duration": 131,
    "start_time": "2022-12-04T19:30:58.017Z"
   },
   {
    "duration": 0,
    "start_time": "2022-12-04T19:30:58.150Z"
   },
   {
    "duration": 0,
    "start_time": "2022-12-04T19:30:58.152Z"
   },
   {
    "duration": 0,
    "start_time": "2022-12-04T19:30:58.153Z"
   },
   {
    "duration": 0,
    "start_time": "2022-12-04T19:30:58.155Z"
   },
   {
    "duration": 0,
    "start_time": "2022-12-04T19:30:58.157Z"
   },
   {
    "duration": 10,
    "start_time": "2022-12-04T19:32:45.986Z"
   },
   {
    "duration": 39426,
    "start_time": "2022-12-04T19:35:45.499Z"
   },
   {
    "duration": 20,
    "start_time": "2022-12-04T19:36:27.935Z"
   },
   {
    "duration": 38868,
    "start_time": "2022-12-04T19:37:33.142Z"
   },
   {
    "duration": 152,
    "start_time": "2022-12-04T19:38:16.973Z"
   },
   {
    "duration": 6,
    "start_time": "2022-12-04T19:38:56.362Z"
   },
   {
    "duration": 12,
    "start_time": "2022-12-04T19:46:25.854Z"
   },
   {
    "duration": 13,
    "start_time": "2022-12-04T19:46:36.321Z"
   },
   {
    "duration": 28,
    "start_time": "2022-12-04T19:47:19.303Z"
   },
   {
    "duration": 17,
    "start_time": "2022-12-04T19:47:24.690Z"
   },
   {
    "duration": 3,
    "start_time": "2022-12-04T19:47:46.949Z"
   },
   {
    "duration": 11,
    "start_time": "2022-12-04T19:47:50.460Z"
   },
   {
    "duration": 4,
    "start_time": "2022-12-04T19:48:13.125Z"
   },
   {
    "duration": 13,
    "start_time": "2022-12-04T19:48:17.642Z"
   },
   {
    "duration": 3,
    "start_time": "2022-12-04T19:48:34.683Z"
   },
   {
    "duration": 78,
    "start_time": "2022-12-04T19:48:39.550Z"
   },
   {
    "duration": 16,
    "start_time": "2022-12-04T19:55:03.010Z"
   },
   {
    "duration": 68,
    "start_time": "2022-12-04T19:57:32.437Z"
   },
   {
    "duration": 30,
    "start_time": "2022-12-04T19:59:52.013Z"
   },
   {
    "duration": 10,
    "start_time": "2022-12-04T20:00:40.408Z"
   },
   {
    "duration": 25,
    "start_time": "2022-12-04T20:01:31.571Z"
   },
   {
    "duration": 2350,
    "start_time": "2022-12-04T20:10:22.848Z"
   },
   {
    "duration": 1337,
    "start_time": "2022-12-04T20:10:35.070Z"
   },
   {
    "duration": 20,
    "start_time": "2022-12-04T20:11:25.082Z"
   },
   {
    "duration": 18,
    "start_time": "2022-12-04T20:12:11.867Z"
   },
   {
    "duration": 20,
    "start_time": "2022-12-04T20:12:21.363Z"
   },
   {
    "duration": 4533,
    "start_time": "2022-12-04T20:16:31.966Z"
   },
   {
    "duration": 2085,
    "start_time": "2022-12-04T20:17:40.024Z"
   },
   {
    "duration": 8279,
    "start_time": "2022-12-04T20:26:27.123Z"
   },
   {
    "duration": 2365,
    "start_time": "2022-12-04T20:28:29.232Z"
   },
   {
    "duration": 2496,
    "start_time": "2022-12-04T20:28:47.605Z"
   },
   {
    "duration": 27,
    "start_time": "2022-12-04T20:40:07.188Z"
   },
   {
    "duration": 1945,
    "start_time": "2022-12-04T21:00:49.860Z"
   },
   {
    "duration": 1370,
    "start_time": "2022-12-04T21:01:03.633Z"
   },
   {
    "duration": 15328,
    "start_time": "2022-12-04T21:07:52.073Z"
   },
   {
    "duration": 1488,
    "start_time": "2022-12-04T21:08:43.011Z"
   },
   {
    "duration": 1278,
    "start_time": "2022-12-04T21:09:09.322Z"
   },
   {
    "duration": 1600,
    "start_time": "2022-12-04T21:16:56.905Z"
   },
   {
    "duration": 7438,
    "start_time": "2022-12-04T21:22:26.467Z"
   },
   {
    "duration": 1685,
    "start_time": "2022-12-04T21:22:45.221Z"
   },
   {
    "duration": 755,
    "start_time": "2022-12-04T21:25:18.749Z"
   },
   {
    "duration": 1569,
    "start_time": "2022-12-04T21:33:00.230Z"
   },
   {
    "duration": 2349,
    "start_time": "2022-12-04T21:33:24.257Z"
   },
   {
    "duration": 1527,
    "start_time": "2022-12-04T21:33:37.580Z"
   },
   {
    "duration": 5515,
    "start_time": "2022-12-04T21:42:01.183Z"
   },
   {
    "duration": 2918,
    "start_time": "2022-12-04T21:50:30.987Z"
   },
   {
    "duration": 3124,
    "start_time": "2022-12-04T21:53:35.677Z"
   },
   {
    "duration": 3263,
    "start_time": "2022-12-04T21:56:06.143Z"
   },
   {
    "duration": 3815,
    "start_time": "2022-12-04T21:58:06.687Z"
   },
   {
    "duration": 3450,
    "start_time": "2022-12-04T21:58:56.547Z"
   },
   {
    "duration": 13338,
    "start_time": "2022-12-04T22:00:36.365Z"
   },
   {
    "duration": 9174,
    "start_time": "2022-12-04T22:01:11.232Z"
   },
   {
    "duration": 3068,
    "start_time": "2022-12-04T22:02:04.333Z"
   },
   {
    "duration": 2172,
    "start_time": "2022-12-04T22:03:42.435Z"
   },
   {
    "duration": 0,
    "start_time": "2022-12-04T22:04:26.861Z"
   },
   {
    "duration": 29580,
    "start_time": "2022-12-04T22:04:30.757Z"
   },
   {
    "duration": 4270,
    "start_time": "2022-12-04T22:05:06.143Z"
   },
   {
    "duration": 23840,
    "start_time": "2022-12-04T22:05:52.163Z"
   },
   {
    "duration": 29378,
    "start_time": "2022-12-04T22:06:39.937Z"
   },
   {
    "duration": 1735,
    "start_time": "2022-12-05T05:42:12.891Z"
   },
   {
    "duration": 331,
    "start_time": "2022-12-05T05:42:14.629Z"
   },
   {
    "duration": 5,
    "start_time": "2022-12-05T05:42:14.963Z"
   },
   {
    "duration": 84,
    "start_time": "2022-12-05T05:42:14.971Z"
   },
   {
    "duration": 7,
    "start_time": "2022-12-05T05:42:15.056Z"
   },
   {
    "duration": 10,
    "start_time": "2022-12-05T05:42:15.078Z"
   },
   {
    "duration": 20,
    "start_time": "2022-12-05T05:42:15.090Z"
   },
   {
    "duration": 71,
    "start_time": "2022-12-05T05:42:15.112Z"
   },
   {
    "duration": 7,
    "start_time": "2022-12-05T05:42:15.185Z"
   },
   {
    "duration": 11,
    "start_time": "2022-12-05T05:42:15.196Z"
   },
   {
    "duration": 11,
    "start_time": "2022-12-05T05:42:15.209Z"
   },
   {
    "duration": 110,
    "start_time": "2022-12-05T05:42:15.222Z"
   },
   {
    "duration": 6,
    "start_time": "2022-12-05T05:42:15.334Z"
   },
   {
    "duration": 40,
    "start_time": "2022-12-05T05:42:15.341Z"
   },
   {
    "duration": 53,
    "start_time": "2022-12-05T05:42:15.383Z"
   },
   {
    "duration": 8,
    "start_time": "2022-12-05T05:42:15.438Z"
   },
   {
    "duration": 14,
    "start_time": "2022-12-05T05:42:15.479Z"
   },
   {
    "duration": 26,
    "start_time": "2022-12-05T05:42:15.494Z"
   },
   {
    "duration": 14,
    "start_time": "2022-12-05T05:42:15.522Z"
   },
   {
    "duration": 14,
    "start_time": "2022-12-05T05:42:15.539Z"
   },
   {
    "duration": 12,
    "start_time": "2022-12-05T05:42:15.555Z"
   },
   {
    "duration": 8,
    "start_time": "2022-12-05T05:42:15.579Z"
   },
   {
    "duration": 10,
    "start_time": "2022-12-05T05:42:15.589Z"
   },
   {
    "duration": 8,
    "start_time": "2022-12-05T05:42:15.601Z"
   },
   {
    "duration": 10,
    "start_time": "2022-12-05T05:42:15.611Z"
   },
   {
    "duration": 16,
    "start_time": "2022-12-05T05:42:15.624Z"
   },
   {
    "duration": 9,
    "start_time": "2022-12-05T05:42:15.641Z"
   },
   {
    "duration": 13,
    "start_time": "2022-12-05T05:42:15.682Z"
   },
   {
    "duration": 35,
    "start_time": "2022-12-05T05:42:15.696Z"
   },
   {
    "duration": 17,
    "start_time": "2022-12-05T05:42:15.733Z"
   },
   {
    "duration": 26,
    "start_time": "2022-12-05T05:42:15.752Z"
   },
   {
    "duration": 20,
    "start_time": "2022-12-05T05:42:15.781Z"
   },
   {
    "duration": 9,
    "start_time": "2022-12-05T05:42:15.803Z"
   },
   {
    "duration": 6,
    "start_time": "2022-12-05T05:42:15.814Z"
   },
   {
    "duration": 22,
    "start_time": "2022-12-05T05:42:15.821Z"
   },
   {
    "duration": 5,
    "start_time": "2022-12-05T05:42:15.845Z"
   },
   {
    "duration": 34,
    "start_time": "2022-12-05T05:42:15.852Z"
   },
   {
    "duration": 8,
    "start_time": "2022-12-05T05:42:15.888Z"
   },
   {
    "duration": 28,
    "start_time": "2022-12-05T05:42:15.898Z"
   },
   {
    "duration": 154,
    "start_time": "2022-12-05T05:42:15.927Z"
   },
   {
    "duration": 11,
    "start_time": "2022-12-05T05:42:16.082Z"
   },
   {
    "duration": 6,
    "start_time": "2022-12-05T05:42:16.095Z"
   },
   {
    "duration": 9,
    "start_time": "2022-12-05T05:42:16.103Z"
   },
   {
    "duration": 25,
    "start_time": "2022-12-05T05:42:16.114Z"
   },
   {
    "duration": 48,
    "start_time": "2022-12-05T05:42:16.141Z"
   },
   {
    "duration": 3,
    "start_time": "2022-12-05T05:42:16.190Z"
   },
   {
    "duration": 8,
    "start_time": "2022-12-05T05:42:16.195Z"
   },
   {
    "duration": 1384,
    "start_time": "2022-12-05T05:42:16.205Z"
   },
   {
    "duration": 5,
    "start_time": "2022-12-05T05:42:17.591Z"
   },
   {
    "duration": 621,
    "start_time": "2022-12-05T05:42:17.599Z"
   },
   {
    "duration": 19,
    "start_time": "2022-12-05T05:42:18.222Z"
   },
   {
    "duration": 5,
    "start_time": "2022-12-05T05:42:18.243Z"
   },
   {
    "duration": 136,
    "start_time": "2022-12-05T05:42:18.250Z"
   },
   {
    "duration": 7,
    "start_time": "2022-12-05T05:42:18.387Z"
   },
   {
    "duration": 17,
    "start_time": "2022-12-05T05:42:18.396Z"
   },
   {
    "duration": 120,
    "start_time": "2022-12-05T05:42:18.415Z"
   },
   {
    "duration": 9,
    "start_time": "2022-12-05T05:42:18.537Z"
   },
   {
    "duration": 146,
    "start_time": "2022-12-05T05:42:18.548Z"
   },
   {
    "duration": 9,
    "start_time": "2022-12-05T05:42:18.696Z"
   },
   {
    "duration": 140,
    "start_time": "2022-12-05T05:42:18.707Z"
   },
   {
    "duration": 10,
    "start_time": "2022-12-05T05:42:18.849Z"
   },
   {
    "duration": 290,
    "start_time": "2022-12-05T05:42:18.860Z"
   },
   {
    "duration": 11,
    "start_time": "2022-12-05T05:42:19.152Z"
   },
   {
    "duration": 144,
    "start_time": "2022-12-05T05:42:19.178Z"
   },
   {
    "duration": 6,
    "start_time": "2022-12-05T05:42:19.324Z"
   },
   {
    "duration": 13,
    "start_time": "2022-12-05T05:42:19.331Z"
   },
   {
    "duration": 152,
    "start_time": "2022-12-05T05:42:19.346Z"
   },
   {
    "duration": 6,
    "start_time": "2022-12-05T05:42:19.500Z"
   },
   {
    "duration": 13,
    "start_time": "2022-12-05T05:42:19.508Z"
   },
   {
    "duration": 182,
    "start_time": "2022-12-05T05:42:19.523Z"
   },
   {
    "duration": 6,
    "start_time": "2022-12-05T05:42:19.707Z"
   },
   {
    "duration": 13,
    "start_time": "2022-12-05T05:42:19.715Z"
   },
   {
    "duration": 165,
    "start_time": "2022-12-05T05:42:19.729Z"
   },
   {
    "duration": 7,
    "start_time": "2022-12-05T05:42:19.895Z"
   },
   {
    "duration": 10,
    "start_time": "2022-12-05T05:42:19.904Z"
   },
   {
    "duration": 5,
    "start_time": "2022-12-05T05:42:19.915Z"
   },
   {
    "duration": 8,
    "start_time": "2022-12-05T05:42:19.921Z"
   },
   {
    "duration": 22,
    "start_time": "2022-12-05T05:42:19.931Z"
   },
   {
    "duration": 5,
    "start_time": "2022-12-05T05:42:19.980Z"
   },
   {
    "duration": 7,
    "start_time": "2022-12-05T05:42:19.987Z"
   },
   {
    "duration": 20,
    "start_time": "2022-12-05T05:42:19.995Z"
   },
   {
    "duration": 6,
    "start_time": "2022-12-05T05:42:20.023Z"
   },
   {
    "duration": 12,
    "start_time": "2022-12-05T05:42:20.031Z"
   },
   {
    "duration": 10,
    "start_time": "2022-12-05T05:42:20.045Z"
   },
   {
    "duration": 48,
    "start_time": "2022-12-05T05:42:20.056Z"
   },
   {
    "duration": 14,
    "start_time": "2022-12-05T05:42:20.105Z"
   },
   {
    "duration": 13,
    "start_time": "2022-12-05T05:42:20.121Z"
   },
   {
    "duration": 7,
    "start_time": "2022-12-05T05:42:20.136Z"
   },
   {
    "duration": 40,
    "start_time": "2022-12-05T05:42:20.145Z"
   },
   {
    "duration": 8,
    "start_time": "2022-12-05T05:42:20.186Z"
   },
   {
    "duration": 113,
    "start_time": "2022-12-05T05:42:20.195Z"
   },
   {
    "duration": 5,
    "start_time": "2022-12-05T05:42:20.309Z"
   },
   {
    "duration": 18,
    "start_time": "2022-12-05T05:42:20.316Z"
   },
   {
    "duration": 4,
    "start_time": "2022-12-05T05:42:20.336Z"
   },
   {
    "duration": 124,
    "start_time": "2022-12-05T05:42:20.341Z"
   },
   {
    "duration": 0,
    "start_time": "2022-12-05T05:42:20.467Z"
   },
   {
    "duration": 0,
    "start_time": "2022-12-05T05:42:20.468Z"
   },
   {
    "duration": 0,
    "start_time": "2022-12-05T05:42:20.469Z"
   },
   {
    "duration": 0,
    "start_time": "2022-12-05T05:42:20.478Z"
   },
   {
    "duration": 0,
    "start_time": "2022-12-05T05:42:20.479Z"
   },
   {
    "duration": 0,
    "start_time": "2022-12-05T05:42:20.480Z"
   },
   {
    "duration": 0,
    "start_time": "2022-12-05T05:42:20.482Z"
   },
   {
    "duration": 0,
    "start_time": "2022-12-05T05:42:20.483Z"
   },
   {
    "duration": 0,
    "start_time": "2022-12-05T05:42:20.484Z"
   },
   {
    "duration": 0,
    "start_time": "2022-12-05T05:42:20.485Z"
   },
   {
    "duration": 0,
    "start_time": "2022-12-05T05:42:20.485Z"
   },
   {
    "duration": 0,
    "start_time": "2022-12-05T05:42:20.487Z"
   },
   {
    "duration": 0,
    "start_time": "2022-12-05T05:42:20.487Z"
   },
   {
    "duration": 0,
    "start_time": "2022-12-05T05:42:20.488Z"
   },
   {
    "duration": 0,
    "start_time": "2022-12-05T05:42:20.491Z"
   },
   {
    "duration": 0,
    "start_time": "2022-12-05T05:42:20.493Z"
   },
   {
    "duration": 0,
    "start_time": "2022-12-05T05:42:20.494Z"
   },
   {
    "duration": 0,
    "start_time": "2022-12-05T05:42:20.495Z"
   },
   {
    "duration": 0,
    "start_time": "2022-12-05T05:42:20.497Z"
   },
   {
    "duration": 0,
    "start_time": "2022-12-05T05:42:20.499Z"
   },
   {
    "duration": 10003,
    "start_time": "2022-12-05T05:43:29.380Z"
   },
   {
    "duration": 11,
    "start_time": "2022-12-05T05:43:56.574Z"
   },
   {
    "duration": 150,
    "start_time": "2022-12-05T05:44:59.036Z"
   },
   {
    "duration": 129,
    "start_time": "2022-12-05T05:45:12.458Z"
   },
   {
    "duration": 228,
    "start_time": "2022-12-05T05:46:35.560Z"
   },
   {
    "duration": 354,
    "start_time": "2022-12-05T05:46:44.027Z"
   },
   {
    "duration": 271,
    "start_time": "2022-12-05T05:51:27.912Z"
   },
   {
    "duration": 3,
    "start_time": "2022-12-05T05:51:48.485Z"
   },
   {
    "duration": 3595,
    "start_time": "2022-12-05T05:52:17.084Z"
   },
   {
    "duration": 18409,
    "start_time": "2022-12-05T06:46:02.371Z"
   },
   {
    "duration": 10748,
    "start_time": "2022-12-05T06:50:15.334Z"
   },
   {
    "duration": 10604,
    "start_time": "2022-12-05T06:52:02.776Z"
   },
   {
    "duration": 10247,
    "start_time": "2022-12-05T06:54:58.939Z"
   },
   {
    "duration": 10570,
    "start_time": "2022-12-05T06:59:12.411Z"
   },
   {
    "duration": 13123,
    "start_time": "2022-12-05T06:59:33.456Z"
   },
   {
    "duration": 11141,
    "start_time": "2022-12-05T07:00:46.042Z"
   },
   {
    "duration": 26627,
    "start_time": "2022-12-05T07:01:19.461Z"
   },
   {
    "duration": 10071,
    "start_time": "2022-12-05T07:36:05.412Z"
   },
   {
    "duration": 5,
    "start_time": "2022-12-05T07:41:43.326Z"
   },
   {
    "duration": 13,
    "start_time": "2022-12-05T07:41:56.774Z"
   },
   {
    "duration": 14,
    "start_time": "2022-12-05T07:46:54.051Z"
   },
   {
    "duration": 30,
    "start_time": "2022-12-05T07:48:45.750Z"
   },
   {
    "duration": 10404,
    "start_time": "2022-12-05T07:49:09.377Z"
   },
   {
    "duration": 6,
    "start_time": "2022-12-05T07:51:01.727Z"
   },
   {
    "duration": 7,
    "start_time": "2022-12-05T07:51:09.721Z"
   },
   {
    "duration": 28908,
    "start_time": "2022-12-05T07:51:48.995Z"
   },
   {
    "duration": 4111,
    "start_time": "2022-12-05T07:52:25.653Z"
   },
   {
    "duration": 11,
    "start_time": "2022-12-05T07:52:35.763Z"
   },
   {
    "duration": 4,
    "start_time": "2022-12-05T07:55:05.856Z"
   },
   {
    "duration": 25,
    "start_time": "2022-12-05T07:55:15.337Z"
   },
   {
    "duration": 21,
    "start_time": "2022-12-05T07:55:46.250Z"
   },
   {
    "duration": 30274,
    "start_time": "2022-12-05T07:56:12.937Z"
   },
   {
    "duration": 5,
    "start_time": "2022-12-05T07:56:43.213Z"
   },
   {
    "duration": 10824,
    "start_time": "2022-12-05T07:57:38.068Z"
   },
   {
    "duration": 9,
    "start_time": "2022-12-05T07:59:10.253Z"
   },
   {
    "duration": 11,
    "start_time": "2022-12-05T08:00:34.440Z"
   },
   {
    "duration": 9,
    "start_time": "2022-12-05T08:00:37.544Z"
   },
   {
    "duration": 6,
    "start_time": "2022-12-05T08:00:39.843Z"
   },
   {
    "duration": 5,
    "start_time": "2022-12-05T08:00:52.469Z"
   },
   {
    "duration": 142,
    "start_time": "2022-12-05T08:01:13.449Z"
   },
   {
    "duration": 8,
    "start_time": "2022-12-05T08:02:12.248Z"
   },
   {
    "duration": 7,
    "start_time": "2022-12-05T08:02:14.560Z"
   },
   {
    "duration": 4,
    "start_time": "2022-12-05T08:02:20.911Z"
   },
   {
    "duration": 8,
    "start_time": "2022-12-05T08:02:43.450Z"
   },
   {
    "duration": 7,
    "start_time": "2022-12-05T08:02:46.021Z"
   },
   {
    "duration": 6,
    "start_time": "2022-12-05T08:03:35.366Z"
   },
   {
    "duration": 5,
    "start_time": "2022-12-05T08:03:44.410Z"
   },
   {
    "duration": 165,
    "start_time": "2022-12-05T08:03:48.403Z"
   },
   {
    "duration": 28950,
    "start_time": "2022-12-05T08:23:46.211Z"
   },
   {
    "duration": 29875,
    "start_time": "2022-12-05T08:24:20.873Z"
   },
   {
    "duration": 81,
    "start_time": "2022-12-05T08:24:59.520Z"
   },
   {
    "duration": 127,
    "start_time": "2022-12-05T08:25:04.589Z"
   },
   {
    "duration": 31003,
    "start_time": "2022-12-05T08:30:36.904Z"
   },
   {
    "duration": 5,
    "start_time": "2022-12-05T08:31:45.987Z"
   },
   {
    "duration": 130,
    "start_time": "2022-12-05T08:33:25.935Z"
   },
   {
    "duration": 5,
    "start_time": "2022-12-05T08:34:06.358Z"
   },
   {
    "duration": 10,
    "start_time": "2022-12-05T08:34:18.660Z"
   },
   {
    "duration": 9,
    "start_time": "2022-12-05T08:35:05.598Z"
   },
   {
    "duration": 90,
    "start_time": "2022-12-05T09:00:09.350Z"
   },
   {
    "duration": 101,
    "start_time": "2022-12-05T09:00:14.070Z"
   },
   {
    "duration": 100,
    "start_time": "2022-12-05T09:01:51.314Z"
   },
   {
    "duration": 5,
    "start_time": "2022-12-05T09:02:24.555Z"
   },
   {
    "duration": 19,
    "start_time": "2022-12-05T09:04:40.314Z"
   },
   {
    "duration": 5,
    "start_time": "2022-12-05T09:05:48.307Z"
   },
   {
    "duration": 129,
    "start_time": "2022-12-05T09:05:51.384Z"
   },
   {
    "duration": 10367,
    "start_time": "2022-12-05T09:31:08.114Z"
   },
   {
    "duration": 10917,
    "start_time": "2022-12-05T09:31:40.664Z"
   },
   {
    "duration": 9834,
    "start_time": "2022-12-05T09:31:58.052Z"
   },
   {
    "duration": 9912,
    "start_time": "2022-12-05T09:36:00.872Z"
   },
   {
    "duration": 7,
    "start_time": "2022-12-05T09:53:30.217Z"
   },
   {
    "duration": 9,
    "start_time": "2022-12-05T09:53:44.996Z"
   },
   {
    "duration": 6,
    "start_time": "2022-12-05T09:59:22.615Z"
   },
   {
    "duration": 16,
    "start_time": "2022-12-05T10:05:46.530Z"
   },
   {
    "duration": 8,
    "start_time": "2022-12-05T10:06:03.311Z"
   },
   {
    "duration": 95,
    "start_time": "2022-12-05T10:06:15.589Z"
   },
   {
    "duration": 7,
    "start_time": "2022-12-05T10:07:51.986Z"
   },
   {
    "duration": 8,
    "start_time": "2022-12-05T10:08:23.085Z"
   },
   {
    "duration": 8,
    "start_time": "2022-12-05T10:08:49.104Z"
   },
   {
    "duration": 10,
    "start_time": "2022-12-05T10:09:16.717Z"
   },
   {
    "duration": 2923,
    "start_time": "2022-12-05T10:27:18.394Z"
   },
   {
    "duration": 28,
    "start_time": "2022-12-05T10:28:24.828Z"
   },
   {
    "duration": 956,
    "start_time": "2022-12-05T10:29:33.198Z"
   },
   {
    "duration": 848,
    "start_time": "2022-12-05T10:30:32.464Z"
   },
   {
    "duration": 9,
    "start_time": "2022-12-05T10:35:28.035Z"
   },
   {
    "duration": 24,
    "start_time": "2022-12-05T10:36:23.768Z"
   },
   {
    "duration": 22,
    "start_time": "2022-12-05T10:38:57.874Z"
   },
   {
    "duration": 1409,
    "start_time": "2022-12-05T10:39:21.203Z"
   },
   {
    "duration": 1968,
    "start_time": "2022-12-05T10:39:22.614Z"
   },
   {
    "duration": 14,
    "start_time": "2022-12-05T10:39:24.584Z"
   },
   {
    "duration": 99,
    "start_time": "2022-12-05T10:39:24.601Z"
   },
   {
    "duration": 3,
    "start_time": "2022-12-05T10:39:24.702Z"
   },
   {
    "duration": 71,
    "start_time": "2022-12-05T10:39:24.707Z"
   },
   {
    "duration": 5,
    "start_time": "2022-12-05T10:39:24.780Z"
   },
   {
    "duration": 8,
    "start_time": "2022-12-05T10:39:24.787Z"
   },
   {
    "duration": 8,
    "start_time": "2022-12-05T10:39:24.797Z"
   },
   {
    "duration": 41,
    "start_time": "2022-12-05T10:39:24.807Z"
   },
   {
    "duration": 6,
    "start_time": "2022-12-05T10:39:24.878Z"
   },
   {
    "duration": 7,
    "start_time": "2022-12-05T10:39:24.885Z"
   },
   {
    "duration": 8,
    "start_time": "2022-12-05T10:39:24.894Z"
   },
   {
    "duration": 97,
    "start_time": "2022-12-05T10:39:24.904Z"
   },
   {
    "duration": 6,
    "start_time": "2022-12-05T10:39:25.002Z"
   },
   {
    "duration": 10,
    "start_time": "2022-12-05T10:39:25.010Z"
   },
   {
    "duration": 72,
    "start_time": "2022-12-05T10:39:25.022Z"
   },
   {
    "duration": 6,
    "start_time": "2022-12-05T10:39:25.096Z"
   },
   {
    "duration": 17,
    "start_time": "2022-12-05T10:39:25.104Z"
   },
   {
    "duration": 5,
    "start_time": "2022-12-05T10:39:25.123Z"
   },
   {
    "duration": 10,
    "start_time": "2022-12-05T10:39:25.130Z"
   },
   {
    "duration": 6,
    "start_time": "2022-12-05T10:39:25.142Z"
   },
   {
    "duration": 8,
    "start_time": "2022-12-05T10:39:25.178Z"
   },
   {
    "duration": 7,
    "start_time": "2022-12-05T10:39:25.187Z"
   },
   {
    "duration": 7,
    "start_time": "2022-12-05T10:39:25.196Z"
   },
   {
    "duration": 6,
    "start_time": "2022-12-05T10:39:25.205Z"
   },
   {
    "duration": 6,
    "start_time": "2022-12-05T10:39:25.213Z"
   },
   {
    "duration": 5,
    "start_time": "2022-12-05T10:39:25.224Z"
   },
   {
    "duration": 6,
    "start_time": "2022-12-05T10:39:25.231Z"
   },
   {
    "duration": 48,
    "start_time": "2022-12-05T10:39:25.238Z"
   },
   {
    "duration": 7,
    "start_time": "2022-12-05T10:39:25.288Z"
   },
   {
    "duration": 19,
    "start_time": "2022-12-05T10:39:25.296Z"
   },
   {
    "duration": 13,
    "start_time": "2022-12-05T10:39:25.317Z"
   },
   {
    "duration": 12,
    "start_time": "2022-12-05T10:39:25.331Z"
   },
   {
    "duration": 12,
    "start_time": "2022-12-05T10:39:25.344Z"
   },
   {
    "duration": 26,
    "start_time": "2022-12-05T10:39:25.357Z"
   },
   {
    "duration": 17,
    "start_time": "2022-12-05T10:39:25.384Z"
   },
   {
    "duration": 8,
    "start_time": "2022-12-05T10:39:25.403Z"
   },
   {
    "duration": 14,
    "start_time": "2022-12-05T10:39:25.412Z"
   },
   {
    "duration": 10,
    "start_time": "2022-12-05T10:39:25.428Z"
   },
   {
    "duration": 28,
    "start_time": "2022-12-05T10:39:25.439Z"
   },
   {
    "duration": 82,
    "start_time": "2022-12-05T10:39:25.469Z"
   },
   {
    "duration": 10,
    "start_time": "2022-12-05T10:39:25.577Z"
   },
   {
    "duration": 8,
    "start_time": "2022-12-05T10:39:25.588Z"
   },
   {
    "duration": 8,
    "start_time": "2022-12-05T10:39:25.598Z"
   },
   {
    "duration": 16,
    "start_time": "2022-12-05T10:39:25.607Z"
   },
   {
    "duration": 19,
    "start_time": "2022-12-05T10:39:25.624Z"
   },
   {
    "duration": 4,
    "start_time": "2022-12-05T10:39:25.645Z"
   },
   {
    "duration": 29,
    "start_time": "2022-12-05T10:39:25.650Z"
   },
   {
    "duration": 1193,
    "start_time": "2022-12-05T10:39:25.680Z"
   },
   {
    "duration": 4,
    "start_time": "2022-12-05T10:39:26.875Z"
   },
   {
    "duration": 575,
    "start_time": "2022-12-05T10:39:26.881Z"
   },
   {
    "duration": 26,
    "start_time": "2022-12-05T10:39:27.457Z"
   },
   {
    "duration": 4,
    "start_time": "2022-12-05T10:39:27.484Z"
   },
   {
    "duration": 106,
    "start_time": "2022-12-05T10:39:27.490Z"
   },
   {
    "duration": 6,
    "start_time": "2022-12-05T10:39:27.597Z"
   },
   {
    "duration": 13,
    "start_time": "2022-12-05T10:39:27.605Z"
   },
   {
    "duration": 136,
    "start_time": "2022-12-05T10:39:27.620Z"
   },
   {
    "duration": 25,
    "start_time": "2022-12-05T10:39:27.758Z"
   },
   {
    "duration": 134,
    "start_time": "2022-12-05T10:39:27.785Z"
   },
   {
    "duration": 10,
    "start_time": "2022-12-05T10:39:27.921Z"
   },
   {
    "duration": 136,
    "start_time": "2022-12-05T10:39:27.933Z"
   },
   {
    "duration": 13,
    "start_time": "2022-12-05T10:39:28.071Z"
   },
   {
    "duration": 239,
    "start_time": "2022-12-05T10:39:28.086Z"
   },
   {
    "duration": 10,
    "start_time": "2022-12-05T10:39:28.326Z"
   },
   {
    "duration": 134,
    "start_time": "2022-12-05T10:39:28.338Z"
   },
   {
    "duration": 7,
    "start_time": "2022-12-05T10:39:28.477Z"
   },
   {
    "duration": 11,
    "start_time": "2022-12-05T10:39:28.485Z"
   },
   {
    "duration": 166,
    "start_time": "2022-12-05T10:39:28.498Z"
   },
   {
    "duration": 14,
    "start_time": "2022-12-05T10:39:28.666Z"
   },
   {
    "duration": 11,
    "start_time": "2022-12-05T10:39:28.682Z"
   },
   {
    "duration": 171,
    "start_time": "2022-12-05T10:39:28.695Z"
   },
   {
    "duration": 10,
    "start_time": "2022-12-05T10:39:28.868Z"
   },
   {
    "duration": 10,
    "start_time": "2022-12-05T10:39:28.880Z"
   },
   {
    "duration": 174,
    "start_time": "2022-12-05T10:39:28.892Z"
   },
   {
    "duration": 11,
    "start_time": "2022-12-05T10:39:29.068Z"
   },
   {
    "duration": 9,
    "start_time": "2022-12-05T10:39:29.081Z"
   },
   {
    "duration": 4,
    "start_time": "2022-12-05T10:39:29.092Z"
   },
   {
    "duration": 15166,
    "start_time": "2022-12-05T10:39:29.098Z"
   },
   {
    "duration": 30,
    "start_time": "2022-12-05T10:39:44.265Z"
   },
   {
    "duration": 117,
    "start_time": "2022-12-05T10:39:44.297Z"
   },
   {
    "duration": 0,
    "start_time": "2022-12-05T10:39:44.416Z"
   },
   {
    "duration": 0,
    "start_time": "2022-12-05T10:39:44.418Z"
   },
   {
    "duration": 0,
    "start_time": "2022-12-05T10:39:44.419Z"
   },
   {
    "duration": 0,
    "start_time": "2022-12-05T10:39:44.421Z"
   },
   {
    "duration": 0,
    "start_time": "2022-12-05T10:39:44.422Z"
   },
   {
    "duration": 0,
    "start_time": "2022-12-05T10:39:44.423Z"
   },
   {
    "duration": 0,
    "start_time": "2022-12-05T10:39:44.424Z"
   },
   {
    "duration": 0,
    "start_time": "2022-12-05T10:39:44.425Z"
   },
   {
    "duration": 0,
    "start_time": "2022-12-05T10:39:44.427Z"
   },
   {
    "duration": 0,
    "start_time": "2022-12-05T10:39:44.427Z"
   },
   {
    "duration": 0,
    "start_time": "2022-12-05T10:39:44.429Z"
   },
   {
    "duration": 0,
    "start_time": "2022-12-05T10:39:44.429Z"
   },
   {
    "duration": 0,
    "start_time": "2022-12-05T10:39:44.430Z"
   },
   {
    "duration": 0,
    "start_time": "2022-12-05T10:39:44.431Z"
   },
   {
    "duration": 0,
    "start_time": "2022-12-05T10:39:44.432Z"
   },
   {
    "duration": 0,
    "start_time": "2022-12-05T10:39:44.433Z"
   },
   {
    "duration": 0,
    "start_time": "2022-12-05T10:39:44.434Z"
   },
   {
    "duration": 0,
    "start_time": "2022-12-05T10:39:44.435Z"
   },
   {
    "duration": 0,
    "start_time": "2022-12-05T10:39:44.436Z"
   },
   {
    "duration": 0,
    "start_time": "2022-12-05T10:39:44.438Z"
   },
   {
    "duration": 0,
    "start_time": "2022-12-05T10:39:44.439Z"
   },
   {
    "duration": 0,
    "start_time": "2022-12-05T10:39:44.440Z"
   },
   {
    "duration": 0,
    "start_time": "2022-12-05T10:39:44.478Z"
   },
   {
    "duration": 0,
    "start_time": "2022-12-05T10:39:44.479Z"
   },
   {
    "duration": 0,
    "start_time": "2022-12-05T10:39:44.480Z"
   },
   {
    "duration": 0,
    "start_time": "2022-12-05T10:39:44.482Z"
   },
   {
    "duration": 0,
    "start_time": "2022-12-05T10:39:44.483Z"
   },
   {
    "duration": 0,
    "start_time": "2022-12-05T10:39:44.484Z"
   },
   {
    "duration": 0,
    "start_time": "2022-12-05T10:39:44.485Z"
   },
   {
    "duration": 0,
    "start_time": "2022-12-05T10:39:44.487Z"
   },
   {
    "duration": 0,
    "start_time": "2022-12-05T10:39:44.488Z"
   },
   {
    "duration": 0,
    "start_time": "2022-12-05T10:39:44.489Z"
   },
   {
    "duration": 500,
    "start_time": "2022-12-05T10:40:44.654Z"
   },
   {
    "duration": 445,
    "start_time": "2022-12-05T10:41:09.255Z"
   },
   {
    "duration": 1496,
    "start_time": "2022-12-05T10:55:41.785Z"
   },
   {
    "duration": 2049,
    "start_time": "2022-12-05T10:55:43.283Z"
   },
   {
    "duration": 14,
    "start_time": "2022-12-05T10:55:45.334Z"
   },
   {
    "duration": 101,
    "start_time": "2022-12-05T10:55:45.349Z"
   },
   {
    "duration": 4,
    "start_time": "2022-12-05T10:55:45.452Z"
   },
   {
    "duration": 66,
    "start_time": "2022-12-05T10:55:45.458Z"
   },
   {
    "duration": 7,
    "start_time": "2022-12-05T10:55:45.525Z"
   },
   {
    "duration": 45,
    "start_time": "2022-12-05T10:55:45.533Z"
   },
   {
    "duration": 6,
    "start_time": "2022-12-05T10:55:45.580Z"
   },
   {
    "duration": 89,
    "start_time": "2022-12-05T10:55:45.590Z"
   },
   {
    "duration": 7,
    "start_time": "2022-12-05T10:55:45.682Z"
   },
   {
    "duration": 8,
    "start_time": "2022-12-05T10:55:45.690Z"
   },
   {
    "duration": 10,
    "start_time": "2022-12-05T10:55:45.700Z"
   },
   {
    "duration": 108,
    "start_time": "2022-12-05T10:55:45.712Z"
   },
   {
    "duration": 6,
    "start_time": "2022-12-05T10:55:45.821Z"
   },
   {
    "duration": 10,
    "start_time": "2022-12-05T10:55:45.828Z"
   },
   {
    "duration": 71,
    "start_time": "2022-12-05T10:55:45.839Z"
   },
   {
    "duration": 6,
    "start_time": "2022-12-05T10:55:45.912Z"
   },
   {
    "duration": 22,
    "start_time": "2022-12-05T10:55:45.921Z"
   },
   {
    "duration": 40,
    "start_time": "2022-12-05T10:55:45.945Z"
   },
   {
    "duration": 13,
    "start_time": "2022-12-05T10:55:45.987Z"
   },
   {
    "duration": 7,
    "start_time": "2022-12-05T10:55:46.002Z"
   },
   {
    "duration": 17,
    "start_time": "2022-12-05T10:55:46.011Z"
   },
   {
    "duration": 10,
    "start_time": "2022-12-05T10:55:46.030Z"
   },
   {
    "duration": 11,
    "start_time": "2022-12-05T10:55:46.042Z"
   },
   {
    "duration": 30,
    "start_time": "2022-12-05T10:55:46.055Z"
   },
   {
    "duration": 8,
    "start_time": "2022-12-05T10:55:46.087Z"
   },
   {
    "duration": 11,
    "start_time": "2022-12-05T10:55:46.099Z"
   },
   {
    "duration": 8,
    "start_time": "2022-12-05T10:55:46.112Z"
   },
   {
    "duration": 16,
    "start_time": "2022-12-05T10:55:46.122Z"
   },
   {
    "duration": 9,
    "start_time": "2022-12-05T10:55:46.140Z"
   },
   {
    "duration": 28,
    "start_time": "2022-12-05T10:55:46.151Z"
   },
   {
    "duration": 13,
    "start_time": "2022-12-05T10:55:46.181Z"
   },
   {
    "duration": 18,
    "start_time": "2022-12-05T10:55:46.196Z"
   },
   {
    "duration": 14,
    "start_time": "2022-12-05T10:55:46.216Z"
   },
   {
    "duration": 10,
    "start_time": "2022-12-05T10:55:46.232Z"
   },
   {
    "duration": 17,
    "start_time": "2022-12-05T10:55:46.244Z"
   },
   {
    "duration": 4,
    "start_time": "2022-12-05T10:55:46.277Z"
   },
   {
    "duration": 15,
    "start_time": "2022-12-05T10:55:46.283Z"
   },
   {
    "duration": 7,
    "start_time": "2022-12-05T10:55:46.300Z"
   },
   {
    "duration": 35,
    "start_time": "2022-12-05T10:55:46.308Z"
   },
   {
    "duration": 135,
    "start_time": "2022-12-05T10:55:46.345Z"
   },
   {
    "duration": 9,
    "start_time": "2022-12-05T10:55:46.482Z"
   },
   {
    "duration": 10,
    "start_time": "2022-12-05T10:55:46.493Z"
   },
   {
    "duration": 9,
    "start_time": "2022-12-05T10:55:46.505Z"
   },
   {
    "duration": 17,
    "start_time": "2022-12-05T10:55:46.516Z"
   },
   {
    "duration": 51,
    "start_time": "2022-12-05T10:55:46.535Z"
   },
   {
    "duration": 4,
    "start_time": "2022-12-05T10:55:46.587Z"
   },
   {
    "duration": 11,
    "start_time": "2022-12-05T10:55:46.592Z"
   },
   {
    "duration": 1337,
    "start_time": "2022-12-05T10:55:46.605Z"
   },
   {
    "duration": 4,
    "start_time": "2022-12-05T10:55:47.944Z"
   },
   {
    "duration": 566,
    "start_time": "2022-12-05T10:55:47.949Z"
   },
   {
    "duration": 31,
    "start_time": "2022-12-05T10:55:48.518Z"
   },
   {
    "duration": 7,
    "start_time": "2022-12-05T10:55:48.551Z"
   },
   {
    "duration": 125,
    "start_time": "2022-12-05T10:55:48.578Z"
   },
   {
    "duration": 7,
    "start_time": "2022-12-05T10:55:48.705Z"
   },
   {
    "duration": 15,
    "start_time": "2022-12-05T10:55:48.714Z"
   },
   {
    "duration": 156,
    "start_time": "2022-12-05T10:55:48.731Z"
   },
   {
    "duration": 11,
    "start_time": "2022-12-05T10:55:48.889Z"
   },
   {
    "duration": 161,
    "start_time": "2022-12-05T10:55:48.902Z"
   },
   {
    "duration": 19,
    "start_time": "2022-12-05T10:55:49.065Z"
   },
   {
    "duration": 155,
    "start_time": "2022-12-05T10:55:49.085Z"
   },
   {
    "duration": 15,
    "start_time": "2022-12-05T10:55:49.242Z"
   },
   {
    "duration": 265,
    "start_time": "2022-12-05T10:55:49.258Z"
   },
   {
    "duration": 12,
    "start_time": "2022-12-05T10:55:49.525Z"
   },
   {
    "duration": 139,
    "start_time": "2022-12-05T10:55:49.539Z"
   },
   {
    "duration": 7,
    "start_time": "2022-12-05T10:55:49.680Z"
   },
   {
    "duration": 15,
    "start_time": "2022-12-05T10:55:49.689Z"
   },
   {
    "duration": 165,
    "start_time": "2022-12-05T10:55:49.705Z"
   },
   {
    "duration": 9,
    "start_time": "2022-12-05T10:55:49.872Z"
   },
   {
    "duration": 34,
    "start_time": "2022-12-05T10:55:49.883Z"
   },
   {
    "duration": 157,
    "start_time": "2022-12-05T10:55:49.919Z"
   },
   {
    "duration": 6,
    "start_time": "2022-12-05T10:55:50.079Z"
   },
   {
    "duration": 31,
    "start_time": "2022-12-05T10:55:50.087Z"
   },
   {
    "duration": 152,
    "start_time": "2022-12-05T10:55:50.120Z"
   },
   {
    "duration": 10,
    "start_time": "2022-12-05T10:55:50.273Z"
   },
   {
    "duration": 12,
    "start_time": "2022-12-05T10:55:50.285Z"
   },
   {
    "duration": 21,
    "start_time": "2022-12-05T10:55:50.298Z"
   },
   {
    "duration": 137,
    "start_time": "2022-12-05T10:55:50.320Z"
   },
   {
    "duration": 0,
    "start_time": "2022-12-05T10:55:50.460Z"
   },
   {
    "duration": 0,
    "start_time": "2022-12-05T10:55:50.461Z"
   },
   {
    "duration": 0,
    "start_time": "2022-12-05T10:55:50.462Z"
   },
   {
    "duration": 0,
    "start_time": "2022-12-05T10:55:50.464Z"
   },
   {
    "duration": 0,
    "start_time": "2022-12-05T10:55:50.465Z"
   },
   {
    "duration": 0,
    "start_time": "2022-12-05T10:55:50.466Z"
   },
   {
    "duration": 0,
    "start_time": "2022-12-05T10:55:50.477Z"
   },
   {
    "duration": 0,
    "start_time": "2022-12-05T10:55:50.478Z"
   },
   {
    "duration": 0,
    "start_time": "2022-12-05T10:55:50.479Z"
   },
   {
    "duration": 0,
    "start_time": "2022-12-05T10:55:50.481Z"
   },
   {
    "duration": 0,
    "start_time": "2022-12-05T10:55:50.482Z"
   },
   {
    "duration": 0,
    "start_time": "2022-12-05T10:55:50.483Z"
   },
   {
    "duration": 0,
    "start_time": "2022-12-05T10:55:50.484Z"
   },
   {
    "duration": 0,
    "start_time": "2022-12-05T10:55:50.485Z"
   },
   {
    "duration": 0,
    "start_time": "2022-12-05T10:55:50.486Z"
   },
   {
    "duration": 0,
    "start_time": "2022-12-05T10:55:50.487Z"
   },
   {
    "duration": 0,
    "start_time": "2022-12-05T10:55:50.488Z"
   },
   {
    "duration": 0,
    "start_time": "2022-12-05T10:55:50.489Z"
   },
   {
    "duration": 0,
    "start_time": "2022-12-05T10:55:50.490Z"
   },
   {
    "duration": 0,
    "start_time": "2022-12-05T10:55:50.491Z"
   },
   {
    "duration": 0,
    "start_time": "2022-12-05T10:55:50.492Z"
   },
   {
    "duration": 0,
    "start_time": "2022-12-05T10:55:50.493Z"
   },
   {
    "duration": 0,
    "start_time": "2022-12-05T10:55:50.494Z"
   },
   {
    "duration": 0,
    "start_time": "2022-12-05T10:55:50.495Z"
   },
   {
    "duration": 1,
    "start_time": "2022-12-05T10:55:50.496Z"
   },
   {
    "duration": 0,
    "start_time": "2022-12-05T10:55:50.497Z"
   },
   {
    "duration": 0,
    "start_time": "2022-12-05T10:55:50.498Z"
   },
   {
    "duration": 0,
    "start_time": "2022-12-05T10:55:50.499Z"
   },
   {
    "duration": 0,
    "start_time": "2022-12-05T10:55:50.501Z"
   },
   {
    "duration": 0,
    "start_time": "2022-12-05T10:55:50.502Z"
   },
   {
    "duration": 0,
    "start_time": "2022-12-05T10:55:50.503Z"
   },
   {
    "duration": 0,
    "start_time": "2022-12-05T10:55:50.504Z"
   },
   {
    "duration": 0,
    "start_time": "2022-12-05T10:55:50.505Z"
   },
   {
    "duration": 11,
    "start_time": "2022-12-05T10:56:59.364Z"
   },
   {
    "duration": 15440,
    "start_time": "2022-12-05T10:57:13.938Z"
   },
   {
    "duration": 29,
    "start_time": "2022-12-05T10:57:29.380Z"
   },
   {
    "duration": 1462,
    "start_time": "2022-12-05T10:57:43.913Z"
   },
   {
    "duration": 1964,
    "start_time": "2022-12-05T10:57:45.377Z"
   },
   {
    "duration": 14,
    "start_time": "2022-12-05T10:57:47.343Z"
   },
   {
    "duration": 103,
    "start_time": "2022-12-05T10:57:47.359Z"
   },
   {
    "duration": 4,
    "start_time": "2022-12-05T10:57:47.464Z"
   },
   {
    "duration": 66,
    "start_time": "2022-12-05T10:57:47.470Z"
   },
   {
    "duration": 7,
    "start_time": "2022-12-05T10:57:47.538Z"
   },
   {
    "duration": 41,
    "start_time": "2022-12-05T10:57:47.547Z"
   },
   {
    "duration": 8,
    "start_time": "2022-12-05T10:57:47.590Z"
   },
   {
    "duration": 79,
    "start_time": "2022-12-05T10:57:47.601Z"
   },
   {
    "duration": 8,
    "start_time": "2022-12-05T10:57:47.682Z"
   },
   {
    "duration": 11,
    "start_time": "2022-12-05T10:57:47.692Z"
   },
   {
    "duration": 19,
    "start_time": "2022-12-05T10:57:47.704Z"
   },
   {
    "duration": 102,
    "start_time": "2022-12-05T10:57:47.725Z"
   },
   {
    "duration": 8,
    "start_time": "2022-12-05T10:57:47.829Z"
   },
   {
    "duration": 10,
    "start_time": "2022-12-05T10:57:47.839Z"
   },
   {
    "duration": 76,
    "start_time": "2022-12-05T10:57:47.851Z"
   },
   {
    "duration": 6,
    "start_time": "2022-12-05T10:57:47.928Z"
   },
   {
    "duration": 43,
    "start_time": "2022-12-05T10:57:47.936Z"
   },
   {
    "duration": 9,
    "start_time": "2022-12-05T10:57:47.981Z"
   },
   {
    "duration": 25,
    "start_time": "2022-12-05T10:57:47.992Z"
   },
   {
    "duration": 14,
    "start_time": "2022-12-05T10:57:48.018Z"
   },
   {
    "duration": 25,
    "start_time": "2022-12-05T10:57:48.034Z"
   },
   {
    "duration": 15,
    "start_time": "2022-12-05T10:57:48.060Z"
   },
   {
    "duration": 23,
    "start_time": "2022-12-05T10:57:48.077Z"
   },
   {
    "duration": 19,
    "start_time": "2022-12-05T10:57:48.102Z"
   },
   {
    "duration": 25,
    "start_time": "2022-12-05T10:57:48.123Z"
   },
   {
    "duration": 29,
    "start_time": "2022-12-05T10:57:48.151Z"
   },
   {
    "duration": 22,
    "start_time": "2022-12-05T10:57:48.182Z"
   },
   {
    "duration": 33,
    "start_time": "2022-12-05T10:57:48.206Z"
   },
   {
    "duration": 35,
    "start_time": "2022-12-05T10:57:48.241Z"
   },
   {
    "duration": 28,
    "start_time": "2022-12-05T10:57:48.279Z"
   },
   {
    "duration": 32,
    "start_time": "2022-12-05T10:57:48.308Z"
   },
   {
    "duration": 39,
    "start_time": "2022-12-05T10:57:48.342Z"
   },
   {
    "duration": 16,
    "start_time": "2022-12-05T10:57:48.383Z"
   },
   {
    "duration": 25,
    "start_time": "2022-12-05T10:57:48.401Z"
   },
   {
    "duration": 36,
    "start_time": "2022-12-05T10:57:48.428Z"
   },
   {
    "duration": 19,
    "start_time": "2022-12-05T10:57:48.465Z"
   },
   {
    "duration": 29,
    "start_time": "2022-12-05T10:57:48.486Z"
   },
   {
    "duration": 26,
    "start_time": "2022-12-05T10:57:48.517Z"
   },
   {
    "duration": 36,
    "start_time": "2022-12-05T10:57:48.544Z"
   },
   {
    "duration": 123,
    "start_time": "2022-12-05T10:57:48.581Z"
   },
   {
    "duration": 12,
    "start_time": "2022-12-05T10:57:48.706Z"
   },
   {
    "duration": 40,
    "start_time": "2022-12-05T10:57:48.720Z"
   },
   {
    "duration": 27,
    "start_time": "2022-12-05T10:57:48.762Z"
   },
   {
    "duration": 48,
    "start_time": "2022-12-05T10:57:48.791Z"
   },
   {
    "duration": 26,
    "start_time": "2022-12-05T10:57:48.840Z"
   },
   {
    "duration": 22,
    "start_time": "2022-12-05T10:57:48.868Z"
   },
   {
    "duration": 37,
    "start_time": "2022-12-05T10:57:48.892Z"
   },
   {
    "duration": 1280,
    "start_time": "2022-12-05T10:57:48.931Z"
   },
   {
    "duration": 5,
    "start_time": "2022-12-05T10:57:50.213Z"
   },
   {
    "duration": 598,
    "start_time": "2022-12-05T10:57:50.220Z"
   },
   {
    "duration": 20,
    "start_time": "2022-12-05T10:57:50.820Z"
   },
   {
    "duration": 30,
    "start_time": "2022-12-05T10:57:50.842Z"
   },
   {
    "duration": 131,
    "start_time": "2022-12-05T10:57:50.874Z"
   },
   {
    "duration": 7,
    "start_time": "2022-12-05T10:57:51.006Z"
   },
   {
    "duration": 38,
    "start_time": "2022-12-05T10:57:51.015Z"
   },
   {
    "duration": 148,
    "start_time": "2022-12-05T10:57:51.055Z"
   },
   {
    "duration": 12,
    "start_time": "2022-12-05T10:57:51.205Z"
   },
   {
    "duration": 155,
    "start_time": "2022-12-05T10:57:51.219Z"
   },
   {
    "duration": 11,
    "start_time": "2022-12-05T10:57:51.388Z"
   },
   {
    "duration": 137,
    "start_time": "2022-12-05T10:57:51.401Z"
   },
   {
    "duration": 11,
    "start_time": "2022-12-05T10:57:51.540Z"
   },
   {
    "duration": 252,
    "start_time": "2022-12-05T10:57:51.553Z"
   },
   {
    "duration": 10,
    "start_time": "2022-12-05T10:57:51.807Z"
   },
   {
    "duration": 139,
    "start_time": "2022-12-05T10:57:51.819Z"
   },
   {
    "duration": 8,
    "start_time": "2022-12-05T10:57:51.959Z"
   },
   {
    "duration": 21,
    "start_time": "2022-12-05T10:57:51.969Z"
   },
   {
    "duration": 156,
    "start_time": "2022-12-05T10:57:51.992Z"
   },
   {
    "duration": 6,
    "start_time": "2022-12-05T10:57:52.150Z"
   },
   {
    "duration": 21,
    "start_time": "2022-12-05T10:57:52.158Z"
   },
   {
    "duration": 149,
    "start_time": "2022-12-05T10:57:52.181Z"
   },
   {
    "duration": 7,
    "start_time": "2022-12-05T10:57:52.332Z"
   },
   {
    "duration": 11,
    "start_time": "2022-12-05T10:57:52.341Z"
   },
   {
    "duration": 168,
    "start_time": "2022-12-05T10:57:52.354Z"
   },
   {
    "duration": 7,
    "start_time": "2022-12-05T10:57:52.524Z"
   },
   {
    "duration": 15,
    "start_time": "2022-12-05T10:57:52.533Z"
   },
   {
    "duration": 4,
    "start_time": "2022-12-05T10:57:52.550Z"
   },
   {
    "duration": 15792,
    "start_time": "2022-12-05T10:57:52.555Z"
   },
   {
    "duration": 53,
    "start_time": "2022-12-05T10:58:08.348Z"
   },
   {
    "duration": 551,
    "start_time": "2022-12-05T10:58:08.404Z"
   },
   {
    "duration": 3,
    "start_time": "2022-12-05T10:58:08.961Z"
   },
   {
    "duration": 30,
    "start_time": "2022-12-05T10:58:08.967Z"
   },
   {
    "duration": 13,
    "start_time": "2022-12-05T10:58:08.999Z"
   },
   {
    "duration": 10,
    "start_time": "2022-12-05T10:58:09.014Z"
   },
   {
    "duration": 20,
    "start_time": "2022-12-05T10:58:09.026Z"
   },
   {
    "duration": 8,
    "start_time": "2022-12-05T10:58:09.048Z"
   },
   {
    "duration": 11,
    "start_time": "2022-12-05T10:58:09.058Z"
   },
   {
    "duration": 13,
    "start_time": "2022-12-05T10:58:09.079Z"
   },
   {
    "duration": 35,
    "start_time": "2022-12-05T10:58:09.094Z"
   },
   {
    "duration": 18,
    "start_time": "2022-12-05T10:58:09.131Z"
   },
   {
    "duration": 39,
    "start_time": "2022-12-05T10:58:09.151Z"
   },
   {
    "duration": 10,
    "start_time": "2022-12-05T10:58:09.192Z"
   },
   {
    "duration": 14,
    "start_time": "2022-12-05T10:58:09.204Z"
   },
   {
    "duration": 9,
    "start_time": "2022-12-05T10:58:09.220Z"
   },
   {
    "duration": 130,
    "start_time": "2022-12-05T10:58:09.231Z"
   },
   {
    "duration": 9526,
    "start_time": "2022-12-05T10:58:09.362Z"
   },
   {
    "duration": 100,
    "start_time": "2022-12-05T10:58:18.889Z"
   },
   {
    "duration": 101,
    "start_time": "2022-12-05T10:58:18.991Z"
   },
   {
    "duration": 87,
    "start_time": "2022-12-05T10:58:19.093Z"
   },
   {
    "duration": 144,
    "start_time": "2022-12-05T10:58:19.182Z"
   },
   {
    "duration": 30152,
    "start_time": "2022-12-05T10:58:19.328Z"
   },
   {
    "duration": 72,
    "start_time": "2022-12-05T10:58:49.482Z"
   },
   {
    "duration": 142,
    "start_time": "2022-12-05T10:58:49.556Z"
   },
   {
    "duration": 29254,
    "start_time": "2022-12-05T10:58:49.700Z"
   },
   {
    "duration": 0,
    "start_time": "2022-12-05T10:59:18.956Z"
   },
   {
    "duration": 0,
    "start_time": "2022-12-05T10:59:18.958Z"
   },
   {
    "duration": 0,
    "start_time": "2022-12-05T10:59:18.959Z"
   },
   {
    "duration": 0,
    "start_time": "2022-12-05T10:59:18.961Z"
   },
   {
    "duration": 0,
    "start_time": "2022-12-05T10:59:18.962Z"
   },
   {
    "duration": 0,
    "start_time": "2022-12-05T10:59:18.963Z"
   },
   {
    "duration": 0,
    "start_time": "2022-12-05T10:59:18.964Z"
   },
   {
    "duration": 0,
    "start_time": "2022-12-05T10:59:18.965Z"
   },
   {
    "duration": 29727,
    "start_time": "2022-12-05T11:00:07.783Z"
   },
   {
    "duration": 4,
    "start_time": "2022-12-05T11:00:51.522Z"
   },
   {
    "duration": 135,
    "start_time": "2022-12-05T11:00:54.717Z"
   },
   {
    "duration": 5,
    "start_time": "2022-12-05T11:01:03.719Z"
   },
   {
    "duration": 130,
    "start_time": "2022-12-05T11:01:06.812Z"
   },
   {
    "duration": 9,
    "start_time": "2022-12-05T11:01:10.662Z"
   },
   {
    "duration": 12,
    "start_time": "2022-12-05T11:01:15.612Z"
   },
   {
    "duration": 274,
    "start_time": "2022-12-05T11:01:20.069Z"
   },
   {
    "duration": 76,
    "start_time": "2022-12-05T11:10:03.038Z"
   },
   {
    "duration": 44,
    "start_time": "2022-12-06T18:22:45.560Z"
   },
   {
    "duration": 1658,
    "start_time": "2022-12-06T18:23:00.356Z"
   },
   {
    "duration": 3094,
    "start_time": "2022-12-06T18:23:02.017Z"
   },
   {
    "duration": 20,
    "start_time": "2022-12-06T18:23:05.113Z"
   },
   {
    "duration": 397,
    "start_time": "2022-12-06T18:23:05.136Z"
   },
   {
    "duration": 4,
    "start_time": "2022-12-06T18:23:05.534Z"
   },
   {
    "duration": 56,
    "start_time": "2022-12-06T18:23:05.540Z"
   },
   {
    "duration": 6,
    "start_time": "2022-12-06T18:23:05.598Z"
   },
   {
    "duration": 7,
    "start_time": "2022-12-06T18:23:05.605Z"
   },
   {
    "duration": 6,
    "start_time": "2022-12-06T18:23:05.614Z"
   },
   {
    "duration": 78,
    "start_time": "2022-12-06T18:23:05.622Z"
   },
   {
    "duration": 7,
    "start_time": "2022-12-06T18:23:05.702Z"
   },
   {
    "duration": 7,
    "start_time": "2022-12-06T18:23:05.711Z"
   },
   {
    "duration": 7,
    "start_time": "2022-12-06T18:23:05.720Z"
   },
   {
    "duration": 107,
    "start_time": "2022-12-06T18:23:05.729Z"
   },
   {
    "duration": 6,
    "start_time": "2022-12-06T18:23:05.838Z"
   },
   {
    "duration": 12,
    "start_time": "2022-12-06T18:23:05.845Z"
   },
   {
    "duration": 80,
    "start_time": "2022-12-06T18:23:05.859Z"
   },
   {
    "duration": 5,
    "start_time": "2022-12-06T18:23:05.941Z"
   },
   {
    "duration": 50,
    "start_time": "2022-12-06T18:23:05.948Z"
   },
   {
    "duration": 10,
    "start_time": "2022-12-06T18:23:05.999Z"
   },
   {
    "duration": 11,
    "start_time": "2022-12-06T18:23:06.011Z"
   },
   {
    "duration": 15,
    "start_time": "2022-12-06T18:23:06.023Z"
   },
   {
    "duration": 17,
    "start_time": "2022-12-06T18:23:06.040Z"
   },
   {
    "duration": 9,
    "start_time": "2022-12-06T18:23:06.059Z"
   },
   {
    "duration": 9,
    "start_time": "2022-12-06T18:23:06.070Z"
   },
   {
    "duration": 23,
    "start_time": "2022-12-06T18:23:06.080Z"
   },
   {
    "duration": 9,
    "start_time": "2022-12-06T18:23:06.105Z"
   },
   {
    "duration": 5,
    "start_time": "2022-12-06T18:23:06.119Z"
   },
   {
    "duration": 8,
    "start_time": "2022-12-06T18:23:06.126Z"
   },
   {
    "duration": 14,
    "start_time": "2022-12-06T18:23:06.136Z"
   },
   {
    "duration": 4,
    "start_time": "2022-12-06T18:23:06.152Z"
   },
   {
    "duration": 39,
    "start_time": "2022-12-06T18:23:06.158Z"
   },
   {
    "duration": 10,
    "start_time": "2022-12-06T18:23:06.199Z"
   },
   {
    "duration": 12,
    "start_time": "2022-12-06T18:23:06.210Z"
   },
   {
    "duration": 13,
    "start_time": "2022-12-06T18:23:06.223Z"
   },
   {
    "duration": 10,
    "start_time": "2022-12-06T18:23:06.238Z"
   },
   {
    "duration": 29,
    "start_time": "2022-12-06T18:23:06.250Z"
   },
   {
    "duration": 16,
    "start_time": "2022-12-06T18:23:06.282Z"
   },
   {
    "duration": 15,
    "start_time": "2022-12-06T18:23:06.300Z"
   },
   {
    "duration": 14,
    "start_time": "2022-12-06T18:23:06.317Z"
   },
   {
    "duration": 45,
    "start_time": "2022-12-06T18:23:06.334Z"
   },
   {
    "duration": 136,
    "start_time": "2022-12-06T18:23:06.381Z"
   },
   {
    "duration": 10,
    "start_time": "2022-12-06T18:23:06.518Z"
   },
   {
    "duration": 4,
    "start_time": "2022-12-06T18:23:06.530Z"
   },
   {
    "duration": 6,
    "start_time": "2022-12-06T18:23:06.536Z"
   },
   {
    "duration": 15,
    "start_time": "2022-12-06T18:23:06.544Z"
   },
   {
    "duration": 22,
    "start_time": "2022-12-06T18:23:06.597Z"
   },
   {
    "duration": 4,
    "start_time": "2022-12-06T18:23:06.622Z"
   },
   {
    "duration": 7,
    "start_time": "2022-12-06T18:23:06.627Z"
   },
   {
    "duration": 1281,
    "start_time": "2022-12-06T18:23:06.635Z"
   },
   {
    "duration": 5,
    "start_time": "2022-12-06T18:23:07.918Z"
   },
   {
    "duration": 571,
    "start_time": "2022-12-06T18:23:07.925Z"
   },
   {
    "duration": 20,
    "start_time": "2022-12-06T18:23:08.498Z"
   },
   {
    "duration": 6,
    "start_time": "2022-12-06T18:23:08.520Z"
   },
   {
    "duration": 126,
    "start_time": "2022-12-06T18:23:08.527Z"
   },
   {
    "duration": 6,
    "start_time": "2022-12-06T18:23:08.654Z"
   },
   {
    "duration": 14,
    "start_time": "2022-12-06T18:23:08.661Z"
   },
   {
    "duration": 139,
    "start_time": "2022-12-06T18:23:08.677Z"
   },
   {
    "duration": 9,
    "start_time": "2022-12-06T18:23:08.818Z"
   },
   {
    "duration": 152,
    "start_time": "2022-12-06T18:23:08.829Z"
   },
   {
    "duration": 19,
    "start_time": "2022-12-06T18:23:08.983Z"
   },
   {
    "duration": 155,
    "start_time": "2022-12-06T18:23:09.004Z"
   },
   {
    "duration": 10,
    "start_time": "2022-12-06T18:23:09.161Z"
   },
   {
    "duration": 247,
    "start_time": "2022-12-06T18:23:09.173Z"
   },
   {
    "duration": 10,
    "start_time": "2022-12-06T18:23:09.422Z"
   },
   {
    "duration": 140,
    "start_time": "2022-12-06T18:23:09.433Z"
   },
   {
    "duration": 16,
    "start_time": "2022-12-06T18:23:09.575Z"
   },
   {
    "duration": 12,
    "start_time": "2022-12-06T18:23:09.593Z"
   },
   {
    "duration": 157,
    "start_time": "2022-12-06T18:23:09.607Z"
   },
   {
    "duration": 7,
    "start_time": "2022-12-06T18:23:09.766Z"
   },
   {
    "duration": 27,
    "start_time": "2022-12-06T18:23:09.774Z"
   },
   {
    "duration": 165,
    "start_time": "2022-12-06T18:23:09.803Z"
   },
   {
    "duration": 7,
    "start_time": "2022-12-06T18:23:09.969Z"
   },
   {
    "duration": 26,
    "start_time": "2022-12-06T18:23:09.977Z"
   },
   {
    "duration": 155,
    "start_time": "2022-12-06T18:23:10.005Z"
   },
   {
    "duration": 8,
    "start_time": "2022-12-06T18:23:10.162Z"
   },
   {
    "duration": 26,
    "start_time": "2022-12-06T18:23:10.172Z"
   },
   {
    "duration": 4,
    "start_time": "2022-12-06T18:23:10.199Z"
   },
   {
    "duration": 15050,
    "start_time": "2022-12-06T18:23:10.205Z"
   },
   {
    "duration": 39,
    "start_time": "2022-12-06T18:23:25.257Z"
   },
   {
    "duration": 498,
    "start_time": "2022-12-06T18:23:25.298Z"
   },
   {
    "duration": 3,
    "start_time": "2022-12-06T18:23:25.801Z"
   },
   {
    "duration": 21,
    "start_time": "2022-12-06T18:23:25.806Z"
   },
   {
    "duration": 5,
    "start_time": "2022-12-06T18:23:25.829Z"
   },
   {
    "duration": 7,
    "start_time": "2022-12-06T18:23:25.836Z"
   },
   {
    "duration": 18,
    "start_time": "2022-12-06T18:23:25.844Z"
   },
   {
    "duration": 7,
    "start_time": "2022-12-06T18:23:25.864Z"
   },
   {
    "duration": 8,
    "start_time": "2022-12-06T18:23:25.896Z"
   },
   {
    "duration": 12,
    "start_time": "2022-12-06T18:23:25.906Z"
   },
   {
    "duration": 32,
    "start_time": "2022-12-06T18:23:25.920Z"
   },
   {
    "duration": 14,
    "start_time": "2022-12-06T18:23:25.953Z"
   },
   {
    "duration": 35,
    "start_time": "2022-12-06T18:23:25.969Z"
   },
   {
    "duration": 8,
    "start_time": "2022-12-06T18:23:26.005Z"
   },
   {
    "duration": 9,
    "start_time": "2022-12-06T18:23:26.015Z"
   },
   {
    "duration": 12,
    "start_time": "2022-12-06T18:23:26.037Z"
   },
   {
    "duration": 148,
    "start_time": "2022-12-06T18:23:26.051Z"
   },
   {
    "duration": 10998,
    "start_time": "2022-12-06T18:23:26.200Z"
   },
   {
    "duration": 97,
    "start_time": "2022-12-06T18:23:37.200Z"
   },
   {
    "duration": 96,
    "start_time": "2022-12-06T18:23:37.303Z"
   },
   {
    "duration": 5,
    "start_time": "2022-12-06T18:23:37.401Z"
   },
   {
    "duration": 144,
    "start_time": "2022-12-06T18:23:37.407Z"
   },
   {
    "duration": 29540,
    "start_time": "2022-12-06T18:23:37.552Z"
   },
   {
    "duration": 77,
    "start_time": "2022-12-06T18:24:07.097Z"
   },
   {
    "duration": 143,
    "start_time": "2022-12-06T18:24:07.176Z"
   },
   {
    "duration": 23700,
    "start_time": "2022-12-06T18:24:07.321Z"
   },
   {
    "duration": 5,
    "start_time": "2022-12-06T18:24:31.023Z"
   },
   {
    "duration": 159,
    "start_time": "2022-12-06T18:24:31.029Z"
   },
   {
    "duration": 5,
    "start_time": "2022-12-06T18:24:31.196Z"
   },
   {
    "duration": 156,
    "start_time": "2022-12-06T18:24:31.202Z"
   },
   {
    "duration": 9,
    "start_time": "2022-12-06T18:24:31.360Z"
   },
   {
    "duration": 25,
    "start_time": "2022-12-06T18:24:31.371Z"
   },
   {
    "duration": 272,
    "start_time": "2022-12-06T18:24:31.398Z"
   },
   {
    "duration": 36,
    "start_time": "2022-12-06T18:24:31.672Z"
   },
   {
    "duration": 278,
    "start_time": "2022-12-06T18:25:41.859Z"
   },
   {
    "duration": 54,
    "start_time": "2022-12-06T18:27:01.133Z"
   },
   {
    "duration": 295,
    "start_time": "2022-12-06T18:27:04.553Z"
   },
   {
    "duration": 1569,
    "start_time": "2022-12-07T16:11:02.947Z"
   },
   {
    "duration": 3023,
    "start_time": "2022-12-07T16:11:04.519Z"
   },
   {
    "duration": 19,
    "start_time": "2022-12-07T16:11:07.544Z"
   },
   {
    "duration": 341,
    "start_time": "2022-12-07T16:11:07.564Z"
   },
   {
    "duration": 4,
    "start_time": "2022-12-07T16:11:07.907Z"
   },
   {
    "duration": 64,
    "start_time": "2022-12-07T16:11:07.914Z"
   },
   {
    "duration": 5,
    "start_time": "2022-12-07T16:11:07.980Z"
   },
   {
    "duration": 60,
    "start_time": "2022-12-07T16:11:07.987Z"
   },
   {
    "duration": 27,
    "start_time": "2022-12-07T16:11:08.049Z"
   },
   {
    "duration": 100,
    "start_time": "2022-12-07T16:11:08.077Z"
   },
   {
    "duration": 7,
    "start_time": "2022-12-07T16:11:08.179Z"
   },
   {
    "duration": 26,
    "start_time": "2022-12-07T16:11:08.216Z"
   },
   {
    "duration": 15,
    "start_time": "2022-12-07T16:11:08.244Z"
   },
   {
    "duration": 67,
    "start_time": "2022-12-07T16:11:08.264Z"
   },
   {
    "duration": 6,
    "start_time": "2022-12-07T16:11:08.333Z"
   },
   {
    "duration": 8,
    "start_time": "2022-12-07T16:11:08.341Z"
   },
   {
    "duration": 83,
    "start_time": "2022-12-07T16:11:08.350Z"
   },
   {
    "duration": 5,
    "start_time": "2022-12-07T16:11:08.435Z"
   },
   {
    "duration": 16,
    "start_time": "2022-12-07T16:11:08.441Z"
   },
   {
    "duration": 7,
    "start_time": "2022-12-07T16:11:08.458Z"
   },
   {
    "duration": 9,
    "start_time": "2022-12-07T16:11:08.467Z"
   },
   {
    "duration": 9,
    "start_time": "2022-12-07T16:11:08.516Z"
   },
   {
    "duration": 9,
    "start_time": "2022-12-07T16:11:08.527Z"
   },
   {
    "duration": 6,
    "start_time": "2022-12-07T16:11:08.537Z"
   },
   {
    "duration": 8,
    "start_time": "2022-12-07T16:11:08.544Z"
   },
   {
    "duration": 8,
    "start_time": "2022-12-07T16:11:08.554Z"
   },
   {
    "duration": 9,
    "start_time": "2022-12-07T16:11:08.564Z"
   },
   {
    "duration": 44,
    "start_time": "2022-12-07T16:11:08.575Z"
   },
   {
    "duration": 9,
    "start_time": "2022-12-07T16:11:08.621Z"
   },
   {
    "duration": 14,
    "start_time": "2022-12-07T16:11:08.632Z"
   },
   {
    "duration": 8,
    "start_time": "2022-12-07T16:11:08.647Z"
   },
   {
    "duration": 12,
    "start_time": "2022-12-07T16:11:08.657Z"
   },
   {
    "duration": 15,
    "start_time": "2022-12-07T16:11:08.670Z"
   },
   {
    "duration": 36,
    "start_time": "2022-12-07T16:11:08.686Z"
   },
   {
    "duration": 9,
    "start_time": "2022-12-07T16:11:08.723Z"
   },
   {
    "duration": 8,
    "start_time": "2022-12-07T16:11:08.734Z"
   },
   {
    "duration": 21,
    "start_time": "2022-12-07T16:11:08.744Z"
   },
   {
    "duration": 7,
    "start_time": "2022-12-07T16:11:08.767Z"
   },
   {
    "duration": 11,
    "start_time": "2022-12-07T16:11:08.776Z"
   },
   {
    "duration": 29,
    "start_time": "2022-12-07T16:11:08.789Z"
   },
   {
    "duration": 25,
    "start_time": "2022-12-07T16:11:08.823Z"
   },
   {
    "duration": 105,
    "start_time": "2022-12-07T16:11:08.850Z"
   },
   {
    "duration": 10,
    "start_time": "2022-12-07T16:11:08.957Z"
   },
   {
    "duration": 9,
    "start_time": "2022-12-07T16:11:08.969Z"
   },
   {
    "duration": 40,
    "start_time": "2022-12-07T16:11:08.979Z"
   },
   {
    "duration": 26,
    "start_time": "2022-12-07T16:11:09.020Z"
   },
   {
    "duration": 25,
    "start_time": "2022-12-07T16:11:09.047Z"
   },
   {
    "duration": 19,
    "start_time": "2022-12-07T16:11:09.074Z"
   },
   {
    "duration": 15,
    "start_time": "2022-12-07T16:11:09.095Z"
   },
   {
    "duration": 1212,
    "start_time": "2022-12-07T16:11:09.116Z"
   },
   {
    "duration": 5,
    "start_time": "2022-12-07T16:11:10.329Z"
   },
   {
    "duration": 537,
    "start_time": "2022-12-07T16:11:10.336Z"
   },
   {
    "duration": 19,
    "start_time": "2022-12-07T16:11:10.875Z"
   },
   {
    "duration": 4,
    "start_time": "2022-12-07T16:11:10.896Z"
   },
   {
    "duration": 123,
    "start_time": "2022-12-07T16:11:10.902Z"
   },
   {
    "duration": 6,
    "start_time": "2022-12-07T16:11:11.026Z"
   },
   {
    "duration": 19,
    "start_time": "2022-12-07T16:11:11.033Z"
   },
   {
    "duration": 146,
    "start_time": "2022-12-07T16:11:11.054Z"
   },
   {
    "duration": 21,
    "start_time": "2022-12-07T16:11:11.201Z"
   },
   {
    "duration": 144,
    "start_time": "2022-12-07T16:11:11.223Z"
   },
   {
    "duration": 9,
    "start_time": "2022-12-07T16:11:11.368Z"
   },
   {
    "duration": 155,
    "start_time": "2022-12-07T16:11:11.378Z"
   },
   {
    "duration": 10,
    "start_time": "2022-12-07T16:11:11.535Z"
   },
   {
    "duration": 244,
    "start_time": "2022-12-07T16:11:11.547Z"
   },
   {
    "duration": 10,
    "start_time": "2022-12-07T16:11:11.793Z"
   },
   {
    "duration": 130,
    "start_time": "2022-12-07T16:11:11.804Z"
   },
   {
    "duration": 18,
    "start_time": "2022-12-07T16:11:11.936Z"
   },
   {
    "duration": 13,
    "start_time": "2022-12-07T16:11:11.955Z"
   },
   {
    "duration": 185,
    "start_time": "2022-12-07T16:11:11.970Z"
   },
   {
    "duration": 8,
    "start_time": "2022-12-07T16:11:12.157Z"
   },
   {
    "duration": 18,
    "start_time": "2022-12-07T16:11:12.167Z"
   },
   {
    "duration": 160,
    "start_time": "2022-12-07T16:11:12.187Z"
   },
   {
    "duration": 8,
    "start_time": "2022-12-07T16:11:12.349Z"
   },
   {
    "duration": 11,
    "start_time": "2022-12-07T16:11:12.359Z"
   },
   {
    "duration": 173,
    "start_time": "2022-12-07T16:11:12.372Z"
   },
   {
    "duration": 7,
    "start_time": "2022-12-07T16:11:12.547Z"
   },
   {
    "duration": 13,
    "start_time": "2022-12-07T16:11:12.556Z"
   },
   {
    "duration": 6,
    "start_time": "2022-12-07T16:11:12.571Z"
   },
   {
    "duration": 15137,
    "start_time": "2022-12-07T16:11:12.579Z"
   },
   {
    "duration": 30,
    "start_time": "2022-12-07T16:11:27.717Z"
   },
   {
    "duration": 510,
    "start_time": "2022-12-07T16:11:27.748Z"
   },
   {
    "duration": 4,
    "start_time": "2022-12-07T16:11:28.260Z"
   },
   {
    "duration": 23,
    "start_time": "2022-12-07T16:11:28.266Z"
   },
   {
    "duration": 4,
    "start_time": "2022-12-07T16:11:28.291Z"
   },
   {
    "duration": 4,
    "start_time": "2022-12-07T16:11:28.316Z"
   },
   {
    "duration": 18,
    "start_time": "2022-12-07T16:11:28.322Z"
   },
   {
    "duration": 14,
    "start_time": "2022-12-07T16:11:28.341Z"
   },
   {
    "duration": 5,
    "start_time": "2022-12-07T16:11:28.356Z"
   },
   {
    "duration": 10,
    "start_time": "2022-12-07T16:11:28.362Z"
   },
   {
    "duration": 52,
    "start_time": "2022-12-07T16:11:28.374Z"
   },
   {
    "duration": 15,
    "start_time": "2022-12-07T16:11:28.428Z"
   },
   {
    "duration": 15,
    "start_time": "2022-12-07T16:11:28.445Z"
   },
   {
    "duration": 8,
    "start_time": "2022-12-07T16:11:28.462Z"
   },
   {
    "duration": 9,
    "start_time": "2022-12-07T16:11:28.471Z"
   },
   {
    "duration": 41,
    "start_time": "2022-12-07T16:11:28.482Z"
   },
   {
    "duration": 114,
    "start_time": "2022-12-07T16:11:28.525Z"
   },
   {
    "duration": 14089,
    "start_time": "2022-12-07T16:11:28.641Z"
   },
   {
    "duration": 11,
    "start_time": "2022-12-07T16:11:42.818Z"
   },
   {
    "duration": 107,
    "start_time": "2022-12-07T16:11:42.922Z"
   },
   {
    "duration": 5,
    "start_time": "2022-12-07T16:11:43.030Z"
   },
   {
    "duration": 145,
    "start_time": "2022-12-07T16:11:43.037Z"
   },
   {
    "duration": 30207,
    "start_time": "2022-12-07T16:11:43.184Z"
   },
   {
    "duration": 78,
    "start_time": "2022-12-07T16:12:13.394Z"
   },
   {
    "duration": 132,
    "start_time": "2022-12-07T16:12:13.474Z"
   },
   {
    "duration": 24137,
    "start_time": "2022-12-07T16:12:13.608Z"
   },
   {
    "duration": 4,
    "start_time": "2022-12-07T16:12:37.746Z"
   },
   {
    "duration": 129,
    "start_time": "2022-12-07T16:12:37.752Z"
   },
   {
    "duration": 4,
    "start_time": "2022-12-07T16:12:37.883Z"
   },
   {
    "duration": 136,
    "start_time": "2022-12-07T16:12:37.889Z"
   },
   {
    "duration": 8,
    "start_time": "2022-12-07T16:12:38.027Z"
   },
   {
    "duration": 17,
    "start_time": "2022-12-07T16:12:38.036Z"
   },
   {
    "duration": 275,
    "start_time": "2022-12-07T16:12:38.055Z"
   },
   {
    "duration": 8,
    "start_time": "2022-12-07T16:12:38.332Z"
   },
   {
    "duration": 8,
    "start_time": "2022-12-07T16:47:28.560Z"
   },
   {
    "duration": 262,
    "start_time": "2022-12-07T16:47:47.336Z"
   },
   {
    "duration": 839,
    "start_time": "2022-12-07T17:50:09.989Z"
   },
   {
    "duration": 4,
    "start_time": "2022-12-07T17:50:26.579Z"
   },
   {
    "duration": 112,
    "start_time": "2022-12-07T17:50:36.742Z"
   },
   {
    "duration": 331,
    "start_time": "2022-12-07T17:51:04.875Z"
   },
   {
    "duration": 5,
    "start_time": "2022-12-07T17:51:58.034Z"
   },
   {
    "duration": 142,
    "start_time": "2022-12-07T17:52:00.604Z"
   },
   {
    "duration": 309,
    "start_time": "2022-12-07T17:52:02.267Z"
   },
   {
    "duration": 893,
    "start_time": "2022-12-07T17:53:08.208Z"
   },
   {
    "duration": 529,
    "start_time": "2022-12-07T17:53:11.221Z"
   },
   {
    "duration": 294,
    "start_time": "2022-12-07T18:52:21.338Z"
   },
   {
    "duration": 52,
    "start_time": "2022-12-08T08:26:41.014Z"
   }
  ],
  "kernelspec": {
   "display_name": "Python 3 (ipykernel)",
   "language": "python",
   "name": "python3"
  },
  "language_info": {
   "codemirror_mode": {
    "name": "ipython",
    "version": 3
   },
   "file_extension": ".py",
   "mimetype": "text/x-python",
   "name": "python",
   "nbconvert_exporter": "python",
   "pygments_lexer": "ipython3",
   "version": "3.9.7"
  },
  "toc": {
   "base_numbering": 1,
   "nav_menu": {},
   "number_sections": true,
   "sideBar": true,
   "skip_h1_title": true,
   "title_cell": "Table of Contents",
   "title_sidebar": "Contents",
   "toc_cell": false,
   "toc_position": {},
   "toc_section_display": true,
   "toc_window_display": false
  }
 },
 "nbformat": 4,
 "nbformat_minor": 5
}
