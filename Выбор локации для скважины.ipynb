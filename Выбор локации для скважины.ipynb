{
 "cells": [
  {
   "cell_type": "markdown",
   "metadata": {},
   "source": [
    "# Выбор локации для скважины"
   ]
  },
  {
   "cell_type": "markdown",
   "metadata": {},
   "source": [
    "Допустим, вы работаете в добывающей компании «ГлавРосГосНефть». Нужно решить, где бурить новую скважину.\n",
    "\n",
    "Вам предоставлены пробы нефти в трёх регионах: в каждом 10 000 месторождений, где измерили качество нефти и объём её запасов. Постройте модель машинного обучения, которая поможет определить регион, где добыча принесёт наибольшую прибыль. Проанализируйте возможную прибыль и риски техникой *Bootstrap.*\n",
    "\n",
    "Шаги для выбора локации:\n",
    "\n",
    "- В избранном регионе ищут месторождения, для каждого определяют значения признаков;\n",
    "- Строят модель и оценивают объём запасов;\n",
    "- Выбирают месторождения с самым высокими оценками значений. Количество месторождений зависит от бюджета компании и стоимости разработки одной скважины;\n",
    "- Прибыль равна суммарной прибыли отобранных месторождений."
   ]
  },
  {
   "cell_type": "markdown",
   "metadata": {},
   "source": [
    "## Загрузка и подготовка данных"
   ]
  },
  {
   "cell_type": "code",
   "execution_count": 1,
   "metadata": {},
   "outputs": [],
   "source": [
    "# импортируем необходимые библиотеки \n",
    "import pandas as pd\n",
    "import numpy as np\n",
    "import scipy.stats as st\n",
    "\n",
    "from sklearn.linear_model import LinearRegression\n",
    "\n",
    "from sklearn.metrics import mean_squared_error\n",
    "from sklearn.model_selection import train_test_split\n",
    "from sklearn.preprocessing import MinMaxScaler\n",
    "\n",
    "import matplotlib.pyplot as plt\n"
   ]
  },
  {
   "cell_type": "code",
   "execution_count": 2,
   "metadata": {},
   "outputs": [
    {
     "data": {
      "text/html": [
       "<div>\n",
       "<style scoped>\n",
       "    .dataframe tbody tr th:only-of-type {\n",
       "        vertical-align: middle;\n",
       "    }\n",
       "\n",
       "    .dataframe tbody tr th {\n",
       "        vertical-align: top;\n",
       "    }\n",
       "\n",
       "    .dataframe thead th {\n",
       "        text-align: right;\n",
       "    }\n",
       "</style>\n",
       "<table border=\"1\" class=\"dataframe\">\n",
       "  <thead>\n",
       "    <tr style=\"text-align: right;\">\n",
       "      <th></th>\n",
       "      <th>id</th>\n",
       "      <th>f0</th>\n",
       "      <th>f1</th>\n",
       "      <th>f2</th>\n",
       "      <th>product</th>\n",
       "    </tr>\n",
       "  </thead>\n",
       "  <tbody>\n",
       "    <tr>\n",
       "      <th>0</th>\n",
       "      <td>txEyH</td>\n",
       "      <td>0.705745</td>\n",
       "      <td>-0.497823</td>\n",
       "      <td>1.221170</td>\n",
       "      <td>105.280062</td>\n",
       "    </tr>\n",
       "    <tr>\n",
       "      <th>1</th>\n",
       "      <td>2acmU</td>\n",
       "      <td>1.334711</td>\n",
       "      <td>-0.340164</td>\n",
       "      <td>4.365080</td>\n",
       "      <td>73.037750</td>\n",
       "    </tr>\n",
       "    <tr>\n",
       "      <th>2</th>\n",
       "      <td>409Wp</td>\n",
       "      <td>1.022732</td>\n",
       "      <td>0.151990</td>\n",
       "      <td>1.419926</td>\n",
       "      <td>85.265647</td>\n",
       "    </tr>\n",
       "    <tr>\n",
       "      <th>3</th>\n",
       "      <td>iJLyR</td>\n",
       "      <td>-0.032172</td>\n",
       "      <td>0.139033</td>\n",
       "      <td>2.978566</td>\n",
       "      <td>168.620776</td>\n",
       "    </tr>\n",
       "    <tr>\n",
       "      <th>4</th>\n",
       "      <td>Xdl7t</td>\n",
       "      <td>1.988431</td>\n",
       "      <td>0.155413</td>\n",
       "      <td>4.751769</td>\n",
       "      <td>154.036647</td>\n",
       "    </tr>\n",
       "  </tbody>\n",
       "</table>\n",
       "</div>"
      ],
      "text/plain": [
       "      id        f0        f1        f2     product\n",
       "0  txEyH  0.705745 -0.497823  1.221170  105.280062\n",
       "1  2acmU  1.334711 -0.340164  4.365080   73.037750\n",
       "2  409Wp  1.022732  0.151990  1.419926   85.265647\n",
       "3  iJLyR -0.032172  0.139033  2.978566  168.620776\n",
       "4  Xdl7t  1.988431  0.155413  4.751769  154.036647"
      ]
     },
     "execution_count": 2,
     "metadata": {},
     "output_type": "execute_result"
    }
   ],
   "source": [
    "# выгружаем данные по трем регионам\n",
    "data_1= pd.read_csv('/datasets/geo_data_0.csv')\n",
    "data_2= pd.read_csv('/datasets/geo_data_1.csv')\n",
    "data_3= pd.read_csv('/datasets/geo_data_2.csv')\n",
    "\n",
    "data_1.head()"
   ]
  },
  {
   "cell_type": "code",
   "execution_count": 3,
   "metadata": {},
   "outputs": [
    {
     "name": "stdout",
     "output_type": "stream",
     "text": [
      "Общая информация: (100000, 5)\n",
      "<class 'pandas.core.frame.DataFrame'>\n",
      "RangeIndex: 100000 entries, 0 to 99999\n",
      "Data columns (total 5 columns):\n",
      " #   Column   Non-Null Count   Dtype  \n",
      "---  ------   --------------   -----  \n",
      " 0   id       100000 non-null  object \n",
      " 1   f0       100000 non-null  float64\n",
      " 2   f1       100000 non-null  float64\n",
      " 3   f2       100000 non-null  float64\n",
      " 4   product  100000 non-null  float64\n",
      "dtypes: float64(4), object(1)\n",
      "memory usage: 3.8+ MB\n",
      "None\n",
      "==============================\n",
      "Название столбцов: ['id', 'f0', 'f1', 'f2', 'product']\n",
      "==============================\n",
      "Информация о пропусках:\n"
     ]
    },
    {
     "data": {
      "text/plain": [
       "id         0\n",
       "f0         0\n",
       "f1         0\n",
       "f2         0\n",
       "product    0\n",
       "dtype: int64"
      ]
     },
     "metadata": {},
     "output_type": "display_data"
    },
    {
     "name": "stdout",
     "output_type": "stream",
     "text": [
      "==============================\n",
      "Полных дубликатов: 0\n",
      "==============================\n",
      "Распределение данных по признакам\n"
     ]
    },
    {
     "data": {
      "image/png": "[encoded data removed]",
      "text/plain": [
       "<Figure size 432x288 with 4 Axes>"
      ]
     },
     "metadata": {
      "needs_background": "light"
     },
     "output_type": "display_data"
    }
   ],
   "source": [
    "#Общая информация по данным региона 1\n",
    "\n",
    "print(f'Общая информация: {data_1.shape}') \n",
    "\n",
    "print(data_1.info())\n",
    "\n",
    "print(30*'=')\n",
    "\n",
    "print(f'Название столбцов: {list(data_1.columns)}')\n",
    "\n",
    "print(30*'=')\n",
    "\n",
    "#Пропуски\n",
    "\n",
    "print('Информация о пропусках:')\n",
    "\n",
    "display(data_1.isnull().sum())\n",
    "\n",
    "print(30*'=')\n",
    "\n",
    "#Полные дубликаты \n",
    "\n",
    "print(f'Полных дубликатов: {data_1.duplicated().sum()}')\n",
    "                            \n",
    "print(30*'=')\n",
    "\n",
    "print('Распределение данных по признакам')\n",
    "\n",
    "data_1[[\"f0\",\"f1\",\"f2\"]].hist()\n",
    "plt.show()\n"
   ]
  },
  {
   "cell_type": "code",
   "execution_count": 4,
   "metadata": {},
   "outputs": [
    {
     "name": "stdout",
     "output_type": "stream",
     "text": [
      "Общая информация: (100000, 5)\n",
      "<class 'pandas.core.frame.DataFrame'>\n",
      "RangeIndex: 100000 entries, 0 to 99999\n",
      "Data columns (total 5 columns):\n",
      " #   Column   Non-Null Count   Dtype  \n",
      "---  ------   --------------   -----  \n",
      " 0   id       100000 non-null  object \n",
      " 1   f0       100000 non-null  float64\n",
      " 2   f1       100000 non-null  float64\n",
      " 3   f2       100000 non-null  float64\n",
      " 4   product  100000 non-null  float64\n",
      "dtypes: float64(4), object(1)\n",
      "memory usage: 3.8+ MB\n",
      "None\n",
      "==============================\n",
      "Название столбцов датафрейма:\n",
      "Название столбцов: ['id', 'f0', 'f1', 'f2', 'product']\n",
      "==============================\n",
      "Информация о пропусках:\n"
     ]
    },
    {
     "data": {
      "text/plain": [
       "id         0\n",
       "f0         0\n",
       "f1         0\n",
       "f2         0\n",
       "product    0\n",
       "dtype: int64"
      ]
     },
     "metadata": {},
     "output_type": "display_data"
    },
    {
     "name": "stdout",
     "output_type": "stream",
     "text": [
      "==============================\n",
      "Полных дубликатов: 0\n",
      "==============================\n",
      "Распределение данных по признакам\n"
     ]
    },
    {
     "data": {
      "image/png": "[encoded data removed]",
      "text/plain": [
       "<Figure size 432x288 with 4 Axes>"
      ]
     },
     "metadata": {
      "needs_background": "light"
     },
     "output_type": "display_data"
    }
   ],
   "source": [
    "#Общая информация по данным региона 2\n",
    "\n",
    "print(f'Общая информация: {data_2.shape}') \n",
    "\n",
    "print(data_2.info())\n",
    "\n",
    "print(30*'=')\n",
    "\n",
    "print('Название столбцов датафрейма:')\n",
    "\n",
    "print(f'Название столбцов: {list(data_2.columns)}')\n",
    "\n",
    "print(30*'=')\n",
    "\n",
    "#Пропуски\n",
    "\n",
    "print('Информация о пропусках:')\n",
    "\n",
    "display(data_2.isnull().sum())\n",
    "\n",
    "print(30*'=')\n",
    "\n",
    "#Полные дубликаты \n",
    "\n",
    "print(f'Полных дубликатов: {data_2.duplicated().sum()}')\n",
    "                            \n",
    "print(30*'=')\n",
    "\n",
    "print('Распределение данных по признакам')\n",
    "\n",
    "data_2[[\"f0\",\"f1\",\"f2\"]].hist()\n",
    "plt.show()"
   ]
  },
  {
   "cell_type": "code",
   "execution_count": 5,
   "metadata": {},
   "outputs": [
    {
     "name": "stdout",
     "output_type": "stream",
     "text": [
      "Общая информация: (100000, 5)\n",
      "<class 'pandas.core.frame.DataFrame'>\n",
      "RangeIndex: 100000 entries, 0 to 99999\n",
      "Data columns (total 5 columns):\n",
      " #   Column   Non-Null Count   Dtype  \n",
      "---  ------   --------------   -----  \n",
      " 0   id       100000 non-null  object \n",
      " 1   f0       100000 non-null  float64\n",
      " 2   f1       100000 non-null  float64\n",
      " 3   f2       100000 non-null  float64\n",
      " 4   product  100000 non-null  float64\n",
      "dtypes: float64(4), object(1)\n",
      "memory usage: 3.8+ MB\n",
      "None\n",
      "==============================\n",
      "Название столбцов датафрейма:\n",
      "Название столбцов: ['id', 'f0', 'f1', 'f2', 'product']\n",
      "==============================\n",
      "Информация о пропусках:\n"
     ]
    },
    {
     "data": {
      "text/plain": [
       "id         0\n",
       "f0         0\n",
       "f1         0\n",
       "f2         0\n",
       "product    0\n",
       "dtype: int64"
      ]
     },
     "metadata": {},
     "output_type": "display_data"
    },
    {
     "name": "stdout",
     "output_type": "stream",
     "text": [
      "==============================\n",
      "Полных дубликатов: 0\n",
      "==============================\n",
      "Распределение данных по признакам\n"
     ]
    },
    {
     "data": {
      "image/png": "[encoded data removed]",
      "text/plain": [
       "<Figure size 432x288 with 4 Axes>"
      ]
     },
     "metadata": {
      "needs_background": "light"
     },
     "output_type": "display_data"
    }
   ],
   "source": [
    "#Общая информация по данным региона 3\n",
    "\n",
    "print(f'Общая информация: {data_3.shape}') \n",
    "print(data_1.info())\n",
    "\n",
    "print(30*'=')\n",
    "\n",
    "print('Название столбцов датафрейма:')\n",
    "\n",
    "print(f'Название столбцов: {list(data_3.columns)}')\n",
    "\n",
    "print(30*'=')\n",
    "\n",
    "#Пропуски\n",
    "\n",
    "print('Информация о пропусках:')\n",
    "\n",
    "display(data_3.isnull().sum())\n",
    "\n",
    "print(30*'=')\n",
    "\n",
    "#Полные дубликаты \n",
    "\n",
    "print(f'Полных дубликатов: {data_3.duplicated().sum()}')\n",
    "                            \n",
    "print(30*'=')\n",
    "\n",
    "print('Распределение данных по признакам')\n",
    "\n",
    "data_3[[\"f0\",\"f1\",\"f2\"]].hist()\n",
    "plt.show()"
   ]
  },
  {
   "cell_type": "markdown",
   "metadata": {},
   "source": [
    "Данные корректны, можно продолжать исследлвание  "
   ]
  },
  {
   "cell_type": "markdown",
   "metadata": {},
   "source": [
    "## Обучаем и проверяем модели для каждого региона "
   ]
  },
  {
   "cell_type": "code",
   "execution_count": 6,
   "metadata": {},
   "outputs": [
    {
     "name": "stdout",
     "output_type": "stream",
     "text": [
      "RMSE_1:  37.74258669996437\n",
      "Average product_1:  92.49262459838843\n"
     ]
    }
   ],
   "source": [
    "# удаляем лишние столбцы, разбиваем данные первого региона на обучающую и валидационную выборки \n",
    "features = data_1.drop([\"product\",\"id\"], axis=1)\n",
    "target = data_1[\"product\"]\n",
    "features_train, features_valid, target_train, target_valid_1 = train_test_split(features, target, test_size=0.25, random_state=1)\n",
    "\n",
    "# масштабируем данные\n",
    "scaler = MinMaxScaler()\n",
    "features_train = scaler.fit_transform(features_train)\n",
    "features_valid = scaler.transform(features_valid)\n",
    "    \n",
    "# обучаем модель и находим точность предсказаний на валидационной выборке \n",
    "model = LinearRegression(normalize=False)\n",
    "model.fit(features_train, target_train)\n",
    "predictions_1 = model.predict(features_valid)\n",
    "predictions_1 = pd.Series(predictions_1)\n",
    "\n",
    "#  находим среднеквадратичную ошибку и средний объем добычи \n",
    "rmse_1 = (mean_squared_error(predictions_1, target_valid_1))**(0.5)\n",
    "average_product_1 = sum(predictions_1) / len(predictions_1)\n",
    "    \n",
    "print(\"RMSE_1: \", rmse_1)\n",
    "print(\"Average product_1: \", average_product_1)"
   ]
  },
  {
   "cell_type": "code",
   "execution_count": 8,
   "metadata": {},
   "outputs": [
    {
     "name": "stdout",
     "output_type": "stream",
     "text": [
      "RMSE_2:  0.8943375629130574\n",
      "Average product_2:  69.1204052428558\n"
     ]
    }
   ],
   "source": [
    "# удаляем лишние столбцы, разбиваем данные второго региона на обучающую и валидационную выборки \n",
    "features = data_2.drop([\"product\",\"id\"], axis=1)\n",
    "target = data_2[\"product\"]\n",
    "features_train, features_valid, target_train, target_valid_2 = train_test_split(features, target, test_size=0.25, random_state=1)\n",
    "\n",
    "# масштабируем данные \n",
    "scaler = MinMaxScaler()\n",
    "features_train = scaler.fit_transform(features_train)\n",
    "features_valid = scaler.transform(features_valid)\n",
    "    \n",
    "# обучаем модель находим точность предсказаний на валидационной выборке\n",
    "model = LinearRegression(normalize=False)\n",
    "model.fit(features_train, target_train)\n",
    "predictions_2 = model.predict(features_valid)\n",
    "predictions_2 = pd.Series(predictions_2)\n",
    "\n",
    "#  находим среднеквадратичную ошибку и средний объем добычи \n",
    "rmse_2 = (mean_squared_error(predictions_2, target_valid_2))**(0.5)\n",
    "average_product_2 = sum(predictions_2) / len(predictions_2)\n",
    "    \n",
    "print(\"RMSE_2: \", rmse_2)\n",
    "print(\"Average product_2: \", average_product_2)\n"
   ]
  },
  {
   "cell_type": "code",
   "execution_count": 9,
   "metadata": {},
   "outputs": [
    {
     "name": "stdout",
     "output_type": "stream",
     "text": [
      "RMSE_3:  39.86671127773423\n",
      "Average product_3:  94.95683048585317\n"
     ]
    }
   ],
   "source": [
    "# удаляем лишние столбцы, разбиваем данные второго региона на обучающую и валидационную выборки \n",
    "features = data_3.drop([\"product\",\"id\"], axis=1)\n",
    "target = data_3[\"product\"]\n",
    "features_train, features_valid, target_train, target_valid_3 = train_test_split(features, target, test_size=0.25, random_state=1)\n",
    "\n",
    "# масштабируем данные \n",
    "scaler = MinMaxScaler()\n",
    "features_train = scaler.fit_transform(features_train)\n",
    "features_valid = scaler.transform(features_valid)\n",
    "    \n",
    "# обучаем модель находим точность предсказаний на валидационной выборке\n",
    "model = LinearRegression(normalize=False)\n",
    "model.fit(features_train, target_train)\n",
    "predictions_3 = model.predict(features_valid)\n",
    "predictions_3 = pd.Series(predictions_3)\n",
    "\n",
    "#  находим среднеквадратичную ошибку и средний объем добычи \n",
    "rmse_3 = (mean_squared_error(predictions_3, target_valid_3))**(0.5)\n",
    "average_product_3 = sum(predictions_3) / len(predictions_3)\n",
    "    \n",
    "print(\"RMSE_3: \", rmse_3)\n",
    "print(\"Average product_3: \", average_product_3)"
   ]
  },
  {
   "cell_type": "markdown",
   "metadata": {},
   "source": [
    "- Посмотрим на степень влияния факторов (корреляцию) f1,f2,f3 на общую производительность по добыче региона в разрезе моделей"
   ]
  },
  {
   "cell_type": "code",
   "execution_count": 10,
   "metadata": {},
   "outputs": [
    {
     "name": "stdout",
     "output_type": "stream",
     "text": [
      "               f0        f1        f2   product\n",
      "f0       1.000000 -0.440723 -0.003153  0.143536\n",
      "f1      -0.440723  1.000000  0.001724 -0.192356\n",
      "f2      -0.003153  0.001724  1.000000  0.483663\n",
      "product  0.143536 -0.192356  0.483663  1.000000\n"
     ]
    }
   ],
   "source": [
    "data_multi_cor = data_1\n",
    "print(data_multi_cor.corr())\n",
    "#pd.plotting.scatter_matrix(data_multi_cor, figsize=(9,9))\n",
    "#plt.show()"
   ]
  },
  {
   "cell_type": "code",
   "execution_count": 11,
   "metadata": {},
   "outputs": [
    {
     "name": "stdout",
     "output_type": "stream",
     "text": [
      "               f0        f1        f2   product\n",
      "f0       1.000000  0.182287 -0.001777 -0.030491\n",
      "f1       0.182287  1.000000 -0.002595 -0.010155\n",
      "f2      -0.001777 -0.002595  1.000000  0.999397\n",
      "product -0.030491 -0.010155  0.999397  1.000000\n"
     ]
    }
   ],
   "source": [
    "data_multi_cor = data_2\n",
    "print(data_multi_cor.corr())"
   ]
  },
  {
   "cell_type": "code",
   "execution_count": 12,
   "metadata": {},
   "outputs": [
    {
     "name": "stdout",
     "output_type": "stream",
     "text": [
      "               f0        f1        f2   product\n",
      "f0       1.000000  0.000528 -0.000448 -0.001987\n",
      "f1       0.000528  1.000000  0.000779 -0.001012\n",
      "f2      -0.000448  0.000779  1.000000  0.445871\n",
      "product -0.001987 -0.001012  0.445871  1.000000\n"
     ]
    }
   ],
   "source": [
    "data_multi_cor = data_3\n",
    "print(data_multi_cor.corr())"
   ]
  },
  {
   "cell_type": "markdown",
   "metadata": {},
   "source": [
    "Исследование показало, что добыча выше у первого и третьего региона, при схожем высоком уровне значения среднеквадратичной ошибки. Производительность второго региона ниже, но ошибка модели выглядит незначительной, что указывает на возможно более точные предсказания модели и следовательно привлекательность региона. Также во второй модели прослеживается высокая степень зависимости влияния фактора f2 на целевой признак (product), как следствие низкая среднеквадратичная ошибка и высокая оценка работы модели в целом."
   ]
  },
  {
   "cell_type": "markdown",
   "metadata": {},
   "source": [
    "## Подготовка к расчету прибыли "
   ]
  },
  {
   "cell_type": "code",
   "execution_count": 13,
   "metadata": {},
   "outputs": [
    {
     "name": "stdout",
     "output_type": "stream",
     "text": [
      "Точка безубыточности для добычи, тыс. баррелей:  22222.0\n",
      "Средний объем нефти в одной скважине для безубыточного функционирования, тыс. баррелей: 111.11\n"
     ]
    }
   ],
   "source": [
    "# расчет точки безубыточности и необходимого среднего обьема нефти в одной скважине \n",
    "BUDJET = 10**10\n",
    "INCOME = 450000\n",
    "\n",
    "#budjet - income*x = 0 \n",
    "x= (BUDJET/INCOME)\n",
    "y= round(x,0)\n",
    "\n",
    "print(\"Точка безубыточности для добычи, тыс. баррелей: \", y)\n",
    "print(\"Средний объем нефти в одной скважине для безубыточного функционирования, тыс. баррелей:\", (y/200))"
   ]
  },
  {
   "cell_type": "markdown",
   "metadata": {},
   "source": [
    "Вывод: средний объем запасов в скважинах по всем регионам ниже, чем объем необходимый для выхода в область безубыточной разработки  "
   ]
  },
  {
   "cell_type": "markdown",
   "metadata": {},
   "source": [
    "## Расчет прибыли и рисков"
   ]
  },
  {
   "cell_type": "code",
   "execution_count": 14,
   "metadata": {},
   "outputs": [],
   "source": [
    "# функция возвращает прогноз рентабельности 200 лучших скважин месторождения \n",
    "def profit(predictions, target):\n",
    "    predictions_sorted = predictions.sort_values(ascending=False)\n",
    "    selected = target[predictions_sorted.index][:200]\n",
    "    return (INCOME * selected.sum()) - BUDJET\n",
    "\n",
    "# функция считает выручку 500 скважин из 1000 по месторождениям \n",
    "def bootstrap(predictions, target):\n",
    "    state = np.random.RandomState(12345)   \n",
    "    values = []\n",
    "    target_test = target.reset_index(drop=True)\n",
    "    predict = pd.Series(predictions)\n",
    "    for i in range(1000):\n",
    "        target_subsample = target_test.sample(500, replace=True, random_state=state) \n",
    "        predictions_subsample = predict.loc[target_subsample.index.to_list()]\n",
    "        values.append (profit(predictions_subsample, target_subsample))\n",
    "\n",
    "    values = pd.Series(values)\n",
    "    lower = values.quantile(0.025)\n",
    "    higher = values.quantile(0.975)\n",
    "\n",
    "    mean = values.mean()\n",
    "    \n",
    "    print(\"Средняя выручка:\", mean)\n",
    "    print(\"2.5%-квантиль:\", lower)\n",
    "    print(\"97.5%-квантиль:\", higher)\n",
    "\n",
    "    values_loss = [res for res in values if res < 0]\n",
    "    risk = len(values_loss)/len(values)\n",
    "    percentage_risk = \"{:.0%}\".format(risk)\n",
    "    print(\"Риск убытков:\", percentage_risk)"
   ]
  },
  {
   "cell_type": "code",
   "execution_count": 15,
   "metadata": {},
   "outputs": [
    {
     "name": "stdout",
     "output_type": "stream",
     "text": [
      "Средняя выручка: 458100401.7997511\n",
      "2.5%-квантиль: -91938453.32589239\n",
      "97.5%-квантиль: 1015824888.6825125\n",
      "Риск убытков: 5%\n"
     ]
    }
   ],
   "source": [
    "# результаты по первому месторождению \n",
    "bootstrap(predictions_1, target_valid_1)"
   ]
  },
  {
   "cell_type": "code",
   "execution_count": 16,
   "metadata": {},
   "outputs": [
    {
     "name": "stdout",
     "output_type": "stream",
     "text": [
      "Средняя выручка: 533609292.92167586\n",
      "2.5%-квантиль: 98001407.23450962\n",
      "97.5%-квантиль: 966461912.599809\n",
      "Риск убытков: 0%\n"
     ]
    }
   ],
   "source": [
    "# результаты по второму месторождению\n",
    "bootstrap(predictions_2, target_valid_2)"
   ]
  },
  {
   "cell_type": "code",
   "execution_count": 17,
   "metadata": {},
   "outputs": [
    {
     "name": "stdout",
     "output_type": "stream",
     "text": [
      "Средняя выручка: 426348386.1666254\n",
      "2.5%-квантиль: -116622627.7963096\n",
      "97.5%-квантиль: 980501749.734359\n",
      "Риск убытков: 6%\n"
     ]
    }
   ],
   "source": [
    "# результаты по третьему месторождению\n",
    "bootstrap(predictions_3, target_valid_3)"
   ]
  },
  {
   "cell_type": "markdown",
   "metadata": {},
   "source": [
    "Вывод: Мы изучили данные по трем месторождениям, проверили наличие дубликатов, пропусков - оценили распределение. Далее были построены модели линейной регрессии, для каждого месторожденя был посчитан средний объем добычи, а также показатель среднеквадратичной ошибки RMSE . С помощью техники Bootstrap был рассчитан 95% доверительный интервал для среднего обьема нефти, а также был оценен риск получения убытков при разработке каждого из месторождений. По итогам исследования второе месторождения выглядит ниаболее преспективным - поскольку средняя прибыль выше чем у остальных, а риск получения убытков в процентном отношении ниже.   "
   ]
  },
  {
   "cell_type": "markdown",
   "metadata": {},
   "source": [
    "## Чек-лист готовности проекта"
   ]
  },
  {
   "cell_type": "markdown",
   "metadata": {},
   "source": [
    "Поставьте 'x' в выполненных пунктах. Далее нажмите Shift+Enter."
   ]
  },
  {
   "cell_type": "markdown",
   "metadata": {},
   "source": [
    "- [x]  Jupyter Notebook открыт\n",
    "- [x ]  Весь код выполняется без ошибок\n",
    "- [x ]  Ячейки с кодом расположены в порядке исполнения\n",
    "- [x ]  Выполнен шаг 1: данные подготовлены\n",
    "- [x ]  Выполнен шаг 2: модели обучены и проверены\n",
    "    - [x ]  Данные корректно разбиты на обучающую и валидационную выборки\n",
    "    - [x ]  Модели обучены, предсказания сделаны\n",
    "    - [x ]  Предсказания и правильные ответы на валидационной выборке сохранены\n",
    "    - [x ]  На экране напечатаны результаты\n",
    "    - [x ]  Сделаны выводы\n",
    "- [x ]  Выполнен шаг 3: проведена подготовка к расчёту прибыли\n",
    "    - [x ]  Для всех ключевых значений созданы константы Python\n",
    "    - [x ]  Посчитано минимальное среднее количество продукта в месторождениях региона, достаточное для разработки\n",
    "    - [x ]  По предыдущему пункту сделаны выводы\n",
    "    - [x ]  Написана функция расчёта прибыли\n",
    "- [x ]  Выполнен шаг 4: посчитаны риски и прибыль\n",
    "    - [x ]  Проведена процедура *Bootstrap*\n",
    "    - [x ]  Все параметры бутстрепа соответствуют условию\n",
    "    - [x ]  Найдены все нужные величины\n",
    "    - [x ]  Предложен регион для разработки месторождения\n",
    "    - [x ]  Выбор региона обоснован"
   ]
  },
  {
   "cell_type": "code",
   "execution_count": null,
   "metadata": {},
   "outputs": [],
   "source": []
  }
 ],
 "metadata": {
  "ExecuteTimeLog": [
   {
    "duration": 1407,
    "start_time": "2022-07-30T04:34:30.768Z"
   },
   {
    "duration": 4,
    "start_time": "2022-07-30T04:35:20.527Z"
   },
   {
    "duration": 727,
    "start_time": "2022-07-30T04:38:41.194Z"
   },
   {
    "duration": 53,
    "start_time": "2022-07-30T04:52:11.929Z"
   },
   {
    "duration": 99,
    "start_time": "2022-07-30T04:53:19.265Z"
   },
   {
    "duration": 55,
    "start_time": "2022-07-30T04:54:28.325Z"
   },
   {
    "duration": 86,
    "start_time": "2022-07-30T04:56:42.087Z"
   },
   {
    "duration": 112,
    "start_time": "2022-07-30T04:57:00.551Z"
   },
   {
    "duration": 69,
    "start_time": "2022-07-30T04:57:10.110Z"
   },
   {
    "duration": 106,
    "start_time": "2022-07-30T04:57:38.235Z"
   },
   {
    "duration": 78,
    "start_time": "2022-07-30T04:57:46.899Z"
   },
   {
    "duration": 63,
    "start_time": "2022-07-30T05:01:27.707Z"
   },
   {
    "duration": 339,
    "start_time": "2022-07-30T05:01:32.900Z"
   },
   {
    "duration": 62,
    "start_time": "2022-07-30T05:09:48.787Z"
   },
   {
    "duration": 317,
    "start_time": "2022-07-30T05:09:56.736Z"
   },
   {
    "duration": 417,
    "start_time": "2022-07-30T05:10:35.346Z"
   },
   {
    "duration": 337,
    "start_time": "2022-07-30T05:11:22.094Z"
   },
   {
    "duration": 338,
    "start_time": "2022-07-30T05:11:55.335Z"
   },
   {
    "duration": 312,
    "start_time": "2022-07-30T05:12:41.564Z"
   },
   {
    "duration": 312,
    "start_time": "2022-07-30T05:13:27.889Z"
   },
   {
    "duration": 319,
    "start_time": "2022-07-30T05:13:45.831Z"
   },
   {
    "duration": 406,
    "start_time": "2022-07-30T05:14:03.327Z"
   },
   {
    "duration": 1528,
    "start_time": "2022-07-30T16:28:17.209Z"
   },
   {
    "duration": 1516,
    "start_time": "2022-07-30T16:28:18.739Z"
   },
   {
    "duration": 370,
    "start_time": "2022-07-30T16:28:20.257Z"
   },
   {
    "duration": 380,
    "start_time": "2022-07-30T16:28:20.629Z"
   },
   {
    "duration": 458,
    "start_time": "2022-07-30T16:28:21.011Z"
   },
   {
    "duration": 18,
    "start_time": "2022-07-30T16:28:21.471Z"
   },
   {
    "duration": 273,
    "start_time": "2022-07-30T16:32:32.419Z"
   },
   {
    "duration": 33,
    "start_time": "2022-07-30T16:32:43.296Z"
   },
   {
    "duration": 54,
    "start_time": "2022-08-01T07:40:55.837Z"
   },
   {
    "duration": 1424,
    "start_time": "2022-08-01T07:41:01.180Z"
   },
   {
    "duration": 780,
    "start_time": "2022-08-01T07:41:02.606Z"
   },
   {
    "duration": 308,
    "start_time": "2022-08-01T07:41:03.387Z"
   },
   {
    "duration": 316,
    "start_time": "2022-08-01T07:41:03.697Z"
   },
   {
    "duration": 405,
    "start_time": "2022-08-01T07:41:04.015Z"
   },
   {
    "duration": 122,
    "start_time": "2022-08-01T07:41:04.422Z"
   },
   {
    "duration": 71,
    "start_time": "2022-08-01T07:44:44.068Z"
   },
   {
    "duration": 78,
    "start_time": "2022-08-01T07:45:14.860Z"
   },
   {
    "duration": 65,
    "start_time": "2022-08-01T07:46:20.973Z"
   },
   {
    "duration": 33,
    "start_time": "2022-08-01T07:47:28.930Z"
   },
   {
    "duration": 36,
    "start_time": "2022-08-01T07:49:08.138Z"
   },
   {
    "duration": 175,
    "start_time": "2022-08-01T08:37:15.497Z"
   },
   {
    "duration": 54,
    "start_time": "2022-08-01T08:37:52.309Z"
   },
   {
    "duration": 101,
    "start_time": "2022-08-01T08:38:54.756Z"
   },
   {
    "duration": 35,
    "start_time": "2022-08-01T08:39:05.494Z"
   },
   {
    "duration": 311,
    "start_time": "2022-08-01T09:25:21.702Z"
   },
   {
    "duration": 310,
    "start_time": "2022-08-01T09:25:57.798Z"
   },
   {
    "duration": 332,
    "start_time": "2022-08-01T09:26:58.201Z"
   },
   {
    "duration": 329,
    "start_time": "2022-08-01T09:27:14.215Z"
   },
   {
    "duration": 128,
    "start_time": "2022-08-01T10:03:04.598Z"
   },
   {
    "duration": 3,
    "start_time": "2022-08-01T10:03:17.586Z"
   },
   {
    "duration": 100,
    "start_time": "2022-08-01T10:03:27.917Z"
   },
   {
    "duration": 9,
    "start_time": "2022-08-01T10:03:57.571Z"
   },
   {
    "duration": 4,
    "start_time": "2022-08-01T10:04:10.503Z"
   },
   {
    "duration": 9,
    "start_time": "2022-08-01T10:04:46.008Z"
   },
   {
    "duration": 4,
    "start_time": "2022-08-01T10:05:49.206Z"
   },
   {
    "duration": 4,
    "start_time": "2022-08-01T10:05:58.837Z"
   },
   {
    "duration": 3,
    "start_time": "2022-08-01T10:06:13.439Z"
   },
   {
    "duration": 4,
    "start_time": "2022-08-01T10:07:19.692Z"
   },
   {
    "duration": 12,
    "start_time": "2022-08-01T10:24:30.043Z"
   },
   {
    "duration": 4,
    "start_time": "2022-08-01T10:24:47.208Z"
   },
   {
    "duration": 4,
    "start_time": "2022-08-01T10:25:32.626Z"
   },
   {
    "duration": 4502,
    "start_time": "2022-08-01T10:34:56.025Z"
   },
   {
    "duration": 15,
    "start_time": "2022-08-01T10:35:35.187Z"
   },
   {
    "duration": 13,
    "start_time": "2022-08-01T10:35:48.127Z"
   },
   {
    "duration": 12,
    "start_time": "2022-08-01T10:36:02.895Z"
   },
   {
    "duration": 12,
    "start_time": "2022-08-01T10:38:36.060Z"
   },
   {
    "duration": 18,
    "start_time": "2022-08-02T07:42:41.830Z"
   },
   {
    "duration": 4,
    "start_time": "2022-08-02T07:52:00.841Z"
   },
   {
    "duration": 5,
    "start_time": "2022-08-02T13:01:14.954Z"
   },
   {
    "duration": 4,
    "start_time": "2022-08-02T13:30:21.829Z"
   },
   {
    "duration": 41,
    "start_time": "2022-08-02T13:39:07.133Z"
   },
   {
    "duration": 13,
    "start_time": "2022-08-02T13:42:43.920Z"
   },
   {
    "duration": 1564,
    "start_time": "2022-08-02T13:42:55.324Z"
   },
   {
    "duration": 819,
    "start_time": "2022-08-02T13:42:56.890Z"
   },
   {
    "duration": 379,
    "start_time": "2022-08-02T13:42:57.712Z"
   },
   {
    "duration": 363,
    "start_time": "2022-08-02T13:42:58.093Z"
   },
   {
    "duration": 431,
    "start_time": "2022-08-02T13:42:58.458Z"
   },
   {
    "duration": 398,
    "start_time": "2022-08-02T13:42:58.890Z"
   },
   {
    "duration": 0,
    "start_time": "2022-08-02T13:42:59.290Z"
   },
   {
    "duration": 0,
    "start_time": "2022-08-02T13:42:59.292Z"
   },
   {
    "duration": 0,
    "start_time": "2022-08-02T13:42:59.293Z"
   },
   {
    "duration": 1,
    "start_time": "2022-08-02T13:42:59.295Z"
   },
   {
    "duration": 0,
    "start_time": "2022-08-02T13:42:59.297Z"
   },
   {
    "duration": 0,
    "start_time": "2022-08-02T13:42:59.299Z"
   },
   {
    "duration": 0,
    "start_time": "2022-08-02T13:42:59.301Z"
   },
   {
    "duration": 60,
    "start_time": "2022-08-02T13:43:23.945Z"
   },
   {
    "duration": 235,
    "start_time": "2022-08-02T13:43:40.052Z"
   },
   {
    "duration": 109,
    "start_time": "2022-08-02T13:43:57.985Z"
   },
   {
    "duration": 94,
    "start_time": "2022-08-02T13:44:06.307Z"
   },
   {
    "duration": 191,
    "start_time": "2022-08-02T13:44:18.398Z"
   },
   {
    "duration": 136,
    "start_time": "2022-08-02T13:44:27.867Z"
   },
   {
    "duration": 1529,
    "start_time": "2022-08-02T13:44:36.951Z"
   },
   {
    "duration": 462,
    "start_time": "2022-08-02T13:44:38.482Z"
   },
   {
    "duration": 417,
    "start_time": "2022-08-02T13:44:38.946Z"
   },
   {
    "duration": 401,
    "start_time": "2022-08-02T13:44:39.365Z"
   },
   {
    "duration": 410,
    "start_time": "2022-08-02T13:44:39.768Z"
   },
   {
    "duration": 206,
    "start_time": "2022-08-02T13:44:40.180Z"
   },
   {
    "duration": 202,
    "start_time": "2022-08-02T13:44:40.388Z"
   },
   {
    "duration": 114,
    "start_time": "2022-08-02T13:44:40.593Z"
   },
   {
    "duration": 184,
    "start_time": "2022-08-02T13:44:40.710Z"
   },
   {
    "duration": 27,
    "start_time": "2022-08-02T13:44:40.896Z"
   },
   {
    "duration": 12,
    "start_time": "2022-08-02T13:44:40.925Z"
   },
   {
    "duration": 5,
    "start_time": "2022-08-02T13:44:40.938Z"
   },
   {
    "duration": 136,
    "start_time": "2022-08-02T13:44:40.946Z"
   },
   {
    "duration": 11,
    "start_time": "2022-08-02T13:45:59.023Z"
   },
   {
    "duration": 24,
    "start_time": "2022-08-02T13:46:15.123Z"
   },
   {
    "duration": 6,
    "start_time": "2022-08-02T13:50:32.624Z"
   },
   {
    "duration": 21,
    "start_time": "2022-08-02T13:50:38.549Z"
   },
   {
    "duration": 25,
    "start_time": "2022-08-02T13:51:45.827Z"
   },
   {
    "duration": 1315,
    "start_time": "2022-08-02T13:51:55.941Z"
   },
   {
    "duration": 394,
    "start_time": "2022-08-02T13:51:57.258Z"
   },
   {
    "duration": 371,
    "start_time": "2022-08-02T13:51:57.653Z"
   },
   {
    "duration": 362,
    "start_time": "2022-08-02T13:51:58.026Z"
   },
   {
    "duration": 340,
    "start_time": "2022-08-02T13:51:58.391Z"
   },
   {
    "duration": 158,
    "start_time": "2022-08-02T13:51:58.732Z"
   },
   {
    "duration": 120,
    "start_time": "2022-08-02T13:51:58.892Z"
   },
   {
    "duration": 116,
    "start_time": "2022-08-02T13:51:59.087Z"
   },
   {
    "duration": 182,
    "start_time": "2022-08-02T13:51:59.205Z"
   },
   {
    "duration": 15,
    "start_time": "2022-08-02T13:51:59.389Z"
   },
   {
    "duration": 10,
    "start_time": "2022-08-02T13:51:59.406Z"
   },
   {
    "duration": 4,
    "start_time": "2022-08-02T13:51:59.418Z"
   },
   {
    "duration": 143,
    "start_time": "2022-08-02T13:51:59.423Z"
   },
   {
    "duration": 25,
    "start_time": "2022-08-02T13:52:34.129Z"
   },
   {
    "duration": 23,
    "start_time": "2022-08-02T13:52:51.270Z"
   },
   {
    "duration": 24,
    "start_time": "2022-08-02T13:59:38.722Z"
   },
   {
    "duration": 21,
    "start_time": "2022-08-02T14:00:20.453Z"
   },
   {
    "duration": 5,
    "start_time": "2022-08-02T14:00:25.130Z"
   },
   {
    "duration": 6,
    "start_time": "2022-08-02T14:00:28.165Z"
   },
   {
    "duration": 13,
    "start_time": "2022-08-02T14:01:01.130Z"
   },
   {
    "duration": 5,
    "start_time": "2022-08-02T14:01:29.673Z"
   },
   {
    "duration": 5,
    "start_time": "2022-08-02T14:01:33.738Z"
   },
   {
    "duration": 5,
    "start_time": "2022-08-02T14:04:04.834Z"
   },
   {
    "duration": 5,
    "start_time": "2022-08-02T14:04:27.266Z"
   },
   {
    "duration": 12,
    "start_time": "2022-08-02T14:04:39.522Z"
   },
   {
    "duration": 53,
    "start_time": "2022-08-02T14:05:01.329Z"
   },
   {
    "duration": 61,
    "start_time": "2022-08-02T14:05:06.618Z"
   },
   {
    "duration": 73,
    "start_time": "2022-08-02T14:05:26.818Z"
   },
   {
    "duration": 48,
    "start_time": "2022-08-02T14:10:15.864Z"
   },
   {
    "duration": 179,
    "start_time": "2022-08-02T14:11:11.635Z"
   },
   {
    "duration": 27,
    "start_time": "2022-08-02T14:11:31.271Z"
   },
   {
    "duration": 20,
    "start_time": "2022-08-02T14:11:34.723Z"
   },
   {
    "duration": 22,
    "start_time": "2022-08-02T14:11:42.130Z"
   },
   {
    "duration": 5,
    "start_time": "2022-08-02T14:12:13.127Z"
   },
   {
    "duration": 4,
    "start_time": "2022-08-02T14:12:27.739Z"
   },
   {
    "duration": 3,
    "start_time": "2022-08-02T14:12:45.336Z"
   },
   {
    "duration": 3,
    "start_time": "2022-08-02T14:13:21.283Z"
   },
   {
    "duration": 11,
    "start_time": "2022-08-02T14:13:26.640Z"
   },
   {
    "duration": 23,
    "start_time": "2022-08-02T14:13:45.031Z"
   },
   {
    "duration": 22,
    "start_time": "2022-08-02T14:19:43.935Z"
   },
   {
    "duration": 3,
    "start_time": "2022-08-02T14:21:50.635Z"
   },
   {
    "duration": 10,
    "start_time": "2022-08-02T14:22:13.751Z"
   },
   {
    "duration": 6,
    "start_time": "2022-08-02T14:33:23.050Z"
   },
   {
    "duration": 14,
    "start_time": "2022-08-02T14:35:30.001Z"
   },
   {
    "duration": 4,
    "start_time": "2022-08-02T14:38:58.143Z"
   },
   {
    "duration": 1252,
    "start_time": "2022-08-02T15:06:53.424Z"
   },
   {
    "duration": 402,
    "start_time": "2022-08-02T15:06:54.678Z"
   },
   {
    "duration": 344,
    "start_time": "2022-08-02T15:06:55.082Z"
   },
   {
    "duration": 344,
    "start_time": "2022-08-02T15:06:55.428Z"
   },
   {
    "duration": 363,
    "start_time": "2022-08-02T15:06:55.774Z"
   },
   {
    "duration": 157,
    "start_time": "2022-08-02T15:06:56.139Z"
   },
   {
    "duration": 202,
    "start_time": "2022-08-02T15:06:56.298Z"
   },
   {
    "duration": 201,
    "start_time": "2022-08-02T15:06:56.503Z"
   },
   {
    "duration": 89,
    "start_time": "2022-08-02T15:06:56.706Z"
   },
   {
    "duration": 112,
    "start_time": "2022-08-02T15:06:56.797Z"
   },
   {
    "duration": 11,
    "start_time": "2022-08-02T15:06:56.911Z"
   },
   {
    "duration": 4,
    "start_time": "2022-08-02T15:06:56.924Z"
   },
   {
    "duration": 107,
    "start_time": "2022-08-02T15:06:56.929Z"
   },
   {
    "duration": 25,
    "start_time": "2022-08-02T15:07:07.616Z"
   },
   {
    "duration": 22,
    "start_time": "2022-08-02T15:08:42.864Z"
   },
   {
    "duration": 22,
    "start_time": "2022-08-02T15:09:49.723Z"
   },
   {
    "duration": 1316,
    "start_time": "2022-08-02T15:09:58.781Z"
   },
   {
    "duration": 390,
    "start_time": "2022-08-02T15:10:00.099Z"
   },
   {
    "duration": 342,
    "start_time": "2022-08-02T15:10:00.490Z"
   },
   {
    "duration": 367,
    "start_time": "2022-08-02T15:10:00.834Z"
   },
   {
    "duration": 334,
    "start_time": "2022-08-02T15:10:01.203Z"
   },
   {
    "duration": 159,
    "start_time": "2022-08-02T15:10:01.539Z"
   },
   {
    "duration": 204,
    "start_time": "2022-08-02T15:10:01.700Z"
   },
   {
    "duration": 207,
    "start_time": "2022-08-02T15:10:01.907Z"
   },
   {
    "duration": 203,
    "start_time": "2022-08-02T15:10:02.117Z"
   },
   {
    "duration": 27,
    "start_time": "2022-08-02T15:10:02.322Z"
   },
   {
    "duration": 18,
    "start_time": "2022-08-02T15:10:02.351Z"
   },
   {
    "duration": 8,
    "start_time": "2022-08-02T15:10:02.371Z"
   },
   {
    "duration": 127,
    "start_time": "2022-08-02T15:10:02.381Z"
   },
   {
    "duration": 4,
    "start_time": "2022-08-02T15:13:13.673Z"
   },
   {
    "duration": 3,
    "start_time": "2022-08-02T15:13:16.067Z"
   },
   {
    "duration": 4,
    "start_time": "2022-08-02T15:13:52.074Z"
   },
   {
    "duration": 23,
    "start_time": "2022-08-02T15:13:57.336Z"
   },
   {
    "duration": 9,
    "start_time": "2022-08-02T15:14:19.523Z"
   },
   {
    "duration": 4,
    "start_time": "2022-08-02T15:14:28.176Z"
   },
   {
    "duration": 4,
    "start_time": "2022-08-02T15:14:31.327Z"
   },
   {
    "duration": 11,
    "start_time": "2022-08-02T15:14:42.023Z"
   },
   {
    "duration": 21,
    "start_time": "2022-08-02T15:14:52.457Z"
   },
   {
    "duration": 6,
    "start_time": "2022-08-02T15:16:53.148Z"
   },
   {
    "duration": 12,
    "start_time": "2022-08-02T15:17:35.821Z"
   },
   {
    "duration": 14,
    "start_time": "2022-08-02T15:19:46.016Z"
   },
   {
    "duration": 13,
    "start_time": "2022-08-02T15:20:03.049Z"
   },
   {
    "duration": 6,
    "start_time": "2022-08-02T15:20:58.442Z"
   },
   {
    "duration": 6,
    "start_time": "2022-08-02T15:21:28.021Z"
   },
   {
    "duration": 17,
    "start_time": "2022-08-02T15:21:33.175Z"
   },
   {
    "duration": 6,
    "start_time": "2022-08-02T15:23:20.552Z"
   },
   {
    "duration": 17,
    "start_time": "2022-08-02T15:23:24.771Z"
   },
   {
    "duration": 6,
    "start_time": "2022-08-02T15:23:44.124Z"
   },
   {
    "duration": 19,
    "start_time": "2022-08-02T15:23:47.618Z"
   },
   {
    "duration": 6,
    "start_time": "2022-08-02T15:24:00.681Z"
   },
   {
    "duration": 1502,
    "start_time": "2022-08-02T15:24:03.312Z"
   },
   {
    "duration": 6,
    "start_time": "2022-08-02T15:26:39.432Z"
   },
   {
    "duration": 18,
    "start_time": "2022-08-02T15:26:42.169Z"
   },
   {
    "duration": 6,
    "start_time": "2022-08-02T15:27:05.636Z"
   },
   {
    "duration": 1514,
    "start_time": "2022-08-02T15:27:07.974Z"
   },
   {
    "duration": 7,
    "start_time": "2022-08-02T15:33:39.708Z"
   },
   {
    "duration": 14,
    "start_time": "2022-08-02T15:33:44.017Z"
   },
   {
    "duration": 14,
    "start_time": "2022-08-02T15:34:01.780Z"
   },
   {
    "duration": 5,
    "start_time": "2022-08-02T15:34:20.826Z"
   },
   {
    "duration": 1344,
    "start_time": "2022-08-02T15:34:23.051Z"
   },
   {
    "duration": 6,
    "start_time": "2022-08-02T15:35:58.594Z"
   },
   {
    "duration": 18,
    "start_time": "2022-08-02T15:36:00.917Z"
   },
   {
    "duration": 7,
    "start_time": "2022-08-02T15:36:17.591Z"
   },
   {
    "duration": 1411,
    "start_time": "2022-08-02T15:36:20.426Z"
   },
   {
    "duration": 99,
    "start_time": "2022-08-02T15:38:22.191Z"
   },
   {
    "duration": 56,
    "start_time": "2022-08-02T15:38:28.331Z"
   },
   {
    "duration": 1304,
    "start_time": "2022-08-02T15:38:44.361Z"
   },
   {
    "duration": 5,
    "start_time": "2022-08-02T15:39:44.564Z"
   },
   {
    "duration": 1359,
    "start_time": "2022-08-02T15:39:46.768Z"
   },
   {
    "duration": 7,
    "start_time": "2022-08-02T15:43:16.187Z"
   },
   {
    "duration": 18,
    "start_time": "2022-08-02T15:43:18.970Z"
   },
   {
    "duration": 68,
    "start_time": "2022-08-02T15:46:53.321Z"
   },
   {
    "duration": 27,
    "start_time": "2022-08-02T15:47:06.980Z"
   },
   {
    "duration": 61,
    "start_time": "2022-08-02T15:47:50.930Z"
   },
   {
    "duration": 29,
    "start_time": "2022-08-02T15:47:55.729Z"
   },
   {
    "duration": 30,
    "start_time": "2022-08-02T15:48:08.523Z"
   },
   {
    "duration": 31,
    "start_time": "2022-08-02T15:48:12.919Z"
   },
   {
    "duration": 28,
    "start_time": "2022-08-02T15:49:10.496Z"
   },
   {
    "duration": 31,
    "start_time": "2022-08-02T15:49:27.545Z"
   },
   {
    "duration": 57,
    "start_time": "2022-08-02T15:49:32.229Z"
   },
   {
    "duration": 40,
    "start_time": "2022-08-02T15:49:45.646Z"
   },
   {
    "duration": 8,
    "start_time": "2022-08-02T15:52:08.219Z"
   },
   {
    "duration": 19,
    "start_time": "2022-08-02T15:52:12.815Z"
   },
   {
    "duration": 8,
    "start_time": "2022-08-02T15:52:18.039Z"
   },
   {
    "duration": 21,
    "start_time": "2022-08-02T15:52:28.895Z"
   },
   {
    "duration": 12,
    "start_time": "2022-08-02T15:53:10.579Z"
   },
   {
    "duration": 1509,
    "start_time": "2022-08-02T15:53:14.237Z"
   },
   {
    "duration": 6,
    "start_time": "2022-08-02T15:53:32.527Z"
   },
   {
    "duration": 18,
    "start_time": "2022-08-02T15:53:34.618Z"
   },
   {
    "duration": 6,
    "start_time": "2022-08-02T15:53:52.303Z"
   },
   {
    "duration": 1597,
    "start_time": "2022-08-02T15:53:54.825Z"
   },
   {
    "duration": 5,
    "start_time": "2022-08-02T16:01:52.553Z"
   },
   {
    "duration": 1544,
    "start_time": "2022-08-02T16:01:57.583Z"
   },
   {
    "duration": 8,
    "start_time": "2022-08-02T16:05:14.022Z"
   },
   {
    "duration": 1541,
    "start_time": "2022-08-02T16:05:16.735Z"
   },
   {
    "duration": 1409,
    "start_time": "2022-08-02T16:05:52.466Z"
   },
   {
    "duration": 56,
    "start_time": "2022-08-02T16:07:38.466Z"
   },
   {
    "duration": 75,
    "start_time": "2022-08-02T16:07:41.920Z"
   },
   {
    "duration": 11,
    "start_time": "2022-08-02T16:08:06.445Z"
   },
   {
    "duration": 46,
    "start_time": "2022-08-02T16:08:58.745Z"
   },
   {
    "duration": 31,
    "start_time": "2022-08-02T16:09:21.938Z"
   },
   {
    "duration": 1473,
    "start_time": "2022-08-02T16:09:41.171Z"
   },
   {
    "duration": 38,
    "start_time": "2022-08-02T16:10:46.235Z"
   },
   {
    "duration": 1439,
    "start_time": "2022-08-02T16:10:57.285Z"
   },
   {
    "duration": 1654,
    "start_time": "2022-08-02T16:11:04.978Z"
   },
   {
    "duration": 1509,
    "start_time": "2022-08-02T16:11:35.824Z"
   },
   {
    "duration": 1420,
    "start_time": "2022-08-02T16:11:42.825Z"
   },
   {
    "duration": 31,
    "start_time": "2022-08-02T16:12:11.918Z"
   },
   {
    "duration": 1450,
    "start_time": "2022-08-02T16:12:24.358Z"
   },
   {
    "duration": 9,
    "start_time": "2022-08-02T16:12:36.128Z"
   },
   {
    "duration": 110,
    "start_time": "2022-08-02T16:13:01.078Z"
   },
   {
    "duration": 38,
    "start_time": "2022-08-02T16:13:04.448Z"
   },
   {
    "duration": 1648,
    "start_time": "2022-08-02T16:13:11.337Z"
   },
   {
    "duration": 121,
    "start_time": "2022-08-02T16:19:56.285Z"
   },
   {
    "duration": 56,
    "start_time": "2022-08-02T16:20:21.165Z"
   },
   {
    "duration": 39,
    "start_time": "2022-08-02T16:20:27.456Z"
   },
   {
    "duration": 7,
    "start_time": "2022-08-02T16:21:01.105Z"
   },
   {
    "duration": 1591,
    "start_time": "2022-08-02T16:21:03.738Z"
   },
   {
    "duration": 1557,
    "start_time": "2022-08-02T16:21:08.252Z"
   },
   {
    "duration": 1620,
    "start_time": "2022-08-02T16:21:15.222Z"
   },
   {
    "duration": 1516,
    "start_time": "2022-08-02T16:22:23.781Z"
   },
   {
    "duration": 63,
    "start_time": "2022-08-02T16:26:19.886Z"
   },
   {
    "duration": 6,
    "start_time": "2022-08-02T16:27:05.517Z"
   },
   {
    "duration": 1524,
    "start_time": "2022-08-02T16:27:10.428Z"
   },
   {
    "duration": 7,
    "start_time": "2022-08-02T16:27:46.362Z"
   },
   {
    "duration": 1566,
    "start_time": "2022-08-02T16:27:49.280Z"
   },
   {
    "duration": 1705,
    "start_time": "2022-08-02T16:27:55.237Z"
   },
   {
    "duration": 1497,
    "start_time": "2022-08-02T16:28:00.972Z"
   },
   {
    "duration": 6,
    "start_time": "2022-08-02T17:27:42.742Z"
   },
   {
    "duration": 1456,
    "start_time": "2022-08-02T17:27:46.754Z"
   },
   {
    "duration": 8,
    "start_time": "2022-08-02T17:31:43.121Z"
   },
   {
    "duration": 1675,
    "start_time": "2022-08-02T17:31:46.519Z"
   },
   {
    "duration": 6,
    "start_time": "2022-08-02T17:32:05.283Z"
   },
   {
    "duration": 1520,
    "start_time": "2022-08-02T17:32:07.720Z"
   },
   {
    "duration": 6,
    "start_time": "2022-08-02T17:52:06.566Z"
   },
   {
    "duration": 1569,
    "start_time": "2022-08-02T17:52:11.157Z"
   },
   {
    "duration": 6,
    "start_time": "2022-08-02T17:53:58.476Z"
   },
   {
    "duration": 2105,
    "start_time": "2022-08-02T17:54:01.032Z"
   },
   {
    "duration": 6,
    "start_time": "2022-08-02T17:54:17.510Z"
   },
   {
    "duration": 1515,
    "start_time": "2022-08-02T17:54:22.547Z"
   },
   {
    "duration": 4,
    "start_time": "2022-08-02T18:54:34.539Z"
   },
   {
    "duration": 1312,
    "start_time": "2022-08-02T18:54:41.127Z"
   },
   {
    "duration": 449,
    "start_time": "2022-08-02T18:54:42.441Z"
   },
   {
    "duration": 406,
    "start_time": "2022-08-02T18:54:42.899Z"
   },
   {
    "duration": 381,
    "start_time": "2022-08-02T18:54:43.307Z"
   },
   {
    "duration": 421,
    "start_time": "2022-08-02T18:54:43.690Z"
   },
   {
    "duration": 178,
    "start_time": "2022-08-02T18:54:44.113Z"
   },
   {
    "duration": 121,
    "start_time": "2022-08-02T18:54:44.294Z"
   },
   {
    "duration": 194,
    "start_time": "2022-08-02T18:54:44.417Z"
   },
   {
    "duration": 134,
    "start_time": "2022-08-02T18:54:44.687Z"
   },
   {
    "duration": 11,
    "start_time": "2022-08-02T18:54:44.823Z"
   },
   {
    "duration": 11,
    "start_time": "2022-08-02T18:54:44.836Z"
   },
   {
    "duration": 5,
    "start_time": "2022-08-02T18:54:44.848Z"
   },
   {
    "duration": 9,
    "start_time": "2022-08-02T18:54:44.855Z"
   },
   {
    "duration": 1762,
    "start_time": "2022-08-02T18:54:44.866Z"
   },
   {
    "duration": 0,
    "start_time": "2022-08-02T18:54:46.630Z"
   },
   {
    "duration": 0,
    "start_time": "2022-08-02T18:54:46.632Z"
   },
   {
    "duration": 8,
    "start_time": "2022-08-02T18:55:04.065Z"
   },
   {
    "duration": 1537,
    "start_time": "2022-08-02T18:55:07.854Z"
   },
   {
    "duration": 6,
    "start_time": "2022-08-02T18:56:23.952Z"
   },
   {
    "duration": 1600,
    "start_time": "2022-08-02T18:56:28.429Z"
   },
   {
    "duration": 9,
    "start_time": "2022-08-02T18:56:47.015Z"
   },
   {
    "duration": 1655,
    "start_time": "2022-08-02T18:56:51.104Z"
   },
   {
    "duration": 1643,
    "start_time": "2022-08-02T18:56:59.184Z"
   },
   {
    "duration": 1588,
    "start_time": "2022-08-02T18:57:04.335Z"
   },
   {
    "duration": 9,
    "start_time": "2022-08-02T18:57:23.416Z"
   },
   {
    "duration": 1668,
    "start_time": "2022-08-02T18:57:45.494Z"
   },
   {
    "duration": 1554,
    "start_time": "2022-08-02T18:57:50.612Z"
   },
   {
    "duration": 6,
    "start_time": "2022-08-02T19:00:05.146Z"
   },
   {
    "duration": 1896,
    "start_time": "2022-08-02T19:00:07.719Z"
   },
   {
    "duration": 7,
    "start_time": "2022-08-02T19:00:20.006Z"
   },
   {
    "duration": 132,
    "start_time": "2022-08-03T06:57:23.954Z"
   },
   {
    "duration": 114,
    "start_time": "2022-08-03T06:57:36.493Z"
   },
   {
    "duration": 5,
    "start_time": "2022-08-03T07:02:15.071Z"
   },
   {
    "duration": 5,
    "start_time": "2022-08-03T07:02:57.923Z"
   },
   {
    "duration": 6,
    "start_time": "2022-08-03T07:03:02.837Z"
   },
   {
    "duration": 6,
    "start_time": "2022-08-03T07:04:04.973Z"
   },
   {
    "duration": 40,
    "start_time": "2022-08-03T07:04:09.530Z"
   },
   {
    "duration": 1462,
    "start_time": "2022-08-03T07:04:17.156Z"
   },
   {
    "duration": 1925,
    "start_time": "2022-08-03T07:04:18.620Z"
   },
   {
    "duration": 334,
    "start_time": "2022-08-03T07:04:20.546Z"
   },
   {
    "duration": 317,
    "start_time": "2022-08-03T07:04:20.882Z"
   },
   {
    "duration": 401,
    "start_time": "2022-08-03T07:04:21.201Z"
   },
   {
    "duration": 149,
    "start_time": "2022-08-03T07:04:21.604Z"
   },
   {
    "duration": 110,
    "start_time": "2022-08-03T07:04:21.755Z"
   },
   {
    "duration": 200,
    "start_time": "2022-08-03T07:04:21.867Z"
   },
   {
    "duration": 182,
    "start_time": "2022-08-03T07:04:22.070Z"
   },
   {
    "duration": 15,
    "start_time": "2022-08-03T07:04:22.255Z"
   },
   {
    "duration": 12,
    "start_time": "2022-08-03T07:04:22.271Z"
   },
   {
    "duration": 4,
    "start_time": "2022-08-03T07:04:22.284Z"
   },
   {
    "duration": 7,
    "start_time": "2022-08-03T07:04:22.290Z"
   },
   {
    "duration": 1395,
    "start_time": "2022-08-03T07:04:22.299Z"
   },
   {
    "duration": 1325,
    "start_time": "2022-08-03T07:04:23.696Z"
   },
   {
    "duration": 1390,
    "start_time": "2022-08-03T07:04:25.023Z"
   },
   {
    "duration": 78,
    "start_time": "2022-08-03T07:19:00.450Z"
   },
   {
    "duration": 1402,
    "start_time": "2022-08-03T07:25:38.743Z"
   },
   {
    "duration": 6,
    "start_time": "2022-08-03T07:25:58.146Z"
   },
   {
    "duration": 5,
    "start_time": "2022-08-03T07:26:02.724Z"
   },
   {
    "duration": 1513,
    "start_time": "2022-08-03T07:26:05.694Z"
   },
   {
    "duration": 8,
    "start_time": "2022-08-03T07:26:21.372Z"
   },
   {
    "duration": 1415,
    "start_time": "2022-08-03T07:26:26.302Z"
   },
   {
    "duration": 8,
    "start_time": "2022-08-03T07:26:37.629Z"
   },
   {
    "duration": 1460,
    "start_time": "2022-08-03T07:26:41.725Z"
   },
   {
    "duration": 6,
    "start_time": "2022-08-03T07:26:59.264Z"
   },
   {
    "duration": 1405,
    "start_time": "2022-08-03T07:27:02.536Z"
   },
   {
    "duration": 6,
    "start_time": "2022-08-03T07:30:44.939Z"
   },
   {
    "duration": 1485,
    "start_time": "2022-08-03T07:30:48.032Z"
   },
   {
    "duration": 6,
    "start_time": "2022-08-03T07:31:00.160Z"
   },
   {
    "duration": 1489,
    "start_time": "2022-08-03T07:31:03.939Z"
   },
   {
    "duration": 1349,
    "start_time": "2022-08-03T07:31:12.400Z"
   },
   {
    "duration": 1360,
    "start_time": "2022-08-03T07:31:16.383Z"
   },
   {
    "duration": 6,
    "start_time": "2022-08-03T07:31:28.357Z"
   },
   {
    "duration": 1320,
    "start_time": "2022-08-03T07:31:31.517Z"
   },
   {
    "duration": 1408,
    "start_time": "2022-08-03T07:31:35.095Z"
   },
   {
    "duration": 1354,
    "start_time": "2022-08-03T07:31:39.467Z"
   },
   {
    "duration": 8,
    "start_time": "2022-08-03T07:31:48.687Z"
   },
   {
    "duration": 1368,
    "start_time": "2022-08-03T07:31:51.663Z"
   },
   {
    "duration": 1403,
    "start_time": "2022-08-03T07:31:55.387Z"
   },
   {
    "duration": 1341,
    "start_time": "2022-08-03T07:31:59.899Z"
   },
   {
    "duration": 43,
    "start_time": "2022-08-12T10:56:49.943Z"
   },
   {
    "duration": 1226,
    "start_time": "2022-08-12T10:57:18.410Z"
   },
   {
    "duration": 738,
    "start_time": "2022-08-12T10:57:19.638Z"
   },
   {
    "duration": 307,
    "start_time": "2022-08-12T10:57:20.378Z"
   },
   {
    "duration": 296,
    "start_time": "2022-08-12T10:57:20.686Z"
   },
   {
    "duration": 309,
    "start_time": "2022-08-12T10:57:20.984Z"
   },
   {
    "duration": 147,
    "start_time": "2022-08-12T10:57:21.294Z"
   },
   {
    "duration": 5,
    "start_time": "2022-08-12T10:57:21.443Z"
   },
   {
    "duration": 99,
    "start_time": "2022-08-12T10:57:21.539Z"
   },
   {
    "duration": 198,
    "start_time": "2022-08-12T10:57:21.640Z"
   },
   {
    "duration": 98,
    "start_time": "2022-08-12T10:57:21.841Z"
   },
   {
    "duration": 14,
    "start_time": "2022-08-12T10:57:21.941Z"
   },
   {
    "duration": 14,
    "start_time": "2022-08-12T10:57:21.957Z"
   },
   {
    "duration": 4,
    "start_time": "2022-08-12T10:57:21.973Z"
   },
   {
    "duration": 6,
    "start_time": "2022-08-12T10:57:21.979Z"
   },
   {
    "duration": 1274,
    "start_time": "2022-08-12T10:57:21.986Z"
   },
   {
    "duration": 1249,
    "start_time": "2022-08-12T10:57:23.262Z"
   },
   {
    "duration": 1260,
    "start_time": "2022-08-12T10:57:24.513Z"
   }
  ],
  "kernelspec": {
   "display_name": "Python 3 (ipykernel)",
   "language": "python",
   "name": "python3"
  },
  "language_info": {
   "codemirror_mode": {
    "name": "ipython",
    "version": 3
   },
   "file_extension": ".py",
   "mimetype": "text/x-python",
   "name": "python",
   "nbconvert_exporter": "python",
   "pygments_lexer": "ipython3",
   "version": "3.9.7"
  },
  "toc": {
   "base_numbering": 1,
   "nav_menu": {},
   "number_sections": true,
   "sideBar": true,
   "skip_h1_title": true,
   "title_cell": "Table of Contents",
   "title_sidebar": "Contents",
   "toc_cell": false,
   "toc_position": {},
   "toc_section_display": true,
   "toc_window_display": false
  }
 },
 "nbformat": 4,
 "nbformat_minor": 2
}
