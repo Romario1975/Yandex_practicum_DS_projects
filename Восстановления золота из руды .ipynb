{
 "cells": [
  {
   "cell_type": "markdown",
   "metadata": {
    "toc": true
   },
   "source": [
    "<h1>Содержание<span class=\"tocSkip\"></span></h1>\n",
    "<div class=\"toc\"><ul class=\"toc-item\"><li><span><a href=\"#Подготовка-данных\" data-toc-modified-id=\"Подготовка-данных-1\"><span class=\"toc-item-num\">1&nbsp;&nbsp;</span>Подготовка данных</a></span></li><li><span><a href=\"#Анализ-данных\" data-toc-modified-id=\"Анализ-данных-2\"><span class=\"toc-item-num\">2&nbsp;&nbsp;</span>Анализ данных</a></span><ul class=\"toc-item\"><li><span><a href=\"#Находим-изменение-концентрации-металлов-на-различных-этапах-очистки\" data-toc-modified-id=\"Находим-изменение-концентрации-металлов-на-различных-этапах-очистки-2.1\"><span class=\"toc-item-num\">2.1&nbsp;&nbsp;</span>Находим изменение концентрации металлов на различных этапах очистки</a></span></li><li><span><a href=\"#Сравниваем-распределение-размеров-гранул-сырья-на-обучающей-и-тестовой-выборках\" data-toc-modified-id=\"Сравниваем-распределение-размеров-гранул-сырья-на-обучающей-и-тестовой-выборках-2.2\"><span class=\"toc-item-num\">2.2&nbsp;&nbsp;</span>Сравниваем распределение размеров гранул сырья на обучающей и тестовой выборках</a></span></li></ul></li><li><span><a href=\"#Модель\" data-toc-modified-id=\"Модель-3\"><span class=\"toc-item-num\">3&nbsp;&nbsp;</span>Модель</a></span><ul class=\"toc-item\"><li><span><a href=\"#Пишем-функцию-для-вычисления-итоговой-sMAPE\" data-toc-modified-id=\"Пишем-функцию-для-вычисления-итоговой-sMAPE-3.1\"><span class=\"toc-item-num\">3.1&nbsp;&nbsp;</span>Пишем функцию для вычисления итоговой sMAPE</a></span></li><li><span><a href=\"#Обучаем-различные-модели,-оцениваем-их-качество---выбираем-лучшую-и-прверяем-ее-на-тестовой-выборке\" data-toc-modified-id=\"Обучаем-различные-модели,-оцениваем-их-качество---выбираем-лучшую-и-прверяем-ее-на-тестовой-выборке-3.2\"><span class=\"toc-item-num\">3.2&nbsp;&nbsp;</span>Обучаем различные модели, оцениваем их качество - выбираем лучшую и прверяем ее на тестовой выборке</a></span></li><li><span><a href=\"#Построим-константную-модели-и-сравним-данные\" data-toc-modified-id=\"Построим-константную-модели-и-сравним-данные-3.3\"><span class=\"toc-item-num\">3.3&nbsp;&nbsp;</span>Построим константную модели и сравним данные</a></span></li></ul></li><li><span><a href=\"#Чек-лист-готовности-проекта\" data-toc-modified-id=\"Чек-лист-готовности-проекта-4\"><span class=\"toc-item-num\">4&nbsp;&nbsp;</span>Чек-лист готовности проекта</a></span></li></ul></div>"
   ]
  },
  {
   "cell_type": "markdown",
   "metadata": {},
   "source": [
    "# Восстановление золота из руды"
   ]
  },
  {
   "cell_type": "markdown",
   "metadata": {},
   "source": [
    "Подготовьте прототип модели машинного обучения для «Цифры». Компания разрабатывает решения для эффективной работы промышленных предприятий.\n",
    "\n",
    "Модель должна предсказать коэффициент восстановления золота из золотосодержащей руды. Используйте данные с параметрами добычи и очистки. \n",
    "\n",
    "Модель поможет оптимизировать производство, чтобы не запускать предприятие с убыточными характеристиками.\n",
    "\n",
    "Вам нужно:\n",
    "\n",
    "1. Подготовить данные;\n",
    "2. Провести исследовательский анализ данных;\n",
    "3. Построить и обучить модель.\n",
    "\n",
    "Чтобы выполнить проект, обращайтесь к библиотекам *pandas*, *matplotlib* и *sklearn.* Вам поможет их документация."
   ]
  },
  {
   "cell_type": "markdown",
   "metadata": {},
   "source": [
    "## Подготовка данных"
   ]
  },
  {
   "cell_type": "code",
   "execution_count": 1,
   "metadata": {},
   "outputs": [],
   "source": [
    "import pandas as pd\n",
    "import numpy as np\n",
    "\n",
    "from sklearn.metrics import mean_absolute_error, make_scorer\n",
    "from sklearn.preprocessing import MinMaxScaler\n",
    "from sklearn.model_selection import cross_val_score, GridSearchCV\n",
    "from sklearn.dummy import DummyRegressor\n",
    "\n",
    "from sklearn.linear_model import LinearRegression\n",
    "from sklearn.tree import DecisionTreeRegressor\n",
    "from sklearn.ensemble import RandomForestRegressor\n",
    "\n",
    "import matplotlib.pyplot as plt\n",
    "import seaborn as sns\n",
    "from plotly.offline import init_notebook_mode, iplot\n",
    "import plotly\n",
    "import plotly.graph_objs as go\n",
    "\n",
    "\n",
    "import warnings\n",
    "warnings.filterwarnings(\"ignore\")\n",
    "import matplotlib.patches as patches\n"
   ]
  },
  {
   "cell_type": "code",
   "execution_count": 2,
   "metadata": {},
   "outputs": [],
   "source": [
    "data_train = pd.read_csv('/datasets/gold_recovery_train_new.csv')\n",
    "data_test = pd.read_csv('/datasets/gold_recovery_test_new.csv')\n",
    "data_full = pd.read_csv('/datasets/gold_recovery_full_new.csv')"
   ]
  },
  {
   "cell_type": "code",
   "execution_count": 3,
   "metadata": {},
   "outputs": [
    {
     "data": {
      "text/html": [
       "<div>\n",
       "<style scoped>\n",
       "    .dataframe tbody tr th:only-of-type {\n",
       "        vertical-align: middle;\n",
       "    }\n",
       "\n",
       "    .dataframe tbody tr th {\n",
       "        vertical-align: top;\n",
       "    }\n",
       "\n",
       "    .dataframe thead th {\n",
       "        text-align: right;\n",
       "    }\n",
       "</style>\n",
       "<table border=\"1\" class=\"dataframe\">\n",
       "  <thead>\n",
       "    <tr style=\"text-align: right;\">\n",
       "      <th></th>\n",
       "      <th>date</th>\n",
       "      <th>final.output.concentrate_ag</th>\n",
       "      <th>final.output.concentrate_pb</th>\n",
       "      <th>final.output.concentrate_sol</th>\n",
       "      <th>final.output.concentrate_au</th>\n",
       "      <th>final.output.recovery</th>\n",
       "      <th>final.output.tail_ag</th>\n",
       "      <th>final.output.tail_pb</th>\n",
       "      <th>final.output.tail_sol</th>\n",
       "      <th>final.output.tail_au</th>\n",
       "      <th>...</th>\n",
       "      <th>secondary_cleaner.state.floatbank4_a_air</th>\n",
       "      <th>secondary_cleaner.state.floatbank4_a_level</th>\n",
       "      <th>secondary_cleaner.state.floatbank4_b_air</th>\n",
       "      <th>secondary_cleaner.state.floatbank4_b_level</th>\n",
       "      <th>secondary_cleaner.state.floatbank5_a_air</th>\n",
       "      <th>secondary_cleaner.state.floatbank5_a_level</th>\n",
       "      <th>secondary_cleaner.state.floatbank5_b_air</th>\n",
       "      <th>secondary_cleaner.state.floatbank5_b_level</th>\n",
       "      <th>secondary_cleaner.state.floatbank6_a_air</th>\n",
       "      <th>secondary_cleaner.state.floatbank6_a_level</th>\n",
       "    </tr>\n",
       "  </thead>\n",
       "  <tbody>\n",
       "    <tr>\n",
       "      <th>0</th>\n",
       "      <td>2016-01-15 00:00:00</td>\n",
       "      <td>6.055403</td>\n",
       "      <td>9.889648</td>\n",
       "      <td>5.507324</td>\n",
       "      <td>42.192020</td>\n",
       "      <td>70.541216</td>\n",
       "      <td>10.411962</td>\n",
       "      <td>0.895447</td>\n",
       "      <td>16.904297</td>\n",
       "      <td>2.143149</td>\n",
       "      <td>...</td>\n",
       "      <td>14.016835</td>\n",
       "      <td>-502.488007</td>\n",
       "      <td>12.099931</td>\n",
       "      <td>-504.715942</td>\n",
       "      <td>9.925633</td>\n",
       "      <td>-498.310211</td>\n",
       "      <td>8.079666</td>\n",
       "      <td>-500.470978</td>\n",
       "      <td>14.151341</td>\n",
       "      <td>-605.841980</td>\n",
       "    </tr>\n",
       "    <tr>\n",
       "      <th>1</th>\n",
       "      <td>2016-01-15 01:00:00</td>\n",
       "      <td>6.029369</td>\n",
       "      <td>9.968944</td>\n",
       "      <td>5.257781</td>\n",
       "      <td>42.701629</td>\n",
       "      <td>69.266198</td>\n",
       "      <td>10.462676</td>\n",
       "      <td>0.927452</td>\n",
       "      <td>16.634514</td>\n",
       "      <td>2.224930</td>\n",
       "      <td>...</td>\n",
       "      <td>13.992281</td>\n",
       "      <td>-505.503262</td>\n",
       "      <td>11.950531</td>\n",
       "      <td>-501.331529</td>\n",
       "      <td>10.039245</td>\n",
       "      <td>-500.169983</td>\n",
       "      <td>7.984757</td>\n",
       "      <td>-500.582168</td>\n",
       "      <td>13.998353</td>\n",
       "      <td>-599.787184</td>\n",
       "    </tr>\n",
       "  </tbody>\n",
       "</table>\n",
       "<p>2 rows × 87 columns</p>\n",
       "</div>"
      ],
      "text/plain": [
       "                  date  final.output.concentrate_ag  \\\n",
       "0  2016-01-15 00:00:00                     6.055403   \n",
       "1  2016-01-15 01:00:00                     6.029369   \n",
       "\n",
       "   final.output.concentrate_pb  final.output.concentrate_sol  \\\n",
       "0                     9.889648                      5.507324   \n",
       "1                     9.968944                      5.257781   \n",
       "\n",
       "   final.output.concentrate_au  final.output.recovery  final.output.tail_ag  \\\n",
       "0                    42.192020              70.541216             10.411962   \n",
       "1                    42.701629              69.266198             10.462676   \n",
       "\n",
       "   final.output.tail_pb  final.output.tail_sol  final.output.tail_au  ...  \\\n",
       "0              0.895447              16.904297              2.143149  ...   \n",
       "1              0.927452              16.634514              2.224930  ...   \n",
       "\n",
       "   secondary_cleaner.state.floatbank4_a_air  \\\n",
       "0                                 14.016835   \n",
       "1                                 13.992281   \n",
       "\n",
       "   secondary_cleaner.state.floatbank4_a_level  \\\n",
       "0                                 -502.488007   \n",
       "1                                 -505.503262   \n",
       "\n",
       "   secondary_cleaner.state.floatbank4_b_air  \\\n",
       "0                                 12.099931   \n",
       "1                                 11.950531   \n",
       "\n",
       "   secondary_cleaner.state.floatbank4_b_level  \\\n",
       "0                                 -504.715942   \n",
       "1                                 -501.331529   \n",
       "\n",
       "   secondary_cleaner.state.floatbank5_a_air  \\\n",
       "0                                  9.925633   \n",
       "1                                 10.039245   \n",
       "\n",
       "   secondary_cleaner.state.floatbank5_a_level  \\\n",
       "0                                 -498.310211   \n",
       "1                                 -500.169983   \n",
       "\n",
       "   secondary_cleaner.state.floatbank5_b_air  \\\n",
       "0                                  8.079666   \n",
       "1                                  7.984757   \n",
       "\n",
       "   secondary_cleaner.state.floatbank5_b_level  \\\n",
       "0                                 -500.470978   \n",
       "1                                 -500.582168   \n",
       "\n",
       "   secondary_cleaner.state.floatbank6_a_air  \\\n",
       "0                                 14.151341   \n",
       "1                                 13.998353   \n",
       "\n",
       "   secondary_cleaner.state.floatbank6_a_level  \n",
       "0                                 -605.841980  \n",
       "1                                 -599.787184  \n",
       "\n",
       "[2 rows x 87 columns]"
      ]
     },
     "metadata": {},
     "output_type": "display_data"
    }
   ],
   "source": [
    "display(data_train.head(2))"
   ]
  },
  {
   "cell_type": "code",
   "execution_count": 4,
   "metadata": {},
   "outputs": [
    {
     "name": "stdout",
     "output_type": "stream",
     "text": [
      "<class 'pandas.core.frame.DataFrame'>\n",
      "RangeIndex: 14149 entries, 0 to 14148\n",
      "Data columns (total 87 columns):\n",
      " #   Column                                              Non-Null Count  Dtype  \n",
      "---  ------                                              --------------  -----  \n",
      " 0   date                                                14149 non-null  object \n",
      " 1   final.output.concentrate_ag                         14148 non-null  float64\n",
      " 2   final.output.concentrate_pb                         14148 non-null  float64\n",
      " 3   final.output.concentrate_sol                        13938 non-null  float64\n",
      " 4   final.output.concentrate_au                         14149 non-null  float64\n",
      " 5   final.output.recovery                               14149 non-null  float64\n",
      " 6   final.output.tail_ag                                14149 non-null  float64\n",
      " 7   final.output.tail_pb                                14049 non-null  float64\n",
      " 8   final.output.tail_sol                               14144 non-null  float64\n",
      " 9   final.output.tail_au                                14149 non-null  float64\n",
      " 10  primary_cleaner.input.sulfate                       14129 non-null  float64\n",
      " 11  primary_cleaner.input.depressant                    14117 non-null  float64\n",
      " 12  primary_cleaner.input.feed_size                     14149 non-null  float64\n",
      " 13  primary_cleaner.input.xanthate                      14049 non-null  float64\n",
      " 14  primary_cleaner.output.concentrate_ag               14149 non-null  float64\n",
      " 15  primary_cleaner.output.concentrate_pb               14063 non-null  float64\n",
      " 16  primary_cleaner.output.concentrate_sol              13863 non-null  float64\n",
      " 17  primary_cleaner.output.concentrate_au               14149 non-null  float64\n",
      " 18  primary_cleaner.output.tail_ag                      14148 non-null  float64\n",
      " 19  primary_cleaner.output.tail_pb                      14134 non-null  float64\n",
      " 20  primary_cleaner.output.tail_sol                     14103 non-null  float64\n",
      " 21  primary_cleaner.output.tail_au                      14149 non-null  float64\n",
      " 22  primary_cleaner.state.floatbank8_a_air              14145 non-null  float64\n",
      " 23  primary_cleaner.state.floatbank8_a_level            14148 non-null  float64\n",
      " 24  primary_cleaner.state.floatbank8_b_air              14145 non-null  float64\n",
      " 25  primary_cleaner.state.floatbank8_b_level            14148 non-null  float64\n",
      " 26  primary_cleaner.state.floatbank8_c_air              14147 non-null  float64\n",
      " 27  primary_cleaner.state.floatbank8_c_level            14148 non-null  float64\n",
      " 28  primary_cleaner.state.floatbank8_d_air              14146 non-null  float64\n",
      " 29  primary_cleaner.state.floatbank8_d_level            14148 non-null  float64\n",
      " 30  rougher.calculation.sulfate_to_au_concentrate       14148 non-null  float64\n",
      " 31  rougher.calculation.floatbank10_sulfate_to_au_feed  14148 non-null  float64\n",
      " 32  rougher.calculation.floatbank11_sulfate_to_au_feed  14148 non-null  float64\n",
      " 33  rougher.calculation.au_pb_ratio                     14149 non-null  float64\n",
      " 34  rougher.input.feed_ag                               14149 non-null  float64\n",
      " 35  rougher.input.feed_pb                               14049 non-null  float64\n",
      " 36  rougher.input.feed_rate                             14141 non-null  float64\n",
      " 37  rougher.input.feed_size                             14005 non-null  float64\n",
      " 38  rougher.input.feed_sol                              14071 non-null  float64\n",
      " 39  rougher.input.feed_au                               14149 non-null  float64\n",
      " 40  rougher.input.floatbank10_sulfate                   14120 non-null  float64\n",
      " 41  rougher.input.floatbank10_xanthate                  14141 non-null  float64\n",
      " 42  rougher.input.floatbank11_sulfate                   14113 non-null  float64\n",
      " 43  rougher.input.floatbank11_xanthate                  13721 non-null  float64\n",
      " 44  rougher.output.concentrate_ag                       14149 non-null  float64\n",
      " 45  rougher.output.concentrate_pb                       14149 non-null  float64\n",
      " 46  rougher.output.concentrate_sol                      14127 non-null  float64\n",
      " 47  rougher.output.concentrate_au                       14149 non-null  float64\n",
      " 48  rougher.output.recovery                             14149 non-null  float64\n",
      " 49  rougher.output.tail_ag                              14148 non-null  float64\n",
      " 50  rougher.output.tail_pb                              14149 non-null  float64\n",
      " 51  rougher.output.tail_sol                             14149 non-null  float64\n",
      " 52  rougher.output.tail_au                              14149 non-null  float64\n",
      " 53  rougher.state.floatbank10_a_air                     14148 non-null  float64\n",
      " 54  rougher.state.floatbank10_a_level                   14148 non-null  float64\n",
      " 55  rougher.state.floatbank10_b_air                     14148 non-null  float64\n",
      " 56  rougher.state.floatbank10_b_level                   14148 non-null  float64\n",
      " 57  rougher.state.floatbank10_c_air                     14148 non-null  float64\n",
      " 58  rougher.state.floatbank10_c_level                   14148 non-null  float64\n",
      " 59  rougher.state.floatbank10_d_air                     14149 non-null  float64\n",
      " 60  rougher.state.floatbank10_d_level                   14149 non-null  float64\n",
      " 61  rougher.state.floatbank10_e_air                     13713 non-null  float64\n",
      " 62  rougher.state.floatbank10_e_level                   14149 non-null  float64\n",
      " 63  rougher.state.floatbank10_f_air                     14149 non-null  float64\n",
      " 64  rougher.state.floatbank10_f_level                   14149 non-null  float64\n",
      " 65  secondary_cleaner.output.tail_ag                    14147 non-null  float64\n",
      " 66  secondary_cleaner.output.tail_pb                    14139 non-null  float64\n",
      " 67  secondary_cleaner.output.tail_sol                   12544 non-null  float64\n",
      " 68  secondary_cleaner.output.tail_au                    14149 non-null  float64\n",
      " 69  secondary_cleaner.state.floatbank2_a_air            13932 non-null  float64\n",
      " 70  secondary_cleaner.state.floatbank2_a_level          14148 non-null  float64\n",
      " 71  secondary_cleaner.state.floatbank2_b_air            14128 non-null  float64\n",
      " 72  secondary_cleaner.state.floatbank2_b_level          14148 non-null  float64\n",
      " 73  secondary_cleaner.state.floatbank3_a_air            14145 non-null  float64\n",
      " 74  secondary_cleaner.state.floatbank3_a_level          14148 non-null  float64\n",
      " 75  secondary_cleaner.state.floatbank3_b_air            14148 non-null  float64\n",
      " 76  secondary_cleaner.state.floatbank3_b_level          14148 non-null  float64\n",
      " 77  secondary_cleaner.state.floatbank4_a_air            14143 non-null  float64\n",
      " 78  secondary_cleaner.state.floatbank4_a_level          14148 non-null  float64\n",
      " 79  secondary_cleaner.state.floatbank4_b_air            14148 non-null  float64\n",
      " 80  secondary_cleaner.state.floatbank4_b_level          14148 non-null  float64\n",
      " 81  secondary_cleaner.state.floatbank5_a_air            14148 non-null  float64\n",
      " 82  secondary_cleaner.state.floatbank5_a_level          14148 non-null  float64\n",
      " 83  secondary_cleaner.state.floatbank5_b_air            14148 non-null  float64\n",
      " 84  secondary_cleaner.state.floatbank5_b_level          14148 non-null  float64\n",
      " 85  secondary_cleaner.state.floatbank6_a_air            14147 non-null  float64\n",
      " 86  secondary_cleaner.state.floatbank6_a_level          14148 non-null  float64\n",
      "dtypes: float64(86), object(1)\n",
      "memory usage: 9.4+ MB\n"
     ]
    },
    {
     "data": {
      "text/plain": [
       "None"
      ]
     },
     "metadata": {},
     "output_type": "display_data"
    }
   ],
   "source": [
    "display(data_train.info())"
   ]
  },
  {
   "cell_type": "code",
   "execution_count": 5,
   "metadata": {},
   "outputs": [
    {
     "name": "stdout",
     "output_type": "stream",
     "text": [
      "<class 'pandas.core.frame.DataFrame'>\n",
      "RangeIndex: 19439 entries, 0 to 19438\n",
      "Data columns (total 87 columns):\n",
      " #   Column                                              Non-Null Count  Dtype  \n",
      "---  ------                                              --------------  -----  \n",
      " 0   date                                                19439 non-null  object \n",
      " 1   final.output.concentrate_ag                         19438 non-null  float64\n",
      " 2   final.output.concentrate_pb                         19438 non-null  float64\n",
      " 3   final.output.concentrate_sol                        19228 non-null  float64\n",
      " 4   final.output.concentrate_au                         19439 non-null  float64\n",
      " 5   final.output.recovery                               19439 non-null  float64\n",
      " 6   final.output.tail_ag                                19438 non-null  float64\n",
      " 7   final.output.tail_pb                                19338 non-null  float64\n",
      " 8   final.output.tail_sol                               19433 non-null  float64\n",
      " 9   final.output.tail_au                                19439 non-null  float64\n",
      " 10  primary_cleaner.input.sulfate                       19415 non-null  float64\n",
      " 11  primary_cleaner.input.depressant                    19402 non-null  float64\n",
      " 12  primary_cleaner.input.feed_size                     19439 non-null  float64\n",
      " 13  primary_cleaner.input.xanthate                      19335 non-null  float64\n",
      " 14  primary_cleaner.output.concentrate_ag               19439 non-null  float64\n",
      " 15  primary_cleaner.output.concentrate_pb               19323 non-null  float64\n",
      " 16  primary_cleaner.output.concentrate_sol              19069 non-null  float64\n",
      " 17  primary_cleaner.output.concentrate_au               19439 non-null  float64\n",
      " 18  primary_cleaner.output.tail_ag                      19435 non-null  float64\n",
      " 19  primary_cleaner.output.tail_pb                      19418 non-null  float64\n",
      " 20  primary_cleaner.output.tail_sol                     19377 non-null  float64\n",
      " 21  primary_cleaner.output.tail_au                      19439 non-null  float64\n",
      " 22  primary_cleaner.state.floatbank8_a_air              19435 non-null  float64\n",
      " 23  primary_cleaner.state.floatbank8_a_level            19438 non-null  float64\n",
      " 24  primary_cleaner.state.floatbank8_b_air              19435 non-null  float64\n",
      " 25  primary_cleaner.state.floatbank8_b_level            19438 non-null  float64\n",
      " 26  primary_cleaner.state.floatbank8_c_air              19437 non-null  float64\n",
      " 27  primary_cleaner.state.floatbank8_c_level            19438 non-null  float64\n",
      " 28  primary_cleaner.state.floatbank8_d_air              19436 non-null  float64\n",
      " 29  primary_cleaner.state.floatbank8_d_level            19438 non-null  float64\n",
      " 30  rougher.calculation.sulfate_to_au_concentrate       19437 non-null  float64\n",
      " 31  rougher.calculation.floatbank10_sulfate_to_au_feed  19437 non-null  float64\n",
      " 32  rougher.calculation.floatbank11_sulfate_to_au_feed  19437 non-null  float64\n",
      " 33  rougher.calculation.au_pb_ratio                     19439 non-null  float64\n",
      " 34  rougher.input.feed_ag                               19439 non-null  float64\n",
      " 35  rougher.input.feed_pb                               19339 non-null  float64\n",
      " 36  rougher.input.feed_rate                             19428 non-null  float64\n",
      " 37  rougher.input.feed_size                             19294 non-null  float64\n",
      " 38  rougher.input.feed_sol                              19340 non-null  float64\n",
      " 39  rougher.input.feed_au                               19439 non-null  float64\n",
      " 40  rougher.input.floatbank10_sulfate                   19405 non-null  float64\n",
      " 41  rougher.input.floatbank10_xanthate                  19431 non-null  float64\n",
      " 42  rougher.input.floatbank11_sulfate                   19395 non-null  float64\n",
      " 43  rougher.input.floatbank11_xanthate                  18986 non-null  float64\n",
      " 44  rougher.output.concentrate_ag                       19439 non-null  float64\n",
      " 45  rougher.output.concentrate_pb                       19439 non-null  float64\n",
      " 46  rougher.output.concentrate_sol                      19416 non-null  float64\n",
      " 47  rougher.output.concentrate_au                       19439 non-null  float64\n",
      " 48  rougher.output.recovery                             19439 non-null  float64\n",
      " 49  rougher.output.tail_ag                              19438 non-null  float64\n",
      " 50  rougher.output.tail_pb                              19439 non-null  float64\n",
      " 51  rougher.output.tail_sol                             19439 non-null  float64\n",
      " 52  rougher.output.tail_au                              19439 non-null  float64\n",
      " 53  rougher.state.floatbank10_a_air                     19438 non-null  float64\n",
      " 54  rougher.state.floatbank10_a_level                   19438 non-null  float64\n",
      " 55  rougher.state.floatbank10_b_air                     19438 non-null  float64\n",
      " 56  rougher.state.floatbank10_b_level                   19438 non-null  float64\n",
      " 57  rougher.state.floatbank10_c_air                     19438 non-null  float64\n",
      " 58  rougher.state.floatbank10_c_level                   19438 non-null  float64\n",
      " 59  rougher.state.floatbank10_d_air                     19439 non-null  float64\n",
      " 60  rougher.state.floatbank10_d_level                   19439 non-null  float64\n",
      " 61  rougher.state.floatbank10_e_air                     19003 non-null  float64\n",
      " 62  rougher.state.floatbank10_e_level                   19439 non-null  float64\n",
      " 63  rougher.state.floatbank10_f_air                     19439 non-null  float64\n",
      " 64  rougher.state.floatbank10_f_level                   19439 non-null  float64\n",
      " 65  secondary_cleaner.output.tail_ag                    19437 non-null  float64\n",
      " 66  secondary_cleaner.output.tail_pb                    19427 non-null  float64\n",
      " 67  secondary_cleaner.output.tail_sol                   17691 non-null  float64\n",
      " 68  secondary_cleaner.output.tail_au                    19439 non-null  float64\n",
      " 69  secondary_cleaner.state.floatbank2_a_air            19219 non-null  float64\n",
      " 70  secondary_cleaner.state.floatbank2_a_level          19438 non-null  float64\n",
      " 71  secondary_cleaner.state.floatbank2_b_air            19416 non-null  float64\n",
      " 72  secondary_cleaner.state.floatbank2_b_level          19438 non-null  float64\n",
      " 73  secondary_cleaner.state.floatbank3_a_air            19426 non-null  float64\n",
      " 74  secondary_cleaner.state.floatbank3_a_level          19438 non-null  float64\n",
      " 75  secondary_cleaner.state.floatbank3_b_air            19438 non-null  float64\n",
      " 76  secondary_cleaner.state.floatbank3_b_level          19438 non-null  float64\n",
      " 77  secondary_cleaner.state.floatbank4_a_air            19433 non-null  float64\n",
      " 78  secondary_cleaner.state.floatbank4_a_level          19438 non-null  float64\n",
      " 79  secondary_cleaner.state.floatbank4_b_air            19438 non-null  float64\n",
      " 80  secondary_cleaner.state.floatbank4_b_level          19438 non-null  float64\n",
      " 81  secondary_cleaner.state.floatbank5_a_air            19438 non-null  float64\n",
      " 82  secondary_cleaner.state.floatbank5_a_level          19438 non-null  float64\n",
      " 83  secondary_cleaner.state.floatbank5_b_air            19438 non-null  float64\n",
      " 84  secondary_cleaner.state.floatbank5_b_level          19438 non-null  float64\n",
      " 85  secondary_cleaner.state.floatbank6_a_air            19437 non-null  float64\n",
      " 86  secondary_cleaner.state.floatbank6_a_level          19438 non-null  float64\n",
      "dtypes: float64(86), object(1)\n",
      "memory usage: 12.9+ MB\n"
     ]
    },
    {
     "data": {
      "text/plain": [
       "None"
      ]
     },
     "metadata": {},
     "output_type": "display_data"
    }
   ],
   "source": [
    "display(data_full.info())"
   ]
  },
  {
   "cell_type": "markdown",
   "metadata": {},
   "source": [
    "# Расчет эффективности обогощения "
   ]
  },
  {
   "cell_type": "code",
   "execution_count": 6,
   "metadata": {},
   "outputs": [],
   "source": [
    "def recovery(C, F, T):\n",
    "    recover = ((C*(F-T)) / (F*(C-T))) * 100\n",
    "    return recover "
   ]
  },
  {
   "cell_type": "code",
   "execution_count": 7,
   "metadata": {},
   "outputs": [],
   "source": [
    "C = data_train['rougher.output.concentrate_au']\n",
    "F = data_train['rougher.input.feed_au']\n",
    "T = data_train['rougher.output.tail_au']"
   ]
  },
  {
   "cell_type": "code",
   "execution_count": 8,
   "metadata": {},
   "outputs": [
    {
     "name": "stdout",
     "output_type": "stream",
     "text": [
      "Совпадающих значений: 14149\n",
      "Среднее значение эффективности по формуле: 82.70450164550293\n",
      "Среднеквадратичное отклонение MAE: 9.73512347450521e-15\n"
     ]
    }
   ],
   "source": [
    "# сравниваем расчет эффективности обогащения по формуле с данными в столбце rougher.output.recovery обучающей выборки\n",
    "recover = recovery(C, F, T)\n",
    "print(\"Совпадающих значений:\", sum(abs(data_train['rougher.output.recovery'] - recover) < 1))\n",
    "print(\"Среднее значение эффективности по формуле:\", recover.mean())\n",
    "print(\"Среднеквадратичное отклонение MAE:\", mean_absolute_error(data_train['rougher.output.recovery'], recover))    "
   ]
  },
  {
   "cell_type": "code",
   "execution_count": 9,
   "metadata": {},
   "outputs": [
    {
     "data": {
      "text/plain": [
       "0    87.107763\n",
       "1    86.843261\n",
       "2    86.842308\n",
       "3    87.226430\n",
       "4    86.688794\n",
       "Name: rougher.output.recovery, dtype: float64"
      ]
     },
     "execution_count": 9,
     "metadata": {},
     "output_type": "execute_result"
    }
   ],
   "source": [
    "data_train['rougher.output.recovery'].head()"
   ]
  },
  {
   "cell_type": "markdown",
   "metadata": {},
   "source": [
    "Вывод: данные в таблице совпадают с рассчетами по формуле, среднеквадратичное отклонение незначительно, данные по эффективности обогащения в обучающей выборке корректны"
   ]
  },
  {
   "cell_type": "code",
   "execution_count": 10,
   "metadata": {},
   "outputs": [],
   "source": [
    "# отсутсвующие колонки в тестовой выборке \n",
    "missing_columns = list(set(data_train.columns) - set(data_test.columns)) "
   ]
  },
  {
   "cell_type": "code",
   "execution_count": 11,
   "metadata": {},
   "outputs": [
    {
     "data": {
      "text/plain": [
       "['primary_cleaner.output.concentrate_au',\n",
       " 'rougher.output.concentrate_au',\n",
       " 'secondary_cleaner.output.tail_pb',\n",
       " 'primary_cleaner.output.concentrate_ag',\n",
       " 'primary_cleaner.output.tail_au',\n",
       " 'rougher.output.tail_pb',\n",
       " 'final.output.concentrate_sol',\n",
       " 'rougher.output.concentrate_pb',\n",
       " 'rougher.output.tail_ag',\n",
       " 'rougher.output.tail_sol',\n",
       " 'rougher.calculation.floatbank10_sulfate_to_au_feed',\n",
       " 'final.output.concentrate_au',\n",
       " 'rougher.calculation.sulfate_to_au_concentrate',\n",
       " 'primary_cleaner.output.tail_sol',\n",
       " 'final.output.concentrate_ag',\n",
       " 'rougher.output.concentrate_ag',\n",
       " 'primary_cleaner.output.concentrate_pb',\n",
       " 'final.output.tail_ag',\n",
       " 'primary_cleaner.output.tail_pb',\n",
       " 'rougher.calculation.floatbank11_sulfate_to_au_feed',\n",
       " 'rougher.output.tail_au',\n",
       " 'final.output.tail_pb',\n",
       " 'final.output.tail_au',\n",
       " 'rougher.output.recovery',\n",
       " 'secondary_cleaner.output.tail_ag',\n",
       " 'secondary_cleaner.output.tail_sol',\n",
       " 'final.output.recovery',\n",
       " 'secondary_cleaner.output.tail_au',\n",
       " 'final.output.concentrate_pb',\n",
       " 'primary_cleaner.output.tail_ag',\n",
       " 'final.output.tail_sol',\n",
       " 'primary_cleaner.output.concentrate_sol',\n",
       " 'rougher.output.concentrate_sol',\n",
       " 'rougher.calculation.au_pb_ratio']"
      ]
     },
     "execution_count": 11,
     "metadata": {},
     "output_type": "execute_result"
    }
   ],
   "source": [
    "missing_columns"
   ]
  },
  {
   "cell_type": "markdown",
   "metadata": {},
   "source": [
    "Вывод: в тестовой выборке отсутствуют данные по результатам этапов обработки "
   ]
  },
  {
   "cell_type": "markdown",
   "metadata": {},
   "source": [
    "# Предобработка данных"
   ]
  },
  {
   "cell_type": "code",
   "execution_count": 12,
   "metadata": {},
   "outputs": [],
   "source": [
    "# получаем информацию по данным из трех сетов\n",
    "def data(data):\n",
    "    print(f\"Shape:      {data.shape}\")\n",
    "    print(\"Na's:      \",   data.isna().sum().sum())\n",
    "    print(\"duplicates: \", data.duplicated().sum()) "
   ]
  },
  {
   "cell_type": "code",
   "execution_count": 13,
   "metadata": {},
   "outputs": [
    {
     "name": "stdout",
     "output_type": "stream",
     "text": [
      "Shape:      (14149, 87)\n",
      "Na's:       4100\n",
      "duplicates:  0\n"
     ]
    }
   ],
   "source": [
    "data(data_train)"
   ]
  },
  {
   "cell_type": "code",
   "execution_count": 14,
   "metadata": {},
   "outputs": [
    {
     "name": "stdout",
     "output_type": "stream",
     "text": [
      "Shape:      (5290, 53)\n",
      "Na's:       90\n",
      "duplicates:  0\n"
     ]
    }
   ],
   "source": [
    "data(data_test)"
   ]
  },
  {
   "cell_type": "code",
   "execution_count": 15,
   "metadata": {},
   "outputs": [
    {
     "name": "stdout",
     "output_type": "stream",
     "text": [
      "Shape:      (19439, 87)\n",
      "Na's:       4481\n",
      "duplicates:  0\n"
     ]
    }
   ],
   "source": [
    "data(data_full)"
   ]
  },
  {
   "cell_type": "markdown",
   "metadata": {},
   "source": [
    "## Анализ данных"
   ]
  },
  {
   "cell_type": "markdown",
   "metadata": {},
   "source": [
    "### Находим изменение концентрации металлов на различных этапах очистки "
   ]
  },
  {
   "cell_type": "code",
   "execution_count": 16,
   "metadata": {},
   "outputs": [
    {
     "data": {
      "image/png": "[encoded data removed]",
      "text/plain": [
       "<Figure size 980x420 with 1 Axes>"
      ]
     },
     "metadata": {
      "needs_background": "light"
     },
     "output_type": "display_data"
    }
   ],
   "source": [
    "# находим изменеие концентрации золота  \n",
    "gold= ['rougher.input.feed_au', 'rougher.output.concentrate_au', 'primary_cleaner.output.concentrate_au', 'final.output.concentrate_au']\n",
    "\n",
    "plt.figure(figsize=(14,6), dpi= 70)\n",
    "plt.title('Изменение концентрации золота на различных этапах очистки', fontsize=20)\n",
    "plt.ylim(0, 70)\n",
    "data_train.boxplot(column = gold)\n",
    "plt.show()"
   ]
  },
  {
   "cell_type": "code",
   "execution_count": 17,
   "metadata": {},
   "outputs": [
    {
     "data": {
      "image/png": "[encoded data removed]",
      "text/plain": [
       "<Figure size 980x420 with 1 Axes>"
      ]
     },
     "metadata": {
      "needs_background": "light"
     },
     "output_type": "display_data"
    }
   ],
   "source": [
    "# находим изменеие концентрации серебра \n",
    "silver= ['rougher.input.feed_ag', 'rougher.output.concentrate_ag', 'primary_cleaner.output.concentrate_ag', \n",
    "       'final.output.concentrate_ag']\n",
    "\n",
    "plt.figure(figsize=(14,6), dpi= 70)\n",
    "plt.title('Изменение концентрации серебра на различных этапах очистки', fontsize=20)\n",
    "plt.ylim(0, 30)\n",
    "data_train.boxplot(column = silver)\n",
    "plt.show()"
   ]
  },
  {
   "cell_type": "code",
   "execution_count": 18,
   "metadata": {},
   "outputs": [
    {
     "data": {
      "image/png": "[encoded data removed]",
      "text/plain": [
       "<Figure size 980x420 with 1 Axes>"
      ]
     },
     "metadata": {
      "needs_background": "light"
     },
     "output_type": "display_data"
    }
   ],
   "source": [
    "# находим изменеие концентрации свинца \n",
    "lead = ['rougher.input.feed_pb', 'rougher.output.concentrate_pb', 'primary_cleaner.output.concentrate_pb', \n",
    "       'final.output.concentrate_pb']\n",
    "\n",
    "plt.figure(figsize=(14,6), dpi= 70)\n",
    "plt.title('Изменение концентрации свинца на различных этапах очистки', fontsize=20)\n",
    "plt.ylim(0, 20)\n",
    "data_train.boxplot(column = lead)\n",
    "plt.show()"
   ]
  },
  {
   "cell_type": "markdown",
   "metadata": {},
   "source": [
    "Вывод:\n",
    "\n",
    "- концентрация золота повышается на каждом этапе очистки  \n",
    "- концентрация серебра снижается  \n",
    "- концентрация свинца повышается, но в меньшей степени чем золото \n",
    "- по всем позициям наблюдается снижения разброса значений, есть заметные выбросы и нулевые значения  "
   ]
  },
  {
   "cell_type": "markdown",
   "metadata": {},
   "source": [
    "### Сравниваем распределение размеров гранул сырья на обучающей и тестовой выборках "
   ]
  },
  {
   "cell_type": "code",
   "execution_count": 19,
   "metadata": {},
   "outputs": [
    {
     "data": {
      "image/png": "[encoded data removed]",
      "text/plain": [
       "<Figure size 1080x360 with 1 Axes>"
      ]
     },
     "metadata": {
      "needs_background": "light"
     },
     "output_type": "display_data"
    }
   ],
   "source": [
    "a = data_train['rougher.input.feed_size']\n",
    "b = data_test['rougher.input.feed_size']\n",
    "plt.figure(figsize=(18,6), dpi= 60)\n",
    "sns.kdeplot(a, shade=True, color=\"g\", label=\"train\", alpha=.7)\n",
    "sns.kdeplot(b, shade=True, color=\"dodgerblue\", label=\"test\", alpha=.7)\n",
    "\n",
    "plt.title('Гистограмма плотности рапределения размеров гранул сырья на обучающей и тестовой выборках', fontsize=22)\n",
    "plt.legend()\n",
    "plt.show()"
   ]
  },
  {
   "cell_type": "markdown",
   "metadata": {},
   "source": [
    "Вывод:\n",
    "\n",
    "- распределение размеров гранул, а точнее их средних значений распределения на обучающей и тестовой выборках приблизительно равны  "
   ]
  },
  {
   "cell_type": "code",
   "execution_count": 20,
   "metadata": {},
   "outputs": [
    {
     "data": {
      "image/png": "[encoded data removed]",
      "text/plain": [
       "<Figure size 1080x360 with 1 Axes>"
      ]
     },
     "metadata": {
      "needs_background": "light"
     },
     "output_type": "display_data"
    }
   ],
   "source": [
    "a = data_train['primary_cleaner.input.feed_size']\n",
    "b = data_test['primary_cleaner.input.feed_size']\n",
    "plt.figure(figsize=(18,6), dpi= 60)\n",
    "sns.kdeplot(a, shade=True, color=\"g\", label=\"train\", alpha=.7)\n",
    "sns.kdeplot(b, shade=True, color=\"dodgerblue\", label=\"test\", alpha=.7)\n",
    "\n",
    "plt.title('Гистограмма плотности рапределения размеров гранул сырья на этапе первичной очистки', fontsize=22)\n",
    "plt.legend()\n",
    "plt.show()"
   ]
  },
  {
   "cell_type": "markdown",
   "metadata": {},
   "source": [
    "Вывод:\n",
    "\n",
    "- распределение размеров гранул, а точнее их средних значений распределения на обучающей и тестовой выборках на этапе первичной очистки также приблизительно равны  "
   ]
  },
  {
   "cell_type": "markdown",
   "metadata": {},
   "source": [
    "# Исследуем суммарную концентрацию всех веществ на разных стадиях: в сырье, в черновом и финальном концентратах.\n"
   ]
  },
  {
   "cell_type": "code",
   "execution_count": 21,
   "metadata": {},
   "outputs": [],
   "source": [
    "# суммируем данные по этапам переработки \n",
    "\n",
    "total_concentrate = pd.DataFrame()\n",
    "\n",
    "total_concentrate['сырье'] = data_train[['rougher.input.feed_au', 'rougher.input.feed_ag',\n",
    "                              'rougher.input.feed_pb']].sum(axis=1)\n",
    "total_concentrate['черновой концентрат'] = data_train[['rougher.output.concentrate_au', \n",
    "                                            'rougher.output.concentrate_ag', \n",
    "                                            'rougher.output.concentrate_pb']].sum(axis=1)\n",
    "total_concentrate['концентрат после очистки'] = data_train[['primary_cleaner.output.concentrate_au', \n",
    "                                                 'primary_cleaner.output.concentrate_ag', \n",
    "                                                 'primary_cleaner.output.concentrate_pb']].sum(axis=1)\n",
    "total_concentrate['финальный концентрат'] = data_train[['final.output.concentrate_au', \n",
    "                                             'final.output.concentrate_ag', \n",
    "                                             'final.output.concentrate_pb']].sum(axis=1)\n",
    "\n",
    "a1 = total_concentrate['сырье']\n",
    "b1 = total_concentrate['черновой концентрат']\n",
    "c1 = total_concentrate['концентрат после очистки']\n",
    "d1 = total_concentrate['финальный концентрат'] "
   ]
  },
  {
   "cell_type": "code",
   "execution_count": 22,
   "metadata": {},
   "outputs": [
    {
     "data": {
      "image/png": "[encoded data removed]",
      "text/plain": [
       "<Figure size 1080x600 with 1 Axes>"
      ]
     },
     "metadata": {
      "needs_background": "light"
     },
     "output_type": "display_data"
    }
   ],
   "source": [
    "# визуализируем данные с помощью гистограммы распределения \n",
    "plt.figure(figsize=(18,10), dpi= 60)\n",
    "sns.kdeplot(a1, shade=True, color=\"g\", label=\"сырье\", alpha=.7)\n",
    "sns.kdeplot(b1, shade=True, color=\"deeppink\", label=\"черновой концентрат\", alpha=.7)\n",
    "sns.kdeplot(c1, shade=True, color=\"dodgerblue\", label=\"концентрат после очистки\", alpha=.7)\n",
    "sns.kdeplot(d1, shade=True, color=\"orange\", label=\"финальный концентрат\", alpha=.7)\n",
    "\n",
    "\n",
    "plt.title('Суммарная концентрация металлов на разных стадиях', fontsize=22)\n",
    "plt.legend()\n",
    "plt.show()"
   ]
  },
  {
   "cell_type": "code",
   "execution_count": 23,
   "metadata": {},
   "outputs": [
    {
     "data": {
      "image/png": "[encoded data removed]",
      "text/plain": [
       "<Figure size 1152x576 with 1 Axes>"
      ]
     },
     "metadata": {
      "needs_background": "light"
     },
     "output_type": "display_data"
    }
   ],
   "source": [
    "# дополнительно постороим диаграмму размаха для оценки плотности распределения и визуализации данных\n",
    "\n",
    "plt.figure(figsize=(16, 8))\n",
    "total_concentrate.boxplot(column=['сырье', 'черновой концентрат', 'концентрат после очистки', 'финальный концентрат' ])\n",
    "\n",
    "plt.title('Суммарная концентрация металлов - диаграмма размаха', fontsize=24)\n",
    "plt.show()"
   ]
  },
  {
   "cell_type": "markdown",
   "metadata": {},
   "source": [
    "Вывод:\n",
    "- распределения сильно скошены влево  \n",
    "- в данных много выбросов, также есть значительное количество нулевых значений по всем позициям, которые необходимо удалить из тренировочной выборки, чтобы модель обучалась на корректных данных "
   ]
  },
  {
   "cell_type": "code",
   "execution_count": 24,
   "metadata": {},
   "outputs": [],
   "source": [
    "# удаляем прпуски в значениях NaN  \n",
    "data_train = data_train.dropna()\n",
    "data_test = data_test.dropna()"
   ]
  },
  {
   "cell_type": "code",
   "execution_count": 25,
   "metadata": {},
   "outputs": [],
   "source": [
    "# удаляем аномальные значения (нули) из тренировочной выборки\n",
    "for feature in [\n",
    "    'rougher.input.feed_au', 'rougher.input.feed_ag', 'rougher.input.feed_pb',\n",
    "    'rougher.output.concentrate_au', 'rougher.output.concentrate_ag', 'rougher.output.concentrate_pb',\n",
    "    'primary_cleaner.output.concentrate_au', 'primary_cleaner.output.concentrate_ag', 'primary_cleaner.output.concentrate_pb',\n",
    "    'final.output.concentrate_au', 'final.output.concentrate_ag', 'final.output.concentrate_pb'\n",
    "]:\n",
    "    data_train = data_train[data_train[feature] > 0]"
   ]
  },
  {
   "cell_type": "code",
   "execution_count": 26,
   "metadata": {},
   "outputs": [
    {
     "data": {
      "image/png": "[encoded data removed]",
      "text/plain": [
       "<Figure size 1080x600 with 1 Axes>"
      ]
     },
     "metadata": {
      "needs_background": "light"
     },
     "output_type": "display_data"
    }
   ],
   "source": [
    "# суммируем данные по этапам переработки \n",
    "\n",
    "total_concentrate = pd.DataFrame()\n",
    "\n",
    "total_concentrate['сырье'] = data_train[['rougher.input.feed_au', 'rougher.input.feed_ag',\n",
    "                              'rougher.input.feed_pb']].sum(axis=1)\n",
    "total_concentrate['черновой концентрат'] = data_train[['rougher.output.concentrate_au', \n",
    "                                            'rougher.output.concentrate_ag', \n",
    "                                            'rougher.output.concentrate_pb']].sum(axis=1)\n",
    "total_concentrate['концентрат после очистки'] = data_train[['primary_cleaner.output.concentrate_au', \n",
    "                                                 'primary_cleaner.output.concentrate_ag', \n",
    "                                                 'primary_cleaner.output.concentrate_pb']].sum(axis=1)\n",
    "total_concentrate['финальный концентрат'] = data_train[['final.output.concentrate_au', \n",
    "                                             'final.output.concentrate_ag', \n",
    "                                             'final.output.concentrate_pb']].sum(axis=1)\n",
    "\n",
    "a1 = total_concentrate['сырье']\n",
    "b1 = total_concentrate['черновой концентрат']\n",
    "c1 = total_concentrate['концентрат после очистки']\n",
    "d1 = total_concentrate['финальный концентрат'] \n",
    "\n",
    "# визуализируем данные с помощью гистограммы распределения \n",
    "plt.figure(figsize=(18,10), dpi= 60)\n",
    "sns.kdeplot(a1, shade=True, color=\"g\", label=\"сырье\", alpha=.7)\n",
    "sns.kdeplot(b1, shade=True, color=\"deeppink\", label=\"черновой концентрат\", alpha=.7)\n",
    "sns.kdeplot(c1, shade=True, color=\"dodgerblue\", label=\"концентрат после очистки\", alpha=.7)\n",
    "sns.kdeplot(d1, shade=True, color=\"orange\", label=\"финальный концентрат\", alpha=.7)\n",
    "\n",
    "\n",
    "plt.title('Суммарная концентрация металлов на разных стадиях', fontsize=22)\n",
    "plt.legend()\n",
    "plt.show()"
   ]
  },
  {
   "cell_type": "code",
   "execution_count": 27,
   "metadata": {},
   "outputs": [
    {
     "data": {
      "image/png": "[encoded data removed]",
      "text/plain": [
       "<Figure size 1152x576 with 1 Axes>"
      ]
     },
     "metadata": {
      "needs_background": "light"
     },
     "output_type": "display_data"
    }
   ],
   "source": [
    "# дополнительно постороим диаграмму размаха для оценки плотности распределения и визуализации данных\n",
    "\n",
    "plt.figure(figsize=(16, 8))\n",
    "total_concentrate.boxplot(column=['сырье', 'черновой концентрат', 'концентрат после очистки', 'финальный концентрат' ])\n",
    "\n",
    "plt.title('Суммарная концентрация металлов - диаграмма размаха', fontsize=24)\n",
    "plt.show()"
   ]
  },
  {
   "cell_type": "markdown",
   "metadata": {},
   "source": [
    "Данные очищены от аномальных значений."
   ]
  },
  {
   "cell_type": "code",
   "execution_count": 29,
   "metadata": {},
   "outputs": [],
   "source": [
    "# удаляем лишние столбцы из обучающих данных\n",
    "data_train.drop(missing_columns, axis=1, inplace=True)"
   ]
  },
  {
   "cell_type": "markdown",
   "metadata": {},
   "source": [
    "## Модель"
   ]
  },
  {
   "cell_type": "markdown",
   "metadata": {},
   "source": [
    "### Пишем функцию для вычисления итоговой sMAPE"
   ]
  },
  {
   "cell_type": "code",
   "execution_count": 31,
   "metadata": {},
   "outputs": [],
   "source": [
    "# строим функцию для метрики качества sMAPE и итоговой  \n",
    "def calculate_smape(target_actual, target_predictions):\n",
    "    numerator = np.abs(target_actual - target_predictions)\n",
    "    denominator = (np.abs(target_actual) + np.abs(target_predictions)) / 2 \n",
    "    \n",
    "    return 1 / len(target_actual) * np.sum(numerator / denominator) * 100 \n",
    "    \n",
    "    \n",
    "def calculate_final_smape(target_actual, target_predictions):\n",
    "    target_actual_rougher = target_actual['rougher.output.recovery']\n",
    "    target_actual_final = target_actual['final.output.recovery']\n",
    "    \n",
    "    target_predictions_rougher = target_predictions[:, 0]\n",
    "    target_predictions_final = target_predictions[:, 1]\n",
    "    \n",
    "    return 0.25 * calculate_smape(target_actual_rougher, target_predictions_rougher) \\\n",
    "        + 0.75 * calculate_smape(target_actual_rougher, target_predictions_rougher)"
   ]
  },
  {
   "cell_type": "code",
   "execution_count": 32,
   "metadata": {},
   "outputs": [],
   "source": [
    "# создаем scorer для использования его при кросс валидации \n",
    "smape_scorer = make_scorer(calculate_final_smape, greater_is_better=False)"
   ]
  },
  {
   "cell_type": "code",
   "execution_count": 33,
   "metadata": {},
   "outputs": [],
   "source": [
    "# объединяем обучающую и тестовую таблицу с общим файлом \n",
    "train = data_train.merge(data_full[['date', 'rougher.output.recovery', 'final.output.recovery']], \n",
    "                           how = 'left', on = 'date')\n",
    "# Добавим целевые признаки из общего файла в тестовый \n",
    "test = data_test.merge(data_full[['date', 'rougher.output.recovery', 'final.output.recovery']], \n",
    "                           how = 'left', on = 'date')"
   ]
  },
  {
   "cell_type": "code",
   "execution_count": 34,
   "metadata": {},
   "outputs": [],
   "source": [
    "# удаляем прпуски в значениях NaN  \n",
    "train = train.dropna()\n",
    "test = test.dropna()"
   ]
  },
  {
   "cell_type": "markdown",
   "metadata": {},
   "source": [
    "### Обучаем различные модели, оцениваем их качество - выбираем лучшую и прверяем ее на тестовой выборке"
   ]
  },
  {
   "cell_type": "code",
   "execution_count": 35,
   "metadata": {},
   "outputs": [],
   "source": [
    "# находим обучающий и целевой признаки для обучающей и тестовой выборкам \n",
    "features_train = train.drop(['rougher.output.recovery', 'final.output.recovery', 'date'], axis= 'columns')\n",
    "target_train = train[['rougher.output.recovery', 'final.output.recovery']]\n",
    "\n",
    "features_test = test.drop(columns=['rougher.output.recovery', 'final.output.recovery', 'date'], axis =0)\n",
    "target_test = test[['rougher.output.recovery', 'final.output.recovery']]"
   ]
  },
  {
   "cell_type": "code",
   "execution_count": 36,
   "metadata": {},
   "outputs": [],
   "source": [
    "# масштабируем данные \n",
    "scaler = MinMaxScaler()\n",
    "features_train = scaler.fit_transform(features_train)\n",
    "features_test = scaler.transform(features_test)"
   ]
  },
  {
   "cell_type": "code",
   "execution_count": 37,
   "metadata": {},
   "outputs": [
    {
     "name": "stdout",
     "output_type": "stream",
     "text": [
      "Fitting 3 folds for each of 18 candidates, totalling 54 fits\n",
      "[CV 1/3; 1/18] START max_depth=2, min_samples_split=1...........................\n",
      "[CV 1/3; 1/18] END .........max_depth=2, min_samples_split=1; total time=   0.0s\n",
      "[CV 2/3; 1/18] START max_depth=2, min_samples_split=1...........................\n",
      "[CV 2/3; 1/18] END .........max_depth=2, min_samples_split=1; total time=   0.1s\n",
      "[CV 3/3; 1/18] START max_depth=2, min_samples_split=1...........................\n",
      "[CV 3/3; 1/18] END .........max_depth=2, min_samples_split=1; total time=   0.0s\n",
      "[CV 1/3; 2/18] START max_depth=2, min_samples_split=3...........................\n",
      "[CV 1/3; 2/18] END .........max_depth=2, min_samples_split=3; total time=   0.1s\n",
      "[CV 2/3; 2/18] START max_depth=2, min_samples_split=3...........................\n",
      "[CV 2/3; 2/18] END .........max_depth=2, min_samples_split=3; total time=   0.2s\n",
      "[CV 3/3; 2/18] START max_depth=2, min_samples_split=3...........................\n",
      "[CV 3/3; 2/18] END .........max_depth=2, min_samples_split=3; total time=   0.1s\n",
      "[CV 1/3; 3/18] START max_depth=3, min_samples_split=1...........................\n",
      "[CV 1/3; 3/18] END .........max_depth=3, min_samples_split=1; total time=   0.1s\n",
      "[CV 2/3; 3/18] START max_depth=3, min_samples_split=1...........................\n",
      "[CV 2/3; 3/18] END .........max_depth=3, min_samples_split=1; total time=   0.0s\n",
      "[CV 3/3; 3/18] START max_depth=3, min_samples_split=1...........................\n",
      "[CV 3/3; 3/18] END .........max_depth=3, min_samples_split=1; total time=   0.0s\n",
      "[CV 1/3; 4/18] START max_depth=3, min_samples_split=3...........................\n",
      "[CV 1/3; 4/18] END .........max_depth=3, min_samples_split=3; total time=   0.2s\n",
      "[CV 2/3; 4/18] START max_depth=3, min_samples_split=3...........................\n",
      "[CV 2/3; 4/18] END .........max_depth=3, min_samples_split=3; total time=   0.2s\n",
      "[CV 3/3; 4/18] START max_depth=3, min_samples_split=3...........................\n",
      "[CV 3/3; 4/18] END .........max_depth=3, min_samples_split=3; total time=   0.3s\n",
      "[CV 1/3; 5/18] START max_depth=4, min_samples_split=1...........................\n",
      "[CV 1/3; 5/18] END .........max_depth=4, min_samples_split=1; total time=   0.0s\n",
      "[CV 2/3; 5/18] START max_depth=4, min_samples_split=1...........................\n",
      "[CV 2/3; 5/18] END .........max_depth=4, min_samples_split=1; total time=   0.0s\n",
      "[CV 3/3; 5/18] START max_depth=4, min_samples_split=1...........................\n",
      "[CV 3/3; 5/18] END .........max_depth=4, min_samples_split=1; total time=   0.0s\n",
      "[CV 1/3; 6/18] START max_depth=4, min_samples_split=3...........................\n",
      "[CV 1/3; 6/18] END .........max_depth=4, min_samples_split=3; total time=   0.3s\n",
      "[CV 2/3; 6/18] START max_depth=4, min_samples_split=3...........................\n",
      "[CV 2/3; 6/18] END .........max_depth=4, min_samples_split=3; total time=   0.3s\n",
      "[CV 3/3; 6/18] START max_depth=4, min_samples_split=3...........................\n",
      "[CV 3/3; 6/18] END .........max_depth=4, min_samples_split=3; total time=   0.3s\n",
      "[CV 1/3; 7/18] START max_depth=5, min_samples_split=1...........................\n",
      "[CV 1/3; 7/18] END .........max_depth=5, min_samples_split=1; total time=   0.0s\n",
      "[CV 2/3; 7/18] START max_depth=5, min_samples_split=1...........................\n",
      "[CV 2/3; 7/18] END .........max_depth=5, min_samples_split=1; total time=   0.0s\n",
      "[CV 3/3; 7/18] START max_depth=5, min_samples_split=1...........................\n",
      "[CV 3/3; 7/18] END .........max_depth=5, min_samples_split=1; total time=   0.0s\n",
      "[CV 1/3; 8/18] START max_depth=5, min_samples_split=3...........................\n",
      "[CV 1/3; 8/18] END .........max_depth=5, min_samples_split=3; total time=   0.3s\n",
      "[CV 2/3; 8/18] START max_depth=5, min_samples_split=3...........................\n",
      "[CV 2/3; 8/18] END .........max_depth=5, min_samples_split=3; total time=   0.4s\n",
      "[CV 3/3; 8/18] START max_depth=5, min_samples_split=3...........................\n",
      "[CV 3/3; 8/18] END .........max_depth=5, min_samples_split=3; total time=   0.3s\n",
      "[CV 1/3; 9/18] START max_depth=6, min_samples_split=1...........................\n",
      "[CV 1/3; 9/18] END .........max_depth=6, min_samples_split=1; total time=   0.0s\n",
      "[CV 2/3; 9/18] START max_depth=6, min_samples_split=1...........................\n",
      "[CV 2/3; 9/18] END .........max_depth=6, min_samples_split=1; total time=   0.0s\n",
      "[CV 3/3; 9/18] START max_depth=6, min_samples_split=1...........................\n",
      "[CV 3/3; 9/18] END .........max_depth=6, min_samples_split=1; total time=   0.0s\n",
      "[CV 1/3; 10/18] START max_depth=6, min_samples_split=3..........................\n",
      "[CV 1/3; 10/18] END ........max_depth=6, min_samples_split=3; total time=   0.4s\n",
      "[CV 2/3; 10/18] START max_depth=6, min_samples_split=3..........................\n",
      "[CV 2/3; 10/18] END ........max_depth=6, min_samples_split=3; total time=   0.4s\n",
      "[CV 3/3; 10/18] START max_depth=6, min_samples_split=3..........................\n",
      "[CV 3/3; 10/18] END ........max_depth=6, min_samples_split=3; total time=   0.4s\n",
      "[CV 1/3; 11/18] START max_depth=7, min_samples_split=1..........................\n",
      "[CV 1/3; 11/18] END ........max_depth=7, min_samples_split=1; total time=   0.0s\n",
      "[CV 2/3; 11/18] START max_depth=7, min_samples_split=1..........................\n",
      "[CV 2/3; 11/18] END ........max_depth=7, min_samples_split=1; total time=   0.1s\n",
      "[CV 3/3; 11/18] START max_depth=7, min_samples_split=1..........................\n",
      "[CV 3/3; 11/18] END ........max_depth=7, min_samples_split=1; total time=   0.0s\n",
      "[CV 1/3; 12/18] START max_depth=7, min_samples_split=3..........................\n",
      "[CV 1/3; 12/18] END ........max_depth=7, min_samples_split=3; total time=   0.5s\n",
      "[CV 2/3; 12/18] START max_depth=7, min_samples_split=3..........................\n",
      "[CV 2/3; 12/18] END ........max_depth=7, min_samples_split=3; total time=   0.5s\n",
      "[CV 3/3; 12/18] START max_depth=7, min_samples_split=3..........................\n",
      "[CV 3/3; 12/18] END ........max_depth=7, min_samples_split=3; total time=   0.4s\n",
      "[CV 1/3; 13/18] START max_depth=8, min_samples_split=1..........................\n",
      "[CV 1/3; 13/18] END ........max_depth=8, min_samples_split=1; total time=   0.0s\n",
      "[CV 2/3; 13/18] START max_depth=8, min_samples_split=1..........................\n",
      "[CV 2/3; 13/18] END ........max_depth=8, min_samples_split=1; total time=   0.1s\n",
      "[CV 3/3; 13/18] START max_depth=8, min_samples_split=1..........................\n",
      "[CV 3/3; 13/18] END ........max_depth=8, min_samples_split=1; total time=   0.0s\n",
      "[CV 1/3; 14/18] START max_depth=8, min_samples_split=3..........................\n",
      "[CV 1/3; 14/18] END ........max_depth=8, min_samples_split=3; total time=   0.5s\n",
      "[CV 2/3; 14/18] START max_depth=8, min_samples_split=3..........................\n",
      "[CV 2/3; 14/18] END ........max_depth=8, min_samples_split=3; total time=   0.5s\n",
      "[CV 3/3; 14/18] START max_depth=8, min_samples_split=3..........................\n",
      "[CV 3/3; 14/18] END ........max_depth=8, min_samples_split=3; total time=   0.4s\n",
      "[CV 1/3; 15/18] START max_depth=9, min_samples_split=1..........................\n",
      "[CV 1/3; 15/18] END ........max_depth=9, min_samples_split=1; total time=   0.0s\n",
      "[CV 2/3; 15/18] START max_depth=9, min_samples_split=1..........................\n",
      "[CV 2/3; 15/18] END ........max_depth=9, min_samples_split=1; total time=   0.0s\n",
      "[CV 3/3; 15/18] START max_depth=9, min_samples_split=1..........................\n",
      "[CV 3/3; 15/18] END ........max_depth=9, min_samples_split=1; total time=   0.0s\n",
      "[CV 1/3; 16/18] START max_depth=9, min_samples_split=3..........................\n",
      "[CV 1/3; 16/18] END ........max_depth=9, min_samples_split=3; total time=   0.3s\n",
      "[CV 2/3; 16/18] START max_depth=9, min_samples_split=3..........................\n",
      "[CV 2/3; 16/18] END ........max_depth=9, min_samples_split=3; total time=   0.5s\n",
      "[CV 3/3; 16/18] START max_depth=9, min_samples_split=3..........................\n",
      "[CV 3/3; 16/18] END ........max_depth=9, min_samples_split=3; total time=   0.6s\n",
      "[CV 1/3; 17/18] START max_depth=10, min_samples_split=1.........................\n",
      "[CV 1/3; 17/18] END .......max_depth=10, min_samples_split=1; total time=   0.0s\n",
      "[CV 2/3; 17/18] START max_depth=10, min_samples_split=1.........................\n",
      "[CV 2/3; 17/18] END .......max_depth=10, min_samples_split=1; total time=   0.0s\n",
      "[CV 3/3; 17/18] START max_depth=10, min_samples_split=1.........................\n",
      "[CV 3/3; 17/18] END .......max_depth=10, min_samples_split=1; total time=   0.0s\n",
      "[CV 1/3; 18/18] START max_depth=10, min_samples_split=3.........................\n",
      "[CV 1/3; 18/18] END .......max_depth=10, min_samples_split=3; total time=   0.6s\n",
      "[CV 2/3; 18/18] START max_depth=10, min_samples_split=3.........................\n",
      "[CV 2/3; 18/18] END .......max_depth=10, min_samples_split=3; total time=   0.6s\n",
      "[CV 3/3; 18/18] START max_depth=10, min_samples_split=3.........................\n",
      "[CV 3/3; 18/18] END .......max_depth=10, min_samples_split=3; total time=   0.7s\n",
      "Лучшее значение sMAPE для дерева решений: 7.142556398575792 при значениях гиперпараметров: {'max_depth': 2, 'min_samples_split': 3}\n"
     ]
    }
   ],
   "source": [
    "# Обучаем модель Дерево решений и находим реузльтат метрики качества \n",
    "param_grid = {'max_depth': range(2, 11), 'min_samples_split': range(1,4,2)}\n",
    "model = DecisionTreeRegressor(random_state=12345)\n",
    "search = GridSearchCV(model, param_grid, cv=3, scoring=smape_scorer, verbose=10)\n",
    "search.fit(features_train, target_train)\n",
    "print('Лучшее значение sMAPE для дерева решений: {} при значениях гиперпараметров: {}'.format(-search.best_score_, search.best_params_))\n"
   ]
  },
  {
   "cell_type": "code",
   "execution_count": 38,
   "metadata": {
    "scrolled": true
   },
   "outputs": [
    {
     "name": "stdout",
     "output_type": "stream",
     "text": [
      "Fitting 3 folds for each of 110 candidates, totalling 330 fits\n",
      "[CV 1/3; 1/110] START max_depth=4, n_estimators=10..............................\n",
      "[CV 1/3; 1/110] END ............max_depth=4, n_estimators=10; total time=   1.8s\n",
      "[CV 2/3; 1/110] START max_depth=4, n_estimators=10..............................\n",
      "[CV 2/3; 1/110] END ............max_depth=4, n_estimators=10; total time=   1.8s\n",
      "[CV 3/3; 1/110] START max_depth=4, n_estimators=10..............................\n",
      "[CV 3/3; 1/110] END ............max_depth=4, n_estimators=10; total time=   1.9s\n",
      "[CV 1/3; 2/110] START max_depth=4, n_estimators=20..............................\n",
      "[CV 1/3; 2/110] END ............max_depth=4, n_estimators=20; total time=   3.7s\n",
      "[CV 2/3; 2/110] START max_depth=4, n_estimators=20..............................\n",
      "[CV 2/3; 2/110] END ............max_depth=4, n_estimators=20; total time=   3.5s\n",
      "[CV 3/3; 2/110] START max_depth=4, n_estimators=20..............................\n",
      "[CV 3/3; 2/110] END ............max_depth=4, n_estimators=20; total time=   3.7s\n",
      "[CV 1/3; 3/110] START max_depth=4, n_estimators=30..............................\n",
      "[CV 1/3; 3/110] END ............max_depth=4, n_estimators=30; total time=   5.1s\n",
      "[CV 2/3; 3/110] START max_depth=4, n_estimators=30..............................\n",
      "[CV 2/3; 3/110] END ............max_depth=4, n_estimators=30; total time=   5.3s\n",
      "[CV 3/3; 3/110] START max_depth=4, n_estimators=30..............................\n",
      "[CV 3/3; 3/110] END ............max_depth=4, n_estimators=30; total time=   5.1s\n",
      "[CV 1/3; 4/110] START max_depth=4, n_estimators=40..............................\n",
      "[CV 1/3; 4/110] END ............max_depth=4, n_estimators=40; total time=   6.9s\n",
      "[CV 2/3; 4/110] START max_depth=4, n_estimators=40..............................\n",
      "[CV 2/3; 4/110] END ............max_depth=4, n_estimators=40; total time=   6.1s\n",
      "[CV 3/3; 4/110] START max_depth=4, n_estimators=40..............................\n",
      "[CV 3/3; 4/110] END ............max_depth=4, n_estimators=40; total time=   7.1s\n",
      "[CV 1/3; 5/110] START max_depth=4, n_estimators=50..............................\n",
      "[CV 1/3; 5/110] END ............max_depth=4, n_estimators=50; total time=   8.9s\n",
      "[CV 2/3; 5/110] START max_depth=4, n_estimators=50..............................\n",
      "[CV 2/3; 5/110] END ............max_depth=4, n_estimators=50; total time=   9.0s\n",
      "[CV 3/3; 5/110] START max_depth=4, n_estimators=50..............................\n",
      "[CV 3/3; 5/110] END ............max_depth=4, n_estimators=50; total time=   9.0s\n",
      "[CV 1/3; 6/110] START max_depth=4, n_estimators=60..............................\n",
      "[CV 1/3; 6/110] END ............max_depth=4, n_estimators=60; total time=  10.4s\n",
      "[CV 2/3; 6/110] START max_depth=4, n_estimators=60..............................\n",
      "[CV 2/3; 6/110] END ............max_depth=4, n_estimators=60; total time=   9.9s\n",
      "[CV 3/3; 6/110] START max_depth=4, n_estimators=60..............................\n",
      "[CV 3/3; 6/110] END ............max_depth=4, n_estimators=60; total time=  10.5s\n",
      "[CV 1/3; 7/110] START max_depth=4, n_estimators=70..............................\n",
      "[CV 1/3; 7/110] END ............max_depth=4, n_estimators=70; total time=  12.1s\n",
      "[CV 2/3; 7/110] START max_depth=4, n_estimators=70..............................\n",
      "[CV 2/3; 7/110] END ............max_depth=4, n_estimators=70; total time=  12.7s\n",
      "[CV 3/3; 7/110] START max_depth=4, n_estimators=70..............................\n",
      "[CV 3/3; 7/110] END ............max_depth=4, n_estimators=70; total time=  12.1s\n",
      "[CV 1/3; 8/110] START max_depth=4, n_estimators=80..............................\n",
      "[CV 1/3; 8/110] END ............max_depth=4, n_estimators=80; total time=  13.3s\n",
      "[CV 2/3; 8/110] START max_depth=4, n_estimators=80..............................\n",
      "[CV 2/3; 8/110] END ............max_depth=4, n_estimators=80; total time=  14.1s\n",
      "[CV 3/3; 8/110] START max_depth=4, n_estimators=80..............................\n",
      "[CV 3/3; 8/110] END ............max_depth=4, n_estimators=80; total time=  14.1s\n",
      "[CV 1/3; 9/110] START max_depth=4, n_estimators=90..............................\n",
      "[CV 1/3; 9/110] END ............max_depth=4, n_estimators=90; total time=  15.7s\n",
      "[CV 2/3; 9/110] START max_depth=4, n_estimators=90..............................\n",
      "[CV 2/3; 9/110] END ............max_depth=4, n_estimators=90; total time=  15.1s\n",
      "[CV 3/3; 9/110] START max_depth=4, n_estimators=90..............................\n",
      "[CV 3/3; 9/110] END ............max_depth=4, n_estimators=90; total time=  15.6s\n",
      "[CV 1/3; 10/110] START max_depth=4, n_estimators=100............................\n",
      "[CV 1/3; 10/110] END ..........max_depth=4, n_estimators=100; total time=  17.7s\n",
      "[CV 2/3; 10/110] START max_depth=4, n_estimators=100............................\n",
      "[CV 2/3; 10/110] END ..........max_depth=4, n_estimators=100; total time=  16.8s\n",
      "[CV 3/3; 10/110] START max_depth=4, n_estimators=100............................\n",
      "[CV 3/3; 10/110] END ..........max_depth=4, n_estimators=100; total time=  17.6s\n",
      "[CV 1/3; 11/110] START max_depth=5, n_estimators=10.............................\n",
      "[CV 1/3; 11/110] END ...........max_depth=5, n_estimators=10; total time=   2.3s\n",
      "[CV 2/3; 11/110] START max_depth=5, n_estimators=10.............................\n",
      "[CV 2/3; 11/110] END ...........max_depth=5, n_estimators=10; total time=   2.1s\n",
      "[CV 3/3; 11/110] START max_depth=5, n_estimators=10.............................\n",
      "[CV 3/3; 11/110] END ...........max_depth=5, n_estimators=10; total time=   2.1s\n",
      "[CV 1/3; 12/110] START max_depth=5, n_estimators=20.............................\n",
      "[CV 1/3; 12/110] END ...........max_depth=5, n_estimators=20; total time=   4.4s\n",
      "[CV 2/3; 12/110] START max_depth=5, n_estimators=20.............................\n",
      "[CV 2/3; 12/110] END ...........max_depth=5, n_estimators=20; total time=   4.3s\n",
      "[CV 3/3; 12/110] START max_depth=5, n_estimators=20.............................\n",
      "[CV 3/3; 12/110] END ...........max_depth=5, n_estimators=20; total time=   4.4s\n",
      "[CV 1/3; 13/110] START max_depth=5, n_estimators=30.............................\n",
      "[CV 1/3; 13/110] END ...........max_depth=5, n_estimators=30; total time=   6.5s\n",
      "[CV 2/3; 13/110] START max_depth=5, n_estimators=30.............................\n",
      "[CV 2/3; 13/110] END ...........max_depth=5, n_estimators=30; total time=   6.6s\n",
      "[CV 3/3; 13/110] START max_depth=5, n_estimators=30.............................\n",
      "[CV 3/3; 13/110] END ...........max_depth=5, n_estimators=30; total time=   9.6s\n",
      "[CV 1/3; 14/110] START max_depth=5, n_estimators=40.............................\n",
      "[CV 1/3; 14/110] END ...........max_depth=5, n_estimators=40; total time=  11.4s\n",
      "[CV 2/3; 14/110] START max_depth=5, n_estimators=40.............................\n",
      "[CV 2/3; 14/110] END ...........max_depth=5, n_estimators=40; total time=   8.5s\n",
      "[CV 3/3; 14/110] START max_depth=5, n_estimators=40.............................\n",
      "[CV 3/3; 14/110] END ...........max_depth=5, n_estimators=40; total time=   8.4s\n",
      "[CV 1/3; 15/110] START max_depth=5, n_estimators=50.............................\n",
      "[CV 1/3; 15/110] END ...........max_depth=5, n_estimators=50; total time=  11.0s\n",
      "[CV 2/3; 15/110] START max_depth=5, n_estimators=50.............................\n",
      "[CV 2/3; 15/110] END ...........max_depth=5, n_estimators=50; total time=  10.7s\n",
      "[CV 3/3; 15/110] START max_depth=5, n_estimators=50.............................\n",
      "[CV 3/3; 15/110] END ...........max_depth=5, n_estimators=50; total time=  10.3s\n",
      "[CV 1/3; 16/110] START max_depth=5, n_estimators=60.............................\n",
      "[CV 1/3; 16/110] END ...........max_depth=5, n_estimators=60; total time=  12.7s\n",
      "[CV 2/3; 16/110] START max_depth=5, n_estimators=60.............................\n",
      "[CV 2/3; 16/110] END ...........max_depth=5, n_estimators=60; total time=  12.7s\n",
      "[CV 3/3; 16/110] START max_depth=5, n_estimators=60.............................\n",
      "[CV 3/3; 16/110] END ...........max_depth=5, n_estimators=60; total time=  12.8s\n",
      "[CV 1/3; 17/110] START max_depth=5, n_estimators=70.............................\n",
      "[CV 1/3; 17/110] END ...........max_depth=5, n_estimators=70; total time=  14.4s\n",
      "[CV 2/3; 17/110] START max_depth=5, n_estimators=70.............................\n",
      "[CV 2/3; 17/110] END ...........max_depth=5, n_estimators=70; total time=  14.5s\n",
      "[CV 3/3; 17/110] START max_depth=5, n_estimators=70.............................\n",
      "[CV 3/3; 17/110] END ...........max_depth=5, n_estimators=70; total time=  14.8s\n",
      "[CV 1/3; 18/110] START max_depth=5, n_estimators=80.............................\n",
      "[CV 1/3; 18/110] END ...........max_depth=5, n_estimators=80; total time=  17.7s\n",
      "[CV 2/3; 18/110] START max_depth=5, n_estimators=80.............................\n",
      "[CV 2/3; 18/110] END ...........max_depth=5, n_estimators=80; total time=  16.5s\n",
      "[CV 3/3; 18/110] START max_depth=5, n_estimators=80.............................\n",
      "[CV 3/3; 18/110] END ...........max_depth=5, n_estimators=80; total time=  16.7s\n",
      "[CV 1/3; 19/110] START max_depth=5, n_estimators=90.............................\n",
      "[CV 1/3; 19/110] END ...........max_depth=5, n_estimators=90; total time=  19.2s\n",
      "[CV 2/3; 19/110] START max_depth=5, n_estimators=90.............................\n",
      "[CV 2/3; 19/110] END ...........max_depth=5, n_estimators=90; total time=  19.3s\n",
      "[CV 3/3; 19/110] START max_depth=5, n_estimators=90.............................\n",
      "[CV 3/3; 19/110] END ...........max_depth=5, n_estimators=90; total time=  18.8s\n",
      "[CV 1/3; 20/110] START max_depth=5, n_estimators=100............................\n",
      "[CV 1/3; 20/110] END ..........max_depth=5, n_estimators=100; total time=  21.0s\n",
      "[CV 2/3; 20/110] START max_depth=5, n_estimators=100............................\n",
      "[CV 2/3; 20/110] END ..........max_depth=5, n_estimators=100; total time=  21.5s\n",
      "[CV 3/3; 20/110] START max_depth=5, n_estimators=100............................\n",
      "[CV 3/3; 20/110] END ..........max_depth=5, n_estimators=100; total time=  20.4s\n",
      "[CV 1/3; 21/110] START max_depth=6, n_estimators=10.............................\n",
      "[CV 1/3; 21/110] END ...........max_depth=6, n_estimators=10; total time=   2.5s\n",
      "[CV 2/3; 21/110] START max_depth=6, n_estimators=10.............................\n",
      "[CV 2/3; 21/110] END ...........max_depth=6, n_estimators=10; total time=   2.5s\n",
      "[CV 3/3; 21/110] START max_depth=6, n_estimators=10.............................\n",
      "[CV 3/3; 21/110] END ...........max_depth=6, n_estimators=10; total time=   2.6s\n",
      "[CV 1/3; 22/110] START max_depth=6, n_estimators=20.............................\n",
      "[CV 1/3; 22/110] END ...........max_depth=6, n_estimators=20; total time=   5.0s\n",
      "[CV 2/3; 22/110] START max_depth=6, n_estimators=20.............................\n",
      "[CV 2/3; 22/110] END ...........max_depth=6, n_estimators=20; total time=   4.9s\n",
      "[CV 3/3; 22/110] START max_depth=6, n_estimators=20.............................\n",
      "[CV 3/3; 22/110] END ...........max_depth=6, n_estimators=20; total time=   5.2s\n",
      "[CV 1/3; 23/110] START max_depth=6, n_estimators=30.............................\n",
      "[CV 1/3; 23/110] END ...........max_depth=6, n_estimators=30; total time=   7.7s\n",
      "[CV 2/3; 23/110] START max_depth=6, n_estimators=30.............................\n",
      "[CV 2/3; 23/110] END ...........max_depth=6, n_estimators=30; total time=   7.7s\n",
      "[CV 3/3; 23/110] START max_depth=6, n_estimators=30.............................\n",
      "[CV 3/3; 23/110] END ...........max_depth=6, n_estimators=30; total time=   7.4s\n",
      "[CV 1/3; 24/110] START max_depth=6, n_estimators=40.............................\n",
      "[CV 1/3; 24/110] END ...........max_depth=6, n_estimators=40; total time=   9.8s\n",
      "[CV 2/3; 24/110] START max_depth=6, n_estimators=40.............................\n",
      "[CV 2/3; 24/110] END ...........max_depth=6, n_estimators=40; total time=  10.0s\n",
      "[CV 3/3; 24/110] START max_depth=6, n_estimators=40.............................\n",
      "[CV 3/3; 24/110] END ...........max_depth=6, n_estimators=40; total time=   9.9s\n",
      "[CV 1/3; 25/110] START max_depth=6, n_estimators=50.............................\n",
      "[CV 1/3; 25/110] END ...........max_depth=6, n_estimators=50; total time=  12.8s\n",
      "[CV 2/3; 25/110] START max_depth=6, n_estimators=50.............................\n",
      "[CV 2/3; 25/110] END ...........max_depth=6, n_estimators=50; total time=  12.4s\n",
      "[CV 3/3; 25/110] START max_depth=6, n_estimators=50.............................\n",
      "[CV 3/3; 25/110] END ...........max_depth=6, n_estimators=50; total time=  12.4s\n",
      "[CV 1/3; 26/110] START max_depth=6, n_estimators=60.............................\n",
      "[CV 1/3; 26/110] END ...........max_depth=6, n_estimators=60; total time=  15.1s\n",
      "[CV 2/3; 26/110] START max_depth=6, n_estimators=60.............................\n",
      "[CV 2/3; 26/110] END ...........max_depth=6, n_estimators=60; total time=  14.8s\n",
      "[CV 3/3; 26/110] START max_depth=6, n_estimators=60.............................\n",
      "[CV 3/3; 26/110] END ...........max_depth=6, n_estimators=60; total time=  14.3s\n",
      "[CV 1/3; 27/110] START max_depth=6, n_estimators=70.............................\n",
      "[CV 1/3; 27/110] END ...........max_depth=6, n_estimators=70; total time=  17.1s\n",
      "[CV 2/3; 27/110] START max_depth=6, n_estimators=70.............................\n",
      "[CV 2/3; 27/110] END ...........max_depth=6, n_estimators=70; total time=  17.2s\n",
      "[CV 3/3; 27/110] START max_depth=6, n_estimators=70.............................\n",
      "[CV 3/3; 27/110] END ...........max_depth=6, n_estimators=70; total time=  17.7s\n",
      "[CV 1/3; 28/110] START max_depth=6, n_estimators=80.............................\n",
      "[CV 1/3; 28/110] END ...........max_depth=6, n_estimators=80; total time=  20.0s\n",
      "[CV 2/3; 28/110] START max_depth=6, n_estimators=80.............................\n",
      "[CV 2/3; 28/110] END ...........max_depth=6, n_estimators=80; total time=  19.9s\n",
      "[CV 3/3; 28/110] START max_depth=6, n_estimators=80.............................\n",
      "[CV 3/3; 28/110] END ...........max_depth=6, n_estimators=80; total time=  20.0s\n",
      "[CV 1/3; 29/110] START max_depth=6, n_estimators=90.............................\n",
      "[CV 1/3; 29/110] END ...........max_depth=6, n_estimators=90; total time=  24.4s\n",
      "[CV 2/3; 29/110] START max_depth=6, n_estimators=90.............................\n",
      "[CV 2/3; 29/110] END ...........max_depth=6, n_estimators=90; total time=  22.1s\n",
      "[CV 3/3; 29/110] START max_depth=6, n_estimators=90.............................\n",
      "[CV 3/3; 29/110] END ...........max_depth=6, n_estimators=90; total time=  22.4s\n",
      "[CV 1/3; 30/110] START max_depth=6, n_estimators=100............................\n",
      "[CV 1/3; 30/110] END ..........max_depth=6, n_estimators=100; total time=  25.0s\n",
      "[CV 2/3; 30/110] START max_depth=6, n_estimators=100............................\n",
      "[CV 2/3; 30/110] END ..........max_depth=6, n_estimators=100; total time=  25.1s\n",
      "[CV 3/3; 30/110] START max_depth=6, n_estimators=100............................\n",
      "[CV 3/3; 30/110] END ..........max_depth=6, n_estimators=100; total time=  24.7s\n",
      "[CV 1/3; 31/110] START max_depth=7, n_estimators=10.............................\n",
      "[CV 1/3; 31/110] END ...........max_depth=7, n_estimators=10; total time=   2.8s\n",
      "[CV 2/3; 31/110] START max_depth=7, n_estimators=10.............................\n",
      "[CV 2/3; 31/110] END ...........max_depth=7, n_estimators=10; total time=   2.9s\n",
      "[CV 3/3; 31/110] START max_depth=7, n_estimators=10.............................\n",
      "[CV 3/3; 31/110] END ...........max_depth=7, n_estimators=10; total time=   2.7s\n",
      "[CV 1/3; 32/110] START max_depth=7, n_estimators=20.............................\n",
      "[CV 1/3; 32/110] END ...........max_depth=7, n_estimators=20; total time=   5.7s\n",
      "[CV 2/3; 32/110] START max_depth=7, n_estimators=20.............................\n",
      "[CV 2/3; 32/110] END ...........max_depth=7, n_estimators=20; total time=   5.7s\n",
      "[CV 3/3; 32/110] START max_depth=7, n_estimators=20.............................\n",
      "[CV 3/3; 32/110] END ...........max_depth=7, n_estimators=20; total time=   5.6s\n",
      "[CV 1/3; 33/110] START max_depth=7, n_estimators=30.............................\n",
      "[CV 1/3; 33/110] END ...........max_depth=7, n_estimators=30; total time=   8.6s\n",
      "[CV 2/3; 33/110] START max_depth=7, n_estimators=30.............................\n",
      "[CV 2/3; 33/110] END ...........max_depth=7, n_estimators=30; total time=   8.6s\n",
      "[CV 3/3; 33/110] START max_depth=7, n_estimators=30.............................\n",
      "[CV 3/3; 33/110] END ...........max_depth=7, n_estimators=30; total time=   7.8s\n",
      "[CV 1/3; 34/110] START max_depth=7, n_estimators=40.............................\n",
      "[CV 1/3; 34/110] END ...........max_depth=7, n_estimators=40; total time=  11.1s\n",
      "[CV 2/3; 34/110] START max_depth=7, n_estimators=40.............................\n",
      "[CV 2/3; 34/110] END ...........max_depth=7, n_estimators=40; total time=  11.3s\n",
      "[CV 3/3; 34/110] START max_depth=7, n_estimators=40.............................\n",
      "[CV 3/3; 34/110] END ...........max_depth=7, n_estimators=40; total time=  11.1s\n",
      "[CV 1/3; 35/110] START max_depth=7, n_estimators=50.............................\n",
      "[CV 1/3; 35/110] END ...........max_depth=7, n_estimators=50; total time=  14.5s\n",
      "[CV 2/3; 35/110] START max_depth=7, n_estimators=50.............................\n",
      "[CV 2/3; 35/110] END ...........max_depth=7, n_estimators=50; total time=  13.9s\n",
      "[CV 3/3; 35/110] START max_depth=7, n_estimators=50.............................\n",
      "[CV 3/3; 35/110] END ...........max_depth=7, n_estimators=50; total time=  14.0s\n",
      "[CV 1/3; 36/110] START max_depth=7, n_estimators=60.............................\n",
      "[CV 1/3; 36/110] END ...........max_depth=7, n_estimators=60; total time=  17.0s\n",
      "[CV 2/3; 36/110] START max_depth=7, n_estimators=60.............................\n",
      "[CV 2/3; 36/110] END ...........max_depth=7, n_estimators=60; total time=  17.4s\n",
      "[CV 3/3; 36/110] START max_depth=7, n_estimators=60.............................\n",
      "[CV 3/3; 36/110] END ...........max_depth=7, n_estimators=60; total time=  16.9s\n",
      "[CV 1/3; 37/110] START max_depth=7, n_estimators=70.............................\n",
      "[CV 1/3; 37/110] END ...........max_depth=7, n_estimators=70; total time=  19.9s\n",
      "[CV 2/3; 37/110] START max_depth=7, n_estimators=70.............................\n",
      "[CV 2/3; 37/110] END ...........max_depth=7, n_estimators=70; total time=  19.4s\n",
      "[CV 3/3; 37/110] START max_depth=7, n_estimators=70.............................\n",
      "[CV 3/3; 37/110] END ...........max_depth=7, n_estimators=70; total time=  20.0s\n",
      "[CV 1/3; 38/110] START max_depth=7, n_estimators=80.............................\n",
      "[CV 1/3; 38/110] END ...........max_depth=7, n_estimators=80; total time=  22.9s\n",
      "[CV 2/3; 38/110] START max_depth=7, n_estimators=80.............................\n",
      "[CV 2/3; 38/110] END ...........max_depth=7, n_estimators=80; total time=  22.8s\n",
      "[CV 3/3; 38/110] START max_depth=7, n_estimators=80.............................\n",
      "[CV 3/3; 38/110] END ...........max_depth=7, n_estimators=80; total time=  22.4s\n",
      "[CV 1/3; 39/110] START max_depth=7, n_estimators=90.............................\n",
      "[CV 1/3; 39/110] END ...........max_depth=7, n_estimators=90; total time=  25.7s\n",
      "[CV 2/3; 39/110] START max_depth=7, n_estimators=90.............................\n",
      "[CV 2/3; 39/110] END ...........max_depth=7, n_estimators=90; total time=  25.3s\n",
      "[CV 3/3; 39/110] START max_depth=7, n_estimators=90.............................\n",
      "[CV 3/3; 39/110] END ...........max_depth=7, n_estimators=90; total time=  24.9s\n",
      "[CV 1/3; 40/110] START max_depth=7, n_estimators=100............................\n",
      "[CV 1/3; 40/110] END ..........max_depth=7, n_estimators=100; total time=  27.4s\n",
      "[CV 2/3; 40/110] START max_depth=7, n_estimators=100............................\n",
      "[CV 2/3; 40/110] END ..........max_depth=7, n_estimators=100; total time=  27.8s\n",
      "[CV 3/3; 40/110] START max_depth=7, n_estimators=100............................\n",
      "[CV 3/3; 40/110] END ..........max_depth=7, n_estimators=100; total time=  28.1s\n",
      "[CV 1/3; 41/110] START max_depth=8, n_estimators=10.............................\n",
      "[CV 1/3; 41/110] END ...........max_depth=8, n_estimators=10; total time=   3.1s\n",
      "[CV 2/3; 41/110] START max_depth=8, n_estimators=10.............................\n",
      "[CV 2/3; 41/110] END ...........max_depth=8, n_estimators=10; total time=   3.1s\n",
      "[CV 3/3; 41/110] START max_depth=8, n_estimators=10.............................\n",
      "[CV 3/3; 41/110] END ...........max_depth=8, n_estimators=10; total time=   3.1s\n",
      "[CV 1/3; 42/110] START max_depth=8, n_estimators=20.............................\n",
      "[CV 1/3; 42/110] END ...........max_depth=8, n_estimators=20; total time=   6.2s\n",
      "[CV 2/3; 42/110] START max_depth=8, n_estimators=20.............................\n",
      "[CV 2/3; 42/110] END ...........max_depth=8, n_estimators=20; total time=   6.3s\n",
      "[CV 3/3; 42/110] START max_depth=8, n_estimators=20.............................\n",
      "[CV 3/3; 42/110] END ...........max_depth=8, n_estimators=20; total time=   6.2s\n",
      "[CV 1/3; 43/110] START max_depth=8, n_estimators=30.............................\n",
      "[CV 1/3; 43/110] END ...........max_depth=8, n_estimators=30; total time=   9.3s\n",
      "[CV 2/3; 43/110] START max_depth=8, n_estimators=30.............................\n",
      "[CV 2/3; 43/110] END ...........max_depth=8, n_estimators=30; total time=   9.6s\n",
      "[CV 3/3; 43/110] START max_depth=8, n_estimators=30.............................\n",
      "[CV 3/3; 43/110] END ...........max_depth=8, n_estimators=30; total time=   9.2s\n",
      "[CV 1/3; 44/110] START max_depth=8, n_estimators=40.............................\n",
      "[CV 1/3; 44/110] END ...........max_depth=8, n_estimators=40; total time=  12.7s\n",
      "[CV 2/3; 44/110] START max_depth=8, n_estimators=40.............................\n",
      "[CV 2/3; 44/110] END ...........max_depth=8, n_estimators=40; total time=  12.4s\n",
      "[CV 3/3; 44/110] START max_depth=8, n_estimators=40.............................\n",
      "[CV 3/3; 44/110] END ...........max_depth=8, n_estimators=40; total time=  12.5s\n",
      "[CV 1/3; 45/110] START max_depth=8, n_estimators=50.............................\n",
      "[CV 1/3; 45/110] END ...........max_depth=8, n_estimators=50; total time=  15.9s\n",
      "[CV 2/3; 45/110] START max_depth=8, n_estimators=50.............................\n",
      "[CV 2/3; 45/110] END ...........max_depth=8, n_estimators=50; total time=  15.5s\n",
      "[CV 3/3; 45/110] START max_depth=8, n_estimators=50.............................\n",
      "[CV 3/3; 45/110] END ...........max_depth=8, n_estimators=50; total time=  15.5s\n",
      "[CV 1/3; 46/110] START max_depth=8, n_estimators=60.............................\n",
      "[CV 1/3; 46/110] END ...........max_depth=8, n_estimators=60; total time=  18.8s\n",
      "[CV 2/3; 46/110] START max_depth=8, n_estimators=60.............................\n",
      "[CV 2/3; 46/110] END ...........max_depth=8, n_estimators=60; total time=  18.8s\n",
      "[CV 3/3; 46/110] START max_depth=8, n_estimators=60.............................\n",
      "[CV 3/3; 46/110] END ...........max_depth=8, n_estimators=60; total time=  18.4s\n",
      "[CV 1/3; 47/110] START max_depth=8, n_estimators=70.............................\n",
      "[CV 1/3; 47/110] END ...........max_depth=8, n_estimators=70; total time=  21.4s\n",
      "[CV 2/3; 47/110] START max_depth=8, n_estimators=70.............................\n",
      "[CV 2/3; 47/110] END ...........max_depth=8, n_estimators=70; total time=  22.2s\n",
      "[CV 3/3; 47/110] START max_depth=8, n_estimators=70.............................\n",
      "[CV 3/3; 47/110] END ...........max_depth=8, n_estimators=70; total time=  21.8s\n",
      "[CV 1/3; 48/110] START max_depth=8, n_estimators=80.............................\n",
      "[CV 1/3; 48/110] END ...........max_depth=8, n_estimators=80; total time=  25.2s\n",
      "[CV 2/3; 48/110] START max_depth=8, n_estimators=80.............................\n",
      "[CV 2/3; 48/110] END ...........max_depth=8, n_estimators=80; total time=  24.7s\n",
      "[CV 3/3; 48/110] START max_depth=8, n_estimators=80.............................\n",
      "[CV 3/3; 48/110] END ...........max_depth=8, n_estimators=80; total time=  25.0s\n",
      "[CV 1/3; 49/110] START max_depth=8, n_estimators=90.............................\n",
      "[CV 1/3; 49/110] END ...........max_depth=8, n_estimators=90; total time=  28.6s\n",
      "[CV 2/3; 49/110] START max_depth=8, n_estimators=90.............................\n",
      "[CV 2/3; 49/110] END ...........max_depth=8, n_estimators=90; total time=  26.9s\n",
      "[CV 3/3; 49/110] START max_depth=8, n_estimators=90.............................\n",
      "[CV 3/3; 49/110] END ...........max_depth=8, n_estimators=90; total time=  28.4s\n",
      "[CV 1/3; 50/110] START max_depth=8, n_estimators=100............................\n",
      "[CV 1/3; 50/110] END ..........max_depth=8, n_estimators=100; total time=  31.3s\n",
      "[CV 2/3; 50/110] START max_depth=8, n_estimators=100............................\n",
      "[CV 2/3; 50/110] END ..........max_depth=8, n_estimators=100; total time=  31.4s\n",
      "[CV 3/3; 50/110] START max_depth=8, n_estimators=100............................\n",
      "[CV 3/3; 50/110] END ..........max_depth=8, n_estimators=100; total time=  30.6s\n",
      "[CV 1/3; 51/110] START max_depth=9, n_estimators=10.............................\n",
      "[CV 1/3; 51/110] END ...........max_depth=9, n_estimators=10; total time=   3.5s\n",
      "[CV 2/3; 51/110] START max_depth=9, n_estimators=10.............................\n",
      "[CV 2/3; 51/110] END ...........max_depth=9, n_estimators=10; total time=   3.4s\n",
      "[CV 3/3; 51/110] START max_depth=9, n_estimators=10.............................\n",
      "[CV 3/3; 51/110] END ...........max_depth=9, n_estimators=10; total time=   3.5s\n",
      "[CV 1/3; 52/110] START max_depth=9, n_estimators=20.............................\n",
      "[CV 1/3; 52/110] END ...........max_depth=9, n_estimators=20; total time=   7.1s\n",
      "[CV 2/3; 52/110] START max_depth=9, n_estimators=20.............................\n",
      "[CV 2/3; 52/110] END ...........max_depth=9, n_estimators=20; total time=   6.8s\n",
      "[CV 3/3; 52/110] START max_depth=9, n_estimators=20.............................\n",
      "[CV 3/3; 52/110] END ...........max_depth=9, n_estimators=20; total time=   6.8s\n",
      "[CV 1/3; 53/110] START max_depth=9, n_estimators=30.............................\n",
      "[CV 1/3; 53/110] END ...........max_depth=9, n_estimators=30; total time=  10.2s\n",
      "[CV 2/3; 53/110] START max_depth=9, n_estimators=30.............................\n",
      "[CV 2/3; 53/110] END ...........max_depth=9, n_estimators=30; total time=  10.2s\n",
      "[CV 3/3; 53/110] START max_depth=9, n_estimators=30.............................\n",
      "[CV 3/3; 53/110] END ...........max_depth=9, n_estimators=30; total time=  10.4s\n",
      "[CV 1/3; 54/110] START max_depth=9, n_estimators=40.............................\n",
      "[CV 1/3; 54/110] END ...........max_depth=9, n_estimators=40; total time=  14.1s\n",
      "[CV 2/3; 54/110] START max_depth=9, n_estimators=40.............................\n",
      "[CV 2/3; 54/110] END ...........max_depth=9, n_estimators=40; total time=  13.8s\n",
      "[CV 3/3; 54/110] START max_depth=9, n_estimators=40.............................\n",
      "[CV 3/3; 54/110] END ...........max_depth=9, n_estimators=40; total time=  13.6s\n",
      "[CV 1/3; 55/110] START max_depth=9, n_estimators=50.............................\n",
      "[CV 1/3; 55/110] END ...........max_depth=9, n_estimators=50; total time=  17.3s\n",
      "[CV 2/3; 55/110] START max_depth=9, n_estimators=50.............................\n",
      "[CV 2/3; 55/110] END ...........max_depth=9, n_estimators=50; total time=  17.2s\n",
      "[CV 3/3; 55/110] START max_depth=9, n_estimators=50.............................\n",
      "[CV 3/3; 55/110] END ...........max_depth=9, n_estimators=50; total time=  16.6s\n",
      "[CV 1/3; 56/110] START max_depth=9, n_estimators=60.............................\n",
      "[CV 1/3; 56/110] END ...........max_depth=9, n_estimators=60; total time=  20.6s\n",
      "[CV 2/3; 56/110] START max_depth=9, n_estimators=60.............................\n",
      "[CV 2/3; 56/110] END ...........max_depth=9, n_estimators=60; total time=  20.7s\n",
      "[CV 3/3; 56/110] START max_depth=9, n_estimators=60.............................\n",
      "[CV 3/3; 56/110] END ...........max_depth=9, n_estimators=60; total time=  20.5s\n",
      "[CV 1/3; 57/110] START max_depth=9, n_estimators=70.............................\n",
      "[CV 1/3; 57/110] END ...........max_depth=9, n_estimators=70; total time=  24.1s\n",
      "[CV 2/3; 57/110] START max_depth=9, n_estimators=70.............................\n",
      "[CV 2/3; 57/110] END ...........max_depth=9, n_estimators=70; total time=  24.3s\n",
      "[CV 3/3; 57/110] START max_depth=9, n_estimators=70.............................\n",
      "[CV 3/3; 57/110] END ...........max_depth=9, n_estimators=70; total time=  23.8s\n",
      "[CV 1/3; 58/110] START max_depth=9, n_estimators=80.............................\n",
      "[CV 1/3; 58/110] END ...........max_depth=9, n_estimators=80; total time=  28.0s\n",
      "[CV 2/3; 58/110] START max_depth=9, n_estimators=80.............................\n",
      "[CV 2/3; 58/110] END ...........max_depth=9, n_estimators=80; total time=  26.6s\n",
      "[CV 3/3; 58/110] START max_depth=9, n_estimators=80.............................\n",
      "[CV 3/3; 58/110] END ...........max_depth=9, n_estimators=80; total time=  27.4s\n",
      "[CV 1/3; 59/110] START max_depth=9, n_estimators=90.............................\n",
      "[CV 1/3; 59/110] END ...........max_depth=9, n_estimators=90; total time=  31.3s\n",
      "[CV 2/3; 59/110] START max_depth=9, n_estimators=90.............................\n",
      "[CV 2/3; 59/110] END ...........max_depth=9, n_estimators=90; total time=  30.9s\n",
      "[CV 3/3; 59/110] START max_depth=9, n_estimators=90.............................\n",
      "[CV 3/3; 59/110] END ...........max_depth=9, n_estimators=90; total time=  31.5s\n",
      "[CV 1/3; 60/110] START max_depth=9, n_estimators=100............................\n",
      "[CV 1/3; 60/110] END ..........max_depth=9, n_estimators=100; total time=  35.2s\n",
      "[CV 2/3; 60/110] START max_depth=9, n_estimators=100............................\n",
      "[CV 2/3; 60/110] END ..........max_depth=9, n_estimators=100; total time=  34.2s\n",
      "[CV 3/3; 60/110] START max_depth=9, n_estimators=100............................\n",
      "[CV 3/3; 60/110] END ..........max_depth=9, n_estimators=100; total time=  35.0s\n",
      "[CV 1/3; 61/110] START max_depth=10, n_estimators=10............................\n",
      "[CV 1/3; 61/110] END ..........max_depth=10, n_estimators=10; total time=   3.8s\n",
      "[CV 2/3; 61/110] START max_depth=10, n_estimators=10............................\n",
      "[CV 2/3; 61/110] END ..........max_depth=10, n_estimators=10; total time=   3.6s\n",
      "[CV 3/3; 61/110] START max_depth=10, n_estimators=10............................\n",
      "[CV 3/3; 61/110] END ..........max_depth=10, n_estimators=10; total time=   3.7s\n",
      "[CV 1/3; 62/110] START max_depth=10, n_estimators=20............................\n",
      "[CV 1/3; 62/110] END ..........max_depth=10, n_estimators=20; total time=   7.6s\n",
      "[CV 2/3; 62/110] START max_depth=10, n_estimators=20............................\n",
      "[CV 2/3; 62/110] END ..........max_depth=10, n_estimators=20; total time=   7.4s\n",
      "[CV 3/3; 62/110] START max_depth=10, n_estimators=20............................\n",
      "[CV 3/3; 62/110] END ..........max_depth=10, n_estimators=20; total time=   7.4s\n",
      "[CV 1/3; 63/110] START max_depth=10, n_estimators=30............................\n",
      "[CV 1/3; 63/110] END ..........max_depth=10, n_estimators=30; total time=  11.5s\n",
      "[CV 2/3; 63/110] START max_depth=10, n_estimators=30............................\n",
      "[CV 2/3; 63/110] END ..........max_depth=10, n_estimators=30; total time=  11.4s\n",
      "[CV 3/3; 63/110] START max_depth=10, n_estimators=30............................\n",
      "[CV 3/3; 63/110] END ..........max_depth=10, n_estimators=30; total time=  11.1s\n",
      "[CV 1/3; 64/110] START max_depth=10, n_estimators=40............................\n",
      "[CV 1/3; 64/110] END ..........max_depth=10, n_estimators=40; total time=  14.9s\n",
      "[CV 2/3; 64/110] START max_depth=10, n_estimators=40............................\n",
      "[CV 2/3; 64/110] END ..........max_depth=10, n_estimators=40; total time=  14.9s\n",
      "[CV 3/3; 64/110] START max_depth=10, n_estimators=40............................\n",
      "[CV 3/3; 64/110] END ..........max_depth=10, n_estimators=40; total time=  15.2s\n",
      "[CV 1/3; 65/110] START max_depth=10, n_estimators=50............................\n",
      "[CV 1/3; 65/110] END ..........max_depth=10, n_estimators=50; total time=  18.7s\n",
      "[CV 2/3; 65/110] START max_depth=10, n_estimators=50............................\n",
      "[CV 2/3; 65/110] END ..........max_depth=10, n_estimators=50; total time=  18.4s\n",
      "[CV 3/3; 65/110] START max_depth=10, n_estimators=50............................\n",
      "[CV 3/3; 65/110] END ..........max_depth=10, n_estimators=50; total time=  18.9s\n",
      "[CV 1/3; 66/110] START max_depth=10, n_estimators=60............................\n",
      "[CV 1/3; 66/110] END ..........max_depth=10, n_estimators=60; total time=  22.5s\n",
      "[CV 2/3; 66/110] START max_depth=10, n_estimators=60............................\n",
      "[CV 2/3; 66/110] END ..........max_depth=10, n_estimators=60; total time=  22.4s\n",
      "[CV 3/3; 66/110] START max_depth=10, n_estimators=60............................\n",
      "[CV 3/3; 66/110] END ..........max_depth=10, n_estimators=60; total time=  22.7s\n",
      "[CV 1/3; 67/110] START max_depth=10, n_estimators=70............................\n",
      "[CV 1/3; 67/110] END ..........max_depth=10, n_estimators=70; total time=  26.2s\n",
      "[CV 2/3; 67/110] START max_depth=10, n_estimators=70............................\n",
      "[CV 2/3; 67/110] END ..........max_depth=10, n_estimators=70; total time=  26.0s\n",
      "[CV 3/3; 67/110] START max_depth=10, n_estimators=70............................\n",
      "[CV 3/3; 67/110] END ..........max_depth=10, n_estimators=70; total time=  25.9s\n",
      "[CV 1/3; 68/110] START max_depth=10, n_estimators=80............................\n",
      "[CV 1/3; 68/110] END ..........max_depth=10, n_estimators=80; total time=  29.5s\n",
      "[CV 2/3; 68/110] START max_depth=10, n_estimators=80............................\n",
      "[CV 2/3; 68/110] END ..........max_depth=10, n_estimators=80; total time=  29.7s\n",
      "[CV 3/3; 68/110] START max_depth=10, n_estimators=80............................\n",
      "[CV 3/3; 68/110] END ..........max_depth=10, n_estimators=80; total time=  29.8s\n",
      "[CV 1/3; 69/110] START max_depth=10, n_estimators=90............................\n",
      "[CV 1/3; 69/110] END ..........max_depth=10, n_estimators=90; total time=  34.2s\n",
      "[CV 2/3; 69/110] START max_depth=10, n_estimators=90............................\n",
      "[CV 2/3; 69/110] END ..........max_depth=10, n_estimators=90; total time=  33.7s\n",
      "[CV 3/3; 69/110] START max_depth=10, n_estimators=90............................\n",
      "[CV 3/3; 69/110] END ..........max_depth=10, n_estimators=90; total time=  33.3s\n",
      "[CV 1/3; 70/110] START max_depth=10, n_estimators=100...........................\n",
      "[CV 1/3; 70/110] END .........max_depth=10, n_estimators=100; total time=  38.0s\n",
      "[CV 2/3; 70/110] START max_depth=10, n_estimators=100...........................\n",
      "[CV 2/3; 70/110] END .........max_depth=10, n_estimators=100; total time=  36.9s\n",
      "[CV 3/3; 70/110] START max_depth=10, n_estimators=100...........................\n",
      "[CV 3/3; 70/110] END .........max_depth=10, n_estimators=100; total time=  37.7s\n",
      "[CV 1/3; 71/110] START max_depth=11, n_estimators=10............................\n",
      "[CV 1/3; 71/110] END ..........max_depth=11, n_estimators=10; total time=   3.9s\n",
      "[CV 2/3; 71/110] START max_depth=11, n_estimators=10............................\n",
      "[CV 2/3; 71/110] END ..........max_depth=11, n_estimators=10; total time=   4.0s\n",
      "[CV 3/3; 71/110] START max_depth=11, n_estimators=10............................\n",
      "[CV 3/3; 71/110] END ..........max_depth=11, n_estimators=10; total time=   3.9s\n",
      "[CV 1/3; 72/110] START max_depth=11, n_estimators=20............................\n",
      "[CV 1/3; 72/110] END ..........max_depth=11, n_estimators=20; total time=   8.0s\n",
      "[CV 2/3; 72/110] START max_depth=11, n_estimators=20............................\n",
      "[CV 2/3; 72/110] END ..........max_depth=11, n_estimators=20; total time=   8.1s\n",
      "[CV 3/3; 72/110] START max_depth=11, n_estimators=20............................\n",
      "[CV 3/3; 72/110] END ..........max_depth=11, n_estimators=20; total time=   8.1s\n",
      "[CV 1/3; 73/110] START max_depth=11, n_estimators=30............................\n",
      "[CV 1/3; 73/110] END ..........max_depth=11, n_estimators=30; total time=  11.9s\n",
      "[CV 2/3; 73/110] START max_depth=11, n_estimators=30............................\n",
      "[CV 2/3; 73/110] END ..........max_depth=11, n_estimators=30; total time=  11.9s\n",
      "[CV 3/3; 73/110] START max_depth=11, n_estimators=30............................\n",
      "[CV 3/3; 73/110] END ..........max_depth=11, n_estimators=30; total time=  11.9s\n",
      "[CV 1/3; 74/110] START max_depth=11, n_estimators=40............................\n",
      "[CV 1/3; 74/110] END ..........max_depth=11, n_estimators=40; total time=  16.3s\n",
      "[CV 2/3; 74/110] START max_depth=11, n_estimators=40............................\n",
      "[CV 2/3; 74/110] END ..........max_depth=11, n_estimators=40; total time=  15.9s\n",
      "[CV 3/3; 74/110] START max_depth=11, n_estimators=40............................\n",
      "[CV 3/3; 74/110] END ..........max_depth=11, n_estimators=40; total time=  15.7s\n",
      "[CV 1/3; 75/110] START max_depth=11, n_estimators=50............................\n",
      "[CV 1/3; 75/110] END ..........max_depth=11, n_estimators=50; total time=  20.1s\n",
      "[CV 2/3; 75/110] START max_depth=11, n_estimators=50............................\n",
      "[CV 2/3; 75/110] END ..........max_depth=11, n_estimators=50; total time=  20.5s\n",
      "[CV 3/3; 75/110] START max_depth=11, n_estimators=50............................\n",
      "[CV 3/3; 75/110] END ..........max_depth=11, n_estimators=50; total time=  19.7s\n",
      "[CV 1/3; 76/110] START max_depth=11, n_estimators=60............................\n",
      "[CV 1/3; 76/110] END ..........max_depth=11, n_estimators=60; total time=  24.4s\n",
      "[CV 2/3; 76/110] START max_depth=11, n_estimators=60............................\n",
      "[CV 2/3; 76/110] END ..........max_depth=11, n_estimators=60; total time=  24.0s\n",
      "[CV 3/3; 76/110] START max_depth=11, n_estimators=60............................\n",
      "[CV 3/3; 76/110] END ..........max_depth=11, n_estimators=60; total time=  23.6s\n",
      "[CV 1/3; 77/110] START max_depth=11, n_estimators=70............................\n",
      "[CV 1/3; 77/110] END ..........max_depth=11, n_estimators=70; total time=  28.4s\n",
      "[CV 2/3; 77/110] START max_depth=11, n_estimators=70............................\n",
      "[CV 2/3; 77/110] END ..........max_depth=11, n_estimators=70; total time=  27.4s\n",
      "[CV 3/3; 77/110] START max_depth=11, n_estimators=70............................\n",
      "[CV 3/3; 77/110] END ..........max_depth=11, n_estimators=70; total time=  28.4s\n",
      "[CV 1/3; 78/110] START max_depth=11, n_estimators=80............................\n",
      "[CV 1/3; 78/110] END ..........max_depth=11, n_estimators=80; total time=  32.2s\n",
      "[CV 2/3; 78/110] START max_depth=11, n_estimators=80............................\n",
      "[CV 2/3; 78/110] END ..........max_depth=11, n_estimators=80; total time=  31.8s\n",
      "[CV 3/3; 78/110] START max_depth=11, n_estimators=80............................\n",
      "[CV 3/3; 78/110] END ..........max_depth=11, n_estimators=80; total time=  31.7s\n",
      "[CV 1/3; 79/110] START max_depth=11, n_estimators=90............................\n",
      "[CV 1/3; 79/110] END ..........max_depth=11, n_estimators=90; total time=  36.0s\n",
      "[CV 2/3; 79/110] START max_depth=11, n_estimators=90............................\n",
      "[CV 2/3; 79/110] END ..........max_depth=11, n_estimators=90; total time=  35.5s\n",
      "[CV 3/3; 79/110] START max_depth=11, n_estimators=90............................\n",
      "[CV 3/3; 79/110] END ..........max_depth=11, n_estimators=90; total time=  36.4s\n",
      "[CV 1/3; 80/110] START max_depth=11, n_estimators=100...........................\n",
      "[CV 1/3; 80/110] END .........max_depth=11, n_estimators=100; total time=  40.9s\n",
      "[CV 2/3; 80/110] START max_depth=11, n_estimators=100...........................\n",
      "[CV 2/3; 80/110] END .........max_depth=11, n_estimators=100; total time=  39.2s\n",
      "[CV 3/3; 80/110] START max_depth=11, n_estimators=100...........................\n",
      "[CV 3/3; 80/110] END .........max_depth=11, n_estimators=100; total time=  39.7s\n",
      "[CV 1/3; 81/110] START max_depth=12, n_estimators=10............................\n",
      "[CV 1/3; 81/110] END ..........max_depth=12, n_estimators=10; total time=   4.3s\n",
      "[CV 2/3; 81/110] START max_depth=12, n_estimators=10............................\n",
      "[CV 2/3; 81/110] END ..........max_depth=12, n_estimators=10; total time=   4.2s\n",
      "[CV 3/3; 81/110] START max_depth=12, n_estimators=10............................\n",
      "[CV 3/3; 81/110] END ..........max_depth=12, n_estimators=10; total time=   4.4s\n",
      "[CV 1/3; 82/110] START max_depth=12, n_estimators=20............................\n",
      "[CV 1/3; 82/110] END ..........max_depth=12, n_estimators=20; total time=   8.6s\n",
      "[CV 2/3; 82/110] START max_depth=12, n_estimators=20............................\n",
      "[CV 2/3; 82/110] END ..........max_depth=12, n_estimators=20; total time=   8.7s\n",
      "[CV 3/3; 82/110] START max_depth=12, n_estimators=20............................\n",
      "[CV 3/3; 82/110] END ..........max_depth=12, n_estimators=20; total time=   8.7s\n",
      "[CV 1/3; 83/110] START max_depth=12, n_estimators=30............................\n",
      "[CV 1/3; 83/110] END ..........max_depth=12, n_estimators=30; total time=  12.8s\n",
      "[CV 2/3; 83/110] START max_depth=12, n_estimators=30............................\n",
      "[CV 2/3; 83/110] END ..........max_depth=12, n_estimators=30; total time=  12.5s\n",
      "[CV 3/3; 83/110] START max_depth=12, n_estimators=30............................\n",
      "[CV 3/3; 83/110] END ..........max_depth=12, n_estimators=30; total time=  12.7s\n",
      "[CV 1/3; 84/110] START max_depth=12, n_estimators=40............................\n",
      "[CV 1/3; 84/110] END ..........max_depth=12, n_estimators=40; total time=  17.4s\n",
      "[CV 2/3; 84/110] START max_depth=12, n_estimators=40............................\n",
      "[CV 2/3; 84/110] END ..........max_depth=12, n_estimators=40; total time=  17.0s\n",
      "[CV 3/3; 84/110] START max_depth=12, n_estimators=40............................\n",
      "[CV 3/3; 84/110] END ..........max_depth=12, n_estimators=40; total time=  16.8s\n",
      "[CV 1/3; 85/110] START max_depth=12, n_estimators=50............................\n",
      "[CV 1/3; 85/110] END ..........max_depth=12, n_estimators=50; total time=  21.9s\n",
      "[CV 2/3; 85/110] START max_depth=12, n_estimators=50............................\n",
      "[CV 2/3; 85/110] END ..........max_depth=12, n_estimators=50; total time=  21.2s\n",
      "[CV 3/3; 85/110] START max_depth=12, n_estimators=50............................\n",
      "[CV 3/3; 85/110] END ..........max_depth=12, n_estimators=50; total time=  20.8s\n",
      "[CV 1/3; 86/110] START max_depth=12, n_estimators=60............................\n",
      "[CV 1/3; 86/110] END ..........max_depth=12, n_estimators=60; total time=  27.4s\n",
      "[CV 2/3; 86/110] START max_depth=12, n_estimators=60............................\n",
      "[CV 2/3; 86/110] END ..........max_depth=12, n_estimators=60; total time=  25.1s\n",
      "[CV 3/3; 86/110] START max_depth=12, n_estimators=60............................\n",
      "[CV 3/3; 86/110] END ..........max_depth=12, n_estimators=60; total time=  25.5s\n",
      "[CV 1/3; 87/110] START max_depth=12, n_estimators=70............................\n",
      "[CV 1/3; 87/110] END ..........max_depth=12, n_estimators=70; total time=  30.0s\n",
      "[CV 2/3; 87/110] START max_depth=12, n_estimators=70............................\n",
      "[CV 2/3; 87/110] END ..........max_depth=12, n_estimators=70; total time=  29.5s\n",
      "[CV 3/3; 87/110] START max_depth=12, n_estimators=70............................\n",
      "[CV 3/3; 87/110] END ..........max_depth=12, n_estimators=70; total time=  29.5s\n",
      "[CV 1/3; 88/110] START max_depth=12, n_estimators=80............................\n",
      "[CV 1/3; 88/110] END ..........max_depth=12, n_estimators=80; total time=  34.9s\n",
      "[CV 2/3; 88/110] START max_depth=12, n_estimators=80............................\n",
      "[CV 2/3; 88/110] END ..........max_depth=12, n_estimators=80; total time=  33.8s\n",
      "[CV 3/3; 88/110] START max_depth=12, n_estimators=80............................\n",
      "[CV 3/3; 88/110] END ..........max_depth=12, n_estimators=80; total time=  34.2s\n",
      "[CV 1/3; 89/110] START max_depth=12, n_estimators=90............................\n",
      "[CV 1/3; 89/110] END ..........max_depth=12, n_estimators=90; total time=  38.6s\n",
      "[CV 2/3; 89/110] START max_depth=12, n_estimators=90............................\n",
      "[CV 2/3; 89/110] END ..........max_depth=12, n_estimators=90; total time=  38.1s\n",
      "[CV 3/3; 89/110] START max_depth=12, n_estimators=90............................\n",
      "[CV 3/3; 89/110] END ..........max_depth=12, n_estimators=90; total time=  38.4s\n",
      "[CV 1/3; 90/110] START max_depth=12, n_estimators=100...........................\n",
      "[CV 1/3; 90/110] END .........max_depth=12, n_estimators=100; total time=  42.9s\n",
      "[CV 2/3; 90/110] START max_depth=12, n_estimators=100...........................\n",
      "[CV 2/3; 90/110] END .........max_depth=12, n_estimators=100; total time=  42.2s\n",
      "[CV 3/3; 90/110] START max_depth=12, n_estimators=100...........................\n",
      "[CV 3/3; 90/110] END .........max_depth=12, n_estimators=100; total time=  42.8s\n",
      "[CV 1/3; 91/110] START max_depth=13, n_estimators=10............................\n",
      "[CV 1/3; 91/110] END ..........max_depth=13, n_estimators=10; total time=   4.5s\n",
      "[CV 2/3; 91/110] START max_depth=13, n_estimators=10............................\n",
      "[CV 2/3; 91/110] END ..........max_depth=13, n_estimators=10; total time=   4.4s\n",
      "[CV 3/3; 91/110] START max_depth=13, n_estimators=10............................\n",
      "[CV 3/3; 91/110] END ..........max_depth=13, n_estimators=10; total time=   5.5s\n",
      "[CV 1/3; 92/110] START max_depth=13, n_estimators=20............................\n",
      "[CV 1/3; 92/110] END ..........max_depth=13, n_estimators=20; total time=  13.7s\n",
      "[CV 2/3; 92/110] START max_depth=13, n_estimators=20............................\n",
      "[CV 2/3; 92/110] END ..........max_depth=13, n_estimators=20; total time=  10.1s\n",
      "[CV 3/3; 92/110] START max_depth=13, n_estimators=20............................\n",
      "[CV 3/3; 92/110] END ..........max_depth=13, n_estimators=20; total time=   9.2s\n",
      "[CV 1/3; 93/110] START max_depth=13, n_estimators=30............................\n",
      "[CV 1/3; 93/110] END ..........max_depth=13, n_estimators=30; total time=  16.1s\n",
      "[CV 2/3; 93/110] START max_depth=13, n_estimators=30............................\n",
      "[CV 2/3; 93/110] END ..........max_depth=13, n_estimators=30; total time=  13.2s\n",
      "[CV 3/3; 93/110] START max_depth=13, n_estimators=30............................\n",
      "[CV 3/3; 93/110] END ..........max_depth=13, n_estimators=30; total time=  13.2s\n",
      "[CV 1/3; 94/110] START max_depth=13, n_estimators=40............................\n",
      "[CV 1/3; 94/110] END ..........max_depth=13, n_estimators=40; total time=  18.7s\n",
      "[CV 2/3; 94/110] START max_depth=13, n_estimators=40............................\n",
      "[CV 2/3; 94/110] END ..........max_depth=13, n_estimators=40; total time=  17.7s\n",
      "[CV 3/3; 94/110] START max_depth=13, n_estimators=40............................\n",
      "[CV 3/3; 94/110] END ..........max_depth=13, n_estimators=40; total time=  17.6s\n",
      "[CV 1/3; 95/110] START max_depth=13, n_estimators=50............................\n",
      "[CV 1/3; 95/110] END ..........max_depth=13, n_estimators=50; total time=  23.1s\n",
      "[CV 2/3; 95/110] START max_depth=13, n_estimators=50............................\n",
      "[CV 2/3; 95/110] END ..........max_depth=13, n_estimators=50; total time=  22.0s\n",
      "[CV 3/3; 95/110] START max_depth=13, n_estimators=50............................\n",
      "[CV 3/3; 95/110] END ..........max_depth=13, n_estimators=50; total time=  22.0s\n",
      "[CV 1/3; 96/110] START max_depth=13, n_estimators=60............................\n",
      "[CV 1/3; 96/110] END ..........max_depth=13, n_estimators=60; total time=  27.8s\n",
      "[CV 2/3; 96/110] START max_depth=13, n_estimators=60............................\n",
      "[CV 2/3; 96/110] END ..........max_depth=13, n_estimators=60; total time=  26.7s\n",
      "[CV 3/3; 96/110] START max_depth=13, n_estimators=60............................\n",
      "[CV 3/3; 96/110] END ..........max_depth=13, n_estimators=60; total time=  27.2s\n",
      "[CV 1/3; 97/110] START max_depth=13, n_estimators=70............................\n",
      "[CV 1/3; 97/110] END ..........max_depth=13, n_estimators=70; total time=  31.9s\n",
      "[CV 2/3; 97/110] START max_depth=13, n_estimators=70............................\n",
      "[CV 2/3; 97/110] END ..........max_depth=13, n_estimators=70; total time=  31.3s\n",
      "[CV 3/3; 97/110] START max_depth=13, n_estimators=70............................\n",
      "[CV 3/3; 97/110] END ..........max_depth=13, n_estimators=70; total time=  31.0s\n",
      "[CV 1/3; 98/110] START max_depth=13, n_estimators=80............................\n",
      "[CV 1/3; 98/110] END ..........max_depth=13, n_estimators=80; total time=  37.1s\n",
      "[CV 2/3; 98/110] START max_depth=13, n_estimators=80............................\n",
      "[CV 2/3; 98/110] END ..........max_depth=13, n_estimators=80; total time=  35.4s\n",
      "[CV 3/3; 98/110] START max_depth=13, n_estimators=80............................\n",
      "[CV 3/3; 98/110] END ..........max_depth=13, n_estimators=80; total time=  35.2s\n",
      "[CV 1/3; 99/110] START max_depth=13, n_estimators=90............................\n",
      "[CV 1/3; 99/110] END ..........max_depth=13, n_estimators=90; total time=  41.4s\n",
      "[CV 2/3; 99/110] START max_depth=13, n_estimators=90............................\n",
      "[CV 2/3; 99/110] END ..........max_depth=13, n_estimators=90; total time=  39.7s\n",
      "[CV 3/3; 99/110] START max_depth=13, n_estimators=90............................\n",
      "[CV 3/3; 99/110] END ..........max_depth=13, n_estimators=90; total time=  40.9s\n",
      "[CV 1/3; 100/110] START max_depth=13, n_estimators=100..........................\n",
      "[CV 1/3; 100/110] END ........max_depth=13, n_estimators=100; total time=  45.9s\n",
      "[CV 2/3; 100/110] START max_depth=13, n_estimators=100..........................\n",
      "[CV 2/3; 100/110] END ........max_depth=13, n_estimators=100; total time=  44.4s\n",
      "[CV 3/3; 100/110] START max_depth=13, n_estimators=100..........................\n",
      "[CV 3/3; 100/110] END ........max_depth=13, n_estimators=100; total time=  44.4s\n",
      "[CV 1/3; 101/110] START max_depth=14, n_estimators=10...........................\n",
      "[CV 1/3; 101/110] END .........max_depth=14, n_estimators=10; total time=   4.8s\n",
      "[CV 2/3; 101/110] START max_depth=14, n_estimators=10...........................\n",
      "[CV 2/3; 101/110] END .........max_depth=14, n_estimators=10; total time=   4.7s\n",
      "[CV 3/3; 101/110] START max_depth=14, n_estimators=10...........................\n",
      "[CV 3/3; 101/110] END .........max_depth=14, n_estimators=10; total time=   4.8s\n",
      "[CV 1/3; 102/110] START max_depth=14, n_estimators=20...........................\n",
      "[CV 1/3; 102/110] END .........max_depth=14, n_estimators=20; total time=   9.8s\n",
      "[CV 2/3; 102/110] START max_depth=14, n_estimators=20...........................\n",
      "[CV 2/3; 102/110] END .........max_depth=14, n_estimators=20; total time=   9.2s\n",
      "[CV 3/3; 102/110] START max_depth=14, n_estimators=20...........................\n",
      "[CV 3/3; 102/110] END .........max_depth=14, n_estimators=20; total time=   9.3s\n",
      "[CV 1/3; 103/110] START max_depth=14, n_estimators=30...........................\n",
      "[CV 1/3; 103/110] END .........max_depth=14, n_estimators=30; total time=  14.2s\n",
      "[CV 2/3; 103/110] START max_depth=14, n_estimators=30...........................\n",
      "[CV 2/3; 103/110] END .........max_depth=14, n_estimators=30; total time=  14.1s\n",
      "[CV 3/3; 103/110] START max_depth=14, n_estimators=30...........................\n",
      "[CV 3/3; 103/110] END .........max_depth=14, n_estimators=30; total time=  14.2s\n",
      "[CV 1/3; 104/110] START max_depth=14, n_estimators=40...........................\n",
      "[CV 1/3; 104/110] END .........max_depth=14, n_estimators=40; total time=  18.9s\n",
      "[CV 2/3; 104/110] START max_depth=14, n_estimators=40...........................\n",
      "[CV 2/3; 104/110] END .........max_depth=14, n_estimators=40; total time=  18.6s\n",
      "[CV 3/3; 104/110] START max_depth=14, n_estimators=40...........................\n",
      "[CV 3/3; 104/110] END .........max_depth=14, n_estimators=40; total time=  19.0s\n",
      "[CV 1/3; 105/110] START max_depth=14, n_estimators=50...........................\n",
      "[CV 1/3; 105/110] END .........max_depth=14, n_estimators=50; total time=  23.9s\n",
      "[CV 2/3; 105/110] START max_depth=14, n_estimators=50...........................\n",
      "[CV 2/3; 105/110] END .........max_depth=14, n_estimators=50; total time=  23.2s\n",
      "[CV 3/3; 105/110] START max_depth=14, n_estimators=50...........................\n",
      "[CV 3/3; 105/110] END .........max_depth=14, n_estimators=50; total time=  23.7s\n",
      "[CV 1/3; 106/110] START max_depth=14, n_estimators=60...........................\n",
      "[CV 1/3; 106/110] END .........max_depth=14, n_estimators=60; total time=  28.5s\n",
      "[CV 2/3; 106/110] START max_depth=14, n_estimators=60...........................\n",
      "[CV 2/3; 106/110] END .........max_depth=14, n_estimators=60; total time=  28.3s\n",
      "[CV 3/3; 106/110] START max_depth=14, n_estimators=60...........................\n",
      "[CV 3/3; 106/110] END .........max_depth=14, n_estimators=60; total time=  27.8s\n",
      "[CV 1/3; 107/110] START max_depth=14, n_estimators=70...........................\n",
      "[CV 1/3; 107/110] END .........max_depth=14, n_estimators=70; total time=  34.5s\n",
      "[CV 2/3; 107/110] START max_depth=14, n_estimators=70...........................\n",
      "[CV 2/3; 107/110] END .........max_depth=14, n_estimators=70; total time=  32.6s\n",
      "[CV 3/3; 107/110] START max_depth=14, n_estimators=70...........................\n",
      "[CV 3/3; 107/110] END .........max_depth=14, n_estimators=70; total time=  33.0s\n",
      "[CV 1/3; 108/110] START max_depth=14, n_estimators=80...........................\n",
      "[CV 1/3; 108/110] END .........max_depth=14, n_estimators=80; total time=  38.0s\n",
      "[CV 2/3; 108/110] START max_depth=14, n_estimators=80...........................\n",
      "[CV 2/3; 108/110] END .........max_depth=14, n_estimators=80; total time=  36.4s\n",
      "[CV 3/3; 108/110] START max_depth=14, n_estimators=80...........................\n",
      "[CV 3/3; 108/110] END .........max_depth=14, n_estimators=80; total time=  37.3s\n",
      "[CV 1/3; 109/110] START max_depth=14, n_estimators=90...........................\n",
      "[CV 1/3; 109/110] END .........max_depth=14, n_estimators=90; total time=  43.0s\n",
      "[CV 2/3; 109/110] START max_depth=14, n_estimators=90...........................\n",
      "[CV 2/3; 109/110] END .........max_depth=14, n_estimators=90; total time=  41.8s\n",
      "[CV 3/3; 109/110] START max_depth=14, n_estimators=90...........................\n",
      "[CV 3/3; 109/110] END .........max_depth=14, n_estimators=90; total time=  42.1s\n",
      "[CV 1/3; 110/110] START max_depth=14, n_estimators=100..........................\n",
      "[CV 1/3; 110/110] END ........max_depth=14, n_estimators=100; total time=  47.7s\n",
      "[CV 2/3; 110/110] START max_depth=14, n_estimators=100..........................\n",
      "[CV 2/3; 110/110] END ........max_depth=14, n_estimators=100; total time=  46.2s\n",
      "[CV 3/3; 110/110] START max_depth=14, n_estimators=100..........................\n",
      "[CV 3/3; 110/110] END ........max_depth=14, n_estimators=100; total time=  47.4s\n",
      "Лучшее значение sMAPE для случайного леса: 6.8017277848423205 при значениях гиперпараметров: {'max_depth': 7, 'n_estimators': 30}\n"
     ]
    }
   ],
   "source": [
    "# Обучаем модель Случайный лес и находим реузльтат метрики качества\n",
    "param_grid = {'n_estimators': range (10, 110, 10),\n",
    "              'max_depth': range (4, 15, 1)} \n",
    "\n",
    "model = RandomForestRegressor(random_state=12345)\n",
    "search = GridSearchCV(model, param_grid, cv=3, scoring=smape_scorer, verbose=10)\n",
    "search.fit(features_train, target_train)\n",
    "print('Лучшее значение sMAPE для случайного леса: {} при значениях гиперпараметров: {}'.format(-search.best_score_, search.best_params_))"
   ]
  },
  {
   "cell_type": "code",
   "execution_count": 39,
   "metadata": {
    "scrolled": true
   },
   "outputs": [
    {
     "name": "stdout",
     "output_type": "stream",
     "text": [
      "[CV] START .....................................................................\n"
     ]
    },
    {
     "name": "stderr",
     "output_type": "stream",
     "text": [
      "[Parallel(n_jobs=1)]: Using backend SequentialBackend with 1 concurrent workers.\n"
     ]
    },
    {
     "name": "stdout",
     "output_type": "stream",
     "text": [
      "[CV] END ............................... score: (test=-8.628) total time=   0.3s\n",
      "[CV] START .....................................................................\n"
     ]
    },
    {
     "name": "stderr",
     "output_type": "stream",
     "text": [
      "[Parallel(n_jobs=1)]: Done   1 out of   1 | elapsed:    0.3s remaining:    0.0s\n"
     ]
    },
    {
     "name": "stdout",
     "output_type": "stream",
     "text": [
      "[CV] END ............................... score: (test=-5.487) total time=   0.2s\n",
      "[CV] START .....................................................................\n"
     ]
    },
    {
     "name": "stderr",
     "output_type": "stream",
     "text": [
      "[Parallel(n_jobs=1)]: Done   2 out of   2 | elapsed:    0.5s remaining:    0.0s\n"
     ]
    },
    {
     "name": "stdout",
     "output_type": "stream",
     "text": [
      "[CV] END .............................. score: (test=-11.927) total time=   0.3s\n",
      "Лучшее значение sMAPE для линейной регрессии: 8.680819669322533\n"
     ]
    },
    {
     "name": "stderr",
     "output_type": "stream",
     "text": [
      "[Parallel(n_jobs=1)]: Done   3 out of   3 | elapsed:    0.8s remaining:    0.0s\n",
      "[Parallel(n_jobs=1)]: Done   3 out of   3 | elapsed:    0.8s finished\n"
     ]
    }
   ],
   "source": [
    "# Обучаем модель Линейная решрессия и находим реузльтат метрики качества\n",
    "\n",
    "model = LinearRegression()\n",
    "model.fit(features_train, target_train)\n",
    "smape = cross_val_score(model, features_train, target_train, cv=3, scoring=smape_scorer, verbose=10).mean()\n",
    "print('Лучшее значение sMAPE для линейной регрессии:', -smape)"
   ]
  },
  {
   "cell_type": "code",
   "execution_count": 45,
   "metadata": {},
   "outputs": [
    {
     "name": "stdout",
     "output_type": "stream",
     "text": [
      "sMAPE для тестовых данных: 9.506857952507982\n"
     ]
    }
   ],
   "source": [
    "# Проверяем работу лучшей модели Случайных лес на тестовой выборке \n",
    "model = RandomForestRegressor(max_depth=7, n_estimators=30, random_state=12345) \n",
    "model.fit(features_train, target_train)\n",
    "predictions_test = model.predict(features_test)\n",
    "\n",
    "print('sMAPE для тестовых данных:', calculate_final_smape(target_test, predictions_test))"
   ]
  },
  {
   "cell_type": "markdown",
   "metadata": {},
   "source": [
    "Вывод:\n",
    "- По итогам исследования - лучшая модель RandomForest показывает метрику sMAPE 6.80 на кросс-валидации и 9.50 на тестовых данных  "
   ]
  },
  {
   "cell_type": "markdown",
   "metadata": {},
   "source": [
    "### Построим константную модели и сравним данные   "
   ]
  },
  {
   "cell_type": "code",
   "execution_count": 42,
   "metadata": {},
   "outputs": [
    {
     "name": "stdout",
     "output_type": "stream",
     "text": [
      "sMAPE для константной модели по среднему значению: 9.055387620506396\n"
     ]
    }
   ],
   "source": [
    "# находим точность для константной модели по среднему значению \n",
    "dummy_regressor = DummyRegressor(strategy=\"mean\") \n",
    " \n",
    "dummy_regressor.fit(features_train, target_train)\n",
    "predictions = dummy_regressor.predict(features_test)\n",
    "\n",
    "print('sMAPE для константной модели по среднему значению:', calculate_final_smape(target_test, predictions))"
   ]
  },
  {
   "cell_type": "code",
   "execution_count": 43,
   "metadata": {},
   "outputs": [
    {
     "name": "stdout",
     "output_type": "stream",
     "text": [
      "sMAPE для константной модели по медиане: 8.612817646733882\n"
     ]
    }
   ],
   "source": [
    "# находим точность для константной модели по медиане\n",
    "dummy_regressor = DummyRegressor(strategy=\"median\") \n",
    " \n",
    "dummy_regressor.fit(features_train, target_train)\n",
    "predictions = dummy_regressor.predict(features_test)\n",
    "\n",
    "print('sMAPE для константной модели по медиане:', calculate_final_smape(target_test, predictions))"
   ]
  },
  {
   "cell_type": "markdown",
   "metadata": {},
   "source": [
    "Вывод:  \n",
    " - Метрика sMAPE константной модели по среднему значению 9.05, метрика sMAPE константной модели по медиане немного лучше - 8.61."
   ]
  },
  {
   "cell_type": "markdown",
   "metadata": {},
   "source": [
    "Общий вывод: \n",
    "\n",
    "- Произвели исследовательский анализ данных, проверили наличие пропусков, дубликатов. В тестовой выборке отсутсвуют данные, которые обозначают характеристики смеси на разных этапах обработки.\n",
    "- Проверили правильность расчета данных эффективности обогащения, данные рассчитаны верно. Значение метрики MAE оказалось незначительной  \n",
    "- После флотации концентрация золота и свинца увеличивается с каждым этапом, а концентрация серебра снижается.\n",
    "- Распределения размеров гранул в train и test выборках одинаковы.\n",
    "- Суммарные распределения концентрации имеют множество выбросов, скошены влево, а также имеют множество нулевых значений. \n",
    "- Пропуски в данных были удалены, для корректного использования данных в обучении моделей \n",
    "- Лучшая модель - RandomForest, со значением метрики sMAPE 6.80. На тестовой выборке модель предсказала значения целевых признаков с точностью 9.50\n",
    "- Метрика sMAPE константной модели по среднему значению 9.05, метрика sMAPE константной модели по медиане немного лучше - 8.61.\n",
    "- Проведенное исследование и полученные результаты метрик sMAPE говорят об адекватности полученной модели RandomForest. \n"
   ]
  },
  {
   "cell_type": "markdown",
   "metadata": {},
   "source": [
    "## Чек-лист готовности проекта"
   ]
  },
  {
   "cell_type": "markdown",
   "metadata": {},
   "source": [
    "- [x]  Jupyter Notebook открыт\n",
    "- [x]  Весь код выполняется без ошибок\n",
    "- [x]  Ячейки с кодом расположены в порядке выполнения\n",
    "- [x]  Выполнен шаг 1: данные подготовлены\n",
    "    - [x]  Проверена формула вычисления эффективности обогащения\n",
    "    - [x]  Проанализированы признаки, недоступные в тестовой выборке\n",
    "    - [x]  Проведена предобработка данных\n",
    "- [x]  Выполнен шаг 2: данные проанализированы\n",
    "    - [x]  Исследовано изменение концентрации элементов на каждом этапе\n",
    "    - [x]  Проанализированы распределения размеров гранул на обучающей и тестовой выборках\n",
    "    - [x]  Исследованы суммарные концентрации\n",
    "- [x]  Выполнен шаг 3: построена модель прогнозирования\n",
    "    - [x]  Написана функция для вычисления итогового *sMAPE*\n",
    "    - [x]  Обучено и проверено несколько моделей\n",
    "    - [x]  Выбрана лучшая модель, её качество проверено на тестовой выборке"
   ]
  }
 ],
 "metadata": {
  "ExecuteTimeLog": [
   {
    "duration": 552,
    "start_time": "2022-08-08T08:24:51.247Z"
   },
   {
    "duration": 868,
    "start_time": "2022-08-08T08:25:06.584Z"
   },
   {
    "duration": 73,
    "start_time": "2022-08-08T08:27:50.939Z"
   },
   {
    "duration": 3504,
    "start_time": "2022-08-08T08:28:58.118Z"
   },
   {
    "duration": 31,
    "start_time": "2022-08-08T08:30:40.989Z"
   },
   {
    "duration": 19,
    "start_time": "2022-08-08T08:31:32.692Z"
   },
   {
    "duration": 3,
    "start_time": "2022-08-08T08:34:39.811Z"
   },
   {
    "duration": 136,
    "start_time": "2022-08-08T08:35:06.170Z"
   },
   {
    "duration": 27,
    "start_time": "2022-08-08T08:35:37.057Z"
   },
   {
    "duration": 22,
    "start_time": "2022-08-08T08:36:05.682Z"
   },
   {
    "duration": 104,
    "start_time": "2022-08-08T08:36:19.853Z"
   },
   {
    "duration": 32,
    "start_time": "2022-08-08T08:51:07.289Z"
   },
   {
    "duration": 4,
    "start_time": "2022-08-08T08:52:10.495Z"
   },
   {
    "duration": 140,
    "start_time": "2022-08-08T08:52:12.852Z"
   },
   {
    "duration": 8,
    "start_time": "2022-08-08T08:52:34.022Z"
   },
   {
    "duration": 161,
    "start_time": "2022-08-08T08:52:36.079Z"
   },
   {
    "duration": 6,
    "start_time": "2022-08-08T08:52:41.747Z"
   },
   {
    "duration": 182,
    "start_time": "2022-08-08T08:52:43.656Z"
   },
   {
    "duration": 35,
    "start_time": "2022-08-08T08:52:47.553Z"
   },
   {
    "duration": 136,
    "start_time": "2022-08-08T08:52:50.748Z"
   },
   {
    "duration": 3,
    "start_time": "2022-08-08T09:19:42.642Z"
   },
   {
    "duration": 4,
    "start_time": "2022-08-08T09:20:40.122Z"
   },
   {
    "duration": 11,
    "start_time": "2022-08-08T09:51:34.341Z"
   },
   {
    "duration": 11,
    "start_time": "2022-08-08T09:52:25.828Z"
   },
   {
    "duration": 17,
    "start_time": "2022-08-08T09:53:59.867Z"
   },
   {
    "duration": 1218,
    "start_time": "2022-08-08T09:54:45.853Z"
   },
   {
    "duration": 1285,
    "start_time": "2022-08-08T09:54:47.073Z"
   },
   {
    "duration": 26,
    "start_time": "2022-08-08T09:54:48.361Z"
   },
   {
    "duration": 34,
    "start_time": "2022-08-08T09:54:48.389Z"
   },
   {
    "duration": 5,
    "start_time": "2022-08-08T09:54:48.426Z"
   },
   {
    "duration": 120,
    "start_time": "2022-08-08T09:54:48.433Z"
   },
   {
    "duration": 0,
    "start_time": "2022-08-08T09:54:48.555Z"
   },
   {
    "duration": 0,
    "start_time": "2022-08-08T09:54:48.557Z"
   },
   {
    "duration": 0,
    "start_time": "2022-08-08T09:54:48.558Z"
   },
   {
    "duration": 0,
    "start_time": "2022-08-08T09:54:48.560Z"
   },
   {
    "duration": 3,
    "start_time": "2022-08-08T09:55:26.494Z"
   },
   {
    "duration": 19,
    "start_time": "2022-08-08T09:55:30.606Z"
   },
   {
    "duration": 136,
    "start_time": "2022-08-08T09:55:32.833Z"
   },
   {
    "duration": 30,
    "start_time": "2022-08-08T09:55:35.913Z"
   },
   {
    "duration": 135,
    "start_time": "2022-08-08T09:55:38.291Z"
   },
   {
    "duration": 4,
    "start_time": "2022-08-08T09:58:14.627Z"
   },
   {
    "duration": 15,
    "start_time": "2022-08-08T10:04:18.227Z"
   },
   {
    "duration": 27,
    "start_time": "2022-08-08T10:04:47.004Z"
   },
   {
    "duration": 13,
    "start_time": "2022-08-08T10:04:50.663Z"
   },
   {
    "duration": 19,
    "start_time": "2022-08-08T10:05:02.228Z"
   },
   {
    "duration": 15,
    "start_time": "2022-08-08T10:05:25.795Z"
   },
   {
    "duration": 13,
    "start_time": "2022-08-08T10:05:37.748Z"
   },
   {
    "duration": 5,
    "start_time": "2022-08-08T10:06:15.623Z"
   },
   {
    "duration": 14,
    "start_time": "2022-08-08T10:06:45.878Z"
   },
   {
    "duration": 10,
    "start_time": "2022-08-08T10:07:22.240Z"
   },
   {
    "duration": 6,
    "start_time": "2022-08-08T10:13:32.097Z"
   },
   {
    "duration": 149,
    "start_time": "2022-08-08T10:14:13.184Z"
   },
   {
    "duration": 11,
    "start_time": "2022-08-08T10:14:23.127Z"
   },
   {
    "duration": 10,
    "start_time": "2022-08-08T10:14:43.183Z"
   },
   {
    "duration": 4,
    "start_time": "2022-08-08T10:16:03.976Z"
   },
   {
    "duration": 6,
    "start_time": "2022-08-08T10:18:42.166Z"
   },
   {
    "duration": 10,
    "start_time": "2022-08-08T10:19:08.485Z"
   },
   {
    "duration": 6,
    "start_time": "2022-08-08T10:19:24.210Z"
   },
   {
    "duration": 4,
    "start_time": "2022-08-08T10:26:43.566Z"
   },
   {
    "duration": 4,
    "start_time": "2022-08-08T10:26:56.464Z"
   },
   {
    "duration": 9,
    "start_time": "2022-08-08T10:30:54.457Z"
   },
   {
    "duration": 11,
    "start_time": "2022-08-08T10:31:21.281Z"
   },
   {
    "duration": 11,
    "start_time": "2022-08-08T10:32:50.272Z"
   },
   {
    "duration": 9,
    "start_time": "2022-08-08T10:33:05.080Z"
   },
   {
    "duration": 5,
    "start_time": "2022-08-08T10:33:33.564Z"
   },
   {
    "duration": 3,
    "start_time": "2022-08-08T10:34:33.669Z"
   },
   {
    "duration": 123,
    "start_time": "2022-08-08T10:34:36.729Z"
   },
   {
    "duration": 3,
    "start_time": "2022-08-08T10:34:43.268Z"
   },
   {
    "duration": 124,
    "start_time": "2022-08-08T10:34:45.774Z"
   },
   {
    "duration": 11,
    "start_time": "2022-08-08T10:37:10.137Z"
   },
   {
    "duration": 11,
    "start_time": "2022-08-08T10:43:02.530Z"
   },
   {
    "duration": 10,
    "start_time": "2022-08-08T10:43:40.896Z"
   },
   {
    "duration": 16,
    "start_time": "2022-08-08T10:43:55.691Z"
   },
   {
    "duration": 12,
    "start_time": "2022-08-08T10:48:39.565Z"
   },
   {
    "duration": 10,
    "start_time": "2022-08-08T10:50:33.137Z"
   },
   {
    "duration": 3,
    "start_time": "2022-08-08T10:50:57.841Z"
   },
   {
    "duration": 3,
    "start_time": "2022-08-08T10:50:59.956Z"
   },
   {
    "duration": 4,
    "start_time": "2022-08-08T10:51:56.911Z"
   },
   {
    "duration": 2,
    "start_time": "2022-08-08T10:56:31.277Z"
   },
   {
    "duration": 2,
    "start_time": "2022-08-08T10:58:19.999Z"
   },
   {
    "duration": 49,
    "start_time": "2022-08-09T07:21:30.333Z"
   },
   {
    "duration": 1052,
    "start_time": "2022-08-09T07:21:35.316Z"
   },
   {
    "duration": 2866,
    "start_time": "2022-08-09T07:21:36.370Z"
   },
   {
    "duration": 25,
    "start_time": "2022-08-09T07:21:39.237Z"
   },
   {
    "duration": 17,
    "start_time": "2022-08-09T07:21:39.264Z"
   },
   {
    "duration": 4,
    "start_time": "2022-08-09T07:21:39.283Z"
   },
   {
    "duration": 8,
    "start_time": "2022-08-09T07:21:39.288Z"
   },
   {
    "duration": 14,
    "start_time": "2022-08-09T07:21:39.297Z"
   },
   {
    "duration": 5,
    "start_time": "2022-08-09T07:21:39.312Z"
   },
   {
    "duration": 3,
    "start_time": "2022-08-09T07:21:39.318Z"
   },
   {
    "duration": 6,
    "start_time": "2022-08-09T07:21:39.322Z"
   },
   {
    "duration": 9,
    "start_time": "2022-08-09T07:21:39.330Z"
   },
   {
    "duration": 136,
    "start_time": "2022-08-09T07:21:39.340Z"
   },
   {
    "duration": 33,
    "start_time": "2022-08-09T07:21:39.478Z"
   },
   {
    "duration": 110,
    "start_time": "2022-08-09T07:21:39.513Z"
   },
   {
    "duration": 108,
    "start_time": "2022-08-09T07:39:16.145Z"
   },
   {
    "duration": 552,
    "start_time": "2022-08-09T07:39:54.608Z"
   },
   {
    "duration": 36,
    "start_time": "2022-08-09T07:40:02.271Z"
   },
   {
    "duration": 1191,
    "start_time": "2022-08-09T07:40:36.172Z"
   },
   {
    "duration": 60,
    "start_time": "2022-08-09T07:45:02.226Z"
   },
   {
    "duration": 90,
    "start_time": "2022-08-09T07:45:53.324Z"
   },
   {
    "duration": 69,
    "start_time": "2022-08-09T07:47:05.208Z"
   },
   {
    "duration": 51,
    "start_time": "2022-08-09T07:51:42.292Z"
   },
   {
    "duration": 791,
    "start_time": "2022-08-09T08:05:28.962Z"
   },
   {
    "duration": 105,
    "start_time": "2022-08-09T08:06:01.365Z"
   },
   {
    "duration": 52,
    "start_time": "2022-08-09T08:06:10.939Z"
   },
   {
    "duration": 12,
    "start_time": "2022-08-09T08:10:56.113Z"
   },
   {
    "duration": 9,
    "start_time": "2022-08-09T08:11:53.878Z"
   },
   {
    "duration": 10,
    "start_time": "2022-08-09T08:12:08.198Z"
   },
   {
    "duration": 11,
    "start_time": "2022-08-09T08:13:52.993Z"
   },
   {
    "duration": 10,
    "start_time": "2022-08-09T08:14:50.722Z"
   },
   {
    "duration": 9,
    "start_time": "2022-08-09T08:14:55.413Z"
   },
   {
    "duration": 15020,
    "start_time": "2022-08-09T08:17:16.113Z"
   },
   {
    "duration": 16,
    "start_time": "2022-08-09T08:18:18.890Z"
   },
   {
    "duration": 128356,
    "start_time": "2022-08-09T08:18:41.492Z"
   },
   {
    "duration": 236,
    "start_time": "2022-08-09T08:21:48.827Z"
   },
   {
    "duration": 275,
    "start_time": "2022-08-09T08:23:38.391Z"
   },
   {
    "duration": 1978,
    "start_time": "2022-08-09T08:24:29.430Z"
   },
   {
    "duration": 687,
    "start_time": "2022-08-09T08:24:31.410Z"
   },
   {
    "duration": 31,
    "start_time": "2022-08-09T08:24:32.099Z"
   },
   {
    "duration": 27,
    "start_time": "2022-08-09T08:24:32.131Z"
   },
   {
    "duration": 3,
    "start_time": "2022-08-09T08:24:32.160Z"
   },
   {
    "duration": 14,
    "start_time": "2022-08-09T08:24:32.165Z"
   },
   {
    "duration": 13,
    "start_time": "2022-08-09T08:24:32.180Z"
   },
   {
    "duration": 4,
    "start_time": "2022-08-09T08:24:32.195Z"
   },
   {
    "duration": 2,
    "start_time": "2022-08-09T08:24:32.211Z"
   },
   {
    "duration": 16,
    "start_time": "2022-08-09T08:24:32.214Z"
   },
   {
    "duration": 8,
    "start_time": "2022-08-09T08:24:32.232Z"
   },
   {
    "duration": 139,
    "start_time": "2022-08-09T08:24:32.241Z"
   },
   {
    "duration": 31,
    "start_time": "2022-08-09T08:24:32.381Z"
   },
   {
    "duration": 123,
    "start_time": "2022-08-09T08:24:32.415Z"
   },
   {
    "duration": 233,
    "start_time": "2022-08-09T08:24:32.540Z"
   },
   {
    "duration": 15,
    "start_time": "2022-08-09T08:25:13.837Z"
   },
   {
    "duration": 12,
    "start_time": "2022-08-09T08:25:16.625Z"
   },
   {
    "duration": 56,
    "start_time": "2022-08-09T08:29:11.176Z"
   },
   {
    "duration": 76,
    "start_time": "2022-08-09T08:29:23.093Z"
   },
   {
    "duration": 84,
    "start_time": "2022-08-09T08:30:51.024Z"
   },
   {
    "duration": 13,
    "start_time": "2022-08-09T09:08:24.037Z"
   },
   {
    "duration": 6,
    "start_time": "2022-08-09T09:09:12.385Z"
   },
   {
    "duration": 11,
    "start_time": "2022-08-09T09:09:23.613Z"
   },
   {
    "duration": 14,
    "start_time": "2022-08-09T09:10:32.787Z"
   },
   {
    "duration": 5,
    "start_time": "2022-08-09T09:11:21.512Z"
   },
   {
    "duration": 10,
    "start_time": "2022-08-09T09:12:02.351Z"
   },
   {
    "duration": 117,
    "start_time": "2022-08-09T09:12:11.514Z"
   },
   {
    "duration": 66,
    "start_time": "2022-08-09T09:12:46.856Z"
   },
   {
    "duration": 68,
    "start_time": "2022-08-09T09:13:07.271Z"
   },
   {
    "duration": 64,
    "start_time": "2022-08-09T09:15:24.041Z"
   },
   {
    "duration": 112,
    "start_time": "2022-08-09T09:15:46.542Z"
   },
   {
    "duration": 164,
    "start_time": "2022-08-09T09:19:34.484Z"
   },
   {
    "duration": 414,
    "start_time": "2022-08-09T09:21:55.544Z"
   },
   {
    "duration": 20,
    "start_time": "2022-08-09T09:31:07.572Z"
   },
   {
    "duration": 27,
    "start_time": "2022-08-09T09:31:33.966Z"
   },
   {
    "duration": 12,
    "start_time": "2022-08-09T09:36:31.264Z"
   },
   {
    "duration": 4,
    "start_time": "2022-08-09T09:37:27.577Z"
   },
   {
    "duration": 20,
    "start_time": "2022-08-09T09:37:42.066Z"
   },
   {
    "duration": 62,
    "start_time": "2022-08-09T09:38:42.773Z"
   },
   {
    "duration": 21,
    "start_time": "2022-08-09T09:38:50.515Z"
   },
   {
    "duration": 110,
    "start_time": "2022-08-09T09:39:51.603Z"
   },
   {
    "duration": 22,
    "start_time": "2022-08-09T09:39:57.743Z"
   },
   {
    "duration": 181,
    "start_time": "2022-08-09T09:46:40.226Z"
   },
   {
    "duration": 163,
    "start_time": "2022-08-09T09:46:49.121Z"
   },
   {
    "duration": 243,
    "start_time": "2022-08-09T09:47:02.608Z"
   },
   {
    "duration": 363,
    "start_time": "2022-08-09T09:47:10.959Z"
   },
   {
    "duration": 175,
    "start_time": "2022-08-09T09:47:20.154Z"
   },
   {
    "duration": 167,
    "start_time": "2022-08-09T09:47:27.414Z"
   },
   {
    "duration": 169,
    "start_time": "2022-08-09T09:47:36.064Z"
   },
   {
    "duration": 173,
    "start_time": "2022-08-09T09:48:21.415Z"
   },
   {
    "duration": 173,
    "start_time": "2022-08-09T09:48:31.270Z"
   },
   {
    "duration": 150,
    "start_time": "2022-08-09T09:48:39.581Z"
   },
   {
    "duration": 273,
    "start_time": "2022-08-09T09:48:49.360Z"
   },
   {
    "duration": 435,
    "start_time": "2022-08-09T09:49:47.710Z"
   },
   {
    "duration": 392,
    "start_time": "2022-08-09T09:50:17.570Z"
   },
   {
    "duration": 410,
    "start_time": "2022-08-09T09:50:26.831Z"
   },
   {
    "duration": 194,
    "start_time": "2022-08-09T09:50:36.446Z"
   },
   {
    "duration": 420,
    "start_time": "2022-08-09T09:50:49.598Z"
   },
   {
    "duration": 378,
    "start_time": "2022-08-09T09:51:00.855Z"
   },
   {
    "duration": 372,
    "start_time": "2022-08-09T09:51:46.888Z"
   },
   {
    "duration": 404,
    "start_time": "2022-08-09T09:52:33.650Z"
   },
   {
    "duration": 386,
    "start_time": "2022-08-09T09:53:26.983Z"
   },
   {
    "duration": 225,
    "start_time": "2022-08-09T09:53:37.383Z"
   },
   {
    "duration": 1998,
    "start_time": "2022-08-09T09:55:20.034Z"
   },
   {
    "duration": 722,
    "start_time": "2022-08-09T09:55:22.034Z"
   },
   {
    "duration": 29,
    "start_time": "2022-08-09T09:55:22.758Z"
   },
   {
    "duration": 32,
    "start_time": "2022-08-09T09:55:22.790Z"
   },
   {
    "duration": 13,
    "start_time": "2022-08-09T09:55:22.825Z"
   },
   {
    "duration": 12,
    "start_time": "2022-08-09T09:55:22.840Z"
   },
   {
    "duration": 16,
    "start_time": "2022-08-09T09:55:22.854Z"
   },
   {
    "duration": 6,
    "start_time": "2022-08-09T09:55:22.872Z"
   },
   {
    "duration": 4,
    "start_time": "2022-08-09T09:55:22.879Z"
   },
   {
    "duration": 7,
    "start_time": "2022-08-09T09:55:22.885Z"
   },
   {
    "duration": 17,
    "start_time": "2022-08-09T09:55:22.894Z"
   },
   {
    "duration": 132,
    "start_time": "2022-08-09T09:55:22.913Z"
   },
   {
    "duration": 26,
    "start_time": "2022-08-09T09:55:23.047Z"
   },
   {
    "duration": 122,
    "start_time": "2022-08-09T09:55:23.077Z"
   },
   {
    "duration": 230,
    "start_time": "2022-08-09T09:55:23.201Z"
   },
   {
    "duration": 201,
    "start_time": "2022-08-09T10:00:53.532Z"
   },
   {
    "duration": 198,
    "start_time": "2022-08-09T10:01:04.979Z"
   },
   {
    "duration": 381,
    "start_time": "2022-08-09T10:01:22.447Z"
   },
   {
    "duration": 194,
    "start_time": "2022-08-09T10:04:14.157Z"
   },
   {
    "duration": 203,
    "start_time": "2022-08-09T10:04:23.354Z"
   },
   {
    "duration": 192,
    "start_time": "2022-08-09T10:17:42.002Z"
   },
   {
    "duration": 191,
    "start_time": "2022-08-09T10:17:52.826Z"
   },
   {
    "duration": 192,
    "start_time": "2022-08-09T10:18:04.976Z"
   },
   {
    "duration": 193,
    "start_time": "2022-08-09T10:18:16.259Z"
   },
   {
    "duration": 50,
    "start_time": "2022-08-09T18:22:47.945Z"
   },
   {
    "duration": 9,
    "start_time": "2022-08-09T18:23:12.700Z"
   },
   {
    "duration": 1265,
    "start_time": "2022-08-09T18:23:34.479Z"
   },
   {
    "duration": 0,
    "start_time": "2022-08-09T18:23:35.746Z"
   },
   {
    "duration": 0,
    "start_time": "2022-08-09T18:23:35.747Z"
   },
   {
    "duration": 0,
    "start_time": "2022-08-09T18:23:35.748Z"
   },
   {
    "duration": 0,
    "start_time": "2022-08-09T18:23:35.749Z"
   },
   {
    "duration": 0,
    "start_time": "2022-08-09T18:23:35.751Z"
   },
   {
    "duration": 0,
    "start_time": "2022-08-09T18:23:35.752Z"
   },
   {
    "duration": 0,
    "start_time": "2022-08-09T18:23:35.753Z"
   },
   {
    "duration": 0,
    "start_time": "2022-08-09T18:23:35.754Z"
   },
   {
    "duration": 0,
    "start_time": "2022-08-09T18:23:35.756Z"
   },
   {
    "duration": 0,
    "start_time": "2022-08-09T18:23:35.757Z"
   },
   {
    "duration": 0,
    "start_time": "2022-08-09T18:23:35.758Z"
   },
   {
    "duration": 1,
    "start_time": "2022-08-09T18:23:35.759Z"
   },
   {
    "duration": 0,
    "start_time": "2022-08-09T18:23:35.761Z"
   },
   {
    "duration": 0,
    "start_time": "2022-08-09T18:23:35.763Z"
   },
   {
    "duration": 0,
    "start_time": "2022-08-09T18:23:35.764Z"
   },
   {
    "duration": 0,
    "start_time": "2022-08-09T18:23:35.765Z"
   },
   {
    "duration": 0,
    "start_time": "2022-08-09T18:23:35.767Z"
   },
   {
    "duration": 1635,
    "start_time": "2022-08-09T18:24:01.513Z"
   },
   {
    "duration": 2814,
    "start_time": "2022-08-09T18:24:03.150Z"
   },
   {
    "duration": 20,
    "start_time": "2022-08-09T18:24:05.966Z"
   },
   {
    "duration": 19,
    "start_time": "2022-08-09T18:24:05.988Z"
   },
   {
    "duration": 3,
    "start_time": "2022-08-09T18:24:06.010Z"
   },
   {
    "duration": 7,
    "start_time": "2022-08-09T18:24:06.014Z"
   },
   {
    "duration": 11,
    "start_time": "2022-08-09T18:24:06.023Z"
   },
   {
    "duration": 5,
    "start_time": "2022-08-09T18:24:06.035Z"
   },
   {
    "duration": 2,
    "start_time": "2022-08-09T18:24:06.042Z"
   },
   {
    "duration": 12,
    "start_time": "2022-08-09T18:24:06.046Z"
   },
   {
    "duration": 8,
    "start_time": "2022-08-09T18:24:06.060Z"
   },
   {
    "duration": 133,
    "start_time": "2022-08-09T18:24:06.069Z"
   },
   {
    "duration": 31,
    "start_time": "2022-08-09T18:24:06.204Z"
   },
   {
    "duration": 122,
    "start_time": "2022-08-09T18:24:06.238Z"
   },
   {
    "duration": 218,
    "start_time": "2022-08-09T18:24:06.362Z"
   },
   {
    "duration": 265,
    "start_time": "2022-08-09T18:24:06.582Z"
   },
   {
    "duration": 205,
    "start_time": "2022-08-09T18:24:06.849Z"
   },
   {
    "duration": 629,
    "start_time": "2022-08-09T18:24:07.056Z"
   },
   {
    "duration": 588,
    "start_time": "2022-08-09T18:25:11.683Z"
   },
   {
    "duration": 536,
    "start_time": "2022-08-09T18:25:21.837Z"
   },
   {
    "duration": 553,
    "start_time": "2022-08-09T18:25:36.643Z"
   },
   {
    "duration": 674,
    "start_time": "2022-08-09T18:25:43.198Z"
   },
   {
    "duration": 710,
    "start_time": "2022-08-09T18:25:48.601Z"
   },
   {
    "duration": 602,
    "start_time": "2022-08-09T18:25:56.364Z"
   },
   {
    "duration": 574,
    "start_time": "2022-08-09T18:31:53.483Z"
   },
   {
    "duration": 535,
    "start_time": "2022-08-09T18:32:04.629Z"
   },
   {
    "duration": 635,
    "start_time": "2022-08-09T18:32:11.825Z"
   },
   {
    "duration": 733,
    "start_time": "2022-08-09T18:32:33.054Z"
   },
   {
    "duration": 656,
    "start_time": "2022-08-09T18:34:12.920Z"
   },
   {
    "duration": 626,
    "start_time": "2022-08-09T18:37:03.749Z"
   },
   {
    "duration": 667,
    "start_time": "2022-08-09T18:37:31.117Z"
   },
   {
    "duration": 627,
    "start_time": "2022-08-09T18:39:16.643Z"
   },
   {
    "duration": 752,
    "start_time": "2022-08-09T18:39:33.504Z"
   },
   {
    "duration": 577,
    "start_time": "2022-08-09T18:39:39.710Z"
   },
   {
    "duration": 619,
    "start_time": "2022-08-09T18:39:46.953Z"
   },
   {
    "duration": 606,
    "start_time": "2022-08-09T18:39:56.770Z"
   },
   {
    "duration": 574,
    "start_time": "2022-08-09T18:40:29.944Z"
   },
   {
    "duration": 3,
    "start_time": "2022-08-10T16:48:46.005Z"
   },
   {
    "duration": 44,
    "start_time": "2022-08-10T17:03:24.963Z"
   },
   {
    "duration": 1509,
    "start_time": "2022-08-10T17:03:30.514Z"
   },
   {
    "duration": 3321,
    "start_time": "2022-08-10T17:03:32.025Z"
   },
   {
    "duration": 23,
    "start_time": "2022-08-10T17:03:35.351Z"
   },
   {
    "duration": 4,
    "start_time": "2022-08-10T17:03:35.375Z"
   },
   {
    "duration": 7,
    "start_time": "2022-08-10T17:03:35.381Z"
   },
   {
    "duration": 6,
    "start_time": "2022-08-10T17:03:35.389Z"
   },
   {
    "duration": 13,
    "start_time": "2022-08-10T17:03:35.396Z"
   },
   {
    "duration": 8,
    "start_time": "2022-08-10T17:03:35.410Z"
   },
   {
    "duration": 5,
    "start_time": "2022-08-10T17:03:35.419Z"
   },
   {
    "duration": 16,
    "start_time": "2022-08-10T17:03:35.426Z"
   },
   {
    "duration": 3,
    "start_time": "2022-08-10T17:03:35.443Z"
   },
   {
    "duration": 128,
    "start_time": "2022-08-10T17:03:35.448Z"
   },
   {
    "duration": 21,
    "start_time": "2022-08-10T17:03:35.578Z"
   },
   {
    "duration": 113,
    "start_time": "2022-08-10T17:03:35.602Z"
   },
   {
    "duration": 218,
    "start_time": "2022-08-10T17:03:35.717Z"
   },
   {
    "duration": 276,
    "start_time": "2022-08-10T17:03:35.938Z"
   },
   {
    "duration": 201,
    "start_time": "2022-08-10T17:03:36.216Z"
   },
   {
    "duration": 688,
    "start_time": "2022-08-10T17:03:36.419Z"
   },
   {
    "duration": 120,
    "start_time": "2022-08-10T17:03:37.108Z"
   },
   {
    "duration": 562,
    "start_time": "2022-08-10T17:04:15.461Z"
   },
   {
    "duration": 14,
    "start_time": "2022-08-10T17:05:46.653Z"
   },
   {
    "duration": 1118,
    "start_time": "2022-08-10T17:17:11.403Z"
   },
   {
    "duration": 1059,
    "start_time": "2022-08-10T17:18:01.691Z"
   },
   {
    "duration": 1049,
    "start_time": "2022-08-10T17:19:04.709Z"
   },
   {
    "duration": 1054,
    "start_time": "2022-08-10T17:20:30.201Z"
   },
   {
    "duration": 1085,
    "start_time": "2022-08-10T17:20:42.171Z"
   },
   {
    "duration": 714,
    "start_time": "2022-08-10T17:21:39.986Z"
   },
   {
    "duration": 1098,
    "start_time": "2022-08-10T17:22:28.099Z"
   },
   {
    "duration": 1053,
    "start_time": "2022-08-10T17:23:43.095Z"
   },
   {
    "duration": 338,
    "start_time": "2022-08-10T17:24:51.387Z"
   },
   {
    "duration": 14,
    "start_time": "2022-08-10T17:25:04.373Z"
   },
   {
    "duration": 1035,
    "start_time": "2022-08-10T17:25:14.713Z"
   },
   {
    "duration": 12,
    "start_time": "2022-08-10T17:25:49.115Z"
   },
   {
    "duration": 17,
    "start_time": "2022-08-10T17:25:52.035Z"
   },
   {
    "duration": 1053,
    "start_time": "2022-08-10T17:25:58.214Z"
   },
   {
    "duration": 12,
    "start_time": "2022-08-10T17:26:07.999Z"
   },
   {
    "duration": 1040,
    "start_time": "2022-08-10T17:26:14.129Z"
   },
   {
    "duration": 17,
    "start_time": "2022-08-10T17:28:46.768Z"
   },
   {
    "duration": 18,
    "start_time": "2022-08-10T17:30:28.971Z"
   },
   {
    "duration": 1117,
    "start_time": "2022-08-10T17:30:34.828Z"
   },
   {
    "duration": 1332,
    "start_time": "2022-08-10T17:36:15.787Z"
   },
   {
    "duration": 668,
    "start_time": "2022-08-10T17:36:17.121Z"
   },
   {
    "duration": 20,
    "start_time": "2022-08-10T17:36:17.790Z"
   },
   {
    "duration": 16,
    "start_time": "2022-08-10T17:36:17.811Z"
   },
   {
    "duration": 23,
    "start_time": "2022-08-10T17:36:17.829Z"
   },
   {
    "duration": 20,
    "start_time": "2022-08-10T17:36:17.853Z"
   },
   {
    "duration": 22,
    "start_time": "2022-08-10T17:36:17.874Z"
   },
   {
    "duration": 10,
    "start_time": "2022-08-10T17:36:17.897Z"
   },
   {
    "duration": 24,
    "start_time": "2022-08-10T17:36:17.909Z"
   },
   {
    "duration": 29,
    "start_time": "2022-08-10T17:36:17.935Z"
   },
   {
    "duration": 44,
    "start_time": "2022-08-10T17:36:17.966Z"
   },
   {
    "duration": 142,
    "start_time": "2022-08-10T17:36:18.012Z"
   },
   {
    "duration": 22,
    "start_time": "2022-08-10T17:36:18.155Z"
   },
   {
    "duration": 110,
    "start_time": "2022-08-10T17:36:18.179Z"
   },
   {
    "duration": 209,
    "start_time": "2022-08-10T17:36:18.291Z"
   },
   {
    "duration": 191,
    "start_time": "2022-08-10T17:36:18.501Z"
   },
   {
    "duration": 293,
    "start_time": "2022-08-10T17:36:18.693Z"
   },
   {
    "duration": 609,
    "start_time": "2022-08-10T17:36:18.988Z"
   },
   {
    "duration": 14,
    "start_time": "2022-08-10T17:36:19.599Z"
   },
   {
    "duration": 1126,
    "start_time": "2022-08-10T17:36:19.614Z"
   },
   {
    "duration": 1118,
    "start_time": "2022-08-10T17:38:05.412Z"
   },
   {
    "duration": 1118,
    "start_time": "2022-08-10T17:38:17.727Z"
   },
   {
    "duration": 1003,
    "start_time": "2022-08-10T17:40:14.310Z"
   },
   {
    "duration": 1025,
    "start_time": "2022-08-10T17:40:21.884Z"
   },
   {
    "duration": 1021,
    "start_time": "2022-08-10T17:40:30.798Z"
   },
   {
    "duration": 1171,
    "start_time": "2022-08-10T17:40:38.779Z"
   },
   {
    "duration": 227,
    "start_time": "2022-08-10T17:45:58.423Z"
   },
   {
    "duration": 1198,
    "start_time": "2022-08-10T17:46:08.148Z"
   },
   {
    "duration": 905,
    "start_time": "2022-08-10T17:47:45.023Z"
   },
   {
    "duration": 1232,
    "start_time": "2022-08-10T17:47:53.228Z"
   },
   {
    "duration": 14,
    "start_time": "2022-08-10T17:48:11.918Z"
   },
   {
    "duration": 1040,
    "start_time": "2022-08-10T17:48:16.195Z"
   },
   {
    "duration": 598,
    "start_time": "2022-08-10T17:49:27.386Z"
   },
   {
    "duration": 615,
    "start_time": "2022-08-10T17:49:40.678Z"
   },
   {
    "duration": 592,
    "start_time": "2022-08-10T17:49:51.220Z"
   },
   {
    "duration": 652,
    "start_time": "2022-08-10T17:49:58.182Z"
   },
   {
    "duration": 744,
    "start_time": "2022-08-10T17:50:06.731Z"
   },
   {
    "duration": 19,
    "start_time": "2022-08-10T18:00:10.378Z"
   },
   {
    "duration": 30,
    "start_time": "2022-08-10T18:00:28.836Z"
   },
   {
    "duration": 132,
    "start_time": "2022-08-10T18:00:42.170Z"
   },
   {
    "duration": 141,
    "start_time": "2022-08-10T18:01:32.335Z"
   },
   {
    "duration": 518,
    "start_time": "2022-08-10T18:04:05.558Z"
   },
   {
    "duration": 493,
    "start_time": "2022-08-10T18:04:39.267Z"
   },
   {
    "duration": 403,
    "start_time": "2022-08-10T18:11:10.924Z"
   },
   {
    "duration": 479,
    "start_time": "2022-08-10T18:11:31.787Z"
   },
   {
    "duration": 379,
    "start_time": "2022-08-10T18:11:49.068Z"
   },
   {
    "duration": 865,
    "start_time": "2022-08-10T18:12:06.166Z"
   },
   {
    "duration": 925,
    "start_time": "2022-08-10T18:12:15.649Z"
   },
   {
    "duration": 865,
    "start_time": "2022-08-10T18:12:39.966Z"
   },
   {
    "duration": 977,
    "start_time": "2022-08-10T18:12:48.029Z"
   },
   {
    "duration": 838,
    "start_time": "2022-08-10T18:13:13.727Z"
   },
   {
    "duration": 1031,
    "start_time": "2022-08-10T18:13:26.219Z"
   },
   {
    "duration": 1000,
    "start_time": "2022-08-10T18:13:37.101Z"
   },
   {
    "duration": 962,
    "start_time": "2022-08-10T18:15:11.015Z"
   },
   {
    "duration": 854,
    "start_time": "2022-08-10T18:15:52.773Z"
   },
   {
    "duration": 816,
    "start_time": "2022-08-10T18:16:00.816Z"
   },
   {
    "duration": 15,
    "start_time": "2022-08-10T18:16:43.108Z"
   },
   {
    "duration": 1018,
    "start_time": "2022-08-10T18:16:46.223Z"
   },
   {
    "duration": 1033,
    "start_time": "2022-08-10T18:16:55.505Z"
   },
   {
    "duration": 995,
    "start_time": "2022-08-10T18:17:17.449Z"
   },
   {
    "duration": 413,
    "start_time": "2022-08-10T18:17:39.321Z"
   },
   {
    "duration": 117,
    "start_time": "2022-08-10T18:22:09.425Z"
   },
   {
    "duration": 13,
    "start_time": "2022-08-10T18:23:17.766Z"
   },
   {
    "duration": 16,
    "start_time": "2022-08-10T18:24:48.784Z"
   },
   {
    "duration": 110,
    "start_time": "2022-08-10T18:25:34.882Z"
   },
   {
    "duration": 401,
    "start_time": "2022-08-10T18:27:25.555Z"
   },
   {
    "duration": 449,
    "start_time": "2022-08-10T18:27:35.706Z"
   },
   {
    "duration": 388,
    "start_time": "2022-08-10T18:29:54.677Z"
   },
   {
    "duration": 377,
    "start_time": "2022-08-10T18:30:01.499Z"
   },
   {
    "duration": 369,
    "start_time": "2022-08-10T18:30:10.581Z"
   },
   {
    "duration": 413,
    "start_time": "2022-08-10T18:34:31.221Z"
   },
   {
    "duration": 1379,
    "start_time": "2022-08-10T19:39:51.031Z"
   },
   {
    "duration": 686,
    "start_time": "2022-08-10T19:39:52.412Z"
   },
   {
    "duration": 20,
    "start_time": "2022-08-10T19:39:53.101Z"
   },
   {
    "duration": 9,
    "start_time": "2022-08-10T19:39:53.123Z"
   },
   {
    "duration": 8,
    "start_time": "2022-08-10T19:39:53.137Z"
   },
   {
    "duration": 15,
    "start_time": "2022-08-10T19:39:53.147Z"
   },
   {
    "duration": 10,
    "start_time": "2022-08-10T19:39:53.164Z"
   },
   {
    "duration": 4,
    "start_time": "2022-08-10T19:39:53.176Z"
   },
   {
    "duration": 4,
    "start_time": "2022-08-10T19:39:53.181Z"
   },
   {
    "duration": 7,
    "start_time": "2022-08-10T19:39:53.186Z"
   },
   {
    "duration": 12,
    "start_time": "2022-08-10T19:39:53.194Z"
   },
   {
    "duration": 122,
    "start_time": "2022-08-10T19:39:53.207Z"
   },
   {
    "duration": 34,
    "start_time": "2022-08-10T19:39:53.331Z"
   },
   {
    "duration": 110,
    "start_time": "2022-08-10T19:39:53.368Z"
   },
   {
    "duration": 227,
    "start_time": "2022-08-10T19:39:53.480Z"
   },
   {
    "duration": 192,
    "start_time": "2022-08-10T19:39:53.709Z"
   },
   {
    "duration": 272,
    "start_time": "2022-08-10T19:39:53.903Z"
   },
   {
    "duration": 454,
    "start_time": "2022-08-10T19:39:54.177Z"
   },
   {
    "duration": 20,
    "start_time": "2022-08-10T19:39:54.641Z"
   },
   {
    "duration": 1000,
    "start_time": "2022-08-10T19:39:54.662Z"
   },
   {
    "duration": 137,
    "start_time": "2022-08-10T19:39:55.664Z"
   },
   {
    "duration": 156,
    "start_time": "2022-08-10T19:41:36.285Z"
   },
   {
    "duration": 152,
    "start_time": "2022-08-10T19:41:57.935Z"
   },
   {
    "duration": 25,
    "start_time": "2022-08-10T19:42:30.034Z"
   },
   {
    "duration": 18,
    "start_time": "2022-08-10T19:43:05.800Z"
   },
   {
    "duration": 340,
    "start_time": "2022-08-10T19:46:41.411Z"
   },
   {
    "duration": 209,
    "start_time": "2022-08-10T19:47:16.398Z"
   },
   {
    "duration": 230,
    "start_time": "2022-08-10T19:48:04.041Z"
   },
   {
    "duration": 218,
    "start_time": "2022-08-10T19:49:36.869Z"
   },
   {
    "duration": 14,
    "start_time": "2022-08-10T19:50:54.531Z"
   },
   {
    "duration": 207,
    "start_time": "2022-08-10T19:53:44.631Z"
   },
   {
    "duration": 29,
    "start_time": "2022-08-10T19:54:02.535Z"
   },
   {
    "duration": 141,
    "start_time": "2022-08-10T19:55:19.564Z"
   },
   {
    "duration": 237,
    "start_time": "2022-08-10T19:57:36.154Z"
   },
   {
    "duration": 48,
    "start_time": "2022-08-10T19:57:45.177Z"
   },
   {
    "duration": 47,
    "start_time": "2022-08-10T19:57:56.476Z"
   },
   {
    "duration": 430,
    "start_time": "2022-08-10T19:58:13.070Z"
   },
   {
    "duration": 37,
    "start_time": "2022-08-10T19:58:35.054Z"
   },
   {
    "duration": 21,
    "start_time": "2022-08-10T19:59:01.428Z"
   },
   {
    "duration": 127,
    "start_time": "2022-08-10T19:59:20.271Z"
   },
   {
    "duration": 251,
    "start_time": "2022-08-10T20:00:43.732Z"
   },
   {
    "duration": 343,
    "start_time": "2022-08-10T20:05:17.489Z"
   },
   {
    "duration": 254,
    "start_time": "2022-08-10T20:05:37.319Z"
   },
   {
    "duration": 231,
    "start_time": "2022-08-10T20:05:49.944Z"
   },
   {
    "duration": 256,
    "start_time": "2022-08-10T20:13:28.564Z"
   },
   {
    "duration": 314,
    "start_time": "2022-08-10T20:13:41.612Z"
   },
   {
    "duration": 243,
    "start_time": "2022-08-10T20:13:56.872Z"
   },
   {
    "duration": 356,
    "start_time": "2022-08-10T20:15:08.451Z"
   },
   {
    "duration": 22,
    "start_time": "2022-08-10T20:36:44.629Z"
   },
   {
    "duration": 16,
    "start_time": "2022-08-10T20:37:11.191Z"
   },
   {
    "duration": 11,
    "start_time": "2022-08-10T20:37:40.519Z"
   },
   {
    "duration": 146,
    "start_time": "2022-08-11T08:48:19.032Z"
   },
   {
    "duration": 129,
    "start_time": "2022-08-11T08:48:38.003Z"
   },
   {
    "duration": 1334,
    "start_time": "2022-08-11T08:48:45.130Z"
   },
   {
    "duration": 664,
    "start_time": "2022-08-11T08:48:46.466Z"
   },
   {
    "duration": 22,
    "start_time": "2022-08-11T08:48:47.132Z"
   },
   {
    "duration": 31,
    "start_time": "2022-08-11T08:48:47.155Z"
   },
   {
    "duration": 19,
    "start_time": "2022-08-11T08:48:47.188Z"
   },
   {
    "duration": 12,
    "start_time": "2022-08-11T08:48:47.208Z"
   },
   {
    "duration": 24,
    "start_time": "2022-08-11T08:48:47.221Z"
   },
   {
    "duration": 43,
    "start_time": "2022-08-11T08:48:47.247Z"
   },
   {
    "duration": 38,
    "start_time": "2022-08-11T08:48:47.292Z"
   },
   {
    "duration": 30,
    "start_time": "2022-08-11T08:48:47.332Z"
   },
   {
    "duration": 14,
    "start_time": "2022-08-11T08:48:47.364Z"
   },
   {
    "duration": 23,
    "start_time": "2022-08-11T08:48:47.379Z"
   },
   {
    "duration": 116,
    "start_time": "2022-08-11T08:48:47.403Z"
   },
   {
    "duration": 26,
    "start_time": "2022-08-11T08:48:47.521Z"
   },
   {
    "duration": 100,
    "start_time": "2022-08-11T08:48:47.549Z"
   },
   {
    "duration": 221,
    "start_time": "2022-08-11T08:48:47.650Z"
   },
   {
    "duration": 183,
    "start_time": "2022-08-11T08:48:47.873Z"
   },
   {
    "duration": 257,
    "start_time": "2022-08-11T08:48:48.058Z"
   },
   {
    "duration": 410,
    "start_time": "2022-08-11T08:48:48.317Z"
   },
   {
    "duration": 272,
    "start_time": "2022-08-11T08:48:48.729Z"
   },
   {
    "duration": 0,
    "start_time": "2022-08-11T08:48:49.003Z"
   },
   {
    "duration": 0,
    "start_time": "2022-08-11T08:48:49.005Z"
   },
   {
    "duration": 0,
    "start_time": "2022-08-11T08:48:49.007Z"
   },
   {
    "duration": 1383,
    "start_time": "2022-08-11T08:50:15.876Z"
   },
   {
    "duration": 678,
    "start_time": "2022-08-11T08:50:17.261Z"
   },
   {
    "duration": 20,
    "start_time": "2022-08-11T08:50:17.941Z"
   },
   {
    "duration": 42,
    "start_time": "2022-08-11T08:50:17.962Z"
   },
   {
    "duration": 27,
    "start_time": "2022-08-11T08:50:18.007Z"
   },
   {
    "duration": 22,
    "start_time": "2022-08-11T08:50:18.036Z"
   },
   {
    "duration": 37,
    "start_time": "2022-08-11T08:50:18.060Z"
   },
   {
    "duration": 25,
    "start_time": "2022-08-11T08:50:18.098Z"
   },
   {
    "duration": 32,
    "start_time": "2022-08-11T08:50:18.124Z"
   },
   {
    "duration": 35,
    "start_time": "2022-08-11T08:50:18.158Z"
   },
   {
    "duration": 9,
    "start_time": "2022-08-11T08:50:18.195Z"
   },
   {
    "duration": 28,
    "start_time": "2022-08-11T08:50:18.205Z"
   },
   {
    "duration": 132,
    "start_time": "2022-08-11T08:50:18.234Z"
   },
   {
    "duration": 20,
    "start_time": "2022-08-11T08:50:18.369Z"
   },
   {
    "duration": 97,
    "start_time": "2022-08-11T08:50:18.390Z"
   },
   {
    "duration": 200,
    "start_time": "2022-08-11T08:50:18.489Z"
   },
   {
    "duration": 195,
    "start_time": "2022-08-11T08:50:18.691Z"
   },
   {
    "duration": 312,
    "start_time": "2022-08-11T08:50:18.888Z"
   },
   {
    "duration": 428,
    "start_time": "2022-08-11T08:50:19.202Z"
   },
   {
    "duration": 17,
    "start_time": "2022-08-11T08:50:19.631Z"
   },
   {
    "duration": 1009,
    "start_time": "2022-08-11T08:50:19.649Z"
   },
   {
    "duration": 247,
    "start_time": "2022-08-11T08:50:20.659Z"
   },
   {
    "duration": 3,
    "start_time": "2022-08-11T09:37:05.206Z"
   },
   {
    "duration": 608,
    "start_time": "2022-08-11T09:41:37.909Z"
   },
   {
    "duration": 2,
    "start_time": "2022-08-11T10:09:51.506Z"
   },
   {
    "duration": 3,
    "start_time": "2022-08-11T10:09:55.239Z"
   },
   {
    "duration": 3,
    "start_time": "2022-08-11T10:10:08.949Z"
   },
   {
    "duration": 3,
    "start_time": "2022-08-11T10:10:11.468Z"
   },
   {
    "duration": 3,
    "start_time": "2022-08-11T10:10:13.986Z"
   },
   {
    "duration": 105,
    "start_time": "2022-08-11T11:47:16.205Z"
   },
   {
    "duration": 3,
    "start_time": "2022-08-11T11:52:30.452Z"
   },
   {
    "duration": 10,
    "start_time": "2022-08-11T11:52:34.409Z"
   },
   {
    "duration": 1074,
    "start_time": "2022-08-11T11:53:32.417Z"
   },
   {
    "duration": 1188,
    "start_time": "2022-08-11T11:53:58.558Z"
   },
   {
    "duration": 4,
    "start_time": "2022-08-11T11:57:40.197Z"
   },
   {
    "duration": 3,
    "start_time": "2022-08-11T11:57:44.494Z"
   },
   {
    "duration": 285,
    "start_time": "2022-08-11T11:57:51.497Z"
   },
   {
    "duration": 17,
    "start_time": "2022-08-11T11:58:33.668Z"
   },
   {
    "duration": 5946,
    "start_time": "2022-08-11T12:00:38.651Z"
   },
   {
    "duration": 8,
    "start_time": "2022-08-11T12:01:15.262Z"
   },
   {
    "duration": 8,
    "start_time": "2022-08-11T12:01:26.555Z"
   },
   {
    "duration": 9,
    "start_time": "2022-08-11T12:01:32.084Z"
   },
   {
    "duration": 9,
    "start_time": "2022-08-11T12:01:37.941Z"
   },
   {
    "duration": 3,
    "start_time": "2022-08-11T12:01:46.131Z"
   },
   {
    "duration": 276,
    "start_time": "2022-08-11T12:05:09.562Z"
   },
   {
    "duration": 3,
    "start_time": "2022-08-11T12:05:38.625Z"
   },
   {
    "duration": 130,
    "start_time": "2022-08-11T12:06:31.534Z"
   },
   {
    "duration": 8,
    "start_time": "2022-08-11T12:06:51.535Z"
   },
   {
    "duration": 123,
    "start_time": "2022-08-11T12:07:03.995Z"
   },
   {
    "duration": 123,
    "start_time": "2022-08-11T12:07:15.117Z"
   },
   {
    "duration": 5,
    "start_time": "2022-08-11T12:08:05.072Z"
   },
   {
    "duration": 9,
    "start_time": "2022-08-11T12:09:06.797Z"
   },
   {
    "duration": 9,
    "start_time": "2022-08-11T12:09:36.864Z"
   },
   {
    "duration": 8,
    "start_time": "2022-08-11T12:09:59.912Z"
   },
   {
    "duration": 8,
    "start_time": "2022-08-11T12:10:29.337Z"
   },
   {
    "duration": 8,
    "start_time": "2022-08-11T12:11:23.887Z"
   },
   {
    "duration": 1348,
    "start_time": "2022-08-11T12:11:48.683Z"
   },
   {
    "duration": 645,
    "start_time": "2022-08-11T12:11:50.033Z"
   },
   {
    "duration": 20,
    "start_time": "2022-08-11T12:11:50.679Z"
   },
   {
    "duration": 17,
    "start_time": "2022-08-11T12:11:50.700Z"
   },
   {
    "duration": 30,
    "start_time": "2022-08-11T12:11:50.719Z"
   },
   {
    "duration": 3,
    "start_time": "2022-08-11T12:11:50.750Z"
   },
   {
    "duration": 11,
    "start_time": "2022-08-11T12:11:50.754Z"
   },
   {
    "duration": 11,
    "start_time": "2022-08-11T12:11:50.766Z"
   },
   {
    "duration": 4,
    "start_time": "2022-08-11T12:11:50.778Z"
   },
   {
    "duration": 4,
    "start_time": "2022-08-11T12:11:50.783Z"
   },
   {
    "duration": 8,
    "start_time": "2022-08-11T12:11:50.789Z"
   },
   {
    "duration": 8,
    "start_time": "2022-08-11T12:11:50.798Z"
   },
   {
    "duration": 131,
    "start_time": "2022-08-11T12:11:50.807Z"
   },
   {
    "duration": 23,
    "start_time": "2022-08-11T12:11:50.941Z"
   },
   {
    "duration": 99,
    "start_time": "2022-08-11T12:11:50.965Z"
   },
   {
    "duration": 199,
    "start_time": "2022-08-11T12:11:51.065Z"
   },
   {
    "duration": 182,
    "start_time": "2022-08-11T12:11:51.266Z"
   },
   {
    "duration": 255,
    "start_time": "2022-08-11T12:11:51.450Z"
   },
   {
    "duration": 416,
    "start_time": "2022-08-11T12:11:51.707Z"
   },
   {
    "duration": 19,
    "start_time": "2022-08-11T12:11:52.124Z"
   },
   {
    "duration": 998,
    "start_time": "2022-08-11T12:11:52.145Z"
   },
   {
    "duration": 211,
    "start_time": "2022-08-11T12:11:53.145Z"
   },
   {
    "duration": 3,
    "start_time": "2022-08-11T12:11:53.357Z"
   },
   {
    "duration": 21,
    "start_time": "2022-08-11T12:11:53.361Z"
   },
   {
    "duration": 274,
    "start_time": "2022-08-11T12:11:53.383Z"
   },
   {
    "duration": 7,
    "start_time": "2022-08-11T12:11:53.659Z"
   },
   {
    "duration": 13,
    "start_time": "2022-08-11T12:11:53.667Z"
   },
   {
    "duration": 11,
    "start_time": "2022-08-11T12:11:53.682Z"
   },
   {
    "duration": 16,
    "start_time": "2022-08-11T12:11:53.695Z"
   },
   {
    "duration": 114,
    "start_time": "2022-08-11T14:47:21.477Z"
   },
   {
    "duration": 13,
    "start_time": "2022-08-11T14:47:57.367Z"
   },
   {
    "duration": 1308,
    "start_time": "2022-08-11T14:48:59.050Z"
   },
   {
    "duration": 659,
    "start_time": "2022-08-11T14:49:00.359Z"
   },
   {
    "duration": 26,
    "start_time": "2022-08-11T14:49:01.020Z"
   },
   {
    "duration": 17,
    "start_time": "2022-08-11T14:49:01.048Z"
   },
   {
    "duration": 16,
    "start_time": "2022-08-11T14:49:01.067Z"
   },
   {
    "duration": 2,
    "start_time": "2022-08-11T14:49:01.084Z"
   },
   {
    "duration": 6,
    "start_time": "2022-08-11T14:49:01.088Z"
   },
   {
    "duration": 24,
    "start_time": "2022-08-11T14:49:01.095Z"
   },
   {
    "duration": 21,
    "start_time": "2022-08-11T14:49:01.121Z"
   },
   {
    "duration": 26,
    "start_time": "2022-08-11T14:49:01.143Z"
   },
   {
    "duration": 22,
    "start_time": "2022-08-11T14:49:01.170Z"
   },
   {
    "duration": 17,
    "start_time": "2022-08-11T14:49:01.193Z"
   },
   {
    "duration": 119,
    "start_time": "2022-08-11T14:49:01.212Z"
   },
   {
    "duration": 25,
    "start_time": "2022-08-11T14:49:01.333Z"
   },
   {
    "duration": 99,
    "start_time": "2022-08-11T14:49:01.359Z"
   },
   {
    "duration": 203,
    "start_time": "2022-08-11T14:49:01.459Z"
   },
   {
    "duration": 186,
    "start_time": "2022-08-11T14:49:01.663Z"
   },
   {
    "duration": 270,
    "start_time": "2022-08-11T14:49:01.851Z"
   },
   {
    "duration": 398,
    "start_time": "2022-08-11T14:49:02.122Z"
   },
   {
    "duration": 20,
    "start_time": "2022-08-11T14:49:02.522Z"
   },
   {
    "duration": 999,
    "start_time": "2022-08-11T14:49:02.543Z"
   },
   {
    "duration": 221,
    "start_time": "2022-08-11T14:49:03.544Z"
   },
   {
    "duration": 4,
    "start_time": "2022-08-11T14:49:03.766Z"
   },
   {
    "duration": 11,
    "start_time": "2022-08-11T14:49:03.771Z"
   },
   {
    "duration": 13,
    "start_time": "2022-08-11T14:49:03.784Z"
   },
   {
    "duration": 284,
    "start_time": "2022-08-11T14:49:03.798Z"
   },
   {
    "duration": 7,
    "start_time": "2022-08-11T14:49:04.083Z"
   },
   {
    "duration": 2,
    "start_time": "2022-08-11T14:49:04.092Z"
   },
   {
    "duration": 5,
    "start_time": "2022-08-11T14:49:04.096Z"
   },
   {
    "duration": 6,
    "start_time": "2022-08-11T14:49:04.103Z"
   },
   {
    "duration": 14,
    "start_time": "2022-08-11T14:50:32.489Z"
   },
   {
    "duration": 13,
    "start_time": "2022-08-11T14:53:32.927Z"
   },
   {
    "duration": 12,
    "start_time": "2022-08-11T14:53:48.565Z"
   },
   {
    "duration": 15,
    "start_time": "2022-08-11T15:00:04.918Z"
   },
   {
    "duration": 1412,
    "start_time": "2022-08-11T15:00:27.483Z"
   },
   {
    "duration": 700,
    "start_time": "2022-08-11T15:00:28.898Z"
   },
   {
    "duration": 22,
    "start_time": "2022-08-11T15:00:29.600Z"
   },
   {
    "duration": 27,
    "start_time": "2022-08-11T15:00:29.624Z"
   },
   {
    "duration": 20,
    "start_time": "2022-08-11T15:00:29.653Z"
   },
   {
    "duration": 3,
    "start_time": "2022-08-11T15:00:29.675Z"
   },
   {
    "duration": 10,
    "start_time": "2022-08-11T15:00:29.679Z"
   },
   {
    "duration": 14,
    "start_time": "2022-08-11T15:00:29.690Z"
   },
   {
    "duration": 15,
    "start_time": "2022-08-11T15:00:29.706Z"
   },
   {
    "duration": 7,
    "start_time": "2022-08-11T15:00:29.739Z"
   },
   {
    "duration": 15,
    "start_time": "2022-08-11T15:00:29.748Z"
   },
   {
    "duration": 13,
    "start_time": "2022-08-11T15:00:29.765Z"
   },
   {
    "duration": 132,
    "start_time": "2022-08-11T15:00:29.780Z"
   },
   {
    "duration": 25,
    "start_time": "2022-08-11T15:00:29.915Z"
   },
   {
    "duration": 108,
    "start_time": "2022-08-11T15:00:29.941Z"
   },
   {
    "duration": 210,
    "start_time": "2022-08-11T15:00:30.051Z"
   },
   {
    "duration": 205,
    "start_time": "2022-08-11T15:00:30.263Z"
   },
   {
    "duration": 265,
    "start_time": "2022-08-11T15:00:30.470Z"
   },
   {
    "duration": 410,
    "start_time": "2022-08-11T15:00:30.737Z"
   },
   {
    "duration": 13,
    "start_time": "2022-08-11T15:00:31.149Z"
   },
   {
    "duration": 981,
    "start_time": "2022-08-11T15:00:31.164Z"
   },
   {
    "duration": 217,
    "start_time": "2022-08-11T15:00:32.147Z"
   },
   {
    "duration": 3,
    "start_time": "2022-08-11T15:00:32.366Z"
   },
   {
    "duration": 28,
    "start_time": "2022-08-11T15:00:32.371Z"
   },
   {
    "duration": 24,
    "start_time": "2022-08-11T15:00:32.401Z"
   },
   {
    "duration": 251,
    "start_time": "2022-08-11T15:00:32.426Z"
   },
   {
    "duration": 8,
    "start_time": "2022-08-11T15:00:32.678Z"
   },
   {
    "duration": 2,
    "start_time": "2022-08-11T15:00:32.687Z"
   },
   {
    "duration": 5,
    "start_time": "2022-08-11T15:00:32.691Z"
   },
   {
    "duration": 8,
    "start_time": "2022-08-11T15:00:32.697Z"
   },
   {
    "duration": 270,
    "start_time": "2022-08-11T15:04:52.242Z"
   },
   {
    "duration": 7,
    "start_time": "2022-08-11T15:04:59.912Z"
   },
   {
    "duration": 274,
    "start_time": "2022-08-11T15:05:18.548Z"
   },
   {
    "duration": 8,
    "start_time": "2022-08-11T15:05:20.792Z"
   },
   {
    "duration": 15,
    "start_time": "2022-08-11T15:06:23.301Z"
   },
   {
    "duration": 3,
    "start_time": "2022-08-11T15:07:36.626Z"
   },
   {
    "duration": 3,
    "start_time": "2022-08-11T15:07:40.326Z"
   },
   {
    "duration": 3,
    "start_time": "2022-08-11T15:12:02.590Z"
   },
   {
    "duration": 110,
    "start_time": "2022-08-11T15:12:05.451Z"
   },
   {
    "duration": 15,
    "start_time": "2022-08-11T15:12:47.060Z"
   },
   {
    "duration": 24,
    "start_time": "2022-08-11T15:13:00.583Z"
   },
   {
    "duration": 4,
    "start_time": "2022-08-11T15:16:11.820Z"
   },
   {
    "duration": 7,
    "start_time": "2022-08-11T15:24:29.368Z"
   },
   {
    "duration": 14,
    "start_time": "2022-08-11T15:24:34.225Z"
   },
   {
    "duration": 13,
    "start_time": "2022-08-11T16:29:28.071Z"
   },
   {
    "duration": 13,
    "start_time": "2022-08-11T16:29:48.800Z"
   },
   {
    "duration": 1541,
    "start_time": "2022-08-11T16:30:17.755Z"
   },
   {
    "duration": 711,
    "start_time": "2022-08-11T16:30:19.298Z"
   },
   {
    "duration": 32,
    "start_time": "2022-08-11T16:30:20.011Z"
   },
   {
    "duration": 28,
    "start_time": "2022-08-11T16:30:20.045Z"
   },
   {
    "duration": 23,
    "start_time": "2022-08-11T16:30:20.075Z"
   },
   {
    "duration": 13,
    "start_time": "2022-08-11T16:30:20.099Z"
   },
   {
    "duration": 45,
    "start_time": "2022-08-11T16:30:20.114Z"
   },
   {
    "duration": 11,
    "start_time": "2022-08-11T16:30:20.161Z"
   },
   {
    "duration": 5,
    "start_time": "2022-08-11T16:30:20.174Z"
   },
   {
    "duration": 27,
    "start_time": "2022-08-11T16:30:20.180Z"
   },
   {
    "duration": 10,
    "start_time": "2022-08-11T16:30:20.209Z"
   },
   {
    "duration": 7,
    "start_time": "2022-08-11T16:30:20.220Z"
   },
   {
    "duration": 125,
    "start_time": "2022-08-11T16:30:20.228Z"
   },
   {
    "duration": 25,
    "start_time": "2022-08-11T16:30:20.358Z"
   },
   {
    "duration": 111,
    "start_time": "2022-08-11T16:30:20.384Z"
   },
   {
    "duration": 222,
    "start_time": "2022-08-11T16:30:20.497Z"
   },
   {
    "duration": 204,
    "start_time": "2022-08-11T16:30:20.721Z"
   },
   {
    "duration": 284,
    "start_time": "2022-08-11T16:30:20.927Z"
   },
   {
    "duration": 549,
    "start_time": "2022-08-11T16:30:21.212Z"
   },
   {
    "duration": 14,
    "start_time": "2022-08-11T16:30:21.762Z"
   },
   {
    "duration": 1088,
    "start_time": "2022-08-11T16:30:21.778Z"
   },
   {
    "duration": 228,
    "start_time": "2022-08-11T16:30:22.868Z"
   },
   {
    "duration": 3,
    "start_time": "2022-08-11T16:30:23.098Z"
   },
   {
    "duration": 14,
    "start_time": "2022-08-11T16:30:23.102Z"
   },
   {
    "duration": 36,
    "start_time": "2022-08-11T16:30:23.118Z"
   },
   {
    "duration": 303,
    "start_time": "2022-08-11T16:30:23.156Z"
   },
   {
    "duration": 3,
    "start_time": "2022-08-11T16:30:23.460Z"
   },
   {
    "duration": 6,
    "start_time": "2022-08-11T16:30:23.464Z"
   },
   {
    "duration": 21,
    "start_time": "2022-08-11T16:30:23.471Z"
   },
   {
    "duration": 2,
    "start_time": "2022-08-11T16:30:23.493Z"
   },
   {
    "duration": 7,
    "start_time": "2022-08-11T16:30:23.497Z"
   },
   {
    "duration": 5,
    "start_time": "2022-08-11T16:30:23.505Z"
   },
   {
    "duration": 8,
    "start_time": "2022-08-11T16:30:23.512Z"
   },
   {
    "duration": 142,
    "start_time": "2022-08-11T16:30:23.521Z"
   },
   {
    "duration": 13,
    "start_time": "2022-08-11T16:31:02.901Z"
   },
   {
    "duration": 42,
    "start_time": "2022-08-12T06:32:01.886Z"
   },
   {
    "duration": 1484,
    "start_time": "2022-08-12T06:32:15.849Z"
   },
   {
    "duration": 3033,
    "start_time": "2022-08-12T06:32:17.335Z"
   },
   {
    "duration": 22,
    "start_time": "2022-08-12T06:32:20.369Z"
   },
   {
    "duration": 23,
    "start_time": "2022-08-12T06:32:20.392Z"
   },
   {
    "duration": 16,
    "start_time": "2022-08-12T06:32:20.417Z"
   },
   {
    "duration": 4,
    "start_time": "2022-08-12T06:32:20.435Z"
   },
   {
    "duration": 5,
    "start_time": "2022-08-12T06:32:20.440Z"
   },
   {
    "duration": 12,
    "start_time": "2022-08-12T06:32:20.447Z"
   },
   {
    "duration": 5,
    "start_time": "2022-08-12T06:32:20.460Z"
   },
   {
    "duration": 4,
    "start_time": "2022-08-12T06:32:20.466Z"
   },
   {
    "duration": 11,
    "start_time": "2022-08-12T06:32:20.471Z"
   },
   {
    "duration": 7,
    "start_time": "2022-08-12T06:32:20.483Z"
   },
   {
    "duration": 124,
    "start_time": "2022-08-12T06:32:20.491Z"
   },
   {
    "duration": 30,
    "start_time": "2022-08-12T06:32:20.617Z"
   },
   {
    "duration": 96,
    "start_time": "2022-08-12T06:32:20.648Z"
   },
   {
    "duration": 195,
    "start_time": "2022-08-12T06:32:20.746Z"
   },
   {
    "duration": 249,
    "start_time": "2022-08-12T06:32:20.942Z"
   },
   {
    "duration": 189,
    "start_time": "2022-08-12T06:32:21.193Z"
   },
   {
    "duration": 463,
    "start_time": "2022-08-12T06:32:21.384Z"
   },
   {
    "duration": 14,
    "start_time": "2022-08-12T06:32:21.849Z"
   },
   {
    "duration": 1288,
    "start_time": "2022-08-12T06:32:21.864Z"
   },
   {
    "duration": 217,
    "start_time": "2022-08-12T06:32:23.154Z"
   },
   {
    "duration": 3,
    "start_time": "2022-08-12T06:32:23.372Z"
   },
   {
    "duration": 21,
    "start_time": "2022-08-12T06:32:23.376Z"
   },
   {
    "duration": 15,
    "start_time": "2022-08-12T06:32:23.399Z"
   },
   {
    "duration": 269,
    "start_time": "2022-08-12T06:32:23.415Z"
   },
   {
    "duration": 3,
    "start_time": "2022-08-12T06:32:23.685Z"
   },
   {
    "duration": 6,
    "start_time": "2022-08-12T06:32:23.690Z"
   },
   {
    "duration": 112,
    "start_time": "2022-08-12T06:32:23.698Z"
   },
   {
    "duration": 0,
    "start_time": "2022-08-12T06:32:23.811Z"
   },
   {
    "duration": 0,
    "start_time": "2022-08-12T06:32:23.812Z"
   },
   {
    "duration": 0,
    "start_time": "2022-08-12T06:32:23.813Z"
   },
   {
    "duration": 0,
    "start_time": "2022-08-12T06:32:23.814Z"
   },
   {
    "duration": 0,
    "start_time": "2022-08-12T06:32:23.814Z"
   },
   {
    "duration": 0,
    "start_time": "2022-08-12T06:32:23.815Z"
   },
   {
    "duration": 15,
    "start_time": "2022-08-12T06:33:16.282Z"
   },
   {
    "duration": 11,
    "start_time": "2022-08-12T06:33:29.939Z"
   },
   {
    "duration": 11,
    "start_time": "2022-08-12T06:33:52.171Z"
   },
   {
    "duration": 7,
    "start_time": "2022-08-12T06:34:35.689Z"
   },
   {
    "duration": 14,
    "start_time": "2022-08-12T06:34:54.788Z"
   },
   {
    "duration": 12,
    "start_time": "2022-08-12T06:38:09.570Z"
   },
   {
    "duration": 27,
    "start_time": "2022-08-12T06:50:37.961Z"
   },
   {
    "duration": 18,
    "start_time": "2022-08-12T06:51:54.326Z"
   },
   {
    "duration": 3,
    "start_time": "2022-08-12T06:53:15.538Z"
   },
   {
    "duration": 2,
    "start_time": "2022-08-12T06:53:20.951Z"
   },
   {
    "duration": 9,
    "start_time": "2022-08-12T07:02:27.922Z"
   },
   {
    "duration": 12,
    "start_time": "2022-08-12T07:03:19.826Z"
   },
   {
    "duration": 12,
    "start_time": "2022-08-12T07:12:52.561Z"
   },
   {
    "duration": 12,
    "start_time": "2022-08-12T07:13:26.587Z"
   },
   {
    "duration": 4,
    "start_time": "2022-08-12T07:13:31.898Z"
   },
   {
    "duration": 3,
    "start_time": "2022-08-12T07:13:34.785Z"
   },
   {
    "duration": 3,
    "start_time": "2022-08-12T07:13:38.029Z"
   },
   {
    "duration": 9,
    "start_time": "2022-08-12T07:16:48.746Z"
   },
   {
    "duration": 6,
    "start_time": "2022-08-12T07:17:22.220Z"
   },
   {
    "duration": 11,
    "start_time": "2022-08-12T07:17:30.593Z"
   },
   {
    "duration": 11,
    "start_time": "2022-08-12T07:17:44.457Z"
   },
   {
    "duration": 14,
    "start_time": "2022-08-12T07:19:12.895Z"
   },
   {
    "duration": 216,
    "start_time": "2022-08-12T07:19:52.509Z"
   },
   {
    "duration": 215,
    "start_time": "2022-08-12T07:21:07.355Z"
   },
   {
    "duration": 226,
    "start_time": "2022-08-12T07:22:42.117Z"
   },
   {
    "duration": 212,
    "start_time": "2022-08-12T07:28:54.360Z"
   },
   {
    "duration": 4,
    "start_time": "2022-08-12T07:29:53.879Z"
   },
   {
    "duration": 231,
    "start_time": "2022-08-12T07:29:58.471Z"
   },
   {
    "duration": 203,
    "start_time": "2022-08-12T07:33:29.428Z"
   },
   {
    "duration": 2,
    "start_time": "2022-08-12T07:36:17.911Z"
   },
   {
    "duration": 201,
    "start_time": "2022-08-12T07:36:22.268Z"
   },
   {
    "duration": 8,
    "start_time": "2022-08-12T07:40:08.508Z"
   },
   {
    "duration": 207,
    "start_time": "2022-08-12T07:40:12.732Z"
   },
   {
    "duration": 8,
    "start_time": "2022-08-12T07:48:33.114Z"
   },
   {
    "duration": 220,
    "start_time": "2022-08-12T07:48:48.017Z"
   },
   {
    "duration": 23,
    "start_time": "2022-08-12T07:49:28.712Z"
   },
   {
    "duration": 3,
    "start_time": "2022-08-12T07:50:52.463Z"
   },
   {
    "duration": 207,
    "start_time": "2022-08-12T07:51:23.128Z"
   },
   {
    "duration": 3,
    "start_time": "2022-08-12T08:01:50.391Z"
   },
   {
    "duration": 57,
    "start_time": "2022-08-12T08:13:10.727Z"
   },
   {
    "duration": 21,
    "start_time": "2022-08-12T08:13:31.652Z"
   },
   {
    "duration": 6,
    "start_time": "2022-08-12T08:15:49.633Z"
   },
   {
    "duration": 9,
    "start_time": "2022-08-12T08:16:45.250Z"
   },
   {
    "duration": 394,
    "start_time": "2022-08-12T08:17:42.558Z"
   },
   {
    "duration": 9,
    "start_time": "2022-08-12T08:18:22.497Z"
   },
   {
    "duration": 375,
    "start_time": "2022-08-12T08:18:39.393Z"
   },
   {
    "duration": 371,
    "start_time": "2022-08-12T08:19:22.250Z"
   },
   {
    "duration": 10,
    "start_time": "2022-08-12T08:56:33.524Z"
   },
   {
    "duration": 2,
    "start_time": "2022-08-12T08:57:21.345Z"
   },
   {
    "duration": 2,
    "start_time": "2022-08-12T08:57:27.869Z"
   },
   {
    "duration": 3,
    "start_time": "2022-08-12T08:57:40.245Z"
   },
   {
    "duration": 18,
    "start_time": "2022-08-12T08:57:44.439Z"
   },
   {
    "duration": 2101,
    "start_time": "2022-08-12T09:00:10.153Z"
   },
   {
    "duration": 643,
    "start_time": "2022-08-12T09:00:12.255Z"
   },
   {
    "duration": 21,
    "start_time": "2022-08-12T09:00:12.901Z"
   },
   {
    "duration": 29,
    "start_time": "2022-08-12T09:00:12.924Z"
   },
   {
    "duration": 16,
    "start_time": "2022-08-12T09:00:12.954Z"
   },
   {
    "duration": 3,
    "start_time": "2022-08-12T09:00:12.971Z"
   },
   {
    "duration": 6,
    "start_time": "2022-08-12T09:00:12.975Z"
   },
   {
    "duration": 13,
    "start_time": "2022-08-12T09:00:12.982Z"
   },
   {
    "duration": 4,
    "start_time": "2022-08-12T09:00:12.996Z"
   },
   {
    "duration": 19,
    "start_time": "2022-08-12T09:00:13.002Z"
   },
   {
    "duration": 17,
    "start_time": "2022-08-12T09:00:13.023Z"
   },
   {
    "duration": 8,
    "start_time": "2022-08-12T09:00:13.042Z"
   },
   {
    "duration": 123,
    "start_time": "2022-08-12T09:00:13.053Z"
   },
   {
    "duration": 24,
    "start_time": "2022-08-12T09:00:13.178Z"
   },
   {
    "duration": 111,
    "start_time": "2022-08-12T09:00:13.204Z"
   },
   {
    "duration": 211,
    "start_time": "2022-08-12T09:00:13.317Z"
   },
   {
    "duration": 191,
    "start_time": "2022-08-12T09:00:13.529Z"
   },
   {
    "duration": 265,
    "start_time": "2022-08-12T09:00:13.722Z"
   },
   {
    "duration": 457,
    "start_time": "2022-08-12T09:00:13.988Z"
   },
   {
    "duration": 14,
    "start_time": "2022-08-12T09:00:14.446Z"
   },
   {
    "duration": 991,
    "start_time": "2022-08-12T09:00:14.461Z"
   },
   {
    "duration": 222,
    "start_time": "2022-08-12T09:00:15.453Z"
   },
   {
    "duration": 3,
    "start_time": "2022-08-12T09:00:15.677Z"
   },
   {
    "duration": 55,
    "start_time": "2022-08-12T09:00:15.681Z"
   },
   {
    "duration": 31,
    "start_time": "2022-08-12T09:00:15.737Z"
   },
   {
    "duration": 19,
    "start_time": "2022-08-12T09:00:15.769Z"
   },
   {
    "duration": 16,
    "start_time": "2022-08-12T09:00:15.789Z"
   },
   {
    "duration": 15,
    "start_time": "2022-08-12T09:00:15.806Z"
   },
   {
    "duration": 32,
    "start_time": "2022-08-12T09:00:15.822Z"
   },
   {
    "duration": 28,
    "start_time": "2022-08-12T09:00:15.856Z"
   },
   {
    "duration": 18,
    "start_time": "2022-08-12T09:00:15.886Z"
   },
   {
    "duration": 47,
    "start_time": "2022-08-12T09:00:15.905Z"
   },
   {
    "duration": 21,
    "start_time": "2022-08-12T09:00:15.954Z"
   },
   {
    "duration": 3,
    "start_time": "2022-08-12T09:00:15.977Z"
   },
   {
    "duration": 43,
    "start_time": "2022-08-12T09:00:15.981Z"
   },
   {
    "duration": 3,
    "start_time": "2022-08-12T09:00:16.025Z"
   },
   {
    "duration": 152,
    "start_time": "2022-08-12T09:00:16.030Z"
   },
   {
    "duration": 27,
    "start_time": "2022-08-12T09:00:28.986Z"
   },
   {
    "duration": 3,
    "start_time": "2022-08-12T09:00:41.623Z"
   },
   {
    "duration": 22,
    "start_time": "2022-08-12T09:00:50.188Z"
   },
   {
    "duration": 2,
    "start_time": "2022-08-12T09:02:06.369Z"
   },
   {
    "duration": 1369,
    "start_time": "2022-08-12T09:02:14.318Z"
   },
   {
    "duration": 636,
    "start_time": "2022-08-12T09:02:15.689Z"
   },
   {
    "duration": 22,
    "start_time": "2022-08-12T09:02:16.327Z"
   },
   {
    "duration": 23,
    "start_time": "2022-08-12T09:02:16.350Z"
   },
   {
    "duration": 15,
    "start_time": "2022-08-12T09:02:16.375Z"
   },
   {
    "duration": 10,
    "start_time": "2022-08-12T09:02:16.392Z"
   },
   {
    "duration": 22,
    "start_time": "2022-08-12T09:02:16.403Z"
   },
   {
    "duration": 26,
    "start_time": "2022-08-12T09:02:16.426Z"
   },
   {
    "duration": 20,
    "start_time": "2022-08-12T09:02:16.453Z"
   },
   {
    "duration": 14,
    "start_time": "2022-08-12T09:02:16.474Z"
   },
   {
    "duration": 16,
    "start_time": "2022-08-12T09:02:16.489Z"
   },
   {
    "duration": 26,
    "start_time": "2022-08-12T09:02:16.506Z"
   },
   {
    "duration": 134,
    "start_time": "2022-08-12T09:02:16.533Z"
   },
   {
    "duration": 21,
    "start_time": "2022-08-12T09:02:16.670Z"
   },
   {
    "duration": 94,
    "start_time": "2022-08-12T09:02:16.693Z"
   },
   {
    "duration": 202,
    "start_time": "2022-08-12T09:02:16.789Z"
   },
   {
    "duration": 175,
    "start_time": "2022-08-12T09:02:16.992Z"
   },
   {
    "duration": 247,
    "start_time": "2022-08-12T09:02:17.169Z"
   },
   {
    "duration": 401,
    "start_time": "2022-08-12T09:02:17.418Z"
   },
   {
    "duration": 20,
    "start_time": "2022-08-12T09:02:17.820Z"
   },
   {
    "duration": 1000,
    "start_time": "2022-08-12T09:02:17.841Z"
   },
   {
    "duration": 272,
    "start_time": "2022-08-12T09:02:18.843Z"
   },
   {
    "duration": 4,
    "start_time": "2022-08-12T09:02:19.116Z"
   },
   {
    "duration": 19,
    "start_time": "2022-08-12T09:02:19.121Z"
   },
   {
    "duration": 3,
    "start_time": "2022-08-12T09:02:19.141Z"
   },
   {
    "duration": 15,
    "start_time": "2022-08-12T09:02:19.145Z"
   },
   {
    "duration": 10,
    "start_time": "2022-08-12T09:02:19.161Z"
   },
   {
    "duration": 9,
    "start_time": "2022-08-12T09:02:19.172Z"
   },
   {
    "duration": 14,
    "start_time": "2022-08-12T09:02:19.183Z"
   },
   {
    "duration": 6,
    "start_time": "2022-08-12T09:02:19.198Z"
   },
   {
    "duration": 11,
    "start_time": "2022-08-12T09:02:19.205Z"
   },
   {
    "duration": 28,
    "start_time": "2022-08-12T09:02:19.218Z"
   },
   {
    "duration": 16,
    "start_time": "2022-08-12T09:02:19.248Z"
   },
   {
    "duration": 3,
    "start_time": "2022-08-12T09:02:19.266Z"
   },
   {
    "duration": 23,
    "start_time": "2022-08-12T09:02:19.270Z"
   },
   {
    "duration": 2,
    "start_time": "2022-08-12T09:02:19.295Z"
   },
   {
    "duration": 120,
    "start_time": "2022-08-12T09:02:19.299Z"
   },
   {
    "duration": 10,
    "start_time": "2022-08-12T09:03:28.356Z"
   },
   {
    "duration": 3,
    "start_time": "2022-08-12T09:03:57.060Z"
   },
   {
    "duration": 18,
    "start_time": "2022-08-12T09:04:00.029Z"
   },
   {
    "duration": 30,
    "start_time": "2022-08-12T09:05:54.337Z"
   },
   {
    "duration": 17,
    "start_time": "2022-08-12T09:06:01.227Z"
   },
   {
    "duration": 31,
    "start_time": "2022-08-12T09:07:04.787Z"
   },
   {
    "duration": 17,
    "start_time": "2022-08-12T09:07:11.873Z"
   },
   {
    "duration": 9,
    "start_time": "2022-08-12T09:07:26.290Z"
   },
   {
    "duration": 1386,
    "start_time": "2022-08-12T09:08:42.065Z"
   },
   {
    "duration": 642,
    "start_time": "2022-08-12T09:08:43.453Z"
   },
   {
    "duration": 20,
    "start_time": "2022-08-12T09:08:44.096Z"
   },
   {
    "duration": 26,
    "start_time": "2022-08-12T09:08:44.118Z"
   },
   {
    "duration": 16,
    "start_time": "2022-08-12T09:08:44.146Z"
   },
   {
    "duration": 2,
    "start_time": "2022-08-12T09:08:44.164Z"
   },
   {
    "duration": 4,
    "start_time": "2022-08-12T09:08:44.168Z"
   },
   {
    "duration": 10,
    "start_time": "2022-08-12T09:08:44.174Z"
   },
   {
    "duration": 12,
    "start_time": "2022-08-12T09:08:44.185Z"
   },
   {
    "duration": 5,
    "start_time": "2022-08-12T09:08:44.198Z"
   },
   {
    "duration": 7,
    "start_time": "2022-08-12T09:08:44.204Z"
   },
   {
    "duration": 9,
    "start_time": "2022-08-12T09:08:44.212Z"
   },
   {
    "duration": 134,
    "start_time": "2022-08-12T09:08:44.238Z"
   },
   {
    "duration": 23,
    "start_time": "2022-08-12T09:08:44.375Z"
   },
   {
    "duration": 102,
    "start_time": "2022-08-12T09:08:44.400Z"
   },
   {
    "duration": 207,
    "start_time": "2022-08-12T09:08:44.504Z"
   },
   {
    "duration": 188,
    "start_time": "2022-08-12T09:08:44.712Z"
   },
   {
    "duration": 260,
    "start_time": "2022-08-12T09:08:44.901Z"
   },
   {
    "duration": 373,
    "start_time": "2022-08-12T09:08:45.162Z"
   },
   {
    "duration": 12,
    "start_time": "2022-08-12T09:08:45.537Z"
   },
   {
    "duration": 1101,
    "start_time": "2022-08-12T09:08:45.551Z"
   },
   {
    "duration": 231,
    "start_time": "2022-08-12T09:08:46.654Z"
   },
   {
    "duration": 3,
    "start_time": "2022-08-12T09:08:46.887Z"
   },
   {
    "duration": 14,
    "start_time": "2022-08-12T09:08:46.892Z"
   },
   {
    "duration": 2,
    "start_time": "2022-08-12T09:08:46.907Z"
   },
   {
    "duration": 5,
    "start_time": "2022-08-12T09:08:46.911Z"
   },
   {
    "duration": 5,
    "start_time": "2022-08-12T09:08:46.918Z"
   },
   {
    "duration": 13,
    "start_time": "2022-08-12T09:08:46.925Z"
   },
   {
    "duration": 14,
    "start_time": "2022-08-12T09:08:46.940Z"
   },
   {
    "duration": 4,
    "start_time": "2022-08-12T09:08:46.955Z"
   },
   {
    "duration": 6,
    "start_time": "2022-08-12T09:08:46.961Z"
   },
   {
    "duration": 29,
    "start_time": "2022-08-12T09:08:46.968Z"
   },
   {
    "duration": 112,
    "start_time": "2022-08-12T09:08:46.999Z"
   },
   {
    "duration": 0,
    "start_time": "2022-08-12T09:08:47.113Z"
   },
   {
    "duration": 0,
    "start_time": "2022-08-12T09:08:47.114Z"
   },
   {
    "duration": 0,
    "start_time": "2022-08-12T09:08:47.115Z"
   },
   {
    "duration": 0,
    "start_time": "2022-08-12T09:08:47.116Z"
   },
   {
    "duration": 0,
    "start_time": "2022-08-12T09:08:47.117Z"
   },
   {
    "duration": 1304,
    "start_time": "2022-08-12T09:17:32.917Z"
   },
   {
    "duration": 661,
    "start_time": "2022-08-12T09:17:34.223Z"
   },
   {
    "duration": 21,
    "start_time": "2022-08-12T09:17:34.885Z"
   },
   {
    "duration": 31,
    "start_time": "2022-08-12T09:17:34.908Z"
   },
   {
    "duration": 17,
    "start_time": "2022-08-12T09:17:34.941Z"
   },
   {
    "duration": 3,
    "start_time": "2022-08-12T09:17:34.959Z"
   },
   {
    "duration": 7,
    "start_time": "2022-08-12T09:17:34.963Z"
   },
   {
    "duration": 12,
    "start_time": "2022-08-12T09:17:34.972Z"
   },
   {
    "duration": 5,
    "start_time": "2022-08-12T09:17:34.985Z"
   },
   {
    "duration": 3,
    "start_time": "2022-08-12T09:17:34.991Z"
   },
   {
    "duration": 5,
    "start_time": "2022-08-12T09:17:34.996Z"
   },
   {
    "duration": 4,
    "start_time": "2022-08-12T09:17:35.003Z"
   },
   {
    "duration": 119,
    "start_time": "2022-08-12T09:17:35.038Z"
   },
   {
    "duration": 22,
    "start_time": "2022-08-12T09:17:35.160Z"
   },
   {
    "duration": 100,
    "start_time": "2022-08-12T09:17:35.184Z"
   },
   {
    "duration": 198,
    "start_time": "2022-08-12T09:17:35.286Z"
   },
   {
    "duration": 184,
    "start_time": "2022-08-12T09:17:35.486Z"
   },
   {
    "duration": 267,
    "start_time": "2022-08-12T09:17:35.671Z"
   },
   {
    "duration": 384,
    "start_time": "2022-08-12T09:17:35.940Z"
   },
   {
    "duration": 20,
    "start_time": "2022-08-12T09:17:36.326Z"
   },
   {
    "duration": 987,
    "start_time": "2022-08-12T09:17:36.347Z"
   },
   {
    "duration": 211,
    "start_time": "2022-08-12T09:17:37.338Z"
   },
   {
    "duration": 3,
    "start_time": "2022-08-12T09:17:37.550Z"
   },
   {
    "duration": 15,
    "start_time": "2022-08-12T09:17:37.554Z"
   },
   {
    "duration": 2,
    "start_time": "2022-08-12T09:17:37.571Z"
   },
   {
    "duration": 5,
    "start_time": "2022-08-12T09:17:37.575Z"
   },
   {
    "duration": 5,
    "start_time": "2022-08-12T09:17:37.581Z"
   },
   {
    "duration": 4,
    "start_time": "2022-08-12T09:17:37.588Z"
   },
   {
    "duration": 12,
    "start_time": "2022-08-12T09:17:37.594Z"
   },
   {
    "duration": 6,
    "start_time": "2022-08-12T09:17:37.607Z"
   },
   {
    "duration": 4,
    "start_time": "2022-08-12T09:17:37.614Z"
   },
   {
    "duration": 38,
    "start_time": "2022-08-12T09:17:37.619Z"
   },
   {
    "duration": 16,
    "start_time": "2022-08-12T09:17:37.659Z"
   },
   {
    "duration": 3,
    "start_time": "2022-08-12T09:17:37.676Z"
   },
   {
    "duration": 22,
    "start_time": "2022-08-12T09:17:37.681Z"
   },
   {
    "duration": 2,
    "start_time": "2022-08-12T09:17:37.705Z"
   },
   {
    "duration": 130,
    "start_time": "2022-08-12T09:17:37.709Z"
   },
   {
    "duration": 25,
    "start_time": "2022-08-12T09:18:23.009Z"
   },
   {
    "duration": 16,
    "start_time": "2022-08-12T09:18:35.939Z"
   },
   {
    "duration": 1359,
    "start_time": "2022-08-12T09:18:46.866Z"
   },
   {
    "duration": 687,
    "start_time": "2022-08-12T09:18:48.227Z"
   },
   {
    "duration": 33,
    "start_time": "2022-08-12T09:18:48.916Z"
   },
   {
    "duration": 23,
    "start_time": "2022-08-12T09:18:48.951Z"
   },
   {
    "duration": 22,
    "start_time": "2022-08-12T09:18:48.976Z"
   },
   {
    "duration": 4,
    "start_time": "2022-08-12T09:18:48.999Z"
   },
   {
    "duration": 33,
    "start_time": "2022-08-12T09:18:49.005Z"
   },
   {
    "duration": 12,
    "start_time": "2022-08-12T09:18:49.040Z"
   },
   {
    "duration": 8,
    "start_time": "2022-08-12T09:18:49.054Z"
   },
   {
    "duration": 7,
    "start_time": "2022-08-12T09:18:49.064Z"
   },
   {
    "duration": 22,
    "start_time": "2022-08-12T09:18:49.073Z"
   },
   {
    "duration": 8,
    "start_time": "2022-08-12T09:18:49.097Z"
   },
   {
    "duration": 133,
    "start_time": "2022-08-12T09:18:49.106Z"
   },
   {
    "duration": 25,
    "start_time": "2022-08-12T09:18:49.242Z"
   },
   {
    "duration": 115,
    "start_time": "2022-08-12T09:18:49.269Z"
   },
   {
    "duration": 222,
    "start_time": "2022-08-12T09:18:49.385Z"
   },
   {
    "duration": 203,
    "start_time": "2022-08-12T09:18:49.609Z"
   },
   {
    "duration": 277,
    "start_time": "2022-08-12T09:18:49.814Z"
   },
   {
    "duration": 448,
    "start_time": "2022-08-12T09:18:50.093Z"
   },
   {
    "duration": 15,
    "start_time": "2022-08-12T09:18:50.543Z"
   },
   {
    "duration": 999,
    "start_time": "2022-08-12T09:18:50.560Z"
   },
   {
    "duration": 241,
    "start_time": "2022-08-12T09:18:51.561Z"
   },
   {
    "duration": 2,
    "start_time": "2022-08-12T09:18:51.804Z"
   },
   {
    "duration": 16,
    "start_time": "2022-08-12T09:18:51.808Z"
   },
   {
    "duration": 2,
    "start_time": "2022-08-12T09:18:51.826Z"
   },
   {
    "duration": 2,
    "start_time": "2022-08-12T09:18:51.838Z"
   },
   {
    "duration": 5,
    "start_time": "2022-08-12T09:18:51.842Z"
   },
   {
    "duration": 4,
    "start_time": "2022-08-12T09:18:51.849Z"
   },
   {
    "duration": 11,
    "start_time": "2022-08-12T09:18:51.854Z"
   },
   {
    "duration": 4,
    "start_time": "2022-08-12T09:18:51.867Z"
   },
   {
    "duration": 9,
    "start_time": "2022-08-12T09:18:51.872Z"
   },
   {
    "duration": 28,
    "start_time": "2022-08-12T09:18:51.882Z"
   },
   {
    "duration": 46,
    "start_time": "2022-08-12T09:18:51.912Z"
   },
   {
    "duration": 113,
    "start_time": "2022-08-12T09:18:51.960Z"
   },
   {
    "duration": 0,
    "start_time": "2022-08-12T09:18:52.075Z"
   },
   {
    "duration": 0,
    "start_time": "2022-08-12T09:18:52.076Z"
   },
   {
    "duration": 0,
    "start_time": "2022-08-12T09:18:52.077Z"
   },
   {
    "duration": 0,
    "start_time": "2022-08-12T09:18:52.079Z"
   },
   {
    "duration": 10,
    "start_time": "2022-08-12T09:21:21.908Z"
   },
   {
    "duration": 10,
    "start_time": "2022-08-12T09:31:10.677Z"
   },
   {
    "duration": 1325,
    "start_time": "2022-08-12T09:31:18.779Z"
   },
   {
    "duration": 625,
    "start_time": "2022-08-12T09:31:20.106Z"
   },
   {
    "duration": 22,
    "start_time": "2022-08-12T09:31:20.733Z"
   },
   {
    "duration": 17,
    "start_time": "2022-08-12T09:31:20.756Z"
   },
   {
    "duration": 15,
    "start_time": "2022-08-12T09:31:20.774Z"
   },
   {
    "duration": 2,
    "start_time": "2022-08-12T09:31:20.791Z"
   },
   {
    "duration": 16,
    "start_time": "2022-08-12T09:31:20.794Z"
   },
   {
    "duration": 10,
    "start_time": "2022-08-12T09:31:20.811Z"
   },
   {
    "duration": 4,
    "start_time": "2022-08-12T09:31:20.838Z"
   },
   {
    "duration": 6,
    "start_time": "2022-08-12T09:31:20.843Z"
   },
   {
    "duration": 15,
    "start_time": "2022-08-12T09:31:20.850Z"
   },
   {
    "duration": 6,
    "start_time": "2022-08-12T09:31:20.866Z"
   },
   {
    "duration": 111,
    "start_time": "2022-08-12T09:31:20.873Z"
   },
   {
    "duration": 23,
    "start_time": "2022-08-12T09:31:20.987Z"
   },
   {
    "duration": 102,
    "start_time": "2022-08-12T09:31:21.012Z"
   },
   {
    "duration": 203,
    "start_time": "2022-08-12T09:31:21.115Z"
   },
   {
    "duration": 179,
    "start_time": "2022-08-12T09:31:21.320Z"
   },
   {
    "duration": 258,
    "start_time": "2022-08-12T09:31:21.501Z"
   },
   {
    "duration": 359,
    "start_time": "2022-08-12T09:31:21.760Z"
   },
   {
    "duration": 19,
    "start_time": "2022-08-12T09:31:22.121Z"
   },
   {
    "duration": 1000,
    "start_time": "2022-08-12T09:31:22.141Z"
   },
   {
    "duration": 205,
    "start_time": "2022-08-12T09:31:23.143Z"
   },
   {
    "duration": 2,
    "start_time": "2022-08-12T09:31:23.350Z"
   },
   {
    "duration": 12,
    "start_time": "2022-08-12T09:31:23.354Z"
   },
   {
    "duration": 4,
    "start_time": "2022-08-12T09:31:23.368Z"
   },
   {
    "duration": 8,
    "start_time": "2022-08-12T09:31:23.373Z"
   },
   {
    "duration": 5,
    "start_time": "2022-08-12T09:31:23.382Z"
   },
   {
    "duration": 8,
    "start_time": "2022-08-12T09:31:23.388Z"
   },
   {
    "duration": 13,
    "start_time": "2022-08-12T09:31:23.397Z"
   },
   {
    "duration": 7,
    "start_time": "2022-08-12T09:31:23.411Z"
   },
   {
    "duration": 6,
    "start_time": "2022-08-12T09:31:23.419Z"
   },
   {
    "duration": 28,
    "start_time": "2022-08-12T09:31:23.426Z"
   },
   {
    "duration": 103,
    "start_time": "2022-08-12T09:31:23.455Z"
   },
   {
    "duration": 0,
    "start_time": "2022-08-12T09:31:23.559Z"
   },
   {
    "duration": 1,
    "start_time": "2022-08-12T09:31:23.560Z"
   },
   {
    "duration": 1,
    "start_time": "2022-08-12T09:31:23.561Z"
   },
   {
    "duration": 0,
    "start_time": "2022-08-12T09:31:23.563Z"
   },
   {
    "duration": 0,
    "start_time": "2022-08-12T09:31:23.564Z"
   },
   {
    "duration": 1286,
    "start_time": "2022-08-12T09:32:12.437Z"
   },
   {
    "duration": 652,
    "start_time": "2022-08-12T09:32:13.725Z"
   },
   {
    "duration": 19,
    "start_time": "2022-08-12T09:32:14.378Z"
   },
   {
    "duration": 16,
    "start_time": "2022-08-12T09:32:14.399Z"
   },
   {
    "duration": 29,
    "start_time": "2022-08-12T09:32:14.417Z"
   },
   {
    "duration": 2,
    "start_time": "2022-08-12T09:32:14.448Z"
   },
   {
    "duration": 7,
    "start_time": "2022-08-12T09:32:14.452Z"
   },
   {
    "duration": 20,
    "start_time": "2022-08-12T09:32:14.460Z"
   },
   {
    "duration": 4,
    "start_time": "2022-08-12T09:32:14.481Z"
   },
   {
    "duration": 4,
    "start_time": "2022-08-12T09:32:14.487Z"
   },
   {
    "duration": 6,
    "start_time": "2022-08-12T09:32:14.492Z"
   },
   {
    "duration": 3,
    "start_time": "2022-08-12T09:32:14.500Z"
   },
   {
    "duration": 126,
    "start_time": "2022-08-12T09:32:14.505Z"
   },
   {
    "duration": 22,
    "start_time": "2022-08-12T09:32:14.638Z"
   },
   {
    "duration": 105,
    "start_time": "2022-08-12T09:32:14.662Z"
   },
   {
    "duration": 201,
    "start_time": "2022-08-12T09:32:14.768Z"
   },
   {
    "duration": 197,
    "start_time": "2022-08-12T09:32:14.970Z"
   },
   {
    "duration": 258,
    "start_time": "2022-08-12T09:32:15.169Z"
   },
   {
    "duration": 482,
    "start_time": "2022-08-12T09:32:15.428Z"
   },
   {
    "duration": 13,
    "start_time": "2022-08-12T09:32:15.911Z"
   },
   {
    "duration": 1115,
    "start_time": "2022-08-12T09:32:15.926Z"
   },
   {
    "duration": 211,
    "start_time": "2022-08-12T09:32:17.042Z"
   },
   {
    "duration": 3,
    "start_time": "2022-08-12T09:32:17.254Z"
   },
   {
    "duration": 15,
    "start_time": "2022-08-12T09:32:17.258Z"
   },
   {
    "duration": 2,
    "start_time": "2022-08-12T09:32:17.275Z"
   },
   {
    "duration": 6,
    "start_time": "2022-08-12T09:32:17.279Z"
   },
   {
    "duration": 5,
    "start_time": "2022-08-12T09:32:17.286Z"
   },
   {
    "duration": 5,
    "start_time": "2022-08-12T09:32:17.294Z"
   },
   {
    "duration": 12,
    "start_time": "2022-08-12T09:32:17.301Z"
   },
   {
    "duration": 6,
    "start_time": "2022-08-12T09:32:17.315Z"
   },
   {
    "duration": 5,
    "start_time": "2022-08-12T09:32:17.322Z"
   },
   {
    "duration": 34,
    "start_time": "2022-08-12T09:32:17.329Z"
   },
   {
    "duration": 22,
    "start_time": "2022-08-12T09:32:17.364Z"
   },
   {
    "duration": 12,
    "start_time": "2022-08-12T09:32:17.388Z"
   },
   {
    "duration": 3,
    "start_time": "2022-08-12T09:32:17.401Z"
   },
   {
    "duration": 33,
    "start_time": "2022-08-12T09:32:17.406Z"
   },
   {
    "duration": 3,
    "start_time": "2022-08-12T09:32:17.440Z"
   },
   {
    "duration": 121,
    "start_time": "2022-08-12T09:32:17.444Z"
   },
   {
    "duration": 6,
    "start_time": "2022-08-12T09:34:15.347Z"
   },
   {
    "duration": 9,
    "start_time": "2022-08-12T09:34:52.293Z"
   },
   {
    "duration": 14,
    "start_time": "2022-08-12T09:35:25.710Z"
   },
   {
    "duration": 6,
    "start_time": "2022-08-12T09:36:18.391Z"
   },
   {
    "duration": 4,
    "start_time": "2022-08-12T09:36:58.690Z"
   },
   {
    "duration": 1276,
    "start_time": "2022-08-12T09:49:39.069Z"
   },
   {
    "duration": 12,
    "start_time": "2022-08-12T09:50:37.950Z"
   },
   {
    "duration": 1136,
    "start_time": "2022-08-12T09:51:19.242Z"
   },
   {
    "duration": 1264,
    "start_time": "2022-08-12T09:51:37.459Z"
   },
   {
    "duration": 687,
    "start_time": "2022-08-12T09:51:38.724Z"
   },
   {
    "duration": 26,
    "start_time": "2022-08-12T09:51:39.412Z"
   },
   {
    "duration": 16,
    "start_time": "2022-08-12T09:51:39.440Z"
   },
   {
    "duration": 15,
    "start_time": "2022-08-12T09:51:39.458Z"
   },
   {
    "duration": 3,
    "start_time": "2022-08-12T09:51:39.474Z"
   },
   {
    "duration": 6,
    "start_time": "2022-08-12T09:51:39.479Z"
   },
   {
    "duration": 10,
    "start_time": "2022-08-12T09:51:39.486Z"
   },
   {
    "duration": 6,
    "start_time": "2022-08-12T09:51:39.497Z"
   },
   {
    "duration": 4,
    "start_time": "2022-08-12T09:51:39.504Z"
   },
   {
    "duration": 31,
    "start_time": "2022-08-12T09:51:39.509Z"
   },
   {
    "duration": 4,
    "start_time": "2022-08-12T09:51:39.542Z"
   },
   {
    "duration": 126,
    "start_time": "2022-08-12T09:51:39.547Z"
   },
   {
    "duration": 26,
    "start_time": "2022-08-12T09:51:39.676Z"
   },
   {
    "duration": 116,
    "start_time": "2022-08-12T09:51:39.704Z"
   },
   {
    "duration": 211,
    "start_time": "2022-08-12T09:51:39.821Z"
   },
   {
    "duration": 183,
    "start_time": "2022-08-12T09:51:40.034Z"
   },
   {
    "duration": 276,
    "start_time": "2022-08-12T09:51:40.218Z"
   },
   {
    "duration": 422,
    "start_time": "2022-08-12T09:51:40.496Z"
   },
   {
    "duration": 19,
    "start_time": "2022-08-12T09:51:40.920Z"
   },
   {
    "duration": 1015,
    "start_time": "2022-08-12T09:51:40.941Z"
   },
   {
    "duration": 220,
    "start_time": "2022-08-12T09:51:41.957Z"
   },
   {
    "duration": 3,
    "start_time": "2022-08-12T09:51:42.179Z"
   },
   {
    "duration": 16,
    "start_time": "2022-08-12T09:51:42.183Z"
   },
   {
    "duration": 125,
    "start_time": "2022-08-12T09:51:42.200Z"
   },
   {
    "duration": 0,
    "start_time": "2022-08-12T09:51:42.326Z"
   },
   {
    "duration": 0,
    "start_time": "2022-08-12T09:51:42.327Z"
   },
   {
    "duration": 0,
    "start_time": "2022-08-12T09:51:42.338Z"
   },
   {
    "duration": 0,
    "start_time": "2022-08-12T09:51:42.339Z"
   },
   {
    "duration": 0,
    "start_time": "2022-08-12T09:51:42.340Z"
   },
   {
    "duration": 0,
    "start_time": "2022-08-12T09:51:42.341Z"
   },
   {
    "duration": 0,
    "start_time": "2022-08-12T09:51:42.341Z"
   },
   {
    "duration": 0,
    "start_time": "2022-08-12T09:51:42.343Z"
   },
   {
    "duration": 0,
    "start_time": "2022-08-12T09:51:42.344Z"
   },
   {
    "duration": 0,
    "start_time": "2022-08-12T09:51:42.344Z"
   },
   {
    "duration": 13,
    "start_time": "2022-08-12T09:51:58.719Z"
   },
   {
    "duration": 1393,
    "start_time": "2022-08-12T09:52:05.820Z"
   },
   {
    "duration": 672,
    "start_time": "2022-08-12T09:52:07.215Z"
   },
   {
    "duration": 21,
    "start_time": "2022-08-12T09:52:07.888Z"
   },
   {
    "duration": 28,
    "start_time": "2022-08-12T09:52:07.911Z"
   },
   {
    "duration": 18,
    "start_time": "2022-08-12T09:52:07.941Z"
   },
   {
    "duration": 3,
    "start_time": "2022-08-12T09:52:07.960Z"
   },
   {
    "duration": 7,
    "start_time": "2022-08-12T09:52:07.964Z"
   },
   {
    "duration": 13,
    "start_time": "2022-08-12T09:52:07.973Z"
   },
   {
    "duration": 7,
    "start_time": "2022-08-12T09:52:07.988Z"
   },
   {
    "duration": 7,
    "start_time": "2022-08-12T09:52:07.997Z"
   },
   {
    "duration": 13,
    "start_time": "2022-08-12T09:52:08.005Z"
   },
   {
    "duration": 20,
    "start_time": "2022-08-12T09:52:08.019Z"
   },
   {
    "duration": 124,
    "start_time": "2022-08-12T09:52:08.041Z"
   },
   {
    "duration": 26,
    "start_time": "2022-08-12T09:52:08.167Z"
   },
   {
    "duration": 115,
    "start_time": "2022-08-12T09:52:08.195Z"
   },
   {
    "duration": 226,
    "start_time": "2022-08-12T09:52:08.312Z"
   },
   {
    "duration": 218,
    "start_time": "2022-08-12T09:52:08.540Z"
   },
   {
    "duration": 335,
    "start_time": "2022-08-12T09:52:08.759Z"
   },
   {
    "duration": 431,
    "start_time": "2022-08-12T09:52:09.096Z"
   },
   {
    "duration": 14,
    "start_time": "2022-08-12T09:52:09.538Z"
   },
   {
    "duration": 1006,
    "start_time": "2022-08-12T09:52:09.554Z"
   },
   {
    "duration": 222,
    "start_time": "2022-08-12T09:52:10.561Z"
   },
   {
    "duration": 2,
    "start_time": "2022-08-12T09:52:10.785Z"
   },
   {
    "duration": 28,
    "start_time": "2022-08-12T09:52:10.789Z"
   },
   {
    "duration": 35,
    "start_time": "2022-08-12T09:52:10.819Z"
   },
   {
    "duration": 298,
    "start_time": "2022-08-12T09:52:10.856Z"
   },
   {
    "duration": 2,
    "start_time": "2022-08-12T09:52:11.156Z"
   },
   {
    "duration": 14,
    "start_time": "2022-08-12T09:52:11.159Z"
   },
   {
    "duration": 38,
    "start_time": "2022-08-12T09:52:11.174Z"
   },
   {
    "duration": 19,
    "start_time": "2022-08-12T09:52:11.214Z"
   },
   {
    "duration": 21,
    "start_time": "2022-08-12T09:52:11.234Z"
   },
   {
    "duration": 37,
    "start_time": "2022-08-12T09:52:11.256Z"
   },
   {
    "duration": 7,
    "start_time": "2022-08-12T09:52:11.295Z"
   },
   {
    "duration": 34,
    "start_time": "2022-08-12T09:52:11.304Z"
   },
   {
    "duration": 13,
    "start_time": "2022-08-12T09:52:11.339Z"
   },
   {
    "duration": 106,
    "start_time": "2022-08-12T09:55:05.729Z"
   },
   {
    "duration": 3,
    "start_time": "2022-08-12T09:55:42.064Z"
   },
   {
    "duration": 17,
    "start_time": "2022-08-12T09:55:45.409Z"
   },
   {
    "duration": 5,
    "start_time": "2022-08-12T09:56:57.365Z"
   },
   {
    "duration": 9,
    "start_time": "2022-08-12T09:57:49.642Z"
   },
   {
    "duration": 11,
    "start_time": "2022-08-12T09:58:39.004Z"
   },
   {
    "duration": 22,
    "start_time": "2022-08-12T09:58:53.495Z"
   },
   {
    "duration": 10,
    "start_time": "2022-08-12T09:59:45.620Z"
   },
   {
    "duration": 16,
    "start_time": "2022-08-12T09:59:54.772Z"
   },
   {
    "duration": 27,
    "start_time": "2022-08-12T10:01:22.356Z"
   },
   {
    "duration": 16,
    "start_time": "2022-08-12T10:01:31.762Z"
   },
   {
    "duration": 10,
    "start_time": "2022-08-12T10:05:19.952Z"
   },
   {
    "duration": 11,
    "start_time": "2022-08-12T10:05:23.996Z"
   },
   {
    "duration": 24,
    "start_time": "2022-08-12T10:09:44.473Z"
   },
   {
    "duration": 17,
    "start_time": "2022-08-12T10:09:51.041Z"
   },
   {
    "duration": 31,
    "start_time": "2022-08-12T10:10:03.825Z"
   },
   {
    "duration": 12,
    "start_time": "2022-08-12T10:10:06.596Z"
   },
   {
    "duration": 1570,
    "start_time": "2022-08-12T10:10:15.073Z"
   },
   {
    "duration": 671,
    "start_time": "2022-08-12T10:10:16.645Z"
   },
   {
    "duration": 26,
    "start_time": "2022-08-12T10:10:17.318Z"
   },
   {
    "duration": 19,
    "start_time": "2022-08-12T10:10:17.346Z"
   },
   {
    "duration": 18,
    "start_time": "2022-08-12T10:10:17.367Z"
   },
   {
    "duration": 4,
    "start_time": "2022-08-12T10:10:17.386Z"
   },
   {
    "duration": 17,
    "start_time": "2022-08-12T10:10:17.391Z"
   },
   {
    "duration": 44,
    "start_time": "2022-08-12T10:10:17.409Z"
   },
   {
    "duration": 16,
    "start_time": "2022-08-12T10:10:17.455Z"
   },
   {
    "duration": 6,
    "start_time": "2022-08-12T10:10:17.472Z"
   },
   {
    "duration": 9,
    "start_time": "2022-08-12T10:10:17.479Z"
   },
   {
    "duration": 12,
    "start_time": "2022-08-12T10:10:17.490Z"
   },
   {
    "duration": 129,
    "start_time": "2022-08-12T10:10:17.503Z"
   },
   {
    "duration": 23,
    "start_time": "2022-08-12T10:10:17.640Z"
   },
   {
    "duration": 132,
    "start_time": "2022-08-12T10:10:17.664Z"
   },
   {
    "duration": 202,
    "start_time": "2022-08-12T10:10:17.798Z"
   },
   {
    "duration": 184,
    "start_time": "2022-08-12T10:10:18.002Z"
   },
   {
    "duration": 264,
    "start_time": "2022-08-12T10:10:18.188Z"
   },
   {
    "duration": 419,
    "start_time": "2022-08-12T10:10:18.453Z"
   },
   {
    "duration": 30,
    "start_time": "2022-08-12T10:10:18.875Z"
   },
   {
    "duration": 1143,
    "start_time": "2022-08-12T10:10:18.907Z"
   },
   {
    "duration": 225,
    "start_time": "2022-08-12T10:10:20.053Z"
   },
   {
    "duration": 3,
    "start_time": "2022-08-12T10:10:20.279Z"
   },
   {
    "duration": 56,
    "start_time": "2022-08-12T10:10:20.284Z"
   },
   {
    "duration": 37,
    "start_time": "2022-08-12T10:10:20.342Z"
   },
   {
    "duration": 271,
    "start_time": "2022-08-12T10:10:20.380Z"
   },
   {
    "duration": 2,
    "start_time": "2022-08-12T10:10:20.653Z"
   },
   {
    "duration": 9,
    "start_time": "2022-08-12T10:10:20.657Z"
   },
   {
    "duration": 26,
    "start_time": "2022-08-12T10:10:20.667Z"
   },
   {
    "duration": 11,
    "start_time": "2022-08-12T10:10:20.694Z"
   },
   {
    "duration": 11,
    "start_time": "2022-08-12T10:10:20.706Z"
   },
   {
    "duration": 43,
    "start_time": "2022-08-12T10:10:20.718Z"
   },
   {
    "duration": 7,
    "start_time": "2022-08-12T10:10:20.762Z"
   },
   {
    "duration": 59,
    "start_time": "2022-08-12T10:10:20.771Z"
   },
   {
    "duration": 18,
    "start_time": "2022-08-12T10:10:20.832Z"
   },
   {
    "duration": 23,
    "start_time": "2022-08-12T10:10:20.852Z"
   },
   {
    "duration": 23,
    "start_time": "2022-08-12T10:10:20.876Z"
   },
   {
    "duration": 36,
    "start_time": "2022-08-12T10:10:20.900Z"
   },
   {
    "duration": 4,
    "start_time": "2022-08-12T10:10:20.937Z"
   },
   {
    "duration": 195,
    "start_time": "2022-08-12T10:10:20.943Z"
   },
   {
    "duration": 1314,
    "start_time": "2022-08-12T10:10:56.245Z"
   },
   {
    "duration": 649,
    "start_time": "2022-08-12T10:10:57.560Z"
   },
   {
    "duration": 20,
    "start_time": "2022-08-12T10:10:58.211Z"
   },
   {
    "duration": 17,
    "start_time": "2022-08-12T10:10:58.237Z"
   },
   {
    "duration": 16,
    "start_time": "2022-08-12T10:10:58.256Z"
   },
   {
    "duration": 2,
    "start_time": "2022-08-12T10:10:58.273Z"
   },
   {
    "duration": 5,
    "start_time": "2022-08-12T10:10:58.277Z"
   },
   {
    "duration": 10,
    "start_time": "2022-08-12T10:10:58.283Z"
   },
   {
    "duration": 5,
    "start_time": "2022-08-12T10:10:58.294Z"
   },
   {
    "duration": 5,
    "start_time": "2022-08-12T10:10:58.300Z"
   },
   {
    "duration": 33,
    "start_time": "2022-08-12T10:10:58.306Z"
   },
   {
    "duration": 3,
    "start_time": "2022-08-12T10:10:58.340Z"
   },
   {
    "duration": 122,
    "start_time": "2022-08-12T10:10:58.345Z"
   },
   {
    "duration": 25,
    "start_time": "2022-08-12T10:10:58.469Z"
   },
   {
    "duration": 100,
    "start_time": "2022-08-12T10:10:58.495Z"
   },
   {
    "duration": 193,
    "start_time": "2022-08-12T10:10:58.607Z"
   },
   {
    "duration": 227,
    "start_time": "2022-08-12T10:10:58.802Z"
   },
   {
    "duration": 263,
    "start_time": "2022-08-12T10:10:59.030Z"
   },
   {
    "duration": 429,
    "start_time": "2022-08-12T10:10:59.295Z"
   },
   {
    "duration": 21,
    "start_time": "2022-08-12T10:10:59.726Z"
   },
   {
    "duration": 1084,
    "start_time": "2022-08-12T10:10:59.749Z"
   },
   {
    "duration": 207,
    "start_time": "2022-08-12T10:11:00.837Z"
   },
   {
    "duration": 2,
    "start_time": "2022-08-12T10:11:01.046Z"
   },
   {
    "duration": 15,
    "start_time": "2022-08-12T10:11:01.049Z"
   },
   {
    "duration": 13,
    "start_time": "2022-08-12T10:11:01.065Z"
   },
   {
    "duration": 272,
    "start_time": "2022-08-12T10:11:01.079Z"
   },
   {
    "duration": 2,
    "start_time": "2022-08-12T10:11:01.352Z"
   },
   {
    "duration": 27,
    "start_time": "2022-08-12T10:11:01.356Z"
   },
   {
    "duration": 9,
    "start_time": "2022-08-12T10:11:01.385Z"
   },
   {
    "duration": 11,
    "start_time": "2022-08-12T10:11:01.395Z"
   },
   {
    "duration": 5,
    "start_time": "2022-08-12T10:11:01.407Z"
   },
   {
    "duration": 35,
    "start_time": "2022-08-12T10:11:01.414Z"
   },
   {
    "duration": 6,
    "start_time": "2022-08-12T10:11:01.451Z"
   },
   {
    "duration": 28,
    "start_time": "2022-08-12T10:11:01.459Z"
   },
   {
    "duration": 12,
    "start_time": "2022-08-12T10:11:01.488Z"
   },
   {
    "duration": 18,
    "start_time": "2022-08-12T10:11:01.501Z"
   },
   {
    "duration": 23,
    "start_time": "2022-08-12T10:11:01.520Z"
   },
   {
    "duration": 35,
    "start_time": "2022-08-12T10:11:01.545Z"
   },
   {
    "duration": 2,
    "start_time": "2022-08-12T10:11:01.582Z"
   },
   {
    "duration": 117,
    "start_time": "2022-08-12T10:11:01.585Z"
   },
   {
    "duration": 17,
    "start_time": "2022-08-12T10:13:10.046Z"
   },
   {
    "duration": 28,
    "start_time": "2022-08-12T10:13:26.989Z"
   },
   {
    "duration": 15,
    "start_time": "2022-08-12T10:14:11.270Z"
   },
   {
    "duration": 27,
    "start_time": "2022-08-12T10:14:30.817Z"
   },
   {
    "duration": 27,
    "start_time": "2022-08-12T10:14:33.986Z"
   },
   {
    "duration": 25,
    "start_time": "2022-08-12T10:15:22.817Z"
   },
   {
    "duration": 19,
    "start_time": "2022-08-12T10:15:40.378Z"
   },
   {
    "duration": 9,
    "start_time": "2022-08-12T10:30:48.048Z"
   },
   {
    "duration": 11,
    "start_time": "2022-08-12T10:30:56.246Z"
   },
   {
    "duration": 8,
    "start_time": "2022-08-12T10:31:31.518Z"
   },
   {
    "duration": 4,
    "start_time": "2022-08-12T10:32:02.413Z"
   },
   {
    "duration": 2,
    "start_time": "2022-08-12T10:32:05.488Z"
   },
   {
    "duration": 13,
    "start_time": "2022-08-12T10:32:12.776Z"
   },
   {
    "duration": 14,
    "start_time": "2022-08-12T10:35:42.199Z"
   },
   {
    "duration": 16,
    "start_time": "2022-08-12T10:35:48.210Z"
   },
   {
    "duration": 1367,
    "start_time": "2022-08-12T10:35:54.995Z"
   },
   {
    "duration": 657,
    "start_time": "2022-08-12T10:35:56.364Z"
   },
   {
    "duration": 25,
    "start_time": "2022-08-12T10:35:57.023Z"
   },
   {
    "duration": 16,
    "start_time": "2022-08-12T10:35:57.050Z"
   },
   {
    "duration": 15,
    "start_time": "2022-08-12T10:35:57.068Z"
   },
   {
    "duration": 3,
    "start_time": "2022-08-12T10:35:57.084Z"
   },
   {
    "duration": 5,
    "start_time": "2022-08-12T10:35:57.088Z"
   },
   {
    "duration": 12,
    "start_time": "2022-08-12T10:35:57.094Z"
   },
   {
    "duration": 7,
    "start_time": "2022-08-12T10:35:57.107Z"
   },
   {
    "duration": 5,
    "start_time": "2022-08-12T10:35:57.115Z"
   },
   {
    "duration": 4,
    "start_time": "2022-08-12T10:35:57.138Z"
   },
   {
    "duration": 6,
    "start_time": "2022-08-12T10:35:57.143Z"
   },
   {
    "duration": 124,
    "start_time": "2022-08-12T10:35:57.150Z"
   },
   {
    "duration": 23,
    "start_time": "2022-08-12T10:35:57.276Z"
   },
   {
    "duration": 103,
    "start_time": "2022-08-12T10:35:57.301Z"
   },
   {
    "duration": 204,
    "start_time": "2022-08-12T10:35:57.406Z"
   },
   {
    "duration": 183,
    "start_time": "2022-08-12T10:35:57.612Z"
   },
   {
    "duration": 252,
    "start_time": "2022-08-12T10:35:57.797Z"
   },
   {
    "duration": 373,
    "start_time": "2022-08-12T10:35:58.050Z"
   },
   {
    "duration": 21,
    "start_time": "2022-08-12T10:35:58.425Z"
   },
   {
    "duration": 985,
    "start_time": "2022-08-12T10:35:58.447Z"
   },
   {
    "duration": 217,
    "start_time": "2022-08-12T10:35:59.434Z"
   },
   {
    "duration": 3,
    "start_time": "2022-08-12T10:35:59.653Z"
   },
   {
    "duration": 27,
    "start_time": "2022-08-12T10:35:59.658Z"
   },
   {
    "duration": 16,
    "start_time": "2022-08-12T10:35:59.686Z"
   },
   {
    "duration": 263,
    "start_time": "2022-08-12T10:35:59.703Z"
   },
   {
    "duration": 2,
    "start_time": "2022-08-12T10:35:59.967Z"
   },
   {
    "duration": 10,
    "start_time": "2022-08-12T10:35:59.971Z"
   },
   {
    "duration": 21,
    "start_time": "2022-08-12T10:35:59.983Z"
   },
   {
    "duration": 43,
    "start_time": "2022-08-12T10:36:00.005Z"
   },
   {
    "duration": 10,
    "start_time": "2022-08-12T10:36:00.049Z"
   },
   {
    "duration": 38,
    "start_time": "2022-08-12T10:36:00.060Z"
   },
   {
    "duration": 7,
    "start_time": "2022-08-12T10:36:00.099Z"
   },
   {
    "duration": 28,
    "start_time": "2022-08-12T10:36:00.107Z"
   },
   {
    "duration": 12,
    "start_time": "2022-08-12T10:36:00.137Z"
   },
   {
    "duration": 20,
    "start_time": "2022-08-12T10:36:00.150Z"
   },
   {
    "duration": 9,
    "start_time": "2022-08-12T10:36:00.171Z"
   },
   {
    "duration": 19,
    "start_time": "2022-08-12T10:36:00.181Z"
   },
   {
    "duration": 41,
    "start_time": "2022-08-12T10:36:00.201Z"
   },
   {
    "duration": 4,
    "start_time": "2022-08-12T10:36:00.243Z"
   },
   {
    "duration": 10,
    "start_time": "2022-08-12T10:36:00.250Z"
   },
   {
    "duration": 118,
    "start_time": "2022-08-12T10:36:00.261Z"
   },
   {
    "duration": 15,
    "start_time": "2022-08-12T10:38:54.815Z"
   },
   {
    "duration": 10,
    "start_time": "2022-08-12T10:39:13.737Z"
   },
   {
    "duration": 10,
    "start_time": "2022-08-12T10:39:31.095Z"
   },
   {
    "duration": 11,
    "start_time": "2022-08-12T10:39:46.439Z"
   },
   {
    "duration": 14,
    "start_time": "2022-08-12T10:41:47.902Z"
   },
   {
    "duration": 1308,
    "start_time": "2022-08-12T10:42:01.760Z"
   },
   {
    "duration": 670,
    "start_time": "2022-08-12T10:42:03.069Z"
   },
   {
    "duration": 21,
    "start_time": "2022-08-12T10:42:03.740Z"
   },
   {
    "duration": 18,
    "start_time": "2022-08-12T10:42:03.762Z"
   },
   {
    "duration": 16,
    "start_time": "2022-08-12T10:42:03.782Z"
   },
   {
    "duration": 3,
    "start_time": "2022-08-12T10:42:03.799Z"
   },
   {
    "duration": 7,
    "start_time": "2022-08-12T10:42:03.804Z"
   },
   {
    "duration": 8,
    "start_time": "2022-08-12T10:42:03.838Z"
   },
   {
    "duration": 6,
    "start_time": "2022-08-12T10:42:03.848Z"
   },
   {
    "duration": 6,
    "start_time": "2022-08-12T10:42:03.855Z"
   },
   {
    "duration": 7,
    "start_time": "2022-08-12T10:42:03.862Z"
   },
   {
    "duration": 5,
    "start_time": "2022-08-12T10:42:03.870Z"
   },
   {
    "duration": 136,
    "start_time": "2022-08-12T10:42:03.876Z"
   },
   {
    "duration": 37,
    "start_time": "2022-08-12T10:42:04.016Z"
   },
   {
    "duration": 99,
    "start_time": "2022-08-12T10:42:04.054Z"
   },
   {
    "duration": 213,
    "start_time": "2022-08-12T10:42:04.155Z"
   },
   {
    "duration": 190,
    "start_time": "2022-08-12T10:42:04.370Z"
   },
   {
    "duration": 256,
    "start_time": "2022-08-12T10:42:04.562Z"
   },
   {
    "duration": 398,
    "start_time": "2022-08-12T10:42:04.820Z"
   },
   {
    "duration": 20,
    "start_time": "2022-08-12T10:42:05.219Z"
   },
   {
    "duration": 1015,
    "start_time": "2022-08-12T10:42:05.240Z"
   },
   {
    "duration": 235,
    "start_time": "2022-08-12T10:42:06.257Z"
   },
   {
    "duration": 3,
    "start_time": "2022-08-12T10:42:06.494Z"
   },
   {
    "duration": 21,
    "start_time": "2022-08-12T10:42:06.499Z"
   },
   {
    "duration": 17,
    "start_time": "2022-08-12T10:42:06.522Z"
   },
   {
    "duration": 291,
    "start_time": "2022-08-12T10:42:06.540Z"
   },
   {
    "duration": 6,
    "start_time": "2022-08-12T10:42:06.832Z"
   },
   {
    "duration": 3,
    "start_time": "2022-08-12T10:42:06.839Z"
   },
   {
    "duration": 21,
    "start_time": "2022-08-12T10:42:06.843Z"
   },
   {
    "duration": 9,
    "start_time": "2022-08-12T10:42:06.866Z"
   },
   {
    "duration": 8,
    "start_time": "2022-08-12T10:42:06.876Z"
   },
   {
    "duration": 36,
    "start_time": "2022-08-12T10:42:06.886Z"
   },
   {
    "duration": 9,
    "start_time": "2022-08-12T10:42:06.925Z"
   },
   {
    "duration": 44,
    "start_time": "2022-08-12T10:42:06.936Z"
   },
   {
    "duration": 14,
    "start_time": "2022-08-12T10:42:06.981Z"
   },
   {
    "duration": 11,
    "start_time": "2022-08-12T10:42:06.997Z"
   },
   {
    "duration": 116,
    "start_time": "2022-08-12T10:42:07.009Z"
   },
   {
    "duration": 4,
    "start_time": "2022-08-12T10:47:44.965Z"
   },
   {
    "duration": 4,
    "start_time": "2022-08-12T10:48:16.404Z"
   },
   {
    "duration": 4,
    "start_time": "2022-08-12T10:48:51.996Z"
   },
   {
    "duration": 11,
    "start_time": "2022-08-12T10:49:22.148Z"
   },
   {
    "duration": 4,
    "start_time": "2022-08-12T10:49:49.443Z"
   },
   {
    "duration": 15,
    "start_time": "2022-08-12T10:54:32.435Z"
   },
   {
    "duration": 15,
    "start_time": "2022-08-12T10:54:34.806Z"
   },
   {
    "duration": 15,
    "start_time": "2022-08-12T10:54:47.116Z"
   },
   {
    "duration": 1302,
    "start_time": "2022-08-12T10:54:57.173Z"
   },
   {
    "duration": 723,
    "start_time": "2022-08-12T10:54:58.477Z"
   },
   {
    "duration": 21,
    "start_time": "2022-08-12T10:54:59.201Z"
   },
   {
    "duration": 27,
    "start_time": "2022-08-12T10:54:59.223Z"
   },
   {
    "duration": 19,
    "start_time": "2022-08-12T10:54:59.252Z"
   },
   {
    "duration": 2,
    "start_time": "2022-08-12T10:54:59.272Z"
   },
   {
    "duration": 4,
    "start_time": "2022-08-12T10:54:59.276Z"
   },
   {
    "duration": 14,
    "start_time": "2022-08-12T10:54:59.281Z"
   },
   {
    "duration": 4,
    "start_time": "2022-08-12T10:54:59.297Z"
   },
   {
    "duration": 36,
    "start_time": "2022-08-12T10:54:59.302Z"
   },
   {
    "duration": 4,
    "start_time": "2022-08-12T10:54:59.340Z"
   },
   {
    "duration": 4,
    "start_time": "2022-08-12T10:54:59.345Z"
   },
   {
    "duration": 130,
    "start_time": "2022-08-12T10:54:59.350Z"
   },
   {
    "duration": 23,
    "start_time": "2022-08-12T10:54:59.483Z"
   },
   {
    "duration": 112,
    "start_time": "2022-08-12T10:54:59.508Z"
   },
   {
    "duration": 202,
    "start_time": "2022-08-12T10:54:59.622Z"
   },
   {
    "duration": 174,
    "start_time": "2022-08-12T10:54:59.826Z"
   },
   {
    "duration": 256,
    "start_time": "2022-08-12T10:55:00.001Z"
   },
   {
    "duration": 368,
    "start_time": "2022-08-12T10:55:00.258Z"
   },
   {
    "duration": 19,
    "start_time": "2022-08-12T10:55:00.628Z"
   },
   {
    "duration": 984,
    "start_time": "2022-08-12T10:55:00.649Z"
   },
   {
    "duration": 224,
    "start_time": "2022-08-12T10:55:01.634Z"
   },
   {
    "duration": 3,
    "start_time": "2022-08-12T10:55:01.860Z"
   },
   {
    "duration": 14,
    "start_time": "2022-08-12T10:55:01.864Z"
   },
   {
    "duration": 13,
    "start_time": "2022-08-12T10:55:01.880Z"
   },
   {
    "duration": 263,
    "start_time": "2022-08-12T10:55:01.895Z"
   },
   {
    "duration": 3,
    "start_time": "2022-08-12T10:55:02.159Z"
   },
   {
    "duration": 6,
    "start_time": "2022-08-12T10:55:02.163Z"
   },
   {
    "duration": 11,
    "start_time": "2022-08-12T10:55:02.170Z"
   },
   {
    "duration": 8,
    "start_time": "2022-08-12T10:55:02.182Z"
   },
   {
    "duration": 15,
    "start_time": "2022-08-12T10:55:02.192Z"
   },
   {
    "duration": 37,
    "start_time": "2022-08-12T10:55:02.208Z"
   },
   {
    "duration": 7,
    "start_time": "2022-08-12T10:55:02.246Z"
   },
   {
    "duration": 20,
    "start_time": "2022-08-12T10:55:02.255Z"
   },
   {
    "duration": 11,
    "start_time": "2022-08-12T10:55:02.276Z"
   },
   {
    "duration": 9,
    "start_time": "2022-08-12T10:55:02.289Z"
   },
   {
    "duration": 4,
    "start_time": "2022-08-12T10:55:02.300Z"
   },
   {
    "duration": 8,
    "start_time": "2022-08-12T10:55:02.305Z"
   },
   {
    "duration": 141,
    "start_time": "2022-08-12T10:55:02.315Z"
   },
   {
    "duration": 8,
    "start_time": "2022-08-12T10:56:17.447Z"
   },
   {
    "duration": 4,
    "start_time": "2022-08-12T10:56:32.509Z"
   },
   {
    "duration": 21,
    "start_time": "2022-08-12T10:59:23.440Z"
   },
   {
    "duration": 7,
    "start_time": "2022-08-12T11:06:16.957Z"
   },
   {
    "duration": 35,
    "start_time": "2022-08-12T11:09:38.545Z"
   },
   {
    "duration": 13,
    "start_time": "2022-08-12T11:10:23.777Z"
   },
   {
    "duration": 7,
    "start_time": "2022-08-12T11:11:01.705Z"
   },
   {
    "duration": 11,
    "start_time": "2022-08-12T11:11:29.667Z"
   },
   {
    "duration": 1371,
    "start_time": "2022-08-12T11:11:42.344Z"
   },
   {
    "duration": 661,
    "start_time": "2022-08-12T11:11:43.717Z"
   },
   {
    "duration": 22,
    "start_time": "2022-08-12T11:11:44.379Z"
   },
   {
    "duration": 17,
    "start_time": "2022-08-12T11:11:44.402Z"
   },
   {
    "duration": 26,
    "start_time": "2022-08-12T11:11:44.421Z"
   },
   {
    "duration": 4,
    "start_time": "2022-08-12T11:11:44.448Z"
   },
   {
    "duration": 10,
    "start_time": "2022-08-12T11:11:44.453Z"
   },
   {
    "duration": 13,
    "start_time": "2022-08-12T11:11:44.464Z"
   },
   {
    "duration": 4,
    "start_time": "2022-08-12T11:11:44.478Z"
   },
   {
    "duration": 5,
    "start_time": "2022-08-12T11:11:44.483Z"
   },
   {
    "duration": 6,
    "start_time": "2022-08-12T11:11:44.489Z"
   },
   {
    "duration": 7,
    "start_time": "2022-08-12T11:11:44.496Z"
   },
   {
    "duration": 135,
    "start_time": "2022-08-12T11:11:44.504Z"
   },
   {
    "duration": 24,
    "start_time": "2022-08-12T11:11:44.642Z"
   },
   {
    "duration": 103,
    "start_time": "2022-08-12T11:11:44.668Z"
   },
   {
    "duration": 209,
    "start_time": "2022-08-12T11:11:44.773Z"
   },
   {
    "duration": 189,
    "start_time": "2022-08-12T11:11:44.983Z"
   },
   {
    "duration": 263,
    "start_time": "2022-08-12T11:11:45.174Z"
   },
   {
    "duration": 404,
    "start_time": "2022-08-12T11:11:45.439Z"
   },
   {
    "duration": 14,
    "start_time": "2022-08-12T11:11:45.844Z"
   },
   {
    "duration": 988,
    "start_time": "2022-08-12T11:11:45.860Z"
   },
   {
    "duration": 211,
    "start_time": "2022-08-12T11:11:46.850Z"
   },
   {
    "duration": 3,
    "start_time": "2022-08-12T11:11:47.063Z"
   },
   {
    "duration": 15,
    "start_time": "2022-08-12T11:11:47.068Z"
   },
   {
    "duration": 14,
    "start_time": "2022-08-12T11:11:47.085Z"
   },
   {
    "duration": 252,
    "start_time": "2022-08-12T11:11:47.100Z"
   },
   {
    "duration": 3,
    "start_time": "2022-08-12T11:11:47.353Z"
   },
   {
    "duration": 4,
    "start_time": "2022-08-12T11:11:47.357Z"
   },
   {
    "duration": 8,
    "start_time": "2022-08-12T11:11:47.363Z"
   },
   {
    "duration": 4,
    "start_time": "2022-08-12T11:11:47.372Z"
   },
   {
    "duration": 9,
    "start_time": "2022-08-12T11:11:47.378Z"
   },
   {
    "duration": 38,
    "start_time": "2022-08-12T11:11:47.388Z"
   },
   {
    "duration": 11,
    "start_time": "2022-08-12T11:11:47.428Z"
   },
   {
    "duration": 21,
    "start_time": "2022-08-12T11:11:47.440Z"
   },
   {
    "duration": 12,
    "start_time": "2022-08-12T11:11:47.462Z"
   },
   {
    "duration": 10,
    "start_time": "2022-08-12T11:11:47.475Z"
   },
   {
    "duration": 6,
    "start_time": "2022-08-12T11:11:47.486Z"
   },
   {
    "duration": 140,
    "start_time": "2022-08-12T11:11:47.493Z"
   },
   {
    "duration": 21,
    "start_time": "2022-08-12T11:12:09.687Z"
   },
   {
    "duration": 7,
    "start_time": "2022-08-12T11:19:10.306Z"
   },
   {
    "duration": 12,
    "start_time": "2022-08-12T11:19:20.172Z"
   },
   {
    "duration": 6,
    "start_time": "2022-08-12T11:19:51.764Z"
   },
   {
    "duration": 20,
    "start_time": "2022-08-12T11:19:58.213Z"
   },
   {
    "duration": 1235,
    "start_time": "2022-08-12T11:20:11.178Z"
   },
   {
    "duration": 645,
    "start_time": "2022-08-12T11:20:12.415Z"
   },
   {
    "duration": 19,
    "start_time": "2022-08-12T11:20:13.062Z"
   },
   {
    "duration": 16,
    "start_time": "2022-08-12T11:20:13.083Z"
   },
   {
    "duration": 16,
    "start_time": "2022-08-12T11:20:13.101Z"
   },
   {
    "duration": 3,
    "start_time": "2022-08-12T11:20:13.137Z"
   },
   {
    "duration": 7,
    "start_time": "2022-08-12T11:20:13.141Z"
   },
   {
    "duration": 14,
    "start_time": "2022-08-12T11:20:13.149Z"
   },
   {
    "duration": 7,
    "start_time": "2022-08-12T11:20:13.165Z"
   },
   {
    "duration": 11,
    "start_time": "2022-08-12T11:20:13.174Z"
   },
   {
    "duration": 8,
    "start_time": "2022-08-12T11:20:13.186Z"
   },
   {
    "duration": 14,
    "start_time": "2022-08-12T11:20:13.195Z"
   },
   {
    "duration": 120,
    "start_time": "2022-08-12T11:20:13.210Z"
   },
   {
    "duration": 28,
    "start_time": "2022-08-12T11:20:13.338Z"
   },
   {
    "duration": 101,
    "start_time": "2022-08-12T11:20:13.368Z"
   },
   {
    "duration": 202,
    "start_time": "2022-08-12T11:20:13.471Z"
   },
   {
    "duration": 193,
    "start_time": "2022-08-12T11:20:13.675Z"
   },
   {
    "duration": 256,
    "start_time": "2022-08-12T11:20:13.870Z"
   },
   {
    "duration": 404,
    "start_time": "2022-08-12T11:20:14.127Z"
   },
   {
    "duration": 16,
    "start_time": "2022-08-12T11:20:14.532Z"
   },
   {
    "duration": 997,
    "start_time": "2022-08-12T11:20:14.549Z"
   },
   {
    "duration": 224,
    "start_time": "2022-08-12T11:20:15.547Z"
   },
   {
    "duration": 3,
    "start_time": "2022-08-12T11:20:15.772Z"
   },
   {
    "duration": 12,
    "start_time": "2022-08-12T11:20:15.777Z"
   },
   {
    "duration": 15,
    "start_time": "2022-08-12T11:20:15.790Z"
   },
   {
    "duration": 300,
    "start_time": "2022-08-12T11:20:15.806Z"
   },
   {
    "duration": 3,
    "start_time": "2022-08-12T11:20:16.107Z"
   },
   {
    "duration": 4,
    "start_time": "2022-08-12T11:20:16.112Z"
   },
   {
    "duration": 16,
    "start_time": "2022-08-12T11:20:16.117Z"
   },
   {
    "duration": 5,
    "start_time": "2022-08-12T11:20:16.134Z"
   },
   {
    "duration": 8,
    "start_time": "2022-08-12T11:20:16.140Z"
   },
   {
    "duration": 37,
    "start_time": "2022-08-12T11:20:16.150Z"
   },
   {
    "duration": 8,
    "start_time": "2022-08-12T11:20:16.189Z"
   },
   {
    "duration": 27,
    "start_time": "2022-08-12T11:20:16.198Z"
   },
   {
    "duration": 19,
    "start_time": "2022-08-12T11:20:16.226Z"
   },
   {
    "duration": 10,
    "start_time": "2022-08-12T11:20:16.246Z"
   },
   {
    "duration": 6,
    "start_time": "2022-08-12T11:20:16.258Z"
   },
   {
    "duration": 9,
    "start_time": "2022-08-12T11:20:16.265Z"
   },
   {
    "duration": 5,
    "start_time": "2022-08-12T11:20:16.275Z"
   },
   {
    "duration": 147,
    "start_time": "2022-08-12T11:20:16.281Z"
   },
   {
    "duration": 234,
    "start_time": "2022-08-12T11:21:34.975Z"
   },
   {
    "duration": 7,
    "start_time": "2022-08-12T11:21:45.867Z"
   },
   {
    "duration": 137,
    "start_time": "2022-08-12T11:21:50.703Z"
   },
   {
    "duration": 167,
    "start_time": "2022-08-12T11:28:38.673Z"
   },
   {
    "duration": 105,
    "start_time": "2022-08-12T11:29:03.541Z"
   },
   {
    "duration": 299,
    "start_time": "2022-08-12T11:29:47.943Z"
   },
   {
    "duration": 1741,
    "start_time": "2022-08-12T11:30:36.574Z"
   },
   {
    "duration": 706,
    "start_time": "2022-08-12T11:30:38.317Z"
   },
   {
    "duration": 36,
    "start_time": "2022-08-12T11:30:39.025Z"
   },
   {
    "duration": 35,
    "start_time": "2022-08-12T11:30:39.064Z"
   },
   {
    "duration": 16,
    "start_time": "2022-08-12T11:30:39.101Z"
   },
   {
    "duration": 3,
    "start_time": "2022-08-12T11:30:39.119Z"
   },
   {
    "duration": 15,
    "start_time": "2022-08-12T11:30:39.123Z"
   },
   {
    "duration": 9,
    "start_time": "2022-08-12T11:30:39.140Z"
   },
   {
    "duration": 6,
    "start_time": "2022-08-12T11:30:39.151Z"
   },
   {
    "duration": 4,
    "start_time": "2022-08-12T11:30:39.161Z"
   },
   {
    "duration": 6,
    "start_time": "2022-08-12T11:30:39.166Z"
   },
   {
    "duration": 4,
    "start_time": "2022-08-12T11:30:39.174Z"
   },
   {
    "duration": 137,
    "start_time": "2022-08-12T11:30:39.179Z"
   },
   {
    "duration": 34,
    "start_time": "2022-08-12T11:30:39.318Z"
   },
   {
    "duration": 99,
    "start_time": "2022-08-12T11:30:39.354Z"
   },
   {
    "duration": 211,
    "start_time": "2022-08-12T11:30:39.455Z"
   },
   {
    "duration": 219,
    "start_time": "2022-08-12T11:30:39.667Z"
   },
   {
    "duration": 269,
    "start_time": "2022-08-12T11:30:39.888Z"
   },
   {
    "duration": 378,
    "start_time": "2022-08-12T11:30:40.159Z"
   },
   {
    "duration": 13,
    "start_time": "2022-08-12T11:30:40.539Z"
   },
   {
    "duration": 1179,
    "start_time": "2022-08-12T11:30:40.554Z"
   },
   {
    "duration": 238,
    "start_time": "2022-08-12T11:30:41.738Z"
   },
   {
    "duration": 4,
    "start_time": "2022-08-12T11:30:41.977Z"
   },
   {
    "duration": 17,
    "start_time": "2022-08-12T11:30:41.983Z"
   },
   {
    "duration": 15,
    "start_time": "2022-08-12T11:30:42.002Z"
   },
   {
    "duration": 279,
    "start_time": "2022-08-12T11:30:42.038Z"
   },
   {
    "duration": 3,
    "start_time": "2022-08-12T11:30:42.318Z"
   },
   {
    "duration": 14,
    "start_time": "2022-08-12T11:30:42.324Z"
   },
   {
    "duration": 9,
    "start_time": "2022-08-12T11:30:42.340Z"
   },
   {
    "duration": 6,
    "start_time": "2022-08-12T11:30:42.350Z"
   },
   {
    "duration": 5,
    "start_time": "2022-08-12T11:30:42.358Z"
   },
   {
    "duration": 31,
    "start_time": "2022-08-12T11:30:42.364Z"
   },
   {
    "duration": 8,
    "start_time": "2022-08-12T11:30:42.396Z"
   },
   {
    "duration": 42,
    "start_time": "2022-08-12T11:30:42.405Z"
   },
   {
    "duration": 16,
    "start_time": "2022-08-12T11:30:42.448Z"
   },
   {
    "duration": 6,
    "start_time": "2022-08-12T11:30:42.465Z"
   },
   {
    "duration": 11,
    "start_time": "2022-08-12T11:30:42.473Z"
   },
   {
    "duration": 5,
    "start_time": "2022-08-12T11:30:42.486Z"
   },
   {
    "duration": 9,
    "start_time": "2022-08-12T11:30:42.493Z"
   },
   {
    "duration": 474,
    "start_time": "2022-08-12T11:30:42.538Z"
   },
   {
    "duration": 7,
    "start_time": "2022-08-12T11:33:55.133Z"
   },
   {
    "duration": 34,
    "start_time": "2022-08-12T11:33:59.306Z"
   },
   {
    "duration": 16,
    "start_time": "2022-08-12T11:34:30.037Z"
   },
   {
    "duration": 31,
    "start_time": "2022-08-12T11:34:33.067Z"
   },
   {
    "duration": 7,
    "start_time": "2022-08-12T11:35:08.071Z"
   },
   {
    "duration": 156,
    "start_time": "2022-08-12T11:35:12.600Z"
   },
   {
    "duration": 40,
    "start_time": "2022-08-12T11:47:17.904Z"
   },
   {
    "duration": 224,
    "start_time": "2022-08-12T11:47:36.515Z"
   },
   {
    "duration": 14,
    "start_time": "2022-08-12T11:48:25.452Z"
   },
   {
    "duration": 19,
    "start_time": "2022-08-12T11:48:46.874Z"
   },
   {
    "duration": 23,
    "start_time": "2022-08-12T11:56:00.427Z"
   },
   {
    "duration": 21,
    "start_time": "2022-08-12T11:56:03.832Z"
   },
   {
    "duration": 3,
    "start_time": "2022-08-12T11:58:14.560Z"
   },
   {
    "duration": 3,
    "start_time": "2022-08-12T11:58:19.151Z"
   },
   {
    "duration": 3,
    "start_time": "2022-08-12T11:58:24.431Z"
   },
   {
    "duration": 3,
    "start_time": "2022-08-12T11:58:32.509Z"
   },
   {
    "duration": 2,
    "start_time": "2022-08-12T11:58:40.541Z"
   },
   {
    "duration": 15,
    "start_time": "2022-08-12T11:59:41.472Z"
   },
   {
    "duration": 3,
    "start_time": "2022-08-12T11:59:44.318Z"
   },
   {
    "duration": 917,
    "start_time": "2022-08-12T12:00:12.731Z"
   },
   {
    "duration": 44,
    "start_time": "2022-08-12T14:55:07.197Z"
   },
   {
    "duration": 1447,
    "start_time": "2022-08-12T14:55:46.453Z"
   },
   {
    "duration": 73,
    "start_time": "2022-08-12T14:55:54.073Z"
   },
   {
    "duration": 12,
    "start_time": "2022-08-12T14:56:03.274Z"
   },
   {
    "duration": 9,
    "start_time": "2022-08-12T14:56:19.699Z"
   },
   {
    "duration": 1349,
    "start_time": "2022-08-12T14:56:29.479Z"
   },
   {
    "duration": 3102,
    "start_time": "2022-08-12T14:56:30.830Z"
   },
   {
    "duration": 27,
    "start_time": "2022-08-12T14:56:33.935Z"
   },
   {
    "duration": 21,
    "start_time": "2022-08-12T14:56:33.964Z"
   },
   {
    "duration": 26,
    "start_time": "2022-08-12T14:56:33.987Z"
   },
   {
    "duration": 3,
    "start_time": "2022-08-12T14:56:34.014Z"
   },
   {
    "duration": 6,
    "start_time": "2022-08-12T14:56:34.019Z"
   },
   {
    "duration": 15,
    "start_time": "2022-08-12T14:56:34.026Z"
   },
   {
    "duration": 5,
    "start_time": "2022-08-12T14:56:34.043Z"
   },
   {
    "duration": 4,
    "start_time": "2022-08-12T14:56:34.050Z"
   },
   {
    "duration": 12,
    "start_time": "2022-08-12T14:56:34.056Z"
   },
   {
    "duration": 7,
    "start_time": "2022-08-12T14:56:34.069Z"
   },
   {
    "duration": 147,
    "start_time": "2022-08-12T14:56:34.078Z"
   },
   {
    "duration": 25,
    "start_time": "2022-08-12T14:56:34.227Z"
   },
   {
    "duration": 105,
    "start_time": "2022-08-12T14:56:34.253Z"
   },
   {
    "duration": 204,
    "start_time": "2022-08-12T14:56:34.360Z"
   },
   {
    "duration": 183,
    "start_time": "2022-08-12T14:56:34.565Z"
   },
   {
    "duration": 279,
    "start_time": "2022-08-12T14:56:34.750Z"
   },
   {
    "duration": 360,
    "start_time": "2022-08-12T14:56:35.031Z"
   },
   {
    "duration": 21,
    "start_time": "2022-08-12T14:56:35.392Z"
   },
   {
    "duration": 989,
    "start_time": "2022-08-12T14:56:35.414Z"
   },
   {
    "duration": 222,
    "start_time": "2022-08-12T14:56:36.404Z"
   },
   {
    "duration": 3,
    "start_time": "2022-08-12T14:56:36.627Z"
   },
   {
    "duration": 14,
    "start_time": "2022-08-12T14:56:36.632Z"
   },
   {
    "duration": 14,
    "start_time": "2022-08-12T14:56:36.648Z"
   },
   {
    "duration": 288,
    "start_time": "2022-08-12T14:56:36.663Z"
   },
   {
    "duration": 2,
    "start_time": "2022-08-12T14:56:36.953Z"
   },
   {
    "duration": 7,
    "start_time": "2022-08-12T14:56:36.958Z"
   },
   {
    "duration": 9,
    "start_time": "2022-08-12T14:56:36.967Z"
   },
   {
    "duration": 5,
    "start_time": "2022-08-12T14:56:36.978Z"
   },
   {
    "duration": 5,
    "start_time": "2022-08-12T14:56:36.985Z"
   },
   {
    "duration": 28,
    "start_time": "2022-08-12T14:56:37.000Z"
   },
   {
    "duration": 8,
    "start_time": "2022-08-12T14:56:37.030Z"
   },
   {
    "duration": 21,
    "start_time": "2022-08-12T14:56:37.040Z"
   },
   {
    "duration": 2,
    "start_time": "2022-08-12T14:56:37.062Z"
   },
   {
    "duration": 10,
    "start_time": "2022-08-12T14:56:37.065Z"
   },
   {
    "duration": 23,
    "start_time": "2022-08-12T14:56:37.077Z"
   },
   {
    "duration": 6,
    "start_time": "2022-08-12T14:56:37.101Z"
   },
   {
    "duration": 4,
    "start_time": "2022-08-12T14:56:37.108Z"
   },
   {
    "duration": 14,
    "start_time": "2022-08-12T14:56:37.113Z"
   },
   {
    "duration": 4,
    "start_time": "2022-08-12T14:56:37.129Z"
   },
   {
    "duration": 6,
    "start_time": "2022-08-12T14:56:37.135Z"
   },
   {
    "duration": 126,
    "start_time": "2022-08-12T14:56:37.142Z"
   },
   {
    "duration": 0,
    "start_time": "2022-08-12T14:56:37.270Z"
   },
   {
    "duration": 19,
    "start_time": "2022-08-12T15:00:10.695Z"
   },
   {
    "duration": 24,
    "start_time": "2022-08-12T15:00:14.832Z"
   },
   {
    "duration": 14,
    "start_time": "2022-08-12T15:00:47.799Z"
   },
   {
    "duration": 17,
    "start_time": "2022-08-12T15:01:07.335Z"
   },
   {
    "duration": 12,
    "start_time": "2022-08-12T15:01:28.915Z"
   },
   {
    "duration": 14,
    "start_time": "2022-08-12T15:01:52.396Z"
   },
   {
    "duration": 12,
    "start_time": "2022-08-12T15:01:57.741Z"
   },
   {
    "duration": 12,
    "start_time": "2022-08-12T15:02:05.675Z"
   },
   {
    "duration": 23,
    "start_time": "2022-08-12T15:02:12.052Z"
   },
   {
    "duration": 8,
    "start_time": "2022-08-12T15:05:58.199Z"
   },
   {
    "duration": 10,
    "start_time": "2022-08-12T15:06:40.263Z"
   },
   {
    "duration": 9,
    "start_time": "2022-08-12T15:07:09.681Z"
   },
   {
    "duration": 14,
    "start_time": "2022-08-12T15:07:49.047Z"
   },
   {
    "duration": 14,
    "start_time": "2022-08-12T15:08:07.778Z"
   },
   {
    "duration": 42,
    "start_time": "2022-08-12T15:15:35.076Z"
   },
   {
    "duration": 0,
    "start_time": "2022-08-12T15:17:59.107Z"
   },
   {
    "duration": 0,
    "start_time": "2022-08-12T15:17:59.108Z"
   },
   {
    "duration": 1327,
    "start_time": "2022-08-12T15:17:59.149Z"
   },
   {
    "duration": 668,
    "start_time": "2022-08-12T15:18:00.477Z"
   },
   {
    "duration": 26,
    "start_time": "2022-08-12T15:18:01.147Z"
   },
   {
    "duration": 30,
    "start_time": "2022-08-12T15:18:01.175Z"
   },
   {
    "duration": 19,
    "start_time": "2022-08-12T15:18:01.206Z"
   },
   {
    "duration": 3,
    "start_time": "2022-08-12T15:18:01.226Z"
   },
   {
    "duration": 14,
    "start_time": "2022-08-12T15:18:01.230Z"
   },
   {
    "duration": 17,
    "start_time": "2022-08-12T15:18:01.246Z"
   },
   {
    "duration": 16,
    "start_time": "2022-08-12T15:18:01.265Z"
   },
   {
    "duration": 22,
    "start_time": "2022-08-12T15:18:01.284Z"
   },
   {
    "duration": 38,
    "start_time": "2022-08-12T15:18:01.308Z"
   },
   {
    "duration": 11,
    "start_time": "2022-08-12T15:18:01.348Z"
   },
   {
    "duration": 154,
    "start_time": "2022-08-12T15:18:01.361Z"
   },
   {
    "duration": 31,
    "start_time": "2022-08-12T15:18:01.517Z"
   },
   {
    "duration": 111,
    "start_time": "2022-08-12T15:18:01.550Z"
   },
   {
    "duration": 211,
    "start_time": "2022-08-12T15:18:01.663Z"
   },
   {
    "duration": 189,
    "start_time": "2022-08-12T15:18:01.876Z"
   },
   {
    "duration": 274,
    "start_time": "2022-08-12T15:18:02.066Z"
   },
   {
    "duration": 436,
    "start_time": "2022-08-12T15:18:02.342Z"
   },
   {
    "duration": 21,
    "start_time": "2022-08-12T15:18:02.779Z"
   },
   {
    "duration": 1002,
    "start_time": "2022-08-12T15:18:02.801Z"
   },
   {
    "duration": 221,
    "start_time": "2022-08-12T15:18:03.805Z"
   },
   {
    "duration": 3,
    "start_time": "2022-08-12T15:18:04.028Z"
   },
   {
    "duration": 13,
    "start_time": "2022-08-12T15:18:04.033Z"
   },
   {
    "duration": 14,
    "start_time": "2022-08-12T15:18:04.047Z"
   },
   {
    "duration": 273,
    "start_time": "2022-08-12T15:18:04.062Z"
   },
   {
    "duration": 3,
    "start_time": "2022-08-12T15:18:04.336Z"
   },
   {
    "duration": 4,
    "start_time": "2022-08-12T15:18:04.342Z"
   },
   {
    "duration": 9,
    "start_time": "2022-08-12T15:18:04.348Z"
   },
   {
    "duration": 5,
    "start_time": "2022-08-12T15:18:04.358Z"
   },
   {
    "duration": 6,
    "start_time": "2022-08-12T15:18:04.364Z"
   },
   {
    "duration": 41,
    "start_time": "2022-08-12T15:18:04.371Z"
   },
   {
    "duration": 8,
    "start_time": "2022-08-12T15:18:04.414Z"
   },
   {
    "duration": 22,
    "start_time": "2022-08-12T15:18:04.423Z"
   },
   {
    "duration": 3,
    "start_time": "2022-08-12T15:18:04.446Z"
   },
   {
    "duration": 7,
    "start_time": "2022-08-12T15:18:04.450Z"
   },
   {
    "duration": 8,
    "start_time": "2022-08-12T15:18:04.458Z"
   },
   {
    "duration": 6,
    "start_time": "2022-08-12T15:18:04.467Z"
   },
   {
    "duration": 4,
    "start_time": "2022-08-12T15:18:04.475Z"
   },
   {
    "duration": 29,
    "start_time": "2022-08-12T15:18:04.481Z"
   },
   {
    "duration": 11,
    "start_time": "2022-08-12T15:18:04.512Z"
   },
   {
    "duration": 9,
    "start_time": "2022-08-12T15:18:04.525Z"
   },
   {
    "duration": 13,
    "start_time": "2022-08-12T15:18:04.536Z"
   },
   {
    "duration": 4,
    "start_time": "2022-08-12T15:18:04.550Z"
   },
   {
    "duration": 8,
    "start_time": "2022-08-12T15:18:04.555Z"
   },
   {
    "duration": 119,
    "start_time": "2022-08-12T15:18:04.565Z"
   },
   {
    "duration": 0,
    "start_time": "2022-08-12T15:18:04.685Z"
   },
   {
    "duration": 206,
    "start_time": "2022-08-12T15:18:12.698Z"
   },
   {
    "duration": 3,
    "start_time": "2022-08-12T15:18:20.261Z"
   },
   {
    "duration": 23,
    "start_time": "2022-08-12T15:18:51.796Z"
   },
   {
    "duration": 7,
    "start_time": "2022-08-12T15:20:52.408Z"
   },
   {
    "duration": 14,
    "start_time": "2022-08-12T15:23:08.209Z"
   },
   {
    "duration": 14,
    "start_time": "2022-08-12T15:23:38.233Z"
   },
   {
    "duration": 1405,
    "start_time": "2022-08-12T15:23:57.417Z"
   },
   {
    "duration": 661,
    "start_time": "2022-08-12T15:23:58.824Z"
   },
   {
    "duration": 28,
    "start_time": "2022-08-12T15:23:59.487Z"
   },
   {
    "duration": 21,
    "start_time": "2022-08-12T15:23:59.517Z"
   },
   {
    "duration": 18,
    "start_time": "2022-08-12T15:23:59.540Z"
   },
   {
    "duration": 3,
    "start_time": "2022-08-12T15:23:59.559Z"
   },
   {
    "duration": 5,
    "start_time": "2022-08-12T15:23:59.563Z"
   },
   {
    "duration": 43,
    "start_time": "2022-08-12T15:23:59.569Z"
   },
   {
    "duration": 5,
    "start_time": "2022-08-12T15:23:59.614Z"
   },
   {
    "duration": 7,
    "start_time": "2022-08-12T15:23:59.620Z"
   },
   {
    "duration": 8,
    "start_time": "2022-08-12T15:23:59.628Z"
   },
   {
    "duration": 6,
    "start_time": "2022-08-12T15:23:59.637Z"
   },
   {
    "duration": 129,
    "start_time": "2022-08-12T15:23:59.644Z"
   },
   {
    "duration": 37,
    "start_time": "2022-08-12T15:23:59.776Z"
   },
   {
    "duration": 108,
    "start_time": "2022-08-12T15:23:59.815Z"
   },
   {
    "duration": 225,
    "start_time": "2022-08-12T15:23:59.925Z"
   },
   {
    "duration": 209,
    "start_time": "2022-08-12T15:24:00.152Z"
   },
   {
    "duration": 311,
    "start_time": "2022-08-12T15:24:00.363Z"
   },
   {
    "duration": 413,
    "start_time": "2022-08-12T15:24:00.675Z"
   },
   {
    "duration": 22,
    "start_time": "2022-08-12T15:24:01.090Z"
   },
   {
    "duration": 1009,
    "start_time": "2022-08-12T15:24:01.114Z"
   },
   {
    "duration": 212,
    "start_time": "2022-08-12T15:24:02.124Z"
   },
   {
    "duration": 4,
    "start_time": "2022-08-12T15:24:02.338Z"
   },
   {
    "duration": 66,
    "start_time": "2022-08-12T15:24:02.343Z"
   },
   {
    "duration": 31,
    "start_time": "2022-08-12T15:24:02.410Z"
   },
   {
    "duration": 290,
    "start_time": "2022-08-12T15:24:02.442Z"
   },
   {
    "duration": 3,
    "start_time": "2022-08-12T15:24:02.733Z"
   },
   {
    "duration": 38,
    "start_time": "2022-08-12T15:24:02.737Z"
   },
   {
    "duration": 42,
    "start_time": "2022-08-12T15:24:02.777Z"
   },
   {
    "duration": 6,
    "start_time": "2022-08-12T15:24:02.821Z"
   },
   {
    "duration": 11,
    "start_time": "2022-08-12T15:24:02.829Z"
   },
   {
    "duration": 33,
    "start_time": "2022-08-12T15:24:02.841Z"
   },
   {
    "duration": 8,
    "start_time": "2022-08-12T15:24:02.875Z"
   },
   {
    "duration": 33,
    "start_time": "2022-08-12T15:24:02.884Z"
   },
   {
    "duration": 2,
    "start_time": "2022-08-12T15:24:02.919Z"
   },
   {
    "duration": 8,
    "start_time": "2022-08-12T15:24:02.922Z"
   },
   {
    "duration": 5,
    "start_time": "2022-08-12T15:24:02.931Z"
   },
   {
    "duration": 6,
    "start_time": "2022-08-12T15:24:02.937Z"
   },
   {
    "duration": 8,
    "start_time": "2022-08-12T15:24:02.944Z"
   },
   {
    "duration": 20,
    "start_time": "2022-08-12T15:24:02.954Z"
   },
   {
    "duration": 23,
    "start_time": "2022-08-12T15:24:02.977Z"
   },
   {
    "duration": 11,
    "start_time": "2022-08-12T15:24:03.002Z"
   },
   {
    "duration": 21,
    "start_time": "2022-08-12T15:24:03.015Z"
   },
   {
    "duration": 14,
    "start_time": "2022-08-12T15:24:03.038Z"
   },
   {
    "duration": 8,
    "start_time": "2022-08-12T15:24:03.054Z"
   },
   {
    "duration": 15,
    "start_time": "2022-08-12T15:24:03.064Z"
   },
   {
    "duration": 124,
    "start_time": "2022-08-12T15:24:03.081Z"
   },
   {
    "duration": 11,
    "start_time": "2022-08-12T15:25:46.977Z"
   },
   {
    "duration": 11,
    "start_time": "2022-08-12T15:28:25.741Z"
   },
   {
    "duration": 28,
    "start_time": "2022-08-12T15:28:33.365Z"
   },
   {
    "duration": 8,
    "start_time": "2022-08-12T15:29:50.858Z"
   },
   {
    "duration": 17,
    "start_time": "2022-08-12T15:29:57.046Z"
   },
   {
    "duration": 24,
    "start_time": "2022-08-12T15:34:21.946Z"
   },
   {
    "duration": 17,
    "start_time": "2022-08-12T15:34:44.303Z"
   },
   {
    "duration": 4,
    "start_time": "2022-08-12T15:35:09.454Z"
   },
   {
    "duration": 3,
    "start_time": "2022-08-12T15:35:15.773Z"
   },
   {
    "duration": 1553,
    "start_time": "2022-08-12T15:35:22.487Z"
   },
   {
    "duration": 688,
    "start_time": "2022-08-12T15:35:24.043Z"
   },
   {
    "duration": 20,
    "start_time": "2022-08-12T15:35:24.733Z"
   },
   {
    "duration": 18,
    "start_time": "2022-08-12T15:35:24.754Z"
   },
   {
    "duration": 39,
    "start_time": "2022-08-12T15:35:24.774Z"
   },
   {
    "duration": 2,
    "start_time": "2022-08-12T15:35:24.815Z"
   },
   {
    "duration": 6,
    "start_time": "2022-08-12T15:35:24.819Z"
   },
   {
    "duration": 13,
    "start_time": "2022-08-12T15:35:24.827Z"
   },
   {
    "duration": 7,
    "start_time": "2022-08-12T15:35:24.841Z"
   },
   {
    "duration": 4,
    "start_time": "2022-08-12T15:35:24.850Z"
   },
   {
    "duration": 6,
    "start_time": "2022-08-12T15:35:24.855Z"
   },
   {
    "duration": 12,
    "start_time": "2022-08-12T15:35:24.862Z"
   },
   {
    "duration": 128,
    "start_time": "2022-08-12T15:35:24.875Z"
   },
   {
    "duration": 24,
    "start_time": "2022-08-12T15:35:25.006Z"
   },
   {
    "duration": 112,
    "start_time": "2022-08-12T15:35:25.031Z"
   },
   {
    "duration": 225,
    "start_time": "2022-08-12T15:35:25.145Z"
   },
   {
    "duration": 183,
    "start_time": "2022-08-12T15:35:25.372Z"
   },
   {
    "duration": 274,
    "start_time": "2022-08-12T15:35:25.556Z"
   },
   {
    "duration": 363,
    "start_time": "2022-08-12T15:35:25.832Z"
   },
   {
    "duration": 17,
    "start_time": "2022-08-12T15:35:26.199Z"
   },
   {
    "duration": 993,
    "start_time": "2022-08-12T15:35:26.218Z"
   },
   {
    "duration": 221,
    "start_time": "2022-08-12T15:35:27.213Z"
   },
   {
    "duration": 3,
    "start_time": "2022-08-12T15:35:27.435Z"
   },
   {
    "duration": 12,
    "start_time": "2022-08-12T15:35:27.440Z"
   },
   {
    "duration": 13,
    "start_time": "2022-08-12T15:35:27.454Z"
   },
   {
    "duration": 283,
    "start_time": "2022-08-12T15:35:27.469Z"
   },
   {
    "duration": 3,
    "start_time": "2022-08-12T15:35:27.753Z"
   },
   {
    "duration": 5,
    "start_time": "2022-08-12T15:35:27.758Z"
   },
   {
    "duration": 10,
    "start_time": "2022-08-12T15:35:27.765Z"
   },
   {
    "duration": 40,
    "start_time": "2022-08-12T15:35:27.776Z"
   },
   {
    "duration": 2,
    "start_time": "2022-08-12T15:35:27.818Z"
   },
   {
    "duration": 6,
    "start_time": "2022-08-12T15:35:27.821Z"
   },
   {
    "duration": 5,
    "start_time": "2022-08-12T15:35:27.828Z"
   },
   {
    "duration": 5,
    "start_time": "2022-08-12T15:35:27.835Z"
   },
   {
    "duration": 5,
    "start_time": "2022-08-12T15:35:27.841Z"
   },
   {
    "duration": 24,
    "start_time": "2022-08-12T15:35:27.848Z"
   },
   {
    "duration": 26,
    "start_time": "2022-08-12T15:35:27.874Z"
   },
   {
    "duration": 10,
    "start_time": "2022-08-12T15:35:27.903Z"
   },
   {
    "duration": 11,
    "start_time": "2022-08-12T15:35:27.914Z"
   },
   {
    "duration": 6,
    "start_time": "2022-08-12T15:35:27.926Z"
   },
   {
    "duration": 3,
    "start_time": "2022-08-12T15:35:27.935Z"
   },
   {
    "duration": 7,
    "start_time": "2022-08-12T15:35:27.939Z"
   },
   {
    "duration": 8,
    "start_time": "2022-08-12T15:35:27.948Z"
   },
   {
    "duration": 15,
    "start_time": "2022-08-12T15:35:27.958Z"
   },
   {
    "duration": 108,
    "start_time": "2022-08-12T15:35:27.999Z"
   },
   {
    "duration": 4,
    "start_time": "2022-08-12T15:37:03.731Z"
   },
   {
    "duration": 7,
    "start_time": "2022-08-12T15:37:11.126Z"
   },
   {
    "duration": 25,
    "start_time": "2022-08-12T15:37:21.832Z"
   },
   {
    "duration": 11,
    "start_time": "2022-08-12T15:37:25.826Z"
   },
   {
    "duration": 17,
    "start_time": "2022-08-12T15:37:31.086Z"
   },
   {
    "duration": 22,
    "start_time": "2022-08-12T15:42:24.510Z"
   },
   {
    "duration": 27,
    "start_time": "2022-08-12T15:42:45.157Z"
   },
   {
    "duration": 24,
    "start_time": "2022-08-12T15:44:18.921Z"
   },
   {
    "duration": 12,
    "start_time": "2022-08-12T15:44:27.036Z"
   },
   {
    "duration": 5,
    "start_time": "2022-08-12T15:44:57.959Z"
   },
   {
    "duration": 9,
    "start_time": "2022-08-12T15:45:22.144Z"
   },
   {
    "duration": 12,
    "start_time": "2022-08-12T15:48:10.781Z"
   },
   {
    "duration": 23,
    "start_time": "2022-08-12T15:48:16.124Z"
   },
   {
    "duration": 18,
    "start_time": "2022-08-12T15:53:48.768Z"
   },
   {
    "duration": 1398,
    "start_time": "2022-08-12T15:53:58.151Z"
   },
   {
    "duration": 668,
    "start_time": "2022-08-12T15:53:59.551Z"
   },
   {
    "duration": 22,
    "start_time": "2022-08-12T15:54:00.221Z"
   },
   {
    "duration": 35,
    "start_time": "2022-08-12T15:54:00.245Z"
   },
   {
    "duration": 22,
    "start_time": "2022-08-12T15:54:00.281Z"
   },
   {
    "duration": 7,
    "start_time": "2022-08-12T15:54:00.304Z"
   },
   {
    "duration": 22,
    "start_time": "2022-08-12T15:54:00.313Z"
   },
   {
    "duration": 23,
    "start_time": "2022-08-12T15:54:00.336Z"
   },
   {
    "duration": 29,
    "start_time": "2022-08-12T15:54:00.360Z"
   },
   {
    "duration": 16,
    "start_time": "2022-08-12T15:54:00.391Z"
   },
   {
    "duration": 29,
    "start_time": "2022-08-12T15:54:00.409Z"
   },
   {
    "duration": 26,
    "start_time": "2022-08-12T15:54:00.439Z"
   },
   {
    "duration": 155,
    "start_time": "2022-08-12T15:54:00.467Z"
   },
   {
    "duration": 24,
    "start_time": "2022-08-12T15:54:00.624Z"
   },
   {
    "duration": 108,
    "start_time": "2022-08-12T15:54:00.650Z"
   },
   {
    "duration": 219,
    "start_time": "2022-08-12T15:54:00.760Z"
   },
   {
    "duration": 200,
    "start_time": "2022-08-12T15:54:00.981Z"
   },
   {
    "duration": 307,
    "start_time": "2022-08-12T15:54:01.183Z"
   },
   {
    "duration": 395,
    "start_time": "2022-08-12T15:54:01.499Z"
   },
   {
    "duration": 17,
    "start_time": "2022-08-12T15:54:01.895Z"
   },
   {
    "duration": 1221,
    "start_time": "2022-08-12T15:54:01.914Z"
   },
   {
    "duration": 227,
    "start_time": "2022-08-12T15:54:03.136Z"
   },
   {
    "duration": 3,
    "start_time": "2022-08-12T15:54:03.365Z"
   },
   {
    "duration": 16,
    "start_time": "2022-08-12T15:54:03.370Z"
   },
   {
    "duration": 14,
    "start_time": "2022-08-12T15:54:03.388Z"
   },
   {
    "duration": 263,
    "start_time": "2022-08-12T15:54:03.404Z"
   },
   {
    "duration": 3,
    "start_time": "2022-08-12T15:54:03.668Z"
   },
   {
    "duration": 4,
    "start_time": "2022-08-12T15:54:03.674Z"
   },
   {
    "duration": 20,
    "start_time": "2022-08-12T15:54:03.680Z"
   },
   {
    "duration": 27,
    "start_time": "2022-08-12T15:54:03.702Z"
   },
   {
    "duration": 2,
    "start_time": "2022-08-12T15:54:03.730Z"
   },
   {
    "duration": 9,
    "start_time": "2022-08-12T15:54:03.734Z"
   },
   {
    "duration": 6,
    "start_time": "2022-08-12T15:54:03.744Z"
   },
   {
    "duration": 8,
    "start_time": "2022-08-12T15:54:03.751Z"
   },
   {
    "duration": 6,
    "start_time": "2022-08-12T15:54:03.760Z"
   },
   {
    "duration": 32,
    "start_time": "2022-08-12T15:54:03.768Z"
   },
   {
    "duration": 13,
    "start_time": "2022-08-12T15:54:03.802Z"
   },
   {
    "duration": 9,
    "start_time": "2022-08-12T15:54:03.817Z"
   },
   {
    "duration": 21,
    "start_time": "2022-08-12T15:54:03.828Z"
   },
   {
    "duration": 8,
    "start_time": "2022-08-12T15:54:03.851Z"
   },
   {
    "duration": 6,
    "start_time": "2022-08-12T15:54:03.860Z"
   },
   {
    "duration": 6,
    "start_time": "2022-08-12T15:54:03.868Z"
   },
   {
    "duration": 13,
    "start_time": "2022-08-12T15:54:03.900Z"
   },
   {
    "duration": 15,
    "start_time": "2022-08-12T15:54:03.915Z"
   },
   {
    "duration": 19,
    "start_time": "2022-08-12T15:54:03.931Z"
   },
   {
    "duration": 4,
    "start_time": "2022-08-12T15:54:03.952Z"
   },
   {
    "duration": 11,
    "start_time": "2022-08-12T15:54:03.958Z"
   },
   {
    "duration": 130,
    "start_time": "2022-08-12T15:54:03.971Z"
   },
   {
    "duration": 4,
    "start_time": "2022-08-12T16:04:18.540Z"
   },
   {
    "duration": 10,
    "start_time": "2022-08-12T16:06:24.857Z"
   },
   {
    "duration": 13,
    "start_time": "2022-08-12T16:09:11.549Z"
   },
   {
    "duration": 10,
    "start_time": "2022-08-12T16:12:57.648Z"
   },
   {
    "duration": 12,
    "start_time": "2022-08-12T16:13:09.074Z"
   },
   {
    "duration": 20,
    "start_time": "2022-08-12T16:13:35.999Z"
   },
   {
    "duration": 3,
    "start_time": "2022-08-12T16:15:03.951Z"
   },
   {
    "duration": 4,
    "start_time": "2022-08-12T16:15:39.591Z"
   },
   {
    "duration": 3,
    "start_time": "2022-08-12T16:15:56.715Z"
   },
   {
    "duration": 7,
    "start_time": "2022-08-12T16:16:40.974Z"
   },
   {
    "duration": 751,
    "start_time": "2022-08-12T16:17:03.071Z"
   },
   {
    "duration": 1466,
    "start_time": "2022-08-12T16:20:20.868Z"
   },
   {
    "duration": 668,
    "start_time": "2022-08-12T16:20:22.336Z"
   },
   {
    "duration": 26,
    "start_time": "2022-08-12T16:20:23.005Z"
   },
   {
    "duration": 28,
    "start_time": "2022-08-12T16:20:23.035Z"
   },
   {
    "duration": 34,
    "start_time": "2022-08-12T16:20:23.066Z"
   },
   {
    "duration": 4,
    "start_time": "2022-08-12T16:20:23.101Z"
   },
   {
    "duration": 8,
    "start_time": "2022-08-12T16:20:23.107Z"
   },
   {
    "duration": 20,
    "start_time": "2022-08-12T16:20:23.117Z"
   },
   {
    "duration": 5,
    "start_time": "2022-08-12T16:20:23.139Z"
   },
   {
    "duration": 6,
    "start_time": "2022-08-12T16:20:23.145Z"
   },
   {
    "duration": 7,
    "start_time": "2022-08-12T16:20:23.153Z"
   },
   {
    "duration": 5,
    "start_time": "2022-08-12T16:20:23.162Z"
   },
   {
    "duration": 146,
    "start_time": "2022-08-12T16:20:23.170Z"
   },
   {
    "duration": 25,
    "start_time": "2022-08-12T16:20:23.320Z"
   },
   {
    "duration": 110,
    "start_time": "2022-08-12T16:20:23.347Z"
   },
   {
    "duration": 208,
    "start_time": "2022-08-12T16:20:23.459Z"
   },
   {
    "duration": 198,
    "start_time": "2022-08-12T16:20:23.668Z"
   },
   {
    "duration": 286,
    "start_time": "2022-08-12T16:20:23.868Z"
   },
   {
    "duration": 444,
    "start_time": "2022-08-12T16:20:24.156Z"
   },
   {
    "duration": 16,
    "start_time": "2022-08-12T16:20:24.601Z"
   },
   {
    "duration": 1000,
    "start_time": "2022-08-12T16:20:24.619Z"
   },
   {
    "duration": 214,
    "start_time": "2022-08-12T16:20:25.621Z"
   },
   {
    "duration": 3,
    "start_time": "2022-08-12T16:20:25.837Z"
   },
   {
    "duration": 30,
    "start_time": "2022-08-12T16:20:25.842Z"
   },
   {
    "duration": 16,
    "start_time": "2022-08-12T16:20:25.873Z"
   },
   {
    "duration": 23,
    "start_time": "2022-08-12T16:20:25.891Z"
   },
   {
    "duration": 20,
    "start_time": "2022-08-12T16:20:25.915Z"
   },
   {
    "duration": 24,
    "start_time": "2022-08-12T16:20:25.936Z"
   },
   {
    "duration": 138,
    "start_time": "2022-08-12T16:20:25.961Z"
   },
   {
    "duration": 0,
    "start_time": "2022-08-12T16:20:26.101Z"
   },
   {
    "duration": 26,
    "start_time": "2022-08-12T16:20:56.459Z"
   },
   {
    "duration": 22,
    "start_time": "2022-08-12T16:20:58.968Z"
   },
   {
    "duration": 14,
    "start_time": "2022-08-12T16:21:07.043Z"
   },
   {
    "duration": 14,
    "start_time": "2022-08-12T16:21:19.590Z"
   },
   {
    "duration": 15,
    "start_time": "2022-08-12T16:35:42.814Z"
   },
   {
    "duration": 13,
    "start_time": "2022-08-12T16:35:52.369Z"
   },
   {
    "duration": 12,
    "start_time": "2022-08-12T16:36:40.671Z"
   },
   {
    "duration": 10,
    "start_time": "2022-08-12T16:38:43.491Z"
   },
   {
    "duration": 5,
    "start_time": "2022-08-12T16:38:51.756Z"
   },
   {
    "duration": 6,
    "start_time": "2022-08-12T16:39:12.887Z"
   },
   {
    "duration": 6,
    "start_time": "2022-08-12T16:39:34.521Z"
   },
   {
    "duration": 4,
    "start_time": "2022-08-12T16:39:47.256Z"
   },
   {
    "duration": 5,
    "start_time": "2022-08-12T16:40:00.155Z"
   },
   {
    "duration": 3,
    "start_time": "2022-08-12T16:40:12.705Z"
   },
   {
    "duration": 5,
    "start_time": "2022-08-12T16:40:23.251Z"
   },
   {
    "duration": 4,
    "start_time": "2022-08-12T16:40:45.965Z"
   },
   {
    "duration": 1431,
    "start_time": "2022-08-12T16:40:56.852Z"
   },
   {
    "duration": 661,
    "start_time": "2022-08-12T16:40:58.284Z"
   },
   {
    "duration": 21,
    "start_time": "2022-08-12T16:40:58.946Z"
   },
   {
    "duration": 23,
    "start_time": "2022-08-12T16:40:58.968Z"
   },
   {
    "duration": 18,
    "start_time": "2022-08-12T16:40:59.000Z"
   },
   {
    "duration": 3,
    "start_time": "2022-08-12T16:40:59.019Z"
   },
   {
    "duration": 11,
    "start_time": "2022-08-12T16:40:59.023Z"
   },
   {
    "duration": 14,
    "start_time": "2022-08-12T16:40:59.035Z"
   },
   {
    "duration": 5,
    "start_time": "2022-08-12T16:40:59.050Z"
   },
   {
    "duration": 4,
    "start_time": "2022-08-12T16:40:59.057Z"
   },
   {
    "duration": 4,
    "start_time": "2022-08-12T16:40:59.062Z"
   },
   {
    "duration": 6,
    "start_time": "2022-08-12T16:40:59.068Z"
   },
   {
    "duration": 26,
    "start_time": "2022-08-12T16:40:59.075Z"
   },
   {
    "duration": 124,
    "start_time": "2022-08-12T16:40:59.102Z"
   },
   {
    "duration": 24,
    "start_time": "2022-08-12T16:40:59.227Z"
   },
   {
    "duration": 104,
    "start_time": "2022-08-12T16:40:59.252Z"
   },
   {
    "duration": 205,
    "start_time": "2022-08-12T16:40:59.358Z"
   },
   {
    "duration": 189,
    "start_time": "2022-08-12T16:40:59.565Z"
   },
   {
    "duration": 283,
    "start_time": "2022-08-12T16:40:59.755Z"
   },
   {
    "duration": 441,
    "start_time": "2022-08-12T16:41:00.039Z"
   },
   {
    "duration": 23,
    "start_time": "2022-08-12T16:41:00.482Z"
   },
   {
    "duration": 1148,
    "start_time": "2022-08-12T16:41:00.507Z"
   },
   {
    "duration": 209,
    "start_time": "2022-08-12T16:41:01.656Z"
   },
   {
    "duration": 3,
    "start_time": "2022-08-12T16:41:01.867Z"
   },
   {
    "duration": 41,
    "start_time": "2022-08-12T16:41:01.871Z"
   },
   {
    "duration": 13,
    "start_time": "2022-08-12T16:41:01.913Z"
   },
   {
    "duration": 27,
    "start_time": "2022-08-12T16:41:01.928Z"
   },
   {
    "duration": 31,
    "start_time": "2022-08-12T16:41:01.958Z"
   },
   {
    "duration": 42,
    "start_time": "2022-08-12T16:41:01.991Z"
   },
   {
    "duration": 137,
    "start_time": "2022-08-12T16:41:02.035Z"
   },
   {
    "duration": 0,
    "start_time": "2022-08-12T16:41:02.173Z"
   },
   {
    "duration": 14,
    "start_time": "2022-08-12T16:42:59.102Z"
   },
   {
    "duration": 11,
    "start_time": "2022-08-12T16:43:00.125Z"
   },
   {
    "duration": 13,
    "start_time": "2022-08-12T16:43:32.977Z"
   },
   {
    "duration": 15,
    "start_time": "2022-08-12T16:46:37.926Z"
   },
   {
    "duration": 12,
    "start_time": "2022-08-12T16:47:53.376Z"
   },
   {
    "duration": 1341,
    "start_time": "2022-08-12T16:48:17.487Z"
   },
   {
    "duration": 670,
    "start_time": "2022-08-12T16:48:18.830Z"
   },
   {
    "duration": 20,
    "start_time": "2022-08-12T16:48:19.502Z"
   },
   {
    "duration": 17,
    "start_time": "2022-08-12T16:48:19.525Z"
   },
   {
    "duration": 16,
    "start_time": "2022-08-12T16:48:19.544Z"
   },
   {
    "duration": 3,
    "start_time": "2022-08-12T16:48:19.561Z"
   },
   {
    "duration": 6,
    "start_time": "2022-08-12T16:48:19.566Z"
   },
   {
    "duration": 30,
    "start_time": "2022-08-12T16:48:19.573Z"
   },
   {
    "duration": 5,
    "start_time": "2022-08-12T16:48:19.604Z"
   },
   {
    "duration": 3,
    "start_time": "2022-08-12T16:48:19.611Z"
   },
   {
    "duration": 8,
    "start_time": "2022-08-12T16:48:19.615Z"
   },
   {
    "duration": 7,
    "start_time": "2022-08-12T16:48:19.624Z"
   },
   {
    "duration": 4,
    "start_time": "2022-08-12T16:48:19.633Z"
   },
   {
    "duration": 127,
    "start_time": "2022-08-12T16:48:19.638Z"
   },
   {
    "duration": 37,
    "start_time": "2022-08-12T16:48:19.767Z"
   },
   {
    "duration": 101,
    "start_time": "2022-08-12T16:48:19.806Z"
   },
   {
    "duration": 223,
    "start_time": "2022-08-12T16:48:19.908Z"
   },
   {
    "duration": 188,
    "start_time": "2022-08-12T16:48:20.133Z"
   },
   {
    "duration": 291,
    "start_time": "2022-08-12T16:48:20.322Z"
   },
   {
    "duration": 372,
    "start_time": "2022-08-12T16:48:20.614Z"
   },
   {
    "duration": 18,
    "start_time": "2022-08-12T16:48:20.988Z"
   },
   {
    "duration": 1009,
    "start_time": "2022-08-12T16:48:21.008Z"
   },
   {
    "duration": 220,
    "start_time": "2022-08-12T16:48:22.019Z"
   },
   {
    "duration": 4,
    "start_time": "2022-08-12T16:48:22.240Z"
   },
   {
    "duration": 22,
    "start_time": "2022-08-12T16:48:22.245Z"
   },
   {
    "duration": 3,
    "start_time": "2022-08-12T16:48:22.269Z"
   },
   {
    "duration": 10,
    "start_time": "2022-08-12T16:48:22.273Z"
   },
   {
    "duration": 4,
    "start_time": "2022-08-12T16:48:22.286Z"
   },
   {
    "duration": 2,
    "start_time": "2022-08-12T16:48:22.300Z"
   },
   {
    "duration": 114,
    "start_time": "2022-08-12T16:48:22.303Z"
   },
   {
    "duration": 0,
    "start_time": "2022-08-12T16:48:22.418Z"
   },
   {
    "duration": 3,
    "start_time": "2022-08-12T16:51:46.115Z"
   },
   {
    "duration": 1784,
    "start_time": "2022-08-12T16:51:49.915Z"
   },
   {
    "duration": 4,
    "start_time": "2022-08-12T16:57:19.830Z"
   },
   {
    "duration": 3,
    "start_time": "2022-08-12T16:57:34.808Z"
   },
   {
    "duration": 13,
    "start_time": "2022-08-12T16:58:04.395Z"
   },
   {
    "duration": 1348,
    "start_time": "2022-08-12T16:58:35.519Z"
   },
   {
    "duration": 651,
    "start_time": "2022-08-12T16:58:36.868Z"
   },
   {
    "duration": 21,
    "start_time": "2022-08-12T16:58:37.521Z"
   },
   {
    "duration": 18,
    "start_time": "2022-08-12T16:58:37.543Z"
   },
   {
    "duration": 17,
    "start_time": "2022-08-12T16:58:37.563Z"
   },
   {
    "duration": 3,
    "start_time": "2022-08-12T16:58:37.600Z"
   },
   {
    "duration": 5,
    "start_time": "2022-08-12T16:58:37.604Z"
   },
   {
    "duration": 17,
    "start_time": "2022-08-12T16:58:37.611Z"
   },
   {
    "duration": 10,
    "start_time": "2022-08-12T16:58:37.630Z"
   },
   {
    "duration": 5,
    "start_time": "2022-08-12T16:58:37.641Z"
   },
   {
    "duration": 5,
    "start_time": "2022-08-12T16:58:37.648Z"
   },
   {
    "duration": 15,
    "start_time": "2022-08-12T16:58:37.654Z"
   },
   {
    "duration": 4,
    "start_time": "2022-08-12T16:58:37.671Z"
   },
   {
    "duration": 118,
    "start_time": "2022-08-12T16:58:37.677Z"
   },
   {
    "duration": 24,
    "start_time": "2022-08-12T16:58:37.800Z"
   },
   {
    "duration": 104,
    "start_time": "2022-08-12T16:58:37.826Z"
   },
   {
    "duration": 203,
    "start_time": "2022-08-12T16:58:37.931Z"
   },
   {
    "duration": 184,
    "start_time": "2022-08-12T16:58:38.136Z"
   },
   {
    "duration": 265,
    "start_time": "2022-08-12T16:58:38.322Z"
   },
   {
    "duration": 388,
    "start_time": "2022-08-12T16:58:38.589Z"
   },
   {
    "duration": 22,
    "start_time": "2022-08-12T16:58:38.978Z"
   },
   {
    "duration": 1008,
    "start_time": "2022-08-12T16:58:39.001Z"
   },
   {
    "duration": 218,
    "start_time": "2022-08-12T16:58:40.011Z"
   },
   {
    "duration": 3,
    "start_time": "2022-08-12T16:58:40.231Z"
   },
   {
    "duration": 15,
    "start_time": "2022-08-12T16:58:40.236Z"
   },
   {
    "duration": 4,
    "start_time": "2022-08-12T16:58:40.253Z"
   },
   {
    "duration": 6,
    "start_time": "2022-08-12T16:58:40.258Z"
   },
   {
    "duration": 12,
    "start_time": "2022-08-12T16:58:40.266Z"
   },
   {
    "duration": 27,
    "start_time": "2022-08-12T16:59:07.709Z"
   },
   {
    "duration": 8,
    "start_time": "2022-08-12T16:59:48.414Z"
   },
   {
    "duration": 4,
    "start_time": "2022-08-12T17:00:09.770Z"
   },
   {
    "duration": 4,
    "start_time": "2022-08-12T17:00:27.300Z"
   },
   {
    "duration": 6,
    "start_time": "2022-08-12T17:00:48.123Z"
   },
   {
    "duration": 109,
    "start_time": "2022-08-12T17:01:20.730Z"
   },
   {
    "duration": 115,
    "start_time": "2022-08-12T17:01:46.935Z"
   },
   {
    "duration": 5,
    "start_time": "2022-08-12T17:02:00.219Z"
   },
   {
    "duration": 1264,
    "start_time": "2022-08-12T17:03:51.635Z"
   },
   {
    "duration": 651,
    "start_time": "2022-08-12T17:03:52.901Z"
   },
   {
    "duration": 22,
    "start_time": "2022-08-12T17:03:53.554Z"
   },
   {
    "duration": 28,
    "start_time": "2022-08-12T17:03:53.577Z"
   },
   {
    "duration": 17,
    "start_time": "2022-08-12T17:03:53.607Z"
   },
   {
    "duration": 2,
    "start_time": "2022-08-12T17:03:53.626Z"
   },
   {
    "duration": 7,
    "start_time": "2022-08-12T17:03:53.630Z"
   },
   {
    "duration": 11,
    "start_time": "2022-08-12T17:03:53.639Z"
   },
   {
    "duration": 5,
    "start_time": "2022-08-12T17:03:53.651Z"
   },
   {
    "duration": 4,
    "start_time": "2022-08-12T17:03:53.658Z"
   },
   {
    "duration": 5,
    "start_time": "2022-08-12T17:03:53.663Z"
   },
   {
    "duration": 32,
    "start_time": "2022-08-12T17:03:53.670Z"
   },
   {
    "duration": 4,
    "start_time": "2022-08-12T17:03:53.704Z"
   },
   {
    "duration": 124,
    "start_time": "2022-08-12T17:03:53.709Z"
   },
   {
    "duration": 25,
    "start_time": "2022-08-12T17:03:53.834Z"
   },
   {
    "duration": 114,
    "start_time": "2022-08-12T17:03:53.861Z"
   },
   {
    "duration": 202,
    "start_time": "2022-08-12T17:03:53.977Z"
   },
   {
    "duration": 178,
    "start_time": "2022-08-12T17:03:54.180Z"
   },
   {
    "duration": 257,
    "start_time": "2022-08-12T17:03:54.360Z"
   },
   {
    "duration": 355,
    "start_time": "2022-08-12T17:03:54.618Z"
   },
   {
    "duration": 14,
    "start_time": "2022-08-12T17:03:54.974Z"
   },
   {
    "duration": 999,
    "start_time": "2022-08-12T17:03:54.990Z"
   },
   {
    "duration": 213,
    "start_time": "2022-08-12T17:03:55.990Z"
   },
   {
    "duration": 3,
    "start_time": "2022-08-12T17:03:56.204Z"
   },
   {
    "duration": 16,
    "start_time": "2022-08-12T17:03:56.208Z"
   },
   {
    "duration": 3,
    "start_time": "2022-08-12T17:03:56.226Z"
   },
   {
    "duration": 5,
    "start_time": "2022-08-12T17:03:56.230Z"
   },
   {
    "duration": 8,
    "start_time": "2022-08-12T17:03:56.238Z"
   },
   {
    "duration": 9,
    "start_time": "2022-08-12T17:03:56.247Z"
   },
   {
    "duration": 8,
    "start_time": "2022-08-12T17:03:56.258Z"
   },
   {
    "duration": 8,
    "start_time": "2022-08-12T17:03:56.268Z"
   },
   {
    "duration": 26,
    "start_time": "2022-08-12T17:03:56.277Z"
   },
   {
    "duration": 118,
    "start_time": "2022-08-12T17:03:56.304Z"
   },
   {
    "duration": 5,
    "start_time": "2022-08-12T17:03:56.424Z"
   },
   {
    "duration": 0,
    "start_time": "2022-08-12T17:05:03.078Z"
   },
   {
    "duration": 0,
    "start_time": "2022-08-12T17:05:03.079Z"
   },
   {
    "duration": 59965,
    "start_time": "2022-08-12T17:20:38.335Z"
   },
   {
    "duration": 1319,
    "start_time": "2022-08-12T17:24:36.078Z"
   },
   {
    "duration": 665,
    "start_time": "2022-08-12T17:24:37.399Z"
   },
   {
    "duration": 21,
    "start_time": "2022-08-12T17:24:38.065Z"
   },
   {
    "duration": 26,
    "start_time": "2022-08-12T17:24:38.088Z"
   },
   {
    "duration": 17,
    "start_time": "2022-08-12T17:24:38.116Z"
   },
   {
    "duration": 3,
    "start_time": "2022-08-12T17:24:38.135Z"
   },
   {
    "duration": 13,
    "start_time": "2022-08-12T17:24:38.140Z"
   },
   {
    "duration": 13,
    "start_time": "2022-08-12T17:24:38.154Z"
   },
   {
    "duration": 7,
    "start_time": "2022-08-12T17:24:38.168Z"
   },
   {
    "duration": 26,
    "start_time": "2022-08-12T17:24:38.177Z"
   },
   {
    "duration": 7,
    "start_time": "2022-08-12T17:24:38.205Z"
   },
   {
    "duration": 8,
    "start_time": "2022-08-12T17:24:38.213Z"
   },
   {
    "duration": 7,
    "start_time": "2022-08-12T17:24:38.222Z"
   },
   {
    "duration": 120,
    "start_time": "2022-08-12T17:24:38.231Z"
   },
   {
    "duration": 23,
    "start_time": "2022-08-12T17:24:38.353Z"
   },
   {
    "duration": 107,
    "start_time": "2022-08-12T17:24:38.378Z"
   },
   {
    "duration": 211,
    "start_time": "2022-08-12T17:24:38.486Z"
   },
   {
    "duration": 189,
    "start_time": "2022-08-12T17:24:38.699Z"
   },
   {
    "duration": 283,
    "start_time": "2022-08-12T17:24:38.889Z"
   },
   {
    "duration": 403,
    "start_time": "2022-08-12T17:24:39.174Z"
   },
   {
    "duration": 22,
    "start_time": "2022-08-12T17:24:39.578Z"
   },
   {
    "duration": 990,
    "start_time": "2022-08-12T17:24:39.601Z"
   },
   {
    "duration": 220,
    "start_time": "2022-08-12T17:24:40.592Z"
   },
   {
    "duration": 3,
    "start_time": "2022-08-12T17:24:40.813Z"
   },
   {
    "duration": 15,
    "start_time": "2022-08-12T17:24:40.817Z"
   },
   {
    "duration": 947,
    "start_time": "2022-08-12T17:32:49.726Z"
   },
   {
    "duration": 13,
    "start_time": "2022-08-12T17:33:18.538Z"
   },
   {
    "duration": 879,
    "start_time": "2022-08-12T17:34:09.951Z"
   },
   {
    "duration": 17,
    "start_time": "2022-08-12T17:36:16.883Z"
   },
   {
    "duration": 16,
    "start_time": "2022-08-12T17:36:40.272Z"
   },
   {
    "duration": 18,
    "start_time": "2022-08-12T17:36:58.165Z"
   },
   {
    "duration": 1326,
    "start_time": "2022-08-12T17:37:07.811Z"
   },
   {
    "duration": 640,
    "start_time": "2022-08-12T17:37:09.139Z"
   },
   {
    "duration": 23,
    "start_time": "2022-08-12T17:37:09.780Z"
   },
   {
    "duration": 17,
    "start_time": "2022-08-12T17:37:09.805Z"
   },
   {
    "duration": 18,
    "start_time": "2022-08-12T17:37:09.824Z"
   },
   {
    "duration": 2,
    "start_time": "2022-08-12T17:37:09.844Z"
   },
   {
    "duration": 6,
    "start_time": "2022-08-12T17:37:09.848Z"
   },
   {
    "duration": 24,
    "start_time": "2022-08-12T17:37:09.856Z"
   },
   {
    "duration": 19,
    "start_time": "2022-08-12T17:37:09.882Z"
   },
   {
    "duration": 5,
    "start_time": "2022-08-12T17:37:09.903Z"
   },
   {
    "duration": 8,
    "start_time": "2022-08-12T17:37:09.909Z"
   },
   {
    "duration": 8,
    "start_time": "2022-08-12T17:37:09.918Z"
   },
   {
    "duration": 7,
    "start_time": "2022-08-12T17:37:09.927Z"
   },
   {
    "duration": 125,
    "start_time": "2022-08-12T17:37:09.936Z"
   },
   {
    "duration": 38,
    "start_time": "2022-08-12T17:37:10.062Z"
   },
   {
    "duration": 102,
    "start_time": "2022-08-12T17:37:10.103Z"
   },
   {
    "duration": 211,
    "start_time": "2022-08-12T17:37:10.207Z"
   },
   {
    "duration": 188,
    "start_time": "2022-08-12T17:37:10.420Z"
   },
   {
    "duration": 300,
    "start_time": "2022-08-12T17:37:10.610Z"
   },
   {
    "duration": 383,
    "start_time": "2022-08-12T17:37:10.912Z"
   },
   {
    "duration": 15,
    "start_time": "2022-08-12T17:37:11.299Z"
   },
   {
    "duration": 1096,
    "start_time": "2022-08-12T17:37:11.316Z"
   },
   {
    "duration": 235,
    "start_time": "2022-08-12T17:37:12.414Z"
   },
   {
    "duration": 3,
    "start_time": "2022-08-12T17:37:12.651Z"
   },
   {
    "duration": 16,
    "start_time": "2022-08-12T17:37:12.656Z"
   },
   {
    "duration": 14,
    "start_time": "2022-08-12T17:37:12.673Z"
   },
   {
    "duration": 28,
    "start_time": "2022-08-12T17:37:12.700Z"
   },
   {
    "duration": 127,
    "start_time": "2022-08-12T17:37:12.729Z"
   },
   {
    "duration": 11,
    "start_time": "2022-08-12T17:37:30.460Z"
   },
   {
    "duration": 11,
    "start_time": "2022-08-12T17:38:48.554Z"
   },
   {
    "duration": 6,
    "start_time": "2022-08-12T17:41:32.096Z"
   },
   {
    "duration": 13,
    "start_time": "2022-08-12T17:41:37.637Z"
   },
   {
    "duration": 1369,
    "start_time": "2022-08-12T17:41:46.525Z"
   },
   {
    "duration": 651,
    "start_time": "2022-08-12T17:41:47.896Z"
   },
   {
    "duration": 22,
    "start_time": "2022-08-12T17:41:48.549Z"
   },
   {
    "duration": 30,
    "start_time": "2022-08-12T17:41:48.572Z"
   },
   {
    "duration": 17,
    "start_time": "2022-08-12T17:41:48.603Z"
   },
   {
    "duration": 2,
    "start_time": "2022-08-12T17:41:48.622Z"
   },
   {
    "duration": 9,
    "start_time": "2022-08-12T17:41:48.626Z"
   },
   {
    "duration": 11,
    "start_time": "2022-08-12T17:41:48.636Z"
   },
   {
    "duration": 22,
    "start_time": "2022-08-12T17:41:48.648Z"
   },
   {
    "duration": 10,
    "start_time": "2022-08-12T17:41:48.672Z"
   },
   {
    "duration": 9,
    "start_time": "2022-08-12T17:41:48.683Z"
   },
   {
    "duration": 10,
    "start_time": "2022-08-12T17:41:48.693Z"
   },
   {
    "duration": 8,
    "start_time": "2022-08-12T17:41:48.705Z"
   },
   {
    "duration": 116,
    "start_time": "2022-08-12T17:41:48.714Z"
   },
   {
    "duration": 24,
    "start_time": "2022-08-12T17:41:48.831Z"
   },
   {
    "duration": 106,
    "start_time": "2022-08-12T17:41:48.856Z"
   },
   {
    "duration": 207,
    "start_time": "2022-08-12T17:41:48.963Z"
   },
   {
    "duration": 180,
    "start_time": "2022-08-12T17:41:49.172Z"
   },
   {
    "duration": 264,
    "start_time": "2022-08-12T17:41:49.354Z"
   },
   {
    "duration": 358,
    "start_time": "2022-08-12T17:41:49.620Z"
   },
   {
    "duration": 21,
    "start_time": "2022-08-12T17:41:49.979Z"
   },
   {
    "duration": 999,
    "start_time": "2022-08-12T17:41:50.001Z"
   },
   {
    "duration": 213,
    "start_time": "2022-08-12T17:41:51.001Z"
   },
   {
    "duration": 2,
    "start_time": "2022-08-12T17:41:51.216Z"
   },
   {
    "duration": 16,
    "start_time": "2022-08-12T17:41:51.220Z"
   },
   {
    "duration": 15,
    "start_time": "2022-08-12T17:41:51.237Z"
   },
   {
    "duration": 24,
    "start_time": "2022-08-12T17:41:51.254Z"
   },
   {
    "duration": 135,
    "start_time": "2022-08-12T17:41:51.280Z"
   },
   {
    "duration": 10,
    "start_time": "2022-08-12T17:42:35.685Z"
   },
   {
    "duration": 74,
    "start_time": "2022-08-12T19:01:17.791Z"
   },
   {
    "duration": 38,
    "start_time": "2022-08-12T19:01:39.920Z"
   },
   {
    "duration": 1432,
    "start_time": "2022-08-12T19:01:47.427Z"
   },
   {
    "duration": 1781,
    "start_time": "2022-08-12T19:01:48.861Z"
   },
   {
    "duration": 22,
    "start_time": "2022-08-12T19:01:50.644Z"
   },
   {
    "duration": 29,
    "start_time": "2022-08-12T19:01:50.667Z"
   },
   {
    "duration": 16,
    "start_time": "2022-08-12T19:01:50.699Z"
   },
   {
    "duration": 3,
    "start_time": "2022-08-12T19:01:50.716Z"
   },
   {
    "duration": 15,
    "start_time": "2022-08-12T19:01:50.721Z"
   },
   {
    "duration": 15,
    "start_time": "2022-08-12T19:01:50.738Z"
   },
   {
    "duration": 21,
    "start_time": "2022-08-12T19:01:50.755Z"
   },
   {
    "duration": 17,
    "start_time": "2022-08-12T19:01:50.777Z"
   },
   {
    "duration": 10,
    "start_time": "2022-08-12T19:01:50.795Z"
   },
   {
    "duration": 14,
    "start_time": "2022-08-12T19:01:50.806Z"
   },
   {
    "duration": 9,
    "start_time": "2022-08-12T19:01:50.821Z"
   },
   {
    "duration": 120,
    "start_time": "2022-08-12T19:01:50.832Z"
   },
   {
    "duration": 23,
    "start_time": "2022-08-12T19:01:50.954Z"
   },
   {
    "duration": 102,
    "start_time": "2022-08-12T19:01:50.978Z"
   },
   {
    "duration": 207,
    "start_time": "2022-08-12T19:01:51.081Z"
   },
   {
    "duration": 257,
    "start_time": "2022-08-12T19:01:51.290Z"
   },
   {
    "duration": 187,
    "start_time": "2022-08-12T19:01:51.548Z"
   },
   {
    "duration": 353,
    "start_time": "2022-08-12T19:01:51.736Z"
   },
   {
    "duration": 20,
    "start_time": "2022-08-12T19:01:52.090Z"
   },
   {
    "duration": 997,
    "start_time": "2022-08-12T19:01:52.112Z"
   },
   {
    "duration": 205,
    "start_time": "2022-08-12T19:01:53.111Z"
   },
   {
    "duration": 3,
    "start_time": "2022-08-12T19:01:53.317Z"
   },
   {
    "duration": 12,
    "start_time": "2022-08-12T19:01:53.321Z"
   },
   {
    "duration": 12,
    "start_time": "2022-08-12T19:01:53.334Z"
   },
   {
    "duration": 24,
    "start_time": "2022-08-12T19:01:53.347Z"
   },
   {
    "duration": 139,
    "start_time": "2022-08-12T19:01:53.372Z"
   },
   {
    "duration": 16,
    "start_time": "2022-08-12T19:02:45.394Z"
   },
   {
    "duration": 93,
    "start_time": "2022-08-12T19:03:18.329Z"
   },
   {
    "duration": 28,
    "start_time": "2022-08-12T19:04:07.220Z"
   },
   {
    "duration": 21,
    "start_time": "2022-08-12T19:05:35.016Z"
   },
   {
    "duration": 1305,
    "start_time": "2022-08-12T19:08:37.146Z"
   },
   {
    "duration": 618,
    "start_time": "2022-08-12T19:08:38.453Z"
   },
   {
    "duration": 21,
    "start_time": "2022-08-12T19:08:39.072Z"
   },
   {
    "duration": 24,
    "start_time": "2022-08-12T19:08:39.094Z"
   },
   {
    "duration": 16,
    "start_time": "2022-08-12T19:08:39.120Z"
   },
   {
    "duration": 2,
    "start_time": "2022-08-12T19:08:39.138Z"
   },
   {
    "duration": 4,
    "start_time": "2022-08-12T19:08:39.142Z"
   },
   {
    "duration": 10,
    "start_time": "2022-08-12T19:08:39.147Z"
   },
   {
    "duration": 5,
    "start_time": "2022-08-12T19:08:39.158Z"
   },
   {
    "duration": 4,
    "start_time": "2022-08-12T19:08:39.164Z"
   },
   {
    "duration": 5,
    "start_time": "2022-08-12T19:08:39.169Z"
   },
   {
    "duration": 4,
    "start_time": "2022-08-12T19:08:39.206Z"
   },
   {
    "duration": 5,
    "start_time": "2022-08-12T19:08:39.211Z"
   },
   {
    "duration": 120,
    "start_time": "2022-08-12T19:08:39.218Z"
   },
   {
    "duration": 22,
    "start_time": "2022-08-12T19:08:39.340Z"
   },
   {
    "duration": 102,
    "start_time": "2022-08-12T19:08:39.364Z"
   },
   {
    "duration": 201,
    "start_time": "2022-08-12T19:08:39.468Z"
   },
   {
    "duration": 192,
    "start_time": "2022-08-12T19:08:39.671Z"
   },
   {
    "duration": 265,
    "start_time": "2022-08-12T19:08:39.865Z"
   },
   {
    "duration": 364,
    "start_time": "2022-08-12T19:08:40.132Z"
   },
   {
    "duration": 15,
    "start_time": "2022-08-12T19:08:40.498Z"
   },
   {
    "duration": 1010,
    "start_time": "2022-08-12T19:08:40.514Z"
   },
   {
    "duration": 223,
    "start_time": "2022-08-12T19:08:41.526Z"
   },
   {
    "duration": 3,
    "start_time": "2022-08-12T19:08:41.750Z"
   },
   {
    "duration": 11,
    "start_time": "2022-08-12T19:08:41.755Z"
   },
   {
    "duration": 13,
    "start_time": "2022-08-12T19:08:41.767Z"
   },
   {
    "duration": 42,
    "start_time": "2022-08-12T19:08:41.782Z"
   },
   {
    "duration": 119,
    "start_time": "2022-08-12T19:08:41.826Z"
   },
   {
    "duration": 22,
    "start_time": "2022-08-12T19:09:00.987Z"
   },
   {
    "duration": 21,
    "start_time": "2022-08-12T19:10:34.238Z"
   },
   {
    "duration": 41,
    "start_time": "2022-08-12T19:12:16.236Z"
   },
   {
    "duration": 45,
    "start_time": "2022-08-12T19:14:51.188Z"
   },
   {
    "duration": 0,
    "start_time": "2022-08-12T19:14:51.235Z"
   },
   {
    "duration": 0,
    "start_time": "2022-08-12T19:14:51.236Z"
   },
   {
    "duration": 1390,
    "start_time": "2022-08-12T19:14:51.279Z"
   },
   {
    "duration": 614,
    "start_time": "2022-08-12T19:14:52.671Z"
   },
   {
    "duration": 26,
    "start_time": "2022-08-12T19:14:53.287Z"
   },
   {
    "duration": 17,
    "start_time": "2022-08-12T19:14:53.315Z"
   },
   {
    "duration": 16,
    "start_time": "2022-08-12T19:14:53.333Z"
   },
   {
    "duration": 2,
    "start_time": "2022-08-12T19:14:53.351Z"
   },
   {
    "duration": 5,
    "start_time": "2022-08-12T19:14:53.355Z"
   },
   {
    "duration": 10,
    "start_time": "2022-08-12T19:14:53.362Z"
   },
   {
    "duration": 4,
    "start_time": "2022-08-12T19:14:53.374Z"
   },
   {
    "duration": 36,
    "start_time": "2022-08-12T19:14:53.379Z"
   },
   {
    "duration": 3,
    "start_time": "2022-08-12T19:14:53.416Z"
   },
   {
    "duration": 12,
    "start_time": "2022-08-12T19:14:53.420Z"
   },
   {
    "duration": 5,
    "start_time": "2022-08-12T19:14:53.434Z"
   },
   {
    "duration": 116,
    "start_time": "2022-08-12T19:14:53.441Z"
   },
   {
    "duration": 21,
    "start_time": "2022-08-12T19:14:53.559Z"
   },
   {
    "duration": 102,
    "start_time": "2022-08-12T19:14:53.581Z"
   },
   {
    "duration": 197,
    "start_time": "2022-08-12T19:14:53.685Z"
   },
   {
    "duration": 185,
    "start_time": "2022-08-12T19:14:53.884Z"
   },
   {
    "duration": 269,
    "start_time": "2022-08-12T19:14:54.070Z"
   },
   {
    "duration": 483,
    "start_time": "2022-08-12T19:14:54.341Z"
   },
   {
    "duration": 14,
    "start_time": "2022-08-12T19:14:54.826Z"
   },
   {
    "duration": 1079,
    "start_time": "2022-08-12T19:14:54.842Z"
   },
   {
    "duration": 259,
    "start_time": "2022-08-12T19:14:55.923Z"
   },
   {
    "duration": 4,
    "start_time": "2022-08-12T19:14:56.184Z"
   },
   {
    "duration": 23,
    "start_time": "2022-08-12T19:14:56.190Z"
   },
   {
    "duration": 15,
    "start_time": "2022-08-12T19:14:56.215Z"
   },
   {
    "duration": 15,
    "start_time": "2022-08-12T19:14:56.232Z"
   },
   {
    "duration": 100,
    "start_time": "2022-08-12T19:14:56.248Z"
   },
   {
    "duration": 34,
    "start_time": "2022-08-12T19:19:07.299Z"
   },
   {
    "duration": 16,
    "start_time": "2022-08-12T19:19:36.069Z"
   },
   {
    "duration": 28,
    "start_time": "2022-08-12T19:20:01.423Z"
   },
   {
    "duration": 13,
    "start_time": "2022-08-12T19:20:09.222Z"
   },
   {
    "duration": 12,
    "start_time": "2022-08-12T19:20:34.703Z"
   },
   {
    "duration": 17,
    "start_time": "2022-08-12T19:20:52.220Z"
   },
   {
    "duration": 15,
    "start_time": "2022-08-12T19:21:45.628Z"
   },
   {
    "duration": 15,
    "start_time": "2022-08-12T19:22:03.074Z"
   },
   {
    "duration": 13,
    "start_time": "2022-08-12T19:24:13.770Z"
   },
   {
    "duration": 29,
    "start_time": "2022-08-12T19:26:55.944Z"
   },
   {
    "duration": 23,
    "start_time": "2022-08-12T19:27:21.855Z"
   },
   {
    "duration": 39,
    "start_time": "2022-08-12T19:27:30.736Z"
   },
   {
    "duration": 13,
    "start_time": "2022-08-12T19:34:19.697Z"
   },
   {
    "duration": 9,
    "start_time": "2022-08-12T19:36:36.431Z"
   },
   {
    "duration": 5,
    "start_time": "2022-08-12T19:37:42.632Z"
   },
   {
    "duration": 3,
    "start_time": "2022-08-12T19:38:12.646Z"
   },
   {
    "duration": 11,
    "start_time": "2022-08-12T19:38:23.960Z"
   },
   {
    "duration": 284,
    "start_time": "2022-08-12T19:38:34.279Z"
   },
   {
    "duration": 37,
    "start_time": "2022-08-12T19:40:59.567Z"
   },
   {
    "duration": 14,
    "start_time": "2022-08-12T19:41:16.644Z"
   },
   {
    "duration": 10,
    "start_time": "2022-08-12T19:41:22.258Z"
   },
   {
    "duration": 10,
    "start_time": "2022-08-12T19:41:31.568Z"
   },
   {
    "duration": 1359,
    "start_time": "2022-08-12T19:41:55.534Z"
   },
   {
    "duration": 643,
    "start_time": "2022-08-12T19:41:56.895Z"
   },
   {
    "duration": 21,
    "start_time": "2022-08-12T19:41:57.539Z"
   },
   {
    "duration": 21,
    "start_time": "2022-08-12T19:41:57.561Z"
   },
   {
    "duration": 27,
    "start_time": "2022-08-12T19:41:57.584Z"
   },
   {
    "duration": 3,
    "start_time": "2022-08-12T19:41:57.612Z"
   },
   {
    "duration": 6,
    "start_time": "2022-08-12T19:41:57.616Z"
   },
   {
    "duration": 13,
    "start_time": "2022-08-12T19:41:57.623Z"
   },
   {
    "duration": 8,
    "start_time": "2022-08-12T19:41:57.638Z"
   },
   {
    "duration": 14,
    "start_time": "2022-08-12T19:41:57.648Z"
   },
   {
    "duration": 3,
    "start_time": "2022-08-12T19:41:57.664Z"
   },
   {
    "duration": 9,
    "start_time": "2022-08-12T19:41:57.668Z"
   },
   {
    "duration": 6,
    "start_time": "2022-08-12T19:41:57.678Z"
   },
   {
    "duration": 124,
    "start_time": "2022-08-12T19:41:57.705Z"
   },
   {
    "duration": 22,
    "start_time": "2022-08-12T19:41:57.831Z"
   },
   {
    "duration": 101,
    "start_time": "2022-08-12T19:41:57.854Z"
   },
   {
    "duration": 215,
    "start_time": "2022-08-12T19:41:57.957Z"
   },
   {
    "duration": 192,
    "start_time": "2022-08-12T19:41:58.173Z"
   },
   {
    "duration": 258,
    "start_time": "2022-08-12T19:41:58.367Z"
   },
   {
    "duration": 449,
    "start_time": "2022-08-12T19:41:58.626Z"
   },
   {
    "duration": 13,
    "start_time": "2022-08-12T19:41:59.077Z"
   },
   {
    "duration": 1003,
    "start_time": "2022-08-12T19:41:59.092Z"
   },
   {
    "duration": 222,
    "start_time": "2022-08-12T19:42:00.097Z"
   },
   {
    "duration": 2,
    "start_time": "2022-08-12T19:42:00.321Z"
   },
   {
    "duration": 33,
    "start_time": "2022-08-12T19:42:00.324Z"
   },
   {
    "duration": 4,
    "start_time": "2022-08-12T19:42:00.358Z"
   },
   {
    "duration": 5,
    "start_time": "2022-08-12T19:42:00.363Z"
   },
   {
    "duration": 28,
    "start_time": "2022-08-12T19:42:00.369Z"
   },
   {
    "duration": 9,
    "start_time": "2022-08-12T19:42:00.398Z"
   },
   {
    "duration": 40,
    "start_time": "2022-08-12T19:42:00.409Z"
   },
   {
    "duration": 15,
    "start_time": "2022-08-12T19:42:00.451Z"
   },
   {
    "duration": 11,
    "start_time": "2022-08-12T19:42:00.467Z"
   },
   {
    "duration": 33,
    "start_time": "2022-08-12T19:42:00.480Z"
   },
   {
    "duration": 10,
    "start_time": "2022-08-12T19:42:00.515Z"
   },
   {
    "duration": 25148,
    "start_time": "2022-08-12T19:42:00.526Z"
   },
   {
    "duration": 104,
    "start_time": "2022-08-12T19:43:51.336Z"
   },
   {
    "duration": 30396,
    "start_time": "2022-08-12T19:44:00.501Z"
   },
   {
    "duration": 12,
    "start_time": "2022-08-12T19:46:06.832Z"
   },
   {
    "duration": 15,
    "start_time": "2022-08-12T19:46:09.227Z"
   },
   {
    "duration": 9,
    "start_time": "2022-08-12T19:46:19.704Z"
   },
   {
    "duration": 24086,
    "start_time": "2022-08-12T19:46:23.903Z"
   },
   {
    "duration": 8,
    "start_time": "2022-08-12T19:48:09.637Z"
   },
   {
    "duration": 8,
    "start_time": "2022-08-12T19:48:31.194Z"
   },
   {
    "duration": 7,
    "start_time": "2022-08-12T19:48:39.682Z"
   },
   {
    "duration": 12,
    "start_time": "2022-08-12T19:50:09.235Z"
   },
   {
    "duration": 9,
    "start_time": "2022-08-12T19:50:22.834Z"
   },
   {
    "duration": 15,
    "start_time": "2022-08-12T19:51:00.738Z"
   },
   {
    "duration": 29,
    "start_time": "2022-08-12T19:53:09.145Z"
   },
   {
    "duration": 31,
    "start_time": "2022-08-12T19:53:37.481Z"
   },
   {
    "duration": 8,
    "start_time": "2022-08-12T19:54:06.679Z"
   },
   {
    "duration": 5,
    "start_time": "2022-08-12T19:54:57.702Z"
   },
   {
    "duration": 25932,
    "start_time": "2022-08-12T19:55:08.877Z"
   },
   {
    "duration": 4,
    "start_time": "2022-08-12T19:55:52.032Z"
   },
   {
    "duration": 6,
    "start_time": "2022-08-12T19:57:37.497Z"
   },
   {
    "duration": 1453,
    "start_time": "2022-08-12T19:57:45.680Z"
   },
   {
    "duration": 658,
    "start_time": "2022-08-12T19:57:47.134Z"
   },
   {
    "duration": 23,
    "start_time": "2022-08-12T19:57:47.794Z"
   },
   {
    "duration": 18,
    "start_time": "2022-08-12T19:57:47.818Z"
   },
   {
    "duration": 17,
    "start_time": "2022-08-12T19:57:47.838Z"
   },
   {
    "duration": 3,
    "start_time": "2022-08-12T19:57:47.857Z"
   },
   {
    "duration": 8,
    "start_time": "2022-08-12T19:57:47.861Z"
   },
   {
    "duration": 39,
    "start_time": "2022-08-12T19:57:47.870Z"
   },
   {
    "duration": 6,
    "start_time": "2022-08-12T19:57:47.911Z"
   },
   {
    "duration": 13,
    "start_time": "2022-08-12T19:57:47.918Z"
   },
   {
    "duration": 2,
    "start_time": "2022-08-12T19:57:47.933Z"
   },
   {
    "duration": 5,
    "start_time": "2022-08-12T19:57:47.937Z"
   },
   {
    "duration": 4,
    "start_time": "2022-08-12T19:57:47.944Z"
   },
   {
    "duration": 158,
    "start_time": "2022-08-12T19:57:47.950Z"
   },
   {
    "duration": 21,
    "start_time": "2022-08-12T19:57:48.109Z"
   },
   {
    "duration": 109,
    "start_time": "2022-08-12T19:57:48.132Z"
   },
   {
    "duration": 205,
    "start_time": "2022-08-12T19:57:48.243Z"
   },
   {
    "duration": 193,
    "start_time": "2022-08-12T19:57:48.450Z"
   },
   {
    "duration": 270,
    "start_time": "2022-08-12T19:57:48.645Z"
   },
   {
    "duration": 376,
    "start_time": "2022-08-12T19:57:48.917Z"
   },
   {
    "duration": 16,
    "start_time": "2022-08-12T19:57:49.294Z"
   },
   {
    "duration": 1090,
    "start_time": "2022-08-12T19:57:49.312Z"
   },
   {
    "duration": 225,
    "start_time": "2022-08-12T19:57:50.403Z"
   },
   {
    "duration": 3,
    "start_time": "2022-08-12T19:57:50.630Z"
   },
   {
    "duration": 29,
    "start_time": "2022-08-12T19:57:50.635Z"
   },
   {
    "duration": 15,
    "start_time": "2022-08-12T19:57:50.665Z"
   },
   {
    "duration": 18,
    "start_time": "2022-08-12T19:57:50.681Z"
   },
   {
    "duration": 23,
    "start_time": "2022-08-12T19:57:50.701Z"
   },
   {
    "duration": 37,
    "start_time": "2022-08-12T19:57:50.726Z"
   },
   {
    "duration": 10,
    "start_time": "2022-08-12T19:57:50.764Z"
   },
   {
    "duration": 29,
    "start_time": "2022-08-12T19:57:50.775Z"
   },
   {
    "duration": 14,
    "start_time": "2022-08-12T19:57:50.806Z"
   },
   {
    "duration": 21,
    "start_time": "2022-08-12T19:57:50.821Z"
   },
   {
    "duration": 30,
    "start_time": "2022-08-12T19:57:50.844Z"
   },
   {
    "duration": 15,
    "start_time": "2022-08-12T19:57:50.876Z"
   },
   {
    "duration": 129,
    "start_time": "2022-08-12T19:57:50.892Z"
   },
   {
    "duration": 0,
    "start_time": "2022-08-12T19:57:51.022Z"
   },
   {
    "duration": 0,
    "start_time": "2022-08-12T19:57:51.023Z"
   },
   {
    "duration": 17,
    "start_time": "2022-08-12T19:58:17.966Z"
   },
   {
    "duration": 11,
    "start_time": "2022-08-12T19:58:30.063Z"
   },
   {
    "duration": 13204,
    "start_time": "2022-08-12T19:58:38.195Z"
   },
   {
    "duration": 21691,
    "start_time": "2022-08-12T19:59:01.000Z"
   },
   {
    "duration": 1806,
    "start_time": "2022-08-12T19:59:58.301Z"
   },
   {
    "duration": 10,
    "start_time": "2022-08-12T20:05:43.828Z"
   },
   {
    "duration": 1585,
    "start_time": "2022-08-12T20:05:58.992Z"
   },
   {
    "duration": 1458,
    "start_time": "2022-08-12T20:06:52.000Z"
   },
   {
    "duration": 668,
    "start_time": "2022-08-12T20:06:53.460Z"
   },
   {
    "duration": 23,
    "start_time": "2022-08-12T20:06:54.129Z"
   },
   {
    "duration": 19,
    "start_time": "2022-08-12T20:06:54.154Z"
   },
   {
    "duration": 37,
    "start_time": "2022-08-12T20:06:54.176Z"
   },
   {
    "duration": 3,
    "start_time": "2022-08-12T20:06:54.215Z"
   },
   {
    "duration": 8,
    "start_time": "2022-08-12T20:06:54.220Z"
   },
   {
    "duration": 16,
    "start_time": "2022-08-12T20:06:54.230Z"
   },
   {
    "duration": 8,
    "start_time": "2022-08-12T20:06:54.247Z"
   },
   {
    "duration": 20,
    "start_time": "2022-08-12T20:06:54.257Z"
   },
   {
    "duration": 28,
    "start_time": "2022-08-12T20:06:54.279Z"
   },
   {
    "duration": 6,
    "start_time": "2022-08-12T20:06:54.309Z"
   },
   {
    "duration": 6,
    "start_time": "2022-08-12T20:06:54.317Z"
   },
   {
    "duration": 135,
    "start_time": "2022-08-12T20:06:54.327Z"
   },
   {
    "duration": 21,
    "start_time": "2022-08-12T20:06:54.464Z"
   },
   {
    "duration": 107,
    "start_time": "2022-08-12T20:06:54.486Z"
   },
   {
    "duration": 218,
    "start_time": "2022-08-12T20:06:54.594Z"
   },
   {
    "duration": 196,
    "start_time": "2022-08-12T20:06:54.814Z"
   },
   {
    "duration": 270,
    "start_time": "2022-08-12T20:06:55.012Z"
   },
   {
    "duration": 408,
    "start_time": "2022-08-12T20:06:55.284Z"
   },
   {
    "duration": 22,
    "start_time": "2022-08-12T20:06:55.693Z"
   },
   {
    "duration": 1017,
    "start_time": "2022-08-12T20:06:55.716Z"
   },
   {
    "duration": 221,
    "start_time": "2022-08-12T20:06:56.735Z"
   },
   {
    "duration": 3,
    "start_time": "2022-08-12T20:06:56.957Z"
   },
   {
    "duration": 18,
    "start_time": "2022-08-12T20:06:56.962Z"
   },
   {
    "duration": 6,
    "start_time": "2022-08-12T20:06:56.981Z"
   },
   {
    "duration": 17,
    "start_time": "2022-08-12T20:06:56.989Z"
   },
   {
    "duration": 7,
    "start_time": "2022-08-12T20:06:57.007Z"
   },
   {
    "duration": 17,
    "start_time": "2022-08-12T20:06:57.015Z"
   },
   {
    "duration": 10,
    "start_time": "2022-08-12T20:06:57.034Z"
   },
   {
    "duration": 23,
    "start_time": "2022-08-12T20:06:57.045Z"
   },
   {
    "duration": 40,
    "start_time": "2022-08-12T20:06:57.070Z"
   },
   {
    "duration": 12,
    "start_time": "2022-08-12T20:06:57.111Z"
   },
   {
    "duration": 22,
    "start_time": "2022-08-12T20:06:57.124Z"
   },
   {
    "duration": 12,
    "start_time": "2022-08-12T20:06:57.148Z"
   },
   {
    "duration": 8,
    "start_time": "2022-08-12T20:06:57.161Z"
   },
   {
    "duration": 13059,
    "start_time": "2022-08-12T20:06:57.170Z"
   },
   {
    "duration": 21303,
    "start_time": "2022-08-12T20:07:10.231Z"
   },
   {
    "duration": 1685,
    "start_time": "2022-08-12T20:07:31.535Z"
   },
   {
    "duration": 1753,
    "start_time": "2022-08-12T20:07:33.310Z"
   },
   {
    "duration": 9,
    "start_time": "2022-08-12T20:10:00.665Z"
   },
   {
    "duration": 1580,
    "start_time": "2022-08-12T20:10:07.393Z"
   },
   {
    "duration": 1470,
    "start_time": "2022-08-13T10:27:49.336Z"
   },
   {
    "duration": 3068,
    "start_time": "2022-08-13T10:27:50.808Z"
   },
   {
    "duration": 21,
    "start_time": "2022-08-13T10:27:53.878Z"
   },
   {
    "duration": 24,
    "start_time": "2022-08-13T10:27:53.901Z"
   },
   {
    "duration": 20,
    "start_time": "2022-08-13T10:27:53.927Z"
   },
   {
    "duration": 2,
    "start_time": "2022-08-13T10:27:53.949Z"
   },
   {
    "duration": 4,
    "start_time": "2022-08-13T10:27:53.953Z"
   },
   {
    "duration": 10,
    "start_time": "2022-08-13T10:27:53.959Z"
   },
   {
    "duration": 31,
    "start_time": "2022-08-13T10:27:53.971Z"
   },
   {
    "duration": 16,
    "start_time": "2022-08-13T10:27:54.004Z"
   },
   {
    "duration": 2,
    "start_time": "2022-08-13T10:27:54.022Z"
   },
   {
    "duration": 16,
    "start_time": "2022-08-13T10:27:54.025Z"
   },
   {
    "duration": 9,
    "start_time": "2022-08-13T10:27:54.043Z"
   },
   {
    "duration": 115,
    "start_time": "2022-08-13T10:27:54.053Z"
   },
   {
    "duration": 31,
    "start_time": "2022-08-13T10:27:54.169Z"
   },
   {
    "duration": 87,
    "start_time": "2022-08-13T10:27:54.201Z"
   },
   {
    "duration": 200,
    "start_time": "2022-08-13T10:27:54.300Z"
   },
   {
    "duration": 261,
    "start_time": "2022-08-13T10:27:54.501Z"
   },
   {
    "duration": 194,
    "start_time": "2022-08-13T10:27:54.763Z"
   },
   {
    "duration": 425,
    "start_time": "2022-08-13T10:27:54.959Z"
   },
   {
    "duration": 21,
    "start_time": "2022-08-13T10:27:55.386Z"
   },
   {
    "duration": 1000,
    "start_time": "2022-08-13T10:27:55.408Z"
   },
   {
    "duration": 208,
    "start_time": "2022-08-13T10:27:56.410Z"
   },
   {
    "duration": 3,
    "start_time": "2022-08-13T10:27:56.620Z"
   },
   {
    "duration": 19,
    "start_time": "2022-08-13T10:27:56.624Z"
   },
   {
    "duration": 7,
    "start_time": "2022-08-13T10:27:56.644Z"
   },
   {
    "duration": 9,
    "start_time": "2022-08-13T10:27:56.652Z"
   },
   {
    "duration": 10,
    "start_time": "2022-08-13T10:27:56.663Z"
   },
   {
    "duration": 24,
    "start_time": "2022-08-13T10:27:56.675Z"
   },
   {
    "duration": 12,
    "start_time": "2022-08-13T10:27:56.701Z"
   },
   {
    "duration": 27,
    "start_time": "2022-08-13T10:27:56.715Z"
   },
   {
    "duration": 15,
    "start_time": "2022-08-13T10:27:56.743Z"
   },
   {
    "duration": 44,
    "start_time": "2022-08-13T10:27:56.760Z"
   },
   {
    "duration": 25,
    "start_time": "2022-08-13T10:27:56.806Z"
   },
   {
    "duration": 14,
    "start_time": "2022-08-13T10:27:56.833Z"
   },
   {
    "duration": 10,
    "start_time": "2022-08-13T10:27:56.848Z"
   },
   {
    "duration": 12811,
    "start_time": "2022-08-13T10:27:56.859Z"
   },
   {
    "duration": 21280,
    "start_time": "2022-08-13T10:28:09.672Z"
   },
   {
    "duration": 1752,
    "start_time": "2022-08-13T10:28:30.954Z"
   },
   {
    "duration": 1828,
    "start_time": "2022-08-13T10:28:32.708Z"
   },
   {
    "duration": 1590,
    "start_time": "2022-08-13T10:28:50.328Z"
   },
   {
    "duration": 1598,
    "start_time": "2022-08-13T10:29:09.902Z"
   },
   {
    "duration": 15,
    "start_time": "2022-08-13T10:31:22.308Z"
   },
   {
    "duration": 26,
    "start_time": "2022-08-13T10:32:11.074Z"
   },
   {
    "duration": 11,
    "start_time": "2022-08-13T10:32:26.270Z"
   },
   {
    "duration": 42,
    "start_time": "2022-08-13T10:32:44.024Z"
   },
   {
    "duration": 11,
    "start_time": "2022-08-13T10:32:52.020Z"
   },
   {
    "duration": 29,
    "start_time": "2022-08-13T10:33:16.146Z"
   },
   {
    "duration": 14,
    "start_time": "2022-08-13T10:33:34.124Z"
   },
   {
    "duration": 6,
    "start_time": "2022-08-13T10:33:46.717Z"
   },
   {
    "duration": 12,
    "start_time": "2022-08-13T10:33:54.158Z"
   },
   {
    "duration": 22,
    "start_time": "2022-08-13T10:34:29.010Z"
   },
   {
    "duration": 1583,
    "start_time": "2022-08-13T10:34:49.005Z"
   },
   {
    "duration": 16,
    "start_time": "2022-08-13T10:36:07.803Z"
   },
   {
    "duration": 13,
    "start_time": "2022-08-13T10:36:55.971Z"
   },
   {
    "duration": 1358,
    "start_time": "2022-08-13T10:37:32.614Z"
   },
   {
    "duration": 658,
    "start_time": "2022-08-13T10:37:33.974Z"
   },
   {
    "duration": 21,
    "start_time": "2022-08-13T10:37:34.634Z"
   },
   {
    "duration": 29,
    "start_time": "2022-08-13T10:37:34.657Z"
   },
   {
    "duration": 26,
    "start_time": "2022-08-13T10:37:34.687Z"
   },
   {
    "duration": 16,
    "start_time": "2022-08-13T10:37:34.715Z"
   },
   {
    "duration": 9,
    "start_time": "2022-08-13T10:37:34.733Z"
   },
   {
    "duration": 39,
    "start_time": "2022-08-13T10:37:34.744Z"
   },
   {
    "duration": 29,
    "start_time": "2022-08-13T10:37:34.784Z"
   },
   {
    "duration": 43,
    "start_time": "2022-08-13T10:37:34.815Z"
   },
   {
    "duration": 25,
    "start_time": "2022-08-13T10:37:34.859Z"
   },
   {
    "duration": 28,
    "start_time": "2022-08-13T10:37:34.886Z"
   },
   {
    "duration": 14,
    "start_time": "2022-08-13T10:37:34.916Z"
   },
   {
    "duration": 137,
    "start_time": "2022-08-13T10:37:34.931Z"
   },
   {
    "duration": 21,
    "start_time": "2022-08-13T10:37:35.069Z"
   },
   {
    "duration": 93,
    "start_time": "2022-08-13T10:37:35.099Z"
   },
   {
    "duration": 204,
    "start_time": "2022-08-13T10:37:35.200Z"
   },
   {
    "duration": 185,
    "start_time": "2022-08-13T10:37:35.405Z"
   },
   {
    "duration": 308,
    "start_time": "2022-08-13T10:37:35.592Z"
   },
   {
    "duration": 378,
    "start_time": "2022-08-13T10:37:35.902Z"
   },
   {
    "duration": 25,
    "start_time": "2022-08-13T10:37:36.282Z"
   },
   {
    "duration": 995,
    "start_time": "2022-08-13T10:37:36.309Z"
   },
   {
    "duration": 224,
    "start_time": "2022-08-13T10:37:37.306Z"
   },
   {
    "duration": 3,
    "start_time": "2022-08-13T10:37:37.531Z"
   },
   {
    "duration": 31,
    "start_time": "2022-08-13T10:37:37.536Z"
   },
   {
    "duration": 17,
    "start_time": "2022-08-13T10:37:37.568Z"
   },
   {
    "duration": 18,
    "start_time": "2022-08-13T10:37:37.587Z"
   },
   {
    "duration": 32,
    "start_time": "2022-08-13T10:37:37.607Z"
   },
   {
    "duration": 56,
    "start_time": "2022-08-13T10:37:37.640Z"
   },
   {
    "duration": 13,
    "start_time": "2022-08-13T10:37:37.697Z"
   },
   {
    "duration": 36,
    "start_time": "2022-08-13T10:37:37.712Z"
   },
   {
    "duration": 18,
    "start_time": "2022-08-13T10:37:37.750Z"
   },
   {
    "duration": 11,
    "start_time": "2022-08-13T10:37:37.770Z"
   },
   {
    "duration": 32,
    "start_time": "2022-08-13T10:37:37.782Z"
   },
   {
    "duration": 12,
    "start_time": "2022-08-13T10:37:37.816Z"
   },
   {
    "duration": 9,
    "start_time": "2022-08-13T10:37:37.830Z"
   },
   {
    "duration": 12721,
    "start_time": "2022-08-13T10:37:37.840Z"
   },
   {
    "duration": 21001,
    "start_time": "2022-08-13T10:37:50.563Z"
   },
   {
    "duration": 1535,
    "start_time": "2022-08-13T10:38:11.566Z"
   },
   {
    "duration": 1762,
    "start_time": "2022-08-13T10:38:13.102Z"
   },
   {
    "duration": 9,
    "start_time": "2022-08-13T10:41:53.303Z"
   },
   {
    "duration": 12,
    "start_time": "2022-08-13T10:42:20.575Z"
   },
   {
    "duration": 10,
    "start_time": "2022-08-13T10:42:28.949Z"
   },
   {
    "duration": 12,
    "start_time": "2022-08-13T10:43:37.794Z"
   },
   {
    "duration": 11,
    "start_time": "2022-08-13T10:44:06.099Z"
   },
   {
    "duration": 8,
    "start_time": "2022-08-13T10:44:17.305Z"
   },
   {
    "duration": 10,
    "start_time": "2022-08-13T10:44:50.709Z"
   },
   {
    "duration": 8,
    "start_time": "2022-08-13T10:45:42.263Z"
   },
   {
    "duration": 12,
    "start_time": "2022-08-13T10:45:53.994Z"
   },
   {
    "duration": 1578,
    "start_time": "2022-08-13T10:46:03.249Z"
   },
   {
    "duration": 2,
    "start_time": "2022-08-13T10:46:47.894Z"
   },
   {
    "duration": 2,
    "start_time": "2022-08-13T10:46:50.271Z"
   },
   {
    "duration": 3,
    "start_time": "2022-08-13T10:46:59.622Z"
   },
   {
    "duration": 2,
    "start_time": "2022-08-13T10:47:04.766Z"
   },
   {
    "duration": 3,
    "start_time": "2022-08-13T10:48:07.582Z"
   },
   {
    "duration": 2,
    "start_time": "2022-08-13T10:48:12.520Z"
   },
   {
    "duration": 13,
    "start_time": "2022-08-13T10:56:20.268Z"
   },
   {
    "duration": 12887,
    "start_time": "2022-08-13T10:56:37.683Z"
   },
   {
    "duration": 4,
    "start_time": "2022-08-13T10:57:26.787Z"
   },
   {
    "duration": 21538,
    "start_time": "2022-08-13T10:58:11.360Z"
   },
   {
    "duration": 1428,
    "start_time": "2022-08-13T10:58:39.771Z"
   },
   {
    "duration": 1630,
    "start_time": "2022-08-13T10:58:50.503Z"
   },
   {
    "duration": 15,
    "start_time": "2022-08-13T11:14:36.561Z"
   },
   {
    "duration": 13,
    "start_time": "2022-08-13T11:15:07.567Z"
   },
   {
    "duration": 1038,
    "start_time": "2022-08-13T11:15:21.451Z"
   },
   {
    "duration": 873,
    "start_time": "2022-08-13T11:19:40.630Z"
   },
   {
    "duration": 1366,
    "start_time": "2022-08-13T11:19:59.332Z"
   },
   {
    "duration": 708,
    "start_time": "2022-08-13T11:20:00.701Z"
   },
   {
    "duration": 23,
    "start_time": "2022-08-13T11:20:01.411Z"
   },
   {
    "duration": 47,
    "start_time": "2022-08-13T11:20:01.438Z"
   },
   {
    "duration": 24,
    "start_time": "2022-08-13T11:20:01.487Z"
   },
   {
    "duration": 13,
    "start_time": "2022-08-13T11:20:01.513Z"
   },
   {
    "duration": 18,
    "start_time": "2022-08-13T11:20:01.528Z"
   },
   {
    "duration": 38,
    "start_time": "2022-08-13T11:20:01.548Z"
   },
   {
    "duration": 35,
    "start_time": "2022-08-13T11:20:01.588Z"
   },
   {
    "duration": 41,
    "start_time": "2022-08-13T11:20:01.626Z"
   },
   {
    "duration": 14,
    "start_time": "2022-08-13T11:20:01.669Z"
   },
   {
    "duration": 23,
    "start_time": "2022-08-13T11:20:01.685Z"
   },
   {
    "duration": 17,
    "start_time": "2022-08-13T11:20:01.710Z"
   },
   {
    "duration": 127,
    "start_time": "2022-08-13T11:20:01.729Z"
   },
   {
    "duration": 28,
    "start_time": "2022-08-13T11:20:01.857Z"
   },
   {
    "duration": 149,
    "start_time": "2022-08-13T11:20:01.887Z"
   },
   {
    "duration": 225,
    "start_time": "2022-08-13T11:20:02.038Z"
   },
   {
    "duration": 190,
    "start_time": "2022-08-13T11:20:02.264Z"
   },
   {
    "duration": 284,
    "start_time": "2022-08-13T11:20:02.455Z"
   },
   {
    "duration": 436,
    "start_time": "2022-08-13T11:20:02.741Z"
   },
   {
    "duration": 22,
    "start_time": "2022-08-13T11:20:03.179Z"
   },
   {
    "duration": 1007,
    "start_time": "2022-08-13T11:20:03.202Z"
   },
   {
    "duration": 209,
    "start_time": "2022-08-13T11:20:04.210Z"
   },
   {
    "duration": 3,
    "start_time": "2022-08-13T11:20:04.421Z"
   },
   {
    "duration": 15,
    "start_time": "2022-08-13T11:20:04.425Z"
   },
   {
    "duration": 262,
    "start_time": "2022-08-13T11:20:04.442Z"
   },
   {
    "duration": 8,
    "start_time": "2022-08-13T11:20:04.706Z"
   },
   {
    "duration": 59,
    "start_time": "2022-08-13T11:20:04.717Z"
   },
   {
    "duration": 19,
    "start_time": "2022-08-13T11:20:04.778Z"
   },
   {
    "duration": 26,
    "start_time": "2022-08-13T11:20:04.799Z"
   },
   {
    "duration": 9,
    "start_time": "2022-08-13T11:20:04.826Z"
   },
   {
    "duration": 35,
    "start_time": "2022-08-13T11:20:04.836Z"
   },
   {
    "duration": 2,
    "start_time": "2022-08-13T11:20:04.873Z"
   },
   {
    "duration": 13,
    "start_time": "2022-08-13T11:20:04.877Z"
   },
   {
    "duration": 27,
    "start_time": "2022-08-13T11:20:04.892Z"
   },
   {
    "duration": 2,
    "start_time": "2022-08-13T11:20:04.921Z"
   },
   {
    "duration": 8,
    "start_time": "2022-08-13T11:20:04.925Z"
   },
   {
    "duration": 15,
    "start_time": "2022-08-13T11:20:04.934Z"
   },
   {
    "duration": 23,
    "start_time": "2022-08-13T11:20:04.950Z"
   },
   {
    "duration": 8056,
    "start_time": "2022-08-13T11:20:04.975Z"
   },
   {
    "duration": 12636,
    "start_time": "2022-08-13T11:20:13.033Z"
   },
   {
    "duration": 1128,
    "start_time": "2022-08-13T11:20:25.672Z"
   },
   {
    "duration": 1113,
    "start_time": "2022-08-13T11:20:26.802Z"
   },
   {
    "duration": 1091,
    "start_time": "2022-08-13T11:21:46.342Z"
   },
   {
    "duration": 8219,
    "start_time": "2022-08-13T11:21:55.432Z"
   },
   {
    "duration": 775,
    "start_time": "2022-08-13T11:22:08.826Z"
   },
   {
    "duration": 1246,
    "start_time": "2022-08-13T11:22:29.023Z"
   },
   {
    "duration": 1471,
    "start_time": "2022-08-13T11:22:50.761Z"
   },
   {
    "duration": 668,
    "start_time": "2022-08-13T11:22:52.234Z"
   },
   {
    "duration": 22,
    "start_time": "2022-08-13T11:22:52.903Z"
   },
   {
    "duration": 18,
    "start_time": "2022-08-13T11:22:52.927Z"
   },
   {
    "duration": 17,
    "start_time": "2022-08-13T11:22:52.946Z"
   },
   {
    "duration": 3,
    "start_time": "2022-08-13T11:22:52.964Z"
   },
   {
    "duration": 8,
    "start_time": "2022-08-13T11:22:52.968Z"
   },
   {
    "duration": 12,
    "start_time": "2022-08-13T11:22:53.002Z"
   },
   {
    "duration": 5,
    "start_time": "2022-08-13T11:22:53.016Z"
   },
   {
    "duration": 14,
    "start_time": "2022-08-13T11:22:53.024Z"
   },
   {
    "duration": 3,
    "start_time": "2022-08-13T11:22:53.039Z"
   },
   {
    "duration": 6,
    "start_time": "2022-08-13T11:22:53.044Z"
   },
   {
    "duration": 5,
    "start_time": "2022-08-13T11:22:53.051Z"
   },
   {
    "duration": 143,
    "start_time": "2022-08-13T11:22:53.057Z"
   },
   {
    "duration": 20,
    "start_time": "2022-08-13T11:22:53.202Z"
   },
   {
    "duration": 105,
    "start_time": "2022-08-13T11:22:53.224Z"
   },
   {
    "duration": 221,
    "start_time": "2022-08-13T11:22:53.331Z"
   },
   {
    "duration": 202,
    "start_time": "2022-08-13T11:22:53.553Z"
   },
   {
    "duration": 317,
    "start_time": "2022-08-13T11:22:53.757Z"
   },
   {
    "duration": 427,
    "start_time": "2022-08-13T11:22:54.076Z"
   },
   {
    "duration": 15,
    "start_time": "2022-08-13T11:22:54.505Z"
   },
   {
    "duration": 1010,
    "start_time": "2022-08-13T11:22:54.521Z"
   },
   {
    "duration": 223,
    "start_time": "2022-08-13T11:22:55.532Z"
   },
   {
    "duration": 3,
    "start_time": "2022-08-13T11:22:55.757Z"
   },
   {
    "duration": 262,
    "start_time": "2022-08-13T11:22:55.761Z"
   },
   {
    "duration": 8,
    "start_time": "2022-08-13T11:22:56.025Z"
   },
   {
    "duration": 9,
    "start_time": "2022-08-13T11:22:56.035Z"
   },
   {
    "duration": 5,
    "start_time": "2022-08-13T11:22:56.047Z"
   },
   {
    "duration": 4,
    "start_time": "2022-08-13T11:22:56.054Z"
   },
   {
    "duration": 6,
    "start_time": "2022-08-13T11:22:56.060Z"
   },
   {
    "duration": 38,
    "start_time": "2022-08-13T11:22:56.067Z"
   },
   {
    "duration": 2,
    "start_time": "2022-08-13T11:22:56.107Z"
   },
   {
    "duration": 6,
    "start_time": "2022-08-13T11:22:56.110Z"
   },
   {
    "duration": 27,
    "start_time": "2022-08-13T11:22:56.117Z"
   },
   {
    "duration": 2,
    "start_time": "2022-08-13T11:22:56.146Z"
   },
   {
    "duration": 4,
    "start_time": "2022-08-13T11:22:56.151Z"
   },
   {
    "duration": 22,
    "start_time": "2022-08-13T11:22:56.156Z"
   },
   {
    "duration": 28,
    "start_time": "2022-08-13T11:22:56.180Z"
   },
   {
    "duration": 8130,
    "start_time": "2022-08-13T11:22:56.210Z"
   },
   {
    "duration": 12430,
    "start_time": "2022-08-13T11:23:04.342Z"
   },
   {
    "duration": 1727,
    "start_time": "2022-08-13T11:23:16.774Z"
   },
   {
    "duration": 1111,
    "start_time": "2022-08-13T11:23:18.505Z"
   },
   {
    "duration": 25406,
    "start_time": "2022-08-13T11:23:58.303Z"
   },
   {
    "duration": 8207,
    "start_time": "2022-08-13T11:25:10.812Z"
   },
   {
    "duration": 1455,
    "start_time": "2022-08-13T11:25:33.578Z"
   },
   {
    "duration": 737,
    "start_time": "2022-08-13T11:25:35.035Z"
   },
   {
    "duration": 31,
    "start_time": "2022-08-13T11:25:35.774Z"
   },
   {
    "duration": 24,
    "start_time": "2022-08-13T11:25:35.806Z"
   },
   {
    "duration": 40,
    "start_time": "2022-08-13T11:25:35.833Z"
   },
   {
    "duration": 3,
    "start_time": "2022-08-13T11:25:35.876Z"
   },
   {
    "duration": 43,
    "start_time": "2022-08-13T11:25:35.880Z"
   },
   {
    "duration": 42,
    "start_time": "2022-08-13T11:25:35.924Z"
   },
   {
    "duration": 13,
    "start_time": "2022-08-13T11:25:35.967Z"
   },
   {
    "duration": 36,
    "start_time": "2022-08-13T11:25:35.982Z"
   },
   {
    "duration": 10,
    "start_time": "2022-08-13T11:25:36.020Z"
   },
   {
    "duration": 24,
    "start_time": "2022-08-13T11:25:36.031Z"
   },
   {
    "duration": 16,
    "start_time": "2022-08-13T11:25:36.056Z"
   },
   {
    "duration": 129,
    "start_time": "2022-08-13T11:25:36.075Z"
   },
   {
    "duration": 21,
    "start_time": "2022-08-13T11:25:36.206Z"
   },
   {
    "duration": 101,
    "start_time": "2022-08-13T11:25:36.228Z"
   },
   {
    "duration": 217,
    "start_time": "2022-08-13T11:25:36.331Z"
   },
   {
    "duration": 186,
    "start_time": "2022-08-13T11:25:36.550Z"
   },
   {
    "duration": 276,
    "start_time": "2022-08-13T11:25:36.737Z"
   },
   {
    "duration": 385,
    "start_time": "2022-08-13T11:25:37.015Z"
   },
   {
    "duration": 16,
    "start_time": "2022-08-13T11:25:37.401Z"
   },
   {
    "duration": 1083,
    "start_time": "2022-08-13T11:25:37.419Z"
   },
   {
    "duration": 219,
    "start_time": "2022-08-13T11:25:38.505Z"
   },
   {
    "duration": 4,
    "start_time": "2022-08-13T11:25:38.726Z"
   },
   {
    "duration": 34,
    "start_time": "2022-08-13T11:25:38.731Z"
   },
   {
    "duration": 17,
    "start_time": "2022-08-13T11:25:38.766Z"
   },
   {
    "duration": 22,
    "start_time": "2022-08-13T11:25:38.784Z"
   },
   {
    "duration": 24,
    "start_time": "2022-08-13T11:25:38.807Z"
   },
   {
    "duration": 14,
    "start_time": "2022-08-13T11:25:38.833Z"
   },
   {
    "duration": 48,
    "start_time": "2022-08-13T11:25:38.849Z"
   },
   {
    "duration": 2,
    "start_time": "2022-08-13T11:25:38.899Z"
   },
   {
    "duration": 12,
    "start_time": "2022-08-13T11:25:38.903Z"
   },
   {
    "duration": 40,
    "start_time": "2022-08-13T11:25:38.917Z"
   },
   {
    "duration": 3,
    "start_time": "2022-08-13T11:25:38.958Z"
   },
   {
    "duration": 14,
    "start_time": "2022-08-13T11:25:38.962Z"
   },
   {
    "duration": 24,
    "start_time": "2022-08-13T11:25:38.978Z"
   },
   {
    "duration": 18,
    "start_time": "2022-08-13T11:25:39.003Z"
   },
   {
    "duration": 12670,
    "start_time": "2022-08-13T11:25:39.023Z"
   },
   {
    "duration": 40052,
    "start_time": "2022-08-13T11:25:51.695Z"
   },
   {
    "duration": 1560,
    "start_time": "2022-08-13T11:26:31.749Z"
   },
   {
    "duration": 1813,
    "start_time": "2022-08-13T11:26:33.313Z"
   },
   {
    "duration": 21742,
    "start_time": "2022-08-13T11:26:52.548Z"
   },
   {
    "duration": 52951,
    "start_time": "2022-08-13T11:27:25.569Z"
   },
   {
    "duration": 1364,
    "start_time": "2022-08-13T11:31:09.867Z"
   },
   {
    "duration": 690,
    "start_time": "2022-08-13T11:31:11.233Z"
   },
   {
    "duration": 21,
    "start_time": "2022-08-13T11:31:11.924Z"
   },
   {
    "duration": 45,
    "start_time": "2022-08-13T11:31:11.947Z"
   },
   {
    "duration": 16,
    "start_time": "2022-08-13T11:31:11.993Z"
   },
   {
    "duration": 20,
    "start_time": "2022-08-13T11:31:12.010Z"
   },
   {
    "duration": 17,
    "start_time": "2022-08-13T11:31:12.032Z"
   },
   {
    "duration": 36,
    "start_time": "2022-08-13T11:31:12.051Z"
   },
   {
    "duration": 17,
    "start_time": "2022-08-13T11:31:12.088Z"
   },
   {
    "duration": 25,
    "start_time": "2022-08-13T11:31:12.108Z"
   },
   {
    "duration": 3,
    "start_time": "2022-08-13T11:31:12.134Z"
   },
   {
    "duration": 8,
    "start_time": "2022-08-13T11:31:12.138Z"
   },
   {
    "duration": 5,
    "start_time": "2022-08-13T11:31:12.147Z"
   },
   {
    "duration": 115,
    "start_time": "2022-08-13T11:31:12.153Z"
   },
   {
    "duration": 21,
    "start_time": "2022-08-13T11:31:12.269Z"
   },
   {
    "duration": 100,
    "start_time": "2022-08-13T11:31:12.300Z"
   },
   {
    "duration": 209,
    "start_time": "2022-08-13T11:31:12.402Z"
   },
   {
    "duration": 179,
    "start_time": "2022-08-13T11:31:12.612Z"
   },
   {
    "duration": 275,
    "start_time": "2022-08-13T11:31:12.793Z"
   },
   {
    "duration": 417,
    "start_time": "2022-08-13T11:31:13.069Z"
   },
   {
    "duration": 22,
    "start_time": "2022-08-13T11:31:13.487Z"
   },
   {
    "duration": 1001,
    "start_time": "2022-08-13T11:31:13.510Z"
   },
   {
    "duration": 219,
    "start_time": "2022-08-13T11:31:14.512Z"
   },
   {
    "duration": 3,
    "start_time": "2022-08-13T11:31:14.733Z"
   },
   {
    "duration": 19,
    "start_time": "2022-08-13T11:31:14.737Z"
   },
   {
    "duration": 9,
    "start_time": "2022-08-13T11:31:14.757Z"
   },
   {
    "duration": 9,
    "start_time": "2022-08-13T11:31:14.768Z"
   },
   {
    "duration": 28,
    "start_time": "2022-08-13T11:31:14.780Z"
   },
   {
    "duration": 2,
    "start_time": "2022-08-13T11:31:14.810Z"
   },
   {
    "duration": 24,
    "start_time": "2022-08-13T11:31:14.813Z"
   },
   {
    "duration": 16,
    "start_time": "2022-08-13T11:31:14.839Z"
   },
   {
    "duration": 351,
    "start_time": "2022-08-13T11:31:14.856Z"
   },
   {
    "duration": 0,
    "start_time": "2022-08-13T11:31:15.208Z"
   },
   {
    "duration": 0,
    "start_time": "2022-08-13T11:31:15.209Z"
   },
   {
    "duration": 0,
    "start_time": "2022-08-13T11:31:15.210Z"
   },
   {
    "duration": 1361,
    "start_time": "2022-08-13T11:31:48.369Z"
   },
   {
    "duration": 657,
    "start_time": "2022-08-13T11:31:49.732Z"
   },
   {
    "duration": 23,
    "start_time": "2022-08-13T11:31:50.391Z"
   },
   {
    "duration": 17,
    "start_time": "2022-08-13T11:31:50.415Z"
   },
   {
    "duration": 16,
    "start_time": "2022-08-13T11:31:50.434Z"
   },
   {
    "duration": 3,
    "start_time": "2022-08-13T11:31:50.452Z"
   },
   {
    "duration": 6,
    "start_time": "2022-08-13T11:31:50.456Z"
   },
   {
    "duration": 38,
    "start_time": "2022-08-13T11:31:50.463Z"
   },
   {
    "duration": 5,
    "start_time": "2022-08-13T11:31:50.503Z"
   },
   {
    "duration": 16,
    "start_time": "2022-08-13T11:31:50.509Z"
   },
   {
    "duration": 2,
    "start_time": "2022-08-13T11:31:50.527Z"
   },
   {
    "duration": 6,
    "start_time": "2022-08-13T11:31:50.530Z"
   },
   {
    "duration": 5,
    "start_time": "2022-08-13T11:31:50.537Z"
   },
   {
    "duration": 136,
    "start_time": "2022-08-13T11:31:50.544Z"
   },
   {
    "duration": 30,
    "start_time": "2022-08-13T11:31:50.682Z"
   },
   {
    "duration": 97,
    "start_time": "2022-08-13T11:31:50.714Z"
   },
   {
    "duration": 212,
    "start_time": "2022-08-13T11:31:50.813Z"
   },
   {
    "duration": 196,
    "start_time": "2022-08-13T11:31:51.027Z"
   },
   {
    "duration": 313,
    "start_time": "2022-08-13T11:31:51.224Z"
   },
   {
    "duration": 461,
    "start_time": "2022-08-13T11:31:51.539Z"
   },
   {
    "duration": 14,
    "start_time": "2022-08-13T11:31:52.001Z"
   },
   {
    "duration": 998,
    "start_time": "2022-08-13T11:31:52.017Z"
   },
   {
    "duration": 218,
    "start_time": "2022-08-13T11:31:53.017Z"
   },
   {
    "duration": 3,
    "start_time": "2022-08-13T11:31:53.236Z"
   },
   {
    "duration": 19,
    "start_time": "2022-08-13T11:31:53.241Z"
   },
   {
    "duration": 11,
    "start_time": "2022-08-13T11:31:53.261Z"
   },
   {
    "duration": 11,
    "start_time": "2022-08-13T11:31:53.273Z"
   },
   {
    "duration": 35,
    "start_time": "2022-08-13T11:31:53.285Z"
   },
   {
    "duration": 25,
    "start_time": "2022-08-13T11:31:53.322Z"
   },
   {
    "duration": 8,
    "start_time": "2022-08-13T11:31:53.349Z"
   },
   {
    "duration": 20,
    "start_time": "2022-08-13T11:31:53.359Z"
   },
   {
    "duration": 12562,
    "start_time": "2022-08-13T11:31:53.380Z"
   },
   {
    "duration": 39800,
    "start_time": "2022-08-13T11:32:05.944Z"
   },
   {
    "duration": 1558,
    "start_time": "2022-08-13T11:32:45.746Z"
   },
   {
    "duration": 1709,
    "start_time": "2022-08-13T11:32:47.306Z"
   },
   {
    "duration": 17,
    "start_time": "2022-08-13T11:39:37.727Z"
   },
   {
    "duration": 1368,
    "start_time": "2022-08-13T11:39:45.972Z"
   },
   {
    "duration": 676,
    "start_time": "2022-08-13T11:39:47.342Z"
   },
   {
    "duration": 20,
    "start_time": "2022-08-13T11:39:48.020Z"
   },
   {
    "duration": 17,
    "start_time": "2022-08-13T11:39:48.042Z"
   },
   {
    "duration": 18,
    "start_time": "2022-08-13T11:39:48.061Z"
   },
   {
    "duration": 3,
    "start_time": "2022-08-13T11:39:48.100Z"
   },
   {
    "duration": 6,
    "start_time": "2022-08-13T11:39:48.104Z"
   },
   {
    "duration": 12,
    "start_time": "2022-08-13T11:39:48.112Z"
   },
   {
    "duration": 5,
    "start_time": "2022-08-13T11:39:48.125Z"
   },
   {
    "duration": 13,
    "start_time": "2022-08-13T11:39:48.132Z"
   },
   {
    "duration": 2,
    "start_time": "2022-08-13T11:39:48.147Z"
   },
   {
    "duration": 5,
    "start_time": "2022-08-13T11:39:48.151Z"
   },
   {
    "duration": 5,
    "start_time": "2022-08-13T11:39:48.158Z"
   },
   {
    "duration": 153,
    "start_time": "2022-08-13T11:39:48.166Z"
   },
   {
    "duration": 21,
    "start_time": "2022-08-13T11:39:48.321Z"
   },
   {
    "duration": 111,
    "start_time": "2022-08-13T11:39:48.343Z"
   },
   {
    "duration": 215,
    "start_time": "2022-08-13T11:39:48.456Z"
   },
   {
    "duration": 183,
    "start_time": "2022-08-13T11:39:48.673Z"
   },
   {
    "duration": 284,
    "start_time": "2022-08-13T11:39:48.858Z"
   },
   {
    "duration": 441,
    "start_time": "2022-08-13T11:39:49.144Z"
   },
   {
    "duration": 20,
    "start_time": "2022-08-13T11:39:49.587Z"
   },
   {
    "duration": 1102,
    "start_time": "2022-08-13T11:39:49.609Z"
   },
   {
    "duration": 228,
    "start_time": "2022-08-13T11:39:50.712Z"
   },
   {
    "duration": 3,
    "start_time": "2022-08-13T11:39:50.942Z"
   },
   {
    "duration": 15,
    "start_time": "2022-08-13T11:39:50.947Z"
   },
   {
    "duration": 10,
    "start_time": "2022-08-13T11:39:50.964Z"
   },
   {
    "duration": 6,
    "start_time": "2022-08-13T11:39:50.975Z"
   },
   {
    "duration": 46,
    "start_time": "2022-08-13T11:39:50.983Z"
   },
   {
    "duration": 22,
    "start_time": "2022-08-13T11:39:51.031Z"
   },
   {
    "duration": 7,
    "start_time": "2022-08-13T11:39:51.055Z"
   },
   {
    "duration": 118,
    "start_time": "2022-08-13T11:39:51.064Z"
   },
   {
    "duration": 0,
    "start_time": "2022-08-13T11:39:51.184Z"
   },
   {
    "duration": 0,
    "start_time": "2022-08-13T11:39:51.186Z"
   },
   {
    "duration": 0,
    "start_time": "2022-08-13T11:39:51.200Z"
   },
   {
    "duration": 0,
    "start_time": "2022-08-13T11:39:51.201Z"
   },
   {
    "duration": 12,
    "start_time": "2022-08-13T11:42:12.571Z"
   },
   {
    "duration": 1358,
    "start_time": "2022-08-13T11:42:17.831Z"
   },
   {
    "duration": 710,
    "start_time": "2022-08-13T11:42:19.190Z"
   },
   {
    "duration": 24,
    "start_time": "2022-08-13T11:42:19.901Z"
   },
   {
    "duration": 24,
    "start_time": "2022-08-13T11:42:19.927Z"
   },
   {
    "duration": 19,
    "start_time": "2022-08-13T11:42:19.954Z"
   },
   {
    "duration": 26,
    "start_time": "2022-08-13T11:42:19.974Z"
   },
   {
    "duration": 6,
    "start_time": "2022-08-13T11:42:20.003Z"
   },
   {
    "duration": 27,
    "start_time": "2022-08-13T11:42:20.011Z"
   },
   {
    "duration": 25,
    "start_time": "2022-08-13T11:42:20.040Z"
   },
   {
    "duration": 15,
    "start_time": "2022-08-13T11:42:20.066Z"
   },
   {
    "duration": 2,
    "start_time": "2022-08-13T11:42:20.083Z"
   },
   {
    "duration": 8,
    "start_time": "2022-08-13T11:42:20.087Z"
   },
   {
    "duration": 13,
    "start_time": "2022-08-13T11:42:20.096Z"
   },
   {
    "duration": 116,
    "start_time": "2022-08-13T11:42:20.112Z"
   },
   {
    "duration": 21,
    "start_time": "2022-08-13T11:42:20.230Z"
   },
   {
    "duration": 107,
    "start_time": "2022-08-13T11:42:20.252Z"
   },
   {
    "duration": 225,
    "start_time": "2022-08-13T11:42:20.360Z"
   },
   {
    "duration": 208,
    "start_time": "2022-08-13T11:42:20.586Z"
   },
   {
    "duration": 302,
    "start_time": "2022-08-13T11:42:20.796Z"
   },
   {
    "duration": 430,
    "start_time": "2022-08-13T11:42:21.099Z"
   },
   {
    "duration": 20,
    "start_time": "2022-08-13T11:42:21.531Z"
   },
   {
    "duration": 1056,
    "start_time": "2022-08-13T11:42:21.553Z"
   },
   {
    "duration": 220,
    "start_time": "2022-08-13T11:42:22.610Z"
   },
   {
    "duration": 3,
    "start_time": "2022-08-13T11:42:22.831Z"
   },
   {
    "duration": 22,
    "start_time": "2022-08-13T11:42:22.836Z"
   },
   {
    "duration": 12,
    "start_time": "2022-08-13T11:42:22.860Z"
   },
   {
    "duration": 8,
    "start_time": "2022-08-13T11:42:22.874Z"
   },
   {
    "duration": 28,
    "start_time": "2022-08-13T11:42:22.883Z"
   },
   {
    "duration": 23,
    "start_time": "2022-08-13T11:42:22.913Z"
   },
   {
    "duration": 10,
    "start_time": "2022-08-13T11:42:22.938Z"
   },
   {
    "duration": 25,
    "start_time": "2022-08-13T11:42:22.949Z"
   },
   {
    "duration": 13049,
    "start_time": "2022-08-13T11:42:22.976Z"
   },
   {
    "duration": 40759,
    "start_time": "2022-08-13T11:42:36.027Z"
   },
   {
    "duration": 1212,
    "start_time": "2022-08-13T11:43:16.788Z"
   },
   {
    "duration": 1664,
    "start_time": "2022-08-13T11:43:18.002Z"
   },
   {
    "duration": 3,
    "start_time": "2022-08-13T12:05:15.752Z"
   },
   {
    "duration": 1444,
    "start_time": "2022-08-13T12:05:20.759Z"
   },
   {
    "duration": 675,
    "start_time": "2022-08-13T12:05:22.205Z"
   },
   {
    "duration": 25,
    "start_time": "2022-08-13T12:05:22.882Z"
   },
   {
    "duration": 38,
    "start_time": "2022-08-13T12:05:22.909Z"
   },
   {
    "duration": 44,
    "start_time": "2022-08-13T12:05:22.949Z"
   },
   {
    "duration": 25,
    "start_time": "2022-08-13T12:05:22.995Z"
   },
   {
    "duration": 25,
    "start_time": "2022-08-13T12:05:23.022Z"
   },
   {
    "duration": 21,
    "start_time": "2022-08-13T12:05:23.049Z"
   },
   {
    "duration": 25,
    "start_time": "2022-08-13T12:05:23.071Z"
   },
   {
    "duration": 23,
    "start_time": "2022-08-13T12:05:23.098Z"
   },
   {
    "duration": 15,
    "start_time": "2022-08-13T12:05:23.122Z"
   },
   {
    "duration": 23,
    "start_time": "2022-08-13T12:05:23.138Z"
   },
   {
    "duration": 23,
    "start_time": "2022-08-13T12:05:23.163Z"
   },
   {
    "duration": 118,
    "start_time": "2022-08-13T12:05:23.190Z"
   },
   {
    "duration": 20,
    "start_time": "2022-08-13T12:05:23.310Z"
   },
   {
    "duration": 103,
    "start_time": "2022-08-13T12:05:23.332Z"
   },
   {
    "duration": 209,
    "start_time": "2022-08-13T12:05:23.437Z"
   },
   {
    "duration": 194,
    "start_time": "2022-08-13T12:05:23.648Z"
   },
   {
    "duration": 287,
    "start_time": "2022-08-13T12:05:23.844Z"
   },
   {
    "duration": 360,
    "start_time": "2022-08-13T12:05:24.132Z"
   },
   {
    "duration": 14,
    "start_time": "2022-08-13T12:05:24.499Z"
   },
   {
    "duration": 989,
    "start_time": "2022-08-13T12:05:24.514Z"
   },
   {
    "duration": 226,
    "start_time": "2022-08-13T12:05:25.504Z"
   },
   {
    "duration": 3,
    "start_time": "2022-08-13T12:05:25.731Z"
   },
   {
    "duration": 15,
    "start_time": "2022-08-13T12:05:25.735Z"
   },
   {
    "duration": 11,
    "start_time": "2022-08-13T12:05:25.752Z"
   },
   {
    "duration": 6,
    "start_time": "2022-08-13T12:05:25.765Z"
   },
   {
    "duration": 33,
    "start_time": "2022-08-13T12:05:25.772Z"
   },
   {
    "duration": 25,
    "start_time": "2022-08-13T12:05:25.807Z"
   },
   {
    "duration": 9,
    "start_time": "2022-08-13T12:05:25.835Z"
   },
   {
    "duration": 27,
    "start_time": "2022-08-13T12:05:25.846Z"
   },
   {
    "duration": 12592,
    "start_time": "2022-08-13T12:05:25.875Z"
   },
   {
    "duration": 39732,
    "start_time": "2022-08-13T12:05:38.468Z"
   },
   {
    "duration": 1503,
    "start_time": "2022-08-13T12:06:18.202Z"
   },
   {
    "duration": 1870,
    "start_time": "2022-08-13T12:06:19.707Z"
   },
   {
    "duration": 2,
    "start_time": "2022-08-13T12:20:01.185Z"
   },
   {
    "duration": 2,
    "start_time": "2022-08-13T12:20:05.462Z"
   },
   {
    "duration": 3,
    "start_time": "2022-08-13T12:20:11.659Z"
   },
   {
    "duration": 2,
    "start_time": "2022-08-13T12:20:55.182Z"
   },
   {
    "duration": 1356,
    "start_time": "2022-08-13T12:23:01.257Z"
   },
   {
    "duration": 653,
    "start_time": "2022-08-13T12:23:02.615Z"
   },
   {
    "duration": 3,
    "start_time": "2022-08-13T12:23:03.270Z"
   },
   {
    "duration": 6,
    "start_time": "2022-08-13T12:23:03.274Z"
   },
   {
    "duration": 8,
    "start_time": "2022-08-13T12:23:03.282Z"
   },
   {
    "duration": 6,
    "start_time": "2022-08-13T12:23:03.291Z"
   },
   {
    "duration": 10,
    "start_time": "2022-08-13T12:23:03.300Z"
   },
   {
    "duration": 13,
    "start_time": "2022-08-13T12:23:03.312Z"
   },
   {
    "duration": 7,
    "start_time": "2022-08-13T12:23:03.327Z"
   },
   {
    "duration": 7,
    "start_time": "2022-08-13T12:23:03.335Z"
   },
   {
    "duration": 17,
    "start_time": "2022-08-13T12:23:03.344Z"
   },
   {
    "duration": 15,
    "start_time": "2022-08-13T12:23:03.362Z"
   },
   {
    "duration": 5,
    "start_time": "2022-08-13T12:23:03.379Z"
   },
   {
    "duration": 120,
    "start_time": "2022-08-13T12:23:03.386Z"
   },
   {
    "duration": 23,
    "start_time": "2022-08-13T12:23:03.508Z"
   },
   {
    "duration": 110,
    "start_time": "2022-08-13T12:23:03.533Z"
   },
   {
    "duration": 208,
    "start_time": "2022-08-13T12:23:03.644Z"
   },
   {
    "duration": 195,
    "start_time": "2022-08-13T12:23:03.853Z"
   },
   {
    "duration": 287,
    "start_time": "2022-08-13T12:23:04.050Z"
   },
   {
    "duration": 437,
    "start_time": "2022-08-13T12:23:04.339Z"
   },
   {
    "duration": 22,
    "start_time": "2022-08-13T12:23:04.778Z"
   },
   {
    "duration": 999,
    "start_time": "2022-08-13T12:23:04.802Z"
   },
   {
    "duration": 205,
    "start_time": "2022-08-13T12:23:05.802Z"
   },
   {
    "duration": 7,
    "start_time": "2022-08-13T12:23:06.009Z"
   },
   {
    "duration": 6,
    "start_time": "2022-08-13T12:23:06.018Z"
   },
   {
    "duration": 8,
    "start_time": "2022-08-13T12:23:06.025Z"
   },
   {
    "duration": 26,
    "start_time": "2022-08-13T12:23:06.034Z"
   },
   {
    "duration": 22,
    "start_time": "2022-08-13T12:23:06.061Z"
   },
   {
    "duration": 10,
    "start_time": "2022-08-13T12:23:06.099Z"
   },
   {
    "duration": 20,
    "start_time": "2022-08-13T12:23:06.110Z"
   },
   {
    "duration": 12760,
    "start_time": "2022-08-13T12:23:06.131Z"
   },
   {
    "duration": 40018,
    "start_time": "2022-08-13T12:23:18.892Z"
   },
   {
    "duration": 1497,
    "start_time": "2022-08-13T12:23:58.911Z"
   },
   {
    "duration": 1805,
    "start_time": "2022-08-13T12:24:00.410Z"
   },
   {
    "duration": 52,
    "start_time": "2022-08-14T17:30:50.448Z"
   },
   {
    "duration": 1769,
    "start_time": "2022-08-14T17:30:56.522Z"
   },
   {
    "duration": 1925,
    "start_time": "2022-08-14T17:30:58.294Z"
   },
   {
    "duration": 3,
    "start_time": "2022-08-14T17:31:00.221Z"
   },
   {
    "duration": 29,
    "start_time": "2022-08-14T17:31:00.226Z"
   },
   {
    "duration": 8,
    "start_time": "2022-08-14T17:31:00.258Z"
   },
   {
    "duration": 10,
    "start_time": "2022-08-14T17:31:00.268Z"
   },
   {
    "duration": 11,
    "start_time": "2022-08-14T17:31:00.280Z"
   },
   {
    "duration": 26,
    "start_time": "2022-08-14T17:31:00.294Z"
   },
   {
    "duration": 12,
    "start_time": "2022-08-14T17:31:00.322Z"
   },
   {
    "duration": 11,
    "start_time": "2022-08-14T17:31:00.336Z"
   },
   {
    "duration": 10,
    "start_time": "2022-08-14T17:31:00.349Z"
   },
   {
    "duration": 14,
    "start_time": "2022-08-14T17:31:00.361Z"
   },
   {
    "duration": 10,
    "start_time": "2022-08-14T17:31:00.377Z"
   },
   {
    "duration": 144,
    "start_time": "2022-08-14T17:31:00.390Z"
   },
   {
    "duration": 42,
    "start_time": "2022-08-14T17:31:00.536Z"
   },
   {
    "duration": 127,
    "start_time": "2022-08-14T17:31:00.581Z"
   },
   {
    "duration": 254,
    "start_time": "2022-08-14T17:31:00.710Z"
   },
   {
    "duration": 312,
    "start_time": "2022-08-14T17:31:00.967Z"
   },
   {
    "duration": 257,
    "start_time": "2022-08-14T17:31:01.281Z"
   },
   {
    "duration": 462,
    "start_time": "2022-08-14T17:31:01.540Z"
   },
   {
    "duration": 510,
    "start_time": "2022-08-14T17:31:02.004Z"
   },
   {
    "duration": 17,
    "start_time": "2022-08-14T17:31:02.516Z"
   },
   {
    "duration": 1189,
    "start_time": "2022-08-14T17:31:02.535Z"
   },
   {
    "duration": 257,
    "start_time": "2022-08-14T17:31:03.726Z"
   },
   {
    "duration": 7,
    "start_time": "2022-08-14T17:31:03.985Z"
   },
   {
    "duration": 9,
    "start_time": "2022-08-14T17:31:03.994Z"
   },
   {
    "duration": 9,
    "start_time": "2022-08-14T17:31:04.005Z"
   },
   {
    "duration": 28,
    "start_time": "2022-08-14T17:31:04.016Z"
   },
   {
    "duration": 36,
    "start_time": "2022-08-14T17:31:04.046Z"
   },
   {
    "duration": 10,
    "start_time": "2022-08-14T17:31:04.084Z"
   },
   {
    "duration": 21,
    "start_time": "2022-08-14T17:31:04.096Z"
   },
   {
    "duration": 14909,
    "start_time": "2022-08-14T17:31:04.119Z"
   },
   {
    "duration": 46890,
    "start_time": "2022-08-14T17:31:19.030Z"
   },
   {
    "duration": 1852,
    "start_time": "2022-08-14T17:32:05.922Z"
   },
   {
    "duration": 1964,
    "start_time": "2022-08-14T17:32:07.777Z"
   },
   {
    "duration": 431,
    "start_time": "2022-08-14T17:32:58.177Z"
   },
   {
    "duration": 716,
    "start_time": "2022-08-14T17:35:51.071Z"
   },
   {
    "duration": 175,
    "start_time": "2022-08-14T17:36:07.874Z"
   },
   {
    "duration": 176,
    "start_time": "2022-08-14T17:36:16.957Z"
   },
   {
    "duration": 90,
    "start_time": "2022-08-14T17:36:26.280Z"
   },
   {
    "duration": 1600,
    "start_time": "2022-08-15T06:45:04.657Z"
   },
   {
    "duration": 3252,
    "start_time": "2022-08-15T06:45:06.260Z"
   },
   {
    "duration": 25,
    "start_time": "2022-08-15T06:45:09.514Z"
   },
   {
    "duration": 24,
    "start_time": "2022-08-15T06:45:09.541Z"
   },
   {
    "duration": 22,
    "start_time": "2022-08-15T06:45:09.567Z"
   },
   {
    "duration": 11,
    "start_time": "2022-08-15T06:45:09.590Z"
   },
   {
    "duration": 7,
    "start_time": "2022-08-15T06:45:09.603Z"
   },
   {
    "duration": 16,
    "start_time": "2022-08-15T06:45:09.611Z"
   },
   {
    "duration": 5,
    "start_time": "2022-08-15T06:45:09.629Z"
   },
   {
    "duration": 6,
    "start_time": "2022-08-15T06:45:09.636Z"
   },
   {
    "duration": 5,
    "start_time": "2022-08-15T06:45:09.644Z"
   },
   {
    "duration": 6,
    "start_time": "2022-08-15T06:45:09.651Z"
   },
   {
    "duration": 5,
    "start_time": "2022-08-15T06:45:09.658Z"
   },
   {
    "duration": 146,
    "start_time": "2022-08-15T06:45:09.664Z"
   },
   {
    "duration": 32,
    "start_time": "2022-08-15T06:45:09.812Z"
   },
   {
    "duration": 130,
    "start_time": "2022-08-15T06:45:09.846Z"
   },
   {
    "duration": 251,
    "start_time": "2022-08-15T06:45:09.978Z"
   },
   {
    "duration": 280,
    "start_time": "2022-08-15T06:45:10.231Z"
   },
   {
    "duration": 227,
    "start_time": "2022-08-15T06:45:10.513Z"
   },
   {
    "duration": 447,
    "start_time": "2022-08-15T06:45:10.742Z"
   },
   {
    "duration": 483,
    "start_time": "2022-08-15T06:45:11.191Z"
   },
   {
    "duration": 24,
    "start_time": "2022-08-15T06:45:11.676Z"
   },
   {
    "duration": 1316,
    "start_time": "2022-08-15T06:45:11.701Z"
   },
   {
    "duration": 220,
    "start_time": "2022-08-15T06:45:13.019Z"
   },
   {
    "duration": 8,
    "start_time": "2022-08-15T06:45:13.242Z"
   },
   {
    "duration": 6,
    "start_time": "2022-08-15T06:45:13.252Z"
   },
   {
    "duration": 8,
    "start_time": "2022-08-15T06:45:13.260Z"
   },
   {
    "duration": 47,
    "start_time": "2022-08-15T06:45:13.272Z"
   },
   {
    "duration": 30,
    "start_time": "2022-08-15T06:45:13.321Z"
   },
   {
    "duration": 11,
    "start_time": "2022-08-15T06:45:13.353Z"
   },
   {
    "duration": 37,
    "start_time": "2022-08-15T06:45:13.365Z"
   },
   {
    "duration": 12909,
    "start_time": "2022-08-15T06:45:13.404Z"
   },
   {
    "duration": 40851,
    "start_time": "2022-08-15T06:45:26.315Z"
   },
   {
    "duration": 2734,
    "start_time": "2022-08-15T06:46:07.167Z"
   },
   {
    "duration": 1766,
    "start_time": "2022-08-15T06:46:09.903Z"
   },
   {
    "duration": 13,
    "start_time": "2022-08-15T06:46:48.808Z"
   },
   {
    "duration": 12,
    "start_time": "2022-08-15T07:04:16.015Z"
   },
   {
    "duration": 2,
    "start_time": "2022-08-15T07:10:19.652Z"
   },
   {
    "duration": 44,
    "start_time": "2022-08-15T07:10:46.975Z"
   },
   {
    "duration": 21,
    "start_time": "2022-08-15T07:10:56.878Z"
   },
   {
    "duration": 16,
    "start_time": "2022-08-15T07:11:39.738Z"
   },
   {
    "duration": 13,
    "start_time": "2022-08-15T07:11:43.521Z"
   },
   {
    "duration": 1019,
    "start_time": "2022-08-15T07:11:50.084Z"
   },
   {
    "duration": 17,
    "start_time": "2022-08-15T07:12:35.720Z"
   },
   {
    "duration": 12,
    "start_time": "2022-08-15T07:12:39.784Z"
   },
   {
    "duration": 942,
    "start_time": "2022-08-15T07:12:45.951Z"
   },
   {
    "duration": 196,
    "start_time": "2022-08-15T07:12:55.315Z"
   },
   {
    "duration": 14,
    "start_time": "2022-08-15T07:13:12.947Z"
   },
   {
    "duration": 28,
    "start_time": "2022-08-15T07:15:14.897Z"
   },
   {
    "duration": 15,
    "start_time": "2022-08-15T07:15:40.274Z"
   },
   {
    "duration": 1175,
    "start_time": "2022-08-15T07:16:00.657Z"
   },
   {
    "duration": 14,
    "start_time": "2022-08-15T07:16:33.750Z"
   },
   {
    "duration": 1024,
    "start_time": "2022-08-15T07:16:38.879Z"
   },
   {
    "duration": 23,
    "start_time": "2022-08-15T07:16:45.089Z"
   },
   {
    "duration": 13,
    "start_time": "2022-08-15T07:22:33.199Z"
   },
   {
    "duration": 118,
    "start_time": "2022-08-15T07:22:59.917Z"
   },
   {
    "duration": 1575,
    "start_time": "2022-08-15T07:23:16.405Z"
   },
   {
    "duration": 748,
    "start_time": "2022-08-15T07:23:17.982Z"
   },
   {
    "duration": 22,
    "start_time": "2022-08-15T07:23:18.732Z"
   },
   {
    "duration": 47,
    "start_time": "2022-08-15T07:23:18.755Z"
   },
   {
    "duration": 19,
    "start_time": "2022-08-15T07:23:18.804Z"
   },
   {
    "duration": 3,
    "start_time": "2022-08-15T07:23:18.824Z"
   },
   {
    "duration": 12,
    "start_time": "2022-08-15T07:23:18.828Z"
   },
   {
    "duration": 16,
    "start_time": "2022-08-15T07:23:18.842Z"
   },
   {
    "duration": 18,
    "start_time": "2022-08-15T07:23:18.859Z"
   },
   {
    "duration": 3,
    "start_time": "2022-08-15T07:23:18.902Z"
   },
   {
    "duration": 42,
    "start_time": "2022-08-15T07:23:18.906Z"
   },
   {
    "duration": 109,
    "start_time": "2022-08-15T07:23:18.950Z"
   },
   {
    "duration": 153,
    "start_time": "2022-08-15T07:23:19.061Z"
   },
   {
    "duration": 24,
    "start_time": "2022-08-15T07:23:19.215Z"
   },
   {
    "duration": 111,
    "start_time": "2022-08-15T07:23:19.241Z"
   },
   {
    "duration": 230,
    "start_time": "2022-08-15T07:23:19.354Z"
   },
   {
    "duration": 197,
    "start_time": "2022-08-15T07:23:19.585Z"
   },
   {
    "duration": 300,
    "start_time": "2022-08-15T07:23:19.784Z"
   },
   {
    "duration": 504,
    "start_time": "2022-08-15T07:23:20.087Z"
   },
   {
    "duration": 415,
    "start_time": "2022-08-15T07:23:20.593Z"
   },
   {
    "duration": 15,
    "start_time": "2022-08-15T07:23:21.010Z"
   },
   {
    "duration": 1085,
    "start_time": "2022-08-15T07:23:21.026Z"
   },
   {
    "duration": 225,
    "start_time": "2022-08-15T07:23:22.112Z"
   },
   {
    "duration": 112,
    "start_time": "2022-08-15T07:23:22.338Z"
   },
   {
    "duration": 0,
    "start_time": "2022-08-15T07:23:22.452Z"
   },
   {
    "duration": 0,
    "start_time": "2022-08-15T07:23:22.454Z"
   },
   {
    "duration": 0,
    "start_time": "2022-08-15T07:23:22.455Z"
   },
   {
    "duration": 0,
    "start_time": "2022-08-15T07:23:22.456Z"
   },
   {
    "duration": 0,
    "start_time": "2022-08-15T07:23:22.457Z"
   },
   {
    "duration": 0,
    "start_time": "2022-08-15T07:23:22.458Z"
   },
   {
    "duration": 0,
    "start_time": "2022-08-15T07:23:22.458Z"
   },
   {
    "duration": 0,
    "start_time": "2022-08-15T07:23:22.459Z"
   },
   {
    "duration": 1,
    "start_time": "2022-08-15T07:23:22.460Z"
   },
   {
    "duration": 0,
    "start_time": "2022-08-15T07:23:22.461Z"
   },
   {
    "duration": 0,
    "start_time": "2022-08-15T07:23:22.462Z"
   },
   {
    "duration": 0,
    "start_time": "2022-08-15T07:23:22.463Z"
   },
   {
    "duration": 12,
    "start_time": "2022-08-15T07:24:40.022Z"
   },
   {
    "duration": 18,
    "start_time": "2022-08-15T07:25:14.821Z"
   },
   {
    "duration": 7,
    "start_time": "2022-08-15T07:25:19.947Z"
   },
   {
    "duration": 1560,
    "start_time": "2022-08-15T07:25:30.750Z"
   },
   {
    "duration": 717,
    "start_time": "2022-08-15T07:25:32.311Z"
   },
   {
    "duration": 23,
    "start_time": "2022-08-15T07:25:33.030Z"
   },
   {
    "duration": 18,
    "start_time": "2022-08-15T07:25:33.055Z"
   },
   {
    "duration": 41,
    "start_time": "2022-08-15T07:25:33.075Z"
   },
   {
    "duration": 16,
    "start_time": "2022-08-15T07:25:33.118Z"
   },
   {
    "duration": 38,
    "start_time": "2022-08-15T07:25:33.136Z"
   },
   {
    "duration": 47,
    "start_time": "2022-08-15T07:25:33.176Z"
   },
   {
    "duration": 46,
    "start_time": "2022-08-15T07:25:33.225Z"
   },
   {
    "duration": 34,
    "start_time": "2022-08-15T07:25:33.274Z"
   },
   {
    "duration": 10,
    "start_time": "2022-08-15T07:25:33.309Z"
   },
   {
    "duration": 42,
    "start_time": "2022-08-15T07:25:33.320Z"
   },
   {
    "duration": 146,
    "start_time": "2022-08-15T07:25:33.364Z"
   },
   {
    "duration": 25,
    "start_time": "2022-08-15T07:25:33.512Z"
   },
   {
    "duration": 107,
    "start_time": "2022-08-15T07:25:33.539Z"
   },
   {
    "duration": 224,
    "start_time": "2022-08-15T07:25:33.648Z"
   },
   {
    "duration": 208,
    "start_time": "2022-08-15T07:25:33.874Z"
   },
   {
    "duration": 293,
    "start_time": "2022-08-15T07:25:34.084Z"
   },
   {
    "duration": 505,
    "start_time": "2022-08-15T07:25:34.378Z"
   },
   {
    "duration": 508,
    "start_time": "2022-08-15T07:25:34.884Z"
   },
   {
    "duration": 15,
    "start_time": "2022-08-15T07:25:35.399Z"
   },
   {
    "duration": 1099,
    "start_time": "2022-08-15T07:25:35.415Z"
   },
   {
    "duration": 222,
    "start_time": "2022-08-15T07:25:36.516Z"
   },
   {
    "duration": 19,
    "start_time": "2022-08-15T07:25:36.740Z"
   },
   {
    "duration": 7,
    "start_time": "2022-08-15T07:25:36.761Z"
   },
   {
    "duration": 132,
    "start_time": "2022-08-15T07:25:36.769Z"
   },
   {
    "duration": 0,
    "start_time": "2022-08-15T07:25:36.903Z"
   },
   {
    "duration": 0,
    "start_time": "2022-08-15T07:25:36.904Z"
   },
   {
    "duration": 0,
    "start_time": "2022-08-15T07:25:36.905Z"
   },
   {
    "duration": 0,
    "start_time": "2022-08-15T07:25:36.906Z"
   },
   {
    "duration": 0,
    "start_time": "2022-08-15T07:25:36.907Z"
   },
   {
    "duration": 0,
    "start_time": "2022-08-15T07:25:36.907Z"
   },
   {
    "duration": 0,
    "start_time": "2022-08-15T07:25:36.908Z"
   },
   {
    "duration": 0,
    "start_time": "2022-08-15T07:25:36.909Z"
   },
   {
    "duration": 0,
    "start_time": "2022-08-15T07:25:36.910Z"
   },
   {
    "duration": 0,
    "start_time": "2022-08-15T07:25:36.911Z"
   },
   {
    "duration": 1495,
    "start_time": "2022-08-15T07:27:53.082Z"
   },
   {
    "duration": 723,
    "start_time": "2022-08-15T07:27:54.579Z"
   },
   {
    "duration": 23,
    "start_time": "2022-08-15T07:27:55.303Z"
   },
   {
    "duration": 24,
    "start_time": "2022-08-15T07:27:55.327Z"
   },
   {
    "duration": 19,
    "start_time": "2022-08-15T07:27:55.354Z"
   },
   {
    "duration": 26,
    "start_time": "2022-08-15T07:27:55.375Z"
   },
   {
    "duration": 9,
    "start_time": "2022-08-15T07:27:55.402Z"
   },
   {
    "duration": 17,
    "start_time": "2022-08-15T07:27:55.413Z"
   },
   {
    "duration": 13,
    "start_time": "2022-08-15T07:27:55.431Z"
   },
   {
    "duration": 9,
    "start_time": "2022-08-15T07:27:55.446Z"
   },
   {
    "duration": 14,
    "start_time": "2022-08-15T07:27:55.457Z"
   },
   {
    "duration": 5,
    "start_time": "2022-08-15T07:27:55.474Z"
   },
   {
    "duration": 144,
    "start_time": "2022-08-15T07:27:55.481Z"
   },
   {
    "duration": 29,
    "start_time": "2022-08-15T07:27:55.627Z"
   },
   {
    "duration": 114,
    "start_time": "2022-08-15T07:27:55.659Z"
   },
   {
    "duration": 228,
    "start_time": "2022-08-15T07:27:55.775Z"
   },
   {
    "duration": 198,
    "start_time": "2022-08-15T07:27:56.004Z"
   },
   {
    "duration": 280,
    "start_time": "2022-08-15T07:27:56.204Z"
   },
   {
    "duration": 434,
    "start_time": "2022-08-15T07:27:56.485Z"
   },
   {
    "duration": 382,
    "start_time": "2022-08-15T07:27:56.921Z"
   },
   {
    "duration": 19,
    "start_time": "2022-08-15T07:27:57.305Z"
   },
   {
    "duration": 1299,
    "start_time": "2022-08-15T07:27:57.325Z"
   },
   {
    "duration": 224,
    "start_time": "2022-08-15T07:27:58.625Z"
   },
   {
    "duration": 19,
    "start_time": "2022-08-15T07:27:58.851Z"
   },
   {
    "duration": 7,
    "start_time": "2022-08-15T07:27:58.872Z"
   },
   {
    "duration": 23,
    "start_time": "2022-08-15T07:27:58.880Z"
   },
   {
    "duration": 13,
    "start_time": "2022-08-15T07:27:58.905Z"
   },
   {
    "duration": 34,
    "start_time": "2022-08-15T07:27:58.920Z"
   },
   {
    "duration": 19,
    "start_time": "2022-08-15T07:27:58.956Z"
   },
   {
    "duration": 25,
    "start_time": "2022-08-15T07:27:58.976Z"
   },
   {
    "duration": 24,
    "start_time": "2022-08-15T07:27:59.002Z"
   },
   {
    "duration": 11611,
    "start_time": "2022-08-15T07:27:59.028Z"
   },
   {
    "duration": 35571,
    "start_time": "2022-08-15T07:28:10.640Z"
   },
   {
    "duration": 1198,
    "start_time": "2022-08-15T07:28:46.213Z"
   },
   {
    "duration": 1533,
    "start_time": "2022-08-15T07:28:47.414Z"
   },
   {
    "duration": 2,
    "start_time": "2022-08-15T07:32:29.757Z"
   },
   {
    "duration": 4,
    "start_time": "2022-08-15T07:49:29.271Z"
   },
   {
    "duration": 7,
    "start_time": "2022-08-15T07:49:44.350Z"
   },
   {
    "duration": 5,
    "start_time": "2022-08-15T07:50:10.000Z"
   },
   {
    "duration": 1533,
    "start_time": "2022-08-15T07:50:32.276Z"
   },
   {
    "duration": 730,
    "start_time": "2022-08-15T07:50:33.811Z"
   },
   {
    "duration": 23,
    "start_time": "2022-08-15T07:50:34.543Z"
   },
   {
    "duration": 40,
    "start_time": "2022-08-15T07:50:34.569Z"
   },
   {
    "duration": 24,
    "start_time": "2022-08-15T07:50:34.611Z"
   },
   {
    "duration": 4,
    "start_time": "2022-08-15T07:50:34.637Z"
   },
   {
    "duration": 11,
    "start_time": "2022-08-15T07:50:34.643Z"
   },
   {
    "duration": 18,
    "start_time": "2022-08-15T07:50:34.655Z"
   },
   {
    "duration": 29,
    "start_time": "2022-08-15T07:50:34.675Z"
   },
   {
    "duration": 5,
    "start_time": "2022-08-15T07:50:34.707Z"
   },
   {
    "duration": 19,
    "start_time": "2022-08-15T07:50:34.714Z"
   },
   {
    "duration": 6,
    "start_time": "2022-08-15T07:50:34.735Z"
   },
   {
    "duration": 132,
    "start_time": "2022-08-15T07:50:34.743Z"
   },
   {
    "duration": 41,
    "start_time": "2022-08-15T07:50:34.877Z"
   },
   {
    "duration": 112,
    "start_time": "2022-08-15T07:50:34.920Z"
   },
   {
    "duration": 217,
    "start_time": "2022-08-15T07:50:35.034Z"
   },
   {
    "duration": 200,
    "start_time": "2022-08-15T07:50:35.252Z"
   },
   {
    "duration": 210,
    "start_time": "2022-08-15T07:50:35.454Z"
   },
   {
    "duration": 531,
    "start_time": "2022-08-15T07:50:35.666Z"
   },
   {
    "duration": 402,
    "start_time": "2022-08-15T07:50:36.198Z"
   },
   {
    "duration": 15,
    "start_time": "2022-08-15T07:50:36.602Z"
   },
   {
    "duration": 1028,
    "start_time": "2022-08-15T07:50:36.619Z"
   },
   {
    "duration": 253,
    "start_time": "2022-08-15T07:50:37.649Z"
   },
   {
    "duration": 20,
    "start_time": "2022-08-15T07:50:37.904Z"
   },
   {
    "duration": 8,
    "start_time": "2022-08-15T07:50:37.926Z"
   },
   {
    "duration": 7,
    "start_time": "2022-08-15T07:50:37.937Z"
   },
   {
    "duration": 52,
    "start_time": "2022-08-15T07:50:37.946Z"
   },
   {
    "duration": 12,
    "start_time": "2022-08-15T07:50:38.001Z"
   },
   {
    "duration": 53,
    "start_time": "2022-08-15T07:50:38.015Z"
   },
   {
    "duration": 21,
    "start_time": "2022-08-15T07:50:38.070Z"
   },
   {
    "duration": 9,
    "start_time": "2022-08-15T07:50:38.093Z"
   },
   {
    "duration": 26,
    "start_time": "2022-08-15T07:50:38.104Z"
   },
   {
    "duration": 11594,
    "start_time": "2022-08-15T07:50:38.132Z"
   },
   {
    "duration": 36176,
    "start_time": "2022-08-15T07:50:49.728Z"
   },
   {
    "duration": 711,
    "start_time": "2022-08-15T07:51:25.906Z"
   },
   {
    "duration": 1477,
    "start_time": "2022-08-15T07:51:26.702Z"
   },
   {
    "duration": 3,
    "start_time": "2022-08-15T07:51:28.181Z"
   },
   {
    "duration": 3,
    "start_time": "2022-08-15T07:53:32.758Z"
   },
   {
    "duration": 1396,
    "start_time": "2022-08-15T07:58:21.958Z"
   },
   {
    "duration": 10,
    "start_time": "2022-08-15T08:08:53.590Z"
   },
   {
    "duration": 9,
    "start_time": "2022-08-15T08:08:56.164Z"
   },
   {
    "duration": 10,
    "start_time": "2022-08-15T08:09:17.958Z"
   },
   {
    "duration": 9,
    "start_time": "2022-08-15T08:11:34.711Z"
   },
   {
    "duration": 10,
    "start_time": "2022-08-15T08:12:36.412Z"
   },
   {
    "duration": 1373,
    "start_time": "2022-08-15T08:25:32.831Z"
   },
   {
    "duration": 688,
    "start_time": "2022-08-15T08:25:34.206Z"
   },
   {
    "duration": 27,
    "start_time": "2022-08-15T08:25:34.896Z"
   },
   {
    "duration": 22,
    "start_time": "2022-08-15T08:25:34.926Z"
   },
   {
    "duration": 22,
    "start_time": "2022-08-15T08:25:34.950Z"
   },
   {
    "duration": 27,
    "start_time": "2022-08-15T08:25:34.973Z"
   },
   {
    "duration": 3,
    "start_time": "2022-08-15T08:25:35.002Z"
   },
   {
    "duration": 28,
    "start_time": "2022-08-15T08:25:35.006Z"
   },
   {
    "duration": 5,
    "start_time": "2022-08-15T08:25:35.035Z"
   },
   {
    "duration": 6,
    "start_time": "2022-08-15T08:25:35.043Z"
   },
   {
    "duration": 16,
    "start_time": "2022-08-15T08:25:35.050Z"
   },
   {
    "duration": 9,
    "start_time": "2022-08-15T08:25:35.068Z"
   },
   {
    "duration": 127,
    "start_time": "2022-08-15T08:25:35.079Z"
   },
   {
    "duration": 23,
    "start_time": "2022-08-15T08:25:35.207Z"
   },
   {
    "duration": 110,
    "start_time": "2022-08-15T08:25:35.232Z"
   },
   {
    "duration": 212,
    "start_time": "2022-08-15T08:25:35.343Z"
   },
   {
    "duration": 194,
    "start_time": "2022-08-15T08:25:35.556Z"
   },
   {
    "duration": 197,
    "start_time": "2022-08-15T08:25:35.752Z"
   },
   {
    "duration": 532,
    "start_time": "2022-08-15T08:25:35.951Z"
   },
   {
    "duration": 426,
    "start_time": "2022-08-15T08:25:36.485Z"
   },
   {
    "duration": 15,
    "start_time": "2022-08-15T08:25:36.913Z"
   },
   {
    "duration": 977,
    "start_time": "2022-08-15T08:25:36.930Z"
   },
   {
    "duration": 235,
    "start_time": "2022-08-15T08:25:37.908Z"
   },
   {
    "duration": 19,
    "start_time": "2022-08-15T08:25:38.144Z"
   },
   {
    "duration": 7,
    "start_time": "2022-08-15T08:25:38.166Z"
   },
   {
    "duration": 13,
    "start_time": "2022-08-15T08:25:38.175Z"
   },
   {
    "duration": 11,
    "start_time": "2022-08-15T08:25:38.190Z"
   },
   {
    "duration": 21,
    "start_time": "2022-08-15T08:25:38.205Z"
   },
   {
    "duration": 32,
    "start_time": "2022-08-15T08:25:38.228Z"
   },
   {
    "duration": 19,
    "start_time": "2022-08-15T08:25:38.262Z"
   },
   {
    "duration": 7,
    "start_time": "2022-08-15T08:25:38.283Z"
   },
   {
    "duration": 23,
    "start_time": "2022-08-15T08:25:38.292Z"
   },
   {
    "duration": 11192,
    "start_time": "2022-08-15T08:25:38.317Z"
   },
   {
    "duration": 35162,
    "start_time": "2022-08-15T08:25:49.511Z"
   },
   {
    "duration": 3228,
    "start_time": "2022-08-15T08:26:24.675Z"
   },
   {
    "duration": 1438,
    "start_time": "2022-08-15T08:26:27.909Z"
   },
   {
    "duration": 9,
    "start_time": "2022-08-15T08:26:29.349Z"
   },
   {
    "duration": 30,
    "start_time": "2022-08-15T08:26:29.360Z"
   },
   {
    "duration": 4,
    "start_time": "2022-08-15T08:27:57.857Z"
   },
   {
    "duration": 1437,
    "start_time": "2022-08-15T08:28:02.754Z"
   },
   {
    "duration": 758,
    "start_time": "2022-08-15T08:28:04.194Z"
   },
   {
    "duration": 23,
    "start_time": "2022-08-15T08:28:04.953Z"
   },
   {
    "duration": 34,
    "start_time": "2022-08-15T08:28:04.978Z"
   },
   {
    "duration": 25,
    "start_time": "2022-08-15T08:28:05.014Z"
   },
   {
    "duration": 9,
    "start_time": "2022-08-15T08:28:05.040Z"
   },
   {
    "duration": 26,
    "start_time": "2022-08-15T08:28:05.051Z"
   },
   {
    "duration": 32,
    "start_time": "2022-08-15T08:28:05.079Z"
   },
   {
    "duration": 34,
    "start_time": "2022-08-15T08:28:05.113Z"
   },
   {
    "duration": 36,
    "start_time": "2022-08-15T08:28:05.150Z"
   },
   {
    "duration": 24,
    "start_time": "2022-08-15T08:28:05.188Z"
   },
   {
    "duration": 26,
    "start_time": "2022-08-15T08:28:05.214Z"
   },
   {
    "duration": 152,
    "start_time": "2022-08-15T08:28:05.242Z"
   },
   {
    "duration": 24,
    "start_time": "2022-08-15T08:28:05.401Z"
   },
   {
    "duration": 116,
    "start_time": "2022-08-15T08:28:05.427Z"
   },
   {
    "duration": 217,
    "start_time": "2022-08-15T08:28:05.545Z"
   },
   {
    "duration": 212,
    "start_time": "2022-08-15T08:28:05.763Z"
   },
   {
    "duration": 199,
    "start_time": "2022-08-15T08:28:05.977Z"
   },
   {
    "duration": 529,
    "start_time": "2022-08-15T08:28:06.178Z"
   },
   {
    "duration": 498,
    "start_time": "2022-08-15T08:28:06.708Z"
   },
   {
    "duration": 15,
    "start_time": "2022-08-15T08:28:07.208Z"
   },
   {
    "duration": 1090,
    "start_time": "2022-08-15T08:28:07.224Z"
   },
   {
    "duration": 216,
    "start_time": "2022-08-15T08:28:08.316Z"
   },
   {
    "duration": 18,
    "start_time": "2022-08-15T08:28:08.534Z"
   },
   {
    "duration": 9,
    "start_time": "2022-08-15T08:28:08.554Z"
   },
   {
    "duration": 19,
    "start_time": "2022-08-15T08:28:08.565Z"
   },
   {
    "duration": 26,
    "start_time": "2022-08-15T08:28:08.586Z"
   },
   {
    "duration": 33,
    "start_time": "2022-08-15T08:28:08.615Z"
   },
   {
    "duration": 53,
    "start_time": "2022-08-15T08:28:08.649Z"
   },
   {
    "duration": 20,
    "start_time": "2022-08-15T08:28:08.703Z"
   },
   {
    "duration": 11,
    "start_time": "2022-08-15T08:28:08.725Z"
   },
   {
    "duration": 36,
    "start_time": "2022-08-15T08:28:08.737Z"
   },
   {
    "duration": 11135,
    "start_time": "2022-08-15T08:28:08.775Z"
   },
   {
    "duration": 34879,
    "start_time": "2022-08-15T08:28:19.912Z"
   },
   {
    "duration": 1017,
    "start_time": "2022-08-15T08:28:54.793Z"
   },
   {
    "duration": 1539,
    "start_time": "2022-08-15T08:28:55.812Z"
   },
   {
    "duration": 117,
    "start_time": "2022-08-15T08:28:57.353Z"
   },
   {
    "duration": 0,
    "start_time": "2022-08-15T08:28:57.472Z"
   },
   {
    "duration": 6,
    "start_time": "2022-08-15T08:29:39.630Z"
   },
   {
    "duration": 1473,
    "start_time": "2022-08-15T08:29:46.477Z"
   },
   {
    "duration": 658,
    "start_time": "2022-08-15T08:29:47.952Z"
   },
   {
    "duration": 24,
    "start_time": "2022-08-15T08:29:48.611Z"
   },
   {
    "duration": 19,
    "start_time": "2022-08-15T08:29:48.638Z"
   },
   {
    "duration": 45,
    "start_time": "2022-08-15T08:29:48.659Z"
   },
   {
    "duration": 3,
    "start_time": "2022-08-15T08:29:48.706Z"
   },
   {
    "duration": 6,
    "start_time": "2022-08-15T08:29:48.710Z"
   },
   {
    "duration": 11,
    "start_time": "2022-08-15T08:29:48.717Z"
   },
   {
    "duration": 9,
    "start_time": "2022-08-15T08:29:48.730Z"
   },
   {
    "duration": 3,
    "start_time": "2022-08-15T08:29:48.742Z"
   },
   {
    "duration": 7,
    "start_time": "2022-08-15T08:29:48.747Z"
   },
   {
    "duration": 5,
    "start_time": "2022-08-15T08:29:48.755Z"
   },
   {
    "duration": 143,
    "start_time": "2022-08-15T08:29:48.762Z"
   },
   {
    "duration": 26,
    "start_time": "2022-08-15T08:29:48.907Z"
   },
   {
    "duration": 113,
    "start_time": "2022-08-15T08:29:48.934Z"
   },
   {
    "duration": 209,
    "start_time": "2022-08-15T08:29:49.049Z"
   },
   {
    "duration": 193,
    "start_time": "2022-08-15T08:29:49.259Z"
   },
   {
    "duration": 230,
    "start_time": "2022-08-15T08:29:49.454Z"
   },
   {
    "duration": 520,
    "start_time": "2022-08-15T08:29:49.686Z"
   },
   {
    "duration": 410,
    "start_time": "2022-08-15T08:29:50.209Z"
   },
   {
    "duration": 19,
    "start_time": "2022-08-15T08:29:50.621Z"
   },
   {
    "duration": 1184,
    "start_time": "2022-08-15T08:29:50.643Z"
   },
   {
    "duration": 218,
    "start_time": "2022-08-15T08:29:51.828Z"
   },
   {
    "duration": 17,
    "start_time": "2022-08-15T08:29:52.048Z"
   },
   {
    "duration": 6,
    "start_time": "2022-08-15T08:29:52.067Z"
   },
   {
    "duration": 15,
    "start_time": "2022-08-15T08:29:52.075Z"
   },
   {
    "duration": 4,
    "start_time": "2022-08-15T08:29:52.101Z"
   },
   {
    "duration": 27,
    "start_time": "2022-08-15T08:29:52.108Z"
   },
   {
    "duration": 33,
    "start_time": "2022-08-15T08:29:52.137Z"
   },
   {
    "duration": 20,
    "start_time": "2022-08-15T08:29:52.171Z"
   },
   {
    "duration": 7,
    "start_time": "2022-08-15T08:29:52.193Z"
   },
   {
    "duration": 40,
    "start_time": "2022-08-15T08:29:52.201Z"
   },
   {
    "duration": 11103,
    "start_time": "2022-08-15T08:29:52.243Z"
   },
   {
    "duration": 34977,
    "start_time": "2022-08-15T08:30:03.348Z"
   },
   {
    "duration": 984,
    "start_time": "2022-08-15T08:30:38.326Z"
   },
   {
    "duration": 1565,
    "start_time": "2022-08-15T08:30:39.312Z"
   },
   {
    "duration": 8,
    "start_time": "2022-08-15T08:30:40.879Z"
   },
   {
    "duration": 17,
    "start_time": "2022-08-15T08:30:40.889Z"
   },
   {
    "duration": 9,
    "start_time": "2022-08-15T08:31:10.952Z"
   },
   {
    "duration": 42,
    "start_time": "2022-08-15T15:18:07.877Z"
   },
   {
    "duration": 1380,
    "start_time": "2022-08-15T15:18:17.896Z"
   },
   {
    "duration": 3097,
    "start_time": "2022-08-15T15:18:19.278Z"
   },
   {
    "duration": 20,
    "start_time": "2022-08-15T15:18:22.377Z"
   },
   {
    "duration": 16,
    "start_time": "2022-08-15T15:18:22.399Z"
   },
   {
    "duration": 22,
    "start_time": "2022-08-15T15:18:22.417Z"
   },
   {
    "duration": 3,
    "start_time": "2022-08-15T15:18:22.441Z"
   },
   {
    "duration": 5,
    "start_time": "2022-08-15T15:18:22.445Z"
   },
   {
    "duration": 10,
    "start_time": "2022-08-15T15:18:22.452Z"
   },
   {
    "duration": 5,
    "start_time": "2022-08-15T15:18:22.463Z"
   },
   {
    "duration": 4,
    "start_time": "2022-08-15T15:18:22.469Z"
   },
   {
    "duration": 8,
    "start_time": "2022-08-15T15:18:22.474Z"
   },
   {
    "duration": 4,
    "start_time": "2022-08-15T15:18:22.483Z"
   },
   {
    "duration": 131,
    "start_time": "2022-08-15T15:18:22.489Z"
   },
   {
    "duration": 33,
    "start_time": "2022-08-15T15:18:22.622Z"
   },
   {
    "duration": 93,
    "start_time": "2022-08-15T15:18:22.656Z"
   },
   {
    "duration": 202,
    "start_time": "2022-08-15T15:18:22.751Z"
   },
   {
    "duration": 174,
    "start_time": "2022-08-15T15:18:22.955Z"
   },
   {
    "duration": 250,
    "start_time": "2022-08-15T15:18:23.131Z"
   },
   {
    "duration": 447,
    "start_time": "2022-08-15T15:18:23.383Z"
   },
   {
    "duration": 423,
    "start_time": "2022-08-15T15:18:23.832Z"
   },
   {
    "duration": 14,
    "start_time": "2022-08-15T15:18:24.257Z"
   },
   {
    "duration": 1066,
    "start_time": "2022-08-15T15:18:24.272Z"
   },
   {
    "duration": 208,
    "start_time": "2022-08-15T15:18:25.340Z"
   },
   {
    "duration": 15,
    "start_time": "2022-08-15T15:18:25.550Z"
   },
   {
    "duration": 6,
    "start_time": "2022-08-15T15:18:25.566Z"
   },
   {
    "duration": 5,
    "start_time": "2022-08-15T15:18:25.573Z"
   },
   {
    "duration": 5,
    "start_time": "2022-08-15T15:18:25.579Z"
   },
   {
    "duration": 6,
    "start_time": "2022-08-15T15:18:25.585Z"
   },
   {
    "duration": 23,
    "start_time": "2022-08-15T15:18:25.593Z"
   },
   {
    "duration": 33,
    "start_time": "2022-08-15T15:18:25.617Z"
   },
   {
    "duration": 6,
    "start_time": "2022-08-15T15:18:25.651Z"
   },
   {
    "duration": 17,
    "start_time": "2022-08-15T15:18:25.658Z"
   },
   {
    "duration": 11279,
    "start_time": "2022-08-15T15:18:25.676Z"
   },
   {
    "duration": 1182,
    "start_time": "2022-08-15T15:23:09.985Z"
   },
   {
    "duration": 600,
    "start_time": "2022-08-15T15:23:11.169Z"
   },
   {
    "duration": 20,
    "start_time": "2022-08-15T15:23:11.770Z"
   },
   {
    "duration": 15,
    "start_time": "2022-08-15T15:23:11.791Z"
   },
   {
    "duration": 33,
    "start_time": "2022-08-15T15:23:11.808Z"
   },
   {
    "duration": 3,
    "start_time": "2022-08-15T15:23:11.843Z"
   },
   {
    "duration": 11,
    "start_time": "2022-08-15T15:23:11.848Z"
   },
   {
    "duration": 10,
    "start_time": "2022-08-15T15:23:11.860Z"
   },
   {
    "duration": 4,
    "start_time": "2022-08-15T15:23:11.871Z"
   },
   {
    "duration": 10,
    "start_time": "2022-08-15T15:23:11.877Z"
   },
   {
    "duration": 17,
    "start_time": "2022-08-15T15:23:11.888Z"
   },
   {
    "duration": 19,
    "start_time": "2022-08-15T15:23:11.906Z"
   },
   {
    "duration": 117,
    "start_time": "2022-08-15T15:23:11.926Z"
   },
   {
    "duration": 21,
    "start_time": "2022-08-15T15:23:12.044Z"
   },
   {
    "duration": 94,
    "start_time": "2022-08-15T15:23:12.067Z"
   },
   {
    "duration": 196,
    "start_time": "2022-08-15T15:23:12.162Z"
   },
   {
    "duration": 172,
    "start_time": "2022-08-15T15:23:12.359Z"
   },
   {
    "duration": 179,
    "start_time": "2022-08-15T15:23:12.538Z"
   },
   {
    "duration": 482,
    "start_time": "2022-08-15T15:23:12.719Z"
   },
   {
    "duration": 430,
    "start_time": "2022-08-15T15:23:13.203Z"
   },
   {
    "duration": 14,
    "start_time": "2022-08-15T15:23:13.637Z"
   },
   {
    "duration": 992,
    "start_time": "2022-08-15T15:23:13.652Z"
   },
   {
    "duration": 201,
    "start_time": "2022-08-15T15:23:14.646Z"
   },
   {
    "duration": 15,
    "start_time": "2022-08-15T15:23:14.848Z"
   },
   {
    "duration": 5,
    "start_time": "2022-08-15T15:23:14.864Z"
   },
   {
    "duration": 8,
    "start_time": "2022-08-15T15:23:14.871Z"
   },
   {
    "duration": 19,
    "start_time": "2022-08-15T15:23:14.880Z"
   },
   {
    "duration": 25,
    "start_time": "2022-08-15T15:23:14.902Z"
   },
   {
    "duration": 31,
    "start_time": "2022-08-15T15:23:14.929Z"
   },
   {
    "duration": 15,
    "start_time": "2022-08-15T15:23:14.961Z"
   },
   {
    "duration": 5,
    "start_time": "2022-08-15T15:23:14.977Z"
   },
   {
    "duration": 19,
    "start_time": "2022-08-15T15:23:14.983Z"
   },
   {
    "duration": 11200,
    "start_time": "2022-08-15T15:23:15.004Z"
   },
   {
    "duration": 1095,
    "start_time": "2022-08-15T15:26:35.444Z"
   },
   {
    "duration": 1459,
    "start_time": "2022-08-15T15:26:36.542Z"
   },
   {
    "duration": 8,
    "start_time": "2022-08-15T15:26:38.003Z"
   },
   {
    "duration": 9,
    "start_time": "2022-08-15T15:26:38.013Z"
   },
   {
    "duration": 34961,
    "start_time": "2022-08-15T15:28:05.376Z"
   },
   {
    "duration": 1384,
    "start_time": "2022-08-15T15:28:48.071Z"
   },
   {
    "duration": 659,
    "start_time": "2022-08-15T15:28:49.457Z"
   },
   {
    "duration": 27,
    "start_time": "2022-08-15T15:28:50.118Z"
   },
   {
    "duration": 17,
    "start_time": "2022-08-15T15:28:50.147Z"
   },
   {
    "duration": 16,
    "start_time": "2022-08-15T15:28:50.166Z"
   },
   {
    "duration": 8,
    "start_time": "2022-08-15T15:28:50.183Z"
   },
   {
    "duration": 14,
    "start_time": "2022-08-15T15:28:50.192Z"
   },
   {
    "duration": 12,
    "start_time": "2022-08-15T15:28:50.207Z"
   },
   {
    "duration": 19,
    "start_time": "2022-08-15T15:28:50.220Z"
   },
   {
    "duration": 3,
    "start_time": "2022-08-15T15:28:50.240Z"
   },
   {
    "duration": 7,
    "start_time": "2022-08-15T15:28:50.245Z"
   },
   {
    "duration": 7,
    "start_time": "2022-08-15T15:28:50.253Z"
   },
   {
    "duration": 136,
    "start_time": "2022-08-15T15:28:50.261Z"
   },
   {
    "duration": 23,
    "start_time": "2022-08-15T15:28:50.400Z"
   },
   {
    "duration": 98,
    "start_time": "2022-08-15T15:28:50.424Z"
   },
   {
    "duration": 214,
    "start_time": "2022-08-15T15:28:50.524Z"
   },
   {
    "duration": 185,
    "start_time": "2022-08-15T15:28:50.740Z"
   },
   {
    "duration": 197,
    "start_time": "2022-08-15T15:28:50.926Z"
   },
   {
    "duration": 496,
    "start_time": "2022-08-15T15:28:51.125Z"
   },
   {
    "duration": 407,
    "start_time": "2022-08-15T15:28:51.623Z"
   },
   {
    "duration": 15,
    "start_time": "2022-08-15T15:28:52.032Z"
   },
   {
    "duration": 984,
    "start_time": "2022-08-15T15:28:52.048Z"
   },
   {
    "duration": 209,
    "start_time": "2022-08-15T15:28:53.034Z"
   },
   {
    "duration": 16,
    "start_time": "2022-08-15T15:28:53.245Z"
   },
   {
    "duration": 6,
    "start_time": "2022-08-15T15:28:53.263Z"
   },
   {
    "duration": 27,
    "start_time": "2022-08-15T15:28:53.271Z"
   },
   {
    "duration": 21,
    "start_time": "2022-08-15T15:28:53.299Z"
   },
   {
    "duration": 36,
    "start_time": "2022-08-15T15:28:53.321Z"
   },
   {
    "duration": 47,
    "start_time": "2022-08-15T15:28:53.358Z"
   },
   {
    "duration": 15,
    "start_time": "2022-08-15T15:28:53.407Z"
   },
   {
    "duration": 7,
    "start_time": "2022-08-15T15:28:53.423Z"
   },
   {
    "duration": 33,
    "start_time": "2022-08-15T15:28:53.431Z"
   },
   {
    "duration": 11269,
    "start_time": "2022-08-15T15:28:53.465Z"
   },
   {
    "duration": 34945,
    "start_time": "2022-08-15T15:29:04.738Z"
   },
   {
    "duration": 1155,
    "start_time": "2022-08-15T15:29:39.684Z"
   },
   {
    "duration": 1456,
    "start_time": "2022-08-15T15:29:40.841Z"
   },
   {
    "duration": 7,
    "start_time": "2022-08-15T15:29:42.298Z"
   },
   {
    "duration": 28,
    "start_time": "2022-08-15T15:29:42.306Z"
   },
   {
    "duration": 52103,
    "start_time": "2022-08-15T15:43:38.278Z"
   },
   {
    "duration": 106911,
    "start_time": "2022-08-15T15:51:15.884Z"
   },
   {
    "duration": 1440,
    "start_time": "2022-08-15T15:56:55.014Z"
   },
   {
    "duration": 12194,
    "start_time": "2022-08-15T16:24:09.795Z"
   },
   {
    "duration": 47920,
    "start_time": "2022-08-15T16:24:43.924Z"
   },
   {
    "duration": 12350,
    "start_time": "2022-08-15T16:25:47.408Z"
   },
   {
    "duration": 1238,
    "start_time": "2022-08-15T17:10:09.788Z"
   },
   {
    "duration": 642,
    "start_time": "2022-08-15T17:10:11.028Z"
   },
   {
    "duration": 23,
    "start_time": "2022-08-15T17:10:11.672Z"
   },
   {
    "duration": 18,
    "start_time": "2022-08-15T17:10:11.697Z"
   },
   {
    "duration": 35,
    "start_time": "2022-08-15T17:10:11.716Z"
   },
   {
    "duration": 3,
    "start_time": "2022-08-15T17:10:11.752Z"
   },
   {
    "duration": 4,
    "start_time": "2022-08-15T17:10:11.757Z"
   },
   {
    "duration": 10,
    "start_time": "2022-08-15T17:10:11.763Z"
   },
   {
    "duration": 4,
    "start_time": "2022-08-15T17:10:11.775Z"
   },
   {
    "duration": 3,
    "start_time": "2022-08-15T17:10:11.782Z"
   },
   {
    "duration": 12,
    "start_time": "2022-08-15T17:10:11.787Z"
   },
   {
    "duration": 4,
    "start_time": "2022-08-15T17:10:11.801Z"
   },
   {
    "duration": 146,
    "start_time": "2022-08-15T17:10:11.806Z"
   },
   {
    "duration": 29,
    "start_time": "2022-08-15T17:10:11.954Z"
   },
   {
    "duration": 100,
    "start_time": "2022-08-15T17:10:11.984Z"
   },
   {
    "duration": 221,
    "start_time": "2022-08-15T17:10:12.086Z"
   },
   {
    "duration": 182,
    "start_time": "2022-08-15T17:10:12.309Z"
   },
   {
    "duration": 187,
    "start_time": "2022-08-15T17:10:12.493Z"
   },
   {
    "duration": 445,
    "start_time": "2022-08-15T17:10:12.681Z"
   },
   {
    "duration": 415,
    "start_time": "2022-08-15T17:10:13.127Z"
   },
   {
    "duration": 14,
    "start_time": "2022-08-15T17:10:13.544Z"
   },
   {
    "duration": 1094,
    "start_time": "2022-08-15T17:10:13.559Z"
   },
   {
    "duration": 219,
    "start_time": "2022-08-15T17:10:14.655Z"
   },
   {
    "duration": 16,
    "start_time": "2022-08-15T17:10:14.875Z"
   },
   {
    "duration": 6,
    "start_time": "2022-08-15T17:10:14.892Z"
   },
   {
    "duration": 4,
    "start_time": "2022-08-15T17:10:14.900Z"
   },
   {
    "duration": 6,
    "start_time": "2022-08-15T17:10:14.906Z"
   },
   {
    "duration": 8,
    "start_time": "2022-08-15T17:10:14.914Z"
   },
   {
    "duration": 34,
    "start_time": "2022-08-15T17:10:14.923Z"
   },
   {
    "duration": 15,
    "start_time": "2022-08-15T17:10:14.958Z"
   },
   {
    "duration": 6,
    "start_time": "2022-08-15T17:10:14.974Z"
   },
   {
    "duration": 18,
    "start_time": "2022-08-15T17:10:14.981Z"
   },
   {
    "duration": 11989,
    "start_time": "2022-08-15T17:10:15.001Z"
   },
   {
    "duration": 4051,
    "start_time": "2022-08-15T17:16:58.294Z"
   },
   {
    "duration": 1569,
    "start_time": "2022-08-15T17:17:02.347Z"
   },
   {
    "duration": 7,
    "start_time": "2022-08-15T17:17:03.918Z"
   },
   {
    "duration": 23,
    "start_time": "2022-08-15T17:17:03.927Z"
   },
   {
    "duration": 1266,
    "start_time": "2022-08-15T17:21:42.490Z"
   },
   {
    "duration": 673,
    "start_time": "2022-08-15T17:21:43.758Z"
   },
   {
    "duration": 32,
    "start_time": "2022-08-15T17:21:44.433Z"
   },
   {
    "duration": 23,
    "start_time": "2022-08-15T17:21:44.467Z"
   },
   {
    "duration": 17,
    "start_time": "2022-08-15T17:21:44.492Z"
   },
   {
    "duration": 4,
    "start_time": "2022-08-15T17:21:44.511Z"
   },
   {
    "duration": 6,
    "start_time": "2022-08-15T17:21:44.516Z"
   },
   {
    "duration": 24,
    "start_time": "2022-08-15T17:21:44.523Z"
   },
   {
    "duration": 8,
    "start_time": "2022-08-15T17:21:44.550Z"
   },
   {
    "duration": 6,
    "start_time": "2022-08-15T17:21:44.560Z"
   },
   {
    "duration": 9,
    "start_time": "2022-08-15T17:21:44.568Z"
   },
   {
    "duration": 4,
    "start_time": "2022-08-15T17:21:44.578Z"
   },
   {
    "duration": 133,
    "start_time": "2022-08-15T17:21:44.584Z"
   },
   {
    "duration": 34,
    "start_time": "2022-08-15T17:21:44.720Z"
   },
   {
    "duration": 98,
    "start_time": "2022-08-15T17:21:44.755Z"
   },
   {
    "duration": 210,
    "start_time": "2022-08-15T17:21:44.855Z"
   },
   {
    "duration": 196,
    "start_time": "2022-08-15T17:21:45.067Z"
   },
   {
    "duration": 206,
    "start_time": "2022-08-15T17:21:45.265Z"
   },
   {
    "duration": 477,
    "start_time": "2022-08-15T17:21:45.473Z"
   },
   {
    "duration": 446,
    "start_time": "2022-08-15T17:21:45.951Z"
   },
   {
    "duration": 15,
    "start_time": "2022-08-15T17:21:46.399Z"
   },
   {
    "duration": 1151,
    "start_time": "2022-08-15T17:21:46.415Z"
   },
   {
    "duration": 225,
    "start_time": "2022-08-15T17:21:47.567Z"
   },
   {
    "duration": 15,
    "start_time": "2022-08-15T17:21:47.794Z"
   },
   {
    "duration": 6,
    "start_time": "2022-08-15T17:21:47.810Z"
   },
   {
    "duration": 33,
    "start_time": "2022-08-15T17:21:47.818Z"
   },
   {
    "duration": 7,
    "start_time": "2022-08-15T17:21:47.852Z"
   },
   {
    "duration": 8,
    "start_time": "2022-08-15T17:21:47.860Z"
   },
   {
    "duration": 28,
    "start_time": "2022-08-15T17:21:47.870Z"
   },
   {
    "duration": 15,
    "start_time": "2022-08-15T17:21:47.900Z"
   },
   {
    "duration": 7,
    "start_time": "2022-08-15T17:21:47.916Z"
   },
   {
    "duration": 27,
    "start_time": "2022-08-15T17:21:47.924Z"
   },
   {
    "duration": 12325,
    "start_time": "2022-08-15T17:21:47.953Z"
   },
   {
    "duration": 1332,
    "start_time": "2022-08-15T17:28:29.354Z"
   },
   {
    "duration": 680,
    "start_time": "2022-08-15T17:28:30.687Z"
   },
   {
    "duration": 21,
    "start_time": "2022-08-15T17:28:31.369Z"
   },
   {
    "duration": 40,
    "start_time": "2022-08-15T17:28:31.392Z"
   },
   {
    "duration": 17,
    "start_time": "2022-08-15T17:28:31.433Z"
   },
   {
    "duration": 3,
    "start_time": "2022-08-15T17:28:31.451Z"
   },
   {
    "duration": 7,
    "start_time": "2022-08-15T17:28:31.456Z"
   },
   {
    "duration": 11,
    "start_time": "2022-08-15T17:28:31.464Z"
   },
   {
    "duration": 5,
    "start_time": "2022-08-15T17:28:31.476Z"
   },
   {
    "duration": 6,
    "start_time": "2022-08-15T17:28:31.483Z"
   },
   {
    "duration": 9,
    "start_time": "2022-08-15T17:28:31.490Z"
   },
   {
    "duration": 9,
    "start_time": "2022-08-15T17:28:31.500Z"
   },
   {
    "duration": 137,
    "start_time": "2022-08-15T17:28:31.510Z"
   },
   {
    "duration": 23,
    "start_time": "2022-08-15T17:28:31.648Z"
   },
   {
    "duration": 111,
    "start_time": "2022-08-15T17:28:31.673Z"
   },
   {
    "duration": 212,
    "start_time": "2022-08-15T17:28:31.785Z"
   },
   {
    "duration": 185,
    "start_time": "2022-08-15T17:28:31.998Z"
   },
   {
    "duration": 205,
    "start_time": "2022-08-15T17:28:32.184Z"
   },
   {
    "duration": 544,
    "start_time": "2022-08-15T17:28:32.391Z"
   },
   {
    "duration": 485,
    "start_time": "2022-08-15T17:28:32.939Z"
   },
   {
    "duration": 15,
    "start_time": "2022-08-15T17:28:33.426Z"
   },
   {
    "duration": 1110,
    "start_time": "2022-08-15T17:28:33.443Z"
   },
   {
    "duration": 220,
    "start_time": "2022-08-15T17:28:34.554Z"
   },
   {
    "duration": 16,
    "start_time": "2022-08-15T17:28:34.775Z"
   },
   {
    "duration": 6,
    "start_time": "2022-08-15T17:28:34.792Z"
   },
   {
    "duration": 5,
    "start_time": "2022-08-15T17:28:34.800Z"
   },
   {
    "duration": 8,
    "start_time": "2022-08-15T17:28:34.807Z"
   },
   {
    "duration": 3,
    "start_time": "2022-08-15T17:28:34.838Z"
   },
   {
    "duration": 27,
    "start_time": "2022-08-15T17:28:34.842Z"
   },
   {
    "duration": 17,
    "start_time": "2022-08-15T17:28:34.871Z"
   },
   {
    "duration": 7,
    "start_time": "2022-08-15T17:28:34.889Z"
   },
   {
    "duration": 17,
    "start_time": "2022-08-15T17:28:34.897Z"
   },
   {
    "duration": 11803,
    "start_time": "2022-08-15T17:28:34.916Z"
   },
   {
    "duration": 1145,
    "start_time": "2022-08-15T17:36:19.294Z"
   },
   {
    "duration": 1526,
    "start_time": "2022-08-15T17:36:20.441Z"
   },
   {
    "duration": 7,
    "start_time": "2022-08-15T17:36:21.969Z"
   },
   {
    "duration": 12,
    "start_time": "2022-08-15T17:36:21.977Z"
   },
   {
    "duration": 1334,
    "start_time": "2022-08-15T17:45:03.582Z"
   },
   {
    "duration": 672,
    "start_time": "2022-08-15T17:45:04.918Z"
   },
   {
    "duration": 22,
    "start_time": "2022-08-15T17:45:05.591Z"
   },
   {
    "duration": 29,
    "start_time": "2022-08-15T17:45:05.615Z"
   },
   {
    "duration": 17,
    "start_time": "2022-08-15T17:45:05.646Z"
   },
   {
    "duration": 3,
    "start_time": "2022-08-15T17:45:05.665Z"
   },
   {
    "duration": 14,
    "start_time": "2022-08-15T17:45:05.670Z"
   },
   {
    "duration": 13,
    "start_time": "2022-08-15T17:45:05.686Z"
   },
   {
    "duration": 16,
    "start_time": "2022-08-15T17:45:05.701Z"
   },
   {
    "duration": 14,
    "start_time": "2022-08-15T17:45:05.724Z"
   },
   {
    "duration": 15,
    "start_time": "2022-08-15T17:45:05.741Z"
   },
   {
    "duration": 6,
    "start_time": "2022-08-15T17:45:05.757Z"
   },
   {
    "duration": 120,
    "start_time": "2022-08-15T17:45:05.764Z"
   },
   {
    "duration": 23,
    "start_time": "2022-08-15T17:45:05.885Z"
   },
   {
    "duration": 104,
    "start_time": "2022-08-15T17:45:05.910Z"
   },
   {
    "duration": 226,
    "start_time": "2022-08-15T17:45:06.016Z"
   },
   {
    "duration": 187,
    "start_time": "2022-08-15T17:45:06.243Z"
   },
   {
    "duration": 200,
    "start_time": "2022-08-15T17:45:06.431Z"
   },
   {
    "duration": 491,
    "start_time": "2022-08-15T17:45:06.637Z"
   },
   {
    "duration": 418,
    "start_time": "2022-08-15T17:45:07.129Z"
   },
   {
    "duration": 14,
    "start_time": "2022-08-15T17:45:07.549Z"
   },
   {
    "duration": 1091,
    "start_time": "2022-08-15T17:45:07.564Z"
   },
   {
    "duration": 236,
    "start_time": "2022-08-15T17:45:08.657Z"
   },
   {
    "duration": 21,
    "start_time": "2022-08-15T17:45:08.895Z"
   },
   {
    "duration": 25,
    "start_time": "2022-08-15T17:45:08.918Z"
   },
   {
    "duration": 3,
    "start_time": "2022-08-15T17:45:08.944Z"
   },
   {
    "duration": 16,
    "start_time": "2022-08-15T17:45:08.949Z"
   },
   {
    "duration": 12,
    "start_time": "2022-08-15T17:45:08.969Z"
   },
   {
    "duration": 37,
    "start_time": "2022-08-15T17:45:08.983Z"
   },
   {
    "duration": 27,
    "start_time": "2022-08-15T17:45:09.022Z"
   },
   {
    "duration": 15,
    "start_time": "2022-08-15T17:45:09.051Z"
   },
   {
    "duration": 35,
    "start_time": "2022-08-15T17:45:09.068Z"
   },
   {
    "duration": 11905,
    "start_time": "2022-08-15T17:45:09.105Z"
   },
   {
    "duration": 53854,
    "start_time": "2022-08-15T17:45:21.012Z"
   },
   {
    "duration": 1273,
    "start_time": "2022-08-15T17:46:14.867Z"
   },
   {
    "duration": 1505,
    "start_time": "2022-08-15T17:46:16.143Z"
   },
   {
    "duration": 7,
    "start_time": "2022-08-15T17:46:17.650Z"
   },
   {
    "duration": 25,
    "start_time": "2022-08-15T17:46:17.658Z"
   },
   {
    "duration": 48,
    "start_time": "2022-08-15T18:17:01.805Z"
   },
   {
    "duration": 104,
    "start_time": "2022-08-15T18:20:39.466Z"
   },
   {
    "duration": 21,
    "start_time": "2022-08-15T18:20:55.046Z"
   },
   {
    "duration": 1204,
    "start_time": "2022-08-15T18:21:21.380Z"
   },
   {
    "duration": 661,
    "start_time": "2022-08-15T18:21:22.585Z"
   },
   {
    "duration": 19,
    "start_time": "2022-08-15T18:21:23.248Z"
   },
   {
    "duration": 16,
    "start_time": "2022-08-15T18:21:23.268Z"
   },
   {
    "duration": 15,
    "start_time": "2022-08-15T18:21:23.286Z"
   },
   {
    "duration": 4,
    "start_time": "2022-08-15T18:21:23.302Z"
   },
   {
    "duration": 5,
    "start_time": "2022-08-15T18:21:23.307Z"
   },
   {
    "duration": 35,
    "start_time": "2022-08-15T18:21:23.313Z"
   },
   {
    "duration": 4,
    "start_time": "2022-08-15T18:21:23.350Z"
   },
   {
    "duration": 9,
    "start_time": "2022-08-15T18:21:23.355Z"
   },
   {
    "duration": 7,
    "start_time": "2022-08-15T18:21:23.366Z"
   },
   {
    "duration": 5,
    "start_time": "2022-08-15T18:21:23.375Z"
   },
   {
    "duration": 118,
    "start_time": "2022-08-15T18:21:23.381Z"
   },
   {
    "duration": 22,
    "start_time": "2022-08-15T18:21:23.502Z"
   },
   {
    "duration": 86,
    "start_time": "2022-08-15T18:21:23.538Z"
   },
   {
    "duration": 219,
    "start_time": "2022-08-15T18:21:23.625Z"
   },
   {
    "duration": 181,
    "start_time": "2022-08-15T18:21:23.846Z"
   },
   {
    "duration": 189,
    "start_time": "2022-08-15T18:21:24.029Z"
   },
   {
    "duration": 506,
    "start_time": "2022-08-15T18:21:24.220Z"
   },
   {
    "duration": 404,
    "start_time": "2022-08-15T18:21:24.728Z"
   },
   {
    "duration": 15,
    "start_time": "2022-08-15T18:21:25.134Z"
   },
   {
    "duration": 987,
    "start_time": "2022-08-15T18:21:25.151Z"
   },
   {
    "duration": 238,
    "start_time": "2022-08-15T18:21:26.140Z"
   },
   {
    "duration": 15,
    "start_time": "2022-08-15T18:21:26.380Z"
   },
   {
    "duration": 5,
    "start_time": "2022-08-15T18:21:26.397Z"
   },
   {
    "duration": 7,
    "start_time": "2022-08-15T18:21:26.404Z"
   },
   {
    "duration": 7,
    "start_time": "2022-08-15T18:21:26.412Z"
   },
   {
    "duration": 8,
    "start_time": "2022-08-15T18:21:26.420Z"
   },
   {
    "duration": 27,
    "start_time": "2022-08-15T18:21:26.438Z"
   },
   {
    "duration": 16,
    "start_time": "2022-08-15T18:21:26.467Z"
   },
   {
    "duration": 7,
    "start_time": "2022-08-15T18:21:26.484Z"
   },
   {
    "duration": 17,
    "start_time": "2022-08-15T18:21:26.492Z"
   },
   {
    "duration": 12160,
    "start_time": "2022-08-15T18:21:26.511Z"
   },
   {
    "duration": 55139,
    "start_time": "2022-08-15T18:21:38.673Z"
   },
   {
    "duration": 1927,
    "start_time": "2022-08-15T18:22:33.813Z"
   },
   {
    "duration": 1556,
    "start_time": "2022-08-15T18:22:35.743Z"
   },
   {
    "duration": 7,
    "start_time": "2022-08-15T18:22:37.300Z"
   },
   {
    "duration": 8,
    "start_time": "2022-08-15T18:22:37.309Z"
   },
   {
    "duration": 4,
    "start_time": "2022-08-15T18:43:46.737Z"
   },
   {
    "duration": 73,
    "start_time": "2022-08-15T18:48:40.976Z"
   },
   {
    "duration": 51,
    "start_time": "2022-08-15T18:48:50.088Z"
   },
   {
    "duration": 5,
    "start_time": "2022-08-15T19:10:01.669Z"
   },
   {
    "duration": 61,
    "start_time": "2022-08-15T19:20:06.217Z"
   },
   {
    "duration": 93,
    "start_time": "2022-08-15T19:20:13.033Z"
   },
   {
    "duration": 2613,
    "start_time": "2022-08-15T21:08:43.282Z"
   },
   {
    "duration": 3703,
    "start_time": "2022-08-15T21:08:45.897Z"
   },
   {
    "duration": 19,
    "start_time": "2022-08-15T21:08:49.602Z"
   },
   {
    "duration": 71,
    "start_time": "2022-08-15T21:08:49.623Z"
   },
   {
    "duration": 18,
    "start_time": "2022-08-15T21:08:49.695Z"
   },
   {
    "duration": 4,
    "start_time": "2022-08-15T21:08:49.714Z"
   },
   {
    "duration": 66,
    "start_time": "2022-08-15T21:08:49.721Z"
   },
   {
    "duration": 11,
    "start_time": "2022-08-15T21:08:49.789Z"
   },
   {
    "duration": 6,
    "start_time": "2022-08-15T21:08:49.801Z"
   },
   {
    "duration": 6,
    "start_time": "2022-08-15T21:08:49.810Z"
   },
   {
    "duration": 71,
    "start_time": "2022-08-15T21:08:49.817Z"
   },
   {
    "duration": 3,
    "start_time": "2022-08-15T21:08:49.890Z"
   },
   {
    "duration": 199,
    "start_time": "2022-08-15T21:08:49.895Z"
   },
   {
    "duration": 23,
    "start_time": "2022-08-15T21:08:50.096Z"
   },
   {
    "duration": 211,
    "start_time": "2022-08-15T21:08:50.120Z"
   },
   {
    "duration": 421,
    "start_time": "2022-08-15T21:08:50.387Z"
   },
   {
    "duration": 579,
    "start_time": "2022-08-15T21:08:50.810Z"
   },
   {
    "duration": 403,
    "start_time": "2022-08-15T21:08:51.390Z"
   },
   {
    "duration": 634,
    "start_time": "2022-08-15T21:08:51.795Z"
   },
   {
    "duration": 682,
    "start_time": "2022-08-15T21:08:52.430Z"
   },
   {
    "duration": 13,
    "start_time": "2022-08-15T21:08:53.114Z"
   },
   {
    "duration": 1569,
    "start_time": "2022-08-15T21:08:53.128Z"
   },
   {
    "duration": 491,
    "start_time": "2022-08-15T21:08:54.699Z"
   },
   {
    "duration": 13,
    "start_time": "2022-08-15T21:08:55.192Z"
   },
   {
    "duration": 83,
    "start_time": "2022-08-15T21:08:55.207Z"
   },
   {
    "duration": 1602,
    "start_time": "2022-08-15T21:08:55.292Z"
   },
   {
    "duration": 6,
    "start_time": "2022-08-15T21:08:56.896Z"
   },
   {
    "duration": 6,
    "start_time": "2022-08-15T21:08:56.905Z"
   },
   {
    "duration": 7,
    "start_time": "2022-08-15T21:08:56.912Z"
   },
   {
    "duration": 5,
    "start_time": "2022-08-15T21:08:56.920Z"
   },
   {
    "duration": 82,
    "start_time": "2022-08-15T21:08:56.927Z"
   },
   {
    "duration": 17,
    "start_time": "2022-08-15T21:08:57.010Z"
   },
   {
    "duration": 9,
    "start_time": "2022-08-15T21:08:57.086Z"
   },
   {
    "duration": 25,
    "start_time": "2022-08-15T21:08:57.097Z"
   },
   {
    "duration": 20403,
    "start_time": "2022-08-15T21:08:57.124Z"
   },
   {
    "duration": 80982,
    "start_time": "2022-08-15T21:09:17.528Z"
   },
   {
    "duration": 880,
    "start_time": "2022-08-15T21:10:38.512Z"
   },
   {
    "duration": 2236,
    "start_time": "2022-08-15T21:10:39.395Z"
   },
   {
    "duration": 6,
    "start_time": "2022-08-15T21:10:41.633Z"
   },
   {
    "duration": 8,
    "start_time": "2022-08-15T21:10:41.687Z"
   },
   {
    "duration": 16,
    "start_time": "2022-08-15T21:10:41.696Z"
   },
   {
    "duration": 2538,
    "start_time": "2022-08-15T21:12:37.989Z"
   },
   {
    "duration": 1113,
    "start_time": "2022-08-15T21:12:40.529Z"
   },
   {
    "duration": 20,
    "start_time": "2022-08-15T21:12:41.644Z"
   },
   {
    "duration": 26,
    "start_time": "2022-08-15T21:12:41.666Z"
   },
   {
    "duration": 16,
    "start_time": "2022-08-15T21:12:41.694Z"
   },
   {
    "duration": 4,
    "start_time": "2022-08-15T21:12:41.711Z"
   },
   {
    "duration": 5,
    "start_time": "2022-08-15T21:12:41.717Z"
   },
   {
    "duration": 11,
    "start_time": "2022-08-15T21:12:41.723Z"
   },
   {
    "duration": 6,
    "start_time": "2022-08-15T21:12:41.735Z"
   },
   {
    "duration": 7,
    "start_time": "2022-08-15T21:12:41.743Z"
   },
   {
    "duration": 37,
    "start_time": "2022-08-15T21:12:41.751Z"
   },
   {
    "duration": 4,
    "start_time": "2022-08-15T21:12:41.790Z"
   },
   {
    "duration": 73,
    "start_time": "2022-08-15T21:12:41.795Z"
   },
   {
    "duration": 25,
    "start_time": "2022-08-15T21:12:41.887Z"
   },
   {
    "duration": 279,
    "start_time": "2022-08-15T21:12:41.914Z"
   },
   {
    "duration": 428,
    "start_time": "2022-08-15T21:12:42.195Z"
   },
   {
    "duration": 602,
    "start_time": "2022-08-15T21:12:42.686Z"
   },
   {
    "duration": 402,
    "start_time": "2022-08-15T21:12:43.290Z"
   },
   {
    "duration": 707,
    "start_time": "2022-08-15T21:12:43.693Z"
   },
   {
    "duration": 722,
    "start_time": "2022-08-15T21:12:44.402Z"
   },
   {
    "duration": 69,
    "start_time": "2022-08-15T21:12:45.126Z"
   },
   {
    "duration": 1535,
    "start_time": "2022-08-15T21:12:45.197Z"
   },
   {
    "duration": 428,
    "start_time": "2022-08-15T21:12:46.786Z"
   },
   {
    "duration": 75,
    "start_time": "2022-08-15T21:12:47.216Z"
   },
   {
    "duration": 32,
    "start_time": "2022-08-15T21:12:47.293Z"
   },
   {
    "duration": 1606,
    "start_time": "2022-08-15T21:12:47.327Z"
   },
   {
    "duration": 56,
    "start_time": "2022-08-15T21:12:48.934Z"
   },
   {
    "duration": 10,
    "start_time": "2022-08-15T21:12:48.994Z"
   },
   {
    "duration": 11,
    "start_time": "2022-08-15T21:12:49.005Z"
   },
   {
    "duration": 5,
    "start_time": "2022-08-15T21:12:49.018Z"
   },
   {
    "duration": 80,
    "start_time": "2022-08-15T21:12:49.025Z"
   },
   {
    "duration": 16,
    "start_time": "2022-08-15T21:12:49.108Z"
   },
   {
    "duration": 66,
    "start_time": "2022-08-15T21:12:49.126Z"
   },
   {
    "duration": 21,
    "start_time": "2022-08-15T21:12:49.193Z"
   },
   {
    "duration": 16272,
    "start_time": "2022-08-15T21:12:49.215Z"
   },
   {
    "duration": 129099,
    "start_time": "2022-08-15T21:13:05.488Z"
   },
   {
    "duration": 0,
    "start_time": "2022-08-15T21:15:14.590Z"
   },
   {
    "duration": 0,
    "start_time": "2022-08-15T21:15:14.591Z"
   },
   {
    "duration": 0,
    "start_time": "2022-08-15T21:15:14.592Z"
   },
   {
    "duration": 0,
    "start_time": "2022-08-15T21:15:14.593Z"
   },
   {
    "duration": 1,
    "start_time": "2022-08-15T21:15:14.594Z"
   },
   {
    "duration": 4,
    "start_time": "2022-08-15T21:15:24.255Z"
   },
   {
    "duration": 3,
    "start_time": "2022-08-15T21:15:32.995Z"
   },
   {
    "duration": 6,
    "start_time": "2022-08-15T21:15:36.288Z"
   },
   {
    "duration": 2641,
    "start_time": "2022-08-15T21:16:23.158Z"
   },
   {
    "duration": 1586,
    "start_time": "2022-08-15T21:16:25.801Z"
   },
   {
    "duration": 22,
    "start_time": "2022-08-15T21:16:27.389Z"
   },
   {
    "duration": 16,
    "start_time": "2022-08-15T21:16:27.413Z"
   },
   {
    "duration": 17,
    "start_time": "2022-08-15T21:16:27.488Z"
   },
   {
    "duration": 4,
    "start_time": "2022-08-15T21:16:27.506Z"
   },
   {
    "duration": 10,
    "start_time": "2022-08-15T21:16:27.512Z"
   },
   {
    "duration": 68,
    "start_time": "2022-08-15T21:16:27.524Z"
   },
   {
    "duration": 7,
    "start_time": "2022-08-15T21:16:27.594Z"
   },
   {
    "duration": 13,
    "start_time": "2022-08-15T21:16:27.604Z"
   },
   {
    "duration": 15,
    "start_time": "2022-08-15T21:16:27.619Z"
   },
   {
    "duration": 51,
    "start_time": "2022-08-15T21:16:27.636Z"
   },
   {
    "duration": 121,
    "start_time": "2022-08-15T21:16:27.688Z"
   },
   {
    "duration": 76,
    "start_time": "2022-08-15T21:16:27.811Z"
   },
   {
    "duration": 209,
    "start_time": "2022-08-15T21:16:27.889Z"
   },
   {
    "duration": 403,
    "start_time": "2022-08-15T21:16:28.100Z"
   },
   {
    "duration": 526,
    "start_time": "2022-08-15T21:16:28.505Z"
   },
   {
    "duration": 415,
    "start_time": "2022-08-15T21:16:29.032Z"
   },
   {
    "duration": 466,
    "start_time": "2022-08-15T21:16:29.448Z"
   },
   {
    "duration": 397,
    "start_time": "2022-08-15T21:16:29.916Z"
   },
   {
    "duration": 13,
    "start_time": "2022-08-15T21:16:30.315Z"
   },
   {
    "duration": 1558,
    "start_time": "2022-08-15T21:16:30.330Z"
   },
   {
    "duration": 431,
    "start_time": "2022-08-15T21:16:31.889Z"
   },
   {
    "duration": 68,
    "start_time": "2022-08-15T21:16:32.322Z"
   },
   {
    "duration": 32,
    "start_time": "2022-08-15T21:16:32.392Z"
   },
   {
    "duration": 1206,
    "start_time": "2022-08-15T21:16:32.426Z"
   },
   {
    "duration": 57,
    "start_time": "2022-08-15T21:16:33.633Z"
   },
   {
    "duration": 7,
    "start_time": "2022-08-15T21:16:33.694Z"
   },
   {
    "duration": 16,
    "start_time": "2022-08-15T21:16:33.702Z"
   },
   {
    "duration": 12,
    "start_time": "2022-08-15T21:16:33.720Z"
   },
   {
    "duration": 72,
    "start_time": "2022-08-15T21:16:33.734Z"
   },
   {
    "duration": 18,
    "start_time": "2022-08-15T21:16:33.807Z"
   },
   {
    "duration": 66,
    "start_time": "2022-08-15T21:16:33.826Z"
   },
   {
    "duration": 22,
    "start_time": "2022-08-15T21:16:33.894Z"
   },
   {
    "duration": 11669,
    "start_time": "2022-08-15T21:16:33.918Z"
   },
   {
    "duration": 14941,
    "start_time": "2022-08-15T21:16:45.589Z"
   },
   {
    "duration": 0,
    "start_time": "2022-08-15T21:17:00.533Z"
   },
   {
    "duration": 1,
    "start_time": "2022-08-15T21:17:00.586Z"
   },
   {
    "duration": 0,
    "start_time": "2022-08-15T21:17:00.588Z"
   },
   {
    "duration": 0,
    "start_time": "2022-08-15T21:17:00.589Z"
   },
   {
    "duration": 0,
    "start_time": "2022-08-15T21:17:00.591Z"
   },
   {
    "duration": 0,
    "start_time": "2022-08-15T21:17:00.593Z"
   },
   {
    "duration": 419,
    "start_time": "2022-08-15T21:17:12.692Z"
   },
   {
    "duration": 56,
    "start_time": "2022-08-15T21:17:51.537Z"
   },
   {
    "duration": 115,
    "start_time": "2022-08-15T21:18:17.217Z"
   },
   {
    "duration": 1281,
    "start_time": "2022-08-15T21:18:26.712Z"
   },
   {
    "duration": 2670,
    "start_time": "2022-08-15T21:18:39.248Z"
   },
   {
    "duration": 1492,
    "start_time": "2022-08-15T21:18:41.920Z"
   },
   {
    "duration": 78,
    "start_time": "2022-08-15T21:18:43.414Z"
   },
   {
    "duration": 25,
    "start_time": "2022-08-15T21:18:43.494Z"
   },
   {
    "duration": 82,
    "start_time": "2022-08-15T21:18:43.521Z"
   },
   {
    "duration": 4,
    "start_time": "2022-08-15T21:18:43.606Z"
   },
   {
    "duration": 9,
    "start_time": "2022-08-15T21:18:43.612Z"
   },
   {
    "duration": 68,
    "start_time": "2022-08-15T21:18:43.623Z"
   },
   {
    "duration": 5,
    "start_time": "2022-08-15T21:18:43.692Z"
   },
   {
    "duration": 8,
    "start_time": "2022-08-15T21:18:43.700Z"
   },
   {
    "duration": 9,
    "start_time": "2022-08-15T21:18:43.709Z"
   },
   {
    "duration": 67,
    "start_time": "2022-08-15T21:18:43.720Z"
   },
   {
    "duration": 126,
    "start_time": "2022-08-15T21:18:43.789Z"
   },
   {
    "duration": 78,
    "start_time": "2022-08-15T21:18:43.917Z"
   },
   {
    "duration": 201,
    "start_time": "2022-08-15T21:18:43.997Z"
   },
   {
    "duration": 432,
    "start_time": "2022-08-15T21:18:44.200Z"
   },
   {
    "duration": 528,
    "start_time": "2022-08-15T21:18:44.687Z"
   },
   {
    "duration": 417,
    "start_time": "2022-08-15T21:18:45.217Z"
   },
   {
    "duration": 707,
    "start_time": "2022-08-15T21:18:45.686Z"
   },
   {
    "duration": 796,
    "start_time": "2022-08-15T21:18:46.394Z"
   },
   {
    "duration": 19,
    "start_time": "2022-08-15T21:18:47.192Z"
   },
   {
    "duration": 1674,
    "start_time": "2022-08-15T21:18:47.213Z"
   },
   {
    "duration": 422,
    "start_time": "2022-08-15T21:18:48.889Z"
   },
   {
    "duration": 14,
    "start_time": "2022-08-15T21:18:49.313Z"
   },
   {
    "duration": 89,
    "start_time": "2022-08-15T21:18:49.328Z"
   },
   {
    "duration": 1302,
    "start_time": "2022-08-15T21:18:49.419Z"
   },
   {
    "duration": 401,
    "start_time": "2022-08-15T21:18:50.723Z"
   },
   {
    "duration": 64,
    "start_time": "2022-08-15T21:18:51.128Z"
   },
   {
    "duration": 5,
    "start_time": "2022-08-15T21:18:51.194Z"
   },
   {
    "duration": 6,
    "start_time": "2022-08-15T21:18:51.201Z"
   },
   {
    "duration": 13,
    "start_time": "2022-08-15T21:18:51.208Z"
   },
   {
    "duration": 65,
    "start_time": "2022-08-15T21:18:51.222Z"
   },
   {
    "duration": 24,
    "start_time": "2022-08-15T21:18:51.289Z"
   },
   {
    "duration": 74,
    "start_time": "2022-08-15T21:18:51.315Z"
   },
   {
    "duration": 8,
    "start_time": "2022-08-15T21:18:51.390Z"
   },
   {
    "duration": 18,
    "start_time": "2022-08-15T21:18:51.399Z"
   },
   {
    "duration": 11007,
    "start_time": "2022-08-15T21:18:51.419Z"
   },
   {
    "duration": 6125005,
    "start_time": "2022-08-15T21:19:02.428Z"
   },
   {
    "duration": 1054,
    "start_time": "2022-08-15T23:01:07.434Z"
   },
   {
    "duration": 6,
    "start_time": "2022-08-15T23:01:08.490Z"
   },
   {
    "duration": 2905,
    "start_time": "2022-08-15T23:01:08.498Z"
   },
   {
    "duration": 7,
    "start_time": "2022-08-15T23:01:11.405Z"
   },
   {
    "duration": 7,
    "start_time": "2022-08-15T23:01:11.414Z"
   },
   {
    "duration": 66,
    "start_time": "2022-08-15T23:01:11.422Z"
   },
   {
    "duration": 13153,
    "start_time": "2022-08-15T23:35:54.339Z"
   }
  ],
  "kernelspec": {
   "display_name": "Python 3 (ipykernel)",
   "language": "python",
   "name": "python3"
  },
  "language_info": {
   "codemirror_mode": {
    "name": "ipython",
    "version": 3
   },
   "file_extension": ".py",
   "mimetype": "text/x-python",
   "name": "python",
   "nbconvert_exporter": "python",
   "pygments_lexer": "ipython3",
   "version": "3.9.7"
  },
  "toc": {
   "base_numbering": 1,
   "nav_menu": {},
   "number_sections": true,
   "sideBar": true,
   "skip_h1_title": true,
   "title_cell": "Содержание",
   "title_sidebar": "Contents",
   "toc_cell": true,
   "toc_position": {
    "height": "calc(100% - 180px)",
    "left": "10px",
    "top": "150px",
    "width": "165px"
   },
   "toc_section_display": true,
   "toc_window_display": true
  }
 },
 "nbformat": 4,
 "nbformat_minor": 2
}
